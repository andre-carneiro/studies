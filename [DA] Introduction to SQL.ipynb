{
 "cells": [
  {
   "cell_type": "markdown",
   "id": "2570ebf6",
   "metadata": {},
   "source": [
    "# Introduction to SQL\n",
    "Nick Carchedi"
   ]
  },
  {
   "cell_type": "markdown",
   "id": "9a452774",
   "metadata": {},
   "source": [
    "## Selecting columns "
   ]
  },
  {
   "attachments": {
    "image.png": {
     "image/png": "[encoded data removed]"
    }
   },
   "cell_type": "markdown",
   "id": "5776b036",
   "metadata": {},
   "source": [
    "Now that you're familiar with the interface, let's get straight into it.\n",
    "\n",
    "SQL, which stands for Structured Query Language, is a language for interacting with data stored in something called a relational database.\n",
    "\n",
    "You can think of a relational database as a collection of tables. A table is just a set of rows and columns, like a spreadsheet, which represents exactly one type of entity. For example, a table might represent employees in a company or purchases made, but not both.\n",
    "\n",
    "Each row, or record, of a table contains information about a single entity. For example, in a table representing employees, each row represents a single person. Each column, or field, of a table contains a single attribute for all rows in the table. For example, in a table representing employees, we might have a column containing first and last names for all employees.\n",
    "\n",
    "The table of employees might look something like this:\n",
    "![image.png](attachment:image.png)"
   ]
  },
  {
   "cell_type": "markdown",
   "id": "cc971a41",
   "metadata": {},
   "source": [
    "### SELECT FROM "
   ]
  },
  {
   "cell_type": "markdown",
   "id": "17852bae",
   "metadata": {},
   "source": [
    "SELECTing single columns\n",
    "\n",
    "While SQL can be used to create and modify databases, the focus of this course will be querying databases. A query is a request for data from a database table (or combination of tables). Querying is an essential skill for a data scientist, since the data you need for your analyses will often live in databases.\n",
    "\n",
    "In SQL, you can select data from a table using a SELECT statement. For example, the following query selects the name column from the people table:\n",
    "\n",
    "- SELECT name\n",
    "- FROM people;\n",
    "\n",
    "In this query, SELECT and FROM are called keywords. In SQL, keywords are not case-sensitive, which means you can write the same query as:\n",
    "\n",
    "- select name\n",
    "- from people;\n",
    "\n",
    "That said, it's good practice to make SQL keywords uppercase to distinguish them from other parts of your query, like column and table names.\n",
    "\n",
    "It's also good practice (but not necessary for the exercises in this course) to include a semicolon at the end of your query. This tells SQL where the end of your query is!\n",
    "\n",
    "Remember, you can see the results of executing your query in the query tab!"
   ]
  },
  {
   "cell_type": "code",
   "execution_count": null,
   "id": "a78a4b4c",
   "metadata": {},
   "outputs": [],
   "source": [
    "#Example\n",
    "SELECT title\n",
    "FROM films;\n",
    "\n",
    "SELECT release_year FROM films;\n",
    "\n",
    "SELECT name\n",
    "FROM people"
   ]
  },
  {
   "cell_type": "markdown",
   "id": "acf0a81d",
   "metadata": {},
   "source": [
    "### SELECT multiple columns "
   ]
  },
  {
   "cell_type": "markdown",
   "id": "5284ca35",
   "metadata": {},
   "source": [
    "SELECTing multiple columns\n",
    "\n",
    "Well done! Now you know how to select single columns.\n",
    "\n",
    "In the real world, you will often want to select multiple columns. Luckily, SQL makes this really easy. To select multiple columns from a table, simply separate the column names with commas!\n",
    "\n",
    "For example, this query selects two columns, name and birthdate, from the people table:\n",
    "\n",
    "- SELECT name, birthdate\n",
    "- FROM people;\n",
    "\n",
    "Sometimes, you may want to select all columns from a table. Typing out every column name would be a pain, so there's a handy shortcut:\n",
    "\n",
    "- SELECT *\n",
    "- FROM people;\n",
    "\n",
    "If you only want to return a certain number of results, you can use the LIMIT keyword to limit the number of rows returned:\n",
    "\n",
    "- SELECT *\n",
    "- FROM people\n",
    "- LIMIT 10;\n",
    "\n",
    "Before getting started with the instructions below, check out the column names in the films table!"
   ]
  },
  {
   "cell_type": "code",
   "execution_count": null,
   "id": "b565f046",
   "metadata": {
    "ExecuteTime": {
     "end_time": "2022-04-13T00:23:14.181721Z",
     "start_time": "2022-04-13T00:23:14.171650Z"
    }
   },
   "outputs": [],
   "source": [
    "#Example\n",
    "SELECT title, release_year, country\n",
    "FROM films;\n",
    "\n",
    "SELECT *\n",
    "FROM films;"
   ]
  },
  {
   "cell_type": "markdown",
   "id": "24502d65",
   "metadata": {},
   "source": [
    "### SELECT DISTINCT "
   ]
  },
  {
   "cell_type": "markdown",
   "id": "a32c6827",
   "metadata": {},
   "source": [
    "SELECT DISTINCT\n",
    "\n",
    "Often your results will include many duplicate values. If you want to select all the unique values from a column, you can use the DISTINCT keyword.\n",
    "\n",
    "This might be useful if, for example, you're interested in knowing which languages are represented in the films table:\n",
    "\n",
    "- SELECT DISTINCT language\n",
    "- FROM films;\n",
    "\n",
    "Remember, you can check out the data in the tables by clicking on the table name!"
   ]
  },
  {
   "cell_type": "code",
   "execution_count": null,
   "id": "7cb4df41",
   "metadata": {},
   "outputs": [],
   "source": [
    "#Example\n",
    "SELECT DISTINCT country FROM films;\n",
    "\n",
    "SELECT DISTINCT certification FROM films;\n",
    "\n",
    "SELECT DISTINCT role FROM roles"
   ]
  },
  {
   "cell_type": "markdown",
   "id": "e7fba3fc",
   "metadata": {},
   "source": [
    "### SELECT COUNT "
   ]
  },
  {
   "cell_type": "markdown",
   "id": "926dcb79",
   "metadata": {},
   "source": [
    "Learning to COUNT\n",
    "\n",
    "What if you want to count the number of employees in your employees table? The COUNT() function lets you do this by returning the number of rows in one or more columns.\n",
    "\n",
    "For example, this code gives the number of rows in the people table:\n",
    "\n",
    "- SELECT COUNT(*)\n",
    "- FROM people;"
   ]
  },
  {
   "cell_type": "code",
   "execution_count": null,
   "id": "1ea0399c",
   "metadata": {},
   "outputs": [],
   "source": [
    "#Example\n",
    "SELECT COUNT(*) FROM reviews;"
   ]
  },
  {
   "cell_type": "markdown",
   "id": "8a4955e4",
   "metadata": {},
   "source": [
    "### SELECT COUNT DISTINCT "
   ]
  },
  {
   "cell_type": "markdown",
   "id": "2dcb5ea9",
   "metadata": {},
   "source": [
    "Practice with COUNT\n",
    "\n",
    "As you've seen, COUNT(*) tells you how many rows are in a table. However, if you want to count the number of non-missing values in a particular column, you can call COUNT() on just that column.\n",
    "\n",
    "For example, to count the number of birth dates present in the people table:\n",
    "\n",
    "- SELECT COUNT(birthdate)\n",
    "- FROM people;\n",
    "\n",
    "It's also common to combine COUNT() with DISTINCT to count the number of distinct values in a column.\n",
    "\n",
    "For example, this query counts the number of distinct birth dates contained in the people table:\n",
    "\n",
    "- SELECT COUNT(DISTINCT birthdate)\n",
    "- FROM people;\n",
    "\n",
    "Let's get some practice with COUNT()!"
   ]
  },
  {
   "cell_type": "code",
   "execution_count": null,
   "id": "36065089",
   "metadata": {},
   "outputs": [],
   "source": [
    "#Example\n",
    "SELECT COUNT(*) FROM people;\n",
    "\n",
    "SELECT COUNT(birthdate)\n",
    "FROM people;\n",
    "\n",
    "SELECT COUNT(DISTINCT birthdate)\n",
    "FROM people;\n",
    "\n",
    "SELECT COUNT(DISTINCT language) FROM films\n",
    "\n",
    "SELECT COUNT(DISTINCT country) FROM films"
   ]
  },
  {
   "cell_type": "markdown",
   "id": "6e3d37fd",
   "metadata": {},
   "source": [
    "## FIltering rows "
   ]
  },
  {
   "cell_type": "markdown",
   "id": "c669df98",
   "metadata": {},
   "source": [
    "### WHERE "
   ]
  },
  {
   "cell_type": "markdown",
   "id": "e9f24edf",
   "metadata": {},
   "source": [
    "Filtering results\n",
    "\n",
    "Congrats on finishing the first chapter! You now know how to select columns and perform basic counts. This chapter will focus on filtering your results.\n",
    "\n",
    "In SQL, the WHERE keyword allows you to filter based on both text and numeric values in a table. There are a few different comparison operators you can use:\n",
    "\n",
    "- = equal\n",
    "- <> not equal\n",
    "- $<$ less than\n",
    "- $>$ greater than\n",
    "- $<=$ less than or equal to\n",
    "- $>=$ greater than or equal to\n",
    "\n",
    "For example, you can filter text records such as title. The following code returns all films with the title 'Metropolis':\n",
    "\n",
    "- SELECT title\n",
    "- FROM films\n",
    "- WHERE title = 'Metropolis';\n",
    "\n",
    "Notice that the WHERE clause always comes after the FROM statement!\n",
    "\n",
    "Note that in this course we will use <> and not != for the not equal operator, as per the SQL standard.\n",
    "\n",
    "What does the following query return?\n",
    "- SELECT title\n",
    "- FROM films\n",
    "- WHERE release_year > 2000;"
   ]
  },
  {
   "cell_type": "markdown",
   "id": "3d81ce41",
   "metadata": {},
   "source": [
    "### WHERE (numeric) "
   ]
  },
  {
   "cell_type": "markdown",
   "id": "cffd1735",
   "metadata": {},
   "source": [
    "Simple filtering of numeric values\n",
    "\n",
    "As you learned in the previous exercise, the WHERE clause can also be used to filter numeric records, such as years or ages.\n",
    "\n",
    "For example, the following query selects all details for films with a budget over ten thousand dollars:\n",
    "\n",
    "- SELECT *\n",
    "- FROM films\n",
    "- WHERE budget > 10000;\n",
    "\n",
    "Now it's your turn to use the WHERE clause to filter numeric values!"
   ]
  },
  {
   "cell_type": "code",
   "execution_count": null,
   "id": "6f74e81e",
   "metadata": {},
   "outputs": [],
   "source": [
    "#Example\n",
    "SELECT * \n",
    "FROM films \n",
    "WHERE release_year = 2016;\n",
    "\n",
    "SELECT COUNT(*) \n",
    "FROM films \n",
    "WHERE release_year < 2000;\n",
    "\n",
    "SELECT title, release_year \n",
    "FROM films \n",
    "WHERE release_year > 2000;"
   ]
  },
  {
   "cell_type": "markdown",
   "id": "809e858a",
   "metadata": {},
   "source": [
    "### WHERE (text) "
   ]
  },
  {
   "cell_type": "markdown",
   "id": "8964fcd6",
   "metadata": {},
   "source": [
    "Simple filtering of text\n",
    "\n",
    "Remember, the WHERE clause can also be used to filter text results, such as names or countries.\n",
    "\n",
    "For example, this query gets the titles of all films which were filmed in China:\n",
    "\n",
    "- SELECT title\n",
    "- FROM films\n",
    "- WHERE country = 'China';\n",
    "\n",
    "Now it's your turn to practice using WHERE with text values!\n",
    "\n",
    "Important: in PostgreSQL (the version of SQL we're using), you must use single quotes with WHERE."
   ]
  },
  {
   "cell_type": "code",
   "execution_count": null,
   "id": "a1157871",
   "metadata": {},
   "outputs": [],
   "source": [
    "#Example\n",
    "SELECT * \n",
    "FROM films \n",
    "WHERE language = 'French';\n",
    "\n",
    "SELECT name, birthdate \n",
    "FROM people \n",
    "WHERE birthdate = '1974-11-11';\n",
    "\n",
    "SELECT COUNT(*) \n",
    "FROM films \n",
    "WHERE language = 'Hindi';\n",
    "\n",
    "SELECT * \n",
    "FROM films \n",
    "WHERE certification = 'R';"
   ]
  },
  {
   "cell_type": "markdown",
   "id": "04b72fe3",
   "metadata": {},
   "source": [
    "### WHERE AND "
   ]
  },
  {
   "cell_type": "markdown",
   "id": "ec8e9aef",
   "metadata": {},
   "source": [
    "WHERE AND\n",
    "\n",
    "Often, you'll want to select data based on multiple conditions. You can build up your WHERE queries by combining multiple conditions with the AND keyword.\n",
    "\n",
    "For example,\n",
    "\n",
    "- SELECT title\n",
    "- FROM films\n",
    "- WHERE release_year > 1994\n",
    "- AND release_year < 2000;\n",
    "\n",
    "gives you the titles of films released between 1994 and 2000.\n",
    "\n",
    "Note that you need to specify the column name separately for every AND condition, so the following would be invalid:\n",
    "\n",
    "- SELECT title\n",
    "- FROM films\n",
    "- WHERE release_year > 1994 AND < 2000;\n",
    "\n",
    "You can add as many AND conditions as you need!"
   ]
  },
  {
   "cell_type": "code",
   "execution_count": null,
   "id": "37d971a4",
   "metadata": {},
   "outputs": [],
   "source": [
    "#Example\n",
    "SELECT title, release_year \n",
    "FROM films\n",
    "WHERE language = 'Spanish'\n",
    "AND release_year < 2000;\n",
    "\n",
    "SELECT *\n",
    "FROM films\n",
    "WHERE language = 'Spanish'\n",
    "AND release_year > 2000;\n",
    "\n",
    "SELECT *\n",
    "FROM films\n",
    "WHERE language = 'Spanish'\n",
    "AND release_year > 2000\n",
    "AND release_year < 2010;"
   ]
  },
  {
   "cell_type": "markdown",
   "id": "ca0047a7",
   "metadata": {},
   "source": [
    "### WHERE AND OR "
   ]
  },
  {
   "cell_type": "markdown",
   "id": "6a66fe04",
   "metadata": {},
   "source": [
    "WHERE AND OR\n",
    "\n",
    "What if you want to select rows based on multiple conditions where some but not all of the conditions need to be met? For this, SQL has the OR operator.\n",
    "\n",
    "For example, the following returns all films released in either 1994 or 2000:\n",
    "\n",
    "- SELECT title\n",
    "- FROM films\n",
    "- WHERE release_year = 1994\n",
    "- OR release_year = 2000;\n",
    "\n",
    "Note that you need to specify the column for every OR condition, so the following is invalid:\n",
    "\n",
    "- SELECT title\n",
    "- FROM films\n",
    "- WHERE release_year = 1994 OR 2000;\n",
    "\n",
    "When combining AND and OR, be sure to enclose the individual clauses in parentheses, like so:\n",
    "\n",
    "- SELECT title\n",
    "- FROM films\n",
    "- WHERE (release_year = 1994 OR release_year = 1995)\n",
    "- AND (certification = 'PG' OR certification = 'R');\n",
    "\n",
    "Otherwise, due to SQL's precedence rules, you may not get the results you're expecting!"
   ]
  },
  {
   "cell_type": "markdown",
   "id": "457a4cb6",
   "metadata": {},
   "source": [
    "You now know how to select rows that meet some but not all conditions by combining AND and OR.\n",
    "\n",
    "For example, the following query selects all films that were released in 1994 or 1995 which had a rating of PG or R.\n",
    "\n",
    "- SELECT title\n",
    "- FROM films\n",
    "- WHERE (release_year = 1994 OR release_year = 1995)\n",
    "- AND (certification = 'PG' OR certification = 'R');\n",
    "\n",
    "Now you'll write a query to get the title and release year of films released in the 90s which were in French or Spanish and which took in more than $2M gross.\n",
    "\n",
    "It looks like a lot, but you can build the query up one step at a time to get comfortable with the underlying concept in each step. Let's go!"
   ]
  },
  {
   "cell_type": "code",
   "execution_count": null,
   "id": "535e9f79",
   "metadata": {},
   "outputs": [],
   "source": [
    "#Example\n",
    "SELECT title, release_year\n",
    "FROM films\n",
    "WHERE (release_year >= 1990 AND release_year < 2000)\n",
    "AND (language = 'French' OR language = 'Spanish')\n",
    "AND gross > 2000000;"
   ]
  },
  {
   "cell_type": "markdown",
   "id": "ca59ae38",
   "metadata": {},
   "source": [
    "### BETWEEN "
   ]
  },
  {
   "cell_type": "markdown",
   "id": "b2f19362",
   "metadata": {},
   "source": [
    "BETWEEN\n",
    "\n",
    "As you've learned, you can use the following query to get titles of all films released in and between 1994 and 2000:\n",
    "\n",
    "- SELECT title\n",
    "- FROM films\n",
    "- WHERE release_year >= 1994\n",
    "- AND release_year <= 2000;\n",
    "\n",
    "Checking for ranges like this is very common, so in SQL the BETWEEN keyword provides a useful shorthand for filtering values within a specified range. This query is equivalent to the one above:\n",
    "\n",
    "- SELECT title\n",
    "- FROM films\n",
    "- WHERE release_year\n",
    "- BETWEEN 1994 AND 2000;\n",
    "\n",
    "It's important to remember that BETWEEN is **inclusive**, meaning the beginning and end values are included in the results!"
   ]
  },
  {
   "cell_type": "markdown",
   "id": "f68c1e12",
   "metadata": {},
   "source": [
    "Similar to the WHERE clause, the BETWEEN clause can be used with multiple AND and OR operators, so you can build up your queries and make them even more powerful!\n",
    "\n",
    "For example, suppose we have a table called kids. We can get the names of all kids between the ages of 2 and 12 from the United States:\n",
    "\n",
    "- SELECT name\n",
    "- FROM kids\n",
    "- WHERE age BETWEEN 2 AND 12\n",
    "- AND nationality = 'USA';\n",
    "\n",
    "Take a go at using BETWEEN with AND on the films data to get the title and release year of all Spanish language films released between 1990 and 2000 (inclusive) with budgets over $100 million. We have broken the problem into smaller steps so that you can build the query as you go along!"
   ]
  },
  {
   "cell_type": "code",
   "execution_count": null,
   "id": "750f9b1b",
   "metadata": {},
   "outputs": [],
   "source": [
    "#Example\n",
    "SELECT title, release_year\n",
    "FROM films\n",
    "WHERE release_year BETWEEN 1990 AND 2000\n",
    "AND budget > 100000000\n",
    "AND (language = 'Spanish' OR language = 'French');"
   ]
  },
  {
   "cell_type": "markdown",
   "id": "e46ee35c",
   "metadata": {},
   "source": [
    "### WHERE IN "
   ]
  },
  {
   "cell_type": "markdown",
   "id": "31824576",
   "metadata": {},
   "source": [
    "WHERE IN\n",
    "\n",
    "As you've seen, WHERE is very useful for filtering results. However, if you want to filter based on many conditions, WHERE can get unwieldy. For example:\n",
    "\n",
    "- SELECT name\n",
    "- FROM kids\n",
    "- WHERE age = 2\n",
    "- OR age = 4\n",
    "- OR age = 6\n",
    "- OR age = 8\n",
    "- OR age = 10;\n",
    "\n",
    "Enter the IN operator! The IN operator allows you to specify multiple values in a WHERE clause, making it easier and quicker to specify multiple OR conditions! Neat, right?\n",
    "\n",
    "So, the above example would become simply:\n",
    "\n",
    "- SELECT name\n",
    "- FROM kids\n",
    "- WHERE age IN (2, 4, 6, 8, 10);"
   ]
  },
  {
   "cell_type": "code",
   "execution_count": null,
   "id": "9872864b",
   "metadata": {},
   "outputs": [],
   "source": [
    "#Example\n",
    "SELECT title, release_year\n",
    "FROM films\n",
    "WHERE release_year IN (1990, 2000)\n",
    "AND duration > 120\n",
    "\n",
    "SELECT title, language\n",
    "FROM films\n",
    "WHERE language IN ('English', 'Spanish', 'French')\n",
    "\n",
    "SELECT title, certification\n",
    "FROM films\n",
    "WHERE certification IN ('NC-17', 'R')"
   ]
  },
  {
   "cell_type": "markdown",
   "id": "87a2338c",
   "metadata": {},
   "source": [
    "### NULL and IS NULL "
   ]
  },
  {
   "cell_type": "markdown",
   "id": "ad9f7387",
   "metadata": {},
   "source": [
    "Introduction to NULL and IS NULL\n",
    "\n",
    "In SQL, NULL represents a missing or unknown value. You can check for NULL values using the expression IS NULL. For example, to count the number of missing birth dates in the people table:\n",
    "\n",
    "SELECT COUNT(*)\n",
    "- FROM people\n",
    "- WHERE birthdate IS NULL;\n",
    "\n",
    "As you can see, IS NULL is useful when combined with WHERE to figure out what data you're missing.\n",
    "\n",
    "Sometimes, you'll want to filter out missing values so you only get results which are not NULL. To do this, you can use the IS NOT NULL operator.\n",
    "\n",
    "For example, this query gives the names of all people whose birth dates are not missing in the people table.\n",
    "\n",
    "- SELECT name\n",
    "- FROM people\n",
    "- WHERE birthdate IS NOT NULL;"
   ]
  },
  {
   "cell_type": "code",
   "execution_count": null,
   "id": "74fca0f7",
   "metadata": {},
   "outputs": [],
   "source": [
    "#Example\n",
    "SELECT name\n",
    "FROM people\n",
    "WHERE deathdate IS NULL\n",
    "\n",
    "SELECT title\n",
    "FROM films\n",
    "WHERE budget IS NULL\n",
    "\n",
    "SELECT COUNT(*)\n",
    "FROM films\n",
    "WHERE language IS NULL"
   ]
  },
  {
   "cell_type": "markdown",
   "id": "a35fa688",
   "metadata": {},
   "source": [
    "### LIKE and NOT LIKE "
   ]
  },
  {
   "cell_type": "markdown",
   "id": "2443a800",
   "metadata": {},
   "source": [
    "LIKE and NOT LIKE\n",
    "\n",
    "As you've seen, the WHERE clause can be used to filter text data. However, so far you've only been able to filter by specifying the exact text you're interested in. In the real world, often you'll want to search for a pattern rather than a specific text string.\n",
    "\n",
    "In SQL, the LIKE operator can be used in a WHERE clause to search for a pattern in a column. To accomplish this, you use something called a **wildcard as a placeholder for some other values**. There are two wildcards you can use with LIKE:\n",
    "\n",
    "The % wildcard will match zero, one, or many characters in text. For example, the following query matches companies like 'Data', 'DataC' 'DataCamp', 'DataMind', and so on:\n",
    "\n",
    "- SELECT name\n",
    "- FROM companies\n",
    "- WHERE name LIKE 'Data%';\n",
    "\n",
    "The _ wildcard will match a single character. For example, the following query matches companies like 'DataCamp', 'DataComp', and so on:\n",
    "\n",
    "- SELECT name\n",
    "- FROM companies\n",
    "- WHERE name LIKE 'DataC_mp';\n",
    "\n",
    "You can also use the NOT LIKE operator to find records that don't match the pattern you specify."
   ]
  },
  {
   "cell_type": "code",
   "execution_count": null,
   "id": "01ea766a",
   "metadata": {},
   "outputs": [],
   "source": [
    "#Example\n",
    "SELECT name\n",
    "FROM people\n",
    "WHERE name LIKE 'B%'\n",
    "\n",
    "SELECT name\n",
    "FROM people\n",
    "WHERE name like '_r%' #r in the second letter\n",
    "\n",
    "SELECT name\n",
    "FROM people\n",
    "WHERE name NOT LIKE 'A%'"
   ]
  },
  {
   "cell_type": "markdown",
   "id": "b03e501d",
   "metadata": {},
   "source": [
    "## Aggregate Functions "
   ]
  },
  {
   "cell_type": "markdown",
   "id": "c53fd75a",
   "metadata": {},
   "source": [
    "### AVG, MAX, SUM, MIN"
   ]
  },
  {
   "cell_type": "markdown",
   "id": "ffaa5006",
   "metadata": {},
   "source": [
    "Aggregate functions\n",
    "\n",
    "Often, you will want to perform some calculation on the data in a database. SQL provides a few functions, called aggregate functions, to help you out with this.\n",
    "\n",
    "For example,\n",
    "\n",
    "- SELECT AVG(budget)\n",
    "- FROM films;\n",
    "\n",
    "gives you the average value from the budget column of the films table. Similarly, the MAX() function returns the highest budget:\n",
    "\n",
    "- SELECT MAX(budget)\n",
    "- FROM films;\n",
    "\n",
    "The SUM() function returns the result of adding up the numeric values in a column:\n",
    "\n",
    "- SELECT SUM(budget)\n",
    "- FROM films;\n",
    "You can probably guess what the MIN() function does! Now it's your turn to try out some SQL functions."
   ]
  },
  {
   "cell_type": "code",
   "execution_count": null,
   "id": "e68df4d1",
   "metadata": {},
   "outputs": [],
   "source": [
    "#Example\n",
    "select sum(duration) from films;\n",
    "select avg(duration) from films\n",
    "select min(duration) from films\n",
    "select max(duration) from films"
   ]
  },
  {
   "cell_type": "code",
   "execution_count": null,
   "id": "5fa0452e",
   "metadata": {},
   "outputs": [],
   "source": [
    "#Example\n",
    "SELECT SUM(gross)\n",
    "FROM films\n",
    "\n",
    "SELECT AVG(gross)\n",
    "from films\n",
    "\n",
    "SELECT MIN(gross)\n",
    "from films\n",
    "\n",
    "SELECT MAX(gross)\n",
    "from films"
   ]
  },
  {
   "cell_type": "markdown",
   "id": "5efc3d00",
   "metadata": {},
   "source": [
    "### Agg functions & WHERE "
   ]
  },
  {
   "cell_type": "markdown",
   "id": "2f42d61c",
   "metadata": {},
   "source": [
    "Combining aggregate functions with WHERE\n",
    "\n",
    "Aggregate functions can be combined with the WHERE clause to gain further insights from your data.\n",
    "\n",
    "For example, to get the total budget of movies made in the year 2010 or later:\n",
    "\n",
    "- SELECT SUM(budget)\n",
    "- FROM films\n",
    "- WHERE release_year >= 2010;\n",
    "\n",
    "Now it's your turn!"
   ]
  },
  {
   "cell_type": "code",
   "execution_count": null,
   "id": "5c0d1b07",
   "metadata": {},
   "outputs": [],
   "source": [
    "#Example\n",
    "SELECT SUM(gross)\n",
    "FROM films\n",
    "WHERE release_year >= 2000;\n",
    "\n",
    "SELECT AVG(gross)\n",
    "FROM films\n",
    "WHERE title LIKE 'A%';\n",
    "\n",
    "SELECT MIN(gross)\n",
    "FROM films\n",
    "WHERE release_year = '1994'\n",
    "\n",
    "SELECT MAX(gross)\n",
    "FROM films\n",
    "WHERE release_year BETWEEN 2000 AND 2012"
   ]
  },
  {
   "cell_type": "markdown",
   "id": "f2a636a6",
   "metadata": {},
   "source": [
    "### Arithmetic "
   ]
  },
  {
   "cell_type": "markdown",
   "id": "d27598b7",
   "metadata": {},
   "source": [
    "A note on arithmetic\n",
    "\n",
    "In addition to using aggregate functions, you can perform basic arithmetic with symbols like +, -, *, and /.\n",
    "\n",
    "So, for example, this gives a result of 12:\n",
    "- SELECT (4 * 3);\n",
    "\n",
    "However, the following gives a result of 1:\n",
    "- SELECT (4 / 3);\n",
    "\n",
    "What's going on here?\n",
    "\n",
    "SQL assumes that if you divide an integer by an integer, you want to get an integer back. So be careful when dividing!\n",
    "\n",
    "If you want more precision when dividing, you can add decimal places to your numbers. For example,\n",
    "\n",
    "- SELECT (4.0 / 3.0) AS result;\n",
    "\n",
    "gives you the result you would expect: 1.333.\n",
    "\n",
    "What is the result of SELECT (10 / 3);? (3)"
   ]
  },
  {
   "cell_type": "markdown",
   "id": "2d6b639a",
   "metadata": {},
   "source": [
    "### AS (aliasing) "
   ]
  },
  {
   "cell_type": "markdown",
   "id": "869e9c8c",
   "metadata": {},
   "source": [
    "It's AS simple AS aliasing\n",
    "\n",
    "You may have noticed in the first exercise of this chapter that the column name of your result was just the name of the function you used. For example,\n",
    "\n",
    "- SELECT MAX(budget)\n",
    "- FROM films;\n",
    "\n",
    "gives you a result with one column, named max. But what if you use two functions like this?\n",
    "\n",
    "- SELECT MAX(budget), MAX(duration)\n",
    "- FROM films;\n",
    "\n",
    "Well, then you'd have two columns named max, which isn't very useful!\n",
    "\n",
    "To avoid situations like this, SQL allows you to do something called aliasing. Aliasing simply means you assign a temporary name to something. To alias, you use the AS keyword, which you've already seen earlier in this course.\n",
    "\n",
    "For example, in the above example we could use aliases to make the result clearer:\n",
    "\n",
    "- SELECT MAX(budget) AS max_budget, \n",
    "MAX(duration) AS max_duration\n",
    "- FROM films;\n",
    "\n",
    "Aliases are helpful for making results more readable!"
   ]
  },
  {
   "cell_type": "code",
   "execution_count": null,
   "id": "8f78fa38",
   "metadata": {},
   "outputs": [],
   "source": [
    "SELECT title, gross - budget AS net_profit\n",
    "FROM films\n",
    "\n",
    "SELECT title, duration/60.0 as duration_hours\n",
    "FROM films\n",
    "\n",
    "SELECT AVG(duration)/60.0 as avg_duration_hours\n",
    "FROM films"
   ]
  },
  {
   "cell_type": "markdown",
   "id": "44fc6cc5",
   "metadata": {},
   "source": [
    "Even more aliasing\n",
    "\n",
    "Let's practice your newfound aliasing skills some more before moving on!\n",
    "\n",
    "Recall: SQL assumes that if you divide an integer by an integer, you want to get an integer back.\n",
    "\n",
    "This means that the following will erroneously result in 400.0:\n",
    "\n",
    "- SELECT 45 / 10 * 100.0;\n",
    "\n",
    "This is because 45 / 10 evaluates to an integer (4), and not a decimal number like we would expect.\n",
    "\n",
    "So when you're dividing make sure at least one of your numbers has a decimal place:\n",
    "\n",
    "- SELECT 45 * 100.0 / 10;\n",
    "\n",
    "The above now gives the correct answer of 450.0 since the numerator (45 * 100.0) of the division is now a decimal!"
   ]
  },
  {
   "cell_type": "code",
   "execution_count": null,
   "id": "7028c5f5",
   "metadata": {},
   "outputs": [],
   "source": [
    "#Example\n",
    "-- get the count(deathdate) and multiply by 100.0\n",
    "-- then divide by count(*)\n",
    "SELECT COUNT(deathdate) * 100.0 / COUNT(*) AS percentage_dead\n",
    "FROM people\n",
    "\n",
    "SELECT MAX(release_year) - MIN (release_year) as difference\n",
    "from films\n",
    "\n",
    "SELECT (MAX(release_year) - MIN (release_year))/10 as number_of_decades\n",
    "from films"
   ]
  },
  {
   "cell_type": "markdown",
   "id": "d789772f",
   "metadata": {},
   "source": [
    "## Sorting and grouping "
   ]
  },
  {
   "cell_type": "markdown",
   "id": "a519aacf",
   "metadata": {},
   "source": [
    "### ORDER BY "
   ]
  },
  {
   "cell_type": "markdown",
   "id": "2c165bd1",
   "metadata": {},
   "source": [
    "ORDER BY\n",
    "\n",
    "Congratulations on making it this far! You now know how to select and filter your results.\n",
    "\n",
    "In this chapter you'll learn how to sort and group your results to gain further insight. Let's go!\n",
    "\n",
    "In SQL, the ORDER BY keyword is used to sort results in ascending or descending order according to the values of one or more columns.\n",
    "\n",
    "By default ORDER BY will sort in ascending order. If you want to sort the results in descending order, you can use the DESC keyword. For example,\n",
    "\n",
    "- SELECT title\n",
    "- FROM films\n",
    "- ORDER BY release_year DESC;\n",
    "\n",
    "gives you the titles of films sorted by release year, from newest to oldest.\n",
    "\n",
    "How do you think ORDER BY sorts a column of text values by default? (alphabetically A-Z)"
   ]
  },
  {
   "cell_type": "code",
   "execution_count": null,
   "id": "127ba210",
   "metadata": {},
   "outputs": [],
   "source": [
    "#Example\n",
    "SELECT name\n",
    "FROM people\n",
    "ORDER BY name\n",
    "\n",
    "SELECT name\n",
    "FROM people\n",
    "ORDER BY birthdate\n",
    "\n",
    "SELECT birthdate, name\n",
    "FROM people\n",
    "ORDER BY birthdate"
   ]
  },
  {
   "cell_type": "code",
   "execution_count": null,
   "id": "3f3b7f4d",
   "metadata": {},
   "outputs": [],
   "source": [
    "#Example\n",
    "SELECT title\n",
    "FROM films\n",
    "WHERE release_year = 2000 OR release_year = 2012\n",
    "ORDER BY release_year\n",
    "\n",
    "SELECT *\n",
    "FROM films\n",
    "WHERE release_year <> 2015\n",
    "ORDER BY duration\n",
    "\n",
    "SELECT title, gross\n",
    "FROM films\n",
    "WHERE title LIKE 'M%'\n",
    "ORDER BY title"
   ]
  },
  {
   "cell_type": "markdown",
   "id": "ec0e3242",
   "metadata": {},
   "source": [
    "Sorting single columns (DESC)\n",
    "\n",
    "To order results in descending order, you can put the keyword DESC after your ORDER BY. For example, to get all the names in the people table, in reverse alphabetical order:\n",
    "\n",
    "- SELECT name\n",
    "- FROM people\n",
    "- ORDER BY name DESC;\n",
    "\n",
    "Now practice using ORDER BY with DESC to sort single columns in descending order!"
   ]
  },
  {
   "cell_type": "code",
   "execution_count": null,
   "id": "cf41f852",
   "metadata": {},
   "outputs": [],
   "source": [
    "#Example\n",
    "SELECT film_Id, Imdb_score\n",
    "FROM reviews\n",
    "ORDER BY Imdb_score DESC\n",
    "\n",
    "SELECT title\n",
    "FROM films\n",
    "ORDER BY title DESC\n",
    "\n",
    "SELECT title, duration\n",
    "FROM films\n",
    "ORDER BY duration DESC"
   ]
  },
  {
   "cell_type": "markdown",
   "id": "c2ea4330",
   "metadata": {},
   "source": [
    "### ORDER BY (multiple columns) "
   ]
  },
  {
   "cell_type": "markdown",
   "id": "4c4a5c94",
   "metadata": {},
   "source": [
    "Sorting multiple columns\n",
    "\n",
    "ORDER BY can also be used to sort on multiple columns. It will sort by the first column specified, then sort by the next, then the next, and so on. For example,\n",
    "\n",
    "- SELECT birthdate, name\n",
    "- FROM people\n",
    "- ORDER BY birthdate, name;\n",
    "sorts on birth dates first (oldest to newest) and then sorts on the names in alphabetical order. The order of columns is important!\n",
    "\n",
    "Try using ORDER BY to sort multiple columns! Remember, to specify multiple columns you separate the column names with a comma."
   ]
  },
  {
   "cell_type": "code",
   "execution_count": null,
   "id": "529be0d2",
   "metadata": {},
   "outputs": [],
   "source": [
    "#Example\n",
    "SELECT name, birthdate\n",
    "FROM people\n",
    "ORDER BY birthdate, name\n",
    "\n",
    "SELECT release_year, duration, title\n",
    "FROM films\n",
    "ORDER BY release_year, duration\n",
    "\n",
    "SELECT certification, release_year, title\n",
    "FROM films\n",
    "ORDER BY certification, release_year\n",
    "\n",
    "SELECT name, birthdate\n",
    "FROM people\n",
    "ORDER BY name, birthdate"
   ]
  },
  {
   "cell_type": "markdown",
   "id": "fc0ecf09",
   "metadata": {},
   "source": [
    "### GROUP BY"
   ]
  },
  {
   "cell_type": "markdown",
   "id": "baf35677",
   "metadata": {},
   "source": [
    "GROUP BY\n",
    "\n",
    "Now you know how to sort results! Often you'll need to aggregate results. For example, you might want to count the number of male and female employees in your company. Here, what you want is to group all the males together and count them, and group all the females together and count them. In SQL, GROUP BY allows you to group a result by one or more columns, like so:\n",
    "\n",
    "- SELECT sex, count(*)\n",
    "- FROM employees\n",
    "- GROUP BY sex;\n",
    "\n",
    "This might give, for example:\n",
    "\n",
    "- sex\tcount\n",
    "- male\t15\n",
    "- female\t19\n",
    "\n",
    "Commonly, GROUP BY is used with aggregate functions like COUNT() or MAX(). Note that GROUP BY always goes after the FROM clause!\n",
    "\n",
    "What is GROUP BY used for?\n",
    "\n",
    "Performing operations by group"
   ]
  },
  {
   "cell_type": "markdown",
   "id": "55c9d477",
   "metadata": {},
   "source": [
    "GROUP BY practice\n",
    "\n",
    "As you've just seen, combining aggregate functions with GROUP BY can yield some powerful results!\n",
    "\n",
    "A word of warning: SQL will return an error if you try to SELECT a field that is not in your GROUP BY clause without using it to calculate some kind of value about the entire group.\n",
    "\n",
    "Note that you can combine GROUP BY with ORDER BY to group your results, calculate something about them, and then order your results. For example,\n",
    "\n",
    "- SELECT sex, count(*)\n",
    "- FROM employees\n",
    "- GROUP BY sex\n",
    "- ORDER BY count DESC;\n",
    "\n",
    "might return something like\n",
    "\n",
    "- sex\tcount\n",
    "- female\t19\n",
    "- male\t15\n",
    "\n",
    "because there are more females at our company than males. Note also that ORDER BY always goes after GROUP BY. Let's try some exercises!"
   ]
  },
  {
   "cell_type": "code",
   "execution_count": null,
   "id": "25591795",
   "metadata": {},
   "outputs": [],
   "source": [
    "#Example\n",
    "SELECT release_year, COUNT(title)\n",
    "FROM films\n",
    "GROUP BY release_year\n",
    "\n",
    "SELECT release_year, AVG(duration)\n",
    "FROM films\n",
    "GROUP BY release_year\n",
    "\n",
    "SELECT release_year, MAX(budget)\n",
    "FROM films\n",
    "GROUP BY release_year\n",
    "\n",
    "SELECT imdb_score, COUNT(imdb_score)\n",
    "FROM reviews\n",
    "GROUP BY imdb_score"
   ]
  },
  {
   "cell_type": "code",
   "execution_count": null,
   "id": "3e23ae69",
   "metadata": {},
   "outputs": [],
   "source": [
    "#Example\n",
    "SELECT release_year, MIN(gross)\n",
    "FROM films\n",
    "GROUP BY release_year\n",
    "\n",
    "SELECT language, SUM(gross)\n",
    "FROM films\n",
    "GROUP BY language\n",
    "\n",
    "SELECT country, sum(budget)\n",
    "FROM films\n",
    "GROUP BY country\n",
    "\n",
    "SELECT release_year, country, MAX(budget)\n",
    "FROM films\n",
    "GROUP BY release_year, country\n",
    "ORDER BY release_year, country\n",
    "\n",
    "SELECT country, release_year, MIN(gross)\n",
    "FROM films\n",
    "GROUP BY release_year, country\n",
    "ORDER BY country, release_year"
   ]
  },
  {
   "cell_type": "markdown",
   "id": "4682bb66",
   "metadata": {},
   "source": [
    "### HAVING"
   ]
  },
  {
   "cell_type": "markdown",
   "id": "4aafada3",
   "metadata": {},
   "source": [
    "HAVING a great time\n",
    "\n",
    "In SQL, aggregate functions can't be used in WHERE clauses. For example, the following query is invalid:\n",
    "\n",
    "- SELECT release_year\n",
    "- FROM films\n",
    "- GROUP BY release_year\n",
    "- WHERE COUNT(title) > 10;\n",
    "\n",
    "This means that if you want to filter based on the result of an aggregate function, you need another way! That's where the HAVING clause comes in. For example,\n",
    "\n",
    "- SELECT release_year\n",
    "- FROM films\n",
    "- GROUP BY release_year\n",
    "- HAVING COUNT(title) > 10;\n",
    "\n",
    "shows only those years in which more than 10 films were released.\n",
    "\n",
    "In how many different years were more than 200 movies released?"
   ]
  },
  {
   "cell_type": "code",
   "execution_count": null,
   "id": "992a9fe0",
   "metadata": {},
   "outputs": [],
   "source": [
    "#Example\n",
    "SELECT release_year, budget, gross\n",
    "FROM films;\n",
    "\n",
    "SELECT release_year, budget, gross\n",
    "FROM films\n",
    "WHERE release_year > 1990\n",
    "\n",
    "SELECT release_year\n",
    "FROM films\n",
    "WHERE release_year > 1990\n",
    "GROUP BY release_year\n",
    "\n",
    "SELECT release_year, AVG(budget) AS avg_budget, AVG(gross) AS avg_gross\n",
    "FROM films\n",
    "WHERE release_year > 1990\n",
    "GROUP BY release_year;\n",
    "\n",
    "SELECT release_year, AVG(budget) AS avg_budget, AVG(gross) AS avg_gross\n",
    "FROM films\n",
    "WHERE release_year > 1990\n",
    "GROUP BY release_year\n",
    "HAVING AVG(budget) > 60000000;\n",
    "\n",
    "SELECT release_year, AVG(budget) AS avg_budget, AVG(gross) AS avg_gross\n",
    "FROM films\n",
    "WHERE release_year > 1990\n",
    "GROUP BY release_year\n",
    "HAVING AVG(budget) > 60000000\n",
    "ORDER BY AVG(gross) DESC"
   ]
  },
  {
   "cell_type": "code",
   "execution_count": null,
   "id": "f1c2c5aa",
   "metadata": {},
   "outputs": [],
   "source": [
    "SELECT country, AVG(budget) AS avg_budget,-- select country, average budget, \n",
    "AVG(gross) AS avg_gross--     and average gross\n",
    "\n",
    "FROM films-- from the films table\n",
    "\n",
    "GROUP BY country-- group by country \n",
    "\n",
    "HAVING COUNT(title) > 10-- where the country has more than 10 titles\n",
    "\n",
    "ORDER BY country-- order by country\n",
    "\n",
    "LIMIT 5-- limit to only show 5 results"
   ]
  },
  {
   "cell_type": "markdown",
   "id": "6c3d66b9",
   "metadata": {},
   "source": [
    "A taste of things to come\n",
    "\n",
    "Congrats on making it to the end of the course! By now you should have a good understanding of the basics of SQL.\n",
    "\n",
    "There's one more concept we're going to introduce. You may have noticed that all your results so far have been from just one table, e.g., films or people.\n",
    "\n",
    "In the real world however, you will often want to query multiple tables. For example, what if you want to see the IMDB score for a particular movie?\n",
    "\n",
    "In this case, you'd want to get the ID of the movie from the films table and then use it to get IMDB information from the reviews table. In SQL, this concept is known as a join, and a basic join is shown in the editor to the right.\n",
    "\n",
    "The query in the editor gets the IMDB score for the film To Kill a Mockingbird! Cool right?\n",
    "\n",
    "As you can see, joins are incredibly useful and important to understand for anyone using SQL.\n",
    "\n",
    "We have a whole follow-up course dedicated to them called Joining Data in SQL for you to hone your database skills further!"
   ]
  },
  {
   "cell_type": "code",
   "execution_count": null,
   "id": "148b76e8",
   "metadata": {},
   "outputs": [],
   "source": [
    "#Example\n",
    "SELECT title, imdb_score\n",
    "FROM films\n",
    "JOIN reviews\n",
    "ON films.id = reviews.film_id\n",
    "WHERE title = 'To Kill a Mockingbird';"
   ]
  }
 ],
 "metadata": {
  "hide_input": false,
  "kernelspec": {
   "display_name": "Python 3 (ipykernel)",
   "language": "python",
   "name": "python3"
  },
  "language_info": {
   "codemirror_mode": {
    "name": "ipython",
    "version": 3
   },
   "file_extension": ".py",
   "mimetype": "text/x-python",
   "name": "python",
   "nbconvert_exporter": "python",
   "pygments_lexer": "ipython3",
   "version": "3.10.0"
  },
  "toc": {
   "base_numbering": 1,
   "nav_menu": {},
   "number_sections": true,
   "sideBar": true,
   "skip_h1_title": false,
   "title_cell": "Table of Contents",
   "title_sidebar": "Contents",
   "toc_cell": false,
   "toc_position": {
    "height": "calc(100% - 180px)",
    "left": "10px",
    "top": "150px",
    "width": "342.641px"
   },
   "toc_section_display": true,
   "toc_window_display": true
  },
  "varInspector": {
   "cols": {
    "lenName": 16,
    "lenType": 16,
    "lenVar": 40
   },
   "kernels_config": {
    "python": {
     "delete_cmd_postfix": "",
     "delete_cmd_prefix": "del ",
     "library": "var_list.py",
     "varRefreshCmd": "print(var_dic_list())"
    },
    "r": {
     "delete_cmd_postfix": ") ",
     "delete_cmd_prefix": "rm(",
     "library": "var_list.r",
     "varRefreshCmd": "cat(var_dic_list()) "
    }
   },
   "types_to_exclude": [
    "module",
    "function",
    "builtin_function_or_method",
    "instance",
    "_Feature"
   ],
   "window_display": false
  }
 },
 "nbformat": 4,
 "nbformat_minor": 5
}
