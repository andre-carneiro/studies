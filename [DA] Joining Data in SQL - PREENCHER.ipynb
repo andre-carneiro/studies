{
 "cells": [
  {
   "cell_type": "markdown",
   "id": "2570ebf6",
   "metadata": {},
   "source": [
    "# Joining Data in SQL\n",
    "Dr. Chester Ismay"
   ]
  },
  {
   "cell_type": "markdown",
   "id": "dfc1d582",
   "metadata": {},
   "source": [
    "## Introduction to joins "
   ]
  },
  {
   "cell_type": "markdown",
   "id": "21c83899",
   "metadata": {},
   "source": [
    "### Introduction to INNER JOIN "
   ]
  },
  {
   "cell_type": "markdown",
   "id": "a9278384",
   "metadata": {},
   "source": [
    "### INNER JOIN via USING "
   ]
  },
  {
   "cell_type": "markdown",
   "id": "64d8d9c3",
   "metadata": {},
   "source": [
    "### Self-ish joins, just in Case "
   ]
  },
  {
   "cell_type": "markdown",
   "id": "c8358c6b",
   "metadata": {},
   "source": [
    "## Outer joinig and cross joins "
   ]
  },
  {
   "cell_type": "markdown",
   "id": "fd2ed3b0",
   "metadata": {},
   "source": [
    "### LEFT and RIGHT JOINs "
   ]
  },
  {
   "cell_type": "markdown",
   "id": "54471548",
   "metadata": {},
   "source": [
    "### FULL JOINs "
   ]
  },
  {
   "cell_type": "markdown",
   "id": "910ee368",
   "metadata": {},
   "source": [
    "### CROSSing the rubicon "
   ]
  },
  {
   "cell_type": "markdown",
   "id": "cb5c17a9",
   "metadata": {},
   "source": [
    "## Set theory clauses"
   ]
  },
  {
   "cell_type": "markdown",
   "id": "324d02b7",
   "metadata": {},
   "source": [
    "### State of the UNION "
   ]
  },
  {
   "cell_type": "markdown",
   "id": "3b45bf4a",
   "metadata": {},
   "source": [
    "### INTERSECTional data science "
   ]
  },
  {
   "cell_type": "markdown",
   "id": "0262c661",
   "metadata": {},
   "source": [
    "### EXCEPTional "
   ]
  },
  {
   "cell_type": "markdown",
   "id": "99e75435",
   "metadata": {},
   "source": [
    "### Semi-joins and Anti-joins "
   ]
  },
  {
   "cell_type": "markdown",
   "id": "530e21e9",
   "metadata": {},
   "source": [
    "## Subqueries "
   ]
  },
  {
   "cell_type": "markdown",
   "id": "22722c87",
   "metadata": {},
   "source": [
    "### Subqueries inside WHERE and SELECT clauses "
   ]
  },
  {
   "cell_type": "markdown",
   "id": "6fa3927c",
   "metadata": {},
   "source": [
    "### Subquery inside FROM clause"
   ]
  },
  {
   "cell_type": "markdown",
   "id": "bc193a5a",
   "metadata": {},
   "source": [
    "### Course review "
   ]
  },
  {
   "cell_type": "code",
   "execution_count": null,
   "id": "9db8578f",
   "metadata": {},
   "outputs": [],
   "source": []
  },
  {
   "cell_type": "code",
   "execution_count": null,
   "id": "7ed84503",
   "metadata": {},
   "outputs": [],
   "source": []
  },
  {
   "cell_type": "code",
   "execution_count": null,
   "id": "6f9a6a05",
   "metadata": {},
   "outputs": [],
   "source": []
  },
  {
   "cell_type": "code",
   "execution_count": null,
   "id": "923478b3",
   "metadata": {},
   "outputs": [],
   "source": []
  }
 ],
 "metadata": {
  "hide_input": false,
  "kernelspec": {
   "display_name": "Python 3 (ipykernel)",
   "language": "python",
   "name": "python3"
  },
  "language_info": {
   "codemirror_mode": {
    "name": "ipython",
    "version": 3
   },
   "file_extension": ".py",
   "mimetype": "text/x-python",
   "name": "python",
   "nbconvert_exporter": "python",
   "pygments_lexer": "ipython3",
   "version": "3.10.0"
  },
  "toc": {
   "base_numbering": 1,
   "nav_menu": {},
   "number_sections": true,
   "sideBar": true,
   "skip_h1_title": false,
   "title_cell": "Table of Contents",
   "title_sidebar": "Contents",
   "toc_cell": false,
   "toc_position": {
    "height": "calc(100% - 180px)",
    "left": "10px",
    "top": "150px",
    "width": "230.641px"
   },
   "toc_section_display": true,
   "toc_window_display": true
  },
  "varInspector": {
   "cols": {
    "lenName": 16,
    "lenType": 16,
    "lenVar": 40
   },
   "kernels_config": {
    "python": {
     "delete_cmd_postfix": "",
     "delete_cmd_prefix": "del ",
     "library": "var_list.py",
     "varRefreshCmd": "print(var_dic_list())"
    },
    "r": {
     "delete_cmd_postfix": ") ",
     "delete_cmd_prefix": "rm(",
     "library": "var_list.r",
     "varRefreshCmd": "cat(var_dic_list()) "
    }
   },
   "types_to_exclude": [
    "module",
    "function",
    "builtin_function_or_method",
    "instance",
    "_Feature"
   ],
   "window_display": false
  }
 },
 "nbformat": 4,
 "nbformat_minor": 5
}
