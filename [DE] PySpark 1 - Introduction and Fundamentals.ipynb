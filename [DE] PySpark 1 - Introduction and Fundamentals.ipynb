{
 "cells": [
  {
   "cell_type": "markdown",
   "metadata": {
    "toc": true
   },
   "source": [
    "<h1>Table of Contents<span class=\"tocSkip\"></span></h1>\n",
    "<div class=\"toc\"><ul class=\"toc-item\"><li><span><a href=\"#Big-Data-with-PySpark\" data-toc-modified-id=\"Big-Data-with-PySpark-0\"><span class=\"toc-item-num\">0&nbsp;&nbsp;</span>Big Data with PySpark</a></span></li><li><span><a href=\"#Introduction-to-PySpark\" data-toc-modified-id=\"Introduction-to-PySpark-1\"><span class=\"toc-item-num\">1&nbsp;&nbsp;</span>Introduction to PySpark</a></span><ul class=\"toc-item\"><li><span><a href=\"#Getting-to-know-PySpark\" data-toc-modified-id=\"Getting-to-know-PySpark-1.1\"><span class=\"toc-item-num\">1.1&nbsp;&nbsp;</span>Getting to know PySpark</a></span><ul class=\"toc-item\"><li><span><a href=\"#What-is-Spark,-anyway?\" data-toc-modified-id=\"What-is-Spark,-anyway?-1.1.1\"><span class=\"toc-item-num\">1.1.1&nbsp;&nbsp;</span>What is Spark, anyway?</a></span></li><li><span><a href=\"#Using-Spark-in-Python\" data-toc-modified-id=\"Using-Spark-in-Python-1.1.2\"><span class=\"toc-item-num\">1.1.2&nbsp;&nbsp;</span>Using Spark in Python</a></span></li><li><span><a href=\"#Using-DataFrames\" data-toc-modified-id=\"Using-DataFrames-1.1.3\"><span class=\"toc-item-num\">1.1.3&nbsp;&nbsp;</span>Using DataFrames</a></span></li></ul></li><li><span><a href=\"#Manipulating-data\" data-toc-modified-id=\"Manipulating-data-1.2\"><span class=\"toc-item-num\">1.2&nbsp;&nbsp;</span>Manipulating data</a></span><ul class=\"toc-item\"><li><span><a href=\"#Creating-columns\" data-toc-modified-id=\"Creating-columns-1.2.1\"><span class=\"toc-item-num\">1.2.1&nbsp;&nbsp;</span>Creating columns</a></span></li><li><span><a href=\"#SQL-in-a-nutshell\" data-toc-modified-id=\"SQL-in-a-nutshell-1.2.2\"><span class=\"toc-item-num\">1.2.2&nbsp;&nbsp;</span>SQL in a nutshell</a></span></li><li><span><a href=\"#SQL-in-a-nutshell-2\" data-toc-modified-id=\"SQL-in-a-nutshell-2-1.2.3\"><span class=\"toc-item-num\">1.2.3&nbsp;&nbsp;</span>SQL in a nutshell 2</a></span></li><li><span><a href=\"#Filtering-data-in-Spark\" data-toc-modified-id=\"Filtering-data-in-Spark-1.2.4\"><span class=\"toc-item-num\">1.2.4&nbsp;&nbsp;</span>Filtering data in Spark</a></span></li><li><span><a href=\"#Selecting\" data-toc-modified-id=\"Selecting-1.2.5\"><span class=\"toc-item-num\">1.2.5&nbsp;&nbsp;</span>Selecting</a></span></li><li><span><a href=\"#Selecting-2\" data-toc-modified-id=\"Selecting-2-1.2.6\"><span class=\"toc-item-num\">1.2.6&nbsp;&nbsp;</span>Selecting 2</a></span></li><li><span><a href=\"#Aggregating\" data-toc-modified-id=\"Aggregating-1.2.7\"><span class=\"toc-item-num\">1.2.7&nbsp;&nbsp;</span>Aggregating</a></span></li><li><span><a href=\"#Grouping-and-Aggregating-I\" data-toc-modified-id=\"Grouping-and-Aggregating-I-1.2.8\"><span class=\"toc-item-num\">1.2.8&nbsp;&nbsp;</span>Grouping and Aggregating I</a></span></li><li><span><a href=\"#Grouping-and-Aggregating-II\" data-toc-modified-id=\"Grouping-and-Aggregating-II-1.2.9\"><span class=\"toc-item-num\">1.2.9&nbsp;&nbsp;</span>Grouping and Aggregating II</a></span></li><li><span><a href=\"#Joining\" data-toc-modified-id=\"Joining-1.2.10\"><span class=\"toc-item-num\">1.2.10&nbsp;&nbsp;</span>Joining</a></span></li></ul></li><li><span><a href=\"#Getting-started-with-machine-learning-pipelines\" data-toc-modified-id=\"Getting-started-with-machine-learning-pipelines-1.3\"><span class=\"toc-item-num\">1.3&nbsp;&nbsp;</span>Getting started with machine learning pipelines</a></span></li><li><span><a href=\"#Model-tuning-and-selection\" data-toc-modified-id=\"Model-tuning-and-selection-1.4\"><span class=\"toc-item-num\">1.4&nbsp;&nbsp;</span>Model tuning and selection</a></span></li></ul></li><li><span><a href=\"#Big-Data-Fundamentals-with-PySpark\" data-toc-modified-id=\"Big-Data-Fundamentals-with-PySpark-2\"><span class=\"toc-item-num\">2&nbsp;&nbsp;</span>Big Data Fundamentals with PySpark</a></span><ul class=\"toc-item\"><li><span><a href=\"#Introduction-to-Big-Data-analysis-with-Spark\" data-toc-modified-id=\"Introduction-to-Big-Data-analysis-with-Spark-2.1\"><span class=\"toc-item-num\">2.1&nbsp;&nbsp;</span>Introduction to Big Data analysis with Spark</a></span><ul class=\"toc-item\"><li><span><a href=\"#Fundamentals-of-Big-Data\" data-toc-modified-id=\"Fundamentals-of-Big-Data-2.1.1\"><span class=\"toc-item-num\">2.1.1&nbsp;&nbsp;</span>Fundamentals of Big Data</a></span></li><li><span><a href=\"#PySpark:-Spark-with-Python\" data-toc-modified-id=\"PySpark:-Spark-with-Python-2.1.2\"><span class=\"toc-item-num\">2.1.2&nbsp;&nbsp;</span>PySpark: Spark with Python</a></span></li><li><span><a href=\"#Review-of-functional-programming-in-Python-(Use-of-Lambda-function-in-python---filter())\" data-toc-modified-id=\"Review-of-functional-programming-in-Python-(Use-of-Lambda-function-in-python---filter())-2.1.3\"><span class=\"toc-item-num\">2.1.3&nbsp;&nbsp;</span>Review of functional programming in Python (Use of Lambda function in python - filter())</a></span></li></ul></li><li><span><a href=\"#Programming-in-PySpark-RDD's\" data-toc-modified-id=\"Programming-in-PySpark-RDD's-2.2\"><span class=\"toc-item-num\">2.2&nbsp;&nbsp;</span>Programming in PySpark RDD's</a></span><ul class=\"toc-item\"><li><span><a href=\"#Abstracting-Data-with-RDDs\" data-toc-modified-id=\"Abstracting-Data-with-RDDs-2.2.1\"><span class=\"toc-item-num\">2.2.1&nbsp;&nbsp;</span>Abstracting Data with RDDs</a></span></li><li><span><a href=\"#Basic-RDD-Transformations-and-Actions\" data-toc-modified-id=\"Basic-RDD-Transformations-and-Actions-2.2.2\"><span class=\"toc-item-num\">2.2.2&nbsp;&nbsp;</span>Basic RDD Transformations and Actions</a></span></li><li><span><a href=\"#Pair-RDDs-in-PySpark\" data-toc-modified-id=\"Pair-RDDs-in-PySpark-2.2.3\"><span class=\"toc-item-num\">2.2.3&nbsp;&nbsp;</span>Pair RDDs in PySpark</a></span></li><li><span><a href=\"#Advanced-RDD-Actions\" data-toc-modified-id=\"Advanced-RDD-Actions-2.2.4\"><span class=\"toc-item-num\">2.2.4&nbsp;&nbsp;</span>Advanced RDD Actions</a></span></li></ul></li><li><span><a href=\"#PySpark-SQL-&amp;-DataFrames\" data-toc-modified-id=\"PySpark-SQL-&amp;-DataFrames-2.3\"><span class=\"toc-item-num\">2.3&nbsp;&nbsp;</span>PySpark SQL &amp; DataFrames</a></span><ul class=\"toc-item\"><li><span><a href=\"#Abstracting-Data-with-DataFrames\" data-toc-modified-id=\"Abstracting-Data-with-DataFrames-2.3.1\"><span class=\"toc-item-num\">2.3.1&nbsp;&nbsp;</span>Abstracting Data with DataFrames</a></span></li><li><span><a href=\"#Operating-on-DataFrames-in-PySpark\" data-toc-modified-id=\"Operating-on-DataFrames-in-PySpark-2.3.2\"><span class=\"toc-item-num\">2.3.2&nbsp;&nbsp;</span>Operating on DataFrames in PySpark</a></span></li><li><span><a href=\"#Interacting-with-DataFrames-using-PySpark-SQL\" data-toc-modified-id=\"Interacting-with-DataFrames-using-PySpark-SQL-2.3.3\"><span class=\"toc-item-num\">2.3.3&nbsp;&nbsp;</span>Interacting with DataFrames using PySpark SQL</a></span></li><li><span><a href=\"#Data-Visualization-in-PySpark-using-DataFrames\" data-toc-modified-id=\"Data-Visualization-in-PySpark-using-DataFrames-2.3.4\"><span class=\"toc-item-num\">2.3.4&nbsp;&nbsp;</span>Data Visualization in PySpark using DataFrames</a></span></li></ul></li><li><span><a href=\"#Machine-Learning-with-PySpark-MLlib\" data-toc-modified-id=\"Machine-Learning-with-PySpark-MLlib-2.4\"><span class=\"toc-item-num\">2.4&nbsp;&nbsp;</span>Machine Learning with PySpark MLlib</a></span><ul class=\"toc-item\"><li><span><a href=\"#Overview-of-PySpark-MLib\" data-toc-modified-id=\"Overview-of-PySpark-MLib-2.4.1\"><span class=\"toc-item-num\">2.4.1&nbsp;&nbsp;</span>Overview of PySpark MLib</a></span></li><li><span><a href=\"#Collaborative-filtering\" data-toc-modified-id=\"Collaborative-filtering-2.4.2\"><span class=\"toc-item-num\">2.4.2&nbsp;&nbsp;</span>Collaborative filtering</a></span></li><li><span><a href=\"#Classification\" data-toc-modified-id=\"Classification-2.4.3\"><span class=\"toc-item-num\">2.4.3&nbsp;&nbsp;</span>Classification</a></span></li><li><span><a href=\"#Clustering\" data-toc-modified-id=\"Clustering-2.4.4\"><span class=\"toc-item-num\">2.4.4&nbsp;&nbsp;</span>Clustering</a></span></li></ul></li></ul></li></ul></div>"
   ]
  },
  {
   "cell_type": "markdown",
   "metadata": {
    "id": "rrnLBJARQGcj"
   },
   "source": [
    "# Big Data with PySpark"
   ]
  },
  {
   "cell_type": "markdown",
   "metadata": {
    "id": "cv12MznyQGe5"
   },
   "source": [
    "# Introduction to PySpark"
   ]
  },
  {
   "cell_type": "markdown",
   "metadata": {
    "id": "qyns4c8qQGjQ"
   },
   "source": [
    "## Getting to know PySpark"
   ]
  },
  {
   "cell_type": "markdown",
   "metadata": {
    "id": "VAbihz_5QGlb"
   },
   "source": [
    "### What is Spark, anyway?"
   ]
  },
  {
   "cell_type": "markdown",
   "metadata": {
    "id": "rmokj7pho4Y5"
   },
   "source": [
    "Spark is a platform for cluster computing. Spark lets you spread data and computations over clusters with multiple nodes (think of each node as a separate computer). Splitting up your data makes it easier to work with very large datasets because each node only works with a small amount of data.\n",
    "\n",
    "As each node works on its own subset of the total data, it also carries out a part of the total calculations required, so that both data processing and computation are performed in parallel over the nodes in the cluster. It is a fact that parallel computation can make certain types of programming tasks much faster.\n",
    "\n",
    "However, with greater computing power comes greater complexity.\n",
    "\n",
    "Deciding whether or not Spark is the best solution for your problem takes some experience, but you can consider questions like:\n",
    "\n",
    "Is my data too big to work with on a single machine?\n",
    "Can my calculations be easily parallelized?"
   ]
  },
  {
   "cell_type": "markdown",
   "metadata": {
    "id": "iZzMkffPksXt"
   },
   "source": [
    "### Using Spark in Python"
   ]
  },
  {
   "cell_type": "markdown",
   "metadata": {
    "id": "EJdwVcIjktAf"
   },
   "source": [
    "The first step in using Spark is connecting to a cluster.\n",
    "\n",
    "In practice, the cluster will be hosted on a remote machine that's connected to all other nodes. There will be one computer, called the master that manages splitting up the data and the computations. The master is connected to the rest of the computers in the cluster, which are called worker. The master sends the workers data and calculations to run, and they send their results back to the master.\n",
    "\n",
    "When you're just getting started with Spark it's simpler to just run a cluster locally. Thus, for this course, instead of connecting to another computer, all computations will be run on DataCamp's servers in a simulated cluster.\n",
    "\n",
    "Creating the connection is as simple as creating an instance of the SparkContext class. The class constructor takes a few optional arguments that allow you to specify the attributes of the cluster you're connecting to.\n",
    "\n",
    "An object holding all these attributes can be created with the SparkConf() constructor. Take a look at the documentation for all the details!\n",
    "\n",
    "For the rest of this course you'll have a SparkContext called sc already available in your workspace."
   ]
  },
  {
   "cell_type": "code",
   "execution_count": null,
   "metadata": {
    "id": "x4sFYEe0sKa4"
   },
   "outputs": [],
   "source": [
    "#Example\n",
    "# Verify SparkContext\n",
    "print(sc) #verify if there's SparkContext in my environment\n",
    "\n",
    "# Print Spark version\n",
    "print(sc.version) #version of spark is running on my cluster"
   ]
  },
  {
   "cell_type": "markdown",
   "metadata": {
    "id": "WM9mz7EuktDf"
   },
   "source": [
    "### Using DataFrames"
   ]
  },
  {
   "cell_type": "markdown",
   "metadata": {
    "id": "Sie49rS3ksxX"
   },
   "source": [
    "Spark's core data structure is the Resilient Distributed Dataset (RDD). This is a low level object that lets Spark work its magic by splitting data across multiple nodes in the cluster. However, RDDs are hard to work with directly, so in this course you'll be using the Spark DataFrame abstraction built on top of RDDs.\n",
    "\n",
    "The Spark DataFrame was designed to behave a lot like a SQL table (a table with variables in the columns and observations in the rows). Not only are they easier to understand, DataFrames are also more optimized for complicated operations than RDDs.\n",
    "\n",
    "When you start modifying and combining columns and rows of data, there are many ways to arrive at the same result, but some often take much longer than others. When using RDDs, it's up to the data scientist to figure out the right way to optimize the query, but the DataFrame implementation has much of this optimization built in!\n",
    "\n",
    "To start working with Spark DataFrames, you first have to create a SparkSession object from your SparkContext. You can think of the SparkContext as your connection to the cluster and the SparkSession as your interface with that connection.\n",
    "\n",
    "Remember, for the rest of this course you'll have a SparkSession called spark available in your workspace!\n",
    "\n",
    "Which of the following is an advantage of Spark DataFrames over RDDs?"
   ]
  },
  {
   "cell_type": "code",
   "execution_count": null,
   "metadata": {
    "id": "87-M1Fhdu8_G"
   },
   "outputs": [],
   "source": [
    "#Example: check if there is one SparkSession\n",
    "# Import SparkSession from pyspark.sql\n",
    "from pyspark.sql import SparkSession\n",
    "\n",
    "# Create my_spark\n",
    "my_spark = SparkSession.builder.getOrCreate()\n",
    "\n",
    "# Print my_spark\n",
    "print(my_spark)\n",
    "\n",
    "#output\n",
    "Using Python version 3.5.2 (default, Nov 23 2017 16:37:01)\n",
    "SparkSession available as 'spark'.\n",
    "\n",
    "<script.py> output:\n",
    "    <pyspark.sql.session.SparkSession object at 0x7f8dd40cf8d0>"
   ]
  },
  {
   "cell_type": "code",
   "execution_count": null,
   "metadata": {
    "id": "ykySPlb2vhgF"
   },
   "outputs": [],
   "source": [
    "#Example: check data in the cluster\n",
    "# Print the tables in the catalog\n",
    "print(spark.catalog.listTables()) #catalog prints all data inside the cluster. .listTables is a popular method\n",
    "\n",
    "#output\n",
    "<script.py> output:\n",
    "    [Table(name='flights', database=None, description=None, tableType='TEMPORARY', isTemporary=True)]\n"
   ]
  },
  {
   "cell_type": "code",
   "execution_count": null,
   "metadata": {
    "id": "KJVDA9I66rBA"
   },
   "outputs": [],
   "source": [
    "#Example: using query\n",
    "# Don't change this query\n",
    "query = \"FROM flights SELECT * LIMIT 10\"\n",
    "\n",
    "# Get the first 10 rows of flights\n",
    "flights10 = spark.sql(query)\n",
    "\n",
    "# Show the results\n",
    "flights10.show()"
   ]
  },
  {
   "cell_type": "code",
   "execution_count": null,
   "metadata": {
    "id": "qcyvgVsK6q0x"
   },
   "outputs": [],
   "source": [
    "#Example: convert data from spark towork with pandas\n",
    "# Don't change this query\n",
    "query = \"SELECT origin, dest, COUNT(*) as N FROM flights GROUP BY origin, dest\"\n",
    "\n",
    "# Run the query\n",
    "flight_counts = spark.sql(query)\n",
    "\n",
    "# Convert the results to a pandas DataFrame\n",
    "pd_counts = flight_counts.toPandas()\n",
    "\n",
    "# Print the head of pd_counts\n",
    "print(pd_counts.head())"
   ]
  },
  {
   "cell_type": "markdown",
   "metadata": {
    "id": "8sXQ6hXO_9k7"
   },
   "source": [
    "Example: convert a pandas dataframe to a sparksession dataframe. \n",
    "- To work locally, we have to save it as a temporary table (createtempview()) - just put the temporary table to register\n",
    "- .createOrReplaceTempView() is another method to avoid problems of duplicate tables"
   ]
  },
  {
   "cell_type": "markdown",
   "metadata": {
    "id": "jKPJqUms_6WN"
   },
   "source": [
    "![image.png](data:image/png;base64,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)"
   ]
  },
  {
   "cell_type": "code",
   "execution_count": null,
   "metadata": {
    "id": "yw3kLH6z-h6Z"
   },
   "outputs": [],
   "source": [
    "#Example: create temporary file\n",
    "# Create pd_temp\n",
    "pd_temp = pd.DataFrame(np.random.random(10))\n",
    "\n",
    "# Create spark_temp from pd_temp\n",
    "spark_temp = spark.createDataFrame(pd_temp)\n",
    "\n",
    "# Examine the tables in the catalog\n",
    "print(spark.catalog.listTables()) #shows nothing\n",
    "\n",
    "# Add spark_temp to the catalog\n",
    "spark_temp.createOrReplaceTempView(\"temp\")\n",
    "\n",
    "# Examine the tables in the catalog again\n",
    "print(spark.catalog.listTables())\n",
    "\n",
    "#shows <script.py> output:\n",
    "#    []\n",
    "#    [Table(name='temp', database=None, description=None, tableType='TEMPORARY', isTemporary=True)]"
   ]
  },
  {
   "cell_type": "code",
   "execution_count": null,
   "metadata": {
    "id": "sQDmwK7XBa6_"
   },
   "outputs": [],
   "source": [
    "#Example: read directly to pyspark\n",
    "# Don't change this file path\n",
    "file_path = \"/usr/local/share/datasets/airports.csv\"\n",
    "\n",
    "# Read in the airports data\n",
    "airports = spark.read.csv(file_path, header=True)\n",
    "\n",
    "# Show the data\n",
    "airports.show()"
   ]
  },
  {
   "cell_type": "markdown",
   "metadata": {
    "id": "T0XkyzmoQGnu"
   },
   "source": [
    "## Manipulating data"
   ]
  },
  {
   "cell_type": "markdown",
   "metadata": {
    "id": "WftMoSAGCiSu"
   },
   "source": [
    "### Creating columns"
   ]
  },
  {
   "cell_type": "markdown",
   "metadata": {
    "id": "oc0pfaQ5Gn5D"
   },
   "source": [
    "Creating columns\n",
    "In this chapter, you'll learn how to use the methods defined by Spark's DataFrame class to perform common data operations.\n",
    "\n",
    "Let's look at performing column-wise operations. In Spark you can do this using the .withColumn() method, which takes two arguments. First, a string with the name of your new column, and second the new column itself.\n",
    "\n",
    "The new column must be an object of class Column. Creating one of these is as easy as extracting a column from your DataFrame using df.colName.\n",
    "\n",
    "Updating a Spark DataFrame is somewhat different than working in pandas because the Spark DataFrame is immutable. This means that it can't be changed, and so columns can't be updated in place.\n",
    "\n",
    "Thus, all these methods return a new DataFrame. To overwrite the original DataFrame you must reassign the returned DataFrame using the method like so:\n",
    "\n",
    "- df = df.withColumn(\"newCol\", df.oldCol + 1)\n",
    "\n",
    "The above code creates a DataFrame with the same columns as df plus a new column, newCol, where every entry is equal to the corresponding entry from oldCol, plus one.\n",
    "\n",
    "To overwrite an existing column, just pass the name of the column as the first argument!\n",
    "\n",
    "Remember, a SparkSession called spark is already in your workspace."
   ]
  },
  {
   "cell_type": "code",
   "execution_count": null,
   "metadata": {
    "id": "mznWXtJcCivy"
   },
   "outputs": [],
   "source": [
    "# Create the DataFrame flights\n",
    "flights = spark.table(\"flights\")\n",
    "\n",
    "# Show the head\n",
    "flights.show()\n",
    "\n",
    "# Add duration_hrs\n",
    "flights = flights.withColumn(\"duration_hrs\",flights.air_time/60)"
   ]
  },
  {
   "cell_type": "markdown",
   "metadata": {
    "id": "9AXphiV-k0eJ"
   },
   "source": [
    "### SQL in a nutshell"
   ]
  },
  {
   "cell_type": "markdown",
   "metadata": {
    "id": "Imn_fJ8Asdvc"
   },
   "source": [
    "As you move forward, it will help to have a basic understanding of SQL. A more in depth look can be found here.\n",
    "\n",
    "A SQL query returns a table derived from one or more tables contained in a database.\n",
    "\n",
    "Every SQL query is made up of commands that tell the database what you want to do with the data. The two commands that every query has to contain are SELECT and FROM.\n",
    "\n",
    "The SELECT command is followed by the columns you want in the resulting table.\n",
    "\n",
    "The FROM command is followed by the name of the table that contains those columns. The minimal SQL query is:\n",
    "- SELECT * FROM my_table;\n",
    "\n",
    "The * selects all columns, so this returns the entire table named my_table.\n",
    "\n",
    "Similar to .withColumn(), you can do column-wise computations within a SELECT statement. For example,\n",
    "\n",
    "- SELECT origin, dest, air_time / 60 FROM flights;\n",
    "\n",
    "returns a table with the origin, destination, and duration in hours for each flight.\n",
    "\n",
    "Another commonly used command is WHERE. This command filters the rows of the table based on some logical condition you specify. The resulting table contains the rows where your condition is true. For example, if you had a table of students and grades you could do:\n",
    "- SELECT * FROM students\n",
    "- WHERE grade = 'A';\n",
    "\n",
    "to select all the columns and the rows containing information about students who got As."
   ]
  },
  {
   "cell_type": "markdown",
   "metadata": {
    "id": "he7JAq6ek0bc"
   },
   "source": [
    "### SQL in a nutshell 2"
   ]
  },
  {
   "cell_type": "markdown",
   "metadata": {
    "id": "TgeNCFiHsdtC"
   },
   "source": [
    "Another common database task is aggregation. That is, reducing your data by breaking it into chunks and summarizing each chunk.\n",
    "\n",
    "This is done in SQL using the GROUP BY command. This command breaks your data into groups and applies a function from your SELECT statement to each group.\n",
    "\n",
    "For example, if you wanted to count the number of flights from each of two origin destinations, you could use the query\n",
    "\n",
    "- SELECT COUNT(*) FROM flights\n",
    "- GROUP BY origin;\n",
    "\n",
    "GROUP BY origin tells SQL that you want the output to have a row for each unique value of the origin column. The SELECT statement selects the values you want to populate each of the columns. Here, we want to COUNT() every row in each of the groups.\n",
    "\n",
    "It's possible to GROUP BY more than one column. When you do this, the resulting table has a row for every combination of the unique values in each column. The following query counts the number of flights from SEA and PDX to every destination airport:\n",
    "\n",
    "- SELECT origin, dest, COUNT(*) FROM flights\n",
    "- GROUP BY origin, dest;\n",
    "\n",
    "The output will have a row for every combination of the values in origin and dest (i.e. a row listing each origin and destination that a flight flew to). There will also be a column with the COUNT() of all the rows in each group.\n",
    "\n",
    "Remember, a more in depth look at SQL can be found here.\n",
    "\n",
    "What information would this query get? Remember the flights table holds information about flights that departed PDX and SEA in 2014 and 2015. Note that AVG() function gets the average value of a column!\n",
    "\n",
    "- SELECT AVG(air_time) / 60 FROM flights\n",
    "- GROUP BY origin, carrier;"
   ]
  },
  {
   "cell_type": "markdown",
   "metadata": {
    "id": "bdSwnfWeQGrs"
   },
   "source": [
    "### Filtering data in Spark"
   ]
  },
  {
   "cell_type": "markdown",
   "metadata": {
    "id": "Bk1QUD1FZZI2"
   },
   "source": [
    "Now that you have a bit of SQL know-how under your belt, it's easier to talk about the analogous operations using Spark DataFrames.\n",
    "\n",
    "Let's take a look at the .filter() method. As you might suspect, this is the Spark counterpart of SQL's WHERE clause. The .filter() method takes either an expression that would follow the WHERE clause of a SQL expression as a string, or a Spark Column of boolean (True/False) values.\n",
    "\n",
    "For example, the following two expressions will produce the same output:\n",
    "\n",
    "- flights.filter(\"air_time > 120\").show() #returns the values\n",
    "- flights.filter(flights.air_time > 120).show() #boolean columns\n",
    "\n",
    "Notice that in the first case, we pass a string to .filter(). In SQL, we would write this filtering task as SELECT * FROM flights WHERE air_time > 120. Spark's .filter() can accept any expression that could go in the WHEREclause of a SQL query (in this case, \"air_time > 120\"), as long as it is passed as a string. Notice that in this case, we do not reference the name of the table in the string -- as we wouldn't in the SQL request.\n",
    "\n",
    "In the second case, we actually pass a column of boolean values to .filter(). Remember that flights.air_time > 120 returns a column of boolean values that has True in place of those records in flights.air_time that are over 120, and False otherwise.\n",
    "\n",
    "Remember, a SparkSession called spark is already in your workspace, along with the Spark DataFrame flights."
   ]
  },
  {
   "cell_type": "code",
   "execution_count": null,
   "metadata": {
    "id": "FdYWmKbuZ7dH"
   },
   "outputs": [],
   "source": [
    "#Example: filter based on a column value\n",
    "# Filter flights by passing a string\n",
    "long_flights1 = flights.filter(\"distance > 1000\")\n",
    "\n",
    "# Filter flights by passing a column of boolean values\n",
    "long_flights2 = flights.filter(flights.distance > 1000)\n",
    "\n",
    "# Print the data to check they're equal\n",
    "long_flights1.show()\n",
    "long_flights2.show()"
   ]
  },
  {
   "cell_type": "markdown",
   "metadata": {
    "id": "GVZgqp2GcLIU"
   },
   "source": [
    "### Selecting\n",
    "\n",
    "The Spark variant of SQL's SELECT is the .select() method. This method takes multiple arguments - one for each column you want to select. These arguments can either be the column name as a string (one for each column) or a column object (using the df.colName syntax). When you pass a column object, you can perform operations like addition or subtraction on the column to change the data contained in it, much like inside .withColumn().\n",
    "\n",
    "The difference between .select() and .withColumn() methods is that .select() returns only the columns you specify, while .withColumn() returns all the columns of the DataFrame in addition to the one you defined. It's often a good idea to drop columns you don't need at the beginning of an operation so that you're not dragging around extra data as you're wrangling. In this case, you would use .select() and not .withColumn().\n",
    "\n",
    "Remember, a SparkSession called spark is already in your workspace, along with the Spark DataFrame flights."
   ]
  },
  {
   "cell_type": "code",
   "execution_count": null,
   "metadata": {
    "id": "ACx2vNHtdPj4"
   },
   "outputs": [],
   "source": [
    "#Example\n",
    "# Select the first set of columns\n",
    "selected1 = flights.select(\"tailnum\", \"origin\", \"dest\")\n",
    "\n",
    "# Select the second set of columns\n",
    "temp = flights.select(flights.origin, flights.dest, flights.carrier)\n",
    "\n",
    "# Define first filter\n",
    "filterA = flights.origin == \"SEA\"\n",
    "\n",
    "# Define second filter\n",
    "filterB = flights.dest == \"PDX\"\n",
    "\n",
    "# Filter the data, first by filterA then by filterB\n",
    "selected2 = temp.filter(filterA).filter(filterB)"
   ]
  },
  {
   "cell_type": "markdown",
   "metadata": {
    "id": "OXiNv4dQdO9n"
   },
   "source": [
    "### Selecting 2\n",
    "Similar to SQL, you can also use the .select() method to perform column-wise operations. When you're selecting a column using the df.colName notation, you can perform any column operation and the .select() method will return the transformed column. For example,\n",
    "\n",
    "- flights.select(flights.air_time/60)\n",
    "\n",
    "returns a column of flight durations in hours instead of minutes. You can also use the .alias() method to rename a column you're selecting. So if you wanted to .select() the column duration_hrs (which isn't in your DataFrame) you could do\n",
    "\n",
    "- flights.select((flights.air_time/60).alias(\"duration_hrs\"))\n",
    "\n",
    "The equivalent Spark DataFrame method .selectExpr() takes SQL expressions as a string:\n",
    "\n",
    "- flights.selectExpr(\"air_time/60 as duration_hrs\")\n",
    "\n",
    "with the SQL as keyword being equivalent to the .alias() method. To select multiple columns, you can pass multiple strings.\n",
    "\n",
    "Remember, a SparkSession called spark is already in your workspace, along with the Spark DataFrame flights."
   ]
  },
  {
   "cell_type": "code",
   "execution_count": null,
   "metadata": {
    "id": "rAVYQnd_fTBk"
   },
   "outputs": [],
   "source": [
    "#Example\n",
    "# Define avg_speed\n",
    "avg_speed = (flights.distance/(flights.air_time/60)).alias(\"avg_speed\")\n",
    "\n",
    "# Select the correct columns\n",
    "speed1 = flights.select(\"origin\", \"dest\", \"tailnum\", avg_speed)\n",
    "\n",
    "# Create the same table using a SQL expression\n",
    "speed2 = flights.selectExpr(\"origin\", \"dest\", \"tailnum\", \"distance/(air_time/60) as avg_speed\")"
   ]
  },
  {
   "cell_type": "markdown",
   "metadata": {
    "id": "Nbjleij_cLFy"
   },
   "source": [
    "### Aggregating\n",
    "All of the common aggregation methods, like .min(), .max(), and .count() are GroupedData methods. These are created by calling the .groupBy() DataFrame method. You'll learn exactly what that means in a few exercises. For now, all you have to do to use these functions is call that method on your DataFrame. For example, to find the minimum value of a column, col, in a DataFrame, df, you could do\n",
    "\n",
    "- df.groupBy().min(\"col\").show()\n",
    "\n",
    "This creates a GroupedData object (so you can use the .min() method), then finds the minimum value in col, and returns it as a DataFrame.\n",
    "\n",
    "Now you're ready to do some aggregating of your own!\n",
    "\n",
    "A SparkSession called spark is already in your workspace, along with the Spark DataFrame flights."
   ]
  },
  {
   "cell_type": "code",
   "execution_count": null,
   "metadata": {
    "id": "9ZQl2irhhMBK"
   },
   "outputs": [],
   "source": [
    "#Example 1\n",
    "\n",
    "# Find the shortest flight from PDX in terms of distance\n",
    "flights.filter(flights.origin == \"PDX\").groupBy().min(\"distance\").show()\n",
    "\n",
    "# Find the longest flight from SEA in terms of air time\n",
    "flights.filter(flights.origin == \"SEA\").groupBy().max(\"air_time\").show()"
   ]
  },
  {
   "cell_type": "code",
   "execution_count": null,
   "metadata": {
    "id": "fKG83mmphfJC"
   },
   "outputs": [],
   "source": [
    "# Example 2\n",
    "\n",
    "# Average duration of Delta flights\n",
    "flights.filter(flights.carrier == \"DL\").filter(flights.origin == \"SEA\").groupBy().avg(\"air_time\").show()\n",
    "\n",
    "# Total hours in the air\n",
    "flights.withColumn(\"duration_hrs\", flights.air_time/60).groupBy().sum(\"duration_hrs\").show()"
   ]
  },
  {
   "cell_type": "markdown",
   "metadata": {
    "id": "8BDWp254gDzK"
   },
   "source": [
    "### Grouping and Aggregating I\n",
    "Part of what makes aggregating so powerful is the addition of groups. PySpark has a whole class devoted to grouped data frames: pyspark.sql.GroupedData, which you saw in the last two exercises.\n",
    "\n",
    "You've learned how to create a grouped DataFrame by calling the .groupBy() method on a DataFrame with no arguments.\n",
    "\n",
    "Now you'll see that when you pass the name of one or more columns in your DataFrame to the .groupBy() method, the aggregation methods behave like when you use a GROUP BY statement in a SQL query!"
   ]
  },
  {
   "cell_type": "code",
   "execution_count": null,
   "metadata": {
    "id": "DYwR2ZFHmLr1"
   },
   "outputs": [],
   "source": [
    "#Example\n",
    "# Group by tailnum\n",
    "by_plane = flights.groupBy(\"tailnum\")\n",
    "\n",
    "# Number of flights each plane made\n",
    "by_plane.count().show()\n",
    "\n",
    "# Group by origin\n",
    "by_origin = flights.groupBy(\"origin\") #there is only sea and pdx\n",
    "\n",
    "# Average duration of flights from PDX and SEA\n",
    "by_origin.avg(\"air_time\").show()"
   ]
  },
  {
   "cell_type": "markdown",
   "metadata": {
    "id": "9jLVKol1cLDN"
   },
   "source": [
    "### Grouping and Aggregating II\n",
    "In addition to the GroupedData methods you've already seen, there is also the .agg() method. This method lets you pass an aggregate column expression that uses any of the aggregate functions from the pyspark.sql.functions submodule.\n",
    "\n",
    "This submodule contains many useful functions for computing things like standard deviations. All the aggregation functions in this submodule take the name of a column in a GroupedData table.\n",
    "\n",
    "Remember, a SparkSession called spark is already in your workspace, along with the Spark DataFrame flights. The grouped DataFrames you created in the last exercise are also in your workspace."
   ]
  },
  {
   "cell_type": "code",
   "execution_count": null,
   "metadata": {
    "id": "BDipdfpCnuFi"
   },
   "outputs": [],
   "source": [
    "#Example\n",
    "# Import pyspark.sql.functions as F\n",
    "import pyspark.sql.functions as F\n",
    "\n",
    "# Group by month and dest\n",
    "by_month_dest = flights.groupBy(\"month\", \"dest\")\n",
    "\n",
    "# Average departure delay by month and destination\n",
    "by_month_dest.avg(\"dep_delay\").show()\n",
    "\n",
    "# Standard deviation of departure delay\n",
    "by_month_dest.agg(F.stddev(\"dep_delay\")).show()"
   ]
  },
  {
   "cell_type": "markdown",
   "metadata": {
    "id": "kiYpuDWuo-KL"
   },
   "source": [
    "### Joining\n",
    "Another very common data operation is the join. Joins are a whole topic unto themselves, so in this course we'll just look at simple joins. If you'd like to learn more about joins, you can take a look here.\n",
    "\n",
    "A join will combine two different tables along a column that they share. This column is called the key. Examples of keys here include the tailnum and carrier columns from the flights table.\n",
    "\n",
    "For example, suppose that you want to know more information about the plane that flew a flight than just the tail number. This information isn't in the flights table because the same plane flies many different flights over the course of two years, so including this information in every row would result in a lot of duplication. To avoid this, you'd have a second table that has only one row for each plane and whose columns list all the information about the plane, including its tail number. You could call this table planes\n",
    "\n",
    "When you join the flights table to this table of airplane information, you're adding all the columns from the planes table to the flights table. To fill these columns with information, you'll look at the tail number from the flights table and find the matching one in the planes table, and then use that row to fill out all the new columns.\n",
    "\n",
    "Now you'll have a much bigger table than before, but now every row has all information about the plane that flew that flight!"
   ]
  },
  {
   "cell_type": "markdown",
   "metadata": {
    "id": "UOc4JTVIp7CG"
   },
   "source": [
    "In PySpark, joins are performed using the DataFrame method .join(). This method takes three arguments. The first is the second DataFrame that you want to join with the first one. The second argument, on, is the name of the key column(s) as a string. The names of the key column(s) must be the same in each table. The third argument, how, specifies the kind of join to perform. In this course we'll always use the value how=\"leftouter\".\n",
    "\n",
    "The flights dataset and a new dataset called airports are already in your workspace."
   ]
  },
  {
   "cell_type": "code",
   "execution_count": null,
   "metadata": {
    "id": "QCQHTtDYo-fT"
   },
   "outputs": [],
   "source": [
    "#Example\n",
    "# Examine the data\n",
    "print(airports.show())\n",
    "\n",
    "# Rename the faa column\n",
    "airports = airports.withColumnRenamed(\"faa\", \"dest\")\n",
    "\n",
    "# Join the DataFrames\n",
    "flights_with_airports = flights.join(airports, on = \"dest\", how = \"leftouter\")\n",
    "\n",
    "# Examine the new DataFrame\n",
    "print(flights_with_airports.show())"
   ]
  },
  {
   "cell_type": "markdown",
   "metadata": {
    "id": "9ORvVPygQG1C"
   },
   "source": [
    "## Getting started with machine learning pipelines"
   ]
  },
  {
   "cell_type": "markdown",
   "metadata": {
    "id": "rt97cmxKQGwq"
   },
   "source": []
  },
  {
   "cell_type": "markdown",
   "metadata": {
    "id": "IjLxzRelQGy_"
   },
   "source": []
  },
  {
   "cell_type": "markdown",
   "metadata": {
    "id": "1qdkk_XJQGuG"
   },
   "source": []
  },
  {
   "cell_type": "markdown",
   "metadata": {
    "id": "B6dkkK92QG3L"
   },
   "source": [
    "## Model tuning and selection"
   ]
  },
  {
   "cell_type": "markdown",
   "metadata": {
    "id": "nrpQB5TUQ8ig"
   },
   "source": []
  },
  {
   "cell_type": "markdown",
   "metadata": {
    "id": "8sV6agKcCsZ1"
   },
   "source": []
  },
  {
   "cell_type": "markdown",
   "metadata": {
    "id": "HsXMI5loCsHF"
   },
   "source": []
  },
  {
   "cell_type": "markdown",
   "metadata": {
    "id": "G1qgMJFSCr4h"
   },
   "source": []
  },
  {
   "cell_type": "markdown",
   "metadata": {
    "id": "JouNelenCrsy"
   },
   "source": []
  },
  {
   "cell_type": "markdown",
   "metadata": {
    "id": "K0iAhu9PQGhV"
   },
   "source": [
    "# Big Data Fundamentals with PySpark"
   ]
  },
  {
   "cell_type": "markdown",
   "metadata": {
    "id": "DDoEqGkvQ8bg"
   },
   "source": [
    "Upendra Devisetty "
   ]
  },
  {
   "cell_type": "markdown",
   "metadata": {
    "id": "ra7u8OYJRXHd"
   },
   "source": [
    "## Introduction to Big Data analysis with Spark"
   ]
  },
  {
   "cell_type": "markdown",
   "metadata": {
    "id": "1TMq1rXZDAgw"
   },
   "source": [
    "### Fundamentals of Big Data"
   ]
  },
  {
   "cell_type": "markdown",
   "metadata": {
    "id": "xMJjj_tA9U90"
   },
   "source": [
    "- What is Big Data?\n",
    "  - Big data is a term used to refer to the study and applications of data sets that are too complex for traditional data-processing software - Wikipedia\n",
    "\n",
    "- The 3 V's of Big Data: Volume, Variety and Velocity\n",
    "  - Volume: Size of the data\n",
    "  - Variety: Dierent sources and formats\n",
    "  - Velocity: Speed of the data\n",
    "\n",
    "- Big Data concepts and Terminology\n",
    "  - Clustered computing: Collection of resources of multiple machines\n",
    "  - Parallel computing: Simultaneous computation\n",
    "  - Distributed computing: Collection of nodes (networked computers) that run in parallel\n",
    "  - Batch processing: Breaking the job into small pieces and running them on individual machines\n",
    "  - Real-time processing: Immediate processing of data\n",
    "\n",
    "- Big Data processing systems\n",
    "  - Hadoop/MapReduce: Scalable and fault tolerant framework written in Java\n",
    "   - Open source\n",
    "   - Batch processing\n",
    "  - Apache Spark: General purpose and lightning fast cluster computing system\n",
    "    - Open source\n",
    "    - Both batch and real-time data processing\n",
    "\n",
    "- Features of Apache Spark framework\n",
    "  - Distributed cluster computing framework\n",
    "  - Efficient in-memory computations for large data sets\n",
    "  - Lightning fast data processing framework\n",
    "  - Provides support for Java, Scala, Python, R and SQL\n"
   ]
  },
  {
   "cell_type": "markdown",
   "metadata": {
    "id": "9sGJKigY-d9P"
   },
   "source": [
    "![image.png](data:image/png;base64,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)"
   ]
  },
  {
   "cell_type": "markdown",
   "metadata": {
    "id": "-QPRp5gp-g_n"
   },
   "source": [
    "- SQL, machine learning, manipulating graphs, scalable real time data analysis"
   ]
  },
  {
   "cell_type": "markdown",
   "metadata": {
    "id": "nWsG0NkS-pFq"
   },
   "source": [
    "- Spark modes of deployment\n",
    "  - Local mode: Single machine such as your laptop\n",
    "    - Local model convenient for testing, debugging and demonstration\n",
    "  - Cluster mode: Set of pre-dened machines\n",
    "    - Good for production\n",
    "  - Workow: Local -> clusters\n",
    "  - No code change necessary"
   ]
  },
  {
   "cell_type": "markdown",
   "metadata": {
    "id": "aRULkKsyDHQN"
   },
   "source": [
    "### PySpark: Spark with Python"
   ]
  },
  {
   "cell_type": "markdown",
   "metadata": {
    "id": "l1fN7aHfRizW"
   },
   "source": [
    "Overview of PySpark (spark programming language for pthon)\n",
    "- Apache Spark is wrien in Scala\n",
    "- To support Python with Spark, Apache Spark Community released PySpark\n",
    "- Similar computation speed and power as Scala\n",
    "- PySpark APIs are similar to Pandas and Scikit-learn"
   ]
  },
  {
   "cell_type": "markdown",
   "metadata": {
    "id": "JSpExyPDRiwI"
   },
   "source": [
    "What is Spark shell?\n",
    "- Interactive environment for running Spark jobs\n",
    "- Helpful for fast interactive prototyping\n",
    "- Spark’s shells allow interacting with data on disk or in memory\n",
    "- Three dierent Spark shells:\n",
    "  - Spark-shell for Scala\n",
    "  - PySpark-shell for Python\n",
    "  - SparkR for R"
   ]
  },
  {
   "cell_type": "markdown",
   "metadata": {
    "id": "QPVVmG91SaL6"
   },
   "source": [
    "PySpark shell\n",
    "- PySpark shell is the Python-based command line tool\n",
    "- PySpark shell allows data scientists interface with Spark data structures\n",
    "- PySpark shell support connecting to a cluster"
   ]
  },
  {
   "cell_type": "markdown",
   "metadata": {
    "id": "7VsRivvZSe6V"
   },
   "source": [
    "Understanding SparkContext\n",
    "- SparkContext is an entry point into the world of Spark\n",
    "- An entry point is a way of connecting to Spark cluster\n",
    "- An entry point is like a key to the house (if do not have contextex, can not enter in the house)\n",
    "- PySpark has a default SparkContext called sc"
   ]
  },
  {
   "cell_type": "markdown",
   "metadata": {
    "id": "VZAcWnveSqU_"
   },
   "source": [
    "Inspecting SparkContext\n",
    "- Version: To retrieve SparkContext version\n",
    "  - Command: sc.version\n",
    "  - Output: 2.3.1\n",
    "- Python Version: To retrieve Python version of SparkContext\n",
    "  - Command: sc.pythonVer\n",
    "  - Output: 3.6\n",
    "- Master: URL of the cluster or “local” string to run in local mode of SparkContext\n",
    "  - Command: sc.master\n",
    "  - Output: local[*]"
   ]
  },
  {
   "cell_type": "markdown",
   "metadata": {
    "id": "ngJEyErETQw0"
   },
   "source": [
    "Loading data in PySpark\n",
    "- SparkContext's parallelize() method\n",
    "- command: rdd = sc.parallelize([1,2,3,4,5])\n",
    "- SparkContext's textFile() method\n",
    "- command: rdd2 = sc.textFile(\"test.txt\")"
   ]
  },
  {
   "cell_type": "code",
   "execution_count": null,
   "metadata": {
    "id": "o-RRPsK2DosJ"
   },
   "outputs": [],
   "source": [
    "#Example 0 versions\n",
    "# Print the version of SparkContext\n",
    "print(\"The version of Spark Context in the PySpark shell is\", sc.version)\n",
    "\n",
    "# Print the Python version of SparkContext\n",
    "print(\"The Python version of Spark Context in the PySpark shell is\", sc.pythonVer)\n",
    "\n",
    "# Print the master of SparkContext\n",
    "print(\"The master of Spark Context in the PySpark shell is\", sc.master)\n",
    "\n",
    "#Example - load list of number\n",
    "# Create a Python list of numbers from 1 to 100 \n",
    "numb = range(1, 100)\n",
    "\n",
    "# Load the list into PySpark  \n",
    "spark_data = sc.parallelize(numb)\n",
    "\n",
    "#Example - load a file from filepath\n",
    "# Load a local file into PySpark shell\n",
    "lines = sc.textFile(file_path)"
   ]
  },
  {
   "cell_type": "markdown",
   "metadata": {
    "id": "FJJ6S2iXRXFK"
   },
   "source": [
    "### Review of functional programming in Python (Use of Lambda function in python - filter())"
   ]
  },
  {
   "cell_type": "markdown",
   "metadata": {
    "id": "i8uUsdP1a_Uk"
   },
   "source": [
    "What are anonymous functions in Python?\n",
    "- Lambda functions are anonymous functions in Python\n",
    "- Very powerful and used in Python. Quite ecient with map() and filter()\n",
    "- Lambda functions create functions to be called later similar to def\n",
    "- It returns the functions without any name (i.e anonymous)\n",
    "- Inline a function denition or to defer execution of a code"
   ]
  },
  {
   "cell_type": "markdown",
   "metadata": {
    "id": "bkg20s8sa_Ol"
   },
   "source": [
    "Lambda function syntax\n",
    "- The general form of lambda functions is: lambda arguments: expression\n",
    "- Example of lambda function\n",
    "  - double = lambda x: x * 2\n",
    "  - print(double(3))\n",
    "  - output: 6"
   ]
  },
  {
   "cell_type": "markdown",
   "metadata": {
    "id": "_1sHz6rODViB"
   },
   "source": [
    "Difference between def vs lambda functions\n",
    "- Python code to illustrate cube of a number:"
   ]
  },
  {
   "cell_type": "markdown",
   "metadata": {
    "id": "DRNjkjkEct6o"
   },
   "source": [
    "![image.png](data:image/png;base64,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)"
   ]
  },
  {
   "cell_type": "markdown",
   "metadata": {
    "id": "sA4AJ30ectVR"
   },
   "source": [
    "- No return statement for lambda\n",
    "- Can put lambda function anywhere"
   ]
  },
  {
   "cell_type": "markdown",
   "metadata": {
    "id": "4YvduYn6c07d"
   },
   "source": [
    "Use of Lambda function in Python - map()\n",
    "- map() function takes a function and a list and returns a new list which contains items\n",
    "returned by that function for each item\n",
    "- General syntax of map(): map(function, list)\n",
    "- Example of map()\n"
   ]
  },
  {
   "cell_type": "markdown",
   "metadata": {
    "id": "B0HBw8JbDWC1"
   },
   "source": [
    "![image.png](data:image/png;base64,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)"
   ]
  },
  {
   "cell_type": "markdown",
   "metadata": {
    "id": "lTljGHOWdHV9"
   },
   "source": [
    "Use of Lambda function in python - filter()\n",
    "- filter() function takes a function and a list and returns a new list for which the function evaluates as true\n",
    "- General syntax of filter(): filter(function, list)\n",
    "- Example of filter()"
   ]
  },
  {
   "cell_type": "markdown",
   "metadata": {
    "id": "26N8FW3MdtvY"
   },
   "source": [
    "![image.png](data:image/png;base64,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)"
   ]
  },
  {
   "cell_type": "code",
   "execution_count": null,
   "metadata": {
    "id": "gzOS1FULgWSa"
   },
   "outputs": [],
   "source": [
    "#Example - map and lambda\n",
    "# Print my_list in the console\n",
    "print(\"Input list is\", my_list)\n",
    "\n",
    "# Square all numbers in my_list\n",
    "squared_list_lambda = list(map(lambda x: x**2, my_list))\n",
    "\n",
    "# Print the result of the map function\n",
    "print(\"The squared numbers are\", squared_list_lambda)\n",
    "\n",
    "#Example - filter and lambda\n",
    "# Print my_list2 in the console\n",
    "print(\"Input list is:\", my_list2)\n",
    "\n",
    "# Filter numbers divisible by 10\n",
    "filtered_list = list(filter(lambda x: (x%10 == 0), my_list2))\n",
    "\n",
    "# Print the numbers divisible by 10\n",
    "print(\"Numbers divisible by 10 are:\", filtered_list)"
   ]
  },
  {
   "cell_type": "markdown",
   "metadata": {
    "id": "VVIpVX4DRXCR"
   },
   "source": [
    "## Programming in PySpark RDD's"
   ]
  },
  {
   "cell_type": "markdown",
   "metadata": {
    "id": "T4zh8-1iDtRW"
   },
   "source": [
    "### Abstracting Data with RDDs"
   ]
  },
  {
   "cell_type": "markdown",
   "metadata": {
    "id": "m9ULGCsZhF5r"
   },
   "source": [
    "- RDD = Resilient Distributed Datasets (collection of data distributed against a cluster). It distributes the data against several nodes\n",
    "- Decomposing RDDs (Resilient Distributed Datasets)\n",
    "  - Resilient: Ability to withstand failures\n",
    "  - Distributed: Spanning across multiple machines\n",
    "  - Datasets: Collection of partitioned data e.g, Arrays, Tables, Tuples etc.,"
   ]
  },
  {
   "cell_type": "markdown",
   "metadata": {
    "id": "6RzMnrT4jdf9"
   },
   "source": [
    "Creating RDDs. How to do it?\n",
    "- Parallelizing an existing collection of objects\n",
    "- External datasets:\n",
    "  - Files in HDFS\n",
    "  - Objects in Amazon S3 bucket\n",
    "  - lines in a text file\n",
    "- From existing RDDs"
   ]
  },
  {
   "cell_type": "markdown",
   "metadata": {
    "id": "I7fysK2NDtJc"
   },
   "source": [
    "Parallelized collection (parallelizing)\n",
    "- parallelize() for creating RDDs from python lists\n",
    "  - numRDD = sc.parallelize ([1,2,3,4])\n",
    "  - helloRDD = sc.parallelize (\"Hello world\")\n",
    "  - type (helloRDD)\n",
    "    - output: <class 'pyspark.rdd.PipelinedRDD'>"
   ]
  },
  {
   "cell_type": "markdown",
   "metadata": {
    "id": "1DhdqToykUju"
   },
   "source": [
    "From external datasets (most common)\n",
    "- textFile() for creating RDDs from external datasets\n",
    "- fileRDD = sc.textFile(\"README.md\")\n",
    "- type(fileRDD)\n",
    "  - <class 'pyspark.rdd.PipelinedRDD'>"
   ]
  },
  {
   "cell_type": "markdown",
   "metadata": {
    "id": "AtAqGVB7kc1P"
   },
   "source": [
    "Understanding Partitioning in PySpark\n",
    "- A partition is a logical division of a large distributed data set\n",
    "- parallelize() method\n",
    "  - numRDD = sc.parallelize(range(10), minPartitions = 6)\n",
    "- textFile() method\n",
    "  - fileRDD = sc.textFile(\"README.md\"\n",
    ", minPartitions = 6)\n",
    "- The number of partitions in an RDD can be found by using getNumPartitions() method"
   ]
  },
  {
   "cell_type": "code",
   "execution_count": null,
   "metadata": {
    "id": "tYlexs1MoMZ1"
   },
   "outputs": [],
   "source": [
    "#Example 1 - create RDD\n",
    "# Create an RDD from a list of words\n",
    "RDD = sc.parallelize([\"Spark\", \"is\", \"a\", \"framework\", \"for\", \"Big Data processing\"])\n",
    "\n",
    "# Print out the type of the created object\n",
    "print(\"The type of RDD is\", type(RDD))"
   ]
  },
  {
   "cell_type": "code",
   "execution_count": null,
   "metadata": {
    "id": "JII7Q0ZWmKMl"
   },
   "outputs": [],
   "source": [
    "#Example 2 - create RDD from a file_path\n",
    "# Print the file_path\n",
    "print(\"The file_path is\", file_path)\n",
    "\n",
    "# Create a fileRDD from file_path\n",
    "fileRDD = sc.textFile(file_path)\n",
    "\n",
    "# Check the type of fileRDD\n",
    "print(\"The file type of fileRDD is\", type(fileRDD))"
   ]
  },
  {
   "cell_type": "code",
   "execution_count": null,
   "metadata": {
    "id": "eI4bVLiKmL4V"
   },
   "outputs": [],
   "source": [
    "#Example 3 - get the number of partitions\n",
    "# Check the number of partitions in fileRDD\n",
    "print(\"Number of partitions in fileRDD is\", fileRDD.getNumPartitions())\n",
    "\n",
    "# Create a fileRDD_part from file_path with 5 partitions\n",
    "fileRDD_part = sc.textFile(file_path, minPartitions = 5)\n",
    "\n",
    "# Check the number of partitions in fileRDD_part\n",
    "print(\"Number of partitions in fileRDD_part is\", fileRDD_part.getNumPartitions())"
   ]
  },
  {
   "cell_type": "markdown",
   "metadata": {
    "id": "rHiNNB3UDtGc"
   },
   "source": [
    "### Basic RDD Transformations and Actions"
   ]
  },
  {
   "cell_type": "markdown",
   "metadata": {
    "id": "NYtgEJjpRW-T"
   },
   "source": [
    "Overview of PySpark operations\n",
    "- Transformations create new RDDS\n",
    "- Actions perform computation on the RDDs"
   ]
  },
  {
   "cell_type": "markdown",
   "metadata": {
    "id": "-ykXzo0xs0B1"
   },
   "source": [
    "RDD Transformations\n",
    "- Transformations follow Lazy evaluation\n",
    "- Basic RDD Transformations\n",
    "map(), filter(), flatMap(), and union()"
   ]
  },
  {
   "cell_type": "markdown",
   "metadata": {
    "id": "qtAVZYAesz6v"
   },
   "source": [
    "map() transformation\n",
    "- map() transformation applies a function to all elements in the RDD"
   ]
  },
  {
   "cell_type": "markdown",
   "metadata": {
    "id": "h_nKDPPzuANI"
   },
   "source": [
    "![image.png](data:image/png;base64,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)"
   ]
  },
  {
   "cell_type": "code",
   "execution_count": null,
   "metadata": {
    "id": "N_hRlYFyuCvx"
   },
   "outputs": [],
   "source": [
    "RDD = sc.parallelize([1,2,3,4])\n",
    "RDD_map = RDD.map(lambda x: x * x)"
   ]
  },
  {
   "cell_type": "markdown",
   "metadata": {
    "id": "SnVgPeFEuAKw"
   },
   "source": [
    "filter() Transformation\n",
    "- Filter transformation returns a new RDD with only the elements that pass the condition"
   ]
  },
  {
   "cell_type": "markdown",
   "metadata": {
    "id": "-TyKYONyuAIJ"
   },
   "source": [
    "![image.png](data:image/png;base64,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)"
   ]
  },
  {
   "cell_type": "code",
   "execution_count": null,
   "metadata": {
    "id": "tImVxY6DuLHv"
   },
   "outputs": [],
   "source": [
    "RDD = sc.parallelize([1,2,3,4])\n",
    "RDD_filter = RDD.filter(lambda x: x > 2)"
   ]
  },
  {
   "cell_type": "markdown",
   "metadata": {
    "id": "9Dv1fIBouAFD"
   },
   "source": [
    "flatMap() Transformation\n",
    "- flatMap() transformation returns multiple values for each element in the original RDD"
   ]
  },
  {
   "cell_type": "markdown",
   "metadata": {
    "id": "fby59VPduVMt"
   },
   "source": [
    "![image.png](data:image/png;base64,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)"
   ]
  },
  {
   "cell_type": "code",
   "execution_count": null,
   "metadata": {
    "id": "8bbwv1kYuUyT"
   },
   "outputs": [],
   "source": [
    "RDD = sc.parallelize([\"hello world\", \"how are you\"])\n",
    "RDD_flatmap = RDD.flatMap(lambda x: x.split(\" \"))"
   ]
  },
  {
   "cell_type": "markdown",
   "metadata": {
    "id": "wKl4L5mluAA1"
   },
   "source": [
    "union() Transformation"
   ]
  },
  {
   "cell_type": "markdown",
   "metadata": {
    "id": "cOlvSHGVD2UO"
   },
   "source": [
    "![image.png](data:image/png;base64,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)"
   ]
  },
  {
   "cell_type": "code",
   "execution_count": null,
   "metadata": {
    "id": "OmU-3g6VZj4u"
   },
   "outputs": [],
   "source": [
    "inputRDD = sc.textFile(\"logs.txt\")\n",
    "errorRDD = inputRDD.filter(lambda x: \"error\" in x.split())\n",
    "warningsRDD = inputRDD.filter(lambda x: \"warnings\" in x.split())\n",
    "combinedRDD = errorRDD.union(warningsRDD)"
   ]
  },
  {
   "cell_type": "markdown",
   "metadata": {
    "id": "NbPwIp20eqTr"
   },
   "source": [
    "RDD Actions\n",
    "- Operation return a value after running a computation on the RDD\n",
    "- Basic RDD Actions\n",
    "  - collect()\n",
    "  - take(N)\n",
    "  - first()\n",
    "  - count()"
   ]
  },
  {
   "cell_type": "markdown",
   "metadata": {
    "id": "pv-HDPs3e1hc"
   },
   "source": [
    "collect() and take() Actions\n",
    "- collect() return all the elements of the dataset as an array\n",
    "- take(N) returns an array with the rst N elements of the dataset"
   ]
  },
  {
   "cell_type": "code",
   "execution_count": null,
   "metadata": {
    "id": "NS_cCBJ0e58L"
   },
   "outputs": [],
   "source": [
    "RDD_map.collect()\n",
    "\n",
    "RDD_map.take(2)"
   ]
  },
  {
   "cell_type": "markdown",
   "metadata": {
    "id": "Q_Oj9q1zpxrL"
   },
   "source": [
    "![image.png](data:image/png;base64,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)"
   ]
  },
  {
   "cell_type": "markdown",
   "metadata": {
    "id": "VWe8RDQ0e6Xp"
   },
   "source": [
    "first() and count() Actions\n",
    "- first() prints the rst element of the RDD\n",
    "- count() return the number of elements in the RDD"
   ]
  },
  {
   "cell_type": "code",
   "execution_count": null,
   "metadata": {
    "id": "rYywcLNJe6qc"
   },
   "outputs": [],
   "source": [
    "RDD_map.first()\n",
    "\n",
    "RDD_flatmap.count()"
   ]
  },
  {
   "cell_type": "markdown",
   "metadata": {
    "id": "ZUbj3dKFp3ns"
   },
   "source": [
    "![image.png](data:image/png;base64,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)"
   ]
  },
  {
   "cell_type": "code",
   "execution_count": null,
   "metadata": {
    "id": "maS10mByqeOJ"
   },
   "outputs": [],
   "source": [
    "#Example 1\n",
    "# Create map() transformation to cube numbers\n",
    "cubedRDD = numbRDD.map(lambda x: x**3)\n",
    "\n",
    "# Collect the results\n",
    "numbers_all = cubedRDD.collect()\n",
    "\n",
    "# Print the numbers from numbers_all\n",
    "for numb in numbers_all:\n",
    "\tprint(numb)"
   ]
  },
  {
   "cell_type": "code",
   "execution_count": null,
   "metadata": {
    "id": "Ivo34ei1qfcf"
   },
   "outputs": [],
   "source": [
    "#Example 2\n",
    "# Filter the fileRDD to select lines with Spark keyword\n",
    "fileRDD_filter = fileRDD.filter(lambda line: 'Spark' in line.split())\n",
    "\n",
    "# How many lines are there in fileRDD?\n",
    "print(\"The total number of lines with the keyword Spark is\", fileRDD_filter.count())\n",
    "\n",
    "# Print the first four lines of fileRDD\n",
    "for line in fileRDD_filter.take(4): \n",
    "  print(line)"
   ]
  },
  {
   "cell_type": "markdown",
   "metadata": {
    "id": "zFOKjr8nD2R1"
   },
   "source": [
    "### Pair RDDs in PySpark"
   ]
  },
  {
   "cell_type": "markdown",
   "metadata": {
    "id": "RqIzdGojDzNL"
   },
   "source": [
    "Introduction to pair RDDs in PySpark\n",
    "- Real life datasets are usually key/value pairs\n",
    "- Each row is a key and maps to one or more values\n",
    "- Pair RDD is a special data structure to work with this kind of datasets\n",
    "- Pair RDD: Key is the identifier and value is data"
   ]
  },
  {
   "cell_type": "markdown",
   "metadata": {
    "id": "-8mTo3HUfWpw"
   },
   "source": [
    "Creating pair RDDs\n",
    "- Two common ways to create pair RDDs\n",
    "  - From a list of key-value tuple\n",
    "  - From a regular RDD\n",
    "- Get the data into key/value form for paired RDD"
   ]
  },
  {
   "cell_type": "code",
   "execution_count": null,
   "metadata": {
    "id": "gRGG9G1RfcM0"
   },
   "outputs": [],
   "source": [
    "#From a list of key-value tuple\n",
    "my_tuple = [('Sam', 23), ('Mary', 34), ('Peter', 25)]\n",
    "pairRDD_tuple = sc.parallelize(my_tuple)\n",
    "\n",
    "#From a regular RDD\n",
    "my_list = ['Sam 23', 'Mary 34','Peter 25']\n",
    "regularRDD = sc.parallelize(my_list)\n",
    "pairRDD_RDD = regularRDD.map(lambda s: (s.split(' ')[0], s.split(' ')[1]))"
   ]
  },
  {
   "cell_type": "markdown",
   "metadata": {
    "id": "ZhB301tyfWfC"
   },
   "source": [
    "Transformations on pair RDDs\n",
    "- All regular transformations work on pair RDD\n",
    "- Have to pass functions that operate on key value pairs rather than on individual elements\n",
    "- Examples of paired RDD Transformations\n",
    "  - reduceByKey(func): Combine values with the same key\n",
    "  - groupByKey(): Group values with the same key\n",
    "  - sortByKey(): Return an RDD sorted by the key\n",
    "  - join(): Join two pair RDDs based on their key"
   ]
  },
  {
   "cell_type": "markdown",
   "metadata": {
    "id": "a5tRezP7fzDe"
   },
   "source": [
    "reduceByKey() transformation\n",
    "- reduceByKey() transformation combines values with the same key\n",
    "- It runs parallel operations for each key in the dataset\n",
    "- It is a transformation and not action"
   ]
  },
  {
   "cell_type": "code",
   "execution_count": null,
   "metadata": {
    "id": "tOIE0sLMf12p"
   },
   "outputs": [],
   "source": [
    "regularRDD = sc.parallelize([(\"Messi\", 23), (\"Ronaldo\", 34),\n",
    "                             (\"Neymar\", 22), (\"Messi\", 24)])\n",
    "pairRDD_reducebykey = regularRDD.reduceByKey(lambda x,y : x + y)\n",
    "pairRDD_reducebykey.collect()\n",
    "\n",
    "#output - sum of the two messi\n",
    "[('Neymar', 22), ('Ronaldo', 34), ('Messi', 47)]"
   ]
  },
  {
   "cell_type": "markdown",
   "metadata": {
    "id": "f3GUlTqWgBMT"
   },
   "source": [
    "sortByKey() transformation\n",
    "- sortByKey() operation orders pair RDD by key\n",
    "- It returns an RDD sorted by key in ascending or descending order"
   ]
  },
  {
   "cell_type": "code",
   "execution_count": null,
   "metadata": {
    "id": "SNr2H4o-gJSi"
   },
   "outputs": [],
   "source": [
    "pairRDD_reducebykey_rev = pairRDD_reducebykey.map(lambda x: (x[1], x[0]))\n",
    "pairRDD_reducebykey_rev.sortByKey(ascending=False).collect()\n",
    "\n",
    "#output\n",
    "[(47,'Messi'), (34,'Ronaldo'), (22,'Neymar')]"
   ]
  },
  {
   "cell_type": "markdown",
   "metadata": {
    "id": "9VPsdQfQgBC_"
   },
   "source": [
    "groupByKey() transformation\n",
    "- groupByKey() groups all the values with the same key in the pair RDD"
   ]
  },
  {
   "cell_type": "code",
   "execution_count": null,
   "metadata": {
    "id": "bEqIDhlfgmoV"
   },
   "outputs": [],
   "source": [
    "airports = [(\"US\",\"JFK\"),(\"UK\",\"LHR\"),(\"FR\",\"CDG\"),(\"US\",\"SFO\")]\n",
    "regularRDD = sc.parallelize(airports)\n",
    "pairRDD_group = regularRDD.groupByKey().collect()\n",
    "\n",
    "for cont, air in pairRDD_group:\n",
    "  print(cont, list(air))\n",
    "\n",
    "#output\n",
    "FR ['CDG']\n",
    "US ['JFK','SFO']\n",
    "UK ['LHR']"
   ]
  },
  {
   "cell_type": "markdown",
   "metadata": {
    "id": "50x5AoGcgzBp"
   },
   "source": [
    "join() transformation\n",
    "- join() transformation joins the two pair RDDs based on their key"
   ]
  },
  {
   "cell_type": "code",
   "execution_count": null,
   "metadata": {
    "id": "Bkr-LyxRgzbh"
   },
   "outputs": [],
   "source": [
    "RDD1 = sc.parallelize([(\"Messi\", 34),(\"Ronaldo\", 32),(\"Neymar\", 24)])\n",
    "RDD2 = sc.parallelize([(\"Ronaldo\", 80),(\"Neymar\", 120),(\"Messi\", 100)])\n",
    "\n",
    "RDD1.join(RDD2).collect()\n",
    "\n",
    "#output\n",
    "[('Neymar', (24, 120)), ('Ronaldo', (32, 80)), ('Messi', (34, 100))]"
   ]
  },
  {
   "cell_type": "code",
   "execution_count": null,
   "metadata": {
    "id": "TQ_T1_kgzVIE"
   },
   "outputs": [],
   "source": [
    "#Example 1\n",
    "# Create PairRDD Rdd with key value pairs\n",
    "Rdd = sc.parallelize([(1,2),(3,4),(3,6),(4,5)])\n",
    "\n",
    "# Apply reduceByKey() operation on Rdd\n",
    "Rdd_Reduced = Rdd.reduceByKey(lambda x, y: x+y)\n",
    "\n",
    "# Iterate over the result and print the output\n",
    "for num in Rdd_Reduced.collect(): \n",
    "  print(\"Key {} has {} Counts\".format(num[0], num[1]))"
   ]
  },
  {
   "cell_type": "code",
   "execution_count": null,
   "metadata": {
    "id": "It3b4fCrzYap"
   },
   "outputs": [],
   "source": [
    "#Example 2\n",
    "# Sort the reduced RDD with the key by descending order\n",
    "Rdd_Reduced_Sort = Rdd_Reduced.sortByKey(ascending=False)\n",
    "\n",
    "# Iterate over the result and retrieve all the elements of the RDD\n",
    "for num in Rdd_Reduced_Sort.collect():\n",
    "  print(\"Key {} has {} Counts\".format(num[0], num[1]))"
   ]
  },
  {
   "cell_type": "markdown",
   "metadata": {
    "id": "iENHlh40DzJ0"
   },
   "source": [
    "### Advanced RDD Actions"
   ]
  },
  {
   "cell_type": "markdown",
   "metadata": {
    "id": "GywW0CkShCSq"
   },
   "source": [
    "reduce() action\n",
    "- reduce(func) action is used for aggregating the elements of a regular RDD\n",
    "- The function should be commutative (changing the order of the operands does not change the result) and associative\n",
    "- An example of reduce() action in PySpar"
   ]
  },
  {
   "cell_type": "code",
   "execution_count": null,
   "metadata": {
    "id": "woQXGIpyhTcI"
   },
   "outputs": [],
   "source": [
    "x = [1,3,4,6]\n",
    "RDD = sc.parallelize(x)\n",
    "RDD.reduce(lambda x, y : x + y)\n",
    "\n",
    "#output\n",
    "14"
   ]
  },
  {
   "cell_type": "markdown",
   "metadata": {
    "id": "5Uiw52TaEjCg"
   },
   "source": [
    "saveAsTextFile() action\n",
    "- saveAsTextFile() action saves RDD into a text dile inside a directory with each partition as a separate file\n",
    "- coalesce() method can be used to save RDD as a single text file"
   ]
  },
  {
   "cell_type": "code",
   "execution_count": null,
   "metadata": {
    "id": "LnhboSr6hV5q"
   },
   "outputs": [],
   "source": [
    "RDD.saveAsTextFile(\"tempFile\")\n",
    "\n",
    "RDD.coalesce(1).saveAsTextFile(\"tempFile\")"
   ]
  },
  {
   "cell_type": "markdown",
   "metadata": {
    "id": "3tIIkiIqhZfy"
   },
   "source": [
    "Action Operations on pair RDDs\n",
    "- RDD actions available for PySpark pair RDDs\n",
    "- Pair RDD actions leverage the key-value data\n",
    "- Few examples of pair RDD actions include\n",
    "  - countByKey()\n",
    "  - collectAsMap()"
   ]
  },
  {
   "cell_type": "markdown",
   "metadata": {
    "id": "wE_vh3h0hhQf"
   },
   "source": [
    "countByKey() action\n",
    "- countByKey() only available for type (K, V)\n",
    "- countByKey() action counts the number of elements for each key\n",
    "- Example of countByKey() on a simple list"
   ]
  },
  {
   "cell_type": "code",
   "execution_count": null,
   "metadata": {
    "id": "Jor9EugKhZLg"
   },
   "outputs": [],
   "source": [
    "rdd = sc.parallelize([(\"a\", 1), (\"b\", 1), (\"a\", 1)])\n",
    "for kee, val in rdd.countByKey().items():\n",
    "  print(kee, val)\n",
    "\n",
    "#output\n",
    "(\"a\", 2)\n",
    "(\"b\", 1)"
   ]
  },
  {
   "cell_type": "markdown",
   "metadata": {
    "id": "ziSNJkXHhY_5"
   },
   "source": [
    "collectAsMap() action\n",
    "- collectAsMap() return the key-value pairs in the RDD as a dictionary\n",
    "- Example of collectAsMap() on a simple tuple"
   ]
  },
  {
   "cell_type": "code",
   "execution_count": null,
   "metadata": {
    "id": "EqaFZ5NxhYo0"
   },
   "outputs": [],
   "source": [
    "sc.parallelize([(1, 2), (3, 4)]).collectAsMap()\n",
    "\n",
    "#output\n",
    "{1: 2, 3:4}"
   ]
  },
  {
   "cell_type": "markdown",
   "metadata": {
    "id": "NAKQdN9jRW7_"
   },
   "source": [
    "## PySpark SQL & DataFrames"
   ]
  },
  {
   "cell_type": "markdown",
   "metadata": {
    "id": "DATVHurjRW5x"
   },
   "source": [
    "### Abstracting Data with DataFrames"
   ]
  },
  {
   "cell_type": "markdown",
   "metadata": {
    "id": "MQ0jRHjrElvJ"
   },
   "source": [
    "What are PySpark DataFrames?\n",
    "- PySpark SQL is a Spark library for structured data. It provides more information about the\n",
    "structure of data and computation\n",
    "- PySpark DataFrame is an immutable distributed collection of data with named columns\n",
    "- Designed for processing both structured (e.g relational database) and semi-structured data\n",
    "(e.g JSON)\n",
    "- Dataframe API is available in Python, R, Scala, and Java\n",
    "- DataFrames in PySpark support both SQL queries ( SELECT * from table ) or expression\n",
    "methods ( df.select() )"
   ]
  },
  {
   "cell_type": "markdown",
   "metadata": {
    "id": "lBKdWlEgkdCT"
   },
   "source": [
    "SparkSession - Entry point for DataFrame API\n",
    "- SparkContext is the main entry point for creating RDDs\n",
    "- SparkSession provides a single point of entry to interact with Spark DataFrames\n",
    "- SparkSession is used to create DataFrame, register DataFrames, execute SQL queries\n",
    "- SparkSession is available in PySpark shell as spark"
   ]
  },
  {
   "cell_type": "markdown",
   "metadata": {
    "id": "DBLip6CVkdAU"
   },
   "source": [
    "Creating DataFrames in PySpark\n",
    "- Two dierent methods of creating DataFrames in PySpark\n",
    "  - From existing RDDs using SparkSession's createDataFrame() method\n",
    "  - From various data sources (CSV, JSON, TXT) using SparkSession's read method\n",
    "- Schema controls the data and helps DataFrames to optimize queries\n",
    "- Schema provides information about column name, type of data in the column, empty values etc.,"
   ]
  },
  {
   "cell_type": "code",
   "execution_count": null,
   "metadata": {
    "id": "9rYxpvQkkvp-"
   },
   "outputs": [],
   "source": [
    "#Create a DataFrame from RDD\n",
    "iphones_RDD = sc.parallelize([\n",
    "                              (\"XS\", 2018, 5.65, 2.79, 6.24),\n",
    "                              (\"XR\", 2018, 5.94, 2.98, 6.84),\n",
    "                              (\"X10\", 2017, 5.65, 2.79, 6.13),\n",
    "                              (\"8Plus\", 2017, 6.23, 3.07, 7.12)\n",
    "                              ])\n",
    "names = ['Model','Year','Height','Width','Weight']\n",
    "iphones_df = spark.createDataFrame(iphones_RDD, schema=names)\n",
    "type(iphones_df)"
   ]
  },
  {
   "cell_type": "code",
   "execution_count": null,
   "metadata": {
    "id": "pdldtQoTlF3T"
   },
   "outputs": [],
   "source": [
    "#Create a DataFrame from reading a CSV/JSON/TXT\n",
    "df_csv = spark.read.csv(\"people.csv\", header=True, inferSchema=True)\n",
    "df_json = spark.read.json(\"people.json\", header=True, inferSchema=True)\n",
    "df_txt = spark.read.txt(\"people.txt\", header=True, inferSchema=True)"
   ]
  },
  {
   "cell_type": "markdown",
   "metadata": {
    "id": "fFF8r2S5kc9X"
   },
   "source": [
    "- Path to the file and two optional parameters\n",
    "- Two optional parameters\n",
    "  - header=True , inferSchema=True"
   ]
  },
  {
   "cell_type": "markdown",
   "metadata": {
    "id": "QbTm_YTMElsL"
   },
   "source": [
    "### Operating on DataFrames in PySpark"
   ]
  },
  {
   "cell_type": "markdown",
   "metadata": {
    "id": "DVo5zp8JElpX"
   },
   "source": [
    "DataFrame operators in PySpark\n",
    "- DataFrame operations: Transformations and Actions\n",
    "- DataFrame Transformations:\n",
    "  - select(), lter(), groupby(), orderby(), dropDuplicates() and withColumnRenamed()\n",
    "- DataFrame Actions :\n",
    "  - printSchema(), head(), show(), count(), columns and describe()\n",
    "\n",
    "  \n",
    "Correction: printSchema() is a method for any Spark dataset/dataframe and not an action"
   ]
  },
  {
   "cell_type": "markdown",
   "metadata": {
    "id": "vcatLRXPlz9N"
   },
   "source": [
    "select() and show() operations\n",
    "- select() transformation subsets the columns in the DataFrame\n",
    "- show() action prints rst 20 rows in the DataFrame"
   ]
  },
  {
   "cell_type": "code",
   "execution_count": null,
   "metadata": {
    "id": "DNnA0QlRmZDx"
   },
   "outputs": [],
   "source": [
    "df_id_age = test.select('Age')\n",
    "df_id_age.show(3)"
   ]
  },
  {
   "cell_type": "markdown",
   "metadata": {
    "id": "BdioZbarmnEq"
   },
   "source": [
    "filter() and show() operations\n",
    "- filter() transformation lters out the rows based on a condition\n"
   ]
  },
  {
   "cell_type": "code",
   "execution_count": null,
   "metadata": {
    "id": "Rb9dR4eYmmgg"
   },
   "outputs": [],
   "source": [
    "new_df_age21 = new_df.filter(new_df.Age > 21)\n",
    "new_df_age21.show(3)"
   ]
  },
  {
   "cell_type": "markdown",
   "metadata": {
    "id": "WMqeyorDlzzr"
   },
   "source": [
    "groupby() and count() operations\n",
    "- groupby() operation can be used to group a variable"
   ]
  },
  {
   "cell_type": "code",
   "execution_count": null,
   "metadata": {
    "id": "Sb7VZcCenFdL"
   },
   "outputs": [],
   "source": [
    "test_df_age_group = test_df.groupby('Age')\n",
    "test_df_age_group.count().show(3)"
   ]
  },
  {
   "cell_type": "markdown",
   "metadata": {
    "id": "cLHUFs8Llzwl"
   },
   "source": [
    "orderby() Transformations\n",
    "- orderby() operation sorts the DataFrame based on one or more columns"
   ]
  },
  {
   "cell_type": "code",
   "execution_count": null,
   "metadata": {
    "id": "1diFK9zsnDLt"
   },
   "outputs": [],
   "source": [
    "test_df_age_group.count().orderBy('Age').show(3)"
   ]
  },
  {
   "cell_type": "markdown",
   "metadata": {
    "id": "o3CSyC-Hlztc"
   },
   "source": [
    "dropDuplicates()\n",
    "- dropDuplicates() removes the duplicate rows of a DataFrame"
   ]
  },
  {
   "cell_type": "code",
   "execution_count": null,
   "metadata": {
    "id": "S1AUkOpWnSB1"
   },
   "outputs": [],
   "source": [
    "test_df_no_dup = test_df.select('User_ID','Gender','Age').dropDuplicates()\n",
    "test_df_no_dup.count()\n"
   ]
  },
  {
   "cell_type": "markdown",
   "metadata": {
    "id": "ATgohi7AGSCm"
   },
   "source": [
    "### Interacting with DataFrames using PySpark SQL"
   ]
  },
  {
   "cell_type": "markdown",
   "metadata": {
    "id": "HLJBoStUGR_V"
   },
   "source": [
    "DataFrame API vs SQL queries\n",
    "- In PySpark You can interact with SparkSQL through DataFrame API and SQL queries\n",
    "- The DataFrame API provides a programmatic domain-specic language (DSL) for data\n",
    "- DataFrame transformations and actions are easier to construct programmatically\n",
    "- SQL queries can be concise and easier to understand and portable\n",
    "- The operations on DataFrames can also be done using SQL queries"
   ]
  },
  {
   "cell_type": "markdown",
   "metadata": {
    "id": "Ey4F69q2v1AQ"
   },
   "source": [
    "Executing SQL Queries\n",
    "- The SparkSession sql() method executes SQL query\n",
    "- sql() method takes a SQL statement as an argument and returns the result as DataFrame"
   ]
  },
  {
   "cell_type": "code",
   "execution_count": null,
   "metadata": {
    "id": "l64tHFc3wJlZ"
   },
   "outputs": [],
   "source": [
    "df.createOrReplaceTempView(\"table1\")\n",
    "df2 = spark.sql(\"SELECT field1, field2 FROM table1\")\n",
    "df2.collect()"
   ]
  },
  {
   "cell_type": "markdown",
   "metadata": {
    "id": "9YbHpyCSv08s"
   },
   "source": [
    "SQL query to extract data"
   ]
  },
  {
   "cell_type": "code",
   "execution_count": null,
   "metadata": {
    "id": "IphqSAyVwOqd"
   },
   "outputs": [],
   "source": [
    "test_df.createOrReplaceTempView(\"test_table\")\n",
    "query = '''SELECT Product_ID FROM test_table'''\n",
    "test_product_df = spark.sql(query)\n",
    "test_product_df.show(5)"
   ]
  },
  {
   "cell_type": "markdown",
   "metadata": {
    "id": "46IX9e5wxEFl"
   },
   "source": [
    "Summarizing and grouping data using SQL queries\n",
    "test"
   ]
  },
  {
   "cell_type": "code",
   "execution_count": null,
   "metadata": {
    "id": "_g0qU19cxAGf"
   },
   "outputs": [],
   "source": [
    "test_df.createOrReplaceTempView(\"test_table\")\n",
    "query = '''SELECT Age, max(Purchase) FROM test_table GROUP BY Age'''\n",
    "spark.sql(query).show(5)"
   ]
  },
  {
   "cell_type": "markdown",
   "metadata": {
    "id": "eQPDEH65v06U"
   },
   "source": [
    "Filtering columns using SQL queries"
   ]
  },
  {
   "cell_type": "code",
   "execution_count": null,
   "metadata": {
    "id": "co-f3tw7xkPW"
   },
   "outputs": [],
   "source": [
    "test_df.createOrReplaceTempView(\"test_table\")\n",
    "query = '''SELECT Age, Purchase, Gender FROM test_table WHERE Purchase > 20000 AND Gender == \"F\"'''\n",
    "spark.sql(query).show(5)"
   ]
  },
  {
   "cell_type": "markdown",
   "metadata": {
    "id": "AiyO9EF1v0zL"
   },
   "source": []
  },
  {
   "cell_type": "markdown",
   "metadata": {
    "id": "KZoikpdSGR8r"
   },
   "source": [
    "### Data Visualization in PySpark using DataFrames"
   ]
  },
  {
   "cell_type": "markdown",
   "metadata": {
    "id": "4h6xlL7CElmk"
   },
   "source": [
    "What is Data visualization?\n",
    "- Data visualization is a way of representing your data in graphs or charts\n",
    "- Open source ploing tools to aid visualization in Python:\n",
    "  - Matplotlib, Seaborn, Bokeh etc.,\n",
    "- Ploing graphs using PySpark DataFrames is done using three methods\n",
    "  - pyspark_dist_explore library\n",
    "  - toPandas()\n",
    "  - HandySpark library"
   ]
  },
  {
   "cell_type": "markdown",
   "metadata": {
    "id": "qnxF4C1vv4hw"
   },
   "source": [
    "- Data Visualization using Pyspark_dist_explore \n",
    "  - Pyspark_dist_explore library provides quick insights into DataFrames\n",
    "- Currently three functions available – hist() , distplot() and pandas_histogram()"
   ]
  },
  {
   "cell_type": "code",
   "execution_count": null,
   "metadata": {
    "id": "XTzJyhjk0St8"
   },
   "outputs": [],
   "source": [
    "test_df = spark.read.csv(\"test.csv\", header=True, inferSchema=True)\n",
    "test_df_age = test_df.select('Age')\n",
    "hist(test_df_age, bins=20, color=\"red\")"
   ]
  },
  {
   "cell_type": "markdown",
   "metadata": {
    "id": "IF_7bULxv4bR"
   },
   "source": [
    "Using Pandas for plotting DataFrames\n",
    "- It's easy to create charts from pandas DataFrames"
   ]
  },
  {
   "cell_type": "code",
   "execution_count": null,
   "metadata": {
    "id": "Tf5cyF2r0uqu"
   },
   "outputs": [],
   "source": [
    "test_df = spark.read.csv(\"test.csv\", header=True, inferSchema=True)\n",
    "test_df_sample_pandas = test_df.toPandas()\n",
    "test_df_sample_pandas.hist('Age')"
   ]
  },
  {
   "cell_type": "markdown",
   "metadata": {
    "id": "UiuHO8-N0knU"
   },
   "source": [
    "Pandas DataFrame vs PySpark DataFrame\n",
    "- Pandas DataFrames are in-memory, single-server based structures and operations on\n",
    "PySpark run in parallel\n",
    "- The result is generated as we apply any operation in Pandas whereas operations in PySpark\n",
    "DataFrame are lazy evaluation\n",
    "- Pandas DataFrame as mutable and PySpark DataFrames are immutable\n",
    "- Pandas API support more operations than PySpark Dataframe API"
   ]
  },
  {
   "cell_type": "markdown",
   "metadata": {
    "id": "HyTvvSdK2XMB"
   },
   "source": [
    "HandySpark method of visualization\n",
    "- HandySpark is a package designed to improve PySpark user experience"
   ]
  },
  {
   "cell_type": "code",
   "execution_count": null,
   "metadata": {
    "id": "EWuiK8D30kUS"
   },
   "outputs": [],
   "source": [
    "test_df = spark.read.csv('test.csv', header=True, inferSchema=True)\n",
    "hdf = test_df.toHandy()\n",
    "hdf.cols[\"Age\"].hist()"
   ]
  },
  {
   "cell_type": "markdown",
   "metadata": {
    "id": "e_N_yThqv4VQ"
   },
   "source": []
  },
  {
   "cell_type": "markdown",
   "metadata": {
    "id": "A0zJAYuyv4Qs"
   },
   "source": []
  },
  {
   "cell_type": "markdown",
   "metadata": {
    "id": "R42uaLrzv4Lo"
   },
   "source": []
  },
  {
   "cell_type": "markdown",
   "metadata": {
    "id": "QK5gIp1Mv4Dx"
   },
   "source": []
  },
  {
   "cell_type": "markdown",
   "metadata": {
    "id": "WxUzOsDyRW3Y"
   },
   "source": [
    "## Machine Learning with PySpark MLlib"
   ]
  },
  {
   "cell_type": "markdown",
   "metadata": {
    "id": "lRDhlwvaGfVy"
   },
   "source": [
    "### Overview of PySpark MLib"
   ]
  },
  {
   "cell_type": "markdown",
   "metadata": {
    "id": "72HGk5mIGfKx"
   },
   "source": []
  },
  {
   "cell_type": "markdown",
   "metadata": {
    "id": "L7zDaGMEGfGH"
   },
   "source": [
    "### Collaborative filtering"
   ]
  },
  {
   "cell_type": "markdown",
   "metadata": {
    "id": "x7MMIHy_Ge_v"
   },
   "source": []
  },
  {
   "cell_type": "markdown",
   "metadata": {
    "id": "sJNmx000Ge42"
   },
   "source": []
  },
  {
   "cell_type": "markdown",
   "metadata": {
    "id": "dHQQQhl3RW1J"
   },
   "source": [
    "### Classification"
   ]
  },
  {
   "cell_type": "markdown",
   "metadata": {
    "id": "HSzujkKkIDto"
   },
   "source": []
  },
  {
   "cell_type": "markdown",
   "metadata": {
    "id": "5cQBJsXAIDqC"
   },
   "source": []
  },
  {
   "cell_type": "markdown",
   "metadata": {
    "id": "iRfE4eh4IG1i"
   },
   "source": [
    "### Clustering"
   ]
  },
  {
   "cell_type": "markdown",
   "metadata": {
    "id": "-CvHlOR1IGvv"
   },
   "source": []
  },
  {
   "cell_type": "markdown",
   "metadata": {
    "id": "Y5Pcx7M1IDml"
   },
   "source": []
  }
 ],
 "metadata": {
  "colab": {
   "name": "[ST] BD w/ Spark",
   "provenance": [],
   "toc_visible": true
  },
  "hide_input": false,
  "kernelspec": {
   "display_name": "Python 3 (ipykernel)",
   "language": "python",
   "name": "python3"
  },
  "language_info": {
   "codemirror_mode": {
    "name": "ipython",
    "version": 3
   },
   "file_extension": ".py",
   "mimetype": "text/x-python",
   "name": "python",
   "nbconvert_exporter": "python",
   "pygments_lexer": "ipython3",
   "version": "3.10.0"
  },
  "toc": {
   "base_numbering": "0",
   "nav_menu": {},
   "number_sections": true,
   "sideBar": true,
   "skip_h1_title": false,
   "title_cell": "Table of Contents",
   "title_sidebar": "Contents",
   "toc_cell": true,
   "toc_position": {
    "height": "calc(100% - 180px)",
    "left": "10px",
    "top": "150px",
    "width": "383.993px"
   },
   "toc_section_display": true,
   "toc_window_display": true
  },
  "varInspector": {
   "cols": {
    "lenName": 16,
    "lenType": 16,
    "lenVar": 40
   },
   "kernels_config": {
    "python": {
     "delete_cmd_postfix": "",
     "delete_cmd_prefix": "del ",
     "library": "var_list.py",
     "varRefreshCmd": "print(var_dic_list())"
    },
    "r": {
     "delete_cmd_postfix": ") ",
     "delete_cmd_prefix": "rm(",
     "library": "var_list.r",
     "varRefreshCmd": "cat(var_dic_list()) "
    }
   },
   "types_to_exclude": [
    "module",
    "function",
    "builtin_function_or_method",
    "instance",
    "_Feature"
   ],
   "window_display": false
  }
 },
 "nbformat": 4,
 "nbformat_minor": 1
}
