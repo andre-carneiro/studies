{
 "cells": [
  {
   "cell_type": "markdown",
   "metadata": {
    "id": "rrnLBJARQGcj"
   },
   "source": [
    "# Big Data with PySpark"
   ]
  },
  {
   "cell_type": "markdown",
   "metadata": {
    "id": "w44Ly0a8QG5c"
   },
   "source": [
    "# Cleaning Data with PySpark"
   ]
  },
  {
   "cell_type": "markdown",
   "metadata": {
    "id": "1zX_WGuDQG7t"
   },
   "source": []
  },
  {
   "cell_type": "markdown",
   "metadata": {
    "id": "Yq18xb-sQG-M"
   },
   "source": []
  },
  {
   "cell_type": "markdown",
   "metadata": {
    "id": "vm0GZmFGQHAW"
   },
   "source": [
    "## DataFrame details"
   ]
  },
  {
   "cell_type": "markdown",
   "metadata": {
    "id": "3QLm5g4qQHC0"
   },
   "source": []
  },
  {
   "cell_type": "markdown",
   "metadata": {
    "id": "AETRsWFJQHFG"
   },
   "source": []
  },
  {
   "cell_type": "markdown",
   "metadata": {
    "id": "bn2N-MPrQHHY"
   },
   "source": []
  },
  {
   "cell_type": "markdown",
   "metadata": {
    "id": "eJRf27_5QHJ5"
   },
   "source": [
    "## Manipulating DataFrames in the real world"
   ]
  },
  {
   "cell_type": "markdown",
   "metadata": {
    "id": "oMnbYyHLQHMK"
   },
   "source": []
  },
  {
   "cell_type": "markdown",
   "metadata": {
    "id": "c-_Jpng4QHOt"
   },
   "source": []
  },
  {
   "cell_type": "markdown",
   "metadata": {
    "id": "lsZTO-ekQHRI"
   },
   "source": [
    "## Improving Performance"
   ]
  },
  {
   "cell_type": "markdown",
   "metadata": {
    "id": "DLEjjpeDQHTa"
   },
   "source": []
  },
  {
   "cell_type": "markdown",
   "metadata": {
    "id": "l4QYEKPpQHV3"
   },
   "source": []
  },
  {
   "cell_type": "markdown",
   "metadata": {
    "id": "ORXhpdZRQHX6"
   },
   "source": []
  },
  {
   "cell_type": "markdown",
   "metadata": {
    "id": "VdF9Y3aZQH_A"
   },
   "source": []
  },
  {
   "cell_type": "markdown",
   "metadata": {
    "id": "9TJPe-yRQIBJ"
   },
   "source": []
  },
  {
   "cell_type": "markdown",
   "metadata": {
    "id": "Mqd1GKdBQIDM"
   },
   "source": [
    "## Complex processing and data pipelines"
   ]
  },
  {
   "cell_type": "markdown",
   "metadata": {
    "id": "rN2EwBSeQIFb"
   },
   "source": []
  },
  {
   "cell_type": "markdown",
   "metadata": {
    "id": "Dk-Gseg3QIHt"
   },
   "source": []
  },
  {
   "cell_type": "markdown",
   "metadata": {
    "id": "QDJC7rPlQIJ8"
   },
   "source": []
  },
  {
   "cell_type": "markdown",
   "metadata": {
    "id": "AdfIlyEUQILh"
   },
   "source": []
  },
  {
   "cell_type": "markdown",
   "metadata": {
    "id": "2gmy7ikjQIPb"
   },
   "source": []
  },
  {
   "cell_type": "markdown",
   "metadata": {
    "id": "9e_8Rou1QIRj"
   },
   "source": []
  },
  {
   "cell_type": "markdown",
   "metadata": {
    "id": "V1BHxMCvQIYy"
   },
   "source": []
  },
  {
   "cell_type": "markdown",
   "metadata": {
    "id": "Gwb7NBTzQIbL"
   },
   "source": []
  },
  {
   "cell_type": "markdown",
   "metadata": {
    "id": "Gql0BhAIQIde"
   },
   "source": []
  },
  {
   "cell_type": "markdown",
   "metadata": {
    "id": "iTuTG-9EQIfm"
   },
   "source": []
  },
  {
   "cell_type": "markdown",
   "metadata": {
    "id": "moby1DYgQIiY"
   },
   "source": []
  },
  {
   "cell_type": "markdown",
   "metadata": {
    "id": "IjsBfRPvQIkz"
   },
   "source": []
  },
  {
   "cell_type": "markdown",
   "metadata": {
    "id": "z_6FSNQ-QIm9"
   },
   "source": []
  },
  {
   "cell_type": "markdown",
   "metadata": {
    "id": "SmcQd43yQIp4"
   },
   "source": []
  },
  {
   "cell_type": "markdown",
   "metadata": {
    "id": "P4yXjbIJQIsK"
   },
   "source": []
  }
 ],
 "metadata": {
  "colab": {
   "name": "[ST] BD w/ Spark",
   "provenance": [],
   "toc_visible": true
  },
  "hide_input": false,
  "kernelspec": {
   "display_name": "Python 3 (ipykernel)",
   "language": "python",
   "name": "python3"
  },
  "language_info": {
   "codemirror_mode": {
    "name": "ipython",
    "version": 3
   },
   "file_extension": ".py",
   "mimetype": "text/x-python",
   "name": "python",
   "nbconvert_exporter": "python",
   "pygments_lexer": "ipython3",
   "version": "3.10.0"
  },
  "toc": {
   "base_numbering": 1,
   "nav_menu": {},
   "number_sections": true,
   "sideBar": true,
   "skip_h1_title": false,
   "title_cell": "Table of Contents",
   "title_sidebar": "Contents",
   "toc_cell": false,
   "toc_position": {
    "height": "calc(100% - 180px)",
    "left": "10px",
    "top": "150px",
    "width": "384px"
   },
   "toc_section_display": true,
   "toc_window_display": true
  },
  "varInspector": {
   "cols": {
    "lenName": 16,
    "lenType": 16,
    "lenVar": 40
   },
   "kernels_config": {
    "python": {
     "delete_cmd_postfix": "",
     "delete_cmd_prefix": "del ",
     "library": "var_list.py",
     "varRefreshCmd": "print(var_dic_list())"
    },
    "r": {
     "delete_cmd_postfix": ") ",
     "delete_cmd_prefix": "rm(",
     "library": "var_list.r",
     "varRefreshCmd": "cat(var_dic_list()) "
    }
   },
   "types_to_exclude": [
    "module",
    "function",
    "builtin_function_or_method",
    "instance",
    "_Feature"
   ],
   "window_display": false
  }
 },
 "nbformat": 4,
 "nbformat_minor": 1
}
