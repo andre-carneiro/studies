{
 "cells": [
  {
   "cell_type": "markdown",
   "metadata": {
    "id": "VbIcBdiyDIm9"
   },
   "source": [
    "# PYTHON DATA SCIENCE TOOLBOX (PART 1)"
   ]
  },
  {
   "cell_type": "markdown",
   "metadata": {
    "id": "tchSAO4RKF-l"
   },
   "source": [
    "Professor Hugo Bowne-Anderson"
   ]
  },
  {
   "cell_type": "markdown",
   "metadata": {
    "id": "-il4mTB_JSEY"
   },
   "source": [
    "## Writing your own functions"
   ]
  },
  {
   "cell_type": "markdown",
   "metadata": {
    "id": "q6jQLn0jJR-B"
   },
   "source": [
    "### User-defined functions"
   ]
  },
  {
   "cell_type": "markdown",
   "metadata": {
    "id": "Qr_qp8tzL8gj"
   },
   "source": [
    "You’ll learn:\n",
    "- Define functions without parameters\n",
    "- Define functions with one parameter\n",
    "- Define functions that return a value\n",
    "- Later: multiple arguments, multiple return values"
   ]
  },
  {
   "cell_type": "markdown",
   "metadata": {
    "id": "gwj3XuZIMMk2"
   },
   "source": []
  },
  {
   "cell_type": "code",
   "execution_count": null,
   "metadata": {
    "colab": {
     "base_uri": "https://localhost:8080/"
    },
    "id": "MjRXhyMaMTSt",
    "outputId": "6b2d0b82-662e-4063-fce6-c6749305b6d6"
   },
   "outputs": [
    {
     "name": "stdout",
     "output_type": "stream",
     "text": [
      "5\n",
      "<class 'str'>\n"
     ]
    }
   ],
   "source": [
    "#Built-in functions\n",
    "str()\n",
    "x = str(5)\n",
    "print(x)\n",
    "print(type(x))"
   ]
  },
  {
   "cell_type": "code",
   "execution_count": null,
   "metadata": {
    "colab": {
     "base_uri": "https://localhost:8080/"
    },
    "id": "q7_hWUNKMa31",
    "outputId": "2b2db9d9-0f73-4a79-caeb-19c4db593d9e"
   },
   "outputs": [
    {
     "name": "stdout",
     "output_type": "stream",
     "text": [
      "16\n"
     ]
    }
   ],
   "source": [
    "#Defining a function\n",
    "def square(): # <- Function header\n",
    "  new_value = 4 ** 2 # <- Function body\n",
    "  print(new_value)\n",
    "square()"
   ]
  },
  {
   "cell_type": "code",
   "execution_count": null,
   "metadata": {
    "colab": {
     "base_uri": "https://localhost:8080/"
    },
    "id": "i6zAcDPJMnHK",
    "outputId": "0b44b7a8-5df2-451e-e713-1fec5b00e096"
   },
   "outputs": [
    {
     "name": "stdout",
     "output_type": "stream",
     "text": [
      "16\n",
      "25\n"
     ]
    }
   ],
   "source": [
    "#Function parameters (is inside its header)\n",
    "def square(value): #parameter value\n",
    "  new_value = value ** 2\n",
    "  print(new_value)\n",
    "\n",
    "square(4) #pass argument into the function - 4\n",
    "\n",
    "square(5) #pass argument 5"
   ]
  },
  {
   "cell_type": "code",
   "execution_count": null,
   "metadata": {
    "colab": {
     "base_uri": "https://localhost:8080/"
    },
    "id": "D7mvpCu3Nd9q",
    "outputId": "f045f4f7-fe97-4731-df95-1da476ac248d"
   },
   "outputs": [
    {
     "name": "stdout",
     "output_type": "stream",
     "text": [
      "16\n"
     ]
    }
   ],
   "source": [
    "#Reurn values from functions\n",
    "def square(value):\n",
    "  new_value = value ** 2\n",
    "  return new_value #return to assign the value to a new variable\n",
    "\n",
    "num = square(4)\n",
    "\n",
    "print(num)"
   ]
  },
  {
   "cell_type": "markdown",
   "metadata": {
    "id": "djCX3iIAMMdd"
   },
   "source": [
    "Docstrings\n",
    "- Docstrings describe what your function does\n",
    "- Serve as documentation for your function\n",
    "- Placed in the immediate line after the function header\n",
    "- In between triple double quotes \"\"\""
   ]
  },
  {
   "cell_type": "code",
   "execution_count": null,
   "metadata": {
    "id": "_sWki5dXN187"
   },
   "outputs": [],
   "source": [
    "def square(value):\n",
    "  \"\"\"Return the square of a value.\"\"\"\n",
    "  new_value = value ** 2\n",
    "  return new_value"
   ]
  },
  {
   "cell_type": "code",
   "execution_count": null,
   "metadata": {
    "colab": {
     "base_uri": "https://localhost:8080/"
    },
    "id": "VQiknIoUQCHI",
    "outputId": "7ef9de5e-8a4c-448f-9eb1-11dfeb9661f4"
   },
   "outputs": [
    {
     "name": "stdout",
     "output_type": "stream",
     "text": [
      "congratulations!!!\n"
     ]
    }
   ],
   "source": [
    "#EXAMPLE 1\n",
    "\n",
    "# Define the function shout\n",
    "def shout():\n",
    "    \"\"\"Print a string with three exclamation marks\"\"\"\n",
    "    # Concatenate the strings: shout_word\n",
    "    shout_word = \"congratulations\" + \"!!!\"\n",
    "\n",
    "    # Print shout_word\n",
    "    print(shout_word)\n",
    "\n",
    "# Call shout\n",
    "shout()"
   ]
  },
  {
   "cell_type": "code",
   "execution_count": null,
   "metadata": {
    "id": "-LYBaB_lQkht"
   },
   "outputs": [],
   "source": [
    "#EXAMPLE 2\n",
    "\n",
    "# Define shout with the parameter, word\n",
    "def shout(word):\n",
    "    \"\"\"Print a string with three exclamation marks\"\"\"\n",
    "    # Concatenate the strings: shout_word\n",
    "    shout_word = word + '!!!'\n",
    "\n",
    "    # Print shout_word\n",
    "    print(shout_word)\n",
    "\n",
    "# Call shout with the string 'congratulations'\n",
    "shout(\"congratulations\")"
   ]
  },
  {
   "cell_type": "code",
   "execution_count": null,
   "metadata": {
    "colab": {
     "base_uri": "https://localhost:8080/"
    },
    "id": "IBZBEtkIQ00M",
    "outputId": "19730574-fae4-40b3-d8d9-db3ba2a9513c"
   },
   "outputs": [
    {
     "name": "stdout",
     "output_type": "stream",
     "text": [
      "congratulations!!!\n"
     ]
    }
   ],
   "source": [
    "#EXAMPLE 3\n",
    "\n",
    "# Define shout with the parameter, word\n",
    "def shout(word):\n",
    "    \"\"\"Return a string with three exclamation marks\"\"\"\n",
    "    # Concatenate the strings: shout_word\n",
    "    shout_word = word + \"!!!\"\n",
    "\n",
    "    # Replace print with return\n",
    "    return(shout_word)\n",
    "\n",
    "# Pass 'congratulations' to shout: yell\n",
    "yell = shout(\"congratulations\")\n",
    "\n",
    "# Print yell\n",
    "print (yell)"
   ]
  },
  {
   "cell_type": "markdown",
   "metadata": {
    "id": "yM18HimOJR52"
   },
   "source": [
    "### Multiple parameters and return values"
   ]
  },
  {
   "cell_type": "code",
   "execution_count": null,
   "metadata": {
    "colab": {
     "base_uri": "https://localhost:8080/"
    },
    "id": "-ichgiXDRIm3",
    "outputId": "da46b606-bab9-48bd-ea11-c35fcb18e6f7"
   },
   "outputs": [
    {
     "name": "stdout",
     "output_type": "stream",
     "text": [
      "8\n"
     ]
    }
   ],
   "source": [
    "#Multiple function parameters\n",
    "\n",
    "#Accept more than 1 parameter:\n",
    "def raise_to_power(value1, value2): #the order matters\n",
    "  \"\"\"Raise value1 to the power of value2.\"\"\"\n",
    "  new_value = value1 ** value2\n",
    "  return new_value\n",
    "\n",
    "#Call function: # of arguments = # of parameters\n",
    "result = raise_to_power(2, 3)\n",
    "print(result)"
   ]
  },
  {
   "cell_type": "markdown",
   "metadata": {
    "id": "LBYluF-nRVmQ"
   },
   "source": [
    "A quick jump into tuples\n",
    "- Make functions return multiple values: Tuples!\n",
    "- Tuples:\n",
    "  - Like a list - can contain multiple values\n",
    "  - Immutable - can’t modify values! (once it has been constructed)\n",
    "  - Constructed using parentheses ()"
   ]
  },
  {
   "cell_type": "code",
   "execution_count": null,
   "metadata": {
    "colab": {
     "base_uri": "https://localhost:8080/"
    },
    "id": "keDttwXoRi5b",
    "outputId": "85d50855-f31b-4921-89c1-449c2a95ee27"
   },
   "outputs": [
    {
     "name": "stdout",
     "output_type": "stream",
     "text": [
      "<class 'tuple'>\n",
      "2\n",
      "4\n",
      "6\n"
     ]
    }
   ],
   "source": [
    "#Example\n",
    "even_nums = (2, 4, 6)\n",
    "print(type(even_nums))\n",
    "\n",
    "#unpacking tuples\n",
    "even_nums = (2, 4, 6)\n",
    "a, b, c = even_nums\n",
    "print (a)\n",
    "print (b)\n",
    "print (c)"
   ]
  },
  {
   "cell_type": "code",
   "execution_count": null,
   "metadata": {
    "colab": {
     "base_uri": "https://localhost:8080/"
    },
    "id": "3LzexwTqR9Aw",
    "outputId": "3803cbb8-fbfd-458c-e958-ba31e1a3ce0d"
   },
   "outputs": [
    {
     "name": "stdout",
     "output_type": "stream",
     "text": [
      "4\n",
      "4\n"
     ]
    }
   ],
   "source": [
    "#Acessing tuple elements\n",
    "even_nums = (2, 4, 6)\n",
    "print(even_nums[1]) #like lists\n",
    "\n",
    "second_num = even_nums[1]\n",
    "print(second_num)"
   ]
  },
  {
   "cell_type": "code",
   "execution_count": null,
   "metadata": {
    "colab": {
     "base_uri": "https://localhost:8080/"
    },
    "id": "eJjfd2KTTOcT",
    "outputId": "0b31f4b7-68c3-41ba-adaf-2d89a19b70e6"
   },
   "outputs": [
    {
     "name": "stdout",
     "output_type": "stream",
     "text": [
      "(8, 9)\n"
     ]
    }
   ],
   "source": [
    "def raise_both(value1, value2):\n",
    "  \"\"\"Raise value1 to the power of value2 and vice versa.\"\"\"\n",
    "\n",
    "  new_value1 = value1 ** value2\n",
    "  new_value2 = value2 ** value1\n",
    "\n",
    "  new_tuple = (new_value1, new_value2)\n",
    "\n",
    "  return new_tuple\n",
    "\n",
    "result = raise_both(2, 3)\n",
    "\n",
    "print(result)"
   ]
  },
  {
   "cell_type": "code",
   "execution_count": null,
   "metadata": {
    "colab": {
     "base_uri": "https://localhost:8080/"
    },
    "id": "-4EItVhUXl86",
    "outputId": "5fc154da-d970-4a5c-e849-f6f0abe7d15d"
   },
   "outputs": [
    {
     "name": "stdout",
     "output_type": "stream",
     "text": [
      "congratulations!!!you!!!\n"
     ]
    }
   ],
   "source": [
    "#FULL EXAMPLE 1\n",
    "\n",
    "# Define shout with parameters word1 and word2\n",
    "def shout(word1, word2):\n",
    "    \"\"\"Concatenate strings with three exclamation marks\"\"\"\n",
    "    # Concatenate word1 with '!!!': shout1\n",
    "    shout1 = word1 + \"!!!\"\n",
    "    \n",
    "    # Concatenate word2 with '!!!': shout2\n",
    "    shout2 = word2 + \"!!!\"\n",
    "    \n",
    "    # Concatenate shout1 with shout2: new_shout\n",
    "    new_shout = shout1 + shout2\n",
    "\n",
    "    # Return new_shout\n",
    "    return new_shout\n",
    "\n",
    "# Pass 'congratulations' and 'you' to shout(): yell\n",
    "yell = shout (\"congratulations\", \"you\")\n",
    "\n",
    "# Print yell\n",
    "print(yell)"
   ]
  },
  {
   "cell_type": "code",
   "execution_count": null,
   "metadata": {
    "id": "aKgvBQ5xZZ3m"
   },
   "outputs": [],
   "source": [
    "#FULL EXAMPLE 2\n",
    "\n",
    "# Unpack nums into num1, num2, and num3\n",
    "num1, num2, num3 = nums\n",
    "\n",
    "# Construct even_nums\n",
    "even_nums = (2, num2, num3)"
   ]
  },
  {
   "cell_type": "code",
   "execution_count": null,
   "metadata": {
    "id": "HfEN42tFaoHx"
   },
   "outputs": [],
   "source": [
    "#FULL EXAMPLE 3\n",
    "\n",
    "# Define shout_all with parameters word1 and word2\n",
    "def shout_all(word1, word2):\n",
    "    \n",
    "    # Concatenate word1 with '!!!': shout1\n",
    "    shout1 = word1 + \"!!!\"\n",
    "    \n",
    "    # Concatenate word2 with '!!!': shout2\n",
    "    shout2 = word2 + \"!!!\"\n",
    "    \n",
    "    # Construct a tuple with shout1 and shout2: shout_words\n",
    "    shout_words = (shout1,  shout2)\n",
    "\n",
    "    # Return shout_words\n",
    "    return shout_words\n",
    "\n",
    "# Pass 'congratulations' and 'you' to shout_all(): yell1, yell2\n",
    "yell1, yell2 = shout_all(\"congratulations\",\"you\")\n",
    "\n",
    "# Print yell1 and yell2\n",
    "print(yell1)\n",
    "print(yell2)"
   ]
  },
  {
   "cell_type": "markdown",
   "metadata": {
    "id": "nMsC8msTJR1b"
   },
   "source": [
    "### Bringing it all together"
   ]
  },
  {
   "cell_type": "markdown",
   "metadata": {
    "id": "yFrUYUuWQ4qr"
   },
   "source": [
    "You’ve learned:\n",
    "- How to write functions\n",
    "  - Accept multiple parameters\n",
    "  - Return multiple values\n",
    "- Up next: Functions for analyzing Twi"
   ]
  },
  {
   "cell_type": "code",
   "execution_count": null,
   "metadata": {
    "id": "wC0gNkB6bjzB"
   },
   "outputs": [],
   "source": [
    "#Basic ingredients of a function\n",
    "\n",
    "#Function Header\n",
    "def raise_both(value1, value2):\n",
    "  \n",
    "#Function body\n",
    "  \"\"\"Raise value1 to the power of value2 and vice versa.\"\"\"\n",
    "  new_value1 = value1 ** value2\n",
    "  new_value2 = value2 ** value1\n",
    "  new_tuple = (new_value1, new_value2)\n",
    "  return new_tuple"
   ]
  },
  {
   "cell_type": "code",
   "execution_count": null,
   "metadata": {
    "id": "6xHInYwif5IK"
   },
   "outputs": [],
   "source": [
    "#FULL EXAMPLE 1 - count twitter column\n",
    "\n",
    "# Import pandas\n",
    "import pandas as pd\n",
    "\n",
    "# Import Twitter data as DataFrame: df\n",
    "df = pd.read_csv(\"tweets.csv\")\n",
    "\n",
    "# Initialize an empty dictionary: langs_count\n",
    "langs_count = {}\n",
    "\n",
    "# Extract column from DataFrame: col\n",
    "col = df['lang']\n",
    "\n",
    "# Iterate over lang column in DataFrame\n",
    "for entry in col:\n",
    "\n",
    "    # If the language is in langs_count, add 1 \n",
    "    if entry in langs_count.keys():\n",
    "        langs_count[entry] += 1\n",
    "    # Else add the language to langs_count, set the value to 1\n",
    "    else:\n",
    "        langs_count[entry] = 1\n",
    "\n",
    "# Print the populated dictionary\n",
    "print(langs_count)"
   ]
  },
  {
   "cell_type": "code",
   "execution_count": null,
   "metadata": {
    "id": "soduDRuQhk1d"
   },
   "outputs": [],
   "source": [
    "#FULL EXAMPLE 2\n",
    "\n",
    "# Define count_entries()\n",
    "def count_entries(df, col_name):\n",
    "    \"\"\"Return a dictionary with counts of \n",
    "    occurrences as value for each key.\"\"\"\n",
    "\n",
    "    # Initialize an empty dictionary: langs_count\n",
    "    langs_count = {}\n",
    "    \n",
    "    # Extract column from DataFrame: col\n",
    "    col = df[col_name]\n",
    "    \n",
    "    # Iterate over lang column in DataFrame\n",
    "    for entry in col:\n",
    "\n",
    "        # If the language is in langs_count, add 1\n",
    "        if entry in langs_count.keys():\n",
    "            langs_count[entry] += 1\n",
    "        # Else add the language to langs_count, set the value to 1\n",
    "        else:\n",
    "            langs_count[entry] = 1\n",
    "\n",
    "    # Return the langs_count dictionary\n",
    "    return langs_count\n",
    "\n",
    "# Call count_entries(): result\n",
    "result = count_entries (tweets_df,\"lang\")\n",
    "\n",
    "# Print the result\n",
    "print(result)"
   ]
  },
  {
   "cell_type": "markdown",
   "metadata": {
    "id": "8FmPts7sQ4nu"
   },
   "source": [
    "### Congratulations!"
   ]
  },
  {
   "cell_type": "markdown",
   "metadata": {
    "id": "K2yGpb0VQ4lB"
   },
   "source": [
    "Next chapters:\n",
    "- Functions with default arguments\n",
    "- Functions that accept an arbitrary number of parameters\n",
    "- Nested functions\n",
    "- Error-handling within functions\n",
    "- More function use in data science!"
   ]
  },
  {
   "cell_type": "markdown",
   "metadata": {
    "id": "xcAhjzjcJRx3"
   },
   "source": [
    "## Default arguments, variable-length arguments and scope"
   ]
  },
  {
   "cell_type": "markdown",
   "metadata": {
    "id": "65zb6U8hJRuN"
   },
   "source": [
    "### Scope and user-defined functions"
   ]
  },
  {
   "cell_type": "markdown",
   "metadata": {
    "id": "PfPrfo6ciejs"
   },
   "source": [
    "Crash course on scope in functions\n",
    "- Not all objects are accessible everywhere in a script\n",
    "- Scope - part of the program where an object or name may be\n",
    "accessible (scope tells which parts can be accessed)\n",
    "  - Global scope - defined in the main body of a script\n",
    "  - Local scope - defined inside a function (can not access it outside the function)\n",
    "  - Built-in scope - names in the pre-de,ned built-ins module"
   ]
  },
  {
   "cell_type": "code",
   "execution_count": null,
   "metadata": {
    "colab": {
     "base_uri": "https://localhost:8080/",
     "height": 194
    },
    "id": "7vK1Mbf2kKYq",
    "outputId": "ae7ecf6a-17b5-4f28-bd37-0548097b934b"
   },
   "outputs": [
    {
     "ename": "NameError",
     "evalue": "ignored",
     "output_type": "error",
     "traceback": [
      "\u001b[0;31m---------------------------------------------------------------------------\u001b[0m",
      "\u001b[0;31mNameError\u001b[0m                                 Traceback (most recent call last)",
      "\u001b[0;32m<ipython-input-16-f921f026b80b>\u001b[0m in \u001b[0;36m<module>\u001b[0;34m()\u001b[0m\n\u001b[1;32m      5\u001b[0m \u001b[0msquare\u001b[0m\u001b[0;34m(\u001b[0m\u001b[0;36m3\u001b[0m\u001b[0;34m)\u001b[0m\u001b[0;34m\u001b[0m\u001b[0;34m\u001b[0m\u001b[0m\n\u001b[1;32m      6\u001b[0m \u001b[0;34m\u001b[0m\u001b[0m\n\u001b[0;32m----> 7\u001b[0;31m \u001b[0mnew_val\u001b[0m\u001b[0;34m\u001b[0m\u001b[0;34m\u001b[0m\u001b[0m\n\u001b[0m",
      "\u001b[0;31mNameError\u001b[0m: name 'new_val' is not defined"
     ]
    }
   ],
   "source": [
    "#Global vs. local scope (1)\n",
    "\n",
    "def square(value):\n",
    "  \"\"\"Returns the square of a number.\"\"\"\n",
    "  new_val = value ** 2\n",
    "  return new_val #this variable will not be accessible\n",
    "\n",
    "square(3)\n",
    "\n",
    "new_val #was not defined gloally"
   ]
  },
  {
   "cell_type": "code",
   "execution_count": null,
   "metadata": {
    "colab": {
     "base_uri": "https://localhost:8080/"
    },
    "id": "KYSPaSF7kTOA",
    "outputId": "a66fcad1-6a18-420f-9e94-bd1975874d5a"
   },
   "outputs": [
    {
     "data": {
      "text/plain": [
       "10"
      ]
     },
     "execution_count": 17,
     "metadata": {},
     "output_type": "execute_result"
    }
   ],
   "source": [
    "#Global vs. local scope (2)\n",
    "\n",
    "new_val = 10\n",
    "\n",
    "def square(value):\n",
    "  \"\"\"Returns the square of a number.\"\"\"\n",
    "  new_val = value ** 2\n",
    "  return new_val\n",
    "\n",
    "square(3) #gives 9\n",
    "\n",
    "new_val #gives 10"
   ]
  },
  {
   "cell_type": "code",
   "execution_count": null,
   "metadata": {
    "colab": {
     "base_uri": "https://localhost:8080/"
    },
    "id": "eWWI4dIwlBkL",
    "outputId": "9fdf0fed-7399-4527-d383-49a15f94a85c"
   },
   "outputs": [
    {
     "data": {
      "text/plain": [
       "400"
      ]
     },
     "execution_count": 18,
     "metadata": {},
     "output_type": "execute_result"
    }
   ],
   "source": [
    "#Global vs. local scope (3)\n",
    "\n",
    "new_val = 10\n",
    "\n",
    "def square(value):\n",
    "  \"\"\"Returns the square of a number.\"\"\"\n",
    "  new_value2 = new_val ** 2 #new_val given previously\n",
    "  return new_value2\n",
    "\n",
    "square(3) #gives 100\n",
    "\n",
    "new_val = 20\n",
    "\n",
    "square(3) #gives 400"
   ]
  },
  {
   "cell_type": "code",
   "execution_count": null,
   "metadata": {
    "colab": {
     "base_uri": "https://localhost:8080/"
    },
    "id": "G4AxZxWZlWWg",
    "outputId": "55860d4a-dce3-481a-d25b-1c437a759d3f"
   },
   "outputs": [
    {
     "data": {
      "text/plain": [
       "100"
      ]
     },
     "execution_count": 19,
     "metadata": {},
     "output_type": "execute_result"
    }
   ],
   "source": [
    "#Global vs. local scope (4) - it helps creating the variable that will leave the function\n",
    "\n",
    "new_val = 10\n",
    "\n",
    "def square(value):\n",
    "  \"\"\"Returns the square of a number.\"\"\"\n",
    "  global new_val #access and alter\n",
    "  new_val = new_val ** 2\n",
    "  return new_val\n",
    "\n",
    "square(3)\n",
    "\n",
    "new_val\n"
   ]
  },
  {
   "cell_type": "code",
   "execution_count": null,
   "metadata": {
    "id": "X69nvt6aoGfJ"
   },
   "outputs": [],
   "source": [
    "#FULL EXAMPLE 1\n",
    "\n",
    "# Create a string: team\n",
    "team = \"teen titans\"\n",
    "\n",
    "# Define change_team()\n",
    "def change_team():\n",
    "    \"\"\"Change the value of the global variable team.\"\"\"\n",
    "\n",
    "    # Use team in global scope\n",
    "    global team\n",
    "\n",
    "    # Change the value of team in global: team\n",
    "    team = \"justice league\"\n",
    "# Print team\n",
    "print(team)\n",
    "\n",
    "# Call change_team()\n",
    "change_team()\n",
    "\n",
    "# Print team\n",
    "print(team)"
   ]
  },
  {
   "cell_type": "markdown",
   "metadata": {
    "id": "vn0IsZ2TJRpm"
   },
   "source": [
    "### Nested functions"
   ]
  },
  {
   "cell_type": "markdown",
   "metadata": {
    "id": "Ykp5qsUBouE3"
   },
   "source": [
    "Python will search inside inner function, and than outer"
   ]
  },
  {
   "cell_type": "code",
   "execution_count": null,
   "metadata": {
    "id": "h1eRZa7VonOK"
   },
   "outputs": [],
   "source": [
    "# Nested functions 1\n",
    "def outer( ... ):\n",
    "  \"\"\" ... \"\"\"\n",
    "  x = ...\n",
    "\n",
    "  def inner( ... ):\n",
    "    \"\"\" ... \"\"\"\n",
    "    y = x ** 2\n",
    "  return ..."
   ]
  },
  {
   "cell_type": "code",
   "execution_count": null,
   "metadata": {
    "id": "xRcD1Z80pCnL"
   },
   "outputs": [],
   "source": [
    "#Nested functions 2 - repeat a process\n",
    "\n",
    "def mod2plus5(x1, x2, x3):\n",
    "  \"\"\"Returns the remainder plus 5 of three values.\"\"\"\n",
    "\n",
    "  new_x1 = x1 % 2 + 5\n",
    "  new_x2 = x2 % 2 + 5\n",
    "  new_x3 = x3 % 2 + 5\n",
    "\n",
    "  return (new_x1, new_x2, new_x3)"
   ]
  },
  {
   "cell_type": "code",
   "execution_count": null,
   "metadata": {
    "colab": {
     "base_uri": "https://localhost:8080/"
    },
    "id": "RdVpmNzKpPSB",
    "outputId": "88a34df9-03a3-4536-ba70-9bc5ff593bad"
   },
   "outputs": [
    {
     "name": "stdout",
     "output_type": "stream",
     "text": [
      "(6, 5, 6)\n"
     ]
    }
   ],
   "source": [
    "#Nested functions 3 - example of inner function\n",
    "\n",
    "def mod2plus5(x1, x2, x3):\n",
    "  \"\"\"Returns the remainder plus 5 of three values.\"\"\"\n",
    "  \n",
    "  def inner(x):\n",
    "    \"\"\"Returns the remainder plus 5 of a value.\"\"\"\n",
    "    return x % 2 + 5\n",
    "  \n",
    "  return (inner(x1), inner(x2), inner(x3))\n",
    "\n",
    "print(mod2plus5(1, 2, 3))"
   ]
  },
  {
   "cell_type": "code",
   "execution_count": null,
   "metadata": {
    "colab": {
     "base_uri": "https://localhost:8080/"
    },
    "id": "kiCK4SoUpcB4",
    "outputId": "48322778-49b4-444b-d7b6-07173bfba1c2"
   },
   "outputs": [
    {
     "name": "stdout",
     "output_type": "stream",
     "text": [
      "4 64\n"
     ]
    }
   ],
   "source": [
    "#Returning functions\n",
    "def raise_val(n):\n",
    "  \"\"\"Return the inner function.\"\"\"\n",
    "\n",
    "  def inner(x):\n",
    "    \"\"\"Raise x to the power of n.\"\"\"\n",
    "    raised = x ** n\n",
    "    return raised\n",
    "\n",
    "  return inner #retuners the inner function\n",
    "\n",
    "square = raise_val(2) #squares any number n=2\n",
    "\n",
    "cube = raise_val(3) #cubes any number n=3\n",
    "\n",
    "print(square(2), cube(4)) #we will not work with this \"closure\" too much"
   ]
  },
  {
   "cell_type": "code",
   "execution_count": null,
   "metadata": {
    "colab": {
     "base_uri": "https://localhost:8080/"
    },
    "id": "NVT-njl6wt5V",
    "outputId": "6a3f014a-b5ed-4720-8c28-0056ccb3c6c9"
   },
   "outputs": [
    {
     "name": "stdout",
     "output_type": "stream",
     "text": [
      "2\n",
      "2\n"
     ]
    }
   ],
   "source": [
    "#Using nonlocal\n",
    "def outer():\n",
    "  \"\"\"Prints the value of n.\"\"\"\n",
    "  n = 1\n",
    "\n",
    "  def inner():\n",
    "    nonlocal n #close scope\n",
    "    n = 2\n",
    "    print(n)\n",
    "\n",
    "  inner()\n",
    "\n",
    "  print(n)\n",
    "\n",
    "outer()"
   ]
  },
  {
   "cell_type": "markdown",
   "metadata": {
    "id": "8F0QPejAonIT"
   },
   "source": [
    "Scopes searched\n",
    "- Local scope\n",
    "- Enclosing functions\n",
    "- Global\n",
    "- Built-in"
   ]
  },
  {
   "cell_type": "code",
   "execution_count": null,
   "metadata": {
    "colab": {
     "base_uri": "https://localhost:8080/"
    },
    "id": "P5837MFjzU7W",
    "outputId": "a19d9d4d-617e-4e51-e3b2-fc5ea38fdc95"
   },
   "outputs": [
    {
     "name": "stdout",
     "output_type": "stream",
     "text": [
      "('a!!!', 'b!!!', 'c!!!')\n"
     ]
    }
   ],
   "source": [
    "#FULL EXAMPLE 1\n",
    "\n",
    "# Define three_shouts\n",
    "def three_shouts(word1, word2, word3):\n",
    "    \"\"\"Returns a tuple of strings\n",
    "    concatenated with '!!!'.\"\"\"\n",
    "\n",
    "    # Define inner\n",
    "    def inner(word):\n",
    "        \"\"\"Returns a string concatenated with '!!!'.\"\"\"\n",
    "        return word + '!!!'\n",
    "\n",
    "    # Return a tuple of strings\n",
    "    return (inner(word1), inner(word2), inner(word3))\n",
    "\n",
    "# Call three_shouts() and print\n",
    "print(three_shouts('a', 'b', 'c'))"
   ]
  },
  {
   "cell_type": "code",
   "execution_count": null,
   "metadata": {
    "colab": {
     "base_uri": "https://localhost:8080/"
    },
    "id": "WJdbUTAZ0y8l",
    "outputId": "ac913069-e702-4435-ce4c-219128b25688"
   },
   "outputs": [
    {
     "name": "stdout",
     "output_type": "stream",
     "text": [
      "hellohello hellohellohello\n"
     ]
    }
   ],
   "source": [
    "#FULL EXAMPLE 2\n",
    "\n",
    "# Define echo\n",
    "def echo(n):\n",
    "    \"\"\"Return the inner_echo function.\"\"\"\n",
    "\n",
    "    # Define inner_echo\n",
    "    def inner_echo(word1):\n",
    "        \"\"\"Concatenate n copies of word1.\"\"\"\n",
    "        echo_word = word1 * n\n",
    "        return echo_word\n",
    "\n",
    "    # Return inner_echo\n",
    "    return inner_echo\n",
    "\n",
    "# Call echo: twice\n",
    "twice = echo(2)\n",
    "\n",
    "# Call echo: thrice\n",
    "thrice = echo(3)\n",
    "\n",
    "# Call twice() and thrice() then print\n",
    "print(twice('hello'), thrice('hello'))"
   ]
  },
  {
   "cell_type": "code",
   "execution_count": null,
   "metadata": {
    "colab": {
     "base_uri": "https://localhost:8080/"
    },
    "id": "8JslSuph3ssh",
    "outputId": "40554c68-f827-442b-bc38-ce11126f4275"
   },
   "outputs": [
    {
     "name": "stdout",
     "output_type": "stream",
     "text": [
      "hellohello\n",
      "hellohello!!!\n"
     ]
    }
   ],
   "source": [
    "#FULL EXAMPLE 3\n",
    "\n",
    "# Define echo_shout()\n",
    "def echo_shout(word):\n",
    "    \"\"\"Change the value of a nonlocal variable\"\"\"\n",
    "    \n",
    "    # Concatenate word with itself: echo_word\n",
    "    echo_word = word*2\n",
    "    \n",
    "    # Print echo_word\n",
    "    print(echo_word) #não está com print\n",
    "    \n",
    "    # Define inner function shout()\n",
    "    def shout():\n",
    "        \"\"\"Alter a variable in the enclosing scope\"\"\"    \n",
    "        # Use echo_word in nonlocal scope\n",
    "        nonlocal echo_word\n",
    "        \n",
    "        # Change echo_word to echo_word concatenated with '!!!'\n",
    "        echo_word = echo_word + \"!!!\"\n",
    "    \n",
    "    # Call function shout()\n",
    "    shout()\n",
    "    \n",
    "    # Print echo_word\n",
    "    print(echo_word)\n",
    "\n",
    "# Call function echo_shout() with argument 'hello'\n",
    "echo_shout(\"hello\")"
   ]
  },
  {
   "cell_type": "markdown",
   "metadata": {
    "id": "0Ez9eyivJRjy"
   },
   "source": [
    "### Default and flexible arguments"
   ]
  },
  {
   "cell_type": "markdown",
   "metadata": {
    "id": "PoN8zhf76Rrz"
   },
   "source": [
    "You'll learn:\n",
    "- Writing functions with default arguments (normally common values)\n",
    "- Using flexible arguments\n",
    "- Pass any number of arguments to a functions"
   ]
  },
  {
   "cell_type": "code",
   "execution_count": null,
   "metadata": {
    "colab": {
     "base_uri": "https://localhost:8080/"
    },
    "id": "ovguIRY9y9CY",
    "outputId": "455e051d-a423-44fb-c37d-4920ad529d4c"
   },
   "outputs": [
    {
     "name": "stdout",
     "output_type": "stream",
     "text": [
      "81\n",
      "9\n",
      "9\n"
     ]
    }
   ],
   "source": [
    "def power(number, pow=1):\n",
    "  \"\"\"Raise number to the power of pow.\"\"\"\n",
    "  new_value = number ** pow\n",
    "  return new_value\n",
    "\n",
    "print(power(9, 2))\n",
    "print(power(9, 1))\n",
    "print(power(9))"
   ]
  },
  {
   "cell_type": "code",
   "execution_count": null,
   "metadata": {
    "colab": {
     "base_uri": "https://localhost:8080/"
    },
    "id": "AN4_r7aWy8_H",
    "outputId": "aaaa5bd0-4f23-4e46-9d53-2b32c2dfe62d"
   },
   "outputs": [
    {
     "name": "stdout",
     "output_type": "stream",
     "text": [
      "1\n",
      "3\n",
      "50\n"
     ]
    }
   ],
   "source": [
    "#Flexible arguments: *args (1)\n",
    "\n",
    "def add_all(*args): #pass all arguments into an args tuple\n",
    "  \"\"\"Sum all values in *args together.\"\"\"\n",
    "  \n",
    "  # Initialize sum\n",
    "  sum_all = 0\n",
    "\n",
    "  # Accumulate the sum\n",
    "  for num in args:\n",
    "    sum_all += num    \n",
    "  \n",
    "  return sum_all\n",
    "\n",
    "print(add_all(1))\n",
    "print(add_all(1, 2))\n",
    "print(add_all(5, 10, 15, 20))"
   ]
  },
  {
   "cell_type": "code",
   "execution_count": null,
   "metadata": {
    "colab": {
     "base_uri": "https://localhost:8080/"
    },
    "id": "11NBdChmy88A",
    "outputId": "b16adea1-5cea-4a75-c302-e009bef10420"
   },
   "outputs": [
    {
     "name": "stdout",
     "output_type": "stream",
     "text": [
      "name: dumbledore\n",
      "job: headmaster\n",
      "name: Hugo Bowne-Anderson\n",
      "employer: DataCamp\n"
     ]
    }
   ],
   "source": [
    "#Flexible arguments: **kwargs\n",
    "\n",
    "def print_all(**kwargs):\n",
    "  \"\"\"Print out key-value pairs in **kwargs.\"\"\"\n",
    "  \n",
    "  # Print out the key-value pairs\n",
    "  for key, value in kwargs.items():\n",
    "   print(key + \": \" + value)\n",
    "\n",
    "print_all(name=\"dumbledore\", job=\"headmaster\")\n",
    "print_all(name=\"Hugo Bowne-Anderson\", employer=\"DataCamp\")"
   ]
  },
  {
   "cell_type": "code",
   "execution_count": null,
   "metadata": {
    "colab": {
     "base_uri": "https://localhost:8080/"
    },
    "id": "bDJAy86dARpx",
    "outputId": "94a32a02-e0a5-4b07-9f69-ec8f65c7de23"
   },
   "outputs": [
    {
     "name": "stdout",
     "output_type": "stream",
     "text": [
      "Hey!!!\n",
      "HeyHeyHeyHeyHey!!!\n"
     ]
    }
   ],
   "source": [
    "#FULL EXAMPLE 1\n",
    "\n",
    "# Define shout_echo\n",
    "def shout_echo(word1, echo = 1):\n",
    "    \"\"\"Concatenate echo copies of word1 and three\n",
    "     exclamation marks at the end of the string.\"\"\"\n",
    "\n",
    "    # Concatenate echo copies of word1 using *: echo_word\n",
    "    echo_word = word1 * echo\n",
    "\n",
    "    # Concatenate '!!!' to echo_word: shout_word\n",
    "    shout_word = echo_word + '!!!'\n",
    "\n",
    "    # Return shout_word\n",
    "    return shout_word\n",
    "\n",
    "# Call shout_echo() with \"Hey\": no_echo\n",
    "no_echo = shout_echo(\"Hey\")\n",
    "\n",
    "# Call shout_echo() with \"Hey\" and echo=5: with_echo\n",
    "with_echo = shout_echo(\"Hey\", echo=5)\n",
    "\n",
    "# Print no_echo and with_echo\n",
    "print(no_echo)\n",
    "print(with_echo)"
   ]
  },
  {
   "cell_type": "code",
   "execution_count": null,
   "metadata": {
    "colab": {
     "base_uri": "https://localhost:8080/"
    },
    "id": "XO5pjTqtAUZ0",
    "outputId": "ed0b5025-e850-4e5a-e18b-071773eb3e63"
   },
   "outputs": [
    {
     "name": "stdout",
     "output_type": "stream",
     "text": [
      "HEYHEYHEYHEYHEY!!!\n",
      "HEY!!!\n"
     ]
    }
   ],
   "source": [
    "#FULL EXAMPLE 2\n",
    "\n",
    "# Define shout_echo\n",
    "def shout_echo(word1, echo=1, intense=False):\n",
    "    \"\"\"Concatenate echo copies of word1 and three\n",
    "    exclamation marks at the end of the string.\"\"\"\n",
    "\n",
    "    # Concatenate echo copies of word1 using *: echo_word\n",
    "    echo_word = word1 * echo\n",
    "\n",
    "    # Make echo_word uppercase if intense is True\n",
    "    if intense is True:\n",
    "        # Make uppercase and concatenate '!!!': echo_word_new\n",
    "        echo_word_new = echo_word.upper() + '!!!'\n",
    "    else:\n",
    "        # Concatenate '!!!' to echo_word: echo_word_new\n",
    "        echo_word_new = echo_word + '!!!'\n",
    "\n",
    "    # Return echo_word_new\n",
    "    return echo_word_new\n",
    "\n",
    "# Call shout_echo() with \"Hey\", echo=5 and intense=True: with_big_echo\n",
    "with_big_echo = shout_echo(\"Hey\", echo=5, intense = True)\n",
    "\n",
    "# Call shout_echo() with \"Hey\" and intense=True: big_no_echo\n",
    "big_no_echo = shout_echo(\"Hey\", intense = True)\n",
    "\n",
    "# Print values\n",
    "print(with_big_echo)\n",
    "print(big_no_echo)"
   ]
  },
  {
   "cell_type": "code",
   "execution_count": null,
   "metadata": {
    "id": "7gPWu5J1F1yn"
   },
   "outputs": [],
   "source": [
    "#FULL EXAMPLE 3\n",
    "\n",
    "# Define gibberish\n",
    "def gibberish(*args):\n",
    "    \"\"\"Concatenate strings in *args together.\"\"\"\n",
    "\n",
    "    # Initialize an empty string: hodgepodge\n",
    "    hodgepodge = str()\n",
    "\n",
    "    # Concatenate the strings in args\n",
    "    for word in args:\n",
    "        hodgepodge += word\n",
    "\n",
    "    # Return hodgepodge\n",
    "    return hodgepodge\n",
    "\n",
    "# Call gibberish() with one string: one_word\n",
    "one_word = gibberish(\"luke\")\n",
    "\n",
    "# Call gibberish() with five strings: many_words\n",
    "many_words = gibberish(\"luke\", \"leia\", \"han\", \"obi\", \"darth\")\n",
    "\n",
    "# Print one_word and many_words\n",
    "print(one_word)\n",
    "print(many_words)"
   ]
  },
  {
   "cell_type": "code",
   "execution_count": null,
   "metadata": {
    "colab": {
     "base_uri": "https://localhost:8080/"
    },
    "id": "3Y7WP7dDF3t8",
    "outputId": "82117484-9b6a-4b3d-841a-d23075f3153f"
   },
   "outputs": [
    {
     "name": "stdout",
     "output_type": "stream",
     "text": [
      "luke\n",
      "lukeleiahanobidarth\n"
     ]
    }
   ],
   "source": [
    "#FULL EXAMPLE 4\n",
    "\n",
    "# Define gibberish\n",
    "def gibberish(*args):\n",
    "    \"\"\"Concatenate strings in *args together.\"\"\"\n",
    "\n",
    "    # Initialize an empty string: hodgepodge\n",
    "    hodgepodge = str()\n",
    "\n",
    "    # Concatenate the strings in args\n",
    "    for word in args:\n",
    "        hodgepodge += word\n",
    "\n",
    "    # Return hodgepodge\n",
    "    return hodgepodge\n",
    "\n",
    "# Call gibberish() with one string: one_word\n",
    "one_word = gibberish(\"luke\")\n",
    "\n",
    "# Call gibberish() with five strings: many_words\n",
    "many_words = gibberish(\"luke\", \"leia\", \"han\", \"obi\", \"darth\")\n",
    "\n",
    "# Print one_word and many_words\n",
    "print(one_word)\n",
    "print(many_words)"
   ]
  },
  {
   "cell_type": "code",
   "execution_count": null,
   "metadata": {
    "colab": {
     "base_uri": "https://localhost:8080/"
    },
    "id": "gojBvebIF_ie",
    "outputId": "407e2c19-2858-417e-cdd5-32bbb89027e1"
   },
   "outputs": [
    {
     "name": "stdout",
     "output_type": "stream",
     "text": [
      "\n",
      "BEGIN: REPORT\n",
      "\n",
      "name: luke\n",
      "affiliation: jedi\n",
      "status: missing\n",
      "\n",
      "END REPORT\n",
      "\n",
      "BEGIN: REPORT\n",
      "\n",
      "name: anakin\n",
      "affiliation: sith lord\n",
      "status: deceased\n",
      "\n",
      "END REPORT\n"
     ]
    }
   ],
   "source": [
    "#FULL EXAMPLE 5\n",
    "\n",
    "# Define report_status\n",
    "def report_status(**kwargs):\n",
    "    \"\"\"Print out the status of a movie character.\"\"\"\n",
    "\n",
    "    print(\"\\nBEGIN: REPORT\\n\")\n",
    "\n",
    "    # Iterate over the key-value pairs of kwargs\n",
    "    for key, value in kwargs.items():\n",
    "        # Print out the keys and values, separated by a colon ':'\n",
    "        print(key + \": \" + value)\n",
    "\n",
    "    print(\"\\nEND REPORT\")\n",
    "\n",
    "# First call to report_status()\n",
    "report_status(name = \"luke\", affiliation = \"jedi\", status = \"missing\")\n",
    "\n",
    "# Second call to report_status()\n",
    "report_status(name=\"anakin\", affiliation=\"sith lord\", status=\"deceased\")"
   ]
  },
  {
   "cell_type": "markdown",
   "metadata": {
    "id": "mRBU2odVJRVR"
   },
   "source": [
    "### Bringing it all together"
   ]
  },
  {
   "cell_type": "markdown",
   "metadata": {
    "id": "dX8SWdANHTBJ"
   },
   "source": [
    "Next exercises:\n",
    "- Generalized functions:\n",
    "  - Count occurrences for any column\n",
    "  - Count occurrences for an arbitrary number of columns"
   ]
  },
  {
   "cell_type": "code",
   "execution_count": null,
   "metadata": {
    "id": "1EynHtrvJhPI"
   },
   "outputs": [],
   "source": [
    "#FULL EXAMPLE 1\n",
    "\n",
    "# Define count_entries()\n",
    "def count_entries(df, col_name = \"lang\"):\n",
    "    \"\"\"Return a dictionary with counts of\n",
    "    occurrences as value for each key.\"\"\"\n",
    "\n",
    "    # Initialize an empty dictionary: cols_count\n",
    "    cols_count = {}\n",
    "\n",
    "    # Extract column from DataFrame: col\n",
    "    col = df[col_name]\n",
    "    \n",
    "    # Iterate over the column in DataFrame\n",
    "    for entry in col:\n",
    "\n",
    "        # If entry is in cols_count, add 1\n",
    "        if entry in cols_count.keys():\n",
    "            cols_count[entry] += 1\n",
    "\n",
    "        # Else add the entry to cols_count, set the value to 1\n",
    "        else:\n",
    "            cols_count[entry] = 1\n",
    "\n",
    "    # Return the cols_count dictionary\n",
    "    return cols_count\n",
    "\n",
    "# Call count_entries(): result1\n",
    "result1 = count_entries(tweets_df)\n",
    "\n",
    "# Call count_entries(): result2\n",
    "result2 = count_entries(tweets_df,\"source\")\n",
    "\n",
    "# Print result1 and result2\n",
    "print(result1)\n",
    "print(result2)"
   ]
  },
  {
   "cell_type": "code",
   "execution_count": null,
   "metadata": {
    "id": "iau_rB6_KtYB"
   },
   "outputs": [],
   "source": [
    "#FULL EXAMPLE 2\n",
    "\n",
    "# Define count_entries()\n",
    "def count_entries(df, *args):\n",
    "    \"\"\"Return a dictionary with counts of\n",
    "    occurrences as value for each key.\"\"\"\n",
    "    \n",
    "    #Initialize an empty dictionary: cols_count\n",
    "    cols_count = {}\n",
    "    \n",
    "    # Iterate over column names in args\n",
    "    for col_name in args:\n",
    "    \n",
    "        # Extract column from DataFrame: col\n",
    "        col = df[col_name]\n",
    "    \n",
    "        # Iterate over the column in DataFrame\n",
    "        for entry in col:\n",
    "    \n",
    "            # If entry is in cols_count, add 1\n",
    "            if entry in cols_count.keys():\n",
    "                cols_count[entry] += 1\n",
    "    \n",
    "            # Else add the entry to cols_count, set the value to 1\n",
    "            else:\n",
    "                cols_count[entry] = 1\n",
    "\n",
    "    # Return the cols_count dictionary\n",
    "    return cols_count\n",
    "\n",
    "# Call count_entries(): result1\n",
    "result1 = count_entries(tweets_df, \"lang\")\n",
    "\n",
    "# Call count_entries(): result2\n",
    "result2 = count_entries(tweets_df, \"lang\", \"source\")\n",
    "\n",
    "# Print result1 and result2\n",
    "print(result1)\n",
    "print(result2)"
   ]
  },
  {
   "cell_type": "markdown",
   "metadata": {
    "id": "WFWC0zlyJRR5"
   },
   "source": [
    "## Lambda functions and error-handling"
   ]
  },
  {
   "cell_type": "markdown",
   "metadata": {
    "id": "14E0VU1uJRPO"
   },
   "source": [
    "### Lambda functions"
   ]
  },
  {
   "cell_type": "code",
   "execution_count": null,
   "metadata": {
    "colab": {
     "base_uri": "https://localhost:8080/"
    },
    "id": "FcnHAE4HMdv6",
    "outputId": "2d1dc15d-9c99-4e86-ab77-e028379f5c86"
   },
   "outputs": [
    {
     "data": {
      "text/plain": [
       "8"
      ]
     },
     "execution_count": 49,
     "metadata": {},
     "output_type": "execute_result"
    }
   ],
   "source": [
    "#Lambda functions\n",
    "raise_to_power = lambda x, y: x ** y #express what we wish the function to returns\n",
    "raise_to_power(2, 3)"
   ]
  },
  {
   "cell_type": "markdown",
   "metadata": {
    "id": "AWvBd6nyMubc"
   },
   "source": [
    "Anonymous functions\n",
    "- Function map takes two arguments: map(func, seq)\n",
    "- map() applies the function to ALL elements in the sequence\n",
    "- Basically it gets a function and apply it to a list"
   ]
  },
  {
   "cell_type": "code",
   "execution_count": null,
   "metadata": {
    "colab": {
     "base_uri": "https://localhost:8080/"
    },
    "id": "ts87XLY6M1fa",
    "outputId": "7d064f30-26de-4808-8ce5-26230736b7e3"
   },
   "outputs": [
    {
     "name": "stdout",
     "output_type": "stream",
     "text": [
      "<map object at 0x7f4d12f95450>\n",
      "[2304, 36, 81, 441, 1]\n"
     ]
    }
   ],
   "source": [
    "nums = [48, 6, 9, 21, 1]\n",
    "square_all = map(lambda num: num ** 2, nums)\n",
    "\n",
    "print(square_all) #map object\n",
    "\n",
    "print(list(square_all))"
   ]
  },
  {
   "cell_type": "code",
   "execution_count": null,
   "metadata": {
    "colab": {
     "base_uri": "https://localhost:8080/"
    },
    "id": "EQOfHbeVOi7j",
    "outputId": "bb61513a-d996-4c2d-9c2e-86be11db3ef3"
   },
   "outputs": [
    {
     "name": "stdout",
     "output_type": "stream",
     "text": [
      "heyheyheyheyhey\n"
     ]
    }
   ],
   "source": [
    "#FULL EXAMPLE 1\n",
    "\n",
    "# Define echo_word as a lambda function: echo_word\n",
    "echo_word = (lambda word1, echo: word1*echo)\n",
    "\n",
    "# Call echo_word: result\n",
    "result = echo_word(\"hey\",5)\n",
    "\n",
    "# Print result\n",
    "print(result)"
   ]
  },
  {
   "cell_type": "code",
   "execution_count": null,
   "metadata": {
    "colab": {
     "base_uri": "https://localhost:8080/"
    },
    "id": "tsLdT97QRWZY",
    "outputId": "41c7ae6d-44b2-4e2d-be92-08b52accf1fa"
   },
   "outputs": [
    {
     "name": "stdout",
     "output_type": "stream",
     "text": [
      "['protego!!!', 'accio!!!', 'expecto patronum!!!', 'legilimens!!!']\n"
     ]
    }
   ],
   "source": [
    "#FULL EXAMPLE 2\n",
    "\n",
    "# Create a list of strings: spells\n",
    "spells = [\"protego\", \"accio\", \"expecto patronum\", \"legilimens\"]\n",
    "\n",
    "# Use map() to apply a lambda function over spells: shout_spells\n",
    "shout_spells = map(lambda item: item+\"!!!\", spells)\n",
    "\n",
    "# Convert shout_spells to a list: shout_spells_list\n",
    "shout_spells_list = list(shout_spells)\n",
    "\n",
    "# Print the result\n",
    "print(shout_spells_list)"
   ]
  },
  {
   "cell_type": "code",
   "execution_count": null,
   "metadata": {
    "colab": {
     "base_uri": "https://localhost:8080/"
    },
    "id": "ebtXgX18T1I9",
    "outputId": "a1576c0b-ea0a-4efe-b577-976505174173"
   },
   "outputs": [
    {
     "name": "stdout",
     "output_type": "stream",
     "text": [
      "['samwise', 'aragorn', 'boromir', 'legolas', 'gandalf']\n"
     ]
    }
   ],
   "source": [
    "#FULL EXAMPLE 3 - filter subsets the list according to the function\n",
    "\n",
    "# Create a list of strings: fellowship\n",
    "fellowship = ['frodo', 'samwise', 'merry', 'pippin', 'aragorn', 'boromir', 'legolas', 'gimli', 'gandalf']\n",
    "\n",
    "# Use filter() to apply a lambda function over fellowship: result\n",
    "result = filter(lambda member: len(member)>6, fellowship)\n",
    "\n",
    "# Convert result to a list: result_list\n",
    "result_list = list(result)\n",
    "\n",
    "# Print result_list\n",
    "print(result_list)"
   ]
  },
  {
   "cell_type": "code",
   "execution_count": null,
   "metadata": {
    "colab": {
     "base_uri": "https://localhost:8080/"
    },
    "id": "QGI5ewcgT3w3",
    "outputId": "881b0003-d48a-4009-a7ce-9e7c4f448b28"
   },
   "outputs": [
    {
     "name": "stdout",
     "output_type": "stream",
     "text": [
      "robbsansaaryabrandonrickon\n"
     ]
    }
   ],
   "source": [
    "#FULL EXAMPLE 4 reduce concatenates everything from a list\n",
    "\n",
    "# Import reduce from functools\n",
    "from functools import reduce\n",
    "\n",
    "# Create a list of strings: stark\n",
    "stark = ['robb', 'sansa', 'arya', 'brandon', 'rickon']\n",
    "\n",
    "# Use reduce() to apply a lambda function over stark: result\n",
    "result = reduce(lambda item1, item2: item1 + item2, stark)\n",
    "\n",
    "# Print the result\n",
    "print(result)"
   ]
  },
  {
   "cell_type": "markdown",
   "metadata": {
    "id": "1btT0I9KJRMl"
   },
   "source": [
    "### Introduction to error handling"
   ]
  },
  {
   "cell_type": "code",
   "execution_count": null,
   "metadata": {
    "colab": {
     "base_uri": "https://localhost:8080/",
     "height": 194
    },
    "id": "X8N5kuU_Meo6",
    "outputId": "c0707025-c61c-4988-9cff-23d45b18619f"
   },
   "outputs": [
    {
     "ename": "ValueError",
     "evalue": "ignored",
     "output_type": "error",
     "traceback": [
      "\u001b[0;31m---------------------------------------------------------------------------\u001b[0m",
      "\u001b[0;31mValueError\u001b[0m                                Traceback (most recent call last)",
      "\u001b[0;32m<ipython-input-1-1e293242de50>\u001b[0m in \u001b[0;36m<module>\u001b[0;34m()\u001b[0m\n\u001b[1;32m      1\u001b[0m \u001b[0mfloat\u001b[0m\u001b[0;34m(\u001b[0m\u001b[0;36m2\u001b[0m\u001b[0;34m)\u001b[0m\u001b[0;34m\u001b[0m\u001b[0;34m\u001b[0m\u001b[0m\n\u001b[1;32m      2\u001b[0m \u001b[0mfloat\u001b[0m\u001b[0;34m(\u001b[0m\u001b[0;34m'2.3'\u001b[0m\u001b[0;34m)\u001b[0m\u001b[0;34m\u001b[0m\u001b[0;34m\u001b[0m\u001b[0m\n\u001b[0;32m----> 3\u001b[0;31m \u001b[0mfloat\u001b[0m\u001b[0;34m(\u001b[0m\u001b[0;34m'hello'\u001b[0m\u001b[0;34m)\u001b[0m\u001b[0;34m\u001b[0m\u001b[0;34m\u001b[0m\u001b[0m\n\u001b[0m",
      "\u001b[0;31mValueError\u001b[0m: could not convert string to float: 'hello'"
     ]
    }
   ],
   "source": [
    "float(2)\n",
    "float('2.3')\n",
    "float('hello') #provides value error (there are several types)"
   ]
  },
  {
   "cell_type": "markdown",
   "metadata": {
    "id": "Jm9vk6rkVyoG"
   },
   "source": [
    "We should provide error massages for the functions we write\n",
    "\n",
    "Errors and exceptions\n",
    "- Exceptions - caught during execution\n",
    "- Catch exceptions with try-except clause\n",
    "  - Runs the code following try\n",
    "  - If there’s an exception, run the code following except"
   ]
  },
  {
   "cell_type": "code",
   "execution_count": null,
   "metadata": {
    "colab": {
     "base_uri": "https://localhost:8080/"
    },
    "id": "FXI-gwJ1Mdi8",
    "outputId": "a808015a-6bce-435e-bae2-26665f526a27"
   },
   "outputs": [
    {
     "name": "stdout",
     "output_type": "stream",
     "text": [
      "x must be an int or float\n"
     ]
    }
   ],
   "source": [
    "def sqrt(x):\n",
    "  \"\"\"Returns the square root of a number.\"\"\"\n",
    "  try:\n",
    "    return x ** 0.5\n",
    "  except:\n",
    "    print('x must be an int or float')\n",
    "sqrt(4)\n",
    "sqrt (\"hi\")"
   ]
  },
  {
   "cell_type": "code",
   "execution_count": null,
   "metadata": {
    "id": "wQb7ZOpLS4sI"
   },
   "outputs": [],
   "source": [
    "#Errors and exceptions\n",
    "def sqrt(x):\n",
    "  \"\"\"Returns the square root of a number.\"\"\"\n",
    "  try:\n",
    "    return x ** 0.5\n",
    "  except TypeError:\n",
    "    print('x must be an int or float')"
   ]
  },
  {
   "cell_type": "markdown",
   "metadata": {
    "id": "scZC40w_S_TS"
   },
   "source": [
    "![image.png](data:image/png;base64,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)"
   ]
  },
  {
   "cell_type": "code",
   "execution_count": null,
   "metadata": {
    "colab": {
     "base_uri": "https://localhost:8080/",
     "height": 311
    },
    "id": "4m7CQZ3fTE9d",
    "outputId": "add92ed8-e5bb-4046-ffe2-18b0693c7230"
   },
   "outputs": [
    {
     "ename": "ValueError",
     "evalue": "ignored",
     "output_type": "error",
     "traceback": [
      "\u001b[0;31m---------------------------------------------------------------------------\u001b[0m",
      "\u001b[0;31mValueError\u001b[0m                                Traceback (most recent call last)",
      "\u001b[0;32m<ipython-input-8-f9f2a0f9084c>\u001b[0m in \u001b[0;36m<module>\u001b[0;34m()\u001b[0m\n\u001b[1;32m     13\u001b[0m     \u001b[0mprint\u001b[0m\u001b[0;34m(\u001b[0m\u001b[0;34m'x must be an int or float'\u001b[0m\u001b[0;34m)\u001b[0m\u001b[0;34m\u001b[0m\u001b[0;34m\u001b[0m\u001b[0m\n\u001b[1;32m     14\u001b[0m \u001b[0;34m\u001b[0m\u001b[0m\n\u001b[0;32m---> 15\u001b[0;31m \u001b[0msqrt\u001b[0m\u001b[0;34m(\u001b[0m\u001b[0;34m-\u001b[0m\u001b[0;36m2\u001b[0m\u001b[0;34m)\u001b[0m\u001b[0;34m\u001b[0m\u001b[0;34m\u001b[0m\u001b[0m\n\u001b[0m",
      "\u001b[0;32m<ipython-input-8-f9f2a0f9084c>\u001b[0m in \u001b[0;36msqrt\u001b[0;34m(x)\u001b[0m\n\u001b[1;32m      5\u001b[0m \u001b[0;34m\u001b[0m\u001b[0m\n\u001b[1;32m      6\u001b[0m   \u001b[0;32mif\u001b[0m \u001b[0mx\u001b[0m \u001b[0;34m<\u001b[0m \u001b[0;36m0\u001b[0m\u001b[0;34m:\u001b[0m\u001b[0;34m\u001b[0m\u001b[0;34m\u001b[0m\u001b[0m\n\u001b[0;32m----> 7\u001b[0;31m     \u001b[0;32mraise\u001b[0m \u001b[0mValueError\u001b[0m\u001b[0;34m(\u001b[0m\u001b[0;34m'x must be non-negative'\u001b[0m\u001b[0;34m)\u001b[0m\u001b[0;34m\u001b[0m\u001b[0;34m\u001b[0m\u001b[0m\n\u001b[0m\u001b[1;32m      8\u001b[0m \u001b[0;34m\u001b[0m\u001b[0m\n\u001b[1;32m      9\u001b[0m   \u001b[0;32mtry\u001b[0m\u001b[0;34m:\u001b[0m\u001b[0;34m\u001b[0m\u001b[0;34m\u001b[0m\u001b[0m\n",
      "\u001b[0;31mValueError\u001b[0m: x must be non-negative"
     ]
    }
   ],
   "source": [
    "#raise an error - make it not work according to some constraint\n",
    "\n",
    "def sqrt(x):\n",
    "  \"\"\"Returns the square root of a number.\"\"\"\n",
    "  \n",
    "  if x < 0:\n",
    "    raise ValueError('x must be non-negative')\n",
    "  \n",
    "  try:\n",
    "    return x ** 0.5\n",
    "  \n",
    "  except TypeError:\n",
    "    print('x must be an int or float')\n",
    "\n",
    "sqrt(-2)"
   ]
  },
  {
   "cell_type": "code",
   "execution_count": null,
   "metadata": {
    "colab": {
     "base_uri": "https://localhost:8080/",
     "height": 51
    },
    "id": "-99Ptr0zVLP1",
    "outputId": "470ae251-f008-4625-828d-cac677a51bb7"
   },
   "outputs": [
    {
     "name": "stdout",
     "output_type": "stream",
     "text": [
      "word1 must be a string and echo must be an integer.\n"
     ]
    },
    {
     "data": {
      "application/vnd.google.colaboratory.intrinsic+json": {
       "type": "string"
      },
      "text/plain": [
       "''"
      ]
     },
     "execution_count": 9,
     "metadata": {},
     "output_type": "execute_result"
    }
   ],
   "source": [
    "#FULL EXAMPLE 1 - try-except\n",
    "# Define shout_echo\n",
    "def shout_echo(word1, echo=1):\n",
    "    \"\"\"Concatenate echo copies of word1 and three\n",
    "    exclamation marks at the end of the string.\"\"\"\n",
    "\n",
    "    # Initialize empty strings: echo_word, shout_words\n",
    "    echo_word = str()\n",
    "    shout_words = str()\n",
    "\n",
    "    # Add exception handling with try-except\n",
    "    try:\n",
    "        # Concatenate echo copies of word1 using *: echo_word\n",
    "        echo_word = word1*echo\n",
    "\n",
    "        # Concatenate '!!!' to echo_word: shout_words\n",
    "        shout_words = echo_word+\"!!!\"\n",
    "    except:\n",
    "        # Print error message\n",
    "        print(\"word1 must be a string and echo must be an integer.\")\n",
    "\n",
    "    # Return shout_words\n",
    "    return shout_words\n",
    "\n",
    "# Call shout_echo\n",
    "shout_echo(\"particle\", echo=\"accelerator\")\n"
   ]
  },
  {
   "cell_type": "code",
   "execution_count": null,
   "metadata": {
    "id": "3m8csmcMVgWl"
   },
   "outputs": [],
   "source": [
    "#FULL EXAMPLE 2 - raise an error\n",
    "\n",
    "# Define shout_echo\n",
    "def shout_echo(word1, echo=1):\n",
    "    \"\"\"Concatenate echo copies of word1 and three\n",
    "    exclamation marks at the end of the string.\"\"\"\n",
    "\n",
    "    # Raise an error with raise\n",
    "    if echo <0:\n",
    "        raise ValueError(\"echo must be greater than or equal to 0\")\n",
    "\n",
    "    # Concatenate echo copies of word1 using *: echo_word\n",
    "    echo_word = word1 * echo\n",
    "\n",
    "    # Concatenate '!!!' to echo_word: shout_word\n",
    "    shout_word = echo_word + '!!!'\n",
    "\n",
    "    # Return shout_word\n",
    "    return shout_word\n",
    "\n",
    "# Call shout_echo\n",
    "shout_echo(\"particle\", echo=5)"
   ]
  },
  {
   "cell_type": "markdown",
   "metadata": {
    "id": "dxQ_Bnn9Lb1I"
   },
   "source": [
    "### Bringing it all together"
   ]
  },
  {
   "cell_type": "code",
   "execution_count": null,
   "metadata": {
    "id": "ajC5MPGoMfUy"
   },
   "outputs": [],
   "source": [
    "#Errors and exceptions\n",
    "def sqrt(x):\n",
    "  try:\n",
    "    return x ** 0.5\n",
    "  except:\n",
    "    print('x must be an int or float')\n",
    "\n",
    "sqrt(4)\n",
    "sqrt('hi')"
   ]
  },
  {
   "cell_type": "code",
   "execution_count": null,
   "metadata": {
    "id": "MZDm_8LTWZzH"
   },
   "outputs": [],
   "source": [
    "#Errors and exceptions\n",
    "def sqrt(x):\n",
    "  if x < 0:\n",
    "    raise ValueError('x must be non-negative')\n",
    "  try:\n",
    "    return x ** 0.5\n",
    "  except TypeError:\n",
    "    print('x must be an int or float')"
   ]
  },
  {
   "cell_type": "code",
   "execution_count": null,
   "metadata": {
    "id": "TQROUFQwMdVs"
   },
   "outputs": [],
   "source": [
    "#FULL EXAMPLE 1 \n",
    "# Select retweets from the Twitter DataFrame: result\n",
    "result = filter(lambda x: x[0:2]==\"RT\", tweets_df[\"text\"])\n",
    "\n",
    "# Create list from filter object result: res_list\n",
    "res_list = list(result)\n",
    "\n",
    "# Print all retweets in res_list\n",
    "for tweet in res_list:\n",
    "    print(tweet)"
   ]
  },
  {
   "cell_type": "code",
   "execution_count": null,
   "metadata": {
    "id": "T0h3-wdlW1CA"
   },
   "outputs": [],
   "source": [
    "#FULL EXAMPLE 2\n",
    "# Define count_entries()\n",
    "def count_entries(df, col_name='lang'):\n",
    "    \"\"\"Return a dictionary with counts of\n",
    "    occurrences as value for each key.\"\"\"\n",
    "\n",
    "    # Initialize an empty dictionary: cols_count\n",
    "    cols_count = {}\n",
    "\n",
    "    # Add try block\n",
    "    try:\n",
    "        # Extract column from DataFrame: col\n",
    "        col = df[col_name]\n",
    "        \n",
    "        # Iterate over the column in dataframe\n",
    "        for entry in col:\n",
    "    \n",
    "            # If entry is in cols_count, add 1\n",
    "            if entry in cols_count.keys():\n",
    "                cols_count[entry] += 1\n",
    "            # Else add the entry to cols_count, set the value to 1\n",
    "            else:\n",
    "                cols_count[entry] = 1\n",
    "    \n",
    "        # Return the cols_count dictionary\n",
    "        return cols_count\n",
    "\n",
    "    # Add except block\n",
    "    except:\n",
    "        print ('The DataFrame does not have a ' + col_name + ' column.')\n",
    "\n",
    "# Call count_entries(): result1\n",
    "result1 = count_entries(tweets_df, 'lang')\n",
    "\n",
    "# Print result1\n",
    "print(result1)"
   ]
  },
  {
   "cell_type": "code",
   "execution_count": null,
   "metadata": {
    "id": "uPQwJt7zW1vZ"
   },
   "outputs": [],
   "source": [
    "#FULL EXAMPLE 3\n",
    "\n",
    "# Define count_entries()\n",
    "def count_entries(df, col_name='lang'):\n",
    "    \"\"\"Return a dictionary with counts of\n",
    "    occurrences as value for each key.\"\"\"\n",
    "    \n",
    "    # Raise a ValueError if col_name is NOT in DataFrame\n",
    "    if col_name not in df.columns:\n",
    "        raise ValueError ('The DataFrame does not have a ' + col_name + ' column.')\n",
    "\n",
    "    # Initialize an empty dictionary: cols_count\n",
    "    cols_count = {}\n",
    "    \n",
    "    # Extract column from DataFrame: col\n",
    "    col = df[col_name]\n",
    "    \n",
    "    # Iterate over the column in DataFrame\n",
    "    for entry in col:\n",
    "\n",
    "        # If entry is in cols_count, add 1\n",
    "        if entry in cols_count.keys():\n",
    "            cols_count[entry] += 1\n",
    "            # Else add the entry to cols_count, set the value to 1\n",
    "        else:\n",
    "            cols_count[entry] = 1\n",
    "        \n",
    "        # Return the cols_count dictionary\n",
    "    return cols_count\n",
    "\n",
    "# Call count_entries(): result1\n",
    "result1 = count_entries(df = tweets_df,col_name = \"lang\")\n",
    "\n",
    "# Print result1\n",
    "print(result1)"
   ]
  },
  {
   "cell_type": "markdown",
   "metadata": {
    "id": "5k1SiqtqLbxy"
   },
   "source": [
    "### Congratulations"
   ]
  },
  {
   "cell_type": "markdown",
   "metadata": {
    "id": "vriTh3f8WkJr"
   },
   "source": [
    "What you’ve learned:\n",
    "- Write functions that accept single and multiple arguments\n",
    "- Write functions that return one or many values\n",
    "- Use default, flexible, and keyword arguments\n",
    "- Global and local scope in functions\n",
    "- Write lambda functions\n",
    "- Handle errors\n",
    "\n",
    "There’s more to learn!\n",
    "- Create lists with list comprehensions\n",
    "- Iterators - you’ve seen them before!\n",
    "- Case studies to apply these techniques to Data Science"
   ]
  },
  {
   "cell_type": "markdown",
   "metadata": {
    "id": "s_vnEgyqDISG"
   },
   "source": [
    "# PYTHON DATA SCIENCE TOOLBOX (PART 2)\n",
    "Professor: Hugo Bowne-Anderson"
   ]
  },
  {
   "cell_type": "markdown",
   "metadata": {
    "id": "L9uXWbFd-6D2"
   },
   "source": [
    "## Using iterators in PythonLand"
   ]
  },
  {
   "cell_type": "markdown",
   "metadata": {
    "id": "jFiK9cOM-6AW"
   },
   "source": [
    "### Introduction to iterators"
   ]
  },
  {
   "cell_type": "markdown",
   "metadata": {
    "id": "-GB3kyNk8SLa"
   },
   "source": []
  },
  {
   "cell_type": "code",
   "execution_count": null,
   "metadata": {
    "id": "j8ve7QJm8Snu"
   },
   "outputs": [],
   "source": [
    "#Iterating with a for loop\n",
    "\n",
    "#list\n",
    "employees = ['Nick', 'Lore', 'Hugo']\n",
    "for employee in employees:\n",
    "  print(employee)\n",
    "\n",
    "#string\n",
    "for letter in \"DataCamp\": \n",
    "  print(letter)\n",
    "\n",
    "#range object\n",
    "for i in range(4): \n",
    "  print(i)"
   ]
  },
  {
   "cell_type": "markdown",
   "metadata": {
    "id": "CWqshm448TLq"
   },
   "source": [
    "Iterators vs. iterables\n",
    "- Iterable\n",
    "  - Examples: lists, strings, dictionaries, file connections\n",
    "  - An object with an associated iter() method\n",
    "  - Applying iter() to an iterable creates an iterator\n",
    "- Iterator\n",
    "  - Produces next value with next()\n",
    "\n",
    "- In a nutshell, iterable is an object that can return an iterator, while an iterator is an object that keeps state and produces the next value when you call next()\n",
    "- Iterable is just an object such as list, string etc. Iterator is an object class"
   ]
  },
  {
   "cell_type": "code",
   "execution_count": null,
   "metadata": {
    "colab": {
     "base_uri": "https://localhost:8080/",
     "height": 34
    },
    "id": "mxAL4W3P-6Dd",
    "outputId": "6158d035-8a5d-4ad9-cfb3-83afff1b53bc"
   },
   "outputs": [
    {
     "data": {
      "application/vnd.google.colaboratory.intrinsic+json": {
       "type": "string"
      },
      "text/plain": [
       "'a'"
      ]
     },
     "execution_count": 3,
     "metadata": {},
     "output_type": "execute_result"
    }
   ],
   "source": [
    "#Iterating over iterables: next()\n",
    "\n",
    "word = 'Da'\n",
    "it = iter(word)\n",
    "next(it) #\"D\"\n",
    "\n",
    "next(it) #\"a\"\n",
    "\n",
    "next(it) #\"stopiteration\""
   ]
  },
  {
   "cell_type": "code",
   "execution_count": null,
   "metadata": {
    "colab": {
     "base_uri": "https://localhost:8080/"
    },
    "id": "JC0BL9S1_NHm",
    "outputId": "5be28a9d-2206-4af8-b65c-faee94219b6e"
   },
   "outputs": [
    {
     "name": "stdout",
     "output_type": "stream",
     "text": [
      "D a t a\n",
      "\n"
     ]
    }
   ],
   "source": [
    "#Iterating at once with *\n",
    "word = 'Data'\n",
    "it = iter(word)\n",
    "print(*it) #D a t a\n",
    "\n",
    "print(*it) #no more values to go through"
   ]
  },
  {
   "cell_type": "code",
   "execution_count": null,
   "metadata": {
    "colab": {
     "base_uri": "https://localhost:8080/"
    },
    "id": "f5uTCM0Y_UzQ",
    "outputId": "ac00e22c-0868-4abb-a174-7df50f7d9e57"
   },
   "outputs": [
    {
     "name": "stdout",
     "output_type": "stream",
     "text": [
      "hugo bowne-anderson\n",
      "francis castro\n"
     ]
    }
   ],
   "source": [
    "#Iterating over dictionaries\n",
    "pythonistas = {'hugo': 'bowne-anderson', 'francis': 'castro'}\n",
    "for key, value in pythonistas.items():\n",
    "  print(key, value)"
   ]
  },
  {
   "cell_type": "code",
   "execution_count": null,
   "metadata": {
    "id": "8xQSDGOv_aky"
   },
   "outputs": [],
   "source": [
    "#Iterating over file connections\n",
    "file = open('file.txt')\n",
    "it = iter(file)\n",
    "print(next(it)) #This is the first line.\n",
    "\n",
    "print(next(it)) #This is the second line"
   ]
  },
  {
   "cell_type": "code",
   "execution_count": null,
   "metadata": {
    "id": "5Os80z3OCxyx"
   },
   "outputs": [],
   "source": [
    "#FULL EXAMPLE 1:\n",
    "\n",
    "# Create a list of strings: flash\n",
    "flash = ['jay garrick', 'barry allen', 'wally west', 'bart allen']\n",
    "\n",
    "# Print each list item in flash using a for loop\n",
    "for person in flash:\n",
    "    print(person)\n",
    "\n",
    "# Create an iterator for flash: superhero\n",
    "superhero = iter(flash)\n",
    "\n",
    "# Print each item from the iterator\n",
    "print(next(superhero))\n",
    "print(next(superhero))\n",
    "print(next(superhero))\n",
    "print(next(superhero))"
   ]
  },
  {
   "cell_type": "code",
   "execution_count": 1,
   "metadata": {
    "ExecuteTime": {
     "end_time": "2021-12-24T16:07:45.739476Z",
     "start_time": "2021-12-24T16:07:45.706930Z"
    },
    "id": "vZts_ehHDghE"
   },
   "outputs": [
    {
     "name": "stdout",
     "output_type": "stream",
     "text": [
      "0\n",
      "1\n",
      "2\n",
      "0\n",
      "1\n",
      "2\n",
      "0\n",
      "1\n",
      "2\n",
      "3\n",
      "4\n"
     ]
    }
   ],
   "source": [
    "#FULL EXAMPLE 2:\n",
    "\n",
    "# Create an iterator for range(3): small_value\n",
    "small_value = iter(range(3))\n",
    "\n",
    "# Print the values in small_value\n",
    "print(next(small_value))\n",
    "print(next(small_value))\n",
    "print(next(small_value))\n",
    "\n",
    "# Loop over range(3) and print the values\n",
    "for num in range(3):\n",
    "    print(num)\n",
    "\n",
    "# Create an iterator for range(10 ** 100): googol\n",
    "googol = iter(range(10**100))\n",
    "\n",
    "# Print the first 5 values from googol\n",
    "print(next(googol))\n",
    "print(next(googol))\n",
    "print(next(googol))\n",
    "print(next(googol))\n",
    "print(next(googol))"
   ]
  },
  {
   "cell_type": "code",
   "execution_count": null,
   "metadata": {
    "colab": {
     "base_uri": "https://localhost:8080/"
    },
    "id": "H86u_CuTEhzB",
    "outputId": "ace6ad4a-ac0e-461c-9f3e-2b5164fd90a4"
   },
   "outputs": [
    {
     "name": "stdout",
     "output_type": "stream",
     "text": [
      "range(10, 21)\n",
      "[10, 11, 12, 13, 14, 15, 16, 17, 18, 19, 20]\n",
      "165\n"
     ]
    }
   ],
   "source": [
    "#FULL EXAMPLE 3:\n",
    "\n",
    "# Create a range object: values\n",
    "values = range(10,21)\n",
    "\n",
    "# Print the range object\n",
    "print(values)\n",
    "\n",
    "# Create a list of integers: values_list\n",
    "values_list = list(values)\n",
    "\n",
    "# Print values_list\n",
    "print(values_list)\n",
    "\n",
    "# Get the sum of values: values_sum\n",
    "values_sum = sum(values)\n",
    "\n",
    "# Print values_sum\n",
    "print(values_sum)"
   ]
  },
  {
   "cell_type": "markdown",
   "metadata": {
    "id": "rrGUm6F1-58z"
   },
   "source": [
    "### Playing with iterators"
   ]
  },
  {
   "cell_type": "code",
   "execution_count": null,
   "metadata": {
    "colab": {
     "base_uri": "https://localhost:8080/"
    },
    "id": "FlWpi99y_k3A",
    "outputId": "ee426282-4f92-49e7-bcde-7d107602578c"
   },
   "outputs": [
    {
     "name": "stdout",
     "output_type": "stream",
     "text": [
      "<class 'enumerate'>\n",
      "[(0, 'hawkeye'), (1, 'iron man'), (2, 'thor'), (3, 'quicksilver')]\n"
     ]
    }
   ],
   "source": [
    "#Using enumerate()\n",
    "avengers = ['hawkeye', 'iron man', 'thor', 'quicksilver']\n",
    "e = enumerate(avengers)\n",
    "print(type(e)) #class enumerate object. provdes an index\n",
    "\n",
    "e_list = list(e)\n",
    "print(e_list) #list of tuples"
   ]
  },
  {
   "cell_type": "code",
   "execution_count": null,
   "metadata": {
    "colab": {
     "base_uri": "https://localhost:8080/"
    },
    "id": "uMXpf4p0_tZM",
    "outputId": "d291b772-de32-494d-a4da-ead1c75a2f82"
   },
   "outputs": [
    {
     "name": "stdout",
     "output_type": "stream",
     "text": [
      "0 hawkeye\n",
      "1 iron man\n",
      "2 thor\n",
      "3 quicksilver\n",
      "10 hawkeye\n",
      "11 iron man\n",
      "12 thor\n",
      "13 quicksilver\n"
     ]
    }
   ],
   "source": [
    "#enumerate() and unpack\n",
    "avengers = ['hawkeye', 'iron man', 'thor', 'quicksilver']\n",
    "\n",
    "for index, value in enumerate(avengers): #unpack\n",
    "  print(index, value)\n",
    "\n",
    "for index, value in enumerate(avengers, start=10): #change the start, that has a default of 0\n",
    "  print(index, value)"
   ]
  },
  {
   "cell_type": "code",
   "execution_count": null,
   "metadata": {
    "colab": {
     "base_uri": "https://localhost:8080/"
    },
    "id": "eH6Y1Xid_zNg",
    "outputId": "4bee06f9-1437-4d64-ae6b-4bab7aaf8c25"
   },
   "outputs": [
    {
     "name": "stdout",
     "output_type": "stream",
     "text": [
      "<class 'zip'>\n",
      "[('hawkeye', 'barton'), ('iron man', 'stark'), ('thor', 'odinson'), ('quicksilver', 'maximoff')]\n"
     ]
    }
   ],
   "source": [
    "#Using zip()\n",
    "avengers = ['hawkeye', 'iron man', 'thor', 'quicksilver']\n",
    "names = ['barton', 'stark', 'odinson', 'maximoff']\n",
    "\n",
    "z = zip(avengers, names)\n",
    "print(type(z))\n",
    "\n",
    "z_list = list(z)\n",
    "print(z_list) #gives a list of tuple"
   ]
  },
  {
   "cell_type": "code",
   "execution_count": null,
   "metadata": {
    "colab": {
     "base_uri": "https://localhost:8080/"
    },
    "id": "UDSShkba_3DT",
    "outputId": "ead8d163-a881-4855-b9c2-4bd45957734a"
   },
   "outputs": [
    {
     "name": "stdout",
     "output_type": "stream",
     "text": [
      "hawkeye barton\n",
      "iron man stark\n",
      "thor odinson\n",
      "quicksilver maximoff\n"
     ]
    }
   ],
   "source": [
    "#zip() and unpack\n",
    "avengers = ['hawkeye', 'iron man', 'thor', 'quicksilver']\n",
    "names = ['barton', 'stark', 'odinson', 'maximoff']\n",
    "\n",
    "for z1, z2 in zip(avengers, names):\n",
    "  print(z1, z2)"
   ]
  },
  {
   "cell_type": "code",
   "execution_count": null,
   "metadata": {
    "colab": {
     "base_uri": "https://localhost:8080/"
    },
    "id": "vu61ZyT7_w4S",
    "outputId": "76a5ecfe-7c75-4acd-a202-aa2b8ce30210"
   },
   "outputs": [
    {
     "name": "stdout",
     "output_type": "stream",
     "text": [
      "('hawkeye', 'barton') ('iron man', 'stark') ('thor', 'odinson') ('quicksilver', 'maximoff')\n"
     ]
    }
   ],
   "source": [
    "#Print zip with *\n",
    "avengers = ['hawkeye', 'iron man', 'thor', 'quicksilver']\n",
    "names = ['barton', 'stark', 'odinson', 'maximoff']\n",
    "\n",
    "z = zip(avengers, names)\n",
    "print(*z)"
   ]
  },
  {
   "cell_type": "code",
   "execution_count": null,
   "metadata": {
    "colab": {
     "base_uri": "https://localhost:8080/"
    },
    "id": "C0gXEJAyGmlq",
    "outputId": "7e827280-a659-4845-c7fd-56e94541c0e2"
   },
   "outputs": [
    {
     "name": "stdout",
     "output_type": "stream",
     "text": [
      "[(0, 'charles xavier'), (1, 'bobby drake'), (2, 'kurt wagner'), (3, 'max eisenhardt'), (4, 'kitty pryde')]\n",
      "0 charles xavier\n",
      "1 bobby drake\n",
      "2 kurt wagner\n",
      "3 max eisenhardt\n",
      "4 kitty pryde\n",
      "1 charles xavier\n",
      "2 bobby drake\n",
      "3 kurt wagner\n",
      "4 max eisenhardt\n",
      "5 kitty pryde\n"
     ]
    }
   ],
   "source": [
    "#FULL EXAMPLE 1\n",
    "# Create a list of strings: mutants\n",
    "mutants = ['charles xavier', \n",
    "            'bobby drake', \n",
    "            'kurt wagner', \n",
    "            'max eisenhardt', \n",
    "            'kitty pryde']\n",
    "\n",
    "# Create a list of tuples: mutant_list\n",
    "mutant_list = list(enumerate(mutants))\n",
    "\n",
    "# Print the list of tuples\n",
    "print(mutant_list)\n",
    "\n",
    "# Unpack and print the tuple pairs\n",
    "for index1, value1 in enumerate(mutants):\n",
    "    print(index1, value1)\n",
    "\n",
    "# Change the start index\n",
    "for index2, value2 in enumerate(mutants, start = 1):\n",
    "    print(index2, value2)"
   ]
  },
  {
   "cell_type": "code",
   "execution_count": null,
   "metadata": {
    "id": "k2sD5VaOLMvD"
   },
   "outputs": [],
   "source": [
    "#FULL EXAMPLE 2:\n",
    "\n",
    "# Create a list of tuples: mutant_data\n",
    "mutant_data = list(zip(mutants,aliases,powers))\n",
    "\n",
    "# Print the list of tuples\n",
    "print(mutant_data)\n",
    "\n",
    "# Create a zip object using the three lists: mutant_zip\n",
    "mutant_zip = zip(mutants,aliases,powers)\n",
    "\n",
    "# Print the zip object\n",
    "print(mutant_zip)\n",
    "\n",
    "# Unpack the zip object and print the tuple values\n",
    "for value1,value2,value3 in mutant_zip:\n",
    "    print(value1, value2, value3)"
   ]
  },
  {
   "cell_type": "code",
   "execution_count": null,
   "metadata": {
    "id": "xZy6YYdxMaKz"
   },
   "outputs": [],
   "source": [
    "#FULL EXAMPLE 3:\n",
    "# Create a zip object from mutants and powers: z1\n",
    "z1 = zip(mutants, powers)\n",
    "\n",
    "# Print the tuples in z1 by unpacking with *\n",
    "print(*z1)\n",
    "\n",
    "# Re-create a zip object from mutants and powers: z1\n",
    "z1 = zip(mutants,powers)\n",
    "\n",
    "# 'Unzip' the tuples in z1 by unpacking with * and zip(): result1, result2\n",
    "result1, result2 = zip(*z1)\n",
    "\n",
    "# Check if unpacked tuples are equivalent to original tuples\n",
    "print(result1 == mutants)\n",
    "print(result2 == powers)\n"
   ]
  },
  {
   "cell_type": "markdown",
   "metadata": {
    "id": "Oa5mZFkm-55c"
   },
   "source": [
    "### Using iterators to load large files into memory"
   ]
  },
  {
   "cell_type": "markdown",
   "metadata": {
    "id": "T7APEb3J_9Tc"
   },
   "source": [
    "Loading data in chunks\n",
    "- There can be too much data to hold in memory\n",
    "- Solution: load data in chunks! (chunck = pedaço)\n",
    "- Pandas function: read_csv()\n",
    "  - Specify the chunk: chunk_size #load data in chunks"
   ]
  },
  {
   "cell_type": "code",
   "execution_count": null,
   "metadata": {
    "id": "D53FHMbt__O1"
   },
   "outputs": [],
   "source": [
    "#Iterating over data\n",
    "import pandas as pd\n",
    "result = []\n",
    "\n",
    "for chunk in pd.read_csv('data.csv', chunksize=1000):\n",
    "  result.append(sum(chunk['x']))\n",
    "\n",
    "total = sum(result)\n",
    "print(total)"
   ]
  },
  {
   "cell_type": "code",
   "execution_count": null,
   "metadata": {
    "id": "o5L-3xGbAAe0"
   },
   "outputs": [],
   "source": [
    "#Iterating over data\n",
    "import pandas as pd\n",
    "total = 0\n",
    "\n",
    "for chunk in pd.read_csv('data.csv', chunksize=1000):\n",
    "  total += sum(chunck[\"x\"])\n",
    "print(total)"
   ]
  },
  {
   "cell_type": "code",
   "execution_count": null,
   "metadata": {
    "id": "JRjPU91ePpaw"
   },
   "outputs": [],
   "source": [
    "#FULL EXAMPLE 1:\n",
    "\n",
    "# Initialize an empty dictionary: counts_dict\n",
    "counts_dict = {}\n",
    "\n",
    "# Iterate over the file chunk by chunk\n",
    "for chunk in pd.read_csv('tweets.csv', chunksize=10):\n",
    "\n",
    "    # Iterate over the column in DataFrame\n",
    "    for entry in chunk[\"lang\"]:\n",
    "        if entry in counts_dict.keys():\n",
    "            counts_dict[entry] += 1\n",
    "        else:\n",
    "            counts_dict[entry] = 1\n",
    "\n",
    "# Print the populated dictionary\n",
    "print(counts_dict)\n"
   ]
  },
  {
   "cell_type": "code",
   "execution_count": null,
   "metadata": {
    "id": "O_kv8fLZQeID"
   },
   "outputs": [],
   "source": [
    "#FULL EXAMPLE 2:\n",
    "\n",
    "# Define count_entries()\n",
    "def count_entries(csv_file, c_size,colname):\n",
    "    \"\"\"Return a dictionary with counts of\n",
    "    occurrences as value for each key.\"\"\"\n",
    "    \n",
    "    # Initialize an empty dictionary: counts_dict\n",
    "    counts_dict = {}\n",
    "\n",
    "    # Iterate over the file chunk by chunk\n",
    "    for chunk in pd.read_csv(csv_file, chunksize = c_size):\n",
    "\n",
    "        # Iterate over the column in DataFrame\n",
    "        for entry in chunk[colname]:\n",
    "            if entry in counts_dict.keys():\n",
    "                counts_dict[entry] += 1\n",
    "            else:\n",
    "                counts_dict[entry] = 1\n",
    "\n",
    "    # Return counts_dict\n",
    "    return counts_dict\n",
    "\n",
    "# Call count_entries(): result_counts\n",
    "result_counts = count_entries(\"tweets.csv\", 10, \"lang\")\n",
    "\n",
    "# Print result_counts\n",
    "print(result_counts)\n"
   ]
  },
  {
   "cell_type": "markdown",
   "metadata": {
    "id": "XwxYokHu-51q"
   },
   "source": [
    "### Congratulations!"
   ]
  },
  {
   "cell_type": "markdown",
   "metadata": {
    "id": "sFgY8PszQ81M"
   },
   "source": [
    "What’s next?\n",
    "- List comprehensions and generators\n",
    "- List comprehensions:\n",
    "  - Create lists from other lists, DataFrame columns, etc.\n",
    "  - Single line of code\n",
    "  - More effcient than using a for loop"
   ]
  },
  {
   "cell_type": "markdown",
   "metadata": {
    "id": "CJWnsNzz_U0V"
   },
   "source": [
    "## List comprehensions and generators"
   ]
  },
  {
   "cell_type": "markdown",
   "metadata": {
    "id": "ECo6eG1C-5yE"
   },
   "source": [
    "### List comprehensions"
   ]
  },
  {
   "cell_type": "code",
   "execution_count": null,
   "metadata": {
    "colab": {
     "base_uri": "https://localhost:8080/"
    },
    "id": "oXEy1F5yQxWk",
    "outputId": "dd5ca39d-35d9-44b9-aafc-90a844313d8a"
   },
   "outputs": [
    {
     "name": "stdout",
     "output_type": "stream",
     "text": [
      "[13, 9, 22, 4, 17]\n"
     ]
    }
   ],
   "source": [
    "#Populate a list with a for loop\n",
    "nums = [12, 8, 21, 3, 16]\n",
    "new_nums = []\n",
    "\n",
    "for num in nums:\n",
    "  new_nums.append(num + 1)\n",
    "\n",
    "print(new_nums)"
   ]
  },
  {
   "cell_type": "code",
   "execution_count": null,
   "metadata": {
    "colab": {
     "base_uri": "https://localhost:8080/"
    },
    "id": "nbx4oUtlTju6",
    "outputId": "19570620-1bcc-43f6-e7f7-511c4240e8aa"
   },
   "outputs": [
    {
     "name": "stdout",
     "output_type": "stream",
     "text": [
      "[13, 9, 22, 4, 17]\n"
     ]
    }
   ],
   "source": [
    "#A list comprehension\n",
    "nums = [12, 8, 21, 3, 16]\n",
    "new_nums = [num + 1 for num in nums] #simillar to lambda function\n",
    "print(new_nums)"
   ]
  },
  {
   "cell_type": "code",
   "execution_count": null,
   "metadata": {
    "colab": {
     "base_uri": "https://localhost:8080/"
    },
    "id": "5bvKP6LDSK-x",
    "outputId": "b9566460-4548-48f7-d2e8-86128d536dc1"
   },
   "outputs": [
    {
     "name": "stdout",
     "output_type": "stream",
     "text": [
      "[13, 9, 22, 4, 17, 13, 9, 22, 4, 17]\n"
     ]
    }
   ],
   "source": [
    "#For loop and list comprehension syntax\n",
    "new_nums = [num + 1 for num in nums]\n",
    "\n",
    "for num in nums:\n",
    "  new_nums.append(num + 1)\n",
    "\n",
    "print(new_nums)"
   ]
  },
  {
   "cell_type": "code",
   "execution_count": null,
   "metadata": {
    "colab": {
     "base_uri": "https://localhost:8080/"
    },
    "id": "cezbYHCFSMW8",
    "outputId": "b8f55f11-f0b8-42e8-b9f6-f1f23a9ee16e"
   },
   "outputs": [
    {
     "name": "stdout",
     "output_type": "stream",
     "text": [
      "[0, 1, 2, 3, 4, 5, 6, 7, 8, 9, 10]\n"
     ]
    }
   ],
   "source": [
    "#List comprehension with range()\n",
    "result = [num for num in range(11)]\n",
    "print(result)"
   ]
  },
  {
   "cell_type": "markdown",
   "metadata": {
    "id": "pcBu-roISNZ9"
   },
   "source": [
    "List comprehensions\n",
    "- Collapse for loops for building lists into a single line\n",
    "- Components\n",
    "  - Iterable\n",
    "  - Iterator variable (represent members of iterable)\n",
    "  - Output expression"
   ]
  },
  {
   "cell_type": "code",
   "execution_count": null,
   "metadata": {
    "id": "K_8ZAmkBSOhN"
   },
   "outputs": [],
   "source": [
    "#Nested loops (1)\n",
    "pairs_1 = []\n",
    "for num1 in range(0, 2):\n",
    "  for num2 in range(6, 8):\n",
    "    pairs_1.append(num1, num2)\n",
    "print(pairs_1)"
   ]
  },
  {
   "cell_type": "code",
   "execution_count": null,
   "metadata": {
    "colab": {
     "base_uri": "https://localhost:8080/"
    },
    "id": "jHsEGk6LSPdd",
    "outputId": "3b5d1407-747b-4285-e9f8-daf9b591a044"
   },
   "outputs": [
    {
     "name": "stdout",
     "output_type": "stream",
     "text": [
      "[(0, 6), (0, 7), (1, 6), (1, 7)]\n"
     ]
    }
   ],
   "source": [
    "#Nested loops (2) - list comprehensions #sacrifices readibility\n",
    "pairs_2 = [(num1, num2) for num1 in range(0, 2) for num2 in range(6, 8)]\n",
    "print(pairs_2)"
   ]
  },
  {
   "cell_type": "code",
   "execution_count": null,
   "metadata": {
    "colab": {
     "base_uri": "https://localhost:8080/"
    },
    "id": "fKXSCcy4XBWG",
    "outputId": "b86e3e4f-ea67-4708-d296-4827b720eea6"
   },
   "outputs": [
    {
     "name": "stdout",
     "output_type": "stream",
     "text": [
      "[0, 1, 4, 9, 16, 25, 36, 49, 64, 81]\n"
     ]
    }
   ],
   "source": [
    "#FULL EXAMPLE 1\n",
    "\n",
    "# Create list comprehension: squares\n",
    "squares = [i**2 for i in range(10)]\n",
    "print (squares)"
   ]
  },
  {
   "cell_type": "code",
   "execution_count": null,
   "metadata": {
    "colab": {
     "base_uri": "https://localhost:8080/"
    },
    "id": "M-BvQFGpXD8R",
    "outputId": "a30d8061-23fd-4d29-91c3-1c598b821378"
   },
   "outputs": [
    {
     "name": "stdout",
     "output_type": "stream",
     "text": [
      "[0, 1, 2, 3, 4]\n",
      "[0, 1, 2, 3, 4]\n",
      "[0, 1, 2, 3, 4]\n",
      "[0, 1, 2, 3, 4]\n",
      "[0, 1, 2, 3, 4]\n"
     ]
    }
   ],
   "source": [
    "#FULL EXAMPLE 2\n",
    "\n",
    "# Create a 5 x 5 matrix using a list of lists: matrix\n",
    "matrix = [[col for col in range(5)] for row in range(5)]\n",
    "\n",
    "# Print the matrix\n",
    "for row in matrix:\n",
    "    print(row)\n"
   ]
  },
  {
   "cell_type": "markdown",
   "metadata": {
    "id": "c0t9WdCp-5to"
   },
   "source": [
    "### Advanced comprehensions"
   ]
  },
  {
   "cell_type": "code",
   "execution_count": null,
   "metadata": {
    "colab": {
     "base_uri": "https://localhost:8080/"
    },
    "id": "KYsLV5PbQx0I",
    "outputId": "e2d8d8ee-c487-445f-b167-60ba237b9ef0"
   },
   "outputs": [
    {
     "data": {
      "text/plain": [
       "[0, 4, 16, 36, 64]"
      ]
     },
     "execution_count": 22,
     "metadata": {},
     "output_type": "execute_result"
    }
   ],
   "source": [
    "#Conditionals on the iterable\n",
    "[num ** 2 for num in range(10) if num % 2 == 0]"
   ]
  },
  {
   "cell_type": "code",
   "execution_count": null,
   "metadata": {
    "colab": {
     "base_uri": "https://localhost:8080/"
    },
    "id": "NswfUSWbZiNX",
    "outputId": "059f2ac1-997d-4639-bf28-00651be253e8"
   },
   "outputs": [
    {
     "data": {
      "text/plain": [
       "[0, 0, 4, 0, 16, 0, 36, 0, 64, 0]"
      ]
     },
     "execution_count": 24,
     "metadata": {},
     "output_type": "execute_result"
    }
   ],
   "source": [
    "#Conditionals on the output expression\n",
    "[num ** 2 if num % 2 == 0 else 0 for num in range(10)]"
   ]
  },
  {
   "cell_type": "markdown",
   "metadata": {
    "id": "jnz8iG2cZnDC"
   },
   "source": [
    "Dict comprehensions\n",
    "- Create dictionaries\n",
    "- Use curly braces {} instead of brackets []"
   ]
  },
  {
   "cell_type": "code",
   "execution_count": null,
   "metadata": {
    "colab": {
     "base_uri": "https://localhost:8080/"
    },
    "id": "tWEgEHhmZscP",
    "outputId": "da72ebfd-7173-4c89-ae3c-a75fd35f90ac"
   },
   "outputs": [
    {
     "name": "stdout",
     "output_type": "stream",
     "text": [
      "{0: 0, 1: -1, 2: -2, 3: -3, 4: -4, 5: -5, 6: -6, 7: -7, 8: -8}\n",
      "<class 'dict'>\n"
     ]
    }
   ],
   "source": [
    "pos_neg = {num: -num for num in range(9)}\n",
    "print(pos_neg)\n",
    "\n",
    "print(type(pos_neg))"
   ]
  },
  {
   "cell_type": "code",
   "execution_count": null,
   "metadata": {
    "colab": {
     "base_uri": "https://localhost:8080/"
    },
    "id": "RN88qvO9acou",
    "outputId": "90eb50a0-cebc-4e13-f197-3056c874dd55"
   },
   "outputs": [
    {
     "name": "stdout",
     "output_type": "stream",
     "text": [
      "[False, True, False, True, True, True, False]\n",
      "['samwise', 'aragorn', 'legolas', 'boromir']\n"
     ]
    }
   ],
   "source": [
    "#FULL EXAMPLE 1 - wrong\n",
    "\n",
    "# Create a list of strings: fellowship\n",
    "fellowship = ['frodo', 'samwise', 'merry', 'aragorn', 'legolas', 'boromir', 'gimli']\n",
    "\n",
    "# Create list comprehension: new_fellowship\n",
    "new_fellowship = [len(member) >= 7 for member in fellowship]\n",
    "\n",
    "# Print the new list\n",
    "print(new_fellowship) #provides the TRUE and False\n",
    "\n",
    "#FULL EXAMPLE 1 - correct\n",
    "\n",
    "# Create a list of strings: fellowship\n",
    "fellowship = ['frodo', 'samwise', 'merry', 'aragorn', 'legolas', 'boromir', 'gimli']\n",
    "\n",
    "# Create list comprehension: new_fellowship\n",
    "new_fellowship = [member for member in fellowship if len(member)>=7]\n",
    "\n",
    "# Print the new list\n",
    "print(new_fellowship)"
   ]
  },
  {
   "cell_type": "code",
   "execution_count": null,
   "metadata": {
    "colab": {
     "base_uri": "https://localhost:8080/"
    },
    "id": "NSZ3fo7aaewJ",
    "outputId": "c542fd92-803e-486d-cae7-8f1abe825e94"
   },
   "outputs": [
    {
     "name": "stdout",
     "output_type": "stream",
     "text": [
      "['', 'samwise', '', 'aragorn', 'legolas', 'boromir', '']\n"
     ]
    }
   ],
   "source": [
    "#FULL EXAMPLE 2\n",
    "\n",
    "# Create a list of strings: fellowship\n",
    "fellowship = ['frodo', 'samwise', 'merry', 'aragorn', 'legolas', 'boromir', 'gimli']\n",
    "\n",
    "# Create list comprehension: new_fellowship\n",
    "new_fellowship = [member if len (member) >= 7 else \"\" for member in fellowship]\n",
    "\n",
    "# Print the new list\n",
    "print(new_fellowship)\n"
   ]
  },
  {
   "cell_type": "code",
   "execution_count": null,
   "metadata": {
    "id": "WqV3ynyefgkv"
   },
   "outputs": [],
   "source": [
    "#FULL EXAMPLE 3\n",
    "\n",
    "# Create a list of strings: fellowship\n",
    "fellowship = ['frodo', 'samwise', 'merry', 'aragorn', 'legolas', 'boromir', 'gimli']\n",
    "\n",
    "# Create dict comprehension: new_fellowship\n",
    "new_fellowship = {member: len(member) for member in fellowship}\n",
    "\n",
    "# Print the new dictionary\n",
    "print(new_fellowship)\n"
   ]
  },
  {
   "cell_type": "markdown",
   "metadata": {
    "id": "9TySc9m7-5ps"
   },
   "source": [
    "### Introduction to generator expressions"
   ]
  },
  {
   "cell_type": "code",
   "execution_count": null,
   "metadata": {
    "colab": {
     "base_uri": "https://localhost:8080/"
    },
    "id": "XDURCxhlQynY",
    "outputId": "5aa0726c-9af6-48b4-e874-f97c67cb6fbc"
   },
   "outputs": [
    {
     "data": {
      "text/plain": [
       "<generator object <genexpr> at 0x7fc31e435950>"
      ]
     },
     "execution_count": 28,
     "metadata": {},
     "output_type": "execute_result"
    }
   ],
   "source": [
    "#Generator expressions\n",
    "\n",
    "#Recall list comprehension\n",
    "[2 * num for num in range(10)]\n",
    "\n",
    "#Use ( ) instead of [ ]\n",
    "(2 * num for num in range(10)) #generator object"
   ]
  },
  {
   "cell_type": "markdown",
   "metadata": {
    "id": "mP1w-RCTgkpG"
   },
   "source": [
    "List comprehensions vs. generators\n",
    "- List comprehension - returns a list\n",
    "- Generators - returns a generator object\n",
    "- Both can be iterated over"
   ]
  },
  {
   "cell_type": "code",
   "execution_count": null,
   "metadata": {
    "colab": {
     "base_uri": "https://localhost:8080/"
    },
    "id": "hu23uQikg0sf",
    "outputId": "9f51cb3b-9571-4d14-fd6f-bab6ac9d31fe"
   },
   "outputs": [
    {
     "name": "stdout",
     "output_type": "stream",
     "text": [
      "0\n",
      "1\n",
      "2\n",
      "3\n",
      "4\n",
      "5\n",
      "[0, 1, 2, 3, 4, 5]\n"
     ]
    }
   ],
   "source": [
    "#Printing values from generators (1)\n",
    "result = (num for num in range(6))\n",
    "for num in result:\n",
    "  print(num)\n",
    "\n",
    "result = (num for num in range(6))\n",
    "print(list(result))"
   ]
  },
  {
   "cell_type": "code",
   "execution_count": null,
   "metadata": {
    "colab": {
     "base_uri": "https://localhost:8080/"
    },
    "id": "rA6MoFZ5g45v",
    "outputId": "54fc34cc-38a5-46ae-ce49-41a8fa02ac1d"
   },
   "outputs": [
    {
     "name": "stdout",
     "output_type": "stream",
     "text": [
      "0\n",
      "1\n",
      "2\n",
      "3\n",
      "4\n"
     ]
    }
   ],
   "source": [
    "#Printing values from generators (2)\n",
    "result = (num for num in range(6))\n",
    "\n",
    "#Lazy evaluation\n",
    "print(next(result))\n",
    "print(next(result))\n",
    "print(next(result))\n",
    "print(next(result))\n",
    "print(next(result))"
   ]
  },
  {
   "cell_type": "markdown",
   "metadata": {
    "id": "9cCvVxu8hRq5"
   },
   "source": [
    "- Does not create the entire list, so it can be created as a large object\n",
    "- Can do anything with generator expressions"
   ]
  },
  {
   "cell_type": "code",
   "execution_count": null,
   "metadata": {
    "id": "PvYguPP6hdLd"
   },
   "outputs": [],
   "source": [
    "#Conditionals in generator expressions\n",
    "even_nums = (num for num in range(10) if num % 2 == 0)\n",
    "print(list(even_nums))"
   ]
  },
  {
   "cell_type": "markdown",
   "metadata": {
    "id": "POlLRRCLhgUE"
   },
   "source": [
    "Generator functions\n",
    "- Produces generator objects when called\n",
    "- Defined like a regular function - def\n",
    "- Yields a sequence of values instead of returning a single value\n",
    "- Generates a value with yield keyword (instead of return"
   ]
  },
  {
   "cell_type": "code",
   "execution_count": null,
   "metadata": {
    "colab": {
     "base_uri": "https://localhost:8080/"
    },
    "id": "lfABvj0vhmi2",
    "outputId": "dfef5d97-97e3-46c5-afbf-a02be8872e37"
   },
   "outputs": [
    {
     "name": "stdout",
     "output_type": "stream",
     "text": [
      "<class 'generator'>\n",
      "0\n",
      "1\n",
      "2\n",
      "3\n",
      "4\n"
     ]
    }
   ],
   "source": [
    "def num_sequence(n):\n",
    "  \"\"\"Generate values from 0 to n.\"\"\"\n",
    "  i = 0\n",
    "  while i < n:\n",
    "    yield i\n",
    "    i += 1\n",
    "\n",
    "#Use a generator function\n",
    "result = num_sequence(5)\n",
    "print(type(result))\n",
    "\n",
    "for item in result:\n",
    "  print(item)"
   ]
  },
  {
   "cell_type": "code",
   "execution_count": null,
   "metadata": {
    "id": "vlY6NY-Xy7r7"
   },
   "outputs": [],
   "source": [
    "#FULL EXAMPLE 1\n",
    "\n",
    "# Create generator object: result\n",
    "result = (num for num in range (31))\n",
    "\n",
    "# Print the first 5 values\n",
    "print(next(result))\n",
    "print(next(result))\n",
    "print(next(result))\n",
    "print(next(result))\n",
    "print(next(result))\n",
    "\n",
    "# Print the rest of the values\n",
    "for value in result:\n",
    "    print(value)\n"
   ]
  },
  {
   "cell_type": "code",
   "execution_count": null,
   "metadata": {
    "colab": {
     "base_uri": "https://localhost:8080/"
    },
    "id": "0TghtECLy9JK",
    "outputId": "9c5bbf40-6176-4b00-cf85-5c676962aeae"
   },
   "outputs": [
    {
     "name": "stdout",
     "output_type": "stream",
     "text": [
      "6\n",
      "5\n",
      "5\n",
      "6\n",
      "7\n"
     ]
    }
   ],
   "source": [
    "#FULL EXAMPLE 2\n",
    "\n",
    "# Create a list of strings: lannister\n",
    "lannister = ['cersei', 'jaime', 'tywin', 'tyrion', 'joffrey']\n",
    "\n",
    "# Create a generator object: lengths\n",
    "lengths = (len(person) for person in lannister)\n",
    "\n",
    "# Iterate over and print the values in lengths\n",
    "for value in lengths:\n",
    "    print(value)\n"
   ]
  },
  {
   "cell_type": "code",
   "execution_count": null,
   "metadata": {
    "colab": {
     "base_uri": "https://localhost:8080/"
    },
    "id": "OXqQ8SUO1UsE",
    "outputId": "473aa6f3-5593-4919-d7f3-09d245168969"
   },
   "outputs": [
    {
     "name": "stdout",
     "output_type": "stream",
     "text": [
      "6\n",
      "5\n",
      "5\n",
      "6\n",
      "7\n"
     ]
    }
   ],
   "source": [
    "#FULL EXAMPLE 3\n",
    "\n",
    "# Create a list of strings\n",
    "lannister = ['cersei', 'jaime', 'tywin', 'tyrion', 'joffrey']\n",
    "\n",
    "# Define generator function get_lengths\n",
    "def get_lengths(input_list):\n",
    "    \"\"\"Generator function that yields the\n",
    "    length of the strings in input_list.\"\"\"\n",
    "\n",
    "    # Yield the length of a string\n",
    "    for person in input_list:\n",
    "        yield len(person)\n",
    "\n",
    "# Print the values generated by get_lengths()\n",
    "for value in get_lengths(lannister):\n",
    "    print(value)"
   ]
  },
  {
   "cell_type": "markdown",
   "metadata": {
    "id": "2_iCHa7z-5lg"
   },
   "source": [
    "### Wrapping up comprehensions and generators "
   ]
  },
  {
   "cell_type": "markdown",
   "metadata": {
    "id": "M9gdts3yQzh9"
   },
   "source": [
    "Re-cap: list comprehensions\n",
    "- Basic \n",
    "  - [output expression for iterator variable in iterable]\n",
    "- Advanced\n",
    "  - [output expression + conditional on output for iterator variable in iterable + conditional on iterable]"
   ]
  },
  {
   "cell_type": "code",
   "execution_count": null,
   "metadata": {
    "id": "L3CnII3g1qiE"
   },
   "outputs": [],
   "source": [
    "#FULL EXAMPLE 1\n",
    "\n",
    "# Extract the created_at column from df: tweet_time\n",
    "tweet_time = df[\"created_at\"]\n",
    "\n",
    "# Extract the clock time: tweet_clock_time\n",
    "tweet_clock_time = [entry[11:19] for entry in tweet_time]\n",
    "\n",
    "# Print the extracted times\n",
    "print(tweet_clock_time)"
   ]
  },
  {
   "cell_type": "code",
   "execution_count": null,
   "metadata": {
    "id": "OTC1823c1qSG"
   },
   "outputs": [],
   "source": [
    "#FULL EXAMPLE 2\n",
    "\n",
    "# Extract the created_at column from df: tweet_time\n",
    "tweet_time = df[\"created_at\"]\n",
    "\n",
    "# Extract the clock time: tweet_clock_time\n",
    "tweet_clock_time = [entry[11:19] for entry in tweet_time if entry[17:19] == \"19\"]\n",
    "\n",
    "# Print the extracted times\n",
    "print(tweet_clock_time)\n"
   ]
  },
  {
   "cell_type": "markdown",
   "metadata": {
    "id": "2KjvO_0j-5h5"
   },
   "source": [
    "## Bringing it all together!"
   ]
  },
  {
   "cell_type": "markdown",
   "metadata": {
    "id": "rWZGRG9n-5eX"
   },
   "source": [
    "### Welcome to the case study!"
   ]
  },
  {
   "cell_type": "markdown",
   "metadata": {
    "id": "LhfN63r4Q0iA"
   },
   "source": [
    "World bank data\n",
    "- Data on world economies for over half a century\n",
    "- Indicators\n",
    "  - Population\n",
    "  - Electricity consumption\n",
    "  - CO2 emissions\n",
    "  - Literacy rates\n",
    "  - Unemployment\n",
    "  - Mortality rates"
   ]
  },
  {
   "cell_type": "code",
   "execution_count": null,
   "metadata": {
    "colab": {
     "base_uri": "https://localhost:8080/"
    },
    "id": "-F_V5Jl4Q0Z5",
    "outputId": "5d1bed05-bc08-418a-a6f3-635fd934bb3e"
   },
   "outputs": [
    {
     "name": "stdout",
     "output_type": "stream",
     "text": [
      "<class 'zip'>\n",
      "[('hawkeye', 'barton'), ('iron man', 'stark'), ('thor', 'odinson'), ('quicksilver', 'maximoff')]\n"
     ]
    }
   ],
   "source": [
    "#Using zip()\n",
    "avengers = ['hawkeye', 'iron man', 'thor', 'quicksilver']\n",
    "names = ['barton', 'stark', 'odinson', 'maximoff']\n",
    "z = zip(avengers, names)\n",
    "\n",
    "print(type(z))\n",
    "\n",
    "print(list(z))"
   ]
  },
  {
   "cell_type": "code",
   "execution_count": null,
   "metadata": {
    "id": "FaJQVFnU4vpu"
   },
   "outputs": [],
   "source": [
    "#Defining a function\n",
    "#raise.py\n",
    "def raise_both(value1, value2):\n",
    "  \"\"\"Raise value1 to the power of value2\n",
    "  and vice versa.\"\"\"\n",
    "  new_value1 = value1 ** value2\n",
    "  new_value2 = value2 ** value1\n",
    "  new_tuple = (new_value1, new_value2)\n",
    "  return new_tuple"
   ]
  },
  {
   "cell_type": "code",
   "execution_count": null,
   "metadata": {
    "id": "YJaEiHcl5wFd"
   },
   "outputs": [],
   "source": [
    "#FULL EXAMPLE 1\n",
    "\n",
    "# Zip lists: zipped_lists\n",
    "zipped_lists = zip (feature_names, row_vals)\n",
    "\n",
    "# Create a dictionary: rs_dict\n",
    "rs_dict = dict(zipped_lists)\n",
    "\n",
    "# Print the dictionary\n",
    "print(rs_dict)\n"
   ]
  },
  {
   "cell_type": "code",
   "execution_count": null,
   "metadata": {
    "id": "fXU4nJ9-5v8U"
   },
   "outputs": [],
   "source": [
    "#FULL EXAMPLE 2\n",
    "\n",
    "# Define lists2dict()\n",
    "def lists2dict(list1, list2):\n",
    "    \"\"\"Return a dictionary where list1 provides\n",
    "    the keys and list2 provides the values.\"\"\"\n",
    "\n",
    "    # Zip lists: zipped_lists\n",
    "    zipped_lists = zip(list1, list2)\n",
    "\n",
    "    # Create a dictionary: rs_dict\n",
    "    rs_dict = dict(zipped_lists)\n",
    "\n",
    "    # Return the dictionary\n",
    "    return rs_dict\n",
    "\n",
    "# Call lists2dict: rs_fxn\n",
    "rs_fxn = lists2dict(feature_names, row_vals)\n",
    "\n",
    "# Print rs_fxn\n",
    "print(rs_fxn)"
   ]
  },
  {
   "cell_type": "code",
   "execution_count": null,
   "metadata": {
    "id": "_gOaHNxQ50HH"
   },
   "outputs": [],
   "source": [
    "#FULL EXAMPLE 3\n",
    "\n",
    "# Print the first two lists in row_lists\n",
    "print(row_lists[0])\n",
    "print(row_lists[1])\n",
    "\n",
    "# Turn list of lists into list of dicts: list_of_dicts\n",
    "list_of_dicts = [lists2dict(feature_names, sublist) for sublist in row_lists]\n",
    "\n",
    "# Print the first two dictionaries in list_of_dicts\n",
    "print(list_of_dicts[0])\n",
    "print(list_of_dicts[1])"
   ]
  },
  {
   "cell_type": "code",
   "execution_count": null,
   "metadata": {
    "id": "d4FWY6YD50AK"
   },
   "outputs": [],
   "source": [
    "#FULL EXAMPLE 4\n",
    "\n",
    "# Import the pandas package\n",
    "import pandas as pd\n",
    "\n",
    "# Turn list of lists into list of dicts: list_of_dicts\n",
    "list_of_dicts = [lists2dict(feature_names, sublist) for sublist in row_lists]\n",
    "\n",
    "# Turn list of dicts into a DataFrame: df\n",
    "df = pd.DataFrame(list_of_dicts)\n",
    "\n",
    "# Print the head of the DataFrame\n",
    "print(df.head()) #transform into a normal dataframe"
   ]
  },
  {
   "cell_type": "markdown",
   "metadata": {
    "id": "vrCi7BXU4zXx"
   },
   "source": [
    "Re-cap: list comprehensions\n",
    "- Basic\n",
    "  - [output expression for iterator variable in iterable]\n",
    "- Advanced\n",
    "  - [output expression + conditional on output for iterator variable in iterable + conditional on iterable]"
   ]
  },
  {
   "cell_type": "markdown",
   "metadata": {
    "id": "6jeymwmJ-5a7"
   },
   "source": [
    "### Using Python generators for streaming data"
   ]
  },
  {
   "cell_type": "markdown",
   "metadata": {
    "id": "_fPdq86oQ1C1"
   },
   "source": [
    "Generators for the large data limit\n",
    "- Use a generator to load a file line by line\n",
    "- Works on streaming data!\n",
    "- Read and process the file until all lines are exhausted"
   ]
  },
  {
   "cell_type": "code",
   "execution_count": null,
   "metadata": {
    "id": "-1gFB-nZQ00K"
   },
   "outputs": [],
   "source": [
    "#Build a generator function\n",
    "#sequence.py\n",
    "def num_sequence(n):\n",
    "  \"\"\"Generate values from 0 to n.\"\"\"\n",
    "  i = 0\n",
    "  while i < n:\n",
    "    yield i\n",
    "    i ==1"
   ]
  },
  {
   "cell_type": "code",
   "execution_count": null,
   "metadata": {
    "id": "0QBUq-CK523-"
   },
   "outputs": [],
   "source": [
    "#FULL EXAMPLE 1\n",
    "\n",
    "# Open a connection to the file\n",
    "with open(\"world_dev_ind.csv\") as file:\n",
    "\n",
    "    # Skip the column names\n",
    "    file.readline()\n",
    "\n",
    "    # Initialize an empty dictionary: counts_dict\n",
    "    counts_dict = {}\n",
    "\n",
    "    # Process only the first 1000 rows\n",
    "    for j in range(0,1000):\n",
    "\n",
    "        # Split the current line into a list: line\n",
    "        line = file.readline().split(',')\n",
    "\n",
    "        # Get the value for the first column: first_col\n",
    "        first_col = line[0]\n",
    "\n",
    "        # If the column value is in the dict, increment its value\n",
    "        if first_col in counts_dict.keys():\n",
    "            counts_dict[first_col] += 1\n",
    "\n",
    "        # Else, add to the dict and set value to 1\n",
    "        else:\n",
    "            counts_dict[first_col] = 1\n",
    "\n",
    "# Print the resulting dictionary\n",
    "print(counts_dict)"
   ]
  },
  {
   "cell_type": "code",
   "execution_count": null,
   "metadata": {
    "id": "vKZiPi_8523-"
   },
   "outputs": [],
   "source": [
    "#FULL EXAMPLE 2\n",
    "\n",
    "# Define read_large_file()\n",
    "def read_large_file(file_object):\n",
    "    \"\"\"A generator function to read a large file lazily.\"\"\"\n",
    "\n",
    "    # Loop indefinitely until the end of the file\n",
    "    while True:\n",
    "\n",
    "        # Read a line from the file: data\n",
    "        data = file_object.readline()\n",
    "\n",
    "        # Break if this is the end of the file\n",
    "        if not data:\n",
    "            break\n",
    "\n",
    "        # Yield the line of data\n",
    "        yield data\n",
    "        \n",
    "# Open a connection to the file\n",
    "with open('world_dev_ind.csv') as file:\n",
    "\n",
    "    # Create a generator object for the file: gen_file\n",
    "    gen_file = read_large_file(file)\n",
    "\n",
    "    # Print the first three lines of the file\n",
    "    print(next(gen_file))\n",
    "    print(next(gen_file))\n",
    "    print(next(gen_file))"
   ]
  },
  {
   "cell_type": "code",
   "execution_count": null,
   "metadata": {
    "id": "Iv0bQ8M_523-"
   },
   "outputs": [],
   "source": [
    "#FULL EXAMPLE 3\n",
    "\n",
    "# Initialize an empty dictionary: counts_dict\n",
    "counts_dict = {}\n",
    "\n",
    "# Open a connection to the file\n",
    "with open(\"world_dev_ind.csv\") as file:\n",
    "\n",
    "    # Iterate over the generator from read_large_file()\n",
    "    for line in read_large_file(file):\n",
    "\n",
    "        row = line.split(',')\n",
    "        first_col = row[0]\n",
    "\n",
    "        if first_col in counts_dict.keys():\n",
    "            counts_dict[first_col] += 1\n",
    "        else:\n",
    "            counts_dict[first_col] = 1\n",
    "\n",
    "# Print            \n",
    "print(counts_dict)"
   ]
  },
  {
   "cell_type": "markdown",
   "metadata": {
    "id": "y_hk6x_6-5Xd"
   },
   "source": [
    "### Using pandas' read_Csv iterator for straming data"
   ]
  },
  {
   "cell_type": "markdown",
   "metadata": {
    "id": "_ida9HLRQ1tJ"
   },
   "source": [
    "Reading files in chunks\n",
    "Up next:\n",
    "- read_csv() function and chunk_size argument\n",
    "- Look at specific indicators in specific countries\n",
    "- Write a function to generalize tasks"
   ]
  },
  {
   "cell_type": "code",
   "execution_count": null,
   "metadata": {
    "id": "Z5Bk_B_o54rR"
   },
   "outputs": [],
   "source": [
    "#FULL EXAMPLE 1\n",
    "\n",
    "# Import the pandas package\n",
    "import pandas as pd\n",
    "\n",
    "# Initialize reader object: df_reader\n",
    "df_reader = pd.read_csv(\"ind_pop.csv\", chunksize = 10)\n",
    "\n",
    "# Print two chunks\n",
    "print(next(df_reader))\n",
    "print(next(df_reader))\n",
    "\n",
    "print(df_reader)"
   ]
  },
  {
   "cell_type": "code",
   "execution_count": null,
   "metadata": {
    "id": "g_pF5rbo54rR"
   },
   "outputs": [],
   "source": [
    "#FULL EXAMPLE 2\n",
    "\n",
    "# Initialize reader object: urb_pop_reader\n",
    "urb_pop_reader = pd.read_csv('ind_pop_data.csv', chunksize=1000)\n",
    "\n",
    "# Get the first DataFrame chunk: df_urb_pop\n",
    "df_urb_pop = next(urb_pop_reader)\n",
    "\n",
    "# Check out the head of the DataFrame\n",
    "print(df_urb_pop.head())\n",
    "\n",
    "# Check out specific country: df_pop_ceb\n",
    "df_pop_ceb = df_urb_pop[df_urb_pop['CountryCode'] == 'CEB']\n",
    "\n",
    "# Zip DataFrame columns of interest: pops\n",
    "pops = zip(df_pop_ceb['Total Population'], \n",
    "           df_pop_ceb['Urban population (% of total)'])\n",
    "\n",
    "# Turn zip object into list: pops_list\n",
    "pops_list = list(pops)\n",
    "\n",
    "# Print pops_list\n",
    "print(pops_list)"
   ]
  },
  {
   "cell_type": "code",
   "execution_count": null,
   "metadata": {
    "id": "fhwm-b1154rS"
   },
   "outputs": [],
   "source": [
    "#FULL EXAMPLE 3\n",
    "\n",
    "# Code from previous exercise\n",
    "urb_pop_reader = pd.read_csv('ind_pop_data.csv', chunksize=1000)\n",
    "df_urb_pop = next(urb_pop_reader)\n",
    "df_pop_ceb = df_urb_pop[df_urb_pop['CountryCode'] == 'CEB']\n",
    "pops = zip(df_pop_ceb['Total Population'], \n",
    "           df_pop_ceb['Urban population (% of total)'])\n",
    "pops_list = list(pops)\n",
    "\n",
    "# Use list comprehension to create new DataFrame column 'Total Urban Population'\n",
    "df_pop_ceb['Total Urban Population'] = [int(tup[0] * tup[1] * 0.01) for tup in pops_list]\n",
    "\n",
    "# Plot urban population data\n",
    "df_pop_ceb.plot(kind='scatter', x='Year', y='Total Urban Population')\n",
    "plt.show()"
   ]
  },
  {
   "cell_type": "markdown",
   "metadata": {
    "id": "vIdgIqBOkHIP"
   },
   "source": [
    "![image.png](data:image/png;base64,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)"
   ]
  },
  {
   "cell_type": "code",
   "execution_count": null,
   "metadata": {
    "id": "3236dsSs54rS"
   },
   "outputs": [],
   "source": [
    "#FULL EXAMPLE 4\n",
    "\n",
    "# Initialize reader object: urb_pop_reader\n",
    "urb_pop_reader = pd.read_csv('ind_pop_data.csv', chunksize=1000)\n",
    "\n",
    "# Initialize empty DataFrame: data\n",
    "data = pd.DataFrame()\n",
    "\n",
    "# Iterate over each DataFrame chunk\n",
    "for df_urb_pop in urb_pop_reader:\n",
    "\n",
    "    # Check out specific country: df_pop_ceb\n",
    "    df_pop_ceb = df_urb_pop[df_urb_pop['CountryCode'] == 'CEB']\n",
    "\n",
    "    # Zip DataFrame columns of interest: pops\n",
    "    pops = zip(df_pop_ceb['Total Population'],\n",
    "                df_pop_ceb['Urban population (% of total)'])\n",
    "\n",
    "    # Turn zip object into list: pops_list\n",
    "    pops_list = list(pops)\n",
    "\n",
    "    # Use list comprehension to create new DataFrame column 'Total Urban Population'\n",
    "    df_pop_ceb['Total Urban Population'] = [int(tup[0] * tup[1] * 0.01) for tup in pops_list]\n",
    "    \n",
    "    # Append DataFrame chunk to data: data\n",
    "    data = data.append(df_pop_ceb)\n",
    "\n",
    "# Plot urban population data\n",
    "data.plot(kind='scatter', x='Year', y='Total Urban Population')\n",
    "plt.show()\n"
   ]
  },
  {
   "cell_type": "markdown",
   "metadata": {
    "id": "6ZDYppdppAfN"
   },
   "source": [
    "![image.png](data:image/png;base64,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)"
   ]
  },
  {
   "cell_type": "code",
   "execution_count": null,
   "metadata": {
    "id": "0EvDRiJnfETj"
   },
   "outputs": [],
   "source": [
    "#FULL EXAMPLE 5\n",
    "\n",
    "# Define plot_pop()\n",
    "def plot_pop(filename, country_code):\n",
    "\n",
    "    # Initialize reader object: urb_pop_reader\n",
    "    urb_pop_reader = pd.read_csv(filename, chunksize=1000)\n",
    "\n",
    "    # Initialize empty DataFrame: data\n",
    "    data = pd.DataFrame()\n",
    "    \n",
    "    # Iterate over each DataFrame chunk\n",
    "    for df_urb_pop in urb_pop_reader:\n",
    "        # Check out specific country: df_pop_ceb\n",
    "        df_pop_ceb = df_urb_pop[df_urb_pop['CountryCode'] == country_code]\n",
    "\n",
    "        # Zip DataFrame columns of interest: pops\n",
    "        pops = zip(df_pop_ceb['Total Population'],\n",
    "                    df_pop_ceb['Urban population (% of total)'])\n",
    "\n",
    "        # Turn zip object into list: pops_list\n",
    "        pops_list = list(pops)\n",
    "\n",
    "        # Use list comprehension to create new DataFrame column 'Total Urban Population'\n",
    "        df_pop_ceb['Total Urban Population'] = [int(tup[0] * tup[1] * 0.01) for tup in pops_list]\n",
    "    \n",
    "        # Append DataFrame chunk to data: data\n",
    "        data = data.append(df_pop_ceb)\n",
    "\n",
    "    # Plot urban population data\n",
    "    data.plot(kind='scatter', x='Year', y='Total Urban Population')\n",
    "    plt.show()\n",
    "\n",
    "# Set the filename: fn\n",
    "fn = 'ind_pop_data.csv'\n",
    "\n",
    "# Call plot_pop for country code 'CEB'\n",
    "plot_pop(\"ind_pop_data.csv\", \"CEB\")\n",
    "\n",
    "# Call plot_pop for country code 'ARB'\n",
    "plot_pop(\"ind_pop_data.csv\", \"ARB\")\n"
   ]
  },
  {
   "cell_type": "markdown",
   "metadata": {
    "id": "nbhFAUfUpzfg"
   },
   "source": [
    "![image.png](data:image/png;base64,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)"
   ]
  },
  {
   "cell_type": "markdown",
   "metadata": {
    "id": "Wm3BJwcU_FfN"
   },
   "source": [
    "### Final thoughts "
   ]
  },
  {
   "cell_type": "markdown",
   "metadata": {
    "id": "kzwTHqqvQ2dF"
   },
   "source": [
    "You’ve applied your skills in:\n",
    "- User-defined functions\n",
    "- Iterators\n",
    "- List comprehensions\n",
    "- Generators"
   ]
  }
 ],
 "metadata": {
  "colab": {
   "name": "[DC] Data Science Career",
   "provenance": [],
   "toc_visible": true
  },
  "hide_input": false,
  "kernelspec": {
   "display_name": "Python 3 (ipykernel)",
   "language": "python",
   "name": "python3"
  },
  "language_info": {
   "codemirror_mode": {
    "name": "ipython",
    "version": 3
   },
   "file_extension": ".py",
   "mimetype": "text/x-python",
   "name": "python",
   "nbconvert_exporter": "python",
   "pygments_lexer": "ipython3",
   "version": "3.10.0"
  },
  "toc": {
   "base_numbering": 1,
   "nav_menu": {},
   "number_sections": true,
   "sideBar": true,
   "skip_h1_title": false,
   "title_cell": "Table of Contents",
   "title_sidebar": "Contents",
   "toc_cell": false,
   "toc_position": {
    "height": "calc(100% - 180px)",
    "left": "10px",
    "top": "150px",
    "width": "426.656px"
   },
   "toc_section_display": true,
   "toc_window_display": true
  },
  "varInspector": {
   "cols": {
    "lenName": 16,
    "lenType": 16,
    "lenVar": 40
   },
   "kernels_config": {
    "python": {
     "delete_cmd_postfix": "",
     "delete_cmd_prefix": "del ",
     "library": "var_list.py",
     "varRefreshCmd": "print(var_dic_list())"
    },
    "r": {
     "delete_cmd_postfix": ") ",
     "delete_cmd_prefix": "rm(",
     "library": "var_list.r",
     "varRefreshCmd": "cat(var_dic_list()) "
    }
   },
   "types_to_exclude": [
    "module",
    "function",
    "builtin_function_or_method",
    "instance",
    "_Feature"
   ],
   "window_display": false
  }
 },
 "nbformat": 4,
 "nbformat_minor": 1
}
