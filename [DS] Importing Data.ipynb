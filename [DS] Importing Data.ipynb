{
 "cells": [
  {
   "cell_type": "markdown",
   "metadata": {
    "toc": true
   },
   "source": [
    "<h1>Table of Contents<span class=\"tocSkip\"></span></h1>\n",
    "<div class=\"toc\"><ul class=\"toc-item\"><li><span><a href=\"#INTRODUCTION-TO-IMPORTING-DATA-IN-PYTHON\" data-toc-modified-id=\"INTRODUCTION-TO-IMPORTING-DATA-IN-PYTHON-1\"><span class=\"toc-item-num\">1&nbsp;&nbsp;</span>INTRODUCTION TO IMPORTING DATA IN PYTHON</a></span><ul class=\"toc-item\"><li><span><a href=\"#Introduction-and-flat-files\" data-toc-modified-id=\"Introduction-and-flat-files-1.1\"><span class=\"toc-item-num\">1.1&nbsp;&nbsp;</span>Introduction and flat files</a></span><ul class=\"toc-item\"><li><span><a href=\"#Welcome-to-the-course!\" data-toc-modified-id=\"Welcome-to-the-course!-1.1.1\"><span class=\"toc-item-num\">1.1.1&nbsp;&nbsp;</span>Welcome to the course!</a></span></li><li><span><a href=\"#The-importance-of-flat-files-in-data-science\" data-toc-modified-id=\"The-importance-of-flat-files-in-data-science-1.1.2\"><span class=\"toc-item-num\">1.1.2&nbsp;&nbsp;</span>The importance of flat files in data science</a></span></li><li><span><a href=\"#Importing-flat-files-using-NumPy\" data-toc-modified-id=\"Importing-flat-files-using-NumPy-1.1.3\"><span class=\"toc-item-num\">1.1.3&nbsp;&nbsp;</span>Importing flat files using NumPy</a></span></li><li><span><a href=\"#Importing-flat-files-using-pandas\" data-toc-modified-id=\"Importing-flat-files-using-pandas-1.1.4\"><span class=\"toc-item-num\">1.1.4&nbsp;&nbsp;</span>Importing flat files using pandas</a></span></li></ul></li><li><span><a href=\"#Importing-data-from-other-file-types\" data-toc-modified-id=\"Importing-data-from-other-file-types-1.2\"><span class=\"toc-item-num\">1.2&nbsp;&nbsp;</span>Importing data from other file types</a></span><ul class=\"toc-item\"><li><span><a href=\"#Introduction-to-other-file-types\" data-toc-modified-id=\"Introduction-to-other-file-types-1.2.1\"><span class=\"toc-item-num\">1.2.1&nbsp;&nbsp;</span>Introduction to other file types</a></span></li><li><span><a href=\"#Importing-SAS/Stata-files-using-pandas\" data-toc-modified-id=\"Importing-SAS/Stata-files-using-pandas-1.2.2\"><span class=\"toc-item-num\">1.2.2&nbsp;&nbsp;</span>Importing SAS/Stata files using pandas</a></span></li><li><span><a href=\"#Importing-HDF5-files\" data-toc-modified-id=\"Importing-HDF5-files-1.2.3\"><span class=\"toc-item-num\">1.2.3&nbsp;&nbsp;</span>Importing HDF5 files</a></span></li><li><span><a href=\"#Importing-MATLAB-files\" data-toc-modified-id=\"Importing-MATLAB-files-1.2.4\"><span class=\"toc-item-num\">1.2.4&nbsp;&nbsp;</span>Importing MATLAB files</a></span></li></ul></li><li><span><a href=\"#Working-with-relational-databases-in-Python\" data-toc-modified-id=\"Working-with-relational-databases-in-Python-1.3\"><span class=\"toc-item-num\">1.3&nbsp;&nbsp;</span>Working with relational databases in Python</a></span><ul class=\"toc-item\"><li><span><a href=\"#Introduction-to-relational-databases\" data-toc-modified-id=\"Introduction-to-relational-databases-1.3.1\"><span class=\"toc-item-num\">1.3.1&nbsp;&nbsp;</span>Introduction to relational databases</a></span></li><li><span><a href=\"#Creating-a-database-engine-in-Python\" data-toc-modified-id=\"Creating-a-database-engine-in-Python-1.3.2\"><span class=\"toc-item-num\">1.3.2&nbsp;&nbsp;</span>Creating a database engine in Python</a></span></li><li><span><a href=\"#Querying-relational-databases-in-Python\" data-toc-modified-id=\"Querying-relational-databases-in-Python-1.3.3\"><span class=\"toc-item-num\">1.3.3&nbsp;&nbsp;</span>Querying relational databases in Python</a></span></li><li><span><a href=\"#Querying-relational-databases-directly-with-pandas\" data-toc-modified-id=\"Querying-relational-databases-directly-with-pandas-1.3.4\"><span class=\"toc-item-num\">1.3.4&nbsp;&nbsp;</span>Querying relational databases directly with pandas</a></span></li><li><span><a href=\"#Advanced-querying:-exploiting-table-relationships\" data-toc-modified-id=\"Advanced-querying:-exploiting-table-relationships-1.3.5\"><span class=\"toc-item-num\">1.3.5&nbsp;&nbsp;</span>Advanced querying: exploiting table relationships</a></span></li><li><span><a href=\"#Final-Thoughts\" data-toc-modified-id=\"Final-Thoughts-1.3.6\"><span class=\"toc-item-num\">1.3.6&nbsp;&nbsp;</span>Final Thoughts</a></span></li></ul></li></ul></li><li><span><a href=\"#INTERMEDIATE-IMPORTING-DATA-IN-PYTHON\" data-toc-modified-id=\"INTERMEDIATE-IMPORTING-DATA-IN-PYTHON-2\"><span class=\"toc-item-num\">2&nbsp;&nbsp;</span>INTERMEDIATE IMPORTING DATA IN PYTHON</a></span><ul class=\"toc-item\"><li><span><a href=\"#Importing-data-from-the-Internet\" data-toc-modified-id=\"Importing-data-from-the-Internet-2.1\"><span class=\"toc-item-num\">2.1&nbsp;&nbsp;</span>Importing data from the Internet</a></span><ul class=\"toc-item\"><li><span><a href=\"#Importing-flat-files-from-the-web\" data-toc-modified-id=\"Importing-flat-files-from-the-web-2.1.1\"><span class=\"toc-item-num\">2.1.1&nbsp;&nbsp;</span>Importing flat files from the web</a></span></li><li><span><a href=\"#HTTP-requests-to-import-files-from-the-web\" data-toc-modified-id=\"HTTP-requests-to-import-files-from-the-web-2.1.2\"><span class=\"toc-item-num\">2.1.2&nbsp;&nbsp;</span>HTTP requests to import files from the web</a></span></li><li><span><a href=\"#Scraping-the-web-in-Python\" data-toc-modified-id=\"Scraping-the-web-in-Python-2.1.3\"><span class=\"toc-item-num\">2.1.3&nbsp;&nbsp;</span>Scraping the web in Python</a></span></li></ul></li><li><span><a href=\"#Interacting-with-APIs-to-import-data-from-the-web\" data-toc-modified-id=\"Interacting-with-APIs-to-import-data-from-the-web-2.2\"><span class=\"toc-item-num\">2.2&nbsp;&nbsp;</span>Interacting with APIs to import data from the web</a></span><ul class=\"toc-item\"><li><span><a href=\"#Introduction-to-APIs-and-JSONs\" data-toc-modified-id=\"Introduction-to-APIs-and-JSONs-2.2.1\"><span class=\"toc-item-num\">2.2.1&nbsp;&nbsp;</span>Introduction to APIs and JSONs</a></span></li><li><span><a href=\"#APIs-and-interacting-with-the-world-wide-web\" data-toc-modified-id=\"APIs-and-interacting-with-the-world-wide-web-2.2.2\"><span class=\"toc-item-num\">2.2.2&nbsp;&nbsp;</span>APIs and interacting with the world wide web</a></span></li></ul></li><li><span><a href=\"#Diving-deep-into-the-Twitter-API\" data-toc-modified-id=\"Diving-deep-into-the-Twitter-API-2.3\"><span class=\"toc-item-num\">2.3&nbsp;&nbsp;</span>Diving deep into the Twitter API</a></span><ul class=\"toc-item\"><li><span><a href=\"#The-Twitter-API-and-Authentication\" data-toc-modified-id=\"The-Twitter-API-and-Authentication-2.3.1\"><span class=\"toc-item-num\">2.3.1&nbsp;&nbsp;</span>The Twitter API and Authentication</a></span></li><li><span><a href=\"#Final-Thoughts\" data-toc-modified-id=\"Final-Thoughts-2.3.2\"><span class=\"toc-item-num\">2.3.2&nbsp;&nbsp;</span>Final Thoughts</a></span></li></ul></li></ul></li></ul></div>"
   ]
  },
  {
   "cell_type": "markdown",
   "metadata": {
    "id": "llvbcjgoDIJl"
   },
   "source": [
    "# INTRODUCTION TO IMPORTING DATA IN PYTHON\n",
    "Teacher: Hugo Bowne-Anderson (Data Scientist at DataCamp)"
   ]
  },
  {
   "cell_type": "markdown",
   "metadata": {
    "id": "0iO1LLTlOnFs"
   },
   "source": [
    "## Introduction and flat files"
   ]
  },
  {
   "cell_type": "markdown",
   "metadata": {
    "id": "mACwHvHBOWCp"
   },
   "source": [
    "### Welcome to the course!"
   ]
  },
  {
   "cell_type": "markdown",
   "metadata": {
    "id": "454RM_g3ZOz-"
   },
   "source": [
    "Learn how to import data from:\n",
    "- Flat files (.texts, .csvs)\n",
    "- Files from other software\n",
    "- Relational databases (SQL, MySQL)\n",
    "\n",
    "Plain text files (just text) and table data (titanic.csv) with column and rows"
   ]
  },
  {
   "cell_type": "code",
   "execution_count": null,
   "metadata": {
    "id": "aD8lYJdpZOtj"
   },
   "outputs": [],
   "source": [
    "#Reading a text file - we just want to read, not write\n",
    "filename = 'huck_finn.txt'\n",
    "file = open(filename, mode='r') # 'r' is to read\n",
    "text = file.read()\n",
    "file.close() #best practice\n",
    "\n",
    "print (text)"
   ]
  },
  {
   "cell_type": "code",
   "execution_count": null,
   "metadata": {
    "id": "kSzTLQq-ntZ4"
   },
   "outputs": [],
   "source": [
    "#Writing to a file\n",
    "filename = 'huck_finn.txt'\n",
    "file = open(filename, mode='w') # 'w' is to write\n",
    "file.close()\n",
    "# we will not use it, just how to import"
   ]
  },
  {
   "cell_type": "code",
   "execution_count": null,
   "metadata": {
    "id": "t1Owv7l1nzRf"
   },
   "outputs": [],
   "source": [
    "#Context manager with\n",
    "\n",
    "with open('huck_finn.txt', 'r') as file:\n",
    "print(file.read())"
   ]
  },
  {
   "cell_type": "markdown",
   "metadata": {
    "id": "QFDcTV6NoadE"
   },
   "source": [
    "Working directory\n",
    "- ! ls provides the contentes of your currenct directory\n",
    "- magic commands: https://ipython.readthedocs.io/en/stable/overview.html"
   ]
  },
  {
   "cell_type": "code",
   "execution_count": null,
   "metadata": {
    "id": "lnd4mZ0goY-Y"
   },
   "outputs": [],
   "source": [
    "#FULL EXAMPLE 1\n",
    "\n",
    "# Open a file: file\n",
    "file = open(\"moby_dick.txt\", mode = \"r\")\n",
    "\n",
    "# Print it\n",
    "print(file.read())\n",
    "\n",
    "# Check whether file is closed\n",
    "print(file.closed)\n",
    "\n",
    "# Close file\n",
    "file.close()\n",
    "\n",
    "# Check whether file is closed\n",
    "print (file.closed)"
   ]
  },
  {
   "cell_type": "code",
   "execution_count": null,
   "metadata": {
    "id": "me5kpSGHrN5s"
   },
   "outputs": [],
   "source": [
    "#FULL EXAMPLE 2\n",
    "\n",
    "# Read & print the first 3 lines\n",
    "with open('moby_dick.txt') as file:\n",
    "    print(file.readline())\n",
    "    print(file.readline())\n",
    "    print(file.readline())"
   ]
  },
  {
   "cell_type": "markdown",
   "metadata": {
    "id": "3bEMJjrhOV_y"
   },
   "source": [
    "### The importance of flat files in data science"
   ]
  },
  {
   "cell_type": "markdown",
   "metadata": {
    "id": "4F2VK51AZQFr"
   },
   "source": [
    "Each row is a unique pessenger onboard and each column is a feature or attribute\n",
    "\n",
    "Flat files are:\n",
    "- Text files containing records\n",
    "- That is, table data (structured relationships)\n",
    "- Record: row of fields or attributes\n",
    "- Column: feature or aattribute\n",
    "\n",
    "We have to pay attention if our data have a header or not\n",
    "\n",
    "File extension\n",
    "- .csv - Comma separated values (each row separated by comma)\n",
    "- .txt - Text file\n",
    "- commas, tabs - Delimiters\n",
    "\n",
    "How do you import flat files?\n",
    "- Two main packages: NumPy (numpy arrays - numbers), pandas\n",
    "\n",
    "Here, you’ll learn to import:\n",
    "- Flat files with numerical data (MNIST - the one for data visualization and number format. It has only numbers with pixels)\n",
    "- Flat files with numerical data and strings (titanic.csv)\n",
    "\n",
    "Pep files - good practices\n",
    "- PEP 8: https://www.python.org/dev/peps/pep-0008/\n",
    "- PEP 20: https://www.python.org/dev/peps/pep-0020/\n"
   ]
  },
  {
   "cell_type": "markdown",
   "metadata": {
    "id": "dqc_gdYZOV8_"
   },
   "source": [
    "### Importing flat files using NumPy"
   ]
  },
  {
   "cell_type": "markdown",
   "metadata": {
    "id": "2-L47VbYZPvB"
   },
   "source": [
    "Why NumPy?\n",
    "- NumPy arrays: standard for storing numerical data (efficiente, fast and clean)\n",
    "- Essential for other packages: \n",
    "  - scikit-learn\n",
    "loadtxt()\n",
    "genfromtxt()"
   ]
  },
  {
   "cell_type": "code",
   "execution_count": null,
   "metadata": {
    "id": "ln5CPFsfZPpK"
   },
   "outputs": [],
   "source": [
    "#Importing flat files using NumPy\n",
    "import numpy as np\n",
    "filename = 'MNIST.txt'\n",
    "data = np.loadtxt(filename, delimiter=',') #two arguments. white space is the default\n",
    "data"
   ]
  },
  {
   "cell_type": "markdown",
   "metadata": {
    "id": "c3vXgKIUwHE4"
   },
   "source": [
    "![image.png](data:image/png;base64,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)"
   ]
  },
  {
   "cell_type": "code",
   "execution_count": null,
   "metadata": {
    "id": "PTBAOIOotHty"
   },
   "outputs": [],
   "source": [
    "#Customizing your NumPy import\n",
    "import numpy as np\n",
    "filename = 'MNIST_header.txt'\n",
    "data = np.loadtxt(filename, delimiter=',', skiprows=1) #skip first row\n",
    "print(data) #same print as before\n",
    "\n",
    "#Customizing your NumPy import\n",
    "import numpy as np\n",
    "filename = 'MNIST_header.txt'\n",
    "data = np.loadtxt(filename, delimiter=',', skiprows=1, usecols=[0,2]) #first two columns\n",
    "print(data) #same print as before\n",
    "\n",
    "#data type as string:\n",
    "data = np.loadtxt(filename, delimiter=',', dtype=str)"
   ]
  },
  {
   "cell_type": "markdown",
   "metadata": {
    "id": "XzHvLAgoxIGw"
   },
   "source": [
    "![image.png](data:image/png;base64,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)"
   ]
  },
  {
   "cell_type": "code",
   "execution_count": null,
   "metadata": {
    "id": "QZ3-WgP4yOkw"
   },
   "outputs": [],
   "source": [
    "# Import package\n",
    "import numpy as np\n",
    "\n",
    "# Assign filename to variable: file\n",
    "file = 'digits.csv'\n",
    "\n",
    "# Load file as array: digits\n",
    "digits = np.loadtxt(file, delimiter=\",\")\n",
    "\n",
    "# Print datatype of digits\n",
    "print(type(digits))\n",
    "\n",
    "# Select and reshape a row\n",
    "im = digits[21, 1:]\n",
    "im_sq = np.reshape(im, (28, 28))\n",
    "\n",
    "# Plot reshaped data (matplotlib.pyplot already loaded as plt)\n",
    "plt.imshow(im_sq, cmap='Greys', interpolation='nearest')\n",
    "plt.show()"
   ]
  },
  {
   "cell_type": "markdown",
   "metadata": {
    "id": "-wG5y6XFySDe"
   },
   "source": [
    "![image.png](data:image/png;base64,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)"
   ]
  },
  {
   "cell_type": "code",
   "execution_count": null,
   "metadata": {
    "id": "PrH_UJf82Jxu"
   },
   "outputs": [],
   "source": [
    "#EXAMPLE 2\n",
    "\n",
    "# Import numpy\n",
    "import numpy as np\n",
    "\n",
    "# Assign the filename: file\n",
    "file = 'digits_header.txt'\n",
    "\n",
    "# Load the data: data\n",
    "data = np.loadtxt(file, delimiter=\"\\t\", skiprows=1, usecols=[0,3])\n",
    "\n",
    "# Print data\n",
    "print(data)"
   ]
  },
  {
   "cell_type": "code",
   "execution_count": null,
   "metadata": {
    "id": "bT3f4LoU3JG2"
   },
   "outputs": [],
   "source": [
    "#EXAMPLE 3\n",
    "\n",
    "# Assign filename: file\n",
    "file = 'seaslug.txt'\n",
    "\n",
    "# Import file: data\n",
    "data = np.loadtxt(file, delimiter='\\t', dtype=str)\n",
    "\n",
    "# Print the first element of data\n",
    "print(data[0]) #shows the header\n",
    "\n",
    "# Import data as floats and skip the first row: data_float\n",
    "data_float = np.loadtxt(file, delimiter=\"\\t\", dtype=float, skiprows=1)\n",
    "\n",
    "# Print the 10th element of data_float\n",
    "print(data_float[9])\n",
    "\n",
    "# Plot a scatterplot of the data\n",
    "plt.scatter(data_float[:, 0], data_float[:, 1])\n",
    "plt.xlabel('time (min.)')\n",
    "plt.ylabel('percentage of larvae')\n",
    "plt.show()"
   ]
  },
  {
   "cell_type": "markdown",
   "metadata": {
    "id": "01A4tFpN3RyM"
   },
   "source": [
    "![image.png](data:image/png;base64,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)"
   ]
  },
  {
   "cell_type": "code",
   "execution_count": null,
   "metadata": {
    "id": "ZIKKYp9c4fHA"
   },
   "outputs": [],
   "source": [
    "#FULL EXAMPLE 4\n",
    "#Another example: genfromtxt has several data types. dtype = None will try to guess its type\n",
    "data = np.genfromtxt('titanic.csv', delimiter=',', names=True, dtype=None)\n",
    "\n",
    "#FULL EXAMPLE 5\n",
    "# Assign the filename: file\n",
    "file = 'titanic.csv'\n",
    "\n",
    "# Import file using np.recfromcsv: d\n",
    "d = np.recfromcsv(\"titanic.csv\") #it has as defalt delimiter = ',', names = True and dtype = None\n",
    "\n",
    "# Print out first three entries of d\n",
    "print(d[:3])\n"
   ]
  },
  {
   "cell_type": "markdown",
   "metadata": {
    "id": "AEumy1J7OV5k"
   },
   "source": [
    "### Importing flat files using pandas"
   ]
  },
  {
   "cell_type": "markdown",
   "metadata": {
    "id": "bl97q6oYZPZG"
   },
   "source": [
    "What a data scientist needs\n",
    "- Two-dimensional labeled data structure(s)\n",
    "- Columns of potentially different types\n",
    "Manipulate, slice, reshape, groupby, join, merge\n",
    "- Perform statistics (missing value friendly manner)\n",
    "- Work with time series data\n",
    "\n",
    "DataFrame = pythonic analog of R’s data frame\n",
    "\n",
    "\"A Matrix has rows and columns. A data frame has observations and variables\""
   ]
  },
  {
   "cell_type": "markdown",
   "metadata": {
    "id": "rjoJVYdB6Fni"
   },
   "source": [
    "Manipulating pandas DataFrames\n",
    "- Exploratory data analysis\n",
    "- Data wrangling\n",
    "- Data preprocessing\n",
    "- Building models\n",
    "- Visualization\n",
    "- Standard and best practice to use pandas"
   ]
  },
  {
   "cell_type": "code",
   "execution_count": null,
   "metadata": {
    "id": "LAcgnueiZPIg"
   },
   "outputs": [],
   "source": [
    "#Importing using pandas\n",
    "import pandas as pd\n",
    "filename = 'winequality-red.csv'\n",
    "data = pd.read_csv(filename)\n",
    "data.head()"
   ]
  },
  {
   "cell_type": "markdown",
   "metadata": {
    "id": "lfWmEpSK6SXs"
   },
   "source": [
    "![image.png](data:image/png;base64,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)"
   ]
  },
  {
   "cell_type": "code",
   "execution_count": null,
   "metadata": {
    "id": "UwS6ejIf6i1D"
   },
   "outputs": [],
   "source": [
    "data_array = data.values #transform the dataframe into a numpy array "
   ]
  },
  {
   "cell_type": "markdown",
   "metadata": {
    "id": "296iEW8Z6PMS"
   },
   "source": [
    "You’ll experience:\n",
    "- Importing flat files in a straightforward manner\n",
    "- Importing flat files with issues such as comments and missing values"
   ]
  },
  {
   "cell_type": "code",
   "execution_count": null,
   "metadata": {
    "id": "_qE1Z1Te7fue"
   },
   "outputs": [],
   "source": [
    "#FULL EXAMPLE 1\n",
    "\n",
    "# Assign the filename: file\n",
    "file = 'digits.csv'\n",
    "\n",
    "# Read the first 5 rows of the file into a DataFrame: data\n",
    "data = pd.read_csv(file, nrows = 5, header = None)\n",
    "\n",
    "# Build a numpy array from the DataFrame: data_array\n",
    "data_array = data.values\n",
    "\n",
    "# Print the datatype of data_array to the shell\n",
    "print(type(data_array))"
   ]
  },
  {
   "cell_type": "code",
   "execution_count": null,
   "metadata": {
    "id": "i1DCpuFg8Eb2"
   },
   "outputs": [],
   "source": [
    "#FULL EXAMPLE 2\n",
    "\n",
    "# Import matplotlib.pyplot as plt\n",
    "import matplotlib.pyplot as plt\n",
    "\n",
    "# Assign filename: file\n",
    "file = 'titanic_corrupt.txt'\n",
    "\n",
    "# Import file: data\n",
    "data = pd.read_csv(file, sep=\"\\t\", comment=\"#\", na_values=\"Nothing\") #remove hashtag and nothing is now a NA/NAN\n",
    "\n",
    "# Print the head of the DataFrame\n",
    "print(data.head())\n",
    "\n",
    "# Plot 'Age' variable in a histogram\n",
    "pd.DataFrame.hist(data[['Age']])\n",
    "plt.xlabel('Age (years)')\n",
    "plt.ylabel('count')\n",
    "plt.show()"
   ]
  },
  {
   "cell_type": "markdown",
   "metadata": {
    "id": "X7eNcxFF8Kcg"
   },
   "source": [
    "![image.png](data:image/png;base64,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)"
   ]
  },
  {
   "cell_type": "markdown",
   "metadata": {
    "id": "Ulz3Wlzr8alW"
   },
   "source": [
    "Next chapters:\n",
    "- Import other file types:\n",
    "- Excel, SAS, Stata\n",
    "- Interact with relational databases\n",
    "\n",
    "Next course:\n",
    "- Scrape data from the web\n",
    "- Interact with APIs"
   ]
  },
  {
   "cell_type": "markdown",
   "metadata": {
    "id": "P4olqeCMOV0w"
   },
   "source": [
    "## Importing data from other file types"
   ]
  },
  {
   "cell_type": "markdown",
   "metadata": {
    "id": "GEd1GfeWozDG"
   },
   "source": [
    "### Introduction to other file types"
   ]
  },
  {
   "cell_type": "markdown",
   "metadata": {
    "id": "FOTeff0kOVwP"
   },
   "source": [
    "Other file types\n",
    "- Excel spreadsheets\n",
    "- MATLAB files\n",
    "- SAS files\n",
    "- Stata files\n",
    "- HDF5 files (large datasets)\n",
    "\n",
    "Pickled files\n",
    "- File type native to Python\n",
    "- Motivation: many datatypes for which it isn’t obvious how to store them (dicts and lists) - json are appropriate for python dicts, for example\n",
    "- Pickled files are serialized\n",
    "- Serialize = convert object to bytestream"
   ]
  },
  {
   "cell_type": "code",
   "execution_count": null,
   "metadata": {
    "id": "TazI1DSNlbbw"
   },
   "outputs": [],
   "source": [
    "#Pickled files\n",
    "import pickle\n",
    "with open('pickled_fruit.pkl', 'rb') as file: #\"rb\": read only-binary file\n",
    "  data = pickle.load(file)\n",
    "print(data)\n",
    "#output: {'peaches': 13, 'apples': 4, 'oranges': 11}"
   ]
  },
  {
   "cell_type": "code",
   "execution_count": null,
   "metadata": {
    "id": "yeq0rg8Slfgy"
   },
   "outputs": [],
   "source": [
    "#Importing Excel spreadsheets\n",
    "import pandas as pd\n",
    "file = 'urbanpop.xlsx'\n",
    "data = pd.ExcelFile(file)\n",
    "print(data.sheet_names)\n",
    "#output: ['1960-1966', '1967-1974', '1975-2011']\n",
    "\n",
    "#THIS IS HOW YOU SELECT YOUR SHEET INDEX - index or name\n",
    "df1 = data.parse('1960-1966') # sheet name, as a string\n",
    "df2 = data.parse(0) # sheet index, as a float"
   ]
  },
  {
   "cell_type": "markdown",
   "metadata": {
    "id": "druLFwjNOVpu"
   },
   "source": [
    "You’ll learn:\n",
    "- How to customize your import\n",
    "- Skip rows\n",
    "- Import certain columns\n",
    "- Change column names"
   ]
  },
  {
   "cell_type": "code",
   "execution_count": null,
   "metadata": {
    "id": "iLqj2eW5nwiQ"
   },
   "outputs": [],
   "source": [
    "#FULL EXAMPLE 1\n",
    "\n",
    "# Import pickle package\n",
    "import pickle\n",
    "\n",
    "# Open pickle file and load data: d\n",
    "with open('data.pkl', \"rb\") as file:\n",
    "    d = pickle.load(file)\n",
    "\n",
    "# Print d\n",
    "print(d)\n",
    "\n",
    "# Print datatype of d\n",
    "print(type(d))"
   ]
  },
  {
   "cell_type": "code",
   "execution_count": null,
   "metadata": {
    "id": "xpH9snJpqRlP"
   },
   "outputs": [],
   "source": [
    "#FULL EXAMPLE 2\n",
    "# Import pandas\n",
    "import pandas as pd\n",
    "\n",
    "# Assign spreadsheet filename: file\n",
    "file = \"battledeath.xlsx\"\n",
    "\n",
    "# Load spreadsheet: xls\n",
    "xls = pd.ExcelFile(file)\n",
    "\n",
    "# Print sheet names\n",
    "print(xls.sheet_names)\n"
   ]
  },
  {
   "cell_type": "code",
   "execution_count": null,
   "metadata": {
    "id": "tuuz9lSIqwd3"
   },
   "outputs": [],
   "source": [
    "#FULL EXAMPLE 3 (previous continuation)\n",
    "\n",
    "# Load a sheet into a DataFrame by name: df1\n",
    "df1 = xls.parse(\"2004\")\n",
    "\n",
    "# Print the head of the DataFrame df1\n",
    "print(df1.head())\n",
    "\n",
    "# Load a sheet into a DataFrame by index: df2\n",
    "df2 = xls.parse(0)\n",
    "\n",
    "# Print the head of the DataFrame df2\n",
    "print(df2.head())"
   ]
  },
  {
   "cell_type": "code",
   "execution_count": null,
   "metadata": {
    "id": "GpgbciJDq6Pz"
   },
   "outputs": [],
   "source": [
    "#FULL EXAMPLE 4\n",
    "\n",
    "# Parse the first sheet and rename the columns: df1\n",
    "df1 = xls.parse(0, skiprows=1, names=[\"Country\", \"AAM due to War (2002)\"])\n",
    "\n",
    "# Print the head of the DataFrame df1\n",
    "print(df1.head())\n",
    "\n",
    "# Parse the first column of the second sheet and rename the column: df2\n",
    "df2 = xls.parse(1, usecols=[0], skiprows=[0], names=[\"Country\"])\n",
    "\n",
    "# Print the head of the DataFrame df2\n",
    "print(df2.head())\n"
   ]
  },
  {
   "cell_type": "markdown",
   "metadata": {
    "id": "mju0HpuCo5bz"
   },
   "source": [
    "### Importing SAS/Stata files using pandas"
   ]
  },
  {
   "cell_type": "markdown",
   "metadata": {
    "id": "yOB7AhTnpH8m"
   },
   "source": [
    "SAS and Stata files\n",
    "- SAS: Statistical Analysis System\n",
    "- Stata: “Statistics” + “data”\n",
    "- SAS: business analytics and biostatistics\n",
    "- Stata: academic social sciences research (economics and epidemiology)"
   ]
  },
  {
   "cell_type": "markdown",
   "metadata": {
    "id": "mV5I5k-AssCl"
   },
   "source": [
    "SAS files are used for:\n",
    "- Multivariate analysis\n",
    "- Business intelligence\n",
    "- Data management\n",
    "- Predictive analytics\n",
    "- Standard for computational analysis"
   ]
  },
  {
   "cell_type": "code",
   "execution_count": null,
   "metadata": {
    "id": "HZ11yJylpH2L"
   },
   "outputs": [],
   "source": [
    "#Importing SAS files\n",
    "import pandas as pd\n",
    "from sas7bdat import SAS7BDAT\n",
    "with SAS7BDAT('urbanpop.sas7bdat') as file: #dat (dateset) or cat (catalog) files\n",
    "  df_sas = file.to_data_frame() #newdataframe"
   ]
  },
  {
   "cell_type": "code",
   "execution_count": null,
   "metadata": {
    "id": "Ct6y4tEfs2Km"
   },
   "outputs": [],
   "source": [
    "#Importing Stata files\n",
    "import pandas as pd\n",
    "data = pd.read_stata('urbanpop.dta') #easier"
   ]
  },
  {
   "cell_type": "code",
   "execution_count": null,
   "metadata": {
    "id": "SHknMy20ttCh"
   },
   "outputs": [],
   "source": [
    "#FULL EXAMPLE 1\n",
    "\n",
    "# Import sas7bdat package\n",
    "from sas7bdat import SAS7BDAT\n",
    "\n",
    "# Save file to a DataFrame: df_sas\n",
    "with SAS7BDAT('sales.sas7bdat') as file:\n",
    "    df_sas = file.to_data_frame()\n",
    "\n",
    "# Print head of DataFrame\n",
    "print (df_sas.head())\n",
    "\n",
    "# Plot histogram of DataFrame features (pandas and pyplot already imported)\n",
    "pd.DataFrame.hist(df_sas[['P']])\n",
    "plt.ylabel('count')\n",
    "plt.show()"
   ]
  },
  {
   "cell_type": "markdown",
   "metadata": {
    "id": "6NTdYSuHpHfK"
   },
   "source": [
    "![image.png](data:image/png;base64,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)"
   ]
  },
  {
   "cell_type": "code",
   "execution_count": null,
   "metadata": {
    "id": "ZQIYDYfTpHN_"
   },
   "outputs": [],
   "source": [
    "#FULL EXAMPLE 2\n",
    "# Import pandas\n",
    "import pandas as pd\n",
    "\n",
    "# Load Stata file into a pandas DataFrame: df\n",
    "df = pd.read_stata(\"disarea.dta\")\n",
    "\n",
    "# Print the head of the DataFrame df\n",
    "print (df.head())\n",
    "\n",
    "# Plot histogram of one column of the DataFrame\n",
    "pd.DataFrame.hist(df[['disa10']])\n",
    "plt.xlabel('Extent of disease')\n",
    "plt.ylabel('Number of countries')\n",
    "plt.show()"
   ]
  },
  {
   "cell_type": "markdown",
   "metadata": {
    "id": "mIjtPYKOveQH"
   },
   "source": [
    "![image.png](data:image/png;base64,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)"
   ]
  },
  {
   "cell_type": "markdown",
   "metadata": {
    "id": "GqqdYUc2o-9m"
   },
   "source": [
    "### Importing HDF5 files"
   ]
  },
  {
   "cell_type": "markdown",
   "metadata": {
    "id": "tCekm2wRukDr"
   },
   "source": [
    "HDF5 files\n",
    "- Hierarchical Data Format version 5\n",
    "- Standard for storing large quantities of numerical data\n",
    "- Datasets can be hundreds of gigabytes or terabytes\n",
    "- HDF5 can scale to exabytes"
   ]
  },
  {
   "cell_type": "code",
   "execution_count": null,
   "metadata": {
    "id": "fQztRxyEunEk"
   },
   "outputs": [],
   "source": [
    "#Importing HDF5 files\n",
    "import h5py\n",
    "filename = 'H-H1_LOSC_4_V1-815411200-4096.hdf5'\n",
    "data = h5py.File(filename, 'r') # 'r' is to read\n",
    "print(type(data)) #class file"
   ]
  },
  {
   "cell_type": "code",
   "execution_count": null,
   "metadata": {
    "id": "Cp1TxySUuyWb"
   },
   "outputs": [],
   "source": [
    "for key in data.keys(): #use method key\n",
    "  print(key) #three keys: meta, quality, strain\n",
    "\n",
    "print(type(data['meta'])) #roup class"
   ]
  },
  {
   "cell_type": "code",
   "execution_count": null,
   "metadata": {
    "id": "L3oXGK8tuysW"
   },
   "outputs": [],
   "source": [
    "for key in data['meta'].keys():\n",
    "  print(key) #print several keys of interest\n",
    "\n",
    "print(data['meta']['Description'].value, data['meta']['Detector'].value)"
   ]
  },
  {
   "cell_type": "markdown",
   "metadata": {
    "id": "BnTXpWeUpJE2"
   },
   "source": [
    "The HDF Project\n",
    "- Actively maintained by the HDF Group\n",
    "- Based in Champaign, Illinois"
   ]
  },
  {
   "cell_type": "code",
   "execution_count": null,
   "metadata": {
    "id": "ijmQ24O0wc5d"
   },
   "outputs": [],
   "source": [
    "#FULL EXAMPLE 1\n",
    "\n",
    "# Import packages\n",
    "import numpy as np\n",
    "import h5py\n",
    "\n",
    "# Assign filename: file\n",
    "file = \"LIGO_data.hdf5\"\n",
    "\n",
    "# Load file: data\n",
    "data = h5py.File(file, \"r\")\n",
    "\n",
    "# Print the datatype of the loaded file\n",
    "print (type(data))\n",
    "\n",
    "# Print the keys of the file\n",
    "for key in data.keys():\n",
    "    print(key)"
   ]
  },
  {
   "cell_type": "code",
   "execution_count": null,
   "metadata": {
    "id": "mrnCUm4lwc2h"
   },
   "outputs": [],
   "source": [
    "#FULL EXAMPLE 2\n",
    "\n",
    "# Get the HDF5 group: group\n",
    "group = data[\"strain\"]\n",
    "\n",
    "# Check out keys of group\n",
    "for key in group.keys():\n",
    "    print(key)\n",
    "\n",
    "# Set variable equal to time series data: strain\n",
    "strain = data[\"strain\"][\"Strain\"].value\n",
    "\n",
    "# Set number of time points to sample: num_samples\n",
    "num_samples = 10000\n",
    "\n",
    "# Set time vector\n",
    "time = np.arange(0, 1, 1/num_samples)\n",
    "\n",
    "# Plot data\n",
    "plt.plot(time, strain[:num_samples])\n",
    "plt.xlabel('GPS Time (s)')\n",
    "plt.ylabel('strain')\n",
    "plt.show()"
   ]
  },
  {
   "cell_type": "markdown",
   "metadata": {
    "id": "mJZz5B-jyYsW"
   },
   "source": [
    "![image.png](data:image/png;base64,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)"
   ]
  },
  {
   "cell_type": "markdown",
   "metadata": {
    "id": "QjVi7d44pKPw"
   },
   "source": [
    "### Importing MATLAB files"
   ]
  },
  {
   "cell_type": "markdown",
   "metadata": {
    "id": "Indt91UKpLZr"
   },
   "source": [
    "MATLAB\n",
    "- “Matrix Laboratory”\n",
    "- Industry standard in engineering and science (powerful linear algebra and matrix capabilities)\n",
    "- Data saved as .mat files (native file format)"
   ]
  },
  {
   "cell_type": "markdown",
   "metadata": {
    "id": "MS5Qizvpu_1U"
   },
   "source": [
    "SciPy to the rescue!\n",
    "- scipy.io.loadmat() - read .mat files\n",
    "- scipy.io.savemat() - write .mat "
   ]
  },
  {
   "cell_type": "code",
   "execution_count": null,
   "metadata": {
    "id": "Ph4Pwjh6pLRh"
   },
   "outputs": [],
   "source": [
    "#Importing a .mat file\n",
    "import scipy.io\n",
    "filename = 'workspace.mat'\n",
    "mat = scipy.io.loadmat(filename)\n",
    "print(type(mat)) #dictionary type\n",
    "\n",
    "print(type(mat['x'])) #numpy class"
   ]
  },
  {
   "cell_type": "markdown",
   "metadata": {
    "id": "NIEpQacMzRxc"
   },
   "source": [
    "- keys = MATLAB variable names\n",
    "- values = objects assigned to variables"
   ]
  },
  {
   "cell_type": "code",
   "execution_count": null,
   "metadata": {
    "id": "-Ok--sqXwcax"
   },
   "outputs": [],
   "source": [
    "#FULL EXAMPLE 1\n",
    "\n",
    "# Import package\n",
    "import scipy.io\n",
    "\n",
    "# Load MATLAB file: mat\n",
    "mat = scipy.io.loadmat(\"albeck_gene_expression.mat\")\n",
    "\n",
    "# Print the datatype type of mat\n",
    "print(type(mat))"
   ]
  },
  {
   "cell_type": "code",
   "execution_count": null,
   "metadata": {
    "id": "ebYXNp-W187R"
   },
   "outputs": [],
   "source": [
    "#FULL EXAMPLE 2\n",
    "\n",
    "# Print the keys of the MATLAB dictionary\n",
    "print(mat.keys())\n",
    "\n",
    "# Print the type of the value corresponding to the key 'CYratioCyt'\n",
    "print(type(mat[\"CYratioCyt\"]))\n",
    "\n",
    "# Print the shape of the value corresponding to the key 'CYratioCyt'\n",
    "print(np.shape(mat['CYratioCyt']))\n",
    "\n",
    "# Subset the array and plot it\n",
    "data = mat['CYratioCyt'][25, 5:]\n",
    "fig = plt.figure()\n",
    "plt.plot(data)\n",
    "plt.xlabel('time (min.)')\n",
    "plt.ylabel('normalized fluorescence (measure of expression)')\n",
    "plt.show()"
   ]
  },
  {
   "cell_type": "markdown",
   "metadata": {
    "id": "aNnR1BfHpLGe"
   },
   "source": [
    "![image.png](data:image/png;base64,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)"
   ]
  },
  {
   "cell_type": "markdown",
   "metadata": {
    "id": "AF3id9dyOVZj"
   },
   "source": [
    "## Working with relational databases in Python"
   ]
  },
  {
   "cell_type": "markdown",
   "metadata": {
    "id": "_CWH2v7gOVWX"
   },
   "source": [
    "### Introduction to relational databases"
   ]
  },
  {
   "cell_type": "markdown",
   "metadata": {
    "id": "K0GAiOwK3Ydh"
   },
   "source": [
    "What is a relational database?\n",
    "- Based on relational model of data\n",
    "- First described by Edgar “Ted” Codd\n",
    "\n",
    "Example\n",
    "- Northwind database (sales base for a fictitious company)\n",
    "  - orders table\n",
    "  - customers table\n",
    "  - employees table\n",
    "  - each one is a table (or dataframe) - an entity type\n",
    "  - row is instance of entity type\n",
    "    - each row is unique, with an identification key\n",
    "  - column is attribute of instance\n",
    "  - relational database is that they are linked"
   ]
  },
  {
   "cell_type": "markdown",
   "metadata": {
    "id": "OY8sjoOS39pm"
   },
   "source": [
    "Relational model\n",
    "- Widely adopted\n",
    "- Codd’s 12 Rules/Commandments\n",
    "  - Consists of 13 rules (zero-indexed!) - considers the 0 index\n",
    "  - Describes what a Relational Database Management System should adhere to to be considered relational"
   ]
  },
  {
   "cell_type": "markdown",
   "metadata": {
    "id": "q79_xAah5AkM"
   },
   "source": [
    "Relational Database Management Systems\n",
    "- PostgreSQL\n",
    "- MySQL\n",
    "- SQLite\n",
    "- SQL = Structured Query Language"
   ]
  },
  {
   "cell_type": "markdown",
   "metadata": {
    "id": "hSkD1JN5OVS1"
   },
   "source": [
    "### Creating a database engine in Python"
   ]
  },
  {
   "cell_type": "markdown",
   "metadata": {
    "id": "vEJdrHBh3YHD"
   },
   "source": [
    "Creating a database engine\n",
    "- SQLite database\n",
    "  - Fast and simple (perfect for our examples)\n",
    "- SQLAlchemy (access the SQLite)\n",
    "  - Works with many Relational Database Management Systems"
   ]
  },
  {
   "cell_type": "code",
   "execution_count": null,
   "metadata": {
    "id": "Hj_0e3rc3X7l"
   },
   "outputs": [],
   "source": [
    "from sqlalchemy import create_engine #there are several packages that can be used\n",
    "engine = create_engine('sqlite:///Northwind.sqlite')"
   ]
  },
  {
   "cell_type": "code",
   "execution_count": null,
   "metadata": {
    "id": "GRsDar-154UK"
   },
   "outputs": [],
   "source": [
    "#Getting table names\n",
    "from sqlalchemy import create_engine\n",
    "engine = create_engine('sqlite:///Northwind.sqlite') #string of type of database and name of the database\n",
    "\n",
    "table_names = engine.table_names()\n",
    "print(table_names) #provides list of column names"
   ]
  },
  {
   "cell_type": "code",
   "execution_count": null,
   "metadata": {
    "id": "trkPtktd5_Ij"
   },
   "outputs": [],
   "source": [
    "#FULL EXAMPLE 1\n",
    "\n",
    "# Import necessary module\n",
    "from sqlalchemy import create_engine\n",
    "\n",
    "# Create engine: engine\n",
    "engine = create_engine(\"sqlite:///Chinook.sqlite\")\n",
    "\n",
    "#FULL EXAMPLE 2 - table names\n",
    "# Import necessary module\n",
    "from sqlalchemy import create_engine\n",
    "\n",
    "# Create engine: engine\n",
    "engine = create_engine(\"sqlite:///Chinook.sqlite\")\n",
    "\n",
    "# Save the table names to a list: table_names\n",
    "table_names = engine.table_names()\n",
    "\n",
    "# Print the table names to the shell\n",
    "print(table_names)\n"
   ]
  },
  {
   "cell_type": "markdown",
   "metadata": {
    "id": "Fe7_9jfdOVPR"
   },
   "source": [
    "### Querying relational databases in Python"
   ]
  },
  {
   "cell_type": "markdown",
   "metadata": {
    "id": "jues7bTV3Xwf"
   },
   "source": [
    "Basic SQL query (query is getting data out of the database)\n",
    "- SELECT * FROM Table_Name (star returns all columns)\n",
    "  - Returns all columns of all rows of the table\n",
    "  - Example:\n",
    "- SELECT * FROM Orders\n",
    "  - We’ll use SQLAlchemy and pandas"
   ]
  },
  {
   "cell_type": "markdown",
   "metadata": {
    "id": "-WXR98FO8KII"
   },
   "source": [
    "Workflow of SQL querying\n",
    "- Import packages and functions\n",
    "- Create the database engine\n",
    "- Connect to the engine\n",
    "- Query the database\n",
    "- Save query results to a DataFrame\n",
    "- Close the connection"
   ]
  },
  {
   "cell_type": "code",
   "execution_count": null,
   "metadata": {
    "id": "TZIk7dhr3Xpa"
   },
   "outputs": [],
   "source": [
    "#Your first SQL query\n",
    "from sqlalchemy import create_engine\n",
    "import pandas as pd\n",
    "engine = create_engine('sqlite:///Northwind.sqlite')\n",
    "\n",
    "con = engine.connect()\n",
    "rs = con.execute(\"SELECT * FROM Orders\")\n",
    "df = pd.DataFrame(rs.fetchall())\n",
    "df.columns = rs.keys() #Provides columns names (second print)\n",
    "con.close()\n",
    "\n",
    "Printing your query results\n",
    "print(df.head())"
   ]
  },
  {
   "cell_type": "markdown",
   "metadata": {
    "id": "TA0KbF-M8aUX"
   },
   "source": [
    "![image.png](data:image/png;base64,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)"
   ]
  },
  {
   "cell_type": "markdown",
   "metadata": {
    "id": "eWQrrARG8n2Y"
   },
   "source": [
    "![image.png](data:image/png;base64,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)"
   ]
  },
  {
   "cell_type": "code",
   "execution_count": null,
   "metadata": {
    "id": "2iV5ypjS8rTc"
   },
   "outputs": [],
   "source": [
    "#Using the context manager\n",
    "from sqlalchemy import create_engine\n",
    "import pandas as pd\n",
    "engine = create_engine('sqlite:///Northwind.sqlite')\n",
    "\n",
    "with engine.connect() as con:\n",
    "  rs = con.execute(\"SELECT OrderID, OrderDate, ShipName FROM Orders\") #Select only a few columns\n",
    "  df = pd.DataFrame(rs.fetchmany(size=5)) #fetchmanygives 5 rows\n",
    "  df.columns = rs.keys()\n",
    "  "
   ]
  },
  {
   "cell_type": "code",
   "execution_count": null,
   "metadata": {
    "id": "EBH5Jmi2-QFI"
   },
   "outputs": [],
   "source": [
    "#FULL EXAMPLE 1\n",
    "\n",
    "# Import packages\n",
    "from sqlalchemy import create_engine\n",
    "import pandas as pd\n",
    "\n",
    "# Create engine: engine\n",
    "engine = create_engine('sqlite:///Chinook.sqlite')\n",
    "\n",
    "# Open engine connection: con\n",
    "con = engine.connect()\n",
    "\n",
    "# Perform query: rs\n",
    "rs = con.execute(\"SELECT * FROM Album\")\n",
    "\n",
    "# Save results of the query to DataFrame: df\n",
    "df = pd.DataFrame(rs.fetchall())\n",
    "\n",
    "# Close connection\n",
    "con.close()\n",
    "\n",
    "# Print head of DataFrame df\n",
    "print(df.head())\n"
   ]
  },
  {
   "cell_type": "code",
   "execution_count": null,
   "metadata": {
    "id": "hV22u9pv-S-5"
   },
   "outputs": [],
   "source": [
    "#FULL EXAMPLE 2\n",
    "\n",
    "# Open engine in context manager\n",
    "# Perform query and save results to DataFrame: df\n",
    "with engine.connect() as con:\n",
    "    rs = con.execute (\"SELECT LastName, Title FROM Employee\")\n",
    "    df = pd.DataFrame(rs.fetchmany(size = 3))\n",
    "    df.columns = rs.keys()\n",
    "\n",
    "# Print the length of the DataFrame df\n",
    "print(len(df))\n",
    "\n",
    "# Print the head of the DataFrame df\n",
    "print(df.head())"
   ]
  },
  {
   "cell_type": "code",
   "execution_count": null,
   "metadata": {
    "id": "mFA8sU-2-pH_"
   },
   "outputs": [],
   "source": [
    "#FULL EXAMPLE 3\n",
    "\n",
    "# Create engine: engine\n",
    "engine = create_engine(\"sqlite:///Chinook.sqlite\")\n",
    "\n",
    "# Open engine in context manager\n",
    "# Perform query and save results to DataFrame: df\n",
    "with engine.connect() as con:\n",
    "    rs = con.execute(\"SELECT * FROM Employee WHERE EmployeeId >= 6\")\n",
    "    df = pd.DataFrame(rs.fetchall())\n",
    "    df.columns = rs.keys()\n",
    "\n",
    "# Print the head of the DataFrame df\n",
    "print(df.head())"
   ]
  },
  {
   "cell_type": "code",
   "execution_count": null,
   "metadata": {
    "id": "XfEXHpT0EH-G"
   },
   "outputs": [],
   "source": [
    "#FULL EXAMPLE 4\n",
    "\n",
    "# Create engine: engine\n",
    "engine = create_engine(\"sqlite:///Chinook.sqlite\")\n",
    "\n",
    "# Open engine in context manager\n",
    "with engine.connect() as con:\n",
    "    rs = con.execute(\"SELECT * FROM Employee ORDER BY Birthdate\")\n",
    "    df = pd.DataFrame(rs.fetchall())\n",
    "\n",
    "    # Set the DataFrame's column names\n",
    "    df.columns = rs.keys()\n",
    "\n",
    "# Print head of DataFrame\n",
    "print(df.head())"
   ]
  },
  {
   "cell_type": "markdown",
   "metadata": {
    "id": "OlvAp8o4P4HR"
   },
   "source": [
    "### Querying relational databases directly with pandas"
   ]
  },
  {
   "cell_type": "markdown",
   "metadata": {
    "id": "huhtsRzB3Xc5"
   },
   "source": []
  },
  {
   "cell_type": "code",
   "execution_count": null,
   "metadata": {
    "id": "MUWvi66G3XWK"
   },
   "outputs": [],
   "source": [
    "#The pandas way to query\n",
    "\n",
    "from sqlalchemy import create_engine\n",
    "import pandas as pd\n",
    "engine = create_engine('sqlite:///Northwind.sqlite')\n",
    "\n",
    "with engine.connect() as con:\n",
    "  rs = con.execute(\"SELECT * FROM Orders\")\n",
    "  df = pd.DataFrame(rs.fetchall())\n",
    "  df.columns = rs.keys()\n",
    "\n",
    "df = pd.read_sql_query(\"SELECT * FROM Orders\", engine) #can do this in just one line of code"
   ]
  },
  {
   "cell_type": "code",
   "execution_count": null,
   "metadata": {
    "id": "HtNtqQkb3jjV"
   },
   "outputs": [],
   "source": [
    "#FULL EXAMPLE 1\n",
    "\n",
    "# Import packages\n",
    "from sqlalchemy import create_engine\n",
    "import pandas as pd\n",
    "\n",
    "# Create engine: engine\n",
    "engine = create_engine(\"sqlite:///Chinook.sqlite\")\n",
    "\n",
    "# Execute query and store records in DataFrame: df\n",
    "df = pd.read_sql_query(\"SELECT * FROM Album\", engine)\n",
    "\n",
    "# Print head of DataFrame\n",
    "print(df.head())\n",
    "\n",
    "# Open engine in context manager and store query result in df1\n",
    "with engine.connect() as con:\n",
    "    rs = con.execute(\"SELECT * FROM Album\")\n",
    "    df1 = pd.DataFrame(rs.fetchall())\n",
    "    df1.columns = rs.keys()\n",
    "\n",
    "# Confirm that both methods yield the same result\n",
    "print(df.equals(df1))"
   ]
  },
  {
   "cell_type": "code",
   "execution_count": null,
   "metadata": {
    "id": "wePLkbMV6Cwv"
   },
   "outputs": [],
   "source": [
    "#FULL EXAMPLE 2\n",
    "\n",
    "# Import packages\n",
    "from sqlalchemy import create_engine\n",
    "import pandas as pd\n",
    "\n",
    "# Create engine: engine\n",
    "engine = create_engine(\"sqlite:///Chinook.sqlite\")\n",
    "\n",
    "# Execute query and store records in DataFrame: df\n",
    "df = pd.read_sql_query(\"SELECT * FROM Employee WHERE EmployeeId >=6 ORDER BY BirthDate\", engine)\n",
    "\n",
    "# Print head of DataFrame\n",
    "print(df.head())e"
   ]
  },
  {
   "cell_type": "markdown",
   "metadata": {
    "id": "x_ZbUgh6QBlz"
   },
   "source": [
    "### Advanced querying: exploiting table relationships"
   ]
  },
  {
   "cell_type": "code",
   "execution_count": null,
   "metadata": {
    "id": "7ZLJ9_Cb3XDl"
   },
   "outputs": [],
   "source": [
    "from sqlalchemy import create_engine\n",
    "import pandas as pd\n",
    "engine = create_engine('sqlite:///Northwind.sqlite')\n",
    "df = pd.read_sql_query(\"SELECT OrderID, CompanyName FROM Orders INNER JOIN Customers on Orders.CustomerID = Customers.CustomerID\", engine)\n",
    "print(df.head())"
   ]
  },
  {
   "cell_type": "code",
   "execution_count": null,
   "metadata": {
    "id": "YIPPGe5c9stF"
   },
   "outputs": [],
   "source": [
    "#FULL EXAMPLE\n",
    "# Open engine in context manager\n",
    "# Perform query and save results to DataFrame: df\n",
    "with engine.connect() as con:\n",
    "    rs = con.execute(\"SELECT Title, Name FROM Album INNER JOIN Artist on Album.ArtistID = Artist.ArtistID\")\n",
    "    df = pd.DataFrame(rs.fetchall())\n",
    "    df.columns = rs.keys()\n",
    "\n",
    "# Print head of DataFrame df\n",
    "print(df.head())\n"
   ]
  },
  {
   "cell_type": "code",
   "execution_count": null,
   "metadata": {
    "id": "bLVCp56R91GN"
   },
   "outputs": [],
   "source": [
    "#FULL EXAMPLE 2\n",
    "\n",
    "import pandas as pd\n",
    "from sqlalchemy import create_engine\n",
    "engine = create_engine('sqlite:///Chinook.sqlite')\n",
    "\n",
    "# Execute query and store records in DataFrame: df\n",
    "df = pd.read_sql_query(\"SELECt * FROM PlaylistTrack INNER JOIN Track on PlaylistTrack.TrackId = Track.TrackId WHERE Milliseconds < 250000\", engine)\n",
    "\n",
    "# Print head of DataFrame\n",
    "print(df.head())"
   ]
  },
  {
   "cell_type": "markdown",
   "metadata": {
    "id": "3XZafTnu6M48"
   },
   "source": [
    "### Final Thoughts"
   ]
  },
  {
   "cell_type": "markdown",
   "metadata": {
    "id": "eeECkuCO6RJq"
   },
   "source": [
    "What you’ve learned:\n",
    "- Relational databases\n",
    "- Queries\n",
    "  - SELECT\n",
    "  - WHERE\n",
    "  - JOIN\n",
    "\n",
    "Next course:\n",
    "- Scrape data from the web\n",
    "- Interact with APIs"
   ]
  },
  {
   "cell_type": "markdown",
   "metadata": {
    "id": "o2qYN1-DEDxX"
   },
   "source": [
    "# INTERMEDIATE IMPORTING DATA IN PYTHON"
   ]
  },
  {
   "cell_type": "markdown",
   "metadata": {
    "id": "AormlGG9_qhb"
   },
   "source": [
    "## Importing data from the Internet"
   ]
  },
  {
   "cell_type": "markdown",
   "metadata": {
    "id": "bsEvNXgH_qhc"
   },
   "source": [
    "### Importing flat files from the web"
   ]
  },
  {
   "cell_type": "markdown",
   "metadata": {
    "id": "jvE24Iq8ILiI"
   },
   "source": [
    "You’re already great at importing!\n",
    "- Flat files such as .txt and .csv \n",
    "- Pickled files, Excel spreadsheets, and many others!\n",
    "- Data from relational databases\n",
    "- You can do all these locally\n",
    "- What if your data is online?\n",
    "  - You can: go to URL and click to download files\n",
    "  - BUT: not reproducible, not scalable"
   ]
  },
  {
   "cell_type": "markdown",
   "metadata": {
    "id": "gEmfnlneIU7u"
   },
   "source": [
    "You’ll learn how to… (due to reproducibility and scalability) problems\n",
    "- Import and locally save datasets from the web\n",
    "- Load datasets into pandas DataFrames\n",
    "- Make HTTP requests (GET requests)\n",
    "- Scrape web data such as HTML\n",
    "- Parse HTML into useful data (BeautifulSoup)\n",
    "- Use the urllib and requests packages"
   ]
  },
  {
   "cell_type": "markdown",
   "metadata": {
    "id": "Vn8TPjDXIab-"
   },
   "source": [
    "The urllib package\n",
    "- Provides interface for fetching data across the web\n",
    "- urlopen() - accepts URLs instead of "
   ]
  },
  {
   "cell_type": "markdown",
   "metadata": {
    "id": "LFuN_9oSKfcC"
   },
   "source": [
    "Machine Learning repository: \n",
    "- http://archive.ics.uci.edu/ml/index.php"
   ]
  },
  {
   "cell_type": "code",
   "execution_count": null,
   "metadata": {
    "id": "EaNyGpbIIean"
   },
   "outputs": [],
   "source": [
    "#How to automate file download in Python\n",
    "from urllib.request import urlretrieve\n",
    "url = 'http://archive.ics.uci.edu/ml/machine-learning-databases/wine-quality/winequality-white.csv'\n",
    "urlretrieve(url, 'winequality-white.csv') #save the file locally"
   ]
  },
  {
   "cell_type": "code",
   "execution_count": null,
   "metadata": {
    "colab": {
     "base_uri": "https://localhost:8080/"
    },
    "id": "gico1B-PJrWw",
    "outputId": "8c91c10b-e193-4215-9566-cd3eb6588cf2"
   },
   "outputs": [
    {
     "name": "stdout",
     "output_type": "stream",
     "text": [
      "   fixed acidity  volatile acidity  citric acid  ...  sulphates  alcohol  quality\n",
      "0            7.4              0.70         0.00  ...       0.56      9.4        5\n",
      "1            7.8              0.88         0.00  ...       0.68      9.8        5\n",
      "2            7.8              0.76         0.04  ...       0.65      9.8        5\n",
      "3           11.2              0.28         0.56  ...       0.58      9.8        6\n",
      "4            7.4              0.70         0.00  ...       0.56      9.4        5\n",
      "\n",
      "[5 rows x 12 columns]\n"
     ]
    }
   ],
   "source": [
    "#FULL EXAMPLE 1\n",
    "\n",
    "# Import package\n",
    "from urllib.request import urlretrieve\n",
    "\n",
    "# Import pandas\n",
    "import pandas as pd\n",
    "\n",
    "# Assign url of file: url\n",
    "url = 'https://s3.amazonaws.com/assets.datacamp.com/production/course_1606/datasets/winequality-red.csv'\n",
    "\n",
    "# Save file locally\n",
    "urlretrieve(url,\"winequality-red.csv\")\n",
    "\n",
    "# Read file into a DataFrame and print its head\n",
    "df = pd.read_csv('winequality-red.csv', sep=';')\n",
    "print(df.head())"
   ]
  },
  {
   "cell_type": "code",
   "execution_count": null,
   "metadata": {
    "id": "uGySbSlNONcR"
   },
   "outputs": [],
   "source": [
    "#FULL EXAMPLE 2\n",
    "\n",
    "# Import packages\n",
    "import matplotlib.pyplot as plt\n",
    "import pandas as pd\n",
    "\n",
    "# Assign url of file: url\n",
    "url = 'https://s3.amazonaws.com/assets.datacamp.com/production/course_1606/datasets/winequality-red.csv'\n",
    "\n",
    "# Read file into a DataFrame: df\n",
    "df = pd.read_csv(url, sep = \";\")\n",
    "\n",
    "# Print the head of the DataFrame\n",
    "print(df.head())\n",
    "\n",
    "# Plot first column of df\n",
    "pd.DataFrame.hist(df.ix[:, 0:1])\n",
    "plt.xlabel('fixed acidity (g(tartaric acid)/dm$^3$)')\n",
    "plt.ylabel('count')\n",
    "plt.show()\n"
   ]
  },
  {
   "cell_type": "markdown",
   "metadata": {
    "id": "LQqUpat5Odf7"
   },
   "source": [
    "![image.png](data:image/png;base64,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)"
   ]
  },
  {
   "cell_type": "code",
   "execution_count": null,
   "metadata": {
    "colab": {
     "base_uri": "https://localhost:8080/"
    },
    "id": "374zNbddOgID",
    "outputId": "c92b9d56-df4b-4e9a-f311-86093e35f3e5"
   },
   "outputs": [
    {
     "name": "stdout",
     "output_type": "stream",
     "text": [
      "dict_keys(['1700', '1900'])\n",
      "                 country       1700\n",
      "0            Afghanistan  34.565000\n",
      "1  Akrotiri and Dhekelia  34.616667\n",
      "2                Albania  41.312000\n",
      "3                Algeria  36.720000\n",
      "4         American Samoa -14.307000\n"
     ]
    }
   ],
   "source": [
    "#FULL EXAMPLE 3\n",
    "\n",
    "# Import package\n",
    "import pandas as pd\n",
    "\n",
    "# Assign url of file: url\n",
    "url = 'http://s3.amazonaws.com/assets.datacamp.com/course/importing_data_into_r/latitude.xls'\n",
    "\n",
    "# Read in all sheets of Excel file: xls\n",
    "xls = pd.read_excel(url, sheet_name = None)\n",
    "\n",
    "# Print the sheetnames to the shell\n",
    "print (xls.keys())\n",
    "\n",
    "# Print the head of the first sheet (using its name, NOT its index)\n",
    "print (xls[\"1700\"].head())\n"
   ]
  },
  {
   "cell_type": "markdown",
   "metadata": {
    "id": "XG0Cc1_r_qhc"
   },
   "source": [
    "### HTTP requests to import files from the web"
   ]
  },
  {
   "cell_type": "markdown",
   "metadata": {
    "id": "yXFA5GgNI--W"
   },
   "source": [
    "URL\n",
    "- Uniform/Universal Resource Locator\n",
    "- References to web resources\n",
    "- Focus: web addresses\n",
    "- Ingredients (2 parts):\n",
    "  - Protocol identifier - http:\n",
    "  - Resource name - datacamp.com\n",
    "- These specify web addresses uniquely\n",
    "\n",
    "HTTP\n",
    "- HyperText Transfer Protocol\n",
    "- Foundation of data communication for the web\n",
    "- HTTPS - more secure form of HTTP\n",
    "- Going to a website = sending HTTP request\n",
    "  - GET request\n",
    "- urlretrieve() performs a GET request (and save the data)\n",
    "- HTML - HyperText Markup Language"
   ]
  },
  {
   "cell_type": "code",
   "execution_count": null,
   "metadata": {
    "id": "v3VcvLn5JCTn"
   },
   "outputs": [],
   "source": [
    "#GET requests using urllib\n",
    "from urllib.request import urlopen, Request #functions\n",
    "url = \"https://www.wikipedia.org/\" #specify uurl\n",
    "request = Request(url) #package the url request with Request function\n",
    "response = urlopen(request) #send the request\n",
    "html = response.read() #catch the response\n",
    "response.close() #close the response"
   ]
  },
  {
   "cell_type": "markdown",
   "metadata": {
    "id": "eBAWgmIzJF9T"
   },
   "source": [
    "- Used by “her Majesty's Government, Amazon, Google, Twilio, NPR, Obama for America, Twitter, Sony, and Federal U.S. Institutions that prefer to be unnamed\"\n",
    "- requests - one of the most downloaded Python packages of all times"
   ]
  },
  {
   "cell_type": "code",
   "execution_count": null,
   "metadata": {
    "id": "Tqth1k3DJEnX"
   },
   "outputs": [],
   "source": [
    "#GET requests using \n",
    "import requests\n",
    "url = \"https://www.wikipedia.org/\"\n",
    "r = requests.get(url)\n",
    "text = r.text"
   ]
  },
  {
   "cell_type": "code",
   "execution_count": null,
   "metadata": {
    "colab": {
     "base_uri": "https://localhost:8080/"
    },
    "id": "gO-_J29RSqwO",
    "outputId": "9c8d0cfa-bafe-4f4f-a48a-1e8a29e1b1ea"
   },
   "outputs": [
    {
     "name": "stdout",
     "output_type": "stream",
     "text": [
      "<class 'http.client.HTTPResponse'>\n"
     ]
    }
   ],
   "source": [
    "#FULL EXAMPLE 1\n",
    "\n",
    "# Import packages\n",
    "from urllib.request import urlopen, Request\n",
    "\n",
    "# Specify the url\n",
    "url = \"https://campus.datacamp.com/courses/1606/4135?ex=2\"\n",
    "\n",
    "# This packages the request: request\n",
    "request = Request(url)\n",
    "\n",
    "# Sends the request and catches the response: response\n",
    "response = urlopen(request)\n",
    "\n",
    "# Print the datatype of response\n",
    "print(type(response))\n",
    "\n",
    "# Be polite and close the response!\n",
    "response.close()"
   ]
  },
  {
   "cell_type": "code",
   "execution_count": null,
   "metadata": {},
   "outputs": [],
   "source": [
    "#FULL EXAMPLE 2\n",
    "\n",
    "# Import packages\n",
    "from urllib.request import urlopen, Request\n",
    "\n",
    "# Specify the url\n",
    "url = \"https://campus.datacamp.com/courses/1606/4135?ex=2\"\n",
    "\n",
    "# This packages the request\n",
    "request = Request(url)\n",
    "\n",
    "# Sends the request and catches the response: response\n",
    "response = urlopen(request)\n",
    "\n",
    "# Extract the response: html\n",
    "html = response.read()\n",
    "\n",
    "# Print the html\n",
    "print (html)\n",
    "\n",
    "# Be polite and close the response!\n",
    "response.close()"
   ]
  },
  {
   "cell_type": "code",
   "execution_count": null,
   "metadata": {
    "id": "wHI7NXdXTcKd"
   },
   "outputs": [],
   "source": [
    "#FULL EXAMPLE 3\n",
    "\n",
    "# Import package\n",
    "import requests\n",
    "\n",
    "# Specify the url: url\n",
    "url = \"http://www.datacamp.com/teach/documentation\"\n",
    "\n",
    "# Packages the request, send the request and catch the response: r\n",
    "r = requests.get(url)\n",
    "\n",
    "# Extract the response: text\n",
    "text = r.text\n",
    "\n",
    "# Print the html\n",
    "print(text)"
   ]
  },
  {
   "cell_type": "markdown",
   "metadata": {
    "id": "mvG5ZHsO_qhc"
   },
   "source": [
    "### Scraping the web in Python"
   ]
  },
  {
   "cell_type": "markdown",
   "metadata": {
    "id": "ZhuEAkAiRPmz"
   },
   "source": [
    "HTML\n",
    "- Mix of unstructured and structured data\n",
    "- Structured data:\n",
    "  - Has pre-defined data model, or\n",
    "  - Organized in a defined manner\n",
    "- Unstructured data: neither of these properties"
   ]
  },
  {
   "cell_type": "markdown",
   "metadata": {
    "id": "IigxC_VsTvk_"
   },
   "source": [
    "BeautifulSoup\n",
    "- Parse and extract structured data from HTML\n",
    "- Make tag soup beautiful and extract information"
   ]
  },
  {
   "cell_type": "code",
   "execution_count": null,
   "metadata": {
    "id": "4U9XO6uuTyQs"
   },
   "outputs": [],
   "source": [
    "#BeautifulSoup\n",
    "from bs4 import BeautifulSoup #helps to parse and extract structured data from HTML\n",
    "import requests\n",
    "\n",
    "url = 'https://www.crummy.com/software/BeautifulSoup/'\n",
    "r = requests.get(url)\n",
    "html_doc = r.text\n",
    "soup = BeautifulSoup(html_doc)\n",
    "\n",
    "#Prettified Soup\n",
    "print(soup.prettify())\n",
    "\n",
    "#Many methods such as:\n",
    "#Title\n",
    "print(soup.title)\n",
    "#Text\n",
    "print(soup.get_text())\n",
    "\n",
    "#url in the text with find_all()\n",
    "for link in soup.find_all('a'):\n",
    "  print(link.get('href'))"
   ]
  },
  {
   "cell_type": "code",
   "execution_count": null,
   "metadata": {
    "id": "MokUAJVEal1_"
   },
   "outputs": [],
   "source": [
    "# FULL EXAMPLE 1\n",
    "\n",
    "# Import packages\n",
    "import requests\n",
    "from bs4 import BeautifulSoup\n",
    "\n",
    "# Specify url: url\n",
    "url = 'https://www.python.org/~guido/'\n",
    "\n",
    "# Package the request, send the request and catch the response: r\n",
    "r = requests.get(url)\n",
    "\n",
    "# Extracts the response as html: html_doc\n",
    "html_doc = r.text\n",
    "\n",
    "# Create a BeautifulSoup object from the HTML: soup\n",
    "soup = BeautifulSoup(html_doc)\n",
    "\n",
    "# Prettify the BeautifulSoup object: pretty_soup\n",
    "pretty_soup = soup.prettify()\n",
    "\n",
    "# Print the response\n",
    "print(pretty_soup)"
   ]
  },
  {
   "cell_type": "code",
   "execution_count": null,
   "metadata": {
    "id": "JEAskNw4beWe"
   },
   "outputs": [],
   "source": [
    "# FULL EXAMPLE 2\n",
    "\n",
    "# Import packages\n",
    "import requests\n",
    "from bs4 import BeautifulSoup\n",
    "\n",
    "# Specify url: url\n",
    "url = 'https://www.python.org/~guido/'\n",
    "\n",
    "# Package the request, send the request and catch the response: r\n",
    "r = requests.get(url)\n",
    "\n",
    "# Extract the response as html: html_doc\n",
    "html_doc = r.text\n",
    "\n",
    "# Create a BeautifulSoup object from the HTML: soup\n",
    "soup = BeautifulSoup(html_doc)\n",
    "\n",
    "# Get the title of Guido's webpage: guido_title\n",
    "guido_title = soup.title\n",
    "\n",
    "# Print the title of Guido's webpage to the shell\n",
    "print (guido_title)\n",
    "\n",
    "# Get Guido's text: guido_text\n",
    "guido_text = soup.get_text()\n",
    "\n",
    "# Print Guido's text to the shell\n",
    "print(guido_text)"
   ]
  },
  {
   "cell_type": "code",
   "execution_count": null,
   "metadata": {
    "id": "YQnJMiwJeFxM"
   },
   "outputs": [],
   "source": [
    "# FULL EXAMPLE 3\n",
    "# Import packages\n",
    "import requests\n",
    "from bs4 import BeautifulSoup\n",
    "\n",
    "# Specify url\n",
    "url = 'https://www.python.org/~guido/'\n",
    "\n",
    "# Package the request, send the request and catch the response: r\n",
    "r = requests.get(url)\n",
    "\n",
    "# Extracts the response as html: html_doc\n",
    "html_doc = r.text\n",
    "\n",
    "# create a BeautifulSoup object from the HTML: soup\n",
    "soup = BeautifulSoup(html_doc)\n",
    "\n",
    "# Print the title of Guido's webpage\n",
    "print(soup.title)\n",
    "\n",
    "# Find all 'a' tags (which define hyperlinks): a_tags\n",
    "a_tags = soup.find_all(\"a\")\n",
    "\n",
    "# Print the URLs to the shell\n",
    "for link in a_tags:\n",
    "    print(link.get(\"href\"))"
   ]
  },
  {
   "cell_type": "markdown",
   "metadata": {
    "id": "BzxXO_Kq_qhg"
   },
   "source": [
    "## Interacting with APIs to import data from the web"
   ]
  },
  {
   "cell_type": "markdown",
   "metadata": {
    "id": "gO-oRr3L_qhg"
   },
   "source": [
    "### Introduction to APIs and JSONs"
   ]
  },
  {
   "cell_type": "markdown",
   "metadata": {
    "id": "srVREgjbgAGd"
   },
   "source": [
    "APIs\n",
    "- Application Programming Interface\n",
    "- Set of protocols and routines\n",
    "  - Building and interacting with software applications\n",
    "  - we will use the OMDb API (The Open Movie Database)"
   ]
  },
  {
   "cell_type": "markdown",
   "metadata": {
    "id": "jD0wmUw4gSqH"
   },
   "source": [
    "JSONs\n",
    "- JavaScript Object Notation\n",
    "- Real-time server-to-browser communication\n",
    "- Douglas Crockford\n",
    "- Human readable"
   ]
  },
  {
   "cell_type": "code",
   "execution_count": null,
   "metadata": {
    "id": "Dvh9L4StgXmx"
   },
   "outputs": [],
   "source": [
    "#Loading JSONs in Python\n",
    "import json\n",
    "with open('snakes.json', 'r') as json_file: #open connection to the file\n",
    "  json_data = json.load(json_file)\n",
    "type(json_data) #print the dictionary"
   ]
  },
  {
   "cell_type": "code",
   "execution_count": null,
   "metadata": {
    "id": "aEyfhcJ1gaPL"
   },
   "outputs": [],
   "source": [
    "#Exploring JSONs in Python\n",
    "for key, value in json_data.items():\n",
    "  print(key + ':', value)"
   ]
  },
  {
   "cell_type": "markdown",
   "metadata": {
    "id": "ReM-VPRriCoL"
   },
   "source": [
    "![image.png](data:image/png;base64,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)"
   ]
  },
  {
   "cell_type": "code",
   "execution_count": null,
   "metadata": {
    "id": "vyY30NCBiyM9"
   },
   "outputs": [],
   "source": [
    "#FULL EXAMPLE 1\n",
    "\n",
    "# Load JSON: json_data\n",
    "with open(\"a_movie.json\") as json_file:\n",
    "    json_data = json.load(json_file)\n",
    "\n",
    "# Print each key-value pair in json_data\n",
    "for k in json_data.keys():\n",
    "    print(k + ': ', json_data[k])"
   ]
  },
  {
   "cell_type": "markdown",
   "metadata": {
    "id": "OClsqfb8_qhg"
   },
   "source": [
    "### APIs and interacting with the world wide web"
   ]
  },
  {
   "cell_type": "markdown",
   "metadata": {
    "id": "fdRzeiJrgczK"
   },
   "source": [
    "Herein, you’ll learn\n",
    "- What APIs are\n",
    "- Why APIs are important\n",
    "- In the exercises:\n",
    "  - Connecting to APIs\n",
    "  - Pulling data from APIs\n",
    "  - Parsing data from APIs"
   ]
  },
  {
   "cell_type": "markdown",
   "metadata": {
    "id": "FpOfvP8EghcT"
   },
   "source": [
    "What is an API?\n",
    "- Set of protocols and routines\n",
    "- Bunch of code\n",
    "  - Allows two software programs to communicate with each other"
   ]
  },
  {
   "cell_type": "code",
   "execution_count": null,
   "metadata": {
    "id": "lmmdf89GgozL"
   },
   "outputs": [],
   "source": [
    "#Connecting to an API in Python\n",
    "import requests\n",
    "url = 'http://www.omdbapi.com/?t=hackers'\n",
    "r = requests.get(url)\n",
    "json_data = r.json() #json decoder\n",
    "for key, value in json_data.items():\n",
    "  print(key + ':', value)"
   ]
  },
  {
   "cell_type": "markdown",
   "metadata": {
    "id": "VYbM6dfsgs3O"
   },
   "source": [
    "What was that URL?\n",
    "- http - making an HTTP request\n",
    "- www.omdbapi.com - querying the OMDB API\n",
    "- ?t=hackers\n",
    "  - Query string\n",
    "  - Return data for a movie with title (t) ‘Hackers’\n",
    "  - 'http://www.omdbapi.com/?t=hackers'"
   ]
  },
  {
   "cell_type": "code",
   "execution_count": null,
   "metadata": {
    "colab": {
     "base_uri": "https://localhost:8080/"
    },
    "id": "5ArGmamWjsR9",
    "outputId": "8cec920b-d9e0-46d1-96bf-e3cec1deae4d"
   },
   "outputs": [
    {
     "name": "stdout",
     "output_type": "stream",
     "text": [
      "{\"Title\":\"The Social Network\",\"Year\":\"2010\",\"Rated\":\"PG-13\",\"Released\":\"01 Oct 2010\",\"Runtime\":\"120 min\",\"Genre\":\"Biography, Drama\",\"Director\":\"David Fincher\",\"Writer\":\"Aaron Sorkin, Ben Mezrich\",\"Actors\":\"Jesse Eisenberg, Andrew Garfield, Justin Timberlake\",\"Plot\":\"As Harvard student Mark Zuckerberg creates the social networking site that would become known as Facebook, he is sued by the twins who claimed he stole their idea, and by the co-founder who was later squeezed out of the business.\",\"Language\":\"English, French\",\"Country\":\"United States\",\"Awards\":\"Won 3 Oscars. 172 wins & 186 nominations total\",\"Poster\":\"https://m.media-amazon.com/images/M/MV5BOGUyZDUxZjEtMmIzMC00MzlmLTg4MGItZWJmMzBhZjE0Mjc1XkEyXkFqcGdeQXVyMTMxODk2OTU@._V1_SX300.jpg\",\"Ratings\":[{\"Source\":\"Internet Movie Database\",\"Value\":\"7.7/10\"},{\"Source\":\"Metacritic\",\"Value\":\"95/100\"}],\"Metascore\":\"95\",\"imdbRating\":\"7.7\",\"imdbVotes\":\"650,580\",\"imdbID\":\"tt1285016\",\"Type\":\"movie\",\"DVD\":\"11 Jan 2011\",\"BoxOffice\":\"$96,962,694\",\"Production\":\"Scott Rudin Productions, Trigger Street Productions, Michael De Luca\",\"Website\":\"N/A\",\"Response\":\"True\"}\n"
     ]
    }
   ],
   "source": [
    "#FULL EXAMPLE 1\n",
    "#Exercise provided the apikey=72bc447a and t=the+social+network\n",
    "\n",
    "# Import requests package\n",
    "import requests\n",
    "\n",
    "# Assign URL to variable: url\n",
    "url = 'http://www.omdbapi.com/?apikey=72bc447a&t=the+social+network'\n",
    "\n",
    "# Package the request, send the request and catch the response: r\n",
    "r = requests.get(url)\n",
    "\n",
    "# Print the text of the response\n",
    "print (r.text)\n"
   ]
  },
  {
   "cell_type": "code",
   "execution_count": null,
   "metadata": {
    "colab": {
     "base_uri": "https://localhost:8080/"
    },
    "id": "qywObE-blsOr",
    "outputId": "9761f68a-8e67-408e-ba59-5e56525c52d1"
   },
   "outputs": [
    {
     "name": "stdout",
     "output_type": "stream",
     "text": [
      "Title:  The Social Network\n",
      "Year:  2010\n",
      "Rated:  PG-13\n",
      "Released:  01 Oct 2010\n",
      "Runtime:  120 min\n",
      "Genre:  Biography, Drama\n",
      "Director:  David Fincher\n",
      "Writer:  Aaron Sorkin, Ben Mezrich\n",
      "Actors:  Jesse Eisenberg, Andrew Garfield, Justin Timberlake\n",
      "Plot:  As Harvard student Mark Zuckerberg creates the social networking site that would become known as Facebook, he is sued by the twins who claimed he stole their idea, and by the co-founder who was later squeezed out of the business.\n",
      "Language:  English, French\n",
      "Country:  United States\n",
      "Awards:  Won 3 Oscars. 172 wins & 186 nominations total\n",
      "Poster:  https://m.media-amazon.com/images/M/MV5BOGUyZDUxZjEtMmIzMC00MzlmLTg4MGItZWJmMzBhZjE0Mjc1XkEyXkFqcGdeQXVyMTMxODk2OTU@._V1_SX300.jpg\n",
      "Ratings:  [{'Source': 'Internet Movie Database', 'Value': '7.7/10'}, {'Source': 'Metacritic', 'Value': '95/100'}]\n",
      "Metascore:  95\n",
      "imdbRating:  7.7\n",
      "imdbVotes:  650,580\n",
      "imdbID:  tt1285016\n",
      "Type:  movie\n",
      "DVD:  11 Jan 2011\n",
      "BoxOffice:  $96,962,694\n",
      "Production:  Scott Rudin Productions, Trigger Street Productions, Michael De Luca\n",
      "Website:  N/A\n",
      "Response:  True\n"
     ]
    }
   ],
   "source": [
    "#FULL EXAMPLE 2\n",
    "# Import package\n",
    "import requests\n",
    "\n",
    "# Assign URL to variable: url\n",
    "url = 'http://www.omdbapi.com/?apikey=72bc447a&t=social+network'\n",
    "\n",
    "# Package the request, send the request and catch the response: r\n",
    "r = requests.get(url)\n",
    "\n",
    "# Decode the JSON data into a dictionary: json_data\n",
    "json_data = r.json()\n",
    "\n",
    "# Print each key-value pair in json_data\n",
    "for k in json_data.keys():\n",
    "    print(k + ': ', json_data[k])\n"
   ]
  },
  {
   "cell_type": "code",
   "execution_count": null,
   "metadata": {
    "colab": {
     "base_uri": "https://localhost:8080/"
    },
    "id": "I8pjhrpnmLLK",
    "outputId": "7a9f1b8e-a91d-4cb1-fe1e-fa61b671c3fa"
   },
   "outputs": [
    {
     "name": "stdout",
     "output_type": "stream",
     "text": [
      "<link rel=\"mw-deduplicated-inline-style\" href=\"mw-data:TemplateStyles:r1033289096\">\n",
      "<p class=\"mw-empty-elt\">\n",
      "</p>\n",
      "<p><b>Pizza</b> (<small>Italian: </small><span title=\"Representation in the International Phonetic Alphabet (IPA)\">[ˈpittsa]</span>, <small>Neapolitan: </small><span title=\"Representation in the International Phonetic Alphabet (IPA)\">[ˈpittsə]</span>) is an Italian dish consisting of a usually round, flattened base of leavened wheat-based dough topped with tomatoes, cheese, and often various other ingredients (such as anchovies, mushrooms, onions, olives, pineapple, meat, etc.), which is then baked at a high temperature, traditionally in a wood-fired oven. A small pizza is sometimes called a pizzetta. A person who makes pizza is known as a <b>pizzaiolo</b>.\n",
      "</p><p>In Italy, pizza served in formal settings, such as at a restaurant, is presented unsliced, and is eaten with the use of a knife and fork. In casual settings, however, it is cut into wedges to be eaten while held in the hand.\n",
      "</p><p>The term <i>pizza</i> was first recorded in the 10th century in a Latin manuscript from the Southern Italian town of Gaeta in Lazio, on the border with Campania. Modern pizza was invented in Naples, and the dish and its variants have since become popular in many countries. It has become one of the most popular foods in the world and a common fast food item in Europe, North America and Australasia; available at pizzerias (restaurants specializing in pizza),  restaurants offering Mediterranean cuisine, and via pizza delivery. Various food companies also sell ready-baked frozen pizzas in grocery stores, to be reheated in an ordinary home oven.\n",
      "</p><p>The <i>Associazione Verace Pizza Napoletana</i> (lit. True Neapolitan Pizza Association) is a non-profit organization founded in 1984 with headquarters in Naples that aims to promote traditional Neapolitan pizza. In 2009, upon Italy's request, Neapolitan pizza was registered with the European Union as a Traditional Speciality Guaranteed dish, and in 2017 the art of its making was included on UNESCO's list of intangible cultural heritage.</p>\n",
      "\n",
      "<!-- \n",
      "NewPP limit report\n",
      "Parsed by mw2320\n",
      "Cached time: 20210910091022\n",
      "Cache expiry: 1814400\n",
      "Reduced expiry: false\n",
      "Complications: [vary‐revision‐exists, vary‐revision‐sha1]\n",
      "CPU time usage: 0.454 seconds\n",
      "Real time usage: 0.611 seconds\n",
      "Preprocessor visited node count: 1073/1000000\n",
      "Post‐expand include size: 42154/2097152 bytes\n",
      "Template argument size: 1240/2097152 bytes\n",
      "Highest expansion depth: 17/40\n",
      "Expensive parser function count: 4/500\n",
      "Unstrip recursion depth: 0/20\n",
      "Unstrip post‐expand size: 18856/5000000 bytes\n",
      "Lua time usage: 0.282/10.000 seconds\n",
      "Lua memory usage: 5339671/52428800 bytes\n",
      "Number of Wikibase entities loaded: 1/400\n",
      "-->\n",
      "<!--\n",
      "Transclusion expansion time report (%,ms,calls,template)\n",
      "100.00%  563.593      1 -total\n",
      " 24.50%  138.094      1 Template:OED\n",
      " 18.38%  103.574      1 Template:Infobox_food\n",
      " 16.83%   94.853      1 Template:Infobox\n",
      " 12.00%   67.621      1 Template:Short_description\n",
      " 11.94%   67.288      1 Template:Unbulleted_list\n",
      " 11.86%   66.835      1 Template:Pizza\n",
      " 11.29%   63.632      1 Template:Sidebar_with_collapsible_lists\n",
      "  8.61%   48.527      1 Template:Pp-semi-indef\n",
      "  6.91%   38.933      1 Template:Pagetype\n",
      "-->\n"
     ]
    }
   ],
   "source": [
    "#FULL EXAMPLE 3\n",
    "\n",
    "# Import package\n",
    "import requests\n",
    "\n",
    "# Assign URL to variable: url\n",
    "url = \"https://en.wikipedia.org/w/api.php?action=query&prop=extracts&format=json&exintro=&titles=pizza\"\n",
    "\n",
    "# Package the request, send the request and catch the response: r\n",
    "r = requests.get(url)\n",
    "\n",
    "# Decode the JSON data into a dictionary: json_data\n",
    "json_data = r.json()\n",
    "\n",
    "# Print the Wikipedia page extract\n",
    "pizza_extract = json_data['query']['pages']['24768']['extract']\n",
    "print (pizza_extract)\n"
   ]
  },
  {
   "cell_type": "markdown",
   "metadata": {
    "id": "rTw2JNaC_qhg"
   },
   "source": [
    "## Diving deep into the Twitter API"
   ]
  },
  {
   "cell_type": "markdown",
   "metadata": {
    "id": "Pd8d2_87_qhh"
   },
   "source": [
    "### The Twitter API and Authentication"
   ]
  },
  {
   "cell_type": "markdown",
   "metadata": {
    "id": "qu7bLFh-o1uU"
   },
   "source": [
    "Herein, you’ll learn\n",
    "- How to stream data from the Twi\n",
    "- How to filter incoming tweets for keywords\n",
    "- About API Authentication and OAuth\n",
    "- How to use the Tweepy Python package"
   ]
  },
  {
   "cell_type": "markdown",
   "metadata": {
    "id": "SfkmbXBIpPe2"
   },
   "source": [
    "Twitter API particularities\n",
    "- acces anonymously\n",
    "- requires an account\n",
    "- load twitter apps\n",
    "- several APIs. We will use the REST AIPIs\n",
    "- tweets are returned as JSONs\n",
    "- tweepy package"
   ]
  },
  {
   "cell_type": "code",
   "execution_count": null,
   "metadata": {
    "id": "2Z4xDoFoo1Rq"
   },
   "outputs": [],
   "source": [
    "#Using Tweepy: Authentication handler\n",
    "#tw_auth.py\n",
    "\n",
    "import tweepy, json\n",
    "access_token = \"...\"\n",
    "access_token_secret = \"...\"\n",
    "consumer_key = \"...\"\n",
    "consumer_secret = \"...\"\n",
    "auth = tweepy.OAuthHandler(consumer_key, consumer_secret)\n",
    "auth.set_access_token(access_token, access_token_secret)"
   ]
  },
  {
   "cell_type": "code",
   "execution_count": null,
   "metadata": {
    "id": "GX0elTk7qUi4"
   },
   "outputs": [],
   "source": [
    "#Tweepy: define stream listener class\n",
    "#st_class.py\n",
    "\n",
    "class MyStreamListener(tweepy.StreamListener):\n",
    "  def __init__(self, api=None):\n",
    "    super(MyStreamListener, self).__init__()\n",
    "    self.num_tweets = 0\n",
    "    self.file = open(\"tweets.txt\", \"w\")\n",
    "  def on_status(self, status):\n",
    "    tweet = status._json\n",
    "    self.file.write(json.dumps(tweet) + '\\\\n')\n",
    "    tweet_list.append(status)\n",
    "    self.num_tweets += 1\n",
    "    if self.num_tweets < 100:\n",
    "      return True\n",
    "    else:\n",
    "      return False\n",
    "    self.file.close()"
   ]
  },
  {
   "cell_type": "code",
   "execution_count": null,
   "metadata": {
    "id": "2JezNwNZqhXJ"
   },
   "outputs": [],
   "source": [
    "#Using Tweepy: stream tweets!!\n",
    "#tweets.py\n",
    "\n",
    "# Create Streaming object and authenticate\n",
    "l = MyStreamListener()\n",
    "stream = tweepy.Stream(auth, l)\n",
    "# This line filters Twitter Streams to capture data by keywords:\n",
    "stream.filter(track=['apples', 'oranges'])"
   ]
  },
  {
   "cell_type": "code",
   "execution_count": null,
   "metadata": {
    "id": "_qLtxhrFq2rI"
   },
   "outputs": [],
   "source": [
    "#FULL EXAMPLE 1\n",
    "\n",
    "# Import package\n",
    "import tweepy\n",
    "\n",
    "# Store OAuth authentication credentials in relevant variables\n",
    "access_token = \"1092294848-aHN7DcRP9B4VMTQIhwqOYiB14YkW92fFO8k8EPy\"\n",
    "access_token_secret = \"X4dHmhPfaksHcQ7SCbmZa2oYBBVSD2g8uIHXsp5CTaksx\"\n",
    "consumer_key = \"nZ6EA0FxZ293SxGNg8g8aP0HM\"\n",
    "consumer_secret = \"fJGEodwe3KiKUnsYJC3VRndj7jevVvXbK2D5EiJ2nehafRgA6i\"\n",
    "\n",
    "# Pass OAuth details to tweepy's OAuth handler\n",
    "auth = tweepy.OAuthHandler(consumer_key, consumer_secret)\n",
    "auth.set_access_token(access_token, access_token_secret)"
   ]
  },
  {
   "cell_type": "code",
   "execution_count": null,
   "metadata": {
    "id": "gfkP6BfZq2OQ"
   },
   "outputs": [],
   "source": [
    "#FULL EXAMPLE 2\n",
    "\n",
    "# Initialize Stream listener\n",
    "l = MyStreamListener()\n",
    "\n",
    "# Create your Stream object with authentication\n",
    "stream = tweepy.Stream(auth, l)\n",
    "\n",
    "# Filter Twitter Streams to capture data by the keywords:\n",
    "stream.filter(track=[\"clinton\", \"trump\", \"sanders\", \"cruz\"])"
   ]
  },
  {
   "cell_type": "code",
   "execution_count": null,
   "metadata": {
    "id": "0OrBpeNOq2KP"
   },
   "outputs": [],
   "source": [
    "#FULL EXAMPLE 3\n",
    "\n",
    "# Import package\n",
    "import json\n",
    "\n",
    "# String of path to file: tweets_data_path\n",
    "tweets_data_path = \"tweets.txt\"\n",
    "\n",
    "# Initialize empty list to store tweets: tweets_data\n",
    "tweets_data = []\n",
    "\n",
    "# Open connection to file\n",
    "tweets_file = open(tweets_data_path, \"r\")\n",
    "\n",
    "# Read in tweets and store in list: tweets_data\n",
    "for line in tweets_file:\n",
    "    tweet = json.loads(line)\n",
    "    tweets_data.append(tweet)\n",
    "\n",
    "# Close connection to file\n",
    "tweets_file.close()\n",
    "\n",
    "# Print the keys of the first tweet dict\n",
    "print(tweets_data[0].keys())"
   ]
  },
  {
   "cell_type": "code",
   "execution_count": null,
   "metadata": {
    "id": "ZI8St23gq2GC"
   },
   "outputs": [],
   "source": [
    "#FULL EXAMPLE 4\n",
    "\n",
    "# Import package\n",
    "import pandas as pd\n",
    "\n",
    "# Build DataFrame of tweet texts and languages\n",
    "df = pd.DataFrame(tweets_data, columns=[\"text\", \"lang\"])\n",
    "\n",
    "# Print head of DataFrame\n",
    "print (df.head())"
   ]
  },
  {
   "cell_type": "code",
   "execution_count": null,
   "metadata": {
    "id": "GhwBMqfNrmpZ"
   },
   "outputs": [],
   "source": [
    "#FULL EXAMPLE 5\n",
    "# Initialize list to store tweet counts\n",
    "[clinton, trump, sanders, cruz] = [0, 0, 0, 0]\n",
    "\n",
    "# Iterate through df, counting the number of tweets in which\n",
    "# each candidate is mentioned\n",
    "for index, row in df.iterrows():\n",
    "    clinton += word_in_text('clinton', row['text'])\n",
    "    trump += word_in_text(\"trump\", row[\"text\"])\n",
    "    sanders += word_in_text(\"sanders\", row[\"text\"])\n",
    "    cruz += word_in_text(\"cruz\", row[\"text\"])\n"
   ]
  },
  {
   "cell_type": "code",
   "execution_count": null,
   "metadata": {
    "id": "ItCAG1yGrnC7"
   },
   "outputs": [],
   "source": [
    "#FULL EXAMPLE 6\n",
    "# Import packages\n",
    "import matplotlib.pyplot as plt\n",
    "import seaborn as sns\n",
    "\n",
    "# Set seaborn style\n",
    "sns.set(color_codes=True)\n",
    "\n",
    "# Create a list of labels:cd\n",
    "cd = ['clinton', 'trump', 'sanders', 'cruz']\n",
    "\n",
    "# Plot the bar chart\n",
    "ax = sns.barplot(cd, [clinton, trump, sanders, cruz])\n",
    "ax.set(ylabel=\"count\")\n",
    "plt.show()"
   ]
  },
  {
   "cell_type": "markdown",
   "metadata": {
    "id": "jET57mkNv8OI"
   },
   "source": [
    "![image.png](data:image/png;base64,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)"
   ]
  },
  {
   "cell_type": "markdown",
   "metadata": {
    "id": "q0heW5lJ_qhh"
   },
   "source": [
    "### Final Thoughts"
   ]
  },
  {
   "cell_type": "markdown",
   "metadata": {
    "id": "XpDFI0lYpGcn"
   },
   "source": [
    "What you’ve learned:\n",
    "- Importing text files and .at files\n",
    "- Importing files in other formats\n",
    "- Writing SQL queries\n",
    "- Getting data from relational databases\n",
    "- Pulling data from the web\n",
    "- Pulling data from APIs"
   ]
  }
 ],
 "metadata": {
  "colab": {
   "name": "[DC] Data Science Career",
   "provenance": [],
   "toc_visible": true
  },
  "hide_input": false,
  "kernelspec": {
   "display_name": "Python 3 (ipykernel)",
   "language": "python",
   "name": "python3"
  },
  "language_info": {
   "codemirror_mode": {
    "name": "ipython",
    "version": 3
   },
   "file_extension": ".py",
   "mimetype": "text/x-python",
   "name": "python",
   "nbconvert_exporter": "python",
   "pygments_lexer": "ipython3",
   "version": "3.10.0"
  },
  "toc": {
   "base_numbering": "1",
   "nav_menu": {},
   "number_sections": true,
   "sideBar": true,
   "skip_h1_title": false,
   "title_cell": "Table of Contents",
   "title_sidebar": "Contents",
   "toc_cell": true,
   "toc_position": {
    "height": "calc(100% - 180px)",
    "left": "10px",
    "top": "150px",
    "width": "426.641px"
   },
   "toc_section_display": true,
   "toc_window_display": true
  },
  "varInspector": {
   "cols": {
    "lenName": 16,
    "lenType": 16,
    "lenVar": 40
   },
   "kernels_config": {
    "python": {
     "delete_cmd_postfix": "",
     "delete_cmd_prefix": "del ",
     "library": "var_list.py",
     "varRefreshCmd": "print(var_dic_list())"
    },
    "r": {
     "delete_cmd_postfix": ") ",
     "delete_cmd_prefix": "rm(",
     "library": "var_list.r",
     "varRefreshCmd": "cat(var_dic_list()) "
    }
   },
   "types_to_exclude": [
    "module",
    "function",
    "builtin_function_or_method",
    "instance",
    "_Feature"
   ],
   "window_display": false
  }
 },
 "nbformat": 4,
 "nbformat_minor": 1
}
