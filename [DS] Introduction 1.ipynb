{
 "cells": [
  {
   "cell_type": "markdown",
   "metadata": {
    "id": "GnSIIdIfZNNo"
   },
   "source": [
    "# INTRODUCTION TO PYTHON\n",
    "Professor Hugo Bowne-Anderson"
   ]
  },
  {
   "cell_type": "markdown",
   "metadata": {
    "id": "5wafvOn1cyMJ"
   },
   "source": [
    "## Python Basics"
   ]
  },
  {
   "cell_type": "markdown",
   "metadata": {
    "id": "uBDyrfoDdFYP"
   },
   "source": [
    "- Can build almost anything with python packages\n",
    "- Python script: text files .py\n",
    "- Variables and types:\n",
    "- 1) float - real number (integer and fractional part)\n",
    "- 2) Int\n",
    "- 3) String - texts (are pasted together)\n",
    "- 4) Bool - True and False (useful for filter, e.g). Capitalization is important  \n",
    "- The code behaves according to the types of data\n",
    "- = signal means assignment (not equality)\n",
    "- To sum strings with variable types, we must convert the variable into str()"
   ]
  },
  {
   "cell_type": "code",
   "execution_count": null,
   "metadata": {
    "id": "a4gmtY4vih8n"
   },
   "outputs": [],
   "source": [
    "type (x)"
   ]
  },
  {
   "cell_type": "markdown",
   "metadata": {
    "id": "Pi4kTIeXetSf"
   },
   "source": [
    "## Python Lists"
   ]
  },
  {
   "cell_type": "markdown",
   "metadata": {
    "id": "r55wIJFTfFUr"
   },
   "source": [
    "- Python Lists: collection of value, from any type, including new lists. The type is = list\n",
    "- Manipulating lists below:"
   ]
  },
  {
   "cell_type": "code",
   "execution_count": null,
   "metadata": {
    "id": "HZyM8NeQZrva"
   },
   "outputs": [],
   "source": [
    "#subsetting lists\n",
    "list[1] = list [-3] #lista de 4 números\n",
    "\n",
    "#list slicing\n",
    "#list[:] -> start(inclusive):end(exclusive)\n",
    "list [3:5] #take itens 4 and 5 to another list\n",
    "\n",
    "list[:5] #roda a lista do 0 ao item 5 (posição 4 da lista)\n",
    "list [5:] #roda a lista do 5 ao último\n",
    "\n",
    "#changing list elements\n",
    "list[0:2] = [\"item a\", 1.74]\n",
    "\n",
    "#add new elements\n",
    "list + [\"item a\", 1.74]\n",
    "\n",
    "#remove elements\n",
    "del(list[2])\n",
    "\n",
    "#copy a list\n",
    "list2 = list(list1) #list1 is the one i want to copy\n",
    "list2 = list[:]"
   ]
  },
  {
   "cell_type": "markdown",
   "metadata": {
    "id": "woyqgvcJe8zy"
   },
   "source": [
    "## Functions and Packages"
   ]
  },
  {
   "cell_type": "markdown",
   "metadata": {
    "id": "HpD-joOGhfcL"
   },
   "source": [
    "### Functions and Methods"
   ]
  },
  {
   "cell_type": "markdown",
   "metadata": {
    "id": "zffVUHC7pI6q"
   },
   "source": [
    "- Functions are pieces of reausable code"
   ]
  },
  {
   "cell_type": "code",
   "execution_count": null,
   "metadata": {
    "id": "T-QFcPZ4exr-"
   },
   "outputs": [],
   "source": [
    "#examples of functions\n",
    "max (list)\n",
    "round (1.7, 1) #number and digits\n",
    "help (round)\n",
    "len (list) #list or string"
   ]
  },
  {
   "cell_type": "markdown",
   "metadata": {
    "id": "c5dg34NWrVxf"
   },
   "source": [
    "- Methods are functions that belong to objects (string, float, int are all objects with specific types)\n",
    "- There are specific methods for different types of objects"
   ]
  },
  {
   "cell_type": "code",
   "execution_count": null,
   "metadata": {
    "id": "CxlpofKArWbe"
   },
   "outputs": [],
   "source": [
    "#for str\n",
    "str = \"eliza\"\n",
    "str.capitalize() #capitalize first letter\n",
    "str.replace (\"x\", \"y\") #replace the x with the y\n",
    "str.index (\"z\") #returns the position of the string\n",
    "\n",
    "#for float\n",
    "bit_length()\n",
    "conjugate()\n",
    "\n",
    "#for list\n",
    "list.index(\"value\") #returns the position of the value\n",
    "list.count(\"value\") #how many appearences of the value\n",
    "list.append(\"value\") #adds a value to the end\n",
    "list.remove(\"value\") #remove a specific value\n",
    "list.reverse(\"value\") #the last becomes the first and so on"
   ]
  },
  {
   "cell_type": "markdown",
   "metadata": {
    "id": "76k5JeDQhhk5"
   },
   "source": [
    "### Packages"
   ]
  },
  {
   "cell_type": "markdown",
   "metadata": {
    "id": "-HDQ-dXTtdPQ"
   },
   "source": [
    "- Package: directory of python script (each script is a module) and module are specific functions, methods and types\n",
    "\n",
    "- Main packages\n",
    "  - Numpy: arrays\n",
    "  - Matplotlib: data visualization\n",
    "  - Scikit: machine learning\n",
    "\n",
    "- First of all: install packages (use **pip for it) -> download get-pip.py **\n",
    "- Execute in the terminal \n",
    "  - python3 get-pip.py\n",
    "  - pip3 install numpy\n",
    "- It will tell the system that we will work with python 3\n",
    "\n",
    "- Then, import package\n",
    "  - import numpy"
   ]
  },
  {
   "cell_type": "code",
   "execution_count": null,
   "metadata": {
    "id": "y7SnwpM3td3f"
   },
   "outputs": [],
   "source": [
    "import numpy\n",
    "numpy.array([1,2,3]) #useful for data science\n",
    "\n",
    "#to short the name, it is possible to use as function\n",
    "import numpy as np\n",
    "np.array ([1,2,3]) #mostt common\n",
    "\n",
    "#use one specific function\n",
    "from numpy import array\n",
    "array([1,2,3]) #not very useful, may confuse\n",
    "\n",
    "#another full example\n",
    "from scipy.linalg import inv as my_inv #scipy package, linalg subpackage and inv the function"
   ]
  },
  {
   "cell_type": "markdown",
   "metadata": {
    "id": "fB7fK972e4gG"
   },
   "source": [
    "## Numpy"
   ]
  },
  {
   "cell_type": "markdown",
   "metadata": {
    "id": "QVEAYeA3fTpM"
   },
   "source": [
    "- Numpy means Numeric Python\n",
    "- Useful for making calculations with list (they can't do it by default)\n",
    "- Additional features, calculations over entire arrays (easy and fast)\n"
   ]
  },
  {
   "cell_type": "code",
   "execution_count": null,
   "metadata": {
    "id": "ug089w_ie3M2"
   },
   "outputs": [],
   "source": [
    "#installation\n",
    "#in the terminal: pip3 install numpy\n",
    "import numpy as np\n",
    "\n",
    "#create numpy array\n",
    "height = ([1.73, 1.68, \"...\"])\n",
    "np_height = np.array (height)"
   ]
  },
  {
   "cell_type": "markdown",
   "metadata": {
    "id": "7Am47koyhbl9"
   },
   "source": [
    "- Arrays can only assume one type, so it will modify itself (type coercion)\n",
    "- Be careful with sum of lists and arrays\n",
    "  - sum of lists create a bigger list\n",
    "  - sum of arrays create a list with the same length\n",
    "- It is also possible to subsetting a numpy array with booleans"
   ]
  },
  {
   "cell_type": "code",
   "execution_count": null,
   "metadata": {
    "id": "vYbP6O6Mhep0"
   },
   "outputs": [],
   "source": [
    "#subset according to a condition\n",
    "height > 1.70 #it will bring up an array with booleans [TRUE, FALSE, ...]\n",
    "height [height > 23] #it will bring an array with only the true values [1,73, ...]\n",
    "gk_heights = [np_positions == 'GK']"
   ]
  },
  {
   "cell_type": "markdown",
   "metadata": {
    "id": "3WqufVbZqS8S"
   },
   "source": [
    "- The amount of lists defines the number of dimensions (in the case described, they are in row format)\n",
    "- Different ways to subset a list\n"
   ]
  },
  {
   "cell_type": "code",
   "execution_count": null,
   "metadata": {
    "id": "TbaHYXtaqTfd"
   },
   "outputs": [],
   "source": [
    "#list creation\n",
    "list = np.list ([1, 2, 3, 4, 5], [6, 7, 8, 9, 10])\n",
    "list #the output will be array type, followed by the list\n",
    "\n",
    "type(list) #will provide the class - array\n",
    "\n",
    "list.shape #will provide the number of rows and columns\n",
    "\n",
    "#subsetting\n",
    "list[0] #provides the first row\n",
    "#provides a specific element\n",
    "list [0][2] #row 1, 2 element\n",
    "list [0, 2] #row 1, 2 element\n",
    "list [:, 1:3] #all row values from column 2 (1) and 3 (2)\n",
    "list [1:] #obtain the second row of a list"
   ]
  },
  {
   "cell_type": "markdown",
   "metadata": {
    "id": "g-E5iPKrSt0o"
   },
   "source": [
    "- Numpy has several functions related to basic statistics"
   ]
  },
  {
   "cell_type": "code",
   "execution_count": null,
   "metadata": {
    "id": "9_-INP1_SvNm"
   },
   "outputs": [],
   "source": [
    "#basic statistics\n",
    "np.mean (np_city[:,0])\n",
    "np.median (np_city[:,0])\n",
    "np.corrcoef (np_city[:,0], np_city [:,1])\n",
    "np.std (np_city[:,0])"
   ]
  },
  {
   "cell_type": "markdown",
   "metadata": {
    "id": "GYhN3T7MTXpj"
   },
   "source": [
    "- The main difference over numpy and basic calculations (such as sum(), sort() etc.) is that numpy drastically reduces time analysis"
   ]
  },
  {
   "cell_type": "code",
   "execution_count": null,
   "metadata": {
    "id": "On66EzdsToKY"
   },
   "outputs": [],
   "source": [
    "#number generation\n",
    "height = np.round(np.random.normal(1.75, 0.20, 5000), 2)\n",
    "weight = np.round(np.random.normal(60.32, 15, 5000), 2)\n",
    "\n",
    "#paste together\n",
    "np_city = np.column_stack((height, weight))"
   ]
  },
  {
   "cell_type": "markdown",
   "metadata": {
    "id": "EEIA28PBZSWN"
   },
   "source": [
    "# INTERMEDIATE PYTHON\n",
    "Professor Hugo Bowne-Anderson"
   ]
  },
  {
   "cell_type": "markdown",
   "metadata": {
    "id": "UMFTRsiWbdF8"
   },
   "source": [
    "## Matplotlib"
   ]
  },
  {
   "cell_type": "markdown",
   "metadata": {
    "id": "ayYbelXpblnQ"
   },
   "source": [
    "- Data viz important for data analysis: explore data and report insights\n",
    "- Matplotlib Mother of data visualization\n"
   ]
  },
  {
   "cell_type": "code",
   "execution_count": null,
   "metadata": {
    "colab": {
     "base_uri": "https://localhost:8080/",
     "height": 264
    },
    "id": "pqdvaCbdbb4n",
    "outputId": "5ff225cc-bbe3-40f1-9a2b-c44c2a3c8dd3"
   },
   "outputs": [
    {
     "data": {
      "image/png": "[encoded data removed]",
      "text/plain": [
       "<Figure size 432x288 with 1 Axes>"
      ]
     },
     "metadata": {
      "needs_background": "light",
      "tags": []
     },
     "output_type": "display_data"
    }
   ],
   "source": [
    "import matplotlib.pyplot as plt\n",
    "year = [1950, 1970, 1990, 2010]\n",
    "pop = [2.519, 3.692, 5.263, 6.972]\n",
    "\n",
    "#LINE PLOT - used specially when there is a time scale over the horizontal axis\n",
    "plt.plot(year,pop) #what and how\n",
    "plt.show() #DISPLAY: we have to use the show because it is possible to customize the plot with different attributes"
   ]
  },
  {
   "cell_type": "markdown",
   "metadata": {
    "id": "VSlMI8cZbbwu"
   },
   "source": [
    "- Scatter plot is easier to understand the data (only 4 points, no line)"
   ]
  },
  {
   "cell_type": "code",
   "execution_count": null,
   "metadata": {
    "colab": {
     "base_uri": "https://localhost:8080/",
     "height": 264
    },
    "id": "c6SLvJfUbbqo",
    "outputId": "2e535151-38b9-469c-ce6f-fac5745287df"
   },
   "outputs": [
    {
     "data": {
      "image/png": "[encoded data removed]",
      "text/plain": [
       "<Figure size 432x288 with 1 Axes>"
      ]
     },
     "metadata": {
      "needs_background": "light",
      "tags": []
     },
     "output_type": "display_data"
    }
   ],
   "source": [
    "#SCATTER PLOT - better to see if there is a correlation\n",
    "import matplotlib.pyplot as plt\n",
    "year = [1950, 1970, 1990, 2010]\n",
    "pop = [2.519, 3.692, 5.263, 6.972]\n",
    "\n",
    "#scatter plot\n",
    "plt.scatter(year,pop) #what and how\n",
    "\n",
    "#it is possible to change the xscale with the command\n",
    "plt.xscale(log)\n",
    "\n",
    "#plot the graph\n",
    "plt.show()"
   ]
  },
  {
   "cell_type": "markdown",
   "metadata": {
    "id": "64aWCG51bbkc"
   },
   "source": [
    "- Histogram\n",
    "  - explore dataset\n",
    "  - get idea about distribution\n",
    "  - overall picture\n",
    "- Population pyramid is an exampple\n"
   ]
  },
  {
   "cell_type": "code",
   "execution_count": null,
   "metadata": {
    "id": "VPOwGrQVbbeZ"
   },
   "outputs": [],
   "source": [
    "import matplotlib.pyplot as plt\n",
    "help (plt.hist)\n",
    "# x = dataset\n",
    "# bins = 10 - how many to divide (10 by default)\n",
    "values = [1, 2, 3, 4, 5]\n",
    "plt.hist (values, bins = 3) # values divided in 3 bins\n",
    "plt.show()\n",
    "\n",
    "plt.clf() #cleans up the graph"
   ]
  },
  {
   "cell_type": "markdown",
   "metadata": {
    "id": "FDik3iknbbWT"
   },
   "source": [
    "- Customization - depends on:\n",
    "  - Data\n",
    "  - Story to tell\n"
   ]
  },
  {
   "cell_type": "code",
   "execution_count": null,
   "metadata": {
    "colab": {
     "base_uri": "https://localhost:8080/",
     "height": 297
    },
    "id": "spean3q_ygwy",
    "outputId": "de83067a-c4f7-4d75-8a0d-e6dfcc961a17"
   },
   "outputs": [
    {
     "data": {
      "image/png": "[encoded data removed]",
      "text/plain": [
       "<Figure size 432x288 with 1 Axes>"
      ]
     },
     "metadata": {
      "needs_background": "light",
      "tags": []
     },
     "output_type": "display_data"
    }
   ],
   "source": [
    "#library\n",
    "import matplotlib.pyplot as plt\n",
    "\n",
    "#data\n",
    "year = [1950, 1970, 1990, 2010]\n",
    "pop = [2.519, 3.692, 5.263, 6.972]\n",
    "\n",
    "#change scale\n",
    "plt.xscale('log')\n",
    "\n",
    "#plot the graph\n",
    "plt.plot(year, pop)\n",
    "\n",
    "#label axis and title\n",
    "plt.xlabel('Year')\n",
    "plt.ylabel('Population')\n",
    "plt.title('World Population Projections')\n",
    "\n",
    "#change perspective - second list is the name of the label \n",
    "plt.yticks ([0, 2, 4, 6, 8, 10],\n",
    "            ['0','2B','4B','6B','8B','10B'])\n",
    "\n",
    "#call the graph\n",
    "plt.show()"
   ]
  },
  {
   "cell_type": "code",
   "execution_count": null,
   "metadata": {
    "id": "FcyWocqE4HDH"
   },
   "outputs": [],
   "source": [
    "#another full example\n",
    "\n",
    "#set up size with s\n",
    "#set up circle colors with c=col (and dictionaires)\n",
    "#set up opacity (alpha can be from 0 - transparent to 1 - nothing transparent)\n",
    "plt.scatter(x = gdp_cap, y = life_exp, s = np.array(pop) * 2, c=col, \n",
    "            alpha = 0.8)\n",
    "\n",
    "# Other customizations\n",
    "\n",
    "#change scale\n",
    "plt.xscale('log')\n",
    "\n",
    "#change scale and title\n",
    "plt.xlabel('GDP per Capita [in USD]')\n",
    "plt.ylabel('Life Expectancy [in years]')\n",
    "plt.title('World Development in 2007')\n",
    "\n",
    "#change label ticks\n",
    "plt.xticks([1000,10000,100000], ['1k','10k','100k'])\n",
    "\n",
    "#add specific text\n",
    "plt.text(1550, 71, 'India')\n",
    "plt.text(5700, 80, 'China')\n",
    "\n",
    "#add grid\n",
    "plt.grid(True)\n",
    "\n",
    "# Show the plot\n",
    "plt.show()"
   ]
  },
  {
   "cell_type": "markdown",
   "metadata": {
    "id": "ejEwWbumbtzN"
   },
   "source": [
    "## Dictionaries & Pandas"
   ]
  },
  {
   "cell_type": "markdown",
   "metadata": {
    "id": "lNDFFZtUb_An"
   },
   "source": [
    "### Dictionaries"
   ]
  },
  {
   "cell_type": "markdown",
   "metadata": {
    "id": "daIlPBCgbiJ-"
   },
   "source": [
    "- Python type that connects attributes and variables\n",
    "  - The keys are the first term\n",
    "  - Values returned are the second term\n"
   ]
  },
  {
   "cell_type": "code",
   "execution_count": null,
   "metadata": {
    "colab": {
     "base_uri": "https://localhost:8080/"
    },
    "id": "vNhusSgvbsGV",
    "outputId": "02983ae4-5874-42ba-aad1-2c6fa0daa886"
   },
   "outputs": [
    {
     "data": {
      "text/plain": [
       "<function dict.keys>"
      ]
     },
     "execution_count": 1,
     "metadata": {
      "tags": []
     },
     "output_type": "execute_result"
    }
   ],
   "source": [
    "#one type to obtain a value related to a list is using list concepts\n",
    "pop = [31, 3, 39]\n",
    "countries = [\"afghanistan\", \"albania\", \"algeria\"]\n",
    "index_albania = countries.index(\"albania\")\n",
    "index_albania\n",
    "pop[index_albania]\n",
    "\n",
    "#using dictionaries\n",
    "world = {\"afghanistan\": 31, \"albania\": 3, \"algeria\": 39}\n",
    "world[\"albania\"]\n",
    "\n",
    "#obtain dictionary keys\n",
    "world.keys #return all keys"
   ]
  },
  {
   "cell_type": "markdown",
   "metadata": {
    "id": "NoihksXRemkm"
   },
   "source": [
    "- Keys are considered immutable objects. Can not be changed after created\n",
    "- To be valid, can not have a list attributed to values\n"
   ]
  },
  {
   "cell_type": "code",
   "execution_count": null,
   "metadata": {
    "id": "95TdKzTDemf3"
   },
   "outputs": [],
   "source": [
    "#possible to create a dictionary of dictionaries\n",
    "europe = { 'spain': { 'capital':'madrid', 'population':46.77 },\n",
    "           'france': { 'capital':'paris', 'population':66.03 }}\n",
    "data = {\"capital\": \"rome\", \"population\": 59.83}\n",
    "\n",
    "#add another element\n",
    "world [\"sealand\"] = 0.000027\n",
    "europe[\"italy\"] = data\n",
    "\n",
    "#verify if an element is inside a dictionary:\n",
    "\"sealand\" in world #will return True\n",
    "\n",
    "#it is possible to change the existing one, updating it:\n",
    "world [\"sealand\"] = 0.000027\n",
    "\n",
    "#to delete from a dictionary\n",
    "del(world[\"sealand\"])"
   ]
  },
  {
   "cell_type": "markdown",
   "metadata": {
    "id": "bKky1D0Cfg0r"
   },
   "source": [
    "- List vs dictionary\n",
    "  - Both: possible to use the commands to select, update and remove, with []\n",
    "  - Index\n",
    "    - List: sequence o values - indexed by range of numbers\n",
    "    - Dic: indexed by unique values\n",
    "  - When to use\n",
    "    - List: collection of values order matters or to select entire subsets\n",
    "    - Dic: lookup table with unique keys\n"
   ]
  },
  {
   "cell_type": "markdown",
   "metadata": {
    "id": "z35zW-796A8g"
   },
   "source": [
    "### Pandas"
   ]
  },
  {
   "cell_type": "markdown",
   "metadata": {
    "id": "nU9i0KkWjXyI"
   },
   "source": [
    "- High level data manipulation tools\n",
    "- Unlike numpy, it works with different types of data (str, float etc.)\n",
    "- It is built on numpy (more high level than numpy)\n",
    "- Creates DataFrame\n"
   ]
  },
  {
   "cell_type": "code",
   "execution_count": null,
   "metadata": {},
   "outputs": [],
   "source": [
    "import pandas as pd\n",
    "#one way to create a dataframe is to set up the dictionary\n",
    "dict = {\"country\":[\"Brazil\", \"Russia\", \"India\", \"China\", \"South Africa\"],\n",
    "        \"capital\":[\"Brasilia\", \"Moscow\", \"New Delhi\", \"Beijing\", \"Pretoria\"],\n",
    "        \"area\":[8.516, 17.10, 3.286, 9.597, 1.221],\n",
    "        \"population\":[200.4, 143.5, 1252, 1357, 52.98]}\n",
    "brics = pd.DataFrame(dict)\n",
    "brics.index = [\"BR\", \"RU\", \"IN\", \"CH\", \"SA\"]\n",
    "brics\n",
    "\n",
    "#another way is to import a csv file (comma, separeted values)\n",
    "brics = pd.read_csv (\"path/to/btics.csv\", index_col = 0) #without the index_col, it will create a new index column\n",
    "brics"
   ]
  },
  {
   "cell_type": "markdown",
   "metadata": {
    "id": "EYWE7EqIjW8w"
   },
   "source": [
    "Indexes and select data with pandas:\n",
    "- Normally, it is possible to use brackets to create subsets and identify its types"
   ]
  },
  {
   "cell_type": "code",
   "execution_count": null,
   "metadata": {
    "id": "aWbn5wlZIzBM"
   },
   "outputs": [],
   "source": [
    "#one pair of brackets to obtain a simple column\n",
    "type(brics[\"country\"]) #output is a pandas serie\n",
    "\n",
    "#two pairs of brackets\n",
    "type(brics[[\"country\"]]) #output is a dataframe\n",
    "\n",
    "#subsetting with columns\n",
    "brics[[\"country\", \"capital\"]]\n",
    "\n",
    "#subsetting rows (rows 2, 3 and 4)\n",
    "brics [1:4]"
   ]
  },
  {
   "cell_type": "markdown",
   "metadata": {
    "id": "kmKfwQ8CKOuz"
   },
   "source": [
    "This way is nor the most practical one, as we want something similar to Numpy arrays, with my_array[rows, columns]. There are two functions that can be used:\n",
    "- loc (label-based)\n",
    "  - technique to obtain data based on label\n",
    "  - enables to obtain rows and columns at the same time\n",
    "- iloc (integer position based)\n",
    "  - technique to obtain data based on position"
   ]
  },
  {
   "cell_type": "code",
   "execution_count": null,
   "metadata": {
    "id": "IdMxrC_qKPS4"
   },
   "outputs": [],
   "source": [
    "#creating the pandas dataframe\n",
    "dict = {\"country\":[\"Brazil\", \"Russia\", \"India\", \"China\", \"South Africa\"],\n",
    "        \"capital\":[\"Brasilia\", \"Moscow\", \"New Delhi\", \"Beijing\", \"Pretoria\"],\n",
    "        \"area\":[8.516, 17.10, 3.286, 9.597, 1.221],\n",
    "        \"population\":[200.4, 143.5, 1252, 1357, 52.98]}\n",
    "brics = pd.DataFrame(dict)\n",
    "brics.index = [\"BR\", \"RU\", \"IN\", \"CH\", \"SA\"]\n",
    "\n",
    "#obtain all data from a row - ONE BRACKET\n",
    "brics.loc[\"RU\"] #returns a serie?\n",
    "\n",
    "#to obtain the data.frame - TWO BRACKETS\n",
    "brics.loc[[\"RU\"]]\n",
    "brics.iloc[[1]]\n",
    "\n",
    "#to obtain the data.frame from different columns\n",
    "brics.loc[[\"RU\", \"IN\", \"CH\"]]\n",
    "brics.iloc[[1, 2, 3]]\n",
    "\n",
    "#to obtain the data.frame from different columns and rows\n",
    "brics.loc[[\"RU\", \"IN\", \"CH\"], [\"country\", \"capital\"]]\n",
    "brics.iloc[[1,2,3], [0,1]]\n",
    "\n",
    "#subset with all rows, but just some columns\n",
    "brics.loc[:, [\"country\", \"capital\"]]\n",
    "brics.iloc[:, [0,1]]"
   ]
  },
  {
   "cell_type": "markdown",
   "metadata": {
    "id": "b52-MsFCbtva"
   },
   "source": [
    "## Logic, Control Flow and Filtering"
   ]
  },
  {
   "cell_type": "markdown",
   "metadata": {
    "id": "ruSUDiDib_av"
   },
   "source": [
    "- Comparison operators\n",
    "  - Can tell how python values relate, resulting into boolean\n",
    "  - <, ==, <=, != (innequality)\n",
    "  - Alphabetically: \"carl\" < \"chris\" is True (compare the order)\n",
    "  - list > 23 (returns a list of Trues and Falses)\n",
    "\n",
    "- Operators\n",
    "  - And\n",
    "    - True and True = True\n",
    "    - False and True = False\n",
    "    - True and False = False\n",
    "    - False and False = False\n",
    "  - Or\n",
    "    - True or True = True\n",
    "    - False or True = True\n",
    "    - True or False = True\n",
    "    - False or False = False\n",
    "  - Not\n",
    "    - not True = False\n",
    "    - not False = True\n",
    "\n",
    "- Entretanto, ao se usar alguns em uma string, não existe resultado, mas o numpy consegue performar os conectivos lógicos\n",
    "- Numpy\n",
    "  - logical_and()\n",
    "  - logical_or()\n",
    "  - logical_not()"
   ]
  },
  {
   "cell_type": "code",
   "execution_count": null,
   "metadata": {
    "colab": {
     "base_uri": "https://localhost:8080/"
    },
    "id": "HTFewszCbNw0",
    "outputId": "8307b942-cd1f-4f3e-b433-25002d5ecd16"
   },
   "outputs": [
    {
     "data": {
      "text/plain": [
       "array([ True, False,  True, False,  True])"
      ]
     },
     "execution_count": 14,
     "metadata": {
      "tags": []
     },
     "output_type": "execute_result"
    }
   ],
   "source": [
    "#dataframe creation\n",
    "import numpy as np\n",
    "np_height = np.array([1.73, 1.68, 1.71, 1.89, 1.79])\n",
    "np_weight = np.array([65.4, 59.2, 63.6, 88.4, 68.7])\n",
    "bmi = np_weight / np_height ** 2\n",
    "bmi\n",
    "\n",
    "#teste com conectivo\n",
    "np.logical_and(bmi>21, bmi <22)\n",
    "\n",
    "#output with True values\n",
    "bmi[np.logical_and(bmi>21, bmi<22)]"
   ]
  },
  {
   "cell_type": "markdown",
   "metadata": {
    "id": "7T9DnAQjbOQ2"
   },
   "source": [
    "- If, elif and else"
   ]
  },
  {
   "cell_type": "code",
   "execution_count": null,
   "metadata": {
    "colab": {
     "base_uri": "https://localhost:8080/"
    },
    "id": "dY1w_8-0bNbM",
    "outputId": "5e647094-b3c1-42e9-83f3-75bae727c382"
   },
   "outputs": [
    {
     "name": "stdout",
     "output_type": "stream",
     "text": [
      "z is divisible by 2\n"
     ]
    }
   ],
   "source": [
    "z = 6\n",
    "if z % 2 == 0 :\n",
    "  print(\"z is divisible by 2\") # False\n",
    "elif z % 3 == 0 :\n",
    "  print(\"z is divisible by 3\") # never reached\n",
    "else :\n",
    "  print(\"z is neither divisible by 2 nor by 3\")"
   ]
  },
  {
   "cell_type": "markdown",
   "metadata": {
    "id": "H-S-nIxbuh5I"
   },
   "source": [
    "Filtering Pandas DataFrames (subsetting/slicing list)"
   ]
  },
  {
   "cell_type": "code",
   "execution_count": null,
   "metadata": {
    "colab": {
     "base_uri": "https://localhost:8080/",
     "height": 111
    },
    "id": "zRsRJqrBuhyM",
    "outputId": "d8814af3-0c1e-4c32-c3aa-1a32ea7be0d1"
   },
   "outputs": [
    {
     "data": {
      "text/html": [
       "<div>\n",
       "<style scoped>\n",
       "    .dataframe tbody tr th:only-of-type {\n",
       "        vertical-align: middle;\n",
       "    }\n",
       "\n",
       "    .dataframe tbody tr th {\n",
       "        vertical-align: top;\n",
       "    }\n",
       "\n",
       "    .dataframe thead th {\n",
       "        text-align: right;\n",
       "    }\n",
       "</style>\n",
       "<table border=\"1\" class=\"dataframe\">\n",
       "  <thead>\n",
       "    <tr style=\"text-align: right;\">\n",
       "      <th></th>\n",
       "      <th>country</th>\n",
       "      <th>capital</th>\n",
       "      <th>area</th>\n",
       "      <th>population</th>\n",
       "    </tr>\n",
       "  </thead>\n",
       "  <tbody>\n",
       "    <tr>\n",
       "      <th>0</th>\n",
       "      <td>Brazil</td>\n",
       "      <td>Brasilia</td>\n",
       "      <td>8.516</td>\n",
       "      <td>200.4</td>\n",
       "    </tr>\n",
       "    <tr>\n",
       "      <th>3</th>\n",
       "      <td>China</td>\n",
       "      <td>Beijing</td>\n",
       "      <td>9.597</td>\n",
       "      <td>1357.0</td>\n",
       "    </tr>\n",
       "  </tbody>\n",
       "</table>\n",
       "</div>"
      ],
      "text/plain": [
       "  country   capital   area  population\n",
       "0  Brazil  Brasilia  8.516       200.4\n",
       "3   China   Beijing  9.597      1357.0"
      ]
     },
     "execution_count": 14,
     "metadata": {
      "tags": []
     },
     "output_type": "execute_result"
    }
   ],
   "source": [
    "import pandas as pd\n",
    "#using the brics dataframe\n",
    "dict = {\"country\":[\"Brazil\", \"Russia\", \"India\", \"China\", \"South Africa\"],\n",
    "        \"capital\":[\"Brasilia\", \"Moscow\", \"New Delhi\", \"Beijing\", \"Pretoria\"],\n",
    "        \"area\":[8.516, 17.10, 3.286, 9.597, 1.221],\n",
    "        \"population\":[200.4, 143.5, 1252, 1357, 52.98]}\n",
    "brics = pd.DataFrame(dict)\n",
    "\n",
    "#subset countries with area more than 8\n",
    "is_huge = brics[\"area\"] > 8\n",
    "brics[is_huge]\n",
    "#another and simple way\n",
    "brics[brics[\"area\"]>8]\n",
    "\n",
    "#better and more complete way, using numpy\n",
    "import numpy as np\n",
    "np.logical_and(brics[\"area\"] > 8, brics[\"area\"] < 10) #will return a False and True serie\n",
    "\n",
    "brics[np.logical_and(brics[\"area\"] > 8, brics[\"area\"] < 10)] #will return the dataframe\n"
   ]
  },
  {
   "cell_type": "code",
   "execution_count": null,
   "metadata": {
    "id": "Tvjcm6ns39yv"
   },
   "outputs": [],
   "source": [
    "#another example\n",
    "import numpy as np\n",
    "\n",
    "#in summary, this is how we can subset list\n",
    "cpc = cars[\"cars_per_cap\"] #subset the column\n",
    "many_cars = cpc>500 #identify the parameter\n",
    "car_maniac = cars[many_cars] #subset with parameter\n",
    "\n",
    "#in a nutshell\n",
    "medium = cars[np.logical_and(cars[\"cars_per_cap\"]>100,cars[\"cars_per_cap\"]<500)]"
   ]
  },
  {
   "cell_type": "markdown",
   "metadata": {
    "id": "1mUzFsXobtoW"
   },
   "source": [
    "## Loops"
   ]
  },
  {
   "cell_type": "markdown",
   "metadata": {
    "id": "MQGYeFZFsM9f"
   },
   "source": [
    "### Basic loops"
   ]
  },
  {
   "cell_type": "markdown",
   "metadata": {
    "id": "RM56Bl-u4oms"
   },
   "source": [
    "- While repeates the code over and over, until a condition is reached\n",
    "- For loop:\n",
    "  - for var in seq\n",
    "  - expression"
   ]
  },
  {
   "cell_type": "code",
   "execution_count": null,
   "metadata": {
    "colab": {
     "base_uri": "https://localhost:8080/"
    },
    "id": "PmtEvDwY4nra",
    "outputId": "ecd17b28-4ded-48a7-a795-807cf467f3ed"
   },
   "outputs": [
    {
     "name": "stdout",
     "output_type": "stream",
     "text": [
      "index 1: 1.73\n",
      "index 2: 1.68\n",
      "index 3: 1.71\n",
      "index 4: 1.89\n"
     ]
    }
   ],
   "source": [
    "#for 1D lists\n",
    "fam = [1.73, 1.68, 1.71, 1.89]\n",
    "for index, height in enumerate(fam, start = 1) :\n",
    "  print(\"index \" + str(index) + \": \" + str(height))\n",
    "\n",
    "#for 2D lists\n",
    "house = [[\"hallway\", 11.25], \n",
    "         [\"kitchen\", 18.0], \n",
    "         [\"living room\", 20.0], \n",
    "         [\"bedroom\", 10.75], \n",
    "         [\"bathroom\", 9.50]]\n",
    "             \n",
    "for i in house:\n",
    "    print (\"the \" + str(i[0]) + \" is \" + str(i[1]) + \" sqm\")\n",
    "\n",
    "#for strings:\n",
    "for c in \"family\" :\n",
    "  print(c.capitalize())"
   ]
  },
  {
   "cell_type": "markdown",
   "metadata": {
    "id": "SnV6DJRNcAfR"
   },
   "source": [
    "### Loop Data Structure for Dictionaries and Numpy arrays"
   ]
  },
  {
   "cell_type": "markdown",
   "metadata": {
    "id": "ocGFegaKj0c8"
   },
   "source": [
    "For dictionaires, we must use a method"
   ]
  },
  {
   "cell_type": "code",
   "execution_count": null,
   "metadata": {
    "colab": {
     "base_uri": "https://localhost:8080/"
    },
    "id": "8DKhxMxEgpPa",
    "outputId": "0fe54b63-20fc-4181-acfe-aa7ecd6d7300"
   },
   "outputs": [
    {
     "name": "stdout",
     "output_type": "stream",
     "text": [
      "afghanistan--30.55\n",
      "albania--2.77\n",
      "algeria--39.21\n"
     ]
    }
   ],
   "source": [
    "#we have to use the .item method to make it work\n",
    "world = { \"afghanistan\":30.55,\n",
    "          \"albania\":2.77,\n",
    "          \"algeria\":39.21 }\n",
    "\n",
    "#key receives key value and values, the value (could be other)\n",
    "for key, value in world.items() :\n",
    "  print(key + \"--\" + str(value))\n",
    "\n"
   ]
  },
  {
   "cell_type": "markdown",
   "metadata": {
    "id": "pNkPR9hjj5d6"
   },
   "source": [
    "For numpy arrays, we must use a function"
   ]
  },
  {
   "cell_type": "code",
   "execution_count": null,
   "metadata": {
    "colab": {
     "base_uri": "https://localhost:8080/"
    },
    "id": "bVFvnw9siSOh",
    "outputId": "f0cd3e83-cad3-4270-f582-16f46a18601f"
   },
   "outputs": [
    {
     "name": "stdout",
     "output_type": "stream",
     "text": [
      "[1.73 1.68 1.71 1.89 1.79]\n",
      "[65.4 59.2 63.6 88.4 68.7]\n"
     ]
    }
   ],
   "source": [
    "#to show an array, one at a time\n",
    "import numpy as np\n",
    "np_height = np.array([1.73, 1.68, 1.71, 1.89, 1.79])\n",
    "np_weight = np.array([65.4, 59.2, 63.6, 88.4, 68.7])\n",
    "meas = np.array([np_height, np_weight])\n",
    "for val in meas :\n",
    "  print(val)"
   ]
  },
  {
   "cell_type": "code",
   "execution_count": null,
   "metadata": {
    "colab": {
     "base_uri": "https://localhost:8080/"
    },
    "id": "Kp_Ipg3JjfaH",
    "outputId": "0c8e29d6-2aff-4b53-b343-229490d0232b"
   },
   "outputs": [
    {
     "name": "stdout",
     "output_type": "stream",
     "text": [
      "1.73\n",
      "1.68\n",
      "1.71\n",
      "1.89\n",
      "1.79\n",
      "65.4\n",
      "59.2\n",
      "63.6\n",
      "88.4\n",
      "68.7\n"
     ]
    }
   ],
   "source": [
    "#show for each cell\n",
    "import numpy as np\n",
    "np_height = np.array([1.73, 1.68, 1.71, 1.89, 1.79])\n",
    "np_weight = np.array([65.4, 59.2, 63.6, 88.4, 68.7])\n",
    "meas = np.array([np_height, np_weight])\n",
    "for val in np.nditer(meas) : #it uses a function\n",
    "  print(val)"
   ]
  },
  {
   "cell_type": "markdown",
   "metadata": {
    "id": "OiFwgNO6sZxR"
   },
   "source": [
    "### Loop Data Structure for pandas dataframe"
   ]
  },
  {
   "cell_type": "code",
   "execution_count": null,
   "metadata": {
    "colab": {
     "base_uri": "https://localhost:8080/"
    },
    "id": "VMzJC9qxsd2m",
    "outputId": "f8e382cd-f755-4e01-f869-2501910e0c24"
   },
   "outputs": [
    {
     "name": "stdout",
     "output_type": "stream",
     "text": [
      "        country    capital    area  population  name_length\n",
      "0        Brazil   Brasilia   8.516      200.40            6\n",
      "1        Russia     Moscow  17.100      143.50            6\n",
      "2         India  New Delhi   3.286     1252.00            5\n",
      "3         China    Beijing   9.597     1357.00            5\n",
      "4  South Africa   Pretoria   1.221       52.98           12\n"
     ]
    }
   ],
   "source": [
    "import pandas as pd\n",
    "#using the brics dataframe\n",
    "dict = {\"country\":[\"Brazil\", \"Russia\", \"India\", \"China\", \"South Africa\"],\n",
    "        \"capital\":[\"Brasilia\", \"Moscow\", \"New Delhi\", \"Beijing\", \"Pretoria\"],\n",
    "        \"area\":[8.516, 17.10, 3.286, 9.597, 1.221],\n",
    "        \"population\":[200.4, 143.5, 1252, 1357, 52.98]}\n",
    "brics = pd.DataFrame(dict)\n",
    "\n",
    "#provides only column names\n",
    "for val in brics :\n",
    "  print(val)\n",
    "\n",
    "#iterrows provides the name of the row (label) and the row\n",
    "for lab, row in brics.iterrows():\n",
    "  print(lab)\n",
    "  print(row)\n",
    "\n",
    "#selective print\n",
    "for lab, row in brics.iterrows():\n",
    "  print(str(lab) + \": \" + row[\"capital\"])\n",
    "\n",
    "#all column in iteration (it will work for small dataset)\n",
    "for lab, row in brics.iterrows() :\n",
    "# - Creating Series on every iteration with loc\n",
    "  brics.loc[lab, \"name_length\"] = len(row[\"country\"])\n",
    "print(brics)\n",
    "\n",
    "# apply function (more efficient)\n",
    "import pandas as pd\n",
    "#brics = pd.read_csv(\"brics.csv\", index_col = 0)\n",
    "brics[\"name_length\"] = brics[\"country\"].apply(len)\n",
    "print(brics)\n",
    "\n",
    "#applyfunction to uppercase a column"
   ]
  },
  {
   "cell_type": "markdown",
   "metadata": {
    "id": "bd-FVnybb6D9"
   },
   "source": [
    "## Case Study: Hacker Statistics"
   ]
  },
  {
   "cell_type": "markdown",
   "metadata": {
    "id": "dwunw1nicAIE"
   },
   "source": [
    "### Random Numbers and Random Walk"
   ]
  },
  {
   "cell_type": "markdown",
   "metadata": {
    "id": "b2DQZEk4jb-b"
   },
   "source": [
    "- Throw a dice is considered a random step, and a succession of random step creates a random walk (sequence of only random numbers does not create a random walk. Random walks has the premisse that they have a sequence to take into account)"
   ]
  },
  {
   "cell_type": "code",
   "execution_count": null,
   "metadata": {
    "id": "zsnwXgEaiKNf"
   },
   "outputs": [],
   "source": [
    "import numpy as np\n",
    "\n",
    "#set seed\n",
    "np.random.seed(123) #ensures \"reproducibility\"\n",
    "\n",
    "#pseudo-random numbers - random, but consistent between runs\n",
    "np.random.rand() #random flot betwwen 0 and 1\n",
    "np.random.randint(0,2) #generates integer between 0 and 1\n",
    "\n",
    "#example of bunch of random steps\n",
    "import numpy as np\n",
    "np.random.seed(123)\n",
    "outcomes = []\n",
    "for x in range(10) :\n",
    "  coin = np.random.randint(0, 2)\n",
    "  if coin == 0 :\n",
    "    outcomes.append(\"heads\")\n",
    "  else :\n",
    "    outcomes.append(\"tails\")\n",
    "print(outcomes)\n",
    "\n",
    "#example of random walk\n",
    "import numpy as np\n",
    "np.random.seed(123)\n",
    "tails = [0]\n",
    "for x in range(10) :\n",
    "  coin = np.random.randint(0, 2)\n",
    "  tails.append(tails[x] + coin)\n",
    "print(tails)\n",
    "\n",
    "#it is possible to use the max function to ensure a new constraint over the problem\n",
    "#it is also possible to print the random walk\n",
    "#preparation\n",
    "import numpy as np\n",
    "import matplotlib.pyplot as plt\n",
    "# Initialization\n",
    "random_walk = [0]\n",
    "for x in range(100) :\n",
    "    step = random_walk[-1]\n",
    "    dice = np.random.randint(1,7)\n",
    "\n",
    "    if dice <= 2:\n",
    "        step = max(0, step - 1)\n",
    "    elif dice <= 5:\n",
    "        step = step + 1\n",
    "    else:\n",
    "        step = step + np.random.randint(1,7)\n",
    "    random_walk.append(step)\n",
    "# Plot random_walk\n",
    "plt.plot(random_walk)\n",
    "# Show the plot\n",
    "plt.show()"
   ]
  },
  {
   "cell_type": "markdown",
   "metadata": {
    "id": "QvnkdcOqiKiS"
   },
   "source": [
    "### Distributions "
   ]
  },
  {
   "cell_type": "markdown",
   "metadata": {
    "id": "pZQa_863USCz"
   },
   "source": [
    "With distribution, it is possible to calculate chances"
   ]
  },
  {
   "cell_type": "code",
   "execution_count": null,
   "metadata": {
    "colab": {
     "base_uri": "https://localhost:8080/",
     "height": 265
    },
    "id": "ffh3TvAHiKxH",
    "outputId": "ed45becf-0be3-4247-82c5-8743dbdf97d0"
   },
   "outputs": [
    {
     "data": {
      "image/png": "[encoded data removed]",
      "text/plain": [
       "<Figure size 432x288 with 1 Axes>"
      ]
     },
     "metadata": {
      "needs_background": "light",
      "tags": []
     },
     "output_type": "display_data"
    }
   ],
   "source": [
    "import numpy as np\n",
    "import matplotlib.pyplot as plt\n",
    "np.random.seed(123)\n",
    "final_tails = [] #vector that contain final value\n",
    "for x in range(10000) : #run 10000 simulations\n",
    "  tails = [0] #\n",
    "  for x in range(10) : #run 10 simulations\n",
    "    coin = np.random.randint(0, 2)\n",
    "    tails.append(tails[x] + coin)\n",
    "  final_tails.append(tails[-1]) #append last tail of the simulation\n",
    "plt.hist(final_tails, bins = 10)\n",
    "plt.show()"
   ]
  },
  {
   "cell_type": "code",
   "execution_count": null,
   "metadata": {
    "id": "n577t5NmZo-5"
   },
   "outputs": [],
   "source": [
    "#simulação com 10 listas de 100 números e plot da ordem delas\n",
    "\n",
    "#import libraries\n",
    "import numpy as np\n",
    "import matplotlib.pyplot as plt\n",
    "np.random.seed(123)\n",
    "\n",
    "# initialize and populate all_walks\n",
    "all_walks = []\n",
    "for i in range(10) :\n",
    "    random_walk = [0]\n",
    "    for x in range(100) :\n",
    "        step = random_walk[-1]\n",
    "        dice = np.random.randint(1,7)\n",
    "        if dice <= 2:\n",
    "            step = max(0, step - 1)\n",
    "        elif dice <= 5:\n",
    "            step = step + 1\n",
    "        else:\n",
    "            step = step + np.random.randint(1,7)\n",
    "        random_walk.append(step)\n",
    "    all_walks.append(random_walk)\n",
    "\n",
    "# Convert all_walks to Numpy array: np_aw\n",
    "np_aw = np.array(all_walks)\n",
    "\n",
    "# Plot np_aw and show\n",
    "plt.plot(np_aw)\n",
    "plt.show()\n",
    "# Clear the figure\n",
    "plt.clf()\n",
    "\n",
    "# Transpose np_aw: np_aw_t\n",
    "np_aw_t = np.transpose(np_aw)\n",
    "\n",
    "# Plot np_aw_t and show\n",
    "plt.plot(np_aw_t)\n",
    "plt.show()"
   ]
  }
 ],
 "metadata": {
  "colab": {
   "name": "[DC] Data Science Career",
   "provenance": [],
   "toc_visible": true
  },
  "hide_input": false,
  "kernelspec": {
   "display_name": "Python 3 (ipykernel)",
   "language": "python",
   "name": "python3"
  },
  "language_info": {
   "codemirror_mode": {
    "name": "ipython",
    "version": 3
   },
   "file_extension": ".py",
   "mimetype": "text/x-python",
   "name": "python",
   "nbconvert_exporter": "python",
   "pygments_lexer": "ipython3",
   "version": "3.10.0"
  },
  "toc": {
   "base_numbering": 1,
   "nav_menu": {},
   "number_sections": true,
   "sideBar": true,
   "skip_h1_title": false,
   "title_cell": "Table of Contents",
   "title_sidebar": "Contents",
   "toc_cell": false,
   "toc_position": {
    "height": "calc(100% - 180px)",
    "left": "10px",
    "top": "150px",
    "width": "426.656px"
   },
   "toc_section_display": true,
   "toc_window_display": true
  },
  "varInspector": {
   "cols": {
    "lenName": 16,
    "lenType": 16,
    "lenVar": 40
   },
   "kernels_config": {
    "python": {
     "delete_cmd_postfix": "",
     "delete_cmd_prefix": "del ",
     "library": "var_list.py",
     "varRefreshCmd": "print(var_dic_list())"
    },
    "r": {
     "delete_cmd_postfix": ") ",
     "delete_cmd_prefix": "rm(",
     "library": "var_list.r",
     "varRefreshCmd": "cat(var_dic_list()) "
    }
   },
   "types_to_exclude": [
    "module",
    "function",
    "builtin_function_or_method",
    "instance",
    "_Feature"
   ],
   "window_display": false
  }
 },
 "nbformat": 4,
 "nbformat_minor": 1
}
