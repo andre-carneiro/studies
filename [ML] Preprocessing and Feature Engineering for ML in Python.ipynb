{
 "cells": [
  {
   "cell_type": "markdown",
   "id": "0789ace8",
   "metadata": {},
   "source": [
    "#  Preprocessing for Machine Learning in Python\n",
    "Sarah Guido"
   ]
  },
  {
   "cell_type": "markdown",
   "id": "8a6d6453",
   "metadata": {},
   "source": [
    "## Introduction to Data Preprocessing "
   ]
  },
  {
   "cell_type": "markdown",
   "id": "b7bad30a",
   "metadata": {},
   "source": [
    "### What is data preprocessing "
   ]
  },
  {
   "cell_type": "markdown",
   "id": "a9fb70d8",
   "metadata": {},
   "source": [
    "What is data preprocessing?\n",
    "- Beyond cleaning and exploratory data analysis\n",
    "- Prepping data for modeling\n",
    "- Modeling in Python requires numerical input"
   ]
  },
  {
   "cell_type": "markdown",
   "id": "8ef94747",
   "metadata": {},
   "source": [
    "Refresher on Pandas basics"
   ]
  },
  {
   "cell_type": "code",
   "execution_count": null,
   "id": "218ba385",
   "metadata": {},
   "outputs": [],
   "source": [
    "import pandas as pd\n",
    "hiking = pd.read_json(\"datasets/hiking.json\")\n",
    "print(hiking.head())\n",
    "\n",
    "#   Accessible Difficulty Length Limited_Access\n",
    "# 0 Y None 0.8 miles N\n",
    "# 1 N Easy 1.0 mile N\n",
    "# 2 N Easy 0.75 miles N\n",
    "# 3 N Easy 0.5 miles N\n",
    "# 4 N Easy 0.5 miles N"
   ]
  },
  {
   "cell_type": "markdown",
   "id": "200cabb5",
   "metadata": {},
   "source": [
    "Refresher on Pandas basics"
   ]
  },
  {
   "cell_type": "code",
   "execution_count": null,
   "id": "ad14acd1",
   "metadata": {},
   "outputs": [],
   "source": [
    "print(hiking.columns)\n",
    "\n",
    "# Index(['Accessible','Difficulty','Length',\n",
    "#        'Limited_Access','Location','Name',\n",
    "#        'Other_Details','Park_Name','Prop_ID',\n",
    "#        'lat','lon'],\n",
    "# dtype='object')"
   ]
  },
  {
   "cell_type": "code",
   "execution_count": null,
   "id": "d6cb23b4",
   "metadata": {},
   "outputs": [],
   "source": [
    "print(hiking.dtypes)\n",
    "# Accessible object\n",
    "# Difficulty object\n",
    "# Length object\n",
    "# Limited_Access object\n",
    "# Location object\n",
    "# Name object\n",
    "# Other_Details object\n",
    "# Park_Name object\n",
    "# Prop_ID object\n",
    "# lat float64\n",
    "# lon float64\n",
    "# dtype: object"
   ]
  },
  {
   "cell_type": "markdown",
   "id": "feec790a",
   "metadata": {},
   "source": [
    "Refresher on Pandas basics"
   ]
  },
  {
   "cell_type": "code",
   "execution_count": null,
   "id": "9e7f839b",
   "metadata": {},
   "outputs": [],
   "source": [
    "print(wine.describe())\n",
    "#      Type Alcohol ... Alcalinity of ash\n",
    "# count 178.000000 178.000000 ... 178.000000\n",
    "# mean 1.938202 13.000618 ... 19.494944\n",
    "# std 0.775035 0.811827 ... 3.339564\n",
    "# min 1.000000 11.030000 ... 10.600000\n",
    "# 25% 1.000000 12.362500 ... 17.200000\n",
    "# 50% 2.000000 13.050000 ... 19.500000\n",
    "# 75% 3.000000 13.677500 ... 21.500000\n",
    "# max 3.000000 14.830000 ... 30.000000"
   ]
  },
  {
   "cell_type": "markdown",
   "id": "51c17801",
   "metadata": {},
   "source": [
    "Removing missing data"
   ]
  },
  {
   "cell_type": "code",
   "execution_count": null,
   "id": "e2bba8f5",
   "metadata": {},
   "outputs": [],
   "source": [
    "print(df)\n",
    "#    A   B   C\n",
    "# 0 1.0 NaN 2.0\n",
    "# 1 4.0 7.0 3.0\n",
    "# 2 7.0 NaN NaN\n",
    "# 3 NaN 7.0 NaN\n",
    "# 4 5.0 9.0 7.0\n",
    "\n",
    "print(df.dropna())\n",
    "#     A B C\n",
    "# 1 4.0 7.0 3.0\n",
    "# 4 5.0 9.0 7.0\n",
    "\n",
    "print(df.drop([1, 2, 3]))\n",
    "# A B C\n",
    "# 0 1.0 NaN 2.0\n",
    "# 4 5.0 9.0 7.0\n",
    "\n",
    "print(df.drop(\"A\", axis=1))\n",
    "#    B   C\n",
    "# 0 NaN 2.0\n",
    "# 1 7.0 3.0\n",
    "# 2 NaN NaN\n",
    "# 3 7.0 NaN\n",
    "# 4 9.0 7.0\n",
    "\n",
    "print(df[df[\"B\"] == 7])\n",
    "# A B C\n",
    "# 1 4.0 7.0 3.0\n",
    "# 3 NaN 7.0 NaN\n",
    "\n",
    "print(df[\"B\"].isnull().sum())\n",
    "# 2\n",
    "\n",
    "print(df[df[\"B\"].notnull()])\n",
    "#    A   B   C\n",
    "# 1 4.0 7.0 3.0\n",
    "# 3 NaN 7.0 NaN\n",
    "# 4 5.0 9.0 7.0"
   ]
  },
  {
   "cell_type": "code",
   "execution_count": null,
   "id": "30cd80b0",
   "metadata": {},
   "outputs": [],
   "source": [
    "#Example\n",
    "# Check how many values are missing in the category_desc column\n",
    "print(volunteer[\"category_desc\"].isnull().sum())\n",
    "\n",
    "# Subset the volunteer dataset\n",
    "volunteer_subset = volunteer[volunteer[\"category_desc\"].notnull()]\n",
    "\n",
    "# Print out the shape of the subset\n",
    "print(volunteer_subset.shape)"
   ]
  },
  {
   "cell_type": "markdown",
   "id": "73db7ebf",
   "metadata": {},
   "source": [
    "### Working with data types "
   ]
  },
  {
   "cell_type": "markdown",
   "id": "ddf4630d",
   "metadata": {},
   "source": [
    "Why are types important?\n",
    "\n",
    "- object: string/mixed types\n",
    "- int64: integer\n",
    "- float64: float\n",
    "- datetime64 (or timedelta): datetime"
   ]
  },
  {
   "cell_type": "code",
   "execution_count": null,
   "id": "ca84c9b6",
   "metadata": {},
   "outputs": [],
   "source": [
    "print(volunteer.dtypes)\n",
    "# opportunity_id int64\n",
    "# content_\n",
    "# id int64\n",
    "# vol_requests int64\n",
    "# ... ...\n",
    "# summary object\n",
    "# is_priority object\n",
    "# category_id float64"
   ]
  },
  {
   "cell_type": "markdown",
   "id": "4f70e2ef",
   "metadata": {},
   "source": [
    "Converting column types"
   ]
  },
  {
   "cell_type": "code",
   "execution_count": null,
   "id": "a4464ec9",
   "metadata": {},
   "outputs": [],
   "source": [
    "print(df)\n",
    "#   A    B    C\n",
    "# 0 1 string 1.0\n",
    "# 1 2 string2 2.0\n",
    "# 2 3 string3 3.0\n",
    "\n",
    "print(df.dtypes)\n",
    "# A int64\n",
    "# B object\n",
    "# C object\n",
    "# dtype: object\n",
    "\n",
    "df[\"C\"] = df[\"C\"].astype(\"float\")\n",
    "print(df.dtypes)\n",
    "# A int64\n",
    "# B object\n",
    "# C float64\n",
    "# dtype: object"
   ]
  },
  {
   "cell_type": "code",
   "execution_count": null,
   "id": "f0180f9e",
   "metadata": {},
   "outputs": [],
   "source": [
    "#Example\n",
    "# Print the head of the hits column\n",
    "print(volunteer[\"hits\"].head())\n",
    "\n",
    "# Convert the hits column to type int\n",
    "volunteer[\"hits\"] = volunteer[\"hits\"].astype(\"int\")\n",
    "\n",
    "# Look at the dtypes of the dataset\n",
    "print(volunteer.dtypes)"
   ]
  },
  {
   "cell_type": "markdown",
   "id": "7aa11fda",
   "metadata": {},
   "source": [
    "### Class distribution (Training and Test Sets)"
   ]
  },
  {
   "cell_type": "markdown",
   "id": "d35d8d60",
   "metadata": {},
   "source": [
    "Splitting up your dataset"
   ]
  },
  {
   "cell_type": "code",
   "execution_count": null,
   "id": "b8a473d4",
   "metadata": {},
   "outputs": [],
   "source": [
    "from sklearn.model_selection import train_test_split\n",
    "X_train, X_test, y_train, y_test = train_test_split(X, y)\n",
    "\n",
    "# X_train y_train\n",
    "# 0 1.0 n\n",
    "# 1 4.0 n\n",
    "# ...\n",
    "# 5 5.0 n\n",
    "# 6 6.0 n\n",
    "\n",
    "# X_test y_test\n",
    "# 0 9.0 y\n",
    "# 1 1.0 n\n",
    "# 2 4.0 n"
   ]
  },
  {
   "cell_type": "markdown",
   "id": "03bd21d1",
   "metadata": {},
   "source": [
    "Stratified sampling\n",
    "- 100 samples, 80 class 1 and 20 class 2\n",
    "- Training set: 75 samples, 60 class 1 and 15 class 2\n",
    "- Test set: 25 samples, 20 class 1 and 5 class 2"
   ]
  },
  {
   "cell_type": "code",
   "execution_count": null,
   "id": "510f5d03",
   "metadata": {},
   "outputs": [],
   "source": [
    "# Total \"labels\" counts\n",
    "y[\"labels\"].value_counts()\n",
    "# class1 80\n",
    "# class2 20\n",
    "# Name: labels, dtype: int64\n",
    "\n",
    "X_train, X_test, y_train, y_test = train_test_split(X,y, stratify=y)"
   ]
  },
  {
   "cell_type": "code",
   "execution_count": null,
   "id": "f375dd72",
   "metadata": {},
   "outputs": [],
   "source": [
    "y_train[\"labels\"].value_counts()\n",
    "# class1 60\n",
    "# class2 15\n",
    "# Name: labels, dtype: int64\n",
    "        \n",
    "y_test[\"labels\"].value_counts()\n",
    "# class1 20\n",
    "# class2 5\n",
    "# Name: labels, dtype: int64"
   ]
  },
  {
   "cell_type": "code",
   "execution_count": null,
   "id": "e57ca398",
   "metadata": {},
   "outputs": [],
   "source": [
    "#Example\n",
    "# Create a data with all columns except category_desc\n",
    "volunteer_X = volunteer.drop(\"category_desc\", axis=1)\n",
    "\n",
    "# Create a category_desc labels dataset\n",
    "volunteer_y = volunteer[[\"category_desc\"]]\n",
    "\n",
    "# Use stratified sampling to split up the dataset according to the volunteer_y dataset\n",
    "X_train, X_test, y_train, y_test = train_test_split(volunteer_X, volunteer_y, stratify = volunteer_y)\n",
    "\n",
    "# Print out the category_desc counts on the training y labels\n",
    "print(y_train[\"category_desc\"].value_counts())"
   ]
  },
  {
   "cell_type": "markdown",
   "id": "10f22ed1",
   "metadata": {},
   "source": [
    "## Standardizing Data "
   ]
  },
  {
   "cell_type": "markdown",
   "id": "7b134ad4",
   "metadata": {},
   "source": [
    "### Standardizing Data "
   ]
  },
  {
   "cell_type": "markdown",
   "id": "d5548202",
   "metadata": {},
   "source": [
    "What is standardization? (transform continuous data to be normally distributed)\n",
    "- Scikit-learn models assume normally distributed data\n",
    "- Log normalization and feature scaling in this course\n",
    "- Applied to continuous numerical data"
   ]
  },
  {
   "cell_type": "markdown",
   "id": "13c99fd5",
   "metadata": {},
   "source": [
    "When to standardize: models\n",
    "- Model in linear space (knn, linear regression, kmeans)\n",
    "- Dataset features have high variance\n",
    "- Dataset features are continuous and on different scales\n",
    "- Linearity assumptions"
   ]
  },
  {
   "cell_type": "code",
   "execution_count": null,
   "id": "df8593e0",
   "metadata": {},
   "outputs": [],
   "source": [
    "#Example\n",
    "# Split the dataset and labels into training and test sets\n",
    "X_train, X_test, y_train, y_test = train_test_split(X, y)\n",
    "\n",
    "# Fit the k-nearest neighbors model to the training data\n",
    "knn.fit(X_train, y_train)\n",
    "\n",
    "# Score the model on the test data\n",
    "print(knn.score(X_test, y_test))"
   ]
  },
  {
   "cell_type": "markdown",
   "id": "db57e992",
   "metadata": {},
   "source": [
    "### Log normalization "
   ]
  },
  {
   "cell_type": "markdown",
   "id": "d3f21153",
   "metadata": {},
   "source": [
    "What is log normalization? (used for high variance!)\n",
    "- Applies log transformation\n",
    "- Natural log using the constant _e_ (2.718)\n",
    "- Captures relative changes, the magnitude of change, and keeps everything in the positive space"
   ]
  },
  {
   "attachments": {
    "image.png": {
     "image/png": "[encoded data removed]"
    }
   },
   "cell_type": "markdown",
   "id": "cb5584db",
   "metadata": {},
   "source": [
    "![image.png](attachment:image.png)"
   ]
  },
  {
   "cell_type": "markdown",
   "id": "443a6edd",
   "metadata": {},
   "source": [
    "Log normalization in Python"
   ]
  },
  {
   "cell_type": "code",
   "execution_count": null,
   "id": "36ccb704",
   "metadata": {},
   "outputs": [],
   "source": [
    "print(df)\n",
    "#   col1 col2\n",
    "# 0 1.00 3.0\n",
    "# 1 1.20 45.5\n",
    "# 2 0.75 28.0\n",
    "# 3 1.60 100.0\n",
    "\n",
    "print(df.var())\n",
    "# col1 0.128958\n",
    "# col2 1691.729167\n",
    "# dtype: float64\n",
    "    \n",
    "import numpy as np\n",
    "df[\"log_2\"] = np.log(df[\"col2\"])\n",
    "\n",
    "print(df)\n",
    "#   col1 col2 log_2\n",
    "# 0 1.00 3.0 1.098612\n",
    "# 1 1.20 45.5 3.817712\n",
    "# 2 0.75 28.0 3.332205\n",
    "# 3 1.60 100.0 4.605170\n",
    "\n",
    "print(np.var(df[[\"col1\", \"log_2\"]])) #variances much closer together now\n",
    "# col1 0.096719\n",
    "# log_2 1.697165\n",
    "# dtype: float64"
   ]
  },
  {
   "cell_type": "code",
   "execution_count": null,
   "id": "ba57f093",
   "metadata": {},
   "outputs": [],
   "source": [
    "#Example\n",
    "# Print out the variance of the Proline column\n",
    "print(wine[\"Proline\"].var())\n",
    "\n",
    "# Apply the log normalization function to the Proline column\n",
    "wine[\"Proline_log\"] = np.log(wine[\"Proline\"])\n",
    "\n",
    "# Check the variance of the normalized Proline column\n",
    "print(np.var(wine[\"Proline_log\"]))"
   ]
  },
  {
   "cell_type": "markdown",
   "id": "379d8a68",
   "metadata": {},
   "source": [
    "### Scaling data for feature comparison "
   ]
  },
  {
   "cell_type": "markdown",
   "id": "75cc88a4",
   "metadata": {},
   "source": [
    "What is feature scaling?\n",
    "- Features on different scales\n",
    "- Model with linear characteristics\n",
    "- Center features around 0 and transform to unit variance (compare features linearly)\n",
    "- Transforms to approximately normal distribution"
   ]
  },
  {
   "cell_type": "markdown",
   "id": "b3286881",
   "metadata": {},
   "source": [
    "How to scale data"
   ]
  },
  {
   "cell_type": "code",
   "execution_count": null,
   "id": "074745d5",
   "metadata": {},
   "outputs": [],
   "source": [
    "print(df)\n",
    "#   col1 col2 col3\n",
    "# 0 1.00 48.0 100.0\n",
    "# 1 1.20 45.5 101.3\n",
    "# 2 0.75 46.2 103.5\n",
    "# 3 1.60 50.0 104.0\n",
    "\n",
    "print(df.var())\n",
    "# col1 0.128958\n",
    "# col2 4.055833\n",
    "# col3 3.526667\n",
    "# dtype: float64"
   ]
  },
  {
   "cell_type": "code",
   "execution_count": null,
   "id": "7a1d1f2b",
   "metadata": {},
   "outputs": [],
   "source": [
    "from sklearn.preprocessing import StandardScaler\n",
    "\n",
    "scaler = StandardScaler()\n",
    "df_scaled = pd.DataFrame(scaler.fit_transform(df),\n",
    "                         columns=df.columns)"
   ]
  },
  {
   "cell_type": "code",
   "execution_count": null,
   "id": "6f1a0ab8",
   "metadata": {},
   "outputs": [],
   "source": [
    "print(df_scaled)\n",
    "# col1 col2 col3\n",
    "# 0 -0.442127 0.329683 -1.352726\n",
    "# 1 0.200967 -1.103723 -0.553388\n",
    "# 2 -1.245995 -0.702369 0.799338\n",
    "# 3 1.487156 1.476409 1.106776"
   ]
  },
  {
   "cell_type": "code",
   "execution_count": null,
   "id": "d9eaedba",
   "metadata": {},
   "outputs": [],
   "source": [
    "print(df.var())\n",
    "# col1 1.333333\n",
    "# col2 1.333333\n",
    "# col3 1.333333\n",
    "# dtype: float64"
   ]
  },
  {
   "cell_type": "code",
   "execution_count": null,
   "id": "65e79ec1",
   "metadata": {},
   "outputs": [],
   "source": [
    "#Example\n",
    "# Import StandardScaler from scikit-learn\n",
    "from sklearn.preprocessing import StandardScaler\n",
    "\n",
    "# Create the scaler\n",
    "ss = StandardScaler()\n",
    "\n",
    "# Take a subset of the DataFrame you want to scale \n",
    "wine_subset = wine[[\"Ash\", \"Alcalinity of ash\", \"Magnesium\"]]\n",
    "\n",
    "# Apply the scaler to the DataFrame subset\n",
    "wine_subset_scaled = ss.fit_transform(wine_subset)\n",
    "\n",
    "# Good job! In scikit-learn, running fit_transform during \n",
    "# preprocessing will both fit the method to the data as well \n",
    "# as transform the data in a single step."
   ]
  },
  {
   "cell_type": "markdown",
   "id": "4136d081",
   "metadata": {},
   "source": [
    "### Standardized data and modeling "
   ]
  },
  {
   "cell_type": "markdown",
   "id": "ca70fc4b",
   "metadata": {},
   "source": [
    "K-nearest neighbors"
   ]
  },
  {
   "cell_type": "code",
   "execution_count": null,
   "id": "1ba7fb21",
   "metadata": {},
   "outputs": [],
   "source": [
    "from sklearn.model_selection import train_test_split\n",
    "from sklearn.neighbors import KNeighborsClassifier\n",
    "\n",
    "# Preprocessing first\n",
    "X_train, X_test, y_train, y_test = train_test_split(X, y)\n",
    "\n",
    "knn = KNeighborsClassifier()\n",
    "knn.fit(X_train, y_train)\n",
    "\n",
    "knn.score(X_test, y_test)"
   ]
  },
  {
   "cell_type": "code",
   "execution_count": null,
   "id": "8d3e67cf",
   "metadata": {},
   "outputs": [],
   "source": [
    "#Example\n",
    "# Split the dataset and labels into training and test sets\n",
    "X_train, X_test, y_train, y_test = train_test_split(X, y)\n",
    "\n",
    "# Fit the k-nearest neighbors model to the training data\n",
    "knn.fit(X_train, y_train)\n",
    "\n",
    "# Score the model on the test data\n",
    "print(knn.score(X_test, y_test))\n",
    "\n",
    "# <script.py> output:\n",
    "#     0.6444444444444445"
   ]
  },
  {
   "cell_type": "code",
   "execution_count": null,
   "id": "e2f41cc1",
   "metadata": {},
   "outputs": [],
   "source": [
    "#Example\n",
    "# Create the scaling method.\n",
    "ss = StandardScaler()\n",
    "\n",
    "# Apply the scaling method to the dataset used for modeling.\n",
    "X_scaled = ss.fit_transform(X)\n",
    "X_train, X_test, y_train, y_test = train_test_split(X_scaled, y)\n",
    "\n",
    "# Fit the k-nearest neighbors model to the training data.\n",
    "knn.fit(X_train, y_train)\n",
    "\n",
    "# Score the model on the test data.\n",
    "print(knn.score(X_test, y_test))"
   ]
  },
  {
   "cell_type": "markdown",
   "id": "c985fdce",
   "metadata": {},
   "source": [
    "## Feature Engineering "
   ]
  },
  {
   "cell_type": "markdown",
   "id": "35a159c0",
   "metadata": {},
   "source": [
    "### Feature engineering "
   ]
  },
  {
   "cell_type": "markdown",
   "id": "ce2f47c3",
   "metadata": {},
   "source": [
    "What is feature engineering?\n",
    "- Creation of new features based on existing features\n",
    "- Insight into relationships between features\n",
    "- Extract and expand data\n",
    "- Dataset-dependent"
   ]
  },
  {
   "attachments": {
    "image-2.png": {
     "image/png": "[encoded data removed]"
    },
    "image.png": {
     "image/png": "[encoded data removed]"
    }
   },
   "cell_type": "markdown",
   "id": "33e58616",
   "metadata": {},
   "source": [
    "Feature engineering scenarios\n",
    "- text and string transformation\n",
    "![image.png](attachment:image.png)\n",
    "- dates and usage of average\n",
    "![image-2.png](attachment:image-2.png)"
   ]
  },
  {
   "cell_type": "markdown",
   "id": "99b4f1df",
   "metadata": {},
   "source": [
    "### Encoding categorical variables "
   ]
  },
  {
   "cell_type": "markdown",
   "id": "01289ece",
   "metadata": {},
   "source": [
    "Categorical variables"
   ]
  },
  {
   "cell_type": "code",
   "execution_count": null,
   "id": "f8884d17",
   "metadata": {},
   "outputs": [],
   "source": [
    "#   user subscribed fav_color\n",
    "# 0 1        y blue\n",
    "# 1 2        n green\n",
    "# 2 3        n orange\n",
    "# 3 4        y green"
   ]
  },
  {
   "cell_type": "markdown",
   "id": "d94d5c7e",
   "metadata": {},
   "source": [
    "Encoding binary variables - Pandas"
   ]
  },
  {
   "cell_type": "code",
   "execution_count": null,
   "id": "7a748db3",
   "metadata": {},
   "outputs": [],
   "source": [
    "print(users[\"subscribed\"])\n",
    "# 0 y\n",
    "# 1 n\n",
    "# 2 n\n",
    "# 3 y\n",
    "# Name: subscribed, dtype: object\n",
    "\n",
    "print(users[[\"subscribed\", \"sub_enc\"]])\n",
    "# subscribed sub_enc\n",
    "# 0 y 1\n",
    "# 1 n 0\n",
    "# 2 n 0\n",
    "# 3 y 1\n",
    "\n",
    "users[\"sub_enc\"] = users[\"subscribed\"].apply(lambda val:1 if val == \"y\" else 0)"
   ]
  },
  {
   "cell_type": "markdown",
   "id": "5ccaf8de",
   "metadata": {},
   "source": [
    "Encoding binary variables - scikit-learn"
   ]
  },
  {
   "cell_type": "code",
   "execution_count": null,
   "id": "279ab85b",
   "metadata": {},
   "outputs": [],
   "source": [
    "from sklearn.preprocessing import LabelEncoder\n",
    "\n",
    "le = LabelEncoder()\n",
    "users[\"sub_enc_le\"] = le.fit_transform(users[\"subscribed\"])\n",
    "\n",
    "print(users[[\"subscribed\",\"sub_enc_le\"]])\n",
    "# subscribed sub_enc_le\n",
    "# 0 y           1\n",
    "# 1 n           0\n",
    "# 2 n           0\n",
    "# 3 y           1"
   ]
  },
  {
   "cell_type": "markdown",
   "id": "09f708d0",
   "metadata": {},
   "source": [
    "One-hot encoding"
   ]
  },
  {
   "attachments": {
    "image.png": {
     "image/png": "[encoded data removed]"
    }
   },
   "cell_type": "markdown",
   "id": "9345ff7c",
   "metadata": {},
   "source": [
    "![image.png](attachment:image.png)\n",
    "\n",
    "Values: [blue, green, orange]\n",
    "- blue: [1, 0, 0]\n",
    "- green: [0, 1, 0]\n",
    "- orange: [0, 0, 1]"
   ]
  },
  {
   "cell_type": "code",
   "execution_count": null,
   "id": "f34f3526",
   "metadata": {},
   "outputs": [],
   "source": [
    "print(users[\"fav_color\"])\n",
    "# 0 blue\n",
    "# 1 green\n",
    "# 2 orange\n",
    "# 3 green\n",
    "# Name: fav_color, dtype: object\n",
    "\n",
    "print(pd.get_dummies(users[\"fav_color\"]))\n",
    "# blue green orange\n",
    "# 0 1 0 0\n",
    "# 1 0 1 0\n",
    "# 2 0 0 1\n",
    "# 3 0 1 0"
   ]
  },
  {
   "cell_type": "code",
   "execution_count": null,
   "id": "c2701409",
   "metadata": {},
   "outputs": [],
   "source": [
    "#Example\n",
    "# Set up the LabelEncoder object\n",
    "enc = LabelEncoder()\n",
    "\n",
    "# Apply the encoding to the \"Accessible\" column\n",
    "hiking[\"Accessible_enc\"] = enc.fit_transform(hiking[\"Accessible\"])\n",
    "\n",
    "# Compare the two columns\n",
    "print(hiking[[\"Accessible\", \"Accessible_enc\"]].head()) #no column for 0 and other for 1"
   ]
  },
  {
   "cell_type": "code",
   "execution_count": null,
   "id": "77d66405",
   "metadata": {},
   "outputs": [],
   "source": [
    "#Example\n",
    "# Transform the category_desc column\n",
    "category_enc = pd.get_dummies(volunteer[\"category_desc\"])\n",
    "\n",
    "# Take a look at the encoded columns\n",
    "print(category_enc.head())"
   ]
  },
  {
   "cell_type": "markdown",
   "id": "f7fd8f30",
   "metadata": {},
   "source": [
    "### Engineering numerical features "
   ]
  },
  {
   "cell_type": "code",
   "execution_count": null,
   "id": "0057e056",
   "metadata": {},
   "outputs": [],
   "source": [
    "print(df)\n",
    "# city day1 day2 day3\n",
    "# 0 NYC 68.3 67.9 67.8\n",
    "# 1 SF 75.1 75.5 74.9\n",
    "# 2 LA 80.3 84.0 81.3\n",
    "# 3 Boston 63.0 61.0 61.2\n",
    "\n",
    "columns = [\"day1\",\"day2\",\"day3\"]\n",
    "df[\"mean\"] = df.apply(lambda row: row[columns].mean(), axis=1)\n",
    "print(df)\n",
    "# city day1 day2 day3 mean\n",
    "# 0 NYC 68.3 67.9 67.8 68.00\n",
    "# 1 SF 75.1 75.5 74.9 75.17\n",
    "# 2 LA 80.3 84.0 81.3 81.87\n",
    "# 3 Boston 63.0 61.0 61.2 61.7"
   ]
  },
  {
   "cell_type": "markdown",
   "id": "d98d46ec",
   "metadata": {},
   "source": [
    "Dates"
   ]
  },
  {
   "cell_type": "code",
   "execution_count": null,
   "id": "5ec0ea6a",
   "metadata": {},
   "outputs": [],
   "source": [
    "print(df)\n",
    "#       date     purchase\n",
    "# 0 July 30 2011 $45.08\n",
    "# 1 February 01 2011 $19.48\n",
    "# 2 January 29 2011 $76.09\n",
    "# 3 March 31 2012 $32.61\n",
    "# 4 February 05 2011 $75.98"
   ]
  },
  {
   "cell_type": "code",
   "execution_count": null,
   "id": "db2d91ba",
   "metadata": {},
   "outputs": [],
   "source": [
    "df[\"date_converted\"] = pd.to_datetime(df[\"date\"])\n",
    "df[\"month\"] = df[\"date_converted\"].apply(lambda row: row.month)\n",
    "print(df)\n",
    "\n",
    "#   date purchase date_converted month\n",
    "# 0 July 30 2011 $45.08 2011-07-30 7\n",
    "# 1 February 01 2011 $19.48 2011-02-01 2\n",
    "# 2 January 29 2011 $76.09 2011-01-29 1\n",
    "# 3 March 31 2012 $32.61 2012-03-31 3\n",
    "# 4 February 05 2011 $75.98 2011-02-05 2"
   ]
  },
  {
   "cell_type": "code",
   "execution_count": null,
   "id": "6984a9c1",
   "metadata": {},
   "outputs": [],
   "source": [
    "#Example\n",
    "# Create a list of the columns to average\n",
    "run_columns = [\"run1\", \"run2\", \"run3\", \"run4\", \"run5\"]\n",
    "\n",
    "# Use apply to create a mean column\n",
    "running_times_5k[\"mean\"] = running_times_5k.apply(lambda row: row[run_columns].mean(), axis=1)\n",
    "\n",
    "# Take a look at the results\n",
    "print(running_times_5k)"
   ]
  },
  {
   "cell_type": "code",
   "execution_count": null,
   "id": "2601bea7",
   "metadata": {},
   "outputs": [],
   "source": [
    "#Example\n",
    "# First, convert string column to date column\n",
    "volunteer[\"start_date_converted\"] = pd.to_datetime(volunteer[\"start_date_date\"])\n",
    "\n",
    "# Extract just the month from the converted column\n",
    "volunteer[\"start_date_month\"] = volunteer[\"start_date_converted\"].apply(lambda row: row.month)\n",
    "\n",
    "# Take a look at the converted and new month columns\n",
    "print(volunteer[[\"start_date_converted\", \"start_date_month\"]].head())"
   ]
  },
  {
   "cell_type": "markdown",
   "id": "957f5ad1",
   "metadata": {},
   "source": [
    "### Engineering features from text"
   ]
  },
  {
   "cell_type": "markdown",
   "id": "b4ea730a",
   "metadata": {},
   "source": [
    "Extraction"
   ]
  },
  {
   "cell_type": "code",
   "execution_count": null,
   "id": "5cfc9508",
   "metadata": {},
   "outputs": [],
   "source": [
    "import re #regular expression are used to extract patterns from text data\n",
    "my_string = \"temperature:75.6 F\"\n",
    "pattern = re.compile(\"\\d+\\.\\d+\") \n",
    "temp = re.match(pattern, my_string)\n",
    "print(float(temp.group(0))\n",
    "# 75.6"
   ]
  },
  {
   "cell_type": "markdown",
   "id": "70376ef6",
   "metadata": {},
   "source": [
    "- \\d+ | digits (as many as possible)\n",
    "- \\. | grab decimal point\n",
    "- \\d+ | grab digits after ."
   ]
  },
  {
   "cell_type": "markdown",
   "id": "273dbe0f",
   "metadata": {},
   "source": [
    "Vectorizing text (terms more relevant)\n",
    "- tf = term frequency\n",
    "- idf = inverse document frequency"
   ]
  },
  {
   "cell_type": "code",
   "execution_count": null,
   "id": "c60c19b9",
   "metadata": {},
   "outputs": [],
   "source": [
    "from sklearn.feature_extraction.text import TfidfVectorizer\n",
    "print(documents.head())\n",
    "\n",
    "# 0 Building on successful events last summer and ...\n",
    "# 1 Build a website for an Afghan business\n",
    "# 2 Please join us and the students from Mott Hall...\n",
    "# 3 The Oxfam Action Corps is a group of dedicated...\n",
    "# 4 Stop 'N' Swap reduces NYC's waste by finding n..."
   ]
  },
  {
   "cell_type": "code",
   "execution_count": null,
   "id": "31ca4639",
   "metadata": {},
   "outputs": [],
   "source": [
    "tfidf_vec = TfidfVectorizer()\n",
    "text_tfidf = tfidf_vec.fit_transform(documents)"
   ]
  },
  {
   "attachments": {
    "image.png": {
     "image/png": "[encoded data removed]"
    }
   },
   "cell_type": "markdown",
   "id": "3ccda5fb",
   "metadata": {},
   "source": [
    "Text classification\n",
    "![image.png](attachment:image.png)"
   ]
  },
  {
   "cell_type": "code",
   "execution_count": null,
   "id": "67decb78",
   "metadata": {},
   "outputs": [],
   "source": [
    "#Example\n",
    "# Write a pattern to extract numbers and decimals\n",
    "def return_mileage(length):\n",
    "    pattern = re.compile(r\"\\d+\\.\\d+\")\n",
    "    \n",
    "    # Search the text for matches\n",
    "    mile = re.match(pattern, length)\n",
    "    \n",
    "    # If a value is returned, use group(0) to return the found value\n",
    "    if mile is not None:\n",
    "        return float(mile.group(0))\n",
    "        \n",
    "# Apply the function to the Length column and take a look at both columns\n",
    "hiking[\"Length_num\"] = hiking[\"Length\"].apply(lambda row: return_mileage(row))\n",
    "print(hiking[[\"Length\", \"Length_num\"]].head())\n",
    "\n",
    "# <script.py> output:\n",
    "#            Length  Length_num\n",
    "#     0   0.8 miles        0.80\n",
    "#     1    1.0 mile        1.00\n",
    "#     2  0.75 miles        0.75\n",
    "#     3   0.5 miles        0.50\n",
    "#     4   0.5 miles        0.50"
   ]
  },
  {
   "cell_type": "code",
   "execution_count": null,
   "id": "de14963d",
   "metadata": {},
   "outputs": [],
   "source": [
    "#Example\n",
    "# Take the title text\n",
    "title_text = volunteer[\"title\"]\n",
    "\n",
    "# Create the vectorizer method\n",
    "tfidf_vec = TfidfVectorizer()\n",
    "\n",
    "# Transform the text into tf-idf vectors\n",
    "text_tfidf = tfidf_vec.fit_transform(title_text)\n",
    "print(text_tfidf)\n",
    "# <script.py> output:\n",
    "#       (0, 375)\t0.3163915503784279\n",
    "#       (0, 855)\t0.38192461589865456\n",
    "#       (0, 493)\t0.3405778550191958\n",
    "#       (0, 822)\t0.38192461589865456\n",
    "#       (0, 959)\t0.38192461589865456\n",
    "# ..."
   ]
  },
  {
   "cell_type": "code",
   "execution_count": null,
   "id": "a4544994",
   "metadata": {},
   "outputs": [],
   "source": [
    "#Example\n",
    "# Split the dataset according to the class distribution of category_desc\n",
    "y = volunteer[\"category_desc\"]\n",
    "X_train, X_test, y_train, y_test = train_test_split(text_tfidf.toarray(), y, stratify=y)\n",
    "\n",
    "# Fit the model to the training data\n",
    "nb.fit(X_train, y_train)\n",
    "\n",
    "# Print out the model's accuracy\n",
    "print(nb.score(X_test, y_test))\n",
    "# <script.py> output:\n",
    "#     0.567741935483871"
   ]
  },
  {
   "cell_type": "markdown",
   "id": "dddb2d3f",
   "metadata": {},
   "source": [
    "## Selecting features for modeling "
   ]
  },
  {
   "cell_type": "markdown",
   "id": "25607044",
   "metadata": {},
   "source": [
    "### Feature selection"
   ]
  },
  {
   "cell_type": "markdown",
   "id": "e3553acf",
   "metadata": {},
   "source": [
    "What is feature selection?\n",
    "- Selecting features to be used for modeling\n",
    "- Doesn't create new features\n",
    "- Improve model's performance\n",
    "\n",
    "\n",
    "- feature engineering create new features. feature selection improves performance of models\n",
    "- it is possible to create univariate statistical tests, for example. (scikit helps)"
   ]
  },
  {
   "attachments": {
    "image-2.png": {
     "image/png": "[encoded data removed]"
    }
   },
   "cell_type": "markdown",
   "id": "231ea39c",
   "metadata": {},
   "source": [
    "When to select features\n",
    "![image-2.png](attachment:image-2.png)"
   ]
  },
  {
   "cell_type": "markdown",
   "id": "5c8d1bc5",
   "metadata": {},
   "source": [
    "### Removing redundant features "
   ]
  },
  {
   "cell_type": "markdown",
   "id": "754c7985",
   "metadata": {},
   "source": [
    "Redundant features\n",
    "- Remove noisy features\n",
    "- Remove correlated features\n",
    "- Remove duplicated \n",
    "\n",
    "- some can be treated just by knowing what features you have in your dataset"
   ]
  },
  {
   "attachments": {
    "image.png": {
     "image/png": "[encoded data removed]"
    }
   },
   "cell_type": "markdown",
   "id": "36df5d37",
   "metadata": {},
   "source": [
    "Scenarios for manual removal\n",
    "![image.png](attachment:image.png)"
   ]
  },
  {
   "cell_type": "markdown",
   "id": "ae6407d6",
   "metadata": {},
   "source": [
    "Correlated features\n",
    "- Statistically correlated: features move together directionally\n",
    "- Linear models assume feature independence\n",
    "- Pearson correlation coefficient"
   ]
  },
  {
   "cell_type": "markdown",
   "id": "2d5ac7c2",
   "metadata": {},
   "source": [
    "Correlated features"
   ]
  },
  {
   "cell_type": "code",
   "execution_count": null,
   "id": "d81755ff",
   "metadata": {},
   "outputs": [],
   "source": [
    "print(df)\n",
    "#    A    B    C\n",
    "# 0 3.06 3.92 1.04\n",
    "# 1 2.76 3.40 1.05\n",
    "# 2 3.24 3.17 1.03\n",
    "# ...\n",
    "\n",
    "print(df.corr())\n",
    "#       A        B        C\n",
    "# A 1.000000 0.787194 0.543479\n",
    "# B 0.787194 1.000000 0.565468\n",
    "# C 0.543479 0.565468 1.000000"
   ]
  },
  {
   "cell_type": "code",
   "execution_count": null,
   "id": "18025a61",
   "metadata": {},
   "outputs": [],
   "source": [
    "#Example\n",
    "# Create a list of redundant column names to drop\n",
    "to_drop = [\"category_desc\", \"created_date\", \"locality\", \"region\", \"vol_requests\"]\n",
    "\n",
    "# Drop those columns from the dataset\n",
    "volunteer_subset = volunteer.drop(to_drop, axis=1)\n",
    "\n",
    "# Print out the head of the new dataset\n",
    "print(volunteer_subset.head())"
   ]
  },
  {
   "cell_type": "code",
   "execution_count": null,
   "id": "dea4df6f",
   "metadata": {},
   "outputs": [],
   "source": [
    "#Example\n",
    "# Print out the column correlations of the wine dataset\n",
    "print(wine.corr())\n",
    "\n",
    "# Take a minute to find the column where the correlation value is greater than 0.75 at least twice\n",
    "to_drop = \"Flavanoids\"\n",
    "\n",
    "# Drop that column from the DataFrame\n",
    "wine = wine.drop(\"Flavanoids\", axis = 1)"
   ]
  },
  {
   "cell_type": "markdown",
   "id": "34a1104a",
   "metadata": {},
   "source": [
    "### Selecting features using text vectors "
   ]
  },
  {
   "cell_type": "markdown",
   "id": "3d1f4c09",
   "metadata": {},
   "source": [
    "Important to test different factors"
   ]
  },
  {
   "cell_type": "markdown",
   "id": "14ff9946",
   "metadata": {},
   "source": [
    "Looking at word weights"
   ]
  },
  {
   "cell_type": "code",
   "execution_count": null,
   "id": "b4996d9f",
   "metadata": {},
   "outputs": [],
   "source": [
    "print(tfidf_vec.vocabulary_)\n",
    "# {'200': 0,\n",
    "# '204th': 1,\n",
    "# '33rd': 2,\n",
    "# 'ahead': 3,\n",
    "# 'alley': 4,\n",
    "# ...\n",
    "\n",
    "print(text_tfidf[3].data)\n",
    "# [0.19392702 0.20261085 0.24915\n",
    "# 0.31957651 0.18599931 ...]\n",
    "\n",
    "print(text_tfidf[3].indices)\n",
    "# [ 31 102 20 70 5 ...]"
   ]
  },
  {
   "cell_type": "code",
   "execution_count": null,
   "id": "84585bee",
   "metadata": {},
   "outputs": [],
   "source": [
    "vocab = {v:k for k,v in\n",
    "         tfidf_vec.vocabulary_.items()}\n",
    "print(vocab)\n",
    "# {0: '200',\n",
    "#  1: '204th',\n",
    "#  2: '33rd',\n",
    "#  3: 'ahead',\n",
    "#  4: 'alley',\n",
    "#  ...\n",
    "  \n",
    "zipped_row =dict(zip(text_tfidf[3].indices,\n",
    "                     text_tfidf[3].data))\n",
    "print(zipped_row)\n",
    "# {5: 0.1597882543332701,\n",
    "# 7: 0.26576432098763175,\n",
    "# 8: 0.18599931331925676,\n",
    "# 9: 0.26576432098763175,\n",
    "# 10: 0.13077355258450366,\n",
    "# ..."
   ]
  },
  {
   "cell_type": "code",
   "execution_count": null,
   "id": "e43ed8d4",
   "metadata": {},
   "outputs": [],
   "source": [
    "def return_weights(vocab, vector, vector_index):\n",
    "\n",
    "    zipped = dict(zip(vector[vector_index].indices,\n",
    "                      vector[vector_index].data))\n",
    "\n",
    "    return {vocab[i]:zipped[i] for i in vector[vector_index].indices}\n",
    "\n",
    "print(return_weights(vocab, text_tfidf, 3))\n",
    "# {'and': 0.1597882543332701,\n",
    "# 'are': 0.26576432098763175,\n",
    "# 'at': 0.18599931331925676,\n",
    "# ..."
   ]
  },
  {
   "cell_type": "code",
   "execution_count": null,
   "id": "32c163dd",
   "metadata": {},
   "outputs": [],
   "source": [
    "#Example\n",
    "# Add in the rest of the parameters\n",
    "def return_weights(vocab, original_vocab, vector, vector_index, top_n):\n",
    "    zipped = dict(zip(vector[vector_index].indices, \n",
    "                      vector[vector_index].data))\n",
    "    \n",
    "    # Let's transform that zipped dict into a series\n",
    "    zipped_series = pd.Series({vocab[i]:zipped[i] for i in vector[vector_index].indices})\n",
    "    \n",
    "    # Let's sort the series to pull out the top n weighted words\n",
    "    zipped_index = zipped_series.sort_values(ascending=False)[:top_n].index\n",
    "    return [original_vocab[i] for i in zipped_index]\n",
    "\n",
    "# Print out the weighted words\n",
    "print(return_weights(vocab, tfidf_vec.vocabulary_, text_tfidf, vector_index = 8, top_n = 3))\n",
    "\n",
    "# <script.py> output:\n",
    "#     [189, 942, 466]"
   ]
  },
  {
   "cell_type": "code",
   "execution_count": null,
   "id": "d929681a",
   "metadata": {},
   "outputs": [],
   "source": [
    "#Example\n",
    "def words_to_filter(vocab, original_vocab, vector, top_n):\n",
    "    filter_list = []\n",
    "    for i in range(0, vector.shape[0]):\n",
    "    \n",
    "        # Here we'll call the function from the previous exercise, and extend the list we're creating\n",
    "        filtered = return_weights(vocab, original_vocab, vector, i, top_n)\n",
    "        filter_list.extend(filtered)\n",
    "    # Return the list in a set, so we don't get duplicate word indices\n",
    "    return set(filter_list)\n",
    "\n",
    "# Call the function to get the list of word indices\n",
    "filtered_words = words_to_filter(vocab, tfidf_vec.vocabulary_, text_tfidf, 3)\n",
    "\n",
    "# By converting filtered_words back to a list, we can use it to filter the columns in the text vector\n",
    "filtered_text = text_tfidf[:, list(filtered_words)]"
   ]
  },
  {
   "cell_type": "code",
   "execution_count": null,
   "id": "24849a77",
   "metadata": {},
   "outputs": [],
   "source": [
    "#Example\n",
    "# Split the dataset according to the class distribution of category_desc, using the filtered_text vector\n",
    "train_X, test_X, train_y, test_y = train_test_split(filtered_text.toarray(), volunteer.category_desc, stratify=y)\n",
    "\n",
    "# Fit the model to the training data\n",
    "nb.fit(train_X, train_y)\n",
    "\n",
    "# Print out the model's accuracy\n",
    "print(nb.score(test_X, test_y))\n",
    "\n",
    "# <script.py> output:\n",
    "#     0.567741935483871"
   ]
  },
  {
   "cell_type": "code",
   "execution_count": null,
   "id": "02c7aa2b",
   "metadata": {},
   "outputs": [],
   "source": []
  },
  {
   "cell_type": "code",
   "execution_count": null,
   "id": "550a9955",
   "metadata": {},
   "outputs": [],
   "source": []
  },
  {
   "cell_type": "code",
   "execution_count": null,
   "id": "63657395",
   "metadata": {},
   "outputs": [],
   "source": []
  },
  {
   "cell_type": "code",
   "execution_count": null,
   "id": "d52ef097",
   "metadata": {},
   "outputs": [],
   "source": []
  },
  {
   "cell_type": "markdown",
   "id": "eb3cc5d7",
   "metadata": {},
   "source": [
    "### Dimensionality reduction "
   ]
  },
  {
   "cell_type": "markdown",
   "id": "64e69734",
   "metadata": {},
   "source": [
    "Dimensionality reduction and PCA\n",
    "- Unsupervised learning method\n",
    "- Combines/decomposes a feature space\n",
    "- Feature extraction - here we'll use to reduce our feature space\n",
    "\n",
    "\n",
    "- Principal component analysis\n",
    "- Linear transformation to uncorrelated space\n",
    "- Captures as much variance as possible in each component"
   ]
  },
  {
   "cell_type": "markdown",
   "id": "b906f7f2",
   "metadata": {},
   "source": [
    "PCA in scikit-learn"
   ]
  },
  {
   "cell_type": "code",
   "execution_count": null,
   "id": "7d44fffb",
   "metadata": {},
   "outputs": [],
   "source": [
    "from sklearn.decomposition import PCA\n",
    "pca = PCA()\n",
    "df_pca = pca.fit_transform(df)\n",
    "\n",
    "print(df_pca) #keep the number of components as the number of features\n",
    "# [88.4583, 18.7764, -2.2379, ..., 0.0954, 0.0361,-0.0034],\n",
    "# [93.4564, 18.6709,-1.7887, ...,-0.0509, 0.1331, 0.0119],\n",
    "# [-186.9433,-0.2133,-5.6307, ..., 0.0332, 0.0271, 0.0055]\n",
    "\n",
    "print(pca.explained_variance_ratio_)\n",
    "# [0.9981, 0.0017, 0.0001, 0.0001, ...]"
   ]
  },
  {
   "cell_type": "markdown",
   "id": "d5e52fc2",
   "metadata": {},
   "source": [
    "PCA caveats\n",
    "- Difficult to interpret components\n",
    "- End of preprocessing journey (difficult to change data after PCA)"
   ]
  },
  {
   "cell_type": "code",
   "execution_count": null,
   "id": "caf5c65e",
   "metadata": {},
   "outputs": [],
   "source": [
    "#Example\n",
    "from sklearn.decomposition import PCA\n",
    "\n",
    "# Set up PCA and the X vector for diminsionality reduction\n",
    "pca = PCA()\n",
    "wine_X = wine.drop(\"Type\", axis=1)\n",
    "\n",
    "# Apply PCA to the wine dataset X vector\n",
    "transformed_X = pca.fit_transform(wine_X)\n",
    "\n",
    "# Look at the percentage of variance explained by the different components\n",
    "print(pca.explained_variance_ratio_)\n",
    "\n",
    "# <script.py> output:\n",
    "#     [9.98091230e-01 1.73591562e-03 9.49589576e-05 5.02173562e-05\n",
    "#      1.23636847e-05 8.46213034e-06 2.80681456e-06 1.52308053e-06\n",
    "#      1.12783044e-06 7.21415811e-07 3.78060267e-07 2.12013755e-07\n",
    "#      8.25392788e-08]"
   ]
  },
  {
   "cell_type": "code",
   "execution_count": null,
   "id": "825702ce",
   "metadata": {},
   "outputs": [],
   "source": [
    "#Example\n",
    "# Split the transformed X and the y labels into training and test sets\n",
    "X_wine_train, X_wine_test, y_wine_train, y_wine_test = train_test_split(transformed_X, y)\n",
    "\n",
    "# Fit knn to the training data\n",
    "knn.fit(X_wine_train, y_wine_train)\n",
    "\n",
    "# Score knn on the test data and print it out\n",
    "knn.score(X_wine_test, y_wine_test)"
   ]
  },
  {
   "cell_type": "markdown",
   "id": "7fd0d710",
   "metadata": {},
   "source": [
    "## Putting it all together "
   ]
  },
  {
   "cell_type": "markdown",
   "id": "8c6a1ee0",
   "metadata": {},
   "source": [
    "### UFOs and preprocessing "
   ]
  },
  {
   "attachments": {
    "image.png": {
     "image/png": "[encoded data removed]"
    }
   },
   "cell_type": "markdown",
   "id": "72d4beca",
   "metadata": {},
   "source": [
    "Identifying areas for preprocessing\n",
    "![image.png](attachment:image.png)"
   ]
  },
  {
   "cell_type": "markdown",
   "id": "26ddf6db",
   "metadata": {},
   "source": [
    "Important concepts to remember\n",
    "- Missing data: dropna() and notnull()\n",
    "- Types: astype()\n",
    "- Stratified sampling: train_test_split(X, y, stratify=y)"
   ]
  },
  {
   "cell_type": "code",
   "execution_count": null,
   "id": "e379e8a8",
   "metadata": {},
   "outputs": [],
   "source": [
    "#Example\n",
    "# Check the column types\n",
    "print(ufo.dtypes)\n",
    "\n",
    "# Change the type of seconds to float\n",
    "ufo[\"seconds\"] = ufo[\"seconds\"].astype(\"float\")\n",
    "\n",
    "# Change the date column to type datetime\n",
    "ufo[\"date\"] = pd.to_datetime(ufo[\"date\"])\n",
    "\n",
    "# Check the column types\n",
    "print(ufo[[\"seconds\", \"date\"]].dtypes)"
   ]
  },
  {
   "cell_type": "code",
   "execution_count": null,
   "id": "f52678b7",
   "metadata": {},
   "outputs": [],
   "source": [
    "#Example\n",
    "# Check how many values are missing in the length_of_time, state, and type columns\n",
    "print(ufo[[\"length_of_time\", \"state\", \"type\"]].isnull().sum())\n",
    "\n",
    "# Keep only rows where length_of_time, state, and type are not null\n",
    "ufo_no_missing = ufo[ufo.length_of_time.notnull() & \n",
    "          ufo.state.notnull() & \n",
    "          ufo.type.notnull()]\n",
    "\n",
    "# Print out the shape of the new dataset\n",
    "print(ufo_no_missing.shape)"
   ]
  },
  {
   "cell_type": "markdown",
   "id": "08188c82",
   "metadata": {},
   "source": [
    "### Categorical variables and standardization "
   ]
  },
  {
   "cell_type": "markdown",
   "id": "924a386a",
   "metadata": {},
   "source": [
    "Categorical variables"
   ]
  },
  {
   "cell_type": "code",
   "execution_count": null,
   "id": "49f5c0d1",
   "metadata": {},
   "outputs": [],
   "source": [
    "# tate country type\n",
    "# 295 az us light\n",
    "# 296 tx us formation\n",
    "# 297 nv us fireball"
   ]
  },
  {
   "cell_type": "markdown",
   "id": "37aef4c5",
   "metadata": {},
   "source": [
    "- One-hot encoding: pd.get_dummies()"
   ]
  },
  {
   "cell_type": "markdown",
   "id": "a1af208a",
   "metadata": {},
   "source": [
    "Standardization\n",
    "- var()\n",
    "- np.log()"
   ]
  },
  {
   "cell_type": "code",
   "execution_count": null,
   "id": "bfb554a6",
   "metadata": {},
   "outputs": [],
   "source": [
    "#Example\n",
    "def return_minutes(time_string):\n",
    "\n",
    "    # Use \\d+ to grab digits\n",
    "    pattern = re.compile(r\"\\d+\")\n",
    "    \n",
    "    # Use match on the pattern and column\n",
    "    num = re.match(pattern, time_string)\n",
    "    if num is not None:\n",
    "        return int(num.group(0))\n",
    "        \n",
    "# Apply the extraction to the length_of_time column\n",
    "ufo[\"minutes\"] = ufo[\"length_of_time\"].apply(lambda x: return_minutes(x))\n",
    "\n",
    "# Take a look at the head of both of the columns\n",
    "print(ufo[[\"length_of_time\", \"minutes\"]].head())\n",
    "\n",
    "# <script.py> output:\n",
    "#         length_of_time  minutes\n",
    "#     2  about 5 minutes      NaN\n",
    "#     4       10 minutes     10.0\n",
    "#     7        2 minutes      2.0\n",
    "#     8        2 minutes      2.0\n",
    "#     9        5 minutes      5.0"
   ]
  },
  {
   "cell_type": "code",
   "execution_count": null,
   "id": "0e78ca67",
   "metadata": {},
   "outputs": [],
   "source": [
    "#Example\n",
    "# Check the variance of the seconds and minutes columns\n",
    "print(ufo[[\"seconds\", \"minutes\"]].var())\n",
    "\n",
    "# Log normalize the seconds column\n",
    "ufo[\"seconds_log\"] = np.log(ufo.seconds)\n",
    "\n",
    "# Print out the variance of just the seconds_log column\n",
    "print(ufo.seconds_log.var())\n",
    "\n",
    "# <script.py> output:\n",
    "#     seconds    424087.417474\n",
    "#     minutes       117.546372\n",
    "#     dtype: float64\n",
    "#     1.1223923881183004"
   ]
  },
  {
   "cell_type": "markdown",
   "id": "005f45db",
   "metadata": {},
   "source": [
    "### Engineering new features "
   ]
  },
  {
   "attachments": {
    "image.png": {
     "image/png": "[encoded data removed]"
    }
   },
   "cell_type": "markdown",
   "id": "2e3aa8a8",
   "metadata": {},
   "source": [
    "UFO feature engineering\n",
    "![image.png](attachment:image.png)"
   ]
  },
  {
   "cell_type": "markdown",
   "id": "73c1f07c",
   "metadata": {},
   "source": [
    "- Dates: .month or .hour attributes\n",
    "- Regex: \\d and .group()\n",
    "- Text: tf-idf and TfidfVectorizer"
   ]
  },
  {
   "cell_type": "code",
   "execution_count": null,
   "id": "a57b71a1",
   "metadata": {},
   "outputs": [],
   "source": [
    "#Example\n",
    "# Use Pandas to encode us values as 1 and others as 0\n",
    "ufo[\"country_enc\"] = ufo[\"country\"].apply(lambda val: 1 if val == \"us\" else 0)\n",
    "\n",
    "# Print the number of unique type values\n",
    "print(len(ufo.type.unique()))\n",
    "\n",
    "# Create a one-hot encoded set of the type values\n",
    "type_set = pd.get_dummies(ufo.type)\n",
    "\n",
    "# Concatenate this set back to the ufo DataFrame\n",
    "ufo = pd.concat([ufo, type_set], axis=1)\n",
    "\n",
    "# <script.py> output:\n",
    "#     21"
   ]
  },
  {
   "cell_type": "code",
   "execution_count": null,
   "id": "e75fcaf7",
   "metadata": {},
   "outputs": [],
   "source": [
    "#Example\n",
    "# Look at the first 5 rows of the date column\n",
    "print(ufo.date.head())\n",
    "\n",
    "# Extract the month from the date column\n",
    "ufo[\"month\"] = ufo[\"date\"].apply(lambda x: x.month)\n",
    "\n",
    "# Extract the year from the date column\n",
    "ufo[\"year\"] = ufo[\"date\"].apply(lambda y: y.year)\n",
    "\n",
    "# Take a look at the head of all three columns\n",
    "print(ufo[[\"date\", \"month\", \"year\"]].head())\n",
    "\n",
    "# <script.py> output:\n",
    "#     0   2002-11-21 05:45:00\n",
    "#     1   2012-06-16 23:00:00\n",
    "#     2   2013-06-09 00:00:00\n",
    "#     3   2013-04-26 23:27:00\n",
    "#     4   2013-09-13 20:30:00\n",
    "#     Name: date, dtype: datetime64[ns]\n",
    "#                      date  month  year\n",
    "#     0 2002-11-21 05:45:00     11  2002\n",
    "#     1 2012-06-16 23:00:00      6  2012\n",
    "#     2 2013-06-09 00:00:00      6  2013\n",
    "#     3 2013-04-26 23:27:00      4  2013\n",
    "#     4 2013-09-13 20:30:00      9  2013"
   ]
  },
  {
   "cell_type": "code",
   "execution_count": null,
   "id": "8003ad5f",
   "metadata": {},
   "outputs": [],
   "source": [
    "#Example\n",
    "# Take a look at the head of the desc field\n",
    "print(ufo.desc.head())\n",
    "\n",
    "# Create the tfidf vectorizer object\n",
    "vec = TfidfVectorizer()\n",
    "\n",
    "# Use vec's fit_transform method on the desc field\n",
    "desc_tfidf = vec.fit_transform(ufo.desc)\n",
    "\n",
    "# Look at the number of columns this creates\n",
    "print(desc_tfidf.shape)\n",
    "\n",
    "# <script.py> output:\n",
    "#     0    It was a large&#44 triangular shaped flying ob...\n",
    "#     1    Dancing lights that would fly around and then ...\n",
    "#     2    Brilliant orange light or chinese lantern at o...\n",
    "#     3    Bright red light moving north to north west fr...\n",
    "#     4    North-east moving south-west. First 7 or so li...\n",
    "#     Name: desc, dtype: object\n",
    "#     (1866, 3422)"
   ]
  },
  {
   "cell_type": "markdown",
   "id": "52079709",
   "metadata": {},
   "source": [
    "### Feature selection and modeling "
   ]
  },
  {
   "cell_type": "markdown",
   "id": "ea2db781",
   "metadata": {},
   "source": [
    "Feature selection and modeling\n",
    "- Redundant features\n",
    "- Text vector"
   ]
  },
  {
   "cell_type": "markdown",
   "id": "038aa2fd",
   "metadata": {},
   "source": [
    "Final thoughts\n",
    "- Iterative processes\n",
    "- Know your dataset\n",
    "- Understand your modeling task"
   ]
  },
  {
   "cell_type": "code",
   "execution_count": null,
   "id": "df4a5ac2",
   "metadata": {},
   "outputs": [],
   "source": [
    "#Example\n",
    "# Check the correlation between the seconds, seconds_log, and minutes columns\n",
    "print(ufo[[\"seconds\", \"seconds_log\", \"minutes\"]].corr())\n",
    "\n",
    "# Make a list of features to drop\n",
    "to_drop = [\"city\", \"country\", \"lat\", \"long\", \"state\",\"date\", \"recorded\", \"desc\", \"seconds\", \"minutes\", \"length_of_time\"]\n",
    "\n",
    "# Drop those features\n",
    "ufo_dropped = ufo.drop(to_drop, axis = 1)\n",
    "\n",
    "# Let's also filter some words out of the text vector we created\n",
    "filtered_words = words_to_filter(vocab, vec.vocabulary_, desc_tfidf, 4)\n",
    "\n",
    "# <script.py> output:\n",
    "#                   seconds  seconds_log   minutes\n",
    "#     seconds      1.000000     0.853371  0.980341\n",
    "#     seconds_log  0.853371     1.000000  0.824493\n",
    "#     minutes      0.980341     0.824493  1.000000"
   ]
  },
  {
   "cell_type": "code",
   "execution_count": null,
   "id": "8f4f3c95",
   "metadata": {},
   "outputs": [],
   "source": [
    "#Example\n",
    "# Take a look at the features in the X set of data\n",
    "print(X.columns)\n",
    "\n",
    "# Split the X and y sets using train_test_split, setting stratify=y\n",
    "train_X, test_X, train_y, test_y = train_test_split(X, y, stratify = y)\n",
    "\n",
    "# Fit knn to the training sets\n",
    "knn.fit(train_X, train_y)\n",
    "\n",
    "# Print the score of knn on the test sets\n",
    "print(knn.score(test_X, test_y))\n",
    "\n",
    "# <script.py> output:\n",
    "#     Index(['seconds_log', 'changing', 'chevron', 'cigar', 'circle', 'cone',\n",
    "#            'cross', 'cylinder', 'diamond', 'disk', 'egg', 'fireball', 'flash',\n",
    "#            'formation', 'light', 'other', 'oval', 'rectangle', 'sphere',\n",
    "#            'teardrop', 'triangle', 'unknown', 'month', 'year'],\n",
    "#           dtype='object')\n",
    "#     0.8693790149892934"
   ]
  },
  {
   "cell_type": "code",
   "execution_count": null,
   "id": "27d890a9",
   "metadata": {},
   "outputs": [],
   "source": [
    "#Example\n",
    "# Use the list of filtered words we created to filter the text vector\n",
    "filtered_text = desc_tfidf[:, list(filtered_words)]\n",
    "\n",
    "# Split the X and y sets using train_test_split, setting stratify=y \n",
    "train_X, test_X, train_y, test_y = train_test_split(filtered_text.toarray(), y, stratify = y)\n",
    "\n",
    "# Fit nb to the training sets\n",
    "nb.fit(train_X, train_y)\n",
    "\n",
    "# Print the score of nb on the test sets\n",
    "nb.score(test_X, test_y)\n",
    "#0.16274089935760172\n"
   ]
  },
  {
   "cell_type": "markdown",
   "id": "10b630f1",
   "metadata": {},
   "source": [
    "### Congratulations "
   ]
  },
  {
   "cell_type": "markdown",
   "id": "1cc142b6",
   "metadata": {},
   "source": [
    "# Feature Engineering for Machine Learning in Python "
   ]
  },
  {
   "cell_type": "markdown",
   "id": "7f8d841f",
   "metadata": {},
   "source": [
    "## Creating Features"
   ]
  },
  {
   "cell_type": "markdown",
   "id": "f9e4e86f",
   "metadata": {},
   "source": [
    "### Why generate features? "
   ]
  },
  {
   "attachments": {
    "image.png": {
     "image/png": "[encoded data removed]"
    }
   },
   "cell_type": "markdown",
   "id": "20b4c0d1",
   "metadata": {},
   "source": [
    "Feature Engineering\n",
    "![image.png](attachment:image.png)"
   ]
  },
  {
   "cell_type": "markdown",
   "id": "5249a44f",
   "metadata": {},
   "source": [
    "Different types of data (assumptions that will be in a certain format, normal distributed etc)\n",
    "- Continuous: either integers (or whole numbers) or floats (decimals)\n",
    "- Categorical: one of a limited set of values, e.g. gender, country of birth\n",
    "- Ordinal: ranked values, often with no detail of distance between them\n",
    "- Boolean: True/False values\n",
    "- Datetime: dates and times"
   ]
  },
  {
   "cell_type": "markdown",
   "id": "07d98903",
   "metadata": {},
   "source": [
    "Course structure\n",
    "- Chapter 1: Feature creation and extraction\n",
    "- Chapter 2: Engineering messy data\n",
    "- Chapter 3: Feature normalization\n",
    "- Chapter 4: Working with text features"
   ]
  },
  {
   "cell_type": "markdown",
   "id": "adb1cb1b",
   "metadata": {},
   "source": [
    "Pandas"
   ]
  },
  {
   "cell_type": "code",
   "execution_count": null,
   "id": "e12a504a",
   "metadata": {},
   "outputs": [],
   "source": [
    "import pandas as pd\n",
    "df = pd.read_csv(path_to_csv_file)\n",
    "print(df.head())"
   ]
  },
  {
   "cell_type": "markdown",
   "id": "68feae8b",
   "metadata": {},
   "source": [
    "Dataset"
   ]
  },
  {
   "cell_type": "code",
   "execution_count": null,
   "id": "4006473d",
   "metadata": {},
   "outputs": [],
   "source": [
    "# SurveyDate \\\n",
    "# 0 2018-02-28 20:20:00\n",
    "# 1 2018-06-28 13:26:00\n",
    "# 2 2018-06-06 03:37:00\n",
    "# 3 2018-05-09 01:06:00\n",
    "# 4 2018-04-12 22:41:00\n",
    "        \n",
    "# FormalEducation\n",
    "# 0 Bachelor's degree (BA. BS. B.Eng.. etc.)\n",
    "# 1 Bachelor's degree (BA. BS. B.Eng.. etc.)\n",
    "# 2 Bachelor's degree (BA. BS. B.Eng.. etc.)\n",
    "# 3 Some college/university study ...\n",
    "# 4 Bachelor's degree (BA. BS. B.Eng.. etc.)"
   ]
  },
  {
   "cell_type": "markdown",
   "id": "12609f46",
   "metadata": {},
   "source": [
    "Column names"
   ]
  },
  {
   "cell_type": "code",
   "execution_count": null,
   "id": "c1083c14",
   "metadata": {},
   "outputs": [],
   "source": [
    "print(df.columns)\n",
    "# Index(['SurveyDate','FormalEducation',\n",
    "# 'ConvertedSalary','Hobby','Country',\n",
    "# 'StackOverflowJobsRecommend','VersionControl',\n",
    "# 'Age','Years Experience','Gender','RawSalary'], dtype='object')"
   ]
  },
  {
   "cell_type": "markdown",
   "id": "2725c9eb",
   "metadata": {},
   "source": [
    "Column types"
   ]
  },
  {
   "cell_type": "code",
   "execution_count": null,
   "id": "c4be50e7",
   "metadata": {},
   "outputs": [],
   "source": [
    "print(df.dtypes)\n",
    "# SurveyDate object\n",
    "# FormalEducation object\n",
    "# ConvertedSalary float64\n",
    "# ...\n",
    "# Years Experience int64\n",
    "# Gender object\n",
    "# RawSalary object\n",
    "# dtype: object --> contain strings"
   ]
  },
  {
   "cell_type": "markdown",
   "id": "00ae60ff",
   "metadata": {},
   "source": [
    "Selecting specific data types"
   ]
  },
  {
   "cell_type": "code",
   "execution_count": null,
   "id": "60ec3949",
   "metadata": {},
   "outputs": [],
   "source": [
    "only_ints = df.select_dtypes(include=['int'])\n",
    "print(only_ints.columns)\n",
    "# Index(['Age', 'Years Experience'], dtype='object')"
   ]
  },
  {
   "cell_type": "code",
   "execution_count": null,
   "id": "80bb76e6",
   "metadata": {},
   "outputs": [],
   "source": [
    "#Example\n",
    "# Import pandas\n",
    "import pandas as pd\n",
    "\n",
    "# Import so_survey_csv into so_survey_df\n",
    "so_survey_df = pd.read_csv(so_survey_csv)\n",
    "\n",
    "# Print the first five rows of the DataFrame\n",
    "print(so_survey_df.head())\n",
    "\n",
    "# Print the data type of each column\n",
    "print(so_survey_df.dtypes)"
   ]
  },
  {
   "cell_type": "code",
   "execution_count": null,
   "id": "d05113d3",
   "metadata": {},
   "outputs": [],
   "source": [
    "#Example\n",
    "# Create subset of only the numeric columns\n",
    "so_numeric_df = so_survey_df.select_dtypes(include=[int, \"float\"])\n",
    "\n",
    "# Print the column names contained in so_survey_df_num\n",
    "print(so_numeric_df.columns)\n",
    "\n",
    "# <script.py> output:\n",
    "#     Index(['ConvertedSalary', 'StackOverflowJobsRecommend', 'Age', 'Years Experience'], dtype='object')"
   ]
  },
  {
   "cell_type": "markdown",
   "id": "26a4efa8",
   "metadata": {},
   "source": [
    "### Dealing with categorical features "
   ]
  },
  {
   "attachments": {
    "image.png": {
     "image/png": "[encoded data removed]"
    }
   },
   "cell_type": "markdown",
   "id": "f67c0bf4",
   "metadata": {},
   "source": [
    "Encoding categorical features\n",
    "![image.png](attachment:image.png)"
   ]
  },
  {
   "cell_type": "markdown",
   "id": "280d766b",
   "metadata": {},
   "source": [
    "Encoding categorical features\n",
    "- One-hot encoding\n",
    "- Dummy encoding"
   ]
  },
  {
   "cell_type": "markdown",
   "id": "8652911d",
   "metadata": {},
   "source": [
    "One-hot encoding"
   ]
  },
  {
   "cell_type": "code",
   "execution_count": null,
   "id": "892d1cd5",
   "metadata": {},
   "outputs": [],
   "source": [
    "pd.get_dummies(df, columns=['Country'], #get dummies is one-hot encoding\n",
    "               prefix='C') # improve readability \n",
    "# C_France C_India C_UK C_USA\n",
    "# 0 0 1 0 0\n",
    "# 1 0 0 0 1\n",
    "# 2 0 0 1 0\n",
    "# 3 0 0 1 0\n",
    "# 4 1 0 0 0"
   ]
  },
  {
   "cell_type": "markdown",
   "id": "1ba5a977",
   "metadata": {},
   "source": [
    "Dummy encoding"
   ]
  },
  {
   "cell_type": "code",
   "execution_count": null,
   "id": "43173b14",
   "metadata": {},
   "outputs": [],
   "source": [
    "pd.get_dummies(df, columns = [\"Country\"],\n",
    "               drop_fist = True, prefix = \"C\")\n",
    "# C_India C_UK C_USA\n",
    "# 0 1 0 0\n",
    "# 1 0 0 1\n",
    "# 2 0 1 0\n",
    "# 3 0 1 0\n",
    "# 4 0 0 0"
   ]
  },
  {
   "attachments": {
    "image.png": {
     "image/png": "[encoded data removed]"
    }
   },
   "cell_type": "markdown",
   "id": "8fe881e7",
   "metadata": {},
   "source": [
    "One-hot vs. dummies\n",
    "- One-hot encoding: Explainable features\n",
    "- Dummy encoding: Necessary information without duplication\n",
    "![image.png](attachment:image.png)"
   ]
  },
  {
   "cell_type": "markdown",
   "id": "3658839c",
   "metadata": {},
   "source": [
    "Limiting your columns"
   ]
  },
  {
   "cell_type": "code",
   "execution_count": null,
   "id": "f3da5021",
   "metadata": {},
   "outputs": [],
   "source": [
    "counts = df['Country'].value_counts() #instead of creating several ones, use only the most frequent\n",
    "print(counts)\n",
    "# 'USA' 8\n",
    "# 'UK' 6\n",
    "# 'India' 2\n",
    "# 'France' 1\n",
    "# Name: Country, dtype: object"
   ]
  },
  {
   "cell_type": "code",
   "execution_count": null,
   "id": "5b363338",
   "metadata": {},
   "outputs": [],
   "source": [
    "mask = df['Country'].isin(counts[counts < 5].index) #seleciona o index de counts que é menor do que 5\n",
    "df['Country'][mask] = 'Other' #substitui com base no max\n",
    "print(pd.value_counts(colors))\n",
    "# 'USA' 8\n",
    "# 'UK' 6\n",
    "# 'Other' 3\n",
    "# Name: Country, dtype: object"
   ]
  },
  {
   "cell_type": "code",
   "execution_count": null,
   "id": "503757fb",
   "metadata": {},
   "outputs": [],
   "source": [
    "#Example\n",
    "# Convert the Country column to a one hot encoded Data Frame\n",
    "one_hot_encoded = pd.get_dummies(so_survey_df, columns=['Country'], prefix='OH')\n",
    "\n",
    "# Print the columns names\n",
    "print(one_hot_encoded.columns)\n",
    "# <script.py> output:\n",
    "#     Index(['SurveyDate', 'FormalEducation', 'ConvertedSalary', 'Hobby', 'StackOverflowJobsRecommend', 'VersionControl', 'Age', 'Years Experience', 'Gender', 'RawSalary', 'OH_France', 'OH_India',\n",
    "#            'OH_Ireland', 'OH_Russia', 'OH_South Africa', 'OH_Spain', 'OH_Sweeden', 'OH_UK', 'OH_USA', 'OH_Ukraine'],\n",
    "#           dtype='object')\n",
    "\n",
    "\n",
    "# Create dummy variables for the Country column\n",
    "dummy = pd.get_dummies(so_survey_df, columns=[\"Country\"], drop_first=True, prefix='DM')\n",
    "\n",
    "# Print the columns names\n",
    "print(dummy.columns)\n",
    "# <script.py> output:\n",
    "#     Index(['SurveyDate', 'FormalEducation', 'ConvertedSalary', 'Hobby', 'StackOverflowJobsRecommend', 'VersionControl', 'Age', 'Years Experience', 'Gender', 'RawSalary', 'DM_India', 'DM_Ireland',\n",
    "#            'DM_Russia', 'DM_South Africa', 'DM_Spain', 'DM_Sweeden', 'DM_UK', 'DM_USA', 'DM_Ukraine'],\n",
    "#           dtype='object')"
   ]
  },
  {
   "cell_type": "code",
   "execution_count": null,
   "id": "f4a36364",
   "metadata": {},
   "outputs": [],
   "source": [
    "#Example\n",
    "# Create a series out of the Country column\n",
    "countries = so_survey_df.Country\n",
    "\n",
    "# Get the counts of each category\n",
    "country_counts = countries.value_counts()\n",
    "\n",
    "# Print the count values for each category\n",
    "print(country_counts)\n",
    "\n",
    "# <script.py> output:\n",
    "#     South Africa    166\n",
    "#     USA             164\n",
    "#     Spain           134\n",
    "#     Sweeden         119\n",
    "#     France          115\n",
    "#     Russia           97\n",
    "#     UK               95\n",
    "#     India            95\n",
    "#     Ukraine           9\n",
    "#     Ireland           5\n",
    "#     Name: Country, dtype: int64"
   ]
  },
  {
   "cell_type": "code",
   "execution_count": null,
   "id": "dde0e056",
   "metadata": {},
   "outputs": [],
   "source": [
    "#Example\n",
    "\n",
    "# Create a series out of the Country column\n",
    "countries = so_survey_df['Country']\n",
    "\n",
    "# Get the counts of each category\n",
    "country_counts = countries.value_counts()\n",
    "\n",
    "# Create a mask for only categories that occur less than 10 times\n",
    "mask = countries.isin(country_counts[country_counts<10].index)\n",
    "\n",
    "# Print the top 5 rows in the mask series\n",
    "print(mask.head())\n",
    "\n",
    "# <script.py> output:\n",
    "#     0    False\n",
    "#     1    False\n",
    "#     2    False\n",
    "#     3    False\n",
    "#     4    False\n",
    "#     Name: Country, dtype: bool"
   ]
  },
  {
   "cell_type": "code",
   "execution_count": null,
   "id": "8bf48c8c",
   "metadata": {},
   "outputs": [],
   "source": [
    "#Example\n",
    "# Create a series out of the Country column\n",
    "countries = so_survey_df['Country']\n",
    "\n",
    "# Get the counts of each category\n",
    "country_counts = countries.value_counts()\n",
    "\n",
    "# Create a mask for only categories that occur less than 10 times\n",
    "mask = countries.isin(country_counts[country_counts < 10].index)\n",
    "\n",
    "# Label all other categories as Other\n",
    "countries[mask] = 'Other'\n",
    "\n",
    "# Print the updated category counts\n",
    "print(countries.value_counts())\n",
    "\n",
    "# <script.py> output:\n",
    "#     South Africa    166\n",
    "#     USA             164\n",
    "#     Spain           134\n",
    "#     Sweeden         119\n",
    "#     France          115\n",
    "#     Russia           97\n",
    "#     UK               95\n",
    "#     India            95\n",
    "#     Other            14\n",
    "#     Name: Country, dtype: int64"
   ]
  },
  {
   "cell_type": "markdown",
   "id": "b32eb413",
   "metadata": {},
   "source": [
    "### Numeric variables "
   ]
  },
  {
   "cell_type": "markdown",
   "id": "2927bae8",
   "metadata": {},
   "source": [
    "Types of numeric features\n",
    "- Age\n",
    "- Price\n",
    "- Counts\n",
    "- Geospatial data (coordinates)"
   ]
  },
  {
   "attachments": {
    "image.png": {
     "image/png": "[encoded data removed]"
    }
   },
   "cell_type": "markdown",
   "id": "4f3bf942",
   "metadata": {},
   "source": [
    "Does size matter?\n",
    "![image.png](attachment:image.png)"
   ]
  },
  {
   "cell_type": "markdown",
   "id": "280d8ba2",
   "metadata": {},
   "source": [
    "Binarizing numeric variables"
   ]
  },
  {
   "cell_type": "code",
   "execution_count": null,
   "id": "503e5a70",
   "metadata": {},
   "outputs": [],
   "source": [
    "df['Binary_Violation'] = 0\n",
    "df.loc[df['Number_of_Violations'] > 0,\n",
    "       'Binary_Violation'] = 1"
   ]
  },
  {
   "attachments": {
    "image.png": {
     "image/png": "[encoded data removed]"
    }
   },
   "cell_type": "markdown",
   "id": "a13b7eac",
   "metadata": {},
   "source": [
    "![image.png](attachment:image.png)"
   ]
  },
  {
   "cell_type": "markdown",
   "id": "5a047fa4",
   "metadata": {},
   "source": [
    "Binning numeric variables"
   ]
  },
  {
   "cell_type": "code",
   "execution_count": null,
   "id": "0f165ac7",
   "metadata": {},
   "outputs": [],
   "source": [
    "import numpy as np\n",
    "df['Binned_Group'] = pd.cut(\n",
    "    df['Number_of_Violations'],\n",
    "    bins=[-np.inf, 0, 2, np.inf],\n",
    "    labels=[1, 2, 3] #create different bins - group 2 is 1 and 2\n",
    ")"
   ]
  },
  {
   "attachments": {
    "image.png": {
     "image/png": "[encoded data removed]"
    }
   },
   "cell_type": "markdown",
   "id": "721a0eb2",
   "metadata": {},
   "source": [
    "![image.png](attachment:image.png)"
   ]
  },
  {
   "cell_type": "code",
   "execution_count": null,
   "id": "e718614e",
   "metadata": {},
   "outputs": [],
   "source": [
    "#Example\n",
    "# Create the Paid_Job column filled with zeros\n",
    "so_survey_df[\"Paid_Job\"] = 0\n",
    "\n",
    "# Replace all the Paid_Job values where ConvertedSalary is > 0\n",
    "so_survey_df.loc[so_survey_df.ConvertedSalary > 0, 'Paid_Job'] = 1\n",
    "\n",
    "# Print the first five rows of the columns\n",
    "print(so_survey_df[['Paid_Job', 'ConvertedSalary']].head())\n",
    "\n",
    "# <script.py> output:\n",
    "#        Paid_Job  ConvertedSalary\n",
    "#     0         0              0.0\n",
    "#     1         1          70841.0\n",
    "#     2         0              0.0\n",
    "#     3         1          21426.0\n",
    "#     4         1          41671.0"
   ]
  },
  {
   "cell_type": "code",
   "execution_count": null,
   "id": "d6701785",
   "metadata": {},
   "outputs": [],
   "source": [
    "#Example\n",
    "# Bin the continuous variable ConvertedSalary into 5 bins\n",
    "so_survey_df['equal_binned'] = pd.cut(so_survey_df['ConvertedSalary'], bins = 5)\n",
    "\n",
    "# Print the first 5 rows of the equal_binned column\n",
    "print(so_survey_df[['equal_binned', 'ConvertedSalary']].head())\n",
    "\n",
    "# <script.py> output:\n",
    "#               equal_binned  ConvertedSalary\n",
    "#     0  (-2000.0, 400000.0]              0.0\n",
    "#     1  (-2000.0, 400000.0]          70841.0\n",
    "#     2  (-2000.0, 400000.0]              0.0\n",
    "#     3  (-2000.0, 400000.0]          21426.0\n",
    "#     4  (-2000.0, 400000.0]          41671.0"
   ]
  },
  {
   "cell_type": "code",
   "execution_count": null,
   "id": "ce5e02ba",
   "metadata": {},
   "outputs": [],
   "source": [
    "#Example\n",
    "# Import numpy\n",
    "import numpy as np\n",
    "\n",
    "# Specify the boundaries of the bins\n",
    "bins = [-np.inf, 10000, 50000, 100000, 150000, np.inf]\n",
    "\n",
    "# Bin labels\n",
    "labels = ['Very low', 'Low', 'Medium', 'High', 'Very high']\n",
    "\n",
    "# Bin the continuous variable ConvertedSalary using these boundaries\n",
    "so_survey_df['boundary_binned'] = pd.cut(so_survey_df['ConvertedSalary'], \n",
    "                                         bins = bins, labels = labels)\n",
    "\n",
    "# Print the first 5 rows of the boundary_binned column\n",
    "print(so_survey_df[['boundary_binned', 'ConvertedSalary']].head())\n",
    "\n",
    "# <script.py> output:\n",
    "#       boundary_binned  ConvertedSalary\n",
    "#     0        Very low              0.0\n",
    "#     1          Medium          70841.0\n",
    "#     2        Very low              0.0\n",
    "#     3             Low          21426.0\n",
    "#     4             Low          41671.0"
   ]
  },
  {
   "cell_type": "markdown",
   "id": "5bcf8aab",
   "metadata": {},
   "source": [
    "## Dealing with Messy Data "
   ]
  },
  {
   "cell_type": "markdown",
   "id": "a758a4df",
   "metadata": {},
   "source": [
    "### Why do missing values exist? "
   ]
  },
  {
   "cell_type": "markdown",
   "id": "818f25a3",
   "metadata": {},
   "source": [
    "How gaps in data occur\n",
    "- Data not being collected properly\n",
    "- Collection and management errors\n",
    "- Data intentionally being omitted\n",
    "- Could be created due to transformations of the data"
   ]
  },
  {
   "cell_type": "markdown",
   "id": "f0b0ea32",
   "metadata": {},
   "source": [
    "Why we care?\n",
    "- Some models cannot work with missing data (Nulls/NaNs)\n",
    "- Missing data may be a sign of a wider data issue\n",
    "- Missing data can be a useful feature"
   ]
  },
  {
   "cell_type": "markdown",
   "id": "83142a4f",
   "metadata": {},
   "source": [
    "Missing value discovery"
   ]
  },
  {
   "cell_type": "code",
   "execution_count": null,
   "id": "b40eda3f",
   "metadata": {},
   "outputs": [],
   "source": [
    "print(df.info()) #preliminary look of completeness\n",
    "\n",
    "# <class 'pandas.core.frame.DataFrame'>\n",
    "# RangeIndex: 999 entries, 0 to 998\n",
    "# Data columns (total 12 columns):\n",
    "# SurveyDate 999 non-null object\n",
    "# ...\n",
    "# StackOverflowJobsRecommend 487 non-null float64\n",
    "# VersionControl 999 non-null object\n",
    "# Gender 693 non-null object\n",
    "# RawSalary 665 non-null object\n",
    "# dtypes: float64(2), int64(2), object(8)\n",
    "# memory usage: 93.7+ KB"
   ]
  },
  {
   "cell_type": "markdown",
   "id": "417448b5",
   "metadata": {},
   "source": [
    "Finding missing values"
   ]
  },
  {
   "cell_type": "code",
   "execution_count": null,
   "id": "805123a5",
   "metadata": {},
   "outputs": [],
   "source": [
    "print(df.isnull())\n",
    "\n",
    "# StackOverflowJobsRecommend VersionControl ... \\\n",
    "# 0 True False ...\n",
    "# 1 False False ...\n",
    "# 2 False False ...\n",
    "# 3 True False ...\n",
    "# 4 False False ...\n",
    "\n",
    "# Gender RawSalary\n",
    "# 0 False True\n",
    "# 1 False False\n",
    "# 2 True True\n",
    "# 3 False False\n",
    "# 4 False False"
   ]
  },
  {
   "cell_type": "code",
   "execution_count": null,
   "id": "c85ab0f9",
   "metadata": {},
   "outputs": [],
   "source": [
    "print(df['StackOverflowJobsRecommend'].isnull().sum())\n",
    "# 512"
   ]
  },
  {
   "cell_type": "code",
   "execution_count": null,
   "id": "45060cb0",
   "metadata": {},
   "outputs": [],
   "source": [
    "print(df.notnull())\n",
    "\n",
    "# StackOverflowJobsRecommend VersionControl ... \\\n",
    "# 0 False True ...\n",
    "# 1 True True ...\n",
    "# 2 True True ...\n",
    "# 3 False True ...\n",
    "# 4 True True ...\n",
    "\n",
    "# Gender RawSalary\n",
    "# 0 True False\n",
    "# 1 True True\n",
    "# 2 False False\n",
    "# 3 True True\n",
    "# 4 True True"
   ]
  },
  {
   "cell_type": "code",
   "execution_count": null,
   "id": "22175a4c",
   "metadata": {},
   "outputs": [],
   "source": [
    "# Subset the DataFrame\n",
    "sub_df = so_survey_df[[\"Age\", \"Gender\"]]\n",
    "\n",
    "# Print the number of non-missing values\n",
    "print(sub_df.notnull().sum())\n",
    "\n",
    "# <script.py> output:\n",
    "#     Age       999\n",
    "#     Gender    693\n",
    "#     dtype: int64"
   ]
  },
  {
   "cell_type": "code",
   "execution_count": null,
   "id": "675bb9f8",
   "metadata": {},
   "outputs": [],
   "source": [
    "# Print the locations of the missing values\n",
    "print(sub_df.head(10).isna())\n",
    "\n",
    "# Print the locations of the non-missing values\n",
    "print(sub_df.head(10).notna())"
   ]
  },
  {
   "cell_type": "markdown",
   "id": "730b26bc",
   "metadata": {},
   "source": [
    "### Dealing with missing values (I) "
   ]
  },
  {
   "cell_type": "markdown",
   "id": "d2393662",
   "metadata": {},
   "source": [
    "Listwise deletion"
   ]
  },
  {
   "cell_type": "code",
   "execution_count": null,
   "id": "53ab8ef0",
   "metadata": {},
   "outputs": [],
   "source": [
    "#    SurveyDate ConvertedSalary  Hobby ... \\\n",
    "# 0 2/28/18 20:20      NaN        Yes ...\n",
    "# 1 6/28/18 13:26      70841.0    Yes ...\n",
    "# 2 6/6/18 3:37        NaN         No ...\n",
    "# 3 5/9/18 1:06        21426.0    Yes ...\n",
    "# 4 4/12/18 22:41      41671.0    Yes ..."
   ]
  },
  {
   "cell_type": "markdown",
   "id": "3f3cb18c",
   "metadata": {},
   "source": [
    "Listwise deletion (complete case analysis) in Python"
   ]
  },
  {
   "cell_type": "code",
   "execution_count": null,
   "id": "8fe0e775",
   "metadata": {},
   "outputs": [],
   "source": [
    "# Drop all rows with at least one missing values\n",
    "df.dropna(how='any')"
   ]
  },
  {
   "cell_type": "code",
   "execution_count": null,
   "id": "0b5adfaf",
   "metadata": {},
   "outputs": [],
   "source": [
    "# Drop rows with missing values in a specific column\n",
    "df.dropna(subset=['VersionControl'])"
   ]
  },
  {
   "cell_type": "markdown",
   "id": "c2ebfe6f",
   "metadata": {},
   "source": [
    "Issues with deletion\n",
    "- It deletes valid data points\n",
    "- Relies on randomness\n",
    "- Reduces information"
   ]
  },
  {
   "cell_type": "markdown",
   "id": "69d250c7",
   "metadata": {},
   "source": [
    "Replacing with strings"
   ]
  },
  {
   "cell_type": "code",
   "execution_count": null,
   "id": "ed70d668",
   "metadata": {},
   "outputs": [],
   "source": [
    "# Replace missing values in a specific column\n",
    "# with a given string\n",
    "df['VersionControl'].fillna(\n",
    "    value='None Given', inplace=True\n",
    ")"
   ]
  },
  {
   "cell_type": "markdown",
   "id": "b32070e4",
   "metadata": {},
   "source": [
    "Recording missing values"
   ]
  },
  {
   "cell_type": "code",
   "execution_count": null,
   "id": "e284d99d",
   "metadata": {},
   "outputs": [],
   "source": [
    "# Record where the values are not missing\n",
    "df['SalaryGiven'] = df['ConvertedSalary'].notnull()\n",
    "\n",
    "# Drop a specific column\n",
    "df.drop(columns=['ConvertedSalary'])\n",
    "\n",
    "#only takes the cells not null and drop the original"
   ]
  },
  {
   "cell_type": "code",
   "execution_count": null,
   "id": "4a51080a",
   "metadata": {},
   "outputs": [],
   "source": [
    "#Example\n",
    "# Print the number of rows and columns\n",
    "print(so_survey_df.shape)\n",
    "# <script.py> output:\n",
    "#     (999, 11)\n",
    "\n",
    "\n",
    "# Create a new DataFrame dropping all incomplete rows\n",
    "no_missing_values_rows = so_survey_df.dropna(how = \"any\")\n",
    "\n",
    "# Print the shape of the new DataFrame\n",
    "print(no_missing_values_rows.shape)\n",
    "# <script.py> output:\n",
    "#     (264, 11)\n",
    "\n",
    "\n",
    "# Create a new DataFrame dropping all columns with incomplete rows\n",
    "no_missing_values_cols = so_survey_df.dropna(how = \"any\", axis=1)\n",
    "\n",
    "# Print the shape of the new DataFrame\n",
    "print(no_missing_values_cols.shape)\n",
    "# <script.py> output:\n",
    "#     (999, 7)\n",
    "\n",
    "\n",
    "# Drop all rows where Gender is missing\n",
    "no_gender = so_survey_df.dropna(subset = [\"Gender\"])\n",
    "\n",
    "# Print the shape of the new DataFrame\n",
    "print(no_gender.shape)\n",
    "# <script.py> output:\n",
    "#     (693, 11)"
   ]
  },
  {
   "cell_type": "code",
   "execution_count": null,
   "id": "27d802aa",
   "metadata": {},
   "outputs": [],
   "source": [
    "#Example\n",
    "# Print the count of occurrences\n",
    "print(so_survey_df['Gender'].value_counts())\n",
    "# <script.py> output:\n",
    "#     Male                                                                         632\n",
    "#     Female                                                                        53\n",
    "#     Female;Male                                                                    2\n",
    "#     Transgender                                                                    2\n",
    "#     Female;Male;Transgender;Non-binary. genderqueer. or gender non-conforming      1\n",
    "#     Male;Non-binary. genderqueer. or gender non-conforming                         1\n",
    "#     Non-binary. genderqueer. or gender non-conforming                              1\n",
    "#     Female;Transgender                                                             1\n",
    "#     Name: Gender, dtype: int64\n",
    "\n",
    "# Replace missing values\n",
    "so_survey_df['Gender'].fillna(value = \"Not Given\", inplace = True)\n",
    "\n",
    "# Print the count of each value\n",
    "print(so_survey_df['Gender'].value_counts())\n",
    "# <script.py> output:\n",
    "#     Male                                                                         632\n",
    "#     Not Given                                                                    306\n",
    "#     Female                                                                        53\n",
    "#     Female;Male                                                                    2\n",
    "#     Transgender                                                                    2\n",
    "#     Female;Male;Transgender;Non-binary. genderqueer. or gender non-conforming      1\n",
    "#     Male;Non-binary. genderqueer. or gender non-conforming                         1\n",
    "#     Non-binary. genderqueer. or gender non-conforming                              1\n",
    "#     Female;Transgender                                                             1\n",
    "#     Name: Gender, dtype: int64"
   ]
  },
  {
   "cell_type": "markdown",
   "id": "7d851018",
   "metadata": {},
   "source": [
    "### Dealing with missing values (II) "
   ]
  },
  {
   "cell_type": "markdown",
   "id": "f716c12e",
   "metadata": {},
   "source": [
    "Deleting missing values\n",
    "- Can't delete rows with missing values in the test set"
   ]
  },
  {
   "cell_type": "markdown",
   "id": "5f31d252",
   "metadata": {},
   "source": [
    "What else can you do?\n",
    "- Categorical columns: Replace missing values with the most common occurring value or with a string that flags missing values such as 'None'\n",
    "- Numeric columns: Replace missing values with a suitable value"
   ]
  },
  {
   "cell_type": "markdown",
   "id": "ee94d1c1",
   "metadata": {},
   "source": [
    "Measures of central tendency (bias estimates of variances and covariances of the features). metrics should be calculated before the inputation\n",
    "- Mean\n",
    "- Median"
   ]
  },
  {
   "cell_type": "markdown",
   "id": "4336ac6a",
   "metadata": {},
   "source": [
    "Calculating the measures of central tendency"
   ]
  },
  {
   "cell_type": "code",
   "execution_count": null,
   "id": "74d08ed3",
   "metadata": {},
   "outputs": [],
   "source": [
    "print(df['ConvertedSalary'].mean())\n",
    "print(df['ConvertedSalary'].median())\n",
    "# 92565.16992481203\n",
    "# 55562.0"
   ]
  },
  {
   "cell_type": "markdown",
   "id": "9ea9e8f1",
   "metadata": {},
   "source": [
    "Fill the missing values"
   ]
  },
  {
   "cell_type": "code",
   "execution_count": null,
   "id": "ef462b4a",
   "metadata": {},
   "outputs": [],
   "source": [
    "df['ConvertedSalary'] = df['ConvertedSalary'].fillna(\n",
    "    df['ConvertedSalary'].mean()\n",
    ")\n",
    "\n",
    "df['ConvertedSalary'] = df['ConvertedSalary']\\\n",
    "                        .astype('int64') #eliminate decimals place"
   ]
  },
  {
   "cell_type": "markdown",
   "id": "909f8145",
   "metadata": {},
   "source": [
    "Rounding values"
   ]
  },
  {
   "cell_type": "code",
   "execution_count": null,
   "id": "f22b52fc",
   "metadata": {},
   "outputs": [],
   "source": [
    "df['ConvertedSalary'] = df['ConvertedSalary'].fillna(\n",
    "    round(df['ConvertedSalary'].mean()) #round before transforming\n",
    ")"
   ]
  },
  {
   "cell_type": "code",
   "execution_count": null,
   "id": "bcec655e",
   "metadata": {},
   "outputs": [],
   "source": [
    "#Example\n",
    "# Print the first five rows of StackOverflowJobsRecommend column\n",
    "print(so_survey_df.StackOverflowJobsRecommend.head())\n",
    "# <script.py> output:\n",
    "#     0    NaN\n",
    "#     1    7.0\n",
    "#     2    8.0\n",
    "#     3    NaN\n",
    "#     4    8.0\n",
    "#     Name: StackOverflowJobsRecommend, dtype: float64\n",
    "\n",
    "# Fill missing values with the mean\n",
    "so_survey_df['StackOverflowJobsRecommend'].fillna(so_survey_df['StackOverflowJobsRecommend'].mean(), inplace=True)\n",
    "\n",
    "# Round the StackOverflowJobsRecommend values\n",
    "so_survey_df['StackOverflowJobsRecommend'] = round(so_survey_df['StackOverflowJobsRecommend'])\n",
    "\n",
    "# Print the top 5 rows\n",
    "print(so_survey_df['StackOverflowJobsRecommend'].head())\n",
    "\n",
    "# <script.py> output:\n",
    "#     0    7.0\n",
    "#     1    7.0\n",
    "#     2    8.0\n",
    "#     3    7.0\n",
    "#     4    8.0\n",
    "#     Name: StackOverflowJobsRecommend, dtype: float64"
   ]
  },
  {
   "cell_type": "markdown",
   "id": "950daf7f",
   "metadata": {},
   "source": [
    "Question: Imputing values in predictive models\n",
    "- When working with predictive models you will often have a separate train and test DataFrames. In these cases you want to ensure no information from your test set leaks into your train set. When filling missing values in data to be used in these situations how should approach the two datasets?\n",
    "\n",
    "Answer: \n",
    "- Apply the measures of central tendency (mean/median etc.) calculated on the train set to both the train and test sets."
   ]
  },
  {
   "cell_type": "markdown",
   "id": "f3fb0bd3",
   "metadata": {},
   "source": [
    "### Dealing with other data issues "
   ]
  },
  {
   "cell_type": "markdown",
   "id": "96efe678",
   "metadata": {},
   "source": [
    "Bad characters"
   ]
  },
  {
   "cell_type": "code",
   "execution_count": null,
   "id": "c20f83f3",
   "metadata": {},
   "outputs": [],
   "source": [
    "print(df['RawSalary'].dtype)\n",
    "# dtype('O')"
   ]
  },
  {
   "cell_type": "code",
   "execution_count": null,
   "id": "655806e8",
   "metadata": {},
   "outputs": [],
   "source": [
    "print(df['RawSalary'].head())\n",
    "# 0 NaN\n",
    "# 1 70,841.00\n",
    "# 2 NaN\n",
    "# 3 21,426.00\n",
    "# 4 41,671.00\n",
    "# Name: RawSalary, dtype: object"
   ]
  },
  {
   "cell_type": "markdown",
   "id": "2468f00e",
   "metadata": {},
   "source": [
    "Dealing with bad characters"
   ]
  },
  {
   "cell_type": "code",
   "execution_count": null,
   "id": "abd5d052",
   "metadata": {},
   "outputs": [],
   "source": [
    "df['RawSalary'] = df['RawSalary'].str.replace(',','')\n",
    "df['RawSalary'] = df['RawSalary'].astype('float')\n",
    "\n",
    "#if there is any other characters, it is an stray character"
   ]
  },
  {
   "cell_type": "markdown",
   "id": "e217d61b",
   "metadata": {},
   "source": [
    "Finding other stray characters"
   ]
  },
  {
   "cell_type": "code",
   "execution_count": null,
   "id": "4ef47bbe",
   "metadata": {},
   "outputs": [],
   "source": [
    "#doing this will put all cell errors into nan\n",
    "coerced_vals = pd.to_numeric(df['RawSalary'], errors='coerce') "
   ]
  },
  {
   "cell_type": "code",
   "execution_count": null,
   "id": "c5433da3",
   "metadata": {},
   "outputs": [],
   "source": [
    "print(df[coerced_vals.isna()].head())\n",
    "# 0 NaN\n",
    "# 2 NaN\n",
    "# 4 $51408.00\n",
    "# Name: RawSalary, dtype: object"
   ]
  },
  {
   "cell_type": "markdown",
   "id": "970ce1aa",
   "metadata": {},
   "source": [
    "Chaining methods"
   ]
  },
  {
   "cell_type": "code",
   "execution_count": null,
   "id": "59c0ed48",
   "metadata": {},
   "outputs": [],
   "source": [
    "df['column_name'] = df['column_name'].method1()\n",
    "df['column_name'] = df['column_name'].method2()\n",
    "df['column_name'] = df['column_name'].method3()\n",
    "\n",
    "# Same as:\n",
    "df['column_name'] = df['column_name']\\\n",
    "                    .method1().method2().method3()"
   ]
  },
  {
   "cell_type": "code",
   "execution_count": null,
   "id": "eb1ab197",
   "metadata": {},
   "outputs": [],
   "source": [
    "#Example\n",
    "# Remove the commas in the column\n",
    "so_survey_df['RawSalary'] = so_survey_df['RawSalary'].str.replace(',', '')\n",
    "# Remove the dollar signs in the column\n",
    "so_survey_df['RawSalary'] = so_survey_df['RawSalary'].str.replace(\"$\", \"\")"
   ]
  },
  {
   "cell_type": "code",
   "execution_count": null,
   "id": "14c3b3e3",
   "metadata": {},
   "outputs": [],
   "source": [
    "#Example\n",
    "# Attempt to convert the column to numeric values\n",
    "numeric_vals = pd.to_numeric(so_survey_df['RawSalary'], errors='coerce')\n",
    "\n",
    "# Find the indexes of missing values\n",
    "idx = numeric_vals.isna()\n",
    "\n",
    "# Print the relevant rows\n",
    "print(so_survey_df['RawSalary'][idx])\n",
    "\n",
    "# <script.py> output:\n",
    "#     0            NaN\n",
    "#     2            NaN\n",
    "#     4      £41671.00\n",
    "#     6            NaN\n",
    "#     8            NaN\n",
    "#              ...    \n",
    "#     989          NaN\n",
    "#     990          NaN\n",
    "#     992          NaN\n",
    "#     994          NaN\n",
    "#     997          NaN\n",
    "#     Name: RawSalary, Length: 401, dtype: object\n",
    "\n",
    "# Replace the offending characters\n",
    "so_survey_df['RawSalary'] = so_survey_df['RawSalary'].str.replace(\"£\", \"\")\n",
    "\n",
    "# Convert the column to float\n",
    "so_survey_df['RawSalary'] = so_survey_df['RawSalary'].astype(\"float\")\n",
    "\n",
    "# Print the column\n",
    "print(so_survey_df['RawSalary'])\n",
    "# <script.py> output:\n",
    "#     0            NaN\n",
    "#     1        70841.0\n",
    "#     2            NaN\n",
    "#     3        21426.0\n",
    "#     4        41671.0\n",
    "#              ...    \n",
    "#     994          NaN\n",
    "#     995      58746.0\n",
    "#     996      55000.0\n",
    "#     997          NaN\n",
    "#     998    1000000.0\n",
    "#     Name: RawSalary, Length: 999, dtype: float64"
   ]
  },
  {
   "cell_type": "code",
   "execution_count": 1,
   "id": "4e1ba88e",
   "metadata": {
    "ExecuteTime": {
     "end_time": "2022-05-12T00:26:33.395008Z",
     "start_time": "2022-05-12T00:26:33.381657Z"
    }
   },
   "outputs": [],
   "source": [
    "#Example\n",
    "# Use method chaining\n",
    "so_survey_df['RawSalary'] = so_survey_df['RawSalary']\\\n",
    "                              .str.replace(\",\",\"\")\\\n",
    "                              .str.replace(\"$\", \"\")\\\n",
    "                              .str.replace(\"£\", \"\")\\\n",
    "                              .astype(\"float\")\n",
    " \n",
    "# Print the RawSalary column\n",
    "print(so_survey_df['RawSalary'])\n",
    "#same output as before"
   ]
  },
  {
   "cell_type": "markdown",
   "id": "efdd25a4",
   "metadata": {},
   "source": [
    "## Conforming to Statistical Assumptions "
   ]
  },
  {
   "cell_type": "markdown",
   "id": "da19a225",
   "metadata": {},
   "source": [
    "### Data distributions "
   ]
  },
  {
   "attachments": {
    "image.png": {
     "image/png": "[encoded data removed]"
    }
   },
   "cell_type": "markdown",
   "id": "e07c394d",
   "metadata": {},
   "source": [
    "Distribution assumptions\n",
    "![image.png](attachment:image.png)"
   ]
  },
  {
   "cell_type": "markdown",
   "id": "ea9ffb33",
   "metadata": {},
   "source": [
    "Observing your data"
   ]
  },
  {
   "cell_type": "code",
   "execution_count": null,
   "id": "27edef20",
   "metadata": {},
   "outputs": [],
   "source": [
    "import matplotlib as plt\n",
    "\n",
    "df.hist()\n",
    "plt.show() #(almost normal and long right tail)"
   ]
  },
  {
   "attachments": {
    "image.png": {
     "image/png": "[encoded data removed]"
    }
   },
   "cell_type": "markdown",
   "id": "6f7e0abb",
   "metadata": {},
   "source": [
    "![image.png](attachment:image.png)"
   ]
  },
  {
   "attachments": {
    "image.png": {
     "image/png": "[encoded data removed]"
    }
   },
   "cell_type": "markdown",
   "id": "64cee921",
   "metadata": {},
   "source": [
    "Delving deeper with box plots\n",
    "![image.png](attachment:image.png)"
   ]
  },
  {
   "cell_type": "markdown",
   "id": "d433d0f9",
   "metadata": {},
   "source": [
    "Box plots in pandas"
   ]
  },
  {
   "cell_type": "code",
   "execution_count": null,
   "id": "460e5507",
   "metadata": {},
   "outputs": [],
   "source": [
    "df[['column_1']].boxplot()\n",
    "plt.show()"
   ]
  },
  {
   "attachments": {
    "image.png": {
     "image/png": "[encoded data removed]"
    }
   },
   "cell_type": "markdown",
   "id": "17cbf2bb",
   "metadata": {},
   "source": [
    "![image.png](attachment:image.png)"
   ]
  },
  {
   "cell_type": "markdown",
   "id": "21a5a5f2",
   "metadata": {},
   "source": [
    "Paring distributions"
   ]
  },
  {
   "cell_type": "code",
   "execution_count": null,
   "id": "8041c3da",
   "metadata": {},
   "outputs": [],
   "source": [
    "import seaborn as sns\n",
    "sns.pairplot(df)"
   ]
  },
  {
   "attachments": {
    "image.png": {
     "image/png": "[encoded data removed]"
    }
   },
   "cell_type": "markdown",
   "id": "566ee915",
   "metadata": {},
   "source": [
    "![image.png](attachment:image.png)"
   ]
  },
  {
   "cell_type": "markdown",
   "id": "3855761d",
   "metadata": {},
   "source": [
    "Further details on your distributions"
   ]
  },
  {
   "cell_type": "code",
   "execution_count": null,
   "id": "1c721e35",
   "metadata": {},
   "outputs": [],
   "source": [
    "df.describe()"
   ]
  },
  {
   "attachments": {
    "image.png": {
     "image/png": "[encoded data removed]"
    }
   },
   "cell_type": "markdown",
   "id": "bed0b6ac",
   "metadata": {},
   "source": [
    "![image.png](attachment:image.png)"
   ]
  },
  {
   "cell_type": "code",
   "execution_count": null,
   "id": "7bfdbcc1",
   "metadata": {},
   "outputs": [],
   "source": [
    "#Example\n",
    "# Create a histogram\n",
    "so_numeric_df.hist()\n",
    "plt.show()"
   ]
  },
  {
   "attachments": {
    "image.png": {
     "image/png": "[encoded data removed]"
    }
   },
   "cell_type": "markdown",
   "id": "850359ab",
   "metadata": {},
   "source": [
    "![image.png](attachment:image.png)"
   ]
  },
  {
   "cell_type": "code",
   "execution_count": null,
   "id": "27dd520b",
   "metadata": {},
   "outputs": [],
   "source": [
    "# Create a boxplot of two columns\n",
    "so_numeric_df[['Age', 'Years Experience']].boxplot()\n",
    "plt.show()"
   ]
  },
  {
   "attachments": {
    "image.png": {
     "image/png": "[encoded data removed]"
    }
   },
   "cell_type": "markdown",
   "id": "7fa6ccad",
   "metadata": {},
   "source": [
    "![image.png](attachment:image.png)"
   ]
  },
  {
   "cell_type": "code",
   "execution_count": null,
   "id": "caf59961",
   "metadata": {},
   "outputs": [],
   "source": [
    "# Create a boxplot of ConvertedSalary\n",
    "so_numeric_df[[\"ConvertedSalary\"]].boxplot()\n",
    "plt.show()"
   ]
  },
  {
   "attachments": {
    "image.png": {
     "image/png": "[encoded data removed]"
    }
   },
   "cell_type": "markdown",
   "id": "304688ee",
   "metadata": {},
   "source": [
    "![image.png](attachment:image.png)"
   ]
  },
  {
   "cell_type": "code",
   "execution_count": null,
   "id": "22ca4925",
   "metadata": {},
   "outputs": [],
   "source": [
    "# Import packages\n",
    "from matplotlib import pyplot as plt\n",
    "import seaborn as sns\n",
    "\n",
    "# Plot pairwise relationships\n",
    "sns.pairplot(so_numeric_df)\n",
    "\n",
    "# Show plot\n",
    "plt.show()"
   ]
  },
  {
   "attachments": {
    "image.png": {
     "image/png": "[encoded data removed]"
    }
   },
   "cell_type": "markdown",
   "id": "9582241f",
   "metadata": {},
   "source": [
    "![image.png](attachment:image.png)b"
   ]
  },
  {
   "cell_type": "code",
   "execution_count": null,
   "id": "e5d86657",
   "metadata": {},
   "outputs": [],
   "source": [
    "# Print summary statistics\n",
    "print(so_numeric_df.describe())\n",
    "\n",
    "# <script.py> output:\n",
    "#            ConvertedSalary      Age  Years Experience\n",
    "#     count        9.990e+02  999.000           999.000\n",
    "#     mean         6.162e+04   36.003             9.962\n",
    "#     std          1.761e+05   13.255             4.878\n",
    "#     min          0.000e+00   18.000             0.000\n",
    "#     25%          0.000e+00   25.000             7.000\n",
    "#     50%          2.712e+04   35.000            10.000\n",
    "#     75%          7.000e+04   45.000            13.000\n",
    "#     max          2.000e+06   83.000            27.000"
   ]
  },
  {
   "cell_type": "markdown",
   "id": "9d4eef77",
   "metadata": {},
   "source": [
    "OBS: decision trees do not have to normalize data --> \"Correct! As decision trees split along a singular point, they do not require all the columns to be on the same scale.\""
   ]
  },
  {
   "cell_type": "markdown",
   "id": "6bf75f05",
   "metadata": {},
   "source": [
    "### Scaling and transformations "
   ]
  },
  {
   "attachments": {
    "image.png": {
     "image/png": "[encoded data removed]"
    }
   },
   "cell_type": "markdown",
   "id": "a40d5c61",
   "metadata": {},
   "source": [
    "Scaling data\n",
    "![image.png](attachment:image.png)"
   ]
  },
  {
   "attachments": {
    "image-2.png": {
     "image/png": "[encoded data removed]"
    },
    "image.png": {
     "image/png": "[encoded data removed]"
    }
   },
   "cell_type": "markdown",
   "id": "7f7d2d3f",
   "metadata": {},
   "source": [
    "Min-Max scaling (normalizaton) - values change, but not the distribution\n",
    "![image.png](attachment:image.png)\n",
    "![image-2.png](attachment:image-2.png)"
   ]
  },
  {
   "cell_type": "markdown",
   "id": "9e55a9ac",
   "metadata": {},
   "source": [
    "Min-Max scaling in Python"
   ]
  },
  {
   "cell_type": "code",
   "execution_count": null,
   "id": "beb42dd8",
   "metadata": {},
   "outputs": [],
   "source": [
    "from sklearn.preprocessing import MinMaxScaler\n",
    "scaler = MinMaxScaler() #instantiate the minmaxscaler\n",
    "scaler.fit(df[['Age']])\n",
    "df['normalized_age'] = scaler.transform(df[['Age']])"
   ]
  },
  {
   "attachments": {
    "image.png": {
     "image/png": "[encoded data removed]"
    }
   },
   "cell_type": "markdown",
   "id": "61486cd1",
   "metadata": {},
   "source": [
    "Standardization\n",
    "![image.png](attachment:image.png)"
   ]
  },
  {
   "cell_type": "markdown",
   "id": "c667d632",
   "metadata": {},
   "source": [
    "Standardization in Python"
   ]
  },
  {
   "cell_type": "code",
   "execution_count": null,
   "id": "cc6da0e0",
   "metadata": {},
   "outputs": [],
   "source": [
    "from sklearn.preprocessing import StandardScaler\n",
    "scaler = StandardScaler()\n",
    "scaler.fit(df[['Age']])\n",
    "df['standardized_col'] = scaler\\\n",
    "                        .transform(df[['Age']])"
   ]
  },
  {
   "attachments": {
    "image.png": {
     "image/png": "[encoded data removed]"
    }
   },
   "cell_type": "markdown",
   "id": "0fd49461",
   "metadata": {},
   "source": [
    "Log Transformation\n",
    "![image.png](attachment:image.png)"
   ]
  },
  {
   "cell_type": "markdown",
   "id": "f67ae22b",
   "metadata": {},
   "source": [
    "Log transformation in Python"
   ]
  },
  {
   "cell_type": "code",
   "execution_count": null,
   "id": "782661e8",
   "metadata": {},
   "outputs": [],
   "source": [
    "from sklearn.preprocessing import PowerTransformer\n",
    "log = PowerTransformer()\n",
    "log.fit(df[['ConvertedSalary']])\n",
    "df['log_ConvertedSalary'] = \n",
    "     log.transform(df[['ConvertedSalary']])"
   ]
  },
  {
   "cell_type": "code",
   "execution_count": null,
   "id": "7a21ab78",
   "metadata": {},
   "outputs": [],
   "source": [
    "#Example\n",
    "# Import MinMaxScaler\n",
    "from sklearn.preprocessing import MinMaxScaler\n",
    "\n",
    "# Instantiate MinMaxScaler\n",
    "MM_scaler = MinMaxScaler()\n",
    "\n",
    "# Fit MM_scaler to the data\n",
    "MM_scaler.fit(so_numeric_df[['Age']])\n",
    "\n",
    "# Transform the data using the fitted scaler\n",
    "so_numeric_df['Age_MM'] = MM_scaler.transform(so_numeric_df[['Age']])\n",
    "\n",
    "# Compare the origional and transformed column\n",
    "print(so_numeric_df[['Age_MM', 'Age']].head())\n",
    "\n",
    "<script.py> output:\n",
    "       Age_MM  Age\n",
    "    0   0.046   21\n",
    "    1   0.308   38\n",
    "    2   0.415   45\n",
    "    3   0.431   46\n",
    "    4   0.323   39"
   ]
  },
  {
   "cell_type": "code",
   "execution_count": null,
   "id": "6908db3e",
   "metadata": {},
   "outputs": [],
   "source": [
    "#Example\n",
    "# Import StandardScaler\n",
    "from sklearn.preprocessing import StandardScaler\n",
    "\n",
    "# Instantiate StandardScaler\n",
    "SS_scaler = StandardScaler()\n",
    "\n",
    "# Fit SS_scaler to the data\n",
    "SS_scaler.fit(so_numeric_df[['Age']])\n",
    "\n",
    "# Transform the data using the fitted scaler\n",
    "so_numeric_df['Age_SS'] = SS_scaler.transform(so_numeric_df[['Age']])\n",
    "\n",
    "# Compare the origional and transformed column\n",
    "print(so_numeric_df[['Age_SS', 'Age']].head())\n",
    "<script.py> output:\n",
    "       Age_SS  Age\n",
    "    0  -1.132   21\n",
    "    1   0.151   38\n",
    "    2   0.679   45\n",
    "    3   0.755   46\n",
    "    4   0.226   39"
   ]
  },
  {
   "cell_type": "code",
   "execution_count": null,
   "id": "52a537d6",
   "metadata": {},
   "outputs": [],
   "source": [
    "#Example\n",
    "# Import PowerTransformer\n",
    "from sklearn.preprocessing import PowerTransformer\n",
    "\n",
    "# Instantiate PowerTransformer\n",
    "pow_trans = PowerTransformer()\n",
    "\n",
    "# Train the transform on the data\n",
    "pow_trans.fit(so_numeric_df[[\"ConvertedSalary\"]])\n",
    "\n",
    "# Apply the power transform to the data\n",
    "so_numeric_df['ConvertedSalary_LG'] = pow_trans.transform(so_numeric_df[['ConvertedSalary']])\n",
    "\n",
    "# Plot the data before and after the transformation\n",
    "so_numeric_df[['ConvertedSalary', 'ConvertedSalary_LG']].hist()\n",
    "plt.show()"
   ]
  },
  {
   "attachments": {
    "image.png": {
     "image/png": "[encoded data removed]"
    }
   },
   "cell_type": "markdown",
   "id": "9e9082d8",
   "metadata": {},
   "source": [
    "![image.png](attachment:image.png)"
   ]
  },
  {
   "cell_type": "markdown",
   "id": "aa943291",
   "metadata": {},
   "source": [
    "### Removig outliers "
   ]
  },
  {
   "attachments": {
    "image.png": {
     "image/png": "[encoded data removed]"
    }
   },
   "cell_type": "markdown",
   "id": "df10c424",
   "metadata": {},
   "source": [
    "What are outliers?\n",
    "![image.png](attachment:image.png)"
   ]
  },
  {
   "attachments": {
    "image.png": {
     "image/png": "[encoded data removed]"
    }
   },
   "cell_type": "markdown",
   "id": "7ad2618c",
   "metadata": {},
   "source": [
    "Quantile based detection (remove a certain percentage - important when extreme values should be avoided)\n",
    "![image.png](attachment:image.png)"
   ]
  },
  {
   "cell_type": "markdown",
   "id": "3f170d0d",
   "metadata": {},
   "source": [
    "Quantiles in Python"
   ]
  },
  {
   "cell_type": "code",
   "execution_count": null,
   "id": "c25dd438",
   "metadata": {},
   "outputs": [],
   "source": [
    "q_cutoff = df['col_name'].quantile(0.95)\n",
    "mask = df['col_name'] < q_cutoff\n",
    "trimmed_df = df[mask]"
   ]
  },
  {
   "attachments": {
    "image.png": {
     "image/png": "[encoded data removed]"
    }
   },
   "cell_type": "markdown",
   "id": "25ff7598",
   "metadata": {},
   "source": [
    "Standard deviation based detection\n",
    "![image.png](attachment:image.png)"
   ]
  },
  {
   "cell_type": "markdown",
   "id": "18e85aba",
   "metadata": {},
   "source": [
    "Standard deviation detection in Python"
   ]
  },
  {
   "cell_type": "code",
   "execution_count": null,
   "id": "f3610e7e",
   "metadata": {},
   "outputs": [],
   "source": [
    "mean = df['col_name'].mean()\n",
    "std = df['col_name'].std()\n",
    "cut_off = std * 3\n",
    "\n",
    "#identify upper and lower bound\n",
    "lower, upper = mean - cut_off, mean + cut_off\n",
    "new_df = df[(df['col_name'] < upper) &(df['col_name'] > lower)]"
   ]
  },
  {
   "cell_type": "code",
   "execution_count": null,
   "id": "0c24d033",
   "metadata": {},
   "outputs": [],
   "source": [
    "#Example\n",
    "# Find the 95th quantile\n",
    "quantile = so_numeric_df['ConvertedSalary'].quantile(0.95)\n",
    "\n",
    "# Trim the outliers\n",
    "trimmed_df = so_numeric_df[so_numeric_df['ConvertedSalary'] < quantile]\n",
    "\n",
    "# The original histogram\n",
    "so_numeric_df[['ConvertedSalary']].hist()\n",
    "plt.show()\n",
    "plt.clf()\n",
    "\n",
    "# The trimmed histogram\n",
    "trimmed_df[['ConvertedSalary']].hist()\n",
    "plt.show()"
   ]
  },
  {
   "attachments": {
    "image-2.png": {
     "image/png": "[encoded data removed]"
    },
    "image.png": {
     "image/png": "[encoded data removed]"
    }
   },
   "cell_type": "markdown",
   "id": "7b9defc0",
   "metadata": {},
   "source": [
    "![image-2.png](attachment:image-2.png)\n",
    "![image.png](attachment:image.png)"
   ]
  },
  {
   "cell_type": "code",
   "execution_count": null,
   "id": "0ff862b3",
   "metadata": {},
   "outputs": [],
   "source": [
    "#Example\n",
    "# Find the mean and standard dev\n",
    "std = so_numeric_df['ConvertedSalary'].std()\n",
    "mean = so_numeric_df['ConvertedSalary'].mean()\n",
    "\n",
    "# Calculate the cutoff\n",
    "cut_off = std * 3\n",
    "lower, upper = mean - cut_off, mean + cut_off\n",
    "\n",
    "# Trim the outliers\n",
    "trimmed_df = so_numeric_df[(so_numeric_df['ConvertedSalary'] < upper)  \n",
    "                           & (so_numeric_df['ConvertedSalary'] > lower)]\n",
    "\n",
    "# The trimmed box plot\n",
    "trimmed_df[['ConvertedSalary']].boxplot()\n",
    "plt.show()"
   ]
  },
  {
   "attachments": {
    "image-2.png": {
     "image/png": "[encoded data removed]"
    },
    "image.png": {
     "image/png": "[encoded data removed]"
    }
   },
   "cell_type": "markdown",
   "id": "c0027981",
   "metadata": {},
   "source": [
    "![image.png](attachment:image.png)\n",
    "![image-2.png](attachment:image-2.png)"
   ]
  },
  {
   "cell_type": "markdown",
   "id": "9b70e9a0",
   "metadata": {},
   "source": [
    "### Scaling and transforming new data"
   ]
  },
  {
   "cell_type": "markdown",
   "id": "b02a76c9",
   "metadata": {},
   "source": [
    "Reuse training scalers"
   ]
  },
  {
   "cell_type": "code",
   "execution_count": null,
   "id": "fa586fd3",
   "metadata": {},
   "outputs": [],
   "source": [
    "scaler = StandardScaler()\n",
    "scaler.fit(train[['col']])\n",
    "train['scaled_col'] = scaler.transform(train[['col']])\n",
    "# FIT SOME MODEL\n",
    "# ....\n",
    "test = pd.read_csv('test_csv')\n",
    "test['scaled_col'] = scaler.transform(test[['col']])"
   ]
  },
  {
   "cell_type": "markdown",
   "id": "54842036",
   "metadata": {},
   "source": [
    "Training transformations for reuse"
   ]
  },
  {
   "cell_type": "code",
   "execution_count": null,
   "id": "ef9bb14b",
   "metadata": {},
   "outputs": [],
   "source": [
    "train_mean = train[['col']].mean()\n",
    "train_std = train[['col']].std()\n",
    "\n",
    "cut_off = train_std * 3\n",
    "train_lower = train_mean - cut_off\n",
    "train_upper = train_mean + cut_off\n",
    "\n",
    "# Subset train data\n",
    "test = pd.read_csv('test_csv')\n",
    "\n",
    "# Subset test data\n",
    "test = test[(test[['col']] < train_upper) &(test[['col']] > train_lower)]"
   ]
  },
  {
   "cell_type": "markdown",
   "id": "71c0ecb7",
   "metadata": {},
   "source": [
    "Why only use training data?\n",
    "- Data leakage: Using data that you won't have access to when\n",
    "assessing the performance of your model"
   ]
  },
  {
   "cell_type": "code",
   "execution_count": null,
   "id": "f769f97b",
   "metadata": {},
   "outputs": [],
   "source": [
    "#Example\n",
    "# Import StandardScaler\n",
    "from sklearn.preprocessing import StandardScaler\n",
    "\n",
    "# Apply a standard scaler to the data\n",
    "SS_scaler = StandardScaler()\n",
    "\n",
    "# Fit the standard scaler to the data\n",
    "SS_scaler.fit(so_train_numeric[[\"Age\"]])\n",
    "\n",
    "# Transform the test data using the fitted scaler\n",
    "so_test_numeric['Age_ss'] = SS_scaler.transform(so_test_numeric[[\"Age\"]])\n",
    "print(so_test_numeric[['Age', 'Age_ss']].head())\n",
    "\n",
    "<script.py> output:\n",
    "         Age  Age_ss\n",
    "    700   35  -0.069\n",
    "    701   18  -1.343\n",
    "    702   47   0.830\n",
    "    703   57   1.579\n",
    "    704   41   0.380"
   ]
  },
  {
   "cell_type": "code",
   "execution_count": null,
   "id": "f6ba7657",
   "metadata": {},
   "outputs": [],
   "source": [
    "#Example\n",
    "train_std = so_train_numeric['ConvertedSalary'].std()\n",
    "train_mean = so_train_numeric['ConvertedSalary'].mean()\n",
    "\n",
    "cut_off = train_std * 3\n",
    "train_lower, train_upper = train_mean - cut_off, train_mean + cut_off\n",
    "\n",
    "# Trim the test DataFrame\n",
    "trimmed_df = so_test_numeric[(so_test_numeric['ConvertedSalary'] < train_upper) \\\n",
    "                             & (so_test_numeric['ConvertedSalary'] > train_lower)]"
   ]
  },
  {
   "cell_type": "markdown",
   "id": "51e7e704",
   "metadata": {},
   "source": [
    "## Dealing with Text Data "
   ]
  },
  {
   "cell_type": "markdown",
   "id": "4e69074c",
   "metadata": {},
   "source": [
    "### Encoding text "
   ]
  },
  {
   "cell_type": "markdown",
   "id": "390560a3",
   "metadata": {},
   "source": [
    "Standardizing your text\n",
    "- Example of free text:\n",
    "    - Fellow-Citizens of the Senate and of the House of\n",
    "    - Representatives: AMONG the vicissitudes incident to life no\n",
    "    - event could have lled me with greater anxieties than that of\n",
    "    - which the notication was transmied by your order, and\n",
    "    - received on the th day of the present month."
   ]
  },
  {
   "cell_type": "markdown",
   "id": "b1b328f8",
   "metadata": {},
   "source": [
    "Dataset"
   ]
  },
  {
   "cell_type": "code",
   "execution_count": null,
   "id": "80ad9d15",
   "metadata": {},
   "outputs": [],
   "source": [
    "print(speech_df.head())\n",
    "\n",
    "# Name               Inaugural           Address \\\n",
    "# 0 George Washington First Inaugural Address\n",
    "# 1 George Washington Second Inaugural Address\n",
    "# 2 John Adams Inaugural Address\n",
    "# 3 Thomas Jefferson First Inaugural Address\n",
    "# 4 Thomas Jefferson Second Inaugural Address\n",
    "# Date                               text\n",
    "# 0 Thursday, April 30, 1789 Fellow-Citizens of the Sena...\n",
    "# 1 Monday, March 4, 1793 Fellow Citizens: I AM again...\n",
    "# 2 Saturday, March 4, 1797 WHEN it was first perceived...\n",
    "# 3 Wednesday, March 4, 1801 Friends and Fellow-Citizens...\n",
    "# 4 Monday, March 4, 1805 PROCEEDING, fellow-citizens..."
   ]
  },
  {
   "cell_type": "markdown",
   "id": "012f0baa",
   "metadata": {},
   "source": [
    "Removing unwanted characters\n",
    "- [a-zA-Z] : All letter characters\n",
    "- [^a-zA-Z] : All non letter characters (punctuation)"
   ]
  },
  {
   "cell_type": "code",
   "execution_count": null,
   "id": "6a0ebe52",
   "metadata": {},
   "outputs": [],
   "source": [
    "speech_df['text'] = speech_df['text']\\\n",
    "                    .str.replace('[^a-zA-Z]',' ') #using regex to remove no letter patterns to white space\n",
    "#^ -> negativa"
   ]
  },
  {
   "cell_type": "markdown",
   "id": "0afe83d5",
   "metadata": {},
   "source": [
    "Removing unwanted characters\n",
    "\n",
    "- Before:\n",
    "    - \"Fellow-Citizens of the Senate and of the House of\n",
    "    - Representatives: AMONG the vicissitudes incident to\n",
    "    - life no event could have filled me with greater\"\n",
    "    - ...\n",
    "\n",
    "- After:\n",
    "    - \"Fellow Citizens of the Senate and of the House of\n",
    "    - Representatives AMONG the vicissitudes incident to\n",
    "    - life no event could have filled me with greater\"\n",
    "    - ..."
   ]
  },
  {
   "cell_type": "markdown",
   "id": "9887a8fa",
   "metadata": {},
   "source": [
    "Standardize the case"
   ]
  },
  {
   "cell_type": "code",
   "execution_count": null,
   "id": "175698e4",
   "metadata": {},
   "outputs": [],
   "source": [
    "speech_df['text'] = speech_df['text'].str.lower()\n",
    "\n",
    "print(speech_df['text'][0])\n",
    "# \"fellow citizens of the senate and of the house of\n",
    "# representatives among the vicissitudes incident to\n",
    "# life no event could have filled me with greater\"\n",
    "# ..."
   ]
  },
  {
   "cell_type": "markdown",
   "id": "59fcdd6f",
   "metadata": {},
   "source": [
    "Length of text"
   ]
  },
  {
   "cell_type": "code",
   "execution_count": null,
   "id": "66c0ca80",
   "metadata": {},
   "outputs": [],
   "source": [
    "speech_df['char_cnt'] = speech_df['text'].str.len() #.str.len() conta os caracteres? e os espaços?\n",
    "\n",
    "print(speech_df['char_cnt'].head()) #quantidade de characteres em cada discurso\n",
    "# 0 1889\n",
    "# 1 806\n",
    "# 2 2408\n",
    "# 3 1495\n",
    "# 4 2465\n",
    "# Name: char_cnt, dtype: int64"
   ]
  },
  {
   "cell_type": "markdown",
   "id": "a758aa83",
   "metadata": {},
   "source": [
    "Word counts"
   ]
  },
  {
   "cell_type": "code",
   "execution_count": null,
   "id": "4b694e2b",
   "metadata": {},
   "outputs": [],
   "source": [
    "speech_df['word_cnt'] =speech_df['text'].str.split()\n",
    "\n",
    "speech_df['word_cnt'].head(1)\n",
    "# ['fellow','citizens','of','the','senate','and',..."
   ]
  },
  {
   "cell_type": "code",
   "execution_count": null,
   "id": "40ef2bcb",
   "metadata": {},
   "outputs": [],
   "source": [
    "speech_df['word_counts'] =speech_df['text'].str.split().str.len() #separa em uma lista por palavra, sem espaço\n",
    "\n",
    "print(speech_df['word_splits'].head()) #quantidade de palavras\n",
    "# 0 1432\n",
    "# 1 135\n",
    "# 2 2323\n",
    "# 3 1736\n",
    "# 4 2169\n",
    "# Name: word_cnt, dtype: int64"
   ]
  },
  {
   "cell_type": "markdown",
   "id": "f0872a35",
   "metadata": {},
   "source": [
    "Average length of word"
   ]
  },
  {
   "cell_type": "code",
   "execution_count": null,
   "id": "5e20203a",
   "metadata": {},
   "outputs": [],
   "source": [
    "speech_df['avg_word_len'] =\n",
    "        speech_df['char_cnt'] / speech_df['word_cnt']"
   ]
  },
  {
   "cell_type": "code",
   "execution_count": null,
   "id": "c08250ee",
   "metadata": {},
   "outputs": [],
   "source": [
    "#Example\n",
    "# Print the first 5 rows of the text column\n",
    "print(speech_df.text.head())\n",
    "\n",
    "# <script.py> output:\n",
    "#     0    Fellow-Citizens of the Senate and of the House...\n",
    "#     1    Fellow Citizens:  I AM again called upon by th...\n",
    "#     2    WHEN it was first perceived, in early times, t...\n",
    "#     3    Friends and Fellow-Citizens:  CALLED upon to u...\n",
    "#     4    PROCEEDING, fellow-citizens, to that qualifica...\n",
    "#     Name: text, dtype: object\n",
    "\n",
    "# Replace all non letter characters with a whitespace\n",
    "speech_df['text_clean'] = speech_df['text'].str.replace('[^a-zA-Z]', ' ')\n",
    "\n",
    "# Change to lower case\n",
    "speech_df['text_clean'] = speech_df['text_clean'].str.lower()\n",
    "\n",
    "# Print the first 5 rows of the text_clean column\n",
    "print(speech_df['text_clean'].head())\n",
    "\n",
    "# <script.py> output:\n",
    "#     0    fellow citizens of the senate and of the house...\n",
    "#     1    fellow citizens   i am again called upon by th...\n",
    "#     2    when it was first perceived  in early times  t...\n",
    "#     3    friends and fellow citizens   called upon to u...\n",
    "#     4    proceeding  fellow citizens  to that qualifica...\n",
    "#     Name: text_clean, dtype: object"
   ]
  },
  {
   "cell_type": "code",
   "execution_count": null,
   "id": "5729b532",
   "metadata": {},
   "outputs": [],
   "source": [
    "# Find the length of each text\n",
    "speech_df['char_cnt'] = speech_df['text_clean'].str.len()\n",
    "\n",
    "# Count the number of words in each text\n",
    "speech_df['word_cnt'] = speech_df['text_clean'].str.split().str.len()\n",
    "\n",
    "# Find the average length of word\n",
    "speech_df['avg_word_length'] = speech_df[\"char_cnt\"] / speech_df[\"word_cnt\"]\n",
    "\n",
    "# Print the first 5 rows of these columns\n",
    "print(speech_df[['text_clean', 'char_cnt', 'word_cnt', 'avg_word_length']])\n",
    "\n",
    "# <script.py> output:\n",
    "#                                                text_clean  char_cnt  word_cnt  avg_word_length\n",
    "#     0   fellow citizens of the senate and of the house...      8616      1432            6.017\n",
    "#     1   fellow citizens   i am again called upon by th...       787       135            5.830\n",
    "#     2   when it was first perceived  in early times  t...     13871      2323            5.971\n",
    "#     3   friends and fellow citizens   called upon to u...     10144      1736            5.843\n",
    "#     4   proceeding  fellow citizens  to that qualifica...     12902      2169            5.948\n",
    "#     5   unwilling to depart from examples of the most ...      7003      1179            5.940"
   ]
  },
  {
   "cell_type": "markdown",
   "id": "26ed38e1",
   "metadata": {},
   "source": [
    "### Word counts "
   ]
  },
  {
   "attachments": {
    "image.png": {
     "image/png": "[encoded data removed]"
    }
   },
   "cell_type": "markdown",
   "id": "92018cad",
   "metadata": {},
   "source": [
    "Text to columns\n",
    "![image.png](attachment:image.png)"
   ]
  },
  {
   "cell_type": "markdown",
   "id": "736cf835",
   "metadata": {},
   "source": [
    "Initializing the vectorizer"
   ]
  },
  {
   "cell_type": "code",
   "execution_count": null,
   "id": "ca2c5e4d",
   "metadata": {},
   "outputs": [],
   "source": [
    "from sklearn.feature_extraction.text import CountVectorizer\n",
    "cv = CountVectorizer()\n",
    "\n",
    "print(cv)\n",
    "# CountVectorizer(analyzer=u'word', binary=False,\n",
    "#                 decode_error=u'strict',\n",
    "#                 dtype=<type 'numpy.int64'>,\n",
    "#                 encoding=u'utf-8', input=u'content',\n",
    "#                 lowercase=True, max_df=1.0, max_features=None,\n",
    "#                 min_df=1,ngram_range=(1, 1), preprocessor=None,\n",
    "#                 stop_words=None, strip_accents=None,\n",
    "#                 token_pattern=u'(?u)\\\\b\\\\w\\\\w+\\\\b',\n",
    "#                 tokenizer=None, vocabulary=None"
   ]
  },
  {
   "cell_type": "markdown",
   "id": "dc96521c",
   "metadata": {},
   "source": [
    "Specifying the vectorizer"
   ]
  },
  {
   "cell_type": "code",
   "execution_count": null,
   "id": "037e448a",
   "metadata": {},
   "outputs": [],
   "source": [
    "from sklearn.feature_extraction.text import CountVectorizer\n",
    "cv = CountVectorizer(min_df=0.1, max_df=0.9) #deve aparecer em 10% dos documentos ou 90%"
   ]
  },
  {
   "cell_type": "markdown",
   "id": "d8bd88fa",
   "metadata": {},
   "source": [
    "- min_df : minimum fraction of documents the word must occur in \n",
    "- max_df : maximum fraction of documents the word can occur in"
   ]
  },
  {
   "cell_type": "markdown",
   "id": "4cefd4b5",
   "metadata": {},
   "source": [
    "Fit the vectorize"
   ]
  },
  {
   "cell_type": "code",
   "execution_count": null,
   "id": "7c2087e2",
   "metadata": {},
   "outputs": [],
   "source": [
    "cv.fit(speech_df['text_clean'])"
   ]
  },
  {
   "cell_type": "markdown",
   "id": "5bd014d9",
   "metadata": {},
   "source": [
    "Transforming your text"
   ]
  },
  {
   "cell_type": "code",
   "execution_count": null,
   "id": "2fa4589b",
   "metadata": {},
   "outputs": [],
   "source": [
    "cv_transformed = cv.transform(speech_df['text_clean'])\n",
    "print(cv_transformed)\n",
    "# <58x8839 sparse matrix of type '<type 'numpy.int64'>'"
   ]
  },
  {
   "cell_type": "code",
   "execution_count": null,
   "id": "b552f1bb",
   "metadata": {},
   "outputs": [],
   "source": [
    "cv_transformed.toarray()"
   ]
  },
  {
   "cell_type": "markdown",
   "id": "618f169a",
   "metadata": {},
   "source": [
    "Getting the features"
   ]
  },
  {
   "cell_type": "code",
   "execution_count": null,
   "id": "c314fe67",
   "metadata": {},
   "outputs": [],
   "source": [
    "feature_names = cv.get_feature_names()\n",
    "print(feature_names)\n",
    "# [u'abandon'\n",
    "# , u'abandoned'\n",
    "# , u'abandonment'\n",
    "# , u'abate'\n",
    "# ,\n",
    "# u'abdicated'\n",
    "# , u'abeyance'\n",
    "# , u'abhorring'\n",
    "# , u'abide'\n",
    "# ,\n",
    "# u'abiding'\n",
    "# , u'abilities'\n",
    "# , u'ability'\n",
    "# , u'abject'\n",
    "# ..."
   ]
  },
  {
   "cell_type": "markdown",
   "id": "7f69775e",
   "metadata": {},
   "source": [
    "Fitting and transforming"
   ]
  },
  {
   "cell_type": "code",
   "execution_count": null,
   "id": "d6d0bdea",
   "metadata": {},
   "outputs": [],
   "source": [
    "cv_transformed = cv.fit_transform(speech_df['text_clean']\n",
    "print(cv_transformed)\n",
    "   \n",
    "# <58x8839 sparse matrix of type '<type 'numpy.int64'>'"
   ]
  },
  {
   "cell_type": "markdown",
   "id": "2a0e8f07",
   "metadata": {},
   "source": [
    "Putting it all together"
   ]
  },
  {
   "cell_type": "code",
   "execution_count": null,
   "id": "3d1efb5d",
   "metadata": {},
   "outputs": [],
   "source": [
    "cv_df = pd.DataFrame(cv_transformed.toarray(),\n",
    "                     columns=cv.get_feature_names())\\\n",
    "                                .add_prefix('Counts_')\n",
    "print(cv_df.head())\n",
    "# Counts_aback Counts_abandoned Counts_a...\n",
    "# 0                  1              0 ...\n",
    "# 1                  0              0 ...\n",
    "# 2                  0              1 ...\n",
    "# 3                  0              1 ...\n",
    "# 4                  0              0 ...\n",
    "        \n",
    "# ```out Counts_aback Counts_abandon Counts_abandonment 0 1 0 0 1 0 0 1\n",
    "# 2 0 1 0 3 0 1 0 4 0 0 0 ```"
   ]
  },
  {
   "cell_type": "markdown",
   "id": "e496d432",
   "metadata": {},
   "source": [
    "Updating your DataFrame"
   ]
  },
  {
   "cell_type": "code",
   "execution_count": null,
   "id": "63ee139d",
   "metadata": {},
   "outputs": [],
   "source": [
    "speech_df = pd.concat([speech_df, cv_df],\n",
    "                      axis=1, sort=False)\n",
    "print(speech_df.shape)\n",
    "(58, 8845)"
   ]
  },
  {
   "cell_type": "code",
   "execution_count": null,
   "id": "7bf4739c",
   "metadata": {},
   "outputs": [],
   "source": [
    "#Example\n",
    "# Import CountVectorizer\n",
    "from sklearn.feature_extraction.text import CountVectorizer\n",
    "\n",
    "# Instantiate CountVectorizer\n",
    "cv = CountVectorizer()\n",
    "\n",
    "# Fit the vectorizer\n",
    "cv.fit(speech_df['text_clean'])\n",
    "\n",
    "# Print feature names\n",
    "print(cv.get_feature_names())\n",
    "\n",
    "# <script.py> output:\n",
    "#     ['abandon', 'abandoned', 'abandonment', etc...]"
   ]
  },
  {
   "cell_type": "code",
   "execution_count": null,
   "id": "244de60f",
   "metadata": {},
   "outputs": [],
   "source": [
    "#Example\n",
    "# Apply the vectorizer\n",
    "cv_transformed = cv.transform(speech_df['text_clean'])\n",
    "\n",
    "# Print the full array\n",
    "cv_array = cv_transformed.toarray()\n",
    "\n",
    "# Print the shape of cv_array\n",
    "print(cv_array.shape)\n",
    "\n",
    "# <script.py> output:\n",
    "#     [[0 0 0 ... 0 0 0]\n",
    "#      [0 0 0 ... 0 0 0]\n",
    "#      [0 1 0 ... 0 0 0]\n",
    "#      ...\n",
    "#      [0 1 0 ... 0 0 0]\n",
    "#      [0 0 0 ... 0 0 0]\n",
    "#      [0 0 0 ... 0 0 0]]\n",
    "\n",
    "# <script.py> output:\n",
    "#     (58, 9043)"
   ]
  },
  {
   "cell_type": "code",
   "execution_count": null,
   "id": "43ddc25c",
   "metadata": {},
   "outputs": [],
   "source": [
    "#Example\n",
    "# Import CountVectorizer\n",
    "from sklearn.feature_extraction.text import CountVectorizer\n",
    "\n",
    "# Specify arguements to limit the number of features generated\n",
    "cv = CountVectorizer(min_df = 0.2, max_df = 0.8)\n",
    "\n",
    "# Fit, transform, and convert into array\n",
    "cv_transformed = cv.fit_transform(speech_df['text_clean'])\n",
    "cv_array = cv_transformed.toarray()\n",
    "\n",
    "# Print the array shape\n",
    "print(cv_array.shape)\n",
    "# <script.py> output:\n",
    "#     (58, 818)"
   ]
  },
  {
   "cell_type": "code",
   "execution_count": null,
   "id": "e451b246",
   "metadata": {},
   "outputs": [],
   "source": [
    "#Example\n",
    "# Create a DataFrame with these features\n",
    "cv_df = pd.DataFrame(cv_array, \n",
    "                     columns=cv.get_feature_names()).add_prefix('Counts_')\n",
    "\n",
    "# Add the new columns to the original DataFrame\n",
    "speech_df_new = pd.concat([speech_df, cv_df], axis=1, sort=False)\n",
    "print(speech_df_new.head())\n",
    "\n",
    "# <script.py> output:\n",
    "#                     Name         Inaugural Address                      Date                                               text                                         text_clean  ...  Counts_years  \\\n",
    "#     0  George Washington   First Inaugural Address  Thursday, April 30, 1789  Fellow-Citizens of the Senate and of the House...  fellow citizens of the senate and of the house...  ...             1   \n",
    "#     1  George Washington  Second Inaugural Address     Monday, March 4, 1793  Fellow Citizens:  I AM again called upon by th...  fellow citizens   i am again called upon by th...  ...             0   \n",
    "#     2         John Adams         Inaugural Address   Saturday, March 4, 1797  WHEN it was first perceived, in early times, t...  when it was first perceived  in early times  t...  ...             3   \n",
    "#     3   Thomas Jefferson   First Inaugural Address  Wednesday, March 4, 1801  Friends and Fellow-Citizens:  CALLED upon to u...  friends and fellow citizens   called upon to u...  ...             0   \n",
    "#     4   Thomas Jefferson  Second Inaugural Address     Monday, March 4, 1805  PROCEEDING, fellow-citizens, to that qualifica...  proceeding  fellow citizens  to that qualifica...  ...             2   \n",
    "    \n",
    "#        Counts_yet  Counts_you  Counts_young  Counts_your  \n",
    "#     0           0           5             0            9  \n",
    "#     1           0           0             0            1  \n",
    "#     2           0           0             0            1  \n",
    "#     3           2           7             0            7  \n",
    "#     4           2           4             0            4  \n",
    "    \n",
    "#     [5 rows x 826 columns]"
   ]
  },
  {
   "cell_type": "markdown",
   "id": "19c49ba1",
   "metadata": {},
   "source": [
    "### Term frequency-inverse document frequency"
   ]
  },
  {
   "cell_type": "markdown",
   "id": "001bf702",
   "metadata": {},
   "source": [
    "Introducing TF-IDF"
   ]
  },
  {
   "cell_type": "code",
   "execution_count": null,
   "id": "56054992",
   "metadata": {},
   "outputs": [],
   "source": [
    "print(speech_df['Counts_the'].head())\n",
    "# 0 21\n",
    "# 1 13\n",
    "# 2 29\n",
    "# 3 22\n",
    "# 4 20"
   ]
  },
  {
   "attachments": {
    "image.png": {
     "image/png": "[encoded data removed]"
    }
   },
   "cell_type": "markdown",
   "id": "81078909",
   "metadata": {},
   "source": [
    "TF-IDF (way to normalize so words that do not appear in many documents are more important)\n",
    "![image.png](attachment:image.png)"
   ]
  },
  {
   "cell_type": "markdown",
   "id": "d256a5e1",
   "metadata": {},
   "source": [
    "Importing the vectorizer\n"
   ]
  },
  {
   "cell_type": "code",
   "execution_count": null,
   "id": "861e6b65",
   "metadata": {},
   "outputs": [],
   "source": [
    "from sklearn.feature_extraction.text import TfidfVectorizer\n",
    "tv = TfidfVectorizer()\n",
    "print(tv)\n",
    "#no slide esta comido mesmo\n",
    "# TfidfVectorizer(analyzer=u'word', binary=False, decode_error=u\n",
    "#                 dtype=<type 'numpy.float64'>, encoding=u'utf-8', input\n",
    "#                 lowercase=True, max_df=1.0, max_features=None, min_df=\n",
    "#                 ngram_range=(1, 1), norm=u'l2', preprocessor=None, smo\n",
    "#                 stop_words=None, strip_accents=None, sublinear_tf=Fals\n",
    "#                 token_pattern=u'(?u)\\\\b\\\\w\\\\w+\\\\b', tokenizer=None, us\n",
    "#                 vocabulary=None)"
   ]
  },
  {
   "cell_type": "markdown",
   "id": "b84683cc",
   "metadata": {},
   "source": [
    "Max features and stopwords"
   ]
  },
  {
   "cell_type": "code",
   "execution_count": null,
   "id": "1e7b7fbd",
   "metadata": {},
   "outputs": [],
   "source": [
    "tv = TfidfVectorizer(max_features=100,\n",
    "                     stop_words='english')"
   ]
  },
  {
   "cell_type": "markdown",
   "id": "eb40b766",
   "metadata": {},
   "source": [
    "- max_features : Maximum number of columns created from TF-IDF\n",
    "- stop_words : List of common words to omit e.g. \"and\",\"the\" etc. (predefined list or use other python libraries)"
   ]
  },
  {
   "cell_type": "markdown",
   "id": "2f77386c",
   "metadata": {},
   "source": [
    "Fitting your text"
   ]
  },
  {
   "cell_type": "code",
   "execution_count": null,
   "id": "cb0c36c0",
   "metadata": {},
   "outputs": [],
   "source": [
    "tv.fit(train_speech_df['text'])\n",
    "train_tv_transformed = tv.transform(train_speech_df['text'])"
   ]
  },
  {
   "cell_type": "markdown",
   "id": "3adf14f8",
   "metadata": {},
   "source": [
    "Putting it all together"
   ]
  },
  {
   "cell_type": "code",
   "execution_count": null,
   "id": "ba0746ad",
   "metadata": {},
   "outputs": [],
   "source": [
    "train_tv_df = pd.DataFrame(train_tv_transformed.toarray(),\n",
    "                           columns=tv.get_feature_names())\\\n",
    "                                    .add_prefix('TFIDF_')\n",
    "\n",
    "train_speech_df = pd.concat([train_speech_df, train_tv_df],\n",
    "                            axis=1, sort=False)"
   ]
  },
  {
   "cell_type": "markdown",
   "id": "09b34f3d",
   "metadata": {},
   "source": [
    "Inspecting your transforms"
   ]
  },
  {
   "cell_type": "code",
   "execution_count": null,
   "id": "e133ed4e",
   "metadata": {},
   "outputs": [],
   "source": [
    "examine_row = train_tv_df.iloc[0] #pega a primeira linha e ordena os maiores valores\n",
    "print(examine_row.sort_values(ascending=False))\n",
    "# TFIDF_government 0.367430\n",
    "# TFIDF_public 0.333237\n",
    "# TFIDF_present 0.315182\n",
    "# TFIDF_duty 0.238637\n",
    "# TFIDF_citizens 0.229644\n",
    "# Name: 0, dtype: float64"
   ]
  },
  {
   "cell_type": "markdown",
   "id": "c3215286",
   "metadata": {},
   "source": [
    "Applying the vectorizer to new data"
   ]
  },
  {
   "cell_type": "code",
   "execution_count": null,
   "id": "83b10a01",
   "metadata": {},
   "outputs": [],
   "source": [
    "#faz a mesma coisa no \n",
    "test_tv_transformed = tv.transform(test_df['text_clean'])\n",
    "\n",
    "test_tv_df = pd.DataFrame(test_tv_transformed.toarray(),\n",
    "                          columns=tv.get_feature_names())\\\n",
    "                            .add_prefix('TFIDF_')\n",
    "\n",
    "test_speech_df = pd.concat([test_speech_df, test_tv_df],\n",
    "                           axis=1, sort=False)"
   ]
  },
  {
   "cell_type": "code",
   "execution_count": null,
   "id": "cb6d2f20",
   "metadata": {},
   "outputs": [],
   "source": [
    "#Example\n",
    "# Import TfidfVectorizer\n",
    "from sklearn.feature_extraction.text import TfidfVectorizer\n",
    "\n",
    "# Instantiate TfidfVectorizer\n",
    "tv = TfidfVectorizer(max_features = 100, stop_words = \"english\")\n",
    "\n",
    "# Fit the vectroizer and transform the data\n",
    "tv_transformed = tv.fit_transform(speech_df['text_clean'])\n",
    "\n",
    "# Create a DataFrame with these features\n",
    "tv_df = pd.DataFrame(tv_transformed.toarray(), \n",
    "                     columns=tv.get_feature_names()).add_prefix('TFIDF_')\n",
    "print(tv_df.head())\n",
    "\n",
    "# <script.py> output:\n",
    "#        TFIDF_action  TFIDF_administration  TFIDF_america  TFIDF_american  TFIDF_americans  ...  TFIDF_war  TFIDF_way  TFIDF_work  TFIDF_world  TFIDF_years\n",
    "#     0         0.000                 0.133          0.000           0.105              0.0  ...      0.000      0.061       0.000        0.046        0.053\n",
    "#     1         0.000                 0.261          0.266           0.000              0.0  ...      0.000      0.000       0.000        0.000        0.000\n",
    "#     2         0.000                 0.092          0.157           0.073              0.0  ...      0.024      0.000       0.000        0.064        0.073\n",
    "#     3         0.000                 0.093          0.000           0.000              0.0  ...      0.037      0.000       0.039        0.096        0.000\n",
    "#     4         0.041                 0.040          0.000           0.031              0.0  ...      0.094      0.000       0.000        0.055        0.063\n",
    "    \n",
    "#     [5 rows x 100 columns]"
   ]
  },
  {
   "cell_type": "code",
   "execution_count": null,
   "id": "682737e1",
   "metadata": {},
   "outputs": [],
   "source": [
    "#Example\n",
    "# Isolate the row to be examined\n",
    "sample_row = tv_df.iloc[0]\n",
    "\n",
    "# Print the top 5 words of the sorted output\n",
    "print(sample_row.sort_values(ascending=False).head())\n",
    "\n",
    "# <script.py> output:\n",
    "#     TFIDF_government    0.367\n",
    "#     TFIDF_public        0.333\n",
    "#     TFIDF_present       0.315\n",
    "#     TFIDF_duty          0.239\n",
    "#     TFIDF_country       0.230\n",
    "#     Name: 0, dtype: float64"
   ]
  },
  {
   "cell_type": "code",
   "execution_count": null,
   "id": "effe481a",
   "metadata": {},
   "outputs": [],
   "source": [
    "#Example\n",
    "# Instantiate TfidfVectorizer\n",
    "tv = TfidfVectorizer(max_features=100, stop_words='english')\n",
    "\n",
    "# Fit the vectroizer and transform the data\n",
    "tv_transformed = tv.fit_transform(train_speech_df.text_clean)\n",
    "\n",
    "# Transform test data\n",
    "test_tv_transformed = tv.transform(test_speech_df.text_clean)\n",
    "\n",
    "# Create new features for the test set\n",
    "test_tv_df = pd.DataFrame(test_tv_transformed.toarray(), \n",
    "                          columns=tv.get_feature_names()).add_prefix('TFIDF_')\n",
    "print(test_tv_df.head())\n",
    "\n",
    "# <script.py> output:\n",
    "#        TFIDF_action  TFIDF_administration  TFIDF_america  TFIDF_american  TFIDF_authority  ...  TFIDF_war  TFIDF_way  TFIDF_work  TFIDF_world  TFIDF_years\n",
    "#     0         0.000                 0.030          0.234           0.083            0.000  ...      0.079      0.033       0.000        0.300        0.135\n",
    "#     1         0.000                 0.000          0.547           0.037            0.000  ...      0.053      0.067       0.079        0.278        0.126\n",
    "#     2         0.000                 0.000          0.127           0.135            0.000  ...      0.043      0.054       0.096        0.225        0.044\n",
    "#     3         0.037                 0.067          0.267           0.031            0.040  ...      0.030      0.038       0.236        0.237        0.062\n",
    "#     4         0.000                 0.000          0.222           0.157            0.028  ...      0.021      0.081       0.120        0.300        0.153\n",
    "    \n",
    "#     [5 rows x 100 columns]"
   ]
  },
  {
   "cell_type": "markdown",
   "id": "5d7bfa23",
   "metadata": {},
   "source": [
    "### N_grams "
   ]
  },
  {
   "cell_type": "markdown",
   "id": "868d1e9d",
   "metadata": {},
   "source": [
    "Issues with bag of words\n",
    "- Positive meaning\n",
    "    - Single word: happy\n",
    "- Negative meaning\n",
    "    - Bi-gram : not happy\n",
    "- Positive meaning\n",
    "    - Trigram : never not happy"
   ]
  },
  {
   "cell_type": "markdown",
   "id": "e55d1c00",
   "metadata": {},
   "source": [
    "Using N-grams"
   ]
  },
  {
   "cell_type": "code",
   "execution_count": null,
   "id": "4d209ce8",
   "metadata": {},
   "outputs": [],
   "source": [
    "tv_bi_gram_vec = TfidfVectorizer(ngram_range = (2,2))\n",
    "\n",
    "# Fit and apply bigram vectorizer\n",
    "tv_bi_gram = tv_bi_gram_vec\\\n",
    "                .fit_transform(speech_df['text'])\n",
    "\n",
    "# Print the bigram features\n",
    "print(tv_bi_gram_vec.get_feature_names())\n",
    "# [u'american people'\n",
    "# , u'best ability '\n",
    "# ,\n",
    "# u'beloved country'\n",
    "# , u'best interests'\n",
    "# ... ]"
   ]
  },
  {
   "cell_type": "markdown",
   "id": "c7071d78",
   "metadata": {},
   "source": [
    "Finding common words"
   ]
  },
  {
   "cell_type": "code",
   "execution_count": null,
   "id": "901de958",
   "metadata": {},
   "outputs": [],
   "source": [
    "# Create a DataFrame with the Counts features\n",
    "tv_df = pd.DataFrame(tv_bi_gram.toarray(),\n",
    "                     columns=tv_bi_gram_vec.get_feature_names())\\\n",
    "                     .add_prefix('Counts_')\n",
    "\n",
    "tv_sums = tv_df.sum()\n",
    "print(tv_sums.head())\n",
    "# Counts_administration government 12\n",
    "# Counts_almighty god 15\n",
    "# Counts_american people 36\n",
    "# Counts_beloved country 8\n",
    "# Counts_best ability 8\n",
    "# dtype: int64"
   ]
  },
  {
   "cell_type": "code",
   "execution_count": null,
   "id": "f07f389e",
   "metadata": {},
   "outputs": [],
   "source": [
    "print(tv_sums.sort_values(ascending=False)).head()\n",
    "# Counts_united states 152\n",
    "# Counts_fellow citizens 97\n",
    "# Counts_american people 36\n",
    "# Counts_federal government 35\n",
    "# Counts_self government 30\n",
    "# dtype: int64"
   ]
  },
  {
   "cell_type": "code",
   "execution_count": null,
   "id": "ba224c26",
   "metadata": {},
   "outputs": [],
   "source": [
    "#Example\n",
    "# Import CountVectorizer\n",
    "from sklearn.feature_extraction.text import CountVectorizer\n",
    "\n",
    "# Instantiate a trigram vectorizer\n",
    "cv_trigram_vec = CountVectorizer(max_features=100, \n",
    "                                 stop_words='english', \n",
    "                                 ngram_range = (3,3))\n",
    "\n",
    "# Fit and apply trigram vectorizer\n",
    "cv_trigram = cv_trigram_vec.fit_transform(speech_df['text_clean'])\n",
    "\n",
    "# Print the trigram features\n",
    "print(cv_trigram_vec.get_feature_names())\n",
    "\n",
    "# <script.py> output:\n",
    "#     ['ability preserve protect', 'agriculture commerce manufactures', etc..]"
   ]
  },
  {
   "cell_type": "code",
   "execution_count": null,
   "id": "e4529ab9",
   "metadata": {},
   "outputs": [],
   "source": [
    "#Example\n",
    "# Create a DataFrame of the features\n",
    "cv_tri_df = pd.DataFrame(cv_trigram.toarray(), \n",
    "                 columns=cv_trigram_vec.get_feature_names()).add_prefix('Counts_')\n",
    "\n",
    "# Print the top 5 words in the sorted output\n",
    "print(cv_tri_df.sum().sort_values(ascending=False).head())\n",
    "\n",
    "# <script.py> output:\n",
    "#     Counts_constitution united states    20\n",
    "#     Counts_people united states          13\n",
    "#     Counts_mr chief justice              10\n",
    "#     Counts_preserve protect defend       10\n",
    "#     Counts_president united states        8\n",
    "#     dtype: int64"
   ]
  },
  {
   "cell_type": "markdown",
   "id": "3464442c",
   "metadata": {
    "ExecuteTime": {
     "end_time": "2022-04-04T23:03:24.800440Z",
     "start_time": "2022-04-04T23:03:24.667170Z"
    }
   },
   "source": [
    "### Wrap-up"
   ]
  },
  {
   "cell_type": "markdown",
   "id": "0a18b305",
   "metadata": {},
   "source": [
    "Chapter 1\n",
    "- How to understand your data types\n",
    "- Efficient encoding or categorical features\n",
    "- Different ways to work with continuous variables"
   ]
  },
  {
   "cell_type": "markdown",
   "id": "1427e8cc",
   "metadata": {},
   "source": [
    "Chapter 2\n",
    "- How to locate gaps in your data\n",
    "- Best practices in dealing with the incomplete rows\n",
    "- Methods to find and deal with unwanted characters"
   ]
  },
  {
   "cell_type": "markdown",
   "id": "a5262d55",
   "metadata": {},
   "source": [
    "Chapter 3\n",
    "- How to observe your data's distribution\n",
    "- Why and how to modify this distribution\n",
    "- Best practices of finding outliers and their removal"
   ]
  },
  {
   "cell_type": "markdown",
   "id": "8f90b843",
   "metadata": {},
   "source": [
    "Chapter 4\n",
    "- The foundations of word embeddings\n",
    "- Usage of Term Frequency Inverse Document Frequency (Tfidf)\n",
    "- N-grams and its advantages over bag of words"
   ]
  },
  {
   "cell_type": "markdown",
   "id": "4033c29b",
   "metadata": {},
   "source": [
    "Next steps\n",
    "- Kaggle competitions\n",
    "- More DataCamp courses\n",
    "- Your own project"
   ]
  }
 ],
 "metadata": {
  "hide_input": false,
  "kernelspec": {
   "display_name": "Python 3 (ipykernel)",
   "language": "python",
   "name": "python3"
  },
  "language_info": {
   "codemirror_mode": {
    "name": "ipython",
    "version": 3
   },
   "file_extension": ".py",
   "mimetype": "text/x-python",
   "name": "python",
   "nbconvert_exporter": "python",
   "pygments_lexer": "ipython3",
   "version": "3.10.0"
  },
  "toc": {
   "base_numbering": 1,
   "nav_menu": {},
   "number_sections": true,
   "sideBar": true,
   "skip_h1_title": false,
   "title_cell": "Table of Contents",
   "title_sidebar": "Contents",
   "toc_cell": false,
   "toc_position": {
    "height": "476px",
    "left": "28px",
    "top": "111.125px",
    "width": "298px"
   },
   "toc_section_display": true,
   "toc_window_display": true
  },
  "varInspector": {
   "cols": {
    "lenName": 16,
    "lenType": 16,
    "lenVar": 40
   },
   "kernels_config": {
    "python": {
     "delete_cmd_postfix": "",
     "delete_cmd_prefix": "del ",
     "library": "var_list.py",
     "varRefreshCmd": "print(var_dic_list())"
    },
    "r": {
     "delete_cmd_postfix": ") ",
     "delete_cmd_prefix": "rm(",
     "library": "var_list.r",
     "varRefreshCmd": "cat(var_dic_list()) "
    }
   },
   "types_to_exclude": [
    "module",
    "function",
    "builtin_function_or_method",
    "instance",
    "_Feature"
   ],
   "window_display": false
  }
 },
 "nbformat": 4,
 "nbformat_minor": 5
}
