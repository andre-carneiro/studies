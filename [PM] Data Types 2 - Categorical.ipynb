{
 "cells": [
  {
   "cell_type": "markdown",
   "id": "425c43ce",
   "metadata": {
    "toc": true
   },
   "source": [
    "<h1>Table of Contents<span class=\"tocSkip\"></span></h1>\n",
    "<div class=\"toc\"><ul class=\"toc-item\"><li><span><a href=\"#Career-Track---Data-Analyst-with-Python\" data-toc-modified-id=\"Career-Track---Data-Analyst-with-Python-0\"><span class=\"toc-item-num\">0&nbsp;&nbsp;</span>Career Track - Data Analyst with Python</a></span></li><li><span><a href=\"#Working-with-Categorical-Data-in-Python\" data-toc-modified-id=\"Working-with-Categorical-Data-in-Python-1\"><span class=\"toc-item-num\">1&nbsp;&nbsp;</span>Working with Categorical Data in Python</a></span><ul class=\"toc-item\"><li><span><a href=\"#Introduction-to-Categorical-Data\" data-toc-modified-id=\"Introduction-to-Categorical-Data-1.1\"><span class=\"toc-item-num\">1.1&nbsp;&nbsp;</span>Introduction to Categorical Data</a></span><ul class=\"toc-item\"><li><span><a href=\"#Course-introduction\" data-toc-modified-id=\"Course-introduction-1.1.1\"><span class=\"toc-item-num\">1.1.1&nbsp;&nbsp;</span>Course introduction</a></span></li><li><span><a href=\"#Categorical-data-in-Pandas\" data-toc-modified-id=\"Categorical-data-in-Pandas-1.1.2\"><span class=\"toc-item-num\">1.1.2&nbsp;&nbsp;</span>Categorical data in Pandas</a></span></li><li><span><a href=\"#Grouping-data-by-category-in-Pandas\" data-toc-modified-id=\"Grouping-data-by-category-in-Pandas-1.1.3\"><span class=\"toc-item-num\">1.1.3&nbsp;&nbsp;</span>Grouping data by category in Pandas</a></span></li></ul></li><li><span><a href=\"#Categorical-pandas-Series\" data-toc-modified-id=\"Categorical-pandas-Series-1.2\"><span class=\"toc-item-num\">1.2&nbsp;&nbsp;</span>Categorical pandas Series</a></span><ul class=\"toc-item\"><li><span><a href=\"#Setting-category-variables\" data-toc-modified-id=\"Setting-category-variables-1.2.1\"><span class=\"toc-item-num\">1.2.1&nbsp;&nbsp;</span>Setting category variables</a></span></li><li><span><a href=\"#Updating-categories\" data-toc-modified-id=\"Updating-categories-1.2.2\"><span class=\"toc-item-num\">1.2.2&nbsp;&nbsp;</span>Updating categories</a></span></li><li><span><a href=\"#Reordering-categories\" data-toc-modified-id=\"Reordering-categories-1.2.3\"><span class=\"toc-item-num\">1.2.3&nbsp;&nbsp;</span>Reordering categories</a></span></li><li><span><a href=\"#Cleaning-and-accessing-data\" data-toc-modified-id=\"Cleaning-and-accessing-data-1.2.4\"><span class=\"toc-item-num\">1.2.4&nbsp;&nbsp;</span>Cleaning and accessing data</a></span></li></ul></li><li><span><a href=\"#Visualizing-Categorical-Data\" data-toc-modified-id=\"Visualizing-Categorical-Data-1.3\"><span class=\"toc-item-num\">1.3&nbsp;&nbsp;</span>Visualizing Categorical Data</a></span><ul class=\"toc-item\"><li><span><a href=\"#Introduction-to-categorical-plots-using-Seaborn\" data-toc-modified-id=\"Introduction-to-categorical-plots-using-Seaborn-1.3.1\"><span class=\"toc-item-num\">1.3.1&nbsp;&nbsp;</span>Introduction to categorical plots using Seaborn</a></span></li><li><span><a href=\"#Seaborn-bar-plots\" data-toc-modified-id=\"Seaborn-bar-plots-1.3.2\"><span class=\"toc-item-num\">1.3.2&nbsp;&nbsp;</span>Seaborn bar plots</a></span></li><li><span><a href=\"#Point-and-count-plots\" data-toc-modified-id=\"Point-and-count-plots-1.3.3\"><span class=\"toc-item-num\">1.3.3&nbsp;&nbsp;</span>Point and count plots</a></span></li><li><span><a href=\"#Additional-catplot()-options\" data-toc-modified-id=\"Additional-catplot()-options-1.3.4\"><span class=\"toc-item-num\">1.3.4&nbsp;&nbsp;</span>Additional catplot() options</a></span></li></ul></li><li><span><a href=\"#Pitfalls-and-Encoding\" data-toc-modified-id=\"Pitfalls-and-Encoding-1.4\"><span class=\"toc-item-num\">1.4&nbsp;&nbsp;</span>Pitfalls and Encoding</a></span><ul class=\"toc-item\"><li><span><a href=\"#Categorical-pitfalls\" data-toc-modified-id=\"Categorical-pitfalls-1.4.1\"><span class=\"toc-item-num\">1.4.1&nbsp;&nbsp;</span>Categorical pitfalls</a></span></li><li><span><a href=\"#Label-encoding\" data-toc-modified-id=\"Label-encoding-1.4.2\"><span class=\"toc-item-num\">1.4.2&nbsp;&nbsp;</span>Label encoding</a></span></li><li><span><a href=\"#One-hot-encoding\" data-toc-modified-id=\"One-hot-encoding-1.4.3\"><span class=\"toc-item-num\">1.4.3&nbsp;&nbsp;</span>One-hot encoding</a></span></li><li><span><a href=\"#Categorical-columns\" data-toc-modified-id=\"Categorical-columns-1.4.4\"><span class=\"toc-item-num\">1.4.4&nbsp;&nbsp;</span>Categorical columns</a></span></li></ul></li></ul></li></ul></div>"
   ]
  },
  {
   "cell_type": "markdown",
   "id": "ee71878f",
   "metadata": {},
   "source": [
    "# Career Track - Data Analyst with Python"
   ]
  },
  {
   "cell_type": "markdown",
   "id": "62eac69a",
   "metadata": {},
   "source": [
    "# Working with Categorical Data in Python "
   ]
  },
  {
   "cell_type": "markdown",
   "id": "084d496e",
   "metadata": {},
   "source": [
    "## Introduction to Categorical Data "
   ]
  },
  {
   "cell_type": "markdown",
   "id": "70f68739",
   "metadata": {},
   "source": [
    "### Course introduction "
   ]
  },
  {
   "cell_type": "markdown",
   "id": "a4c76f58",
   "metadata": {},
   "source": [
    "What does it mean to be \"categorical\"?"
   ]
  },
  {
   "cell_type": "markdown",
   "id": "87c89a2c",
   "metadata": {},
   "source": [
    "Categorical\n",
    "- Finite number of groups (or categories)\n",
    "- These categories are usually xed or known (eye color, hair color, etc.)\n",
    "- Known as qualitative data\n",
    "Numerical\n",
    "- Known as quantitative data\n",
    "- Expressed using a numerical value\n",
    "- Is usually a measurement (height, weight, IQ, etc.)"
   ]
  },
  {
   "cell_type": "markdown",
   "id": "36e2d525",
   "metadata": {},
   "source": [
    "Ordinal vs. nominal variables"
   ]
  },
  {
   "attachments": {
    "image-2.png": {
     "image/png": "[encoded data removed]"
    },
    "image.png": {
     "image/png": "[encoded data removed]"
    }
   },
   "cell_type": "markdown",
   "id": "f4e201f6",
   "metadata": {},
   "source": [
    "Ordinal\n",
    "- Categorical variables that have a natural order\n",
    "![image.png](attachment:image.png)\n",
    "\n",
    "\n",
    "Nominal\n",
    "- Categorical variables that cannot be placed into a natural order\n",
    "![image-2.png](attachment:image-2.png)"
   ]
  },
  {
   "cell_type": "code",
   "execution_count": null,
   "id": "26071964",
   "metadata": {},
   "outputs": [],
   "source": [
    "#Our first dataset\n",
    "adult.info()"
   ]
  },
  {
   "cell_type": "code",
   "execution_count": null,
   "id": "45a79874",
   "metadata": {},
   "outputs": [],
   "source": [
    "#Using describe\n",
    "adult[\"Marital Status\"].describe()"
   ]
  },
  {
   "cell_type": "code",
   "execution_count": null,
   "id": "5b8ada94",
   "metadata": {},
   "outputs": [],
   "source": [
    "#Using value counts\n",
    "adult[\"Marital Status\"].value_counts()"
   ]
  },
  {
   "cell_type": "code",
   "execution_count": null,
   "id": "f41eb2a0",
   "metadata": {},
   "outputs": [],
   "source": [
    "#Using value counts with normalize\n",
    "adult[\"Marital Status\"].value_counts(normalize=True)"
   ]
  },
  {
   "cell_type": "code",
   "execution_count": null,
   "id": "f3c244ba",
   "metadata": {},
   "outputs": [],
   "source": [
    "#Example\n",
    "# Explore the Above/Below 50k variable\n",
    "print(adult[\"Above/Below 50k\"].describe())\n",
    "\n",
    "# Print a frequency table of \"Above/Below 50k\"\n",
    "print(adult[\"Above/Below 50k\"].value_counts())\n",
    "\n",
    "# Print relative frequency values\n",
    "print(adult[\"Above/Below 50k\"].value_counts(normalize = True))"
   ]
  },
  {
   "cell_type": "markdown",
   "id": "1e937bcb",
   "metadata": {},
   "source": [
    "### Categorical data in Pandas "
   ]
  },
  {
   "cell_type": "markdown",
   "id": "7a4e1b0f",
   "metadata": {},
   "source": [
    "dtypes: object"
   ]
  },
  {
   "cell_type": "code",
   "execution_count": null,
   "id": "a8b4673d",
   "metadata": {},
   "outputs": [],
   "source": [
    "adult = pd.read_csv(\"data/adult.csv\")\n",
    "adult.dtypes"
   ]
  },
  {
   "cell_type": "markdown",
   "id": "7f746f7c",
   "metadata": {},
   "source": [
    "dtypes: categorical"
   ]
  },
  {
   "cell_type": "code",
   "execution_count": null,
   "id": "a13bb0b5",
   "metadata": {},
   "outputs": [],
   "source": [
    "# Default dtype:\n",
    "adult[\"Marital Status\"].dtype #dtype for series, not for dataframe (dtypes)\n",
    "#dtype('O')\n",
    "\n",
    "#Set as categorical:\n",
    "adult[\"Marital Status\"] = adult[\"Marital Status\"].astype(\"category\")\n",
    "adult[\"Marital Status\"].dtype"
   ]
  },
  {
   "attachments": {
    "image.png": {
     "image/png": "[encoded data removed]"
    }
   },
   "cell_type": "markdown",
   "id": "88892638",
   "metadata": {},
   "source": [
    "Output different.\n",
    "\n",
    "Provides all categories and order.\n",
    "![image.png](attachment:image.png)"
   ]
  },
  {
   "cell_type": "markdown",
   "id": "2ce288f8",
   "metadata": {},
   "source": [
    "Creating a categorical Series"
   ]
  },
  {
   "cell_type": "code",
   "execution_count": null,
   "id": "56a62072",
   "metadata": {},
   "outputs": [],
   "source": [
    "my_data = [\"A\",\"A\",\"C\",\"B\",\"C\",\"A\"]\n",
    "my_series1 = pd.Series(my_data, dtype=\"category\")\n",
    "print(my_series1)"
   ]
  },
  {
   "attachments": {
    "image.png": {
     "image/png": "[encoded data removed]"
    }
   },
   "cell_type": "markdown",
   "id": "3a4582aa",
   "metadata": {},
   "source": [
    "![image.png](attachment:image.png)"
   ]
  },
  {
   "cell_type": "code",
   "execution_count": null,
   "id": "e8bb94b7",
   "metadata": {},
   "outputs": [],
   "source": [
    "#use ordered\n",
    "my_data = [\"A\",\"A\",\"C\",\"B\",\"C\",\"A\"]\n",
    "my_series2 = pd.Categorical(my_data, categories=[\"C\",\"B\",\"A\"], ordered=True)\n",
    "my_series2"
   ]
  },
  {
   "attachments": {
    "image.png": {
     "image/png": "[encoded data removed]"
    }
   },
   "cell_type": "markdown",
   "id": "16ad4547",
   "metadata": {},
   "source": [
    "![image.png](attachment:image.png)"
   ]
  },
  {
   "cell_type": "markdown",
   "id": "6b40ee96",
   "metadata": {},
   "source": [
    "Why do we use categorical: memory\n",
    "\n",
    "Memory saver: in the example it changes to 1/8 the memory"
   ]
  },
  {
   "cell_type": "code",
   "execution_count": null,
   "id": "14d31513",
   "metadata": {},
   "outputs": [],
   "source": [
    "adult = pd.read_csv(\"data/adult.csv\")\n",
    "adult[\"Marital Status\"].nbytes\n",
    "#260488\n",
    "adult[\"Marital Status\"] = adult[\"Marital Status\"].astype(\"category\")\n",
    "adult[\"Marital Status\"].nbytes\n",
    "#32617"
   ]
  },
  {
   "cell_type": "markdown",
   "id": "30238b2d",
   "metadata": {},
   "source": [
    "Import and already change the dtype"
   ]
  },
  {
   "cell_type": "markdown",
   "id": "46058cf5",
   "metadata": {},
   "source": [
    "Specify dtypes when reading data\n",
    "1. Create a dictionary:\n",
    "    - adult_dtypes = {\"Marital Status\": \"category\"}\n",
    "2. Set the dtype parameter:\n",
    "    - adult = pd.read_csv(\"data/adult.csv\", dtype=adult_dtypes)\n",
    "3. Check the dtype :\n",
    "    - adult[\"Marital Status\"].dtype\n",
    "\n",
    "CategoricalDtype(categories=[' Divorced',' Married-AF-spouse',...,' Widowed'], ordered=False)"
   ]
  },
  {
   "cell_type": "code",
   "execution_count": null,
   "id": "d84e9b61",
   "metadata": {},
   "outputs": [],
   "source": [
    "#Example\n",
    "# Create a Series, default dtype\n",
    "series1 = pd.Series(list_of_occupations)\n",
    "\n",
    "# Print out the data type and number of bytes for series1\n",
    "print(\"series1 data type:\", series1.dtype)\n",
    "print(\"series1 number of bytes:\", series1.nbytes)\n",
    "\n",
    "# Create a Series, \"category\" dtype\n",
    "series2 = pd.Series(list_of_occupations, dtype=\"category\")\n",
    "\n",
    "# Print out the data type and number of bytes for series2\n",
    "print(\"series2 data type:\", series2.dtype)\n",
    "print(\"series2 number of bytes:\", series2.nbytes)"
   ]
  },
  {
   "cell_type": "code",
   "execution_count": null,
   "id": "03525f65",
   "metadata": {},
   "outputs": [],
   "source": [
    "#Example\n",
    "# Create a categorical Series and specify the categories (let pandas know the order matters!)\n",
    "medals = pd.Categorical(medals_won, categories = [\"Bronze\", \"Silver\", \"Gold\"], ordered = True)\n",
    "print(medals)"
   ]
  },
  {
   "cell_type": "code",
   "execution_count": null,
   "id": "5f1e34c2",
   "metadata": {},
   "outputs": [],
   "source": [
    "#Example\n",
    "# Check the dtypes\n",
    "print(adult.dtypes)\n",
    "\n",
    "# Create a dictionary with column names as keys and \"category\" as values\n",
    "adult_dtypes = {\n",
    "   \"Workclass\": \"category\",\n",
    "   \"Education\": \"category\",\n",
    "   \"Relationship\": \"category\",\n",
    "   \"Above/Below 50k\": \"category\" \n",
    "}\n",
    "\n",
    "# Read in the CSV using the dtypes parameter\n",
    "adult2 = pd.read_csv(\n",
    "  \"adult.csv\",\n",
    "  dtype = adult_dtypes\n",
    ")\n",
    "print(adult2.dtypes)"
   ]
  },
  {
   "cell_type": "markdown",
   "id": "c92f4798",
   "metadata": {},
   "source": [
    "### Grouping data by category in Pandas"
   ]
  },
  {
   "cell_type": "markdown",
   "id": "9d7320f4",
   "metadata": {},
   "source": [
    "The basics of .groupby(): splitting data"
   ]
  },
  {
   "cell_type": "code",
   "execution_count": null,
   "id": "bd46bc88",
   "metadata": {},
   "outputs": [],
   "source": [
    "adult = pd.read_csv(\"data/adult.csv\")\n",
    "adult1 = adult[adult[\"Above/Below 50k\"] == \" <=50K\"]\n",
    "adult2 = adult[adult[\"Above/Below 50k\"] == \" >50K\"]\n",
    "\n",
    "#is replaced by\n",
    "groupby_object = adult.groupby(by=[\"Above/Below 50k\"])"
   ]
  },
  {
   "cell_type": "markdown",
   "id": "2762a14a",
   "metadata": {},
   "source": [
    "The basics of .groupby(): apply a function"
   ]
  },
  {
   "cell_type": "code",
   "execution_count": null,
   "id": "e995c42a",
   "metadata": {},
   "outputs": [],
   "source": [
    "groupby_object = adult.groupby(by=[\"Above/Below 50k\"])\n",
    "\n",
    "#Apply a function:\n",
    "groupby_object.mean() #only for numeric\n",
    "\n",
    "#One liner:\n",
    "adult.groupby(by=[\"Above/Below 50k\"]).mean()"
   ]
  },
  {
   "cell_type": "markdown",
   "id": "817fc127",
   "metadata": {},
   "source": [
    "Specifying columns"
   ]
  },
  {
   "cell_type": "code",
   "execution_count": null,
   "id": "832ff787",
   "metadata": {},
   "outputs": [],
   "source": [
    "#Option 1: only runs .sum() on two columns.\n",
    "adult.groupby(by=[\"Above/Below 50k\"])['Age','Education Num'].sum()\n",
    "\n",
    "# Option 2: runs .sum() on all numeric columns and then subsets.\n",
    "adult.groupby(by=[\"Above/Below 50k\"]).sum()[['Age','Education Num']]\n",
    "\n",
    "# Option 1 is preferred - especially when using large datasets"
   ]
  },
  {
   "cell_type": "markdown",
   "id": "6398dc3c",
   "metadata": {},
   "source": [
    "Groupby multiple columns"
   ]
  },
  {
   "cell_type": "code",
   "execution_count": null,
   "id": "352c367b",
   "metadata": {},
   "outputs": [],
   "source": [
    "adult.groupby(by=[\"Above/Below 50k\",\"Marital Status\"]).size() #how many rows for each group - is there enought rows for each combination?"
   ]
  },
  {
   "cell_type": "code",
   "execution_count": null,
   "id": "e71b03b3",
   "metadata": {},
   "outputs": [],
   "source": [
    "#Example\n",
    "# Group the adult dataset by \"Sex\" and \"Above/Below 50k\"\n",
    "gb = adult.groupby(by = [\"Sex\", \"Above/Below 50k\"])\n",
    "\n",
    "# Print out how many rows are in each created group\n",
    "print(gb.size())\n",
    "\n",
    "# Print out the mean of each group for all columns\n",
    "print(gb.mean())"
   ]
  },
  {
   "cell_type": "code",
   "execution_count": null,
   "id": "e7680ad1",
   "metadata": {},
   "outputs": [],
   "source": [
    "#Example\n",
    "# Create a list of user-selected variables\n",
    "user_list = [\"Education\", \"Above/Below 50k\"]\n",
    "\n",
    "# Create a GroupBy object using this list\n",
    "gb = adult.groupby(by = user_list)\n",
    "\n",
    "# Find the mean for the variable \"Hours/Week\" for each group - Be efficient!\n",
    "print(gb[\"Hours/Week\"].mean())"
   ]
  },
  {
   "cell_type": "markdown",
   "id": "72f51ce3",
   "metadata": {},
   "source": [
    "## Categorical pandas Series"
   ]
  },
  {
   "cell_type": "markdown",
   "id": "386d7d8d",
   "metadata": {},
   "source": [
    "### Setting category variables "
   ]
  },
  {
   "cell_type": "markdown",
   "id": "cdea1111",
   "metadata": {},
   "source": [
    "New dataset: adoptable dogs"
   ]
  },
  {
   "cell_type": "code",
   "execution_count": null,
   "id": "9f2e9265",
   "metadata": {},
   "outputs": [],
   "source": [
    "dogs.info()"
   ]
  },
  {
   "attachments": {
    "image.png": {
     "image/png": "[encoded data removed]"
    }
   },
   "cell_type": "markdown",
   "id": "53c0beed",
   "metadata": {},
   "source": [
    "![image.png](attachment:image.png)\n",
    "https://www.kaggle.com/jmolitoris/adoptable-dogs"
   ]
  },
  {
   "cell_type": "markdown",
   "id": "dd95580b",
   "metadata": {},
   "source": [
    "A dog's coat"
   ]
  },
  {
   "cell_type": "code",
   "execution_count": null,
   "id": "a5fb6a7f",
   "metadata": {},
   "outputs": [],
   "source": [
    "dogs[\"coat\"] = dogs[\"coat\"].astype(\"category\")\n",
    "dogs[\"coat\"].value_counts(dropna=False)"
   ]
  },
  {
   "attachments": {
    "image.png": {
     "image/png": "[encoded data removed]"
    }
   },
   "cell_type": "markdown",
   "id": "912070e5",
   "metadata": {},
   "source": [
    "![image.png](attachment:image.png)"
   ]
  },
  {
   "cell_type": "markdown",
   "id": "647f7237",
   "metadata": {},
   "source": [
    "The .cat accessor object #access and manipulate categorical series"
   ]
  },
  {
   "cell_type": "code",
   "execution_count": null,
   "id": "d4c1c528",
   "metadata": {},
   "outputs": [],
   "source": [
    "Series.cat.method_name"
   ]
  },
  {
   "cell_type": "markdown",
   "id": "8309dfc5",
   "metadata": {},
   "source": [
    "Common parameters:\n",
    "- new_categories : a list of categories\n",
    "- inplace : Boolean - whether or not the update should overwrite the Series\n",
    "- ordered : Boolean - whether or not the categorical is treated as an ordered categorical"
   ]
  },
  {
   "cell_type": "markdown",
   "id": "137a4560",
   "metadata": {},
   "source": [
    "Setting Series categories"
   ]
  },
  {
   "cell_type": "code",
   "execution_count": null,
   "id": "db85db84",
   "metadata": {},
   "outputs": [],
   "source": [
    "# Set categories:\n",
    "dogs[\"coat\"] = dogs[\"coat\"].cat.set_categories(\n",
    "                new_categories=[\"short\",\"medium\",\"long\"]\n",
    ") #drop all others that are not in the new category list\n",
    "\n",
    "# Check value counts:\n",
    "dogs[\"coat\"].value_counts(dropna=False)"
   ]
  },
  {
   "attachments": {
    "image.png": {
     "image/png": "[encoded data removed]"
    }
   },
   "cell_type": "markdown",
   "id": "727fbeea",
   "metadata": {},
   "source": [
    "![image.png](attachment:image.png)"
   ]
  },
  {
   "cell_type": "markdown",
   "id": "f0f3a88b",
   "metadata": {},
   "source": [
    "Setting order"
   ]
  },
  {
   "cell_type": "code",
   "execution_count": null,
   "id": "4263c39c",
   "metadata": {},
   "outputs": [],
   "source": [
    "dogs[\"coat\"] = dogs[\"coat\"].cat.set_categories(\n",
    "                new_categories=[\"short\",\"medium\",\"long\"],\n",
    "                ordered=True)\n",
    "dogs[\"coat\"].head(3)"
   ]
  },
  {
   "attachments": {
    "image.png": {
     "image/png": "[encoded data removed]"
    }
   },
   "cell_type": "markdown",
   "id": "0f32ff61",
   "metadata": {},
   "source": [
    "![image.png](attachment:image.png)"
   ]
  },
  {
   "cell_type": "markdown",
   "id": "840201e1",
   "metadata": {},
   "source": [
    "Missing categories"
   ]
  },
  {
   "cell_type": "code",
   "execution_count": null,
   "id": "20d29bc8",
   "metadata": {},
   "outputs": [],
   "source": [
    "dogs[\"likes_people\"].value_counts(dropna=False)"
   ]
  },
  {
   "attachments": {
    "image.png": {
     "image/png": "[encoded data removed]"
    }
   },
   "cell_type": "markdown",
   "id": "ba1ba5f3",
   "metadata": {},
   "source": [
    "![image.png](attachment:image.png)"
   ]
  },
  {
   "cell_type": "markdown",
   "id": "caa6b2e5",
   "metadata": {},
   "source": [
    "A NaN could mean:\n",
    "- 1. Truly unknown (we didn't check)\n",
    "- 2. Not sure (dog likes \"some\" people)"
   ]
  },
  {
   "cell_type": "markdown",
   "id": "681ca53b",
   "metadata": {},
   "source": [
    "Adding categories\n"
   ]
  },
  {
   "cell_type": "code",
   "execution_count": null,
   "id": "a98f6519",
   "metadata": {},
   "outputs": [],
   "source": [
    "# Add categories\n",
    "dogs[\"likes_people\"] = dogs[\"likes_people\"].astype(\"category\")\n",
    "dogs[\"likes_people\"] = dogs[\"likes_people\"].cat.add_categories(\n",
    "                            new_categories=[\"did not check\",\"could not tell\"]\n",
    ")\n",
    "\n",
    "# Check categories\n",
    "dogs[\"likes_people\"].cat.categories"
   ]
  },
  {
   "attachments": {
    "image.png": {
     "image/png": "[encoded data removed]"
    }
   },
   "cell_type": "markdown",
   "id": "ac6f82aa",
   "metadata": {},
   "source": [
    "![image.png](attachment:image.png)"
   ]
  },
  {
   "cell_type": "markdown",
   "id": "0cc52a9d",
   "metadata": {},
   "source": [
    "New categories"
   ]
  },
  {
   "cell_type": "code",
   "execution_count": null,
   "id": "9bdf0716",
   "metadata": {},
   "outputs": [],
   "source": [
    "dogs[\"likes_people\"].value_counts(dropna=False)"
   ]
  },
  {
   "attachments": {
    "image.png": {
     "image/png": "[encoded data removed]"
    }
   },
   "cell_type": "markdown",
   "id": "d70292f2",
   "metadata": {},
   "source": [
    "![image.png](attachment:image.png)"
   ]
  },
  {
   "cell_type": "markdown",
   "id": "72599c23",
   "metadata": {},
   "source": [
    "Removing categories"
   ]
  },
  {
   "cell_type": "code",
   "execution_count": null,
   "id": "4ea7fb0e",
   "metadata": {},
   "outputs": [],
   "source": [
    "dogs[\"coat\"] = dogs[\"coat\"].astype(\"category\")\n",
    "dogs[\"coat\"] = dogs[\"coat\"].cat.remove_categories(removals=[\"wirehaired\"])\n",
    "\n",
    "# Check the categories:\n",
    "dogs[\"coat\"].cat.categories\n",
    "#Index(['long','medium','short'], dtype='object')"
   ]
  },
  {
   "cell_type": "markdown",
   "id": "5dd1323b",
   "metadata": {},
   "source": [
    "Methods recap\n",
    "- Setting: cat.set_categories()\n",
    "    - Can be used to set the order of categories\n",
    "    - All values not specified in this method are dropped\n",
    "- Adding: cat.add_categories()\n",
    "    - Does not change the value of any data in the DataFrame\n",
    "    - Categories not listed in this method are left alone\n",
    "- Removing: cat.remove_categories()\n",
    "    - Values matching categories listed are set to Na"
   ]
  },
  {
   "cell_type": "code",
   "execution_count": null,
   "id": "5dd26cb8",
   "metadata": {},
   "outputs": [],
   "source": [
    "#Example\n",
    "# Check frequency counts while also printing the NaN count\n",
    "print(dogs[\"keep_in\"].value_counts(dropna=False))\n",
    "\n",
    "# Switch to a categorical variable\n",
    "dogs[\"keep_in\"] = dogs[\"keep_in\"].astype(\"category\")\n",
    "\n",
    "# Add new categories\n",
    "new_categories = [\"Unknown History\", \"Open Yard (Countryside)\"]\n",
    "dogs[\"keep_in\"] = dogs[\"keep_in\"].cat.add_categories(new_categories)\n",
    "\n",
    "# Check frequency counts one more time\n",
    "print(dogs[\"keep_in\"].value_counts(dropna = False))"
   ]
  },
  {
   "cell_type": "code",
   "execution_count": null,
   "id": "aa2f645e",
   "metadata": {},
   "outputs": [],
   "source": [
    "#Example\n",
    "# Set \"maybe\" to be \"no\"\n",
    "dogs.loc[dogs[\"likes_children\"] == \"maybe\", \"likes_children\"] = \"no\"\n",
    "\n",
    "# Print out categories\n",
    "print(dogs[\"likes_children\"].cat.categories)\n",
    "\n",
    "# Print the frequency table\n",
    "print(dogs[\"likes_children\"].value_counts())\n",
    "\n",
    "# Remove the `\"maybe\" category\n",
    "dogs[\"likes_children\"] = dogs[\"likes_children\"].cat.remove_categories([\"maybe\"])\n",
    "print(dogs[\"likes_children\"].value_counts())\n",
    "\n",
    "# Print the categories one more time\n",
    "print(dogs[\"likes_children\"].cat.categories)"
   ]
  },
  {
   "cell_type": "markdown",
   "id": "deceb0f9",
   "metadata": {},
   "source": [
    "### Updating categories"
   ]
  },
  {
   "cell_type": "markdown",
   "id": "9270d263",
   "metadata": {},
   "source": [
    "The breed variable\n",
    "Breed value counts:"
   ]
  },
  {
   "cell_type": "code",
   "execution_count": null,
   "id": "537037b5",
   "metadata": {},
   "outputs": [],
   "source": [
    "dogs[\"breed\"] = dogs[\"breed\"].astype(\"category\")\n",
    "dogs[\"breed\"].value_counts()"
   ]
  },
  {
   "attachments": {
    "image.png": {
     "image/png": "[encoded data removed]"
    }
   },
   "cell_type": "markdown",
   "id": "0d57692f",
   "metadata": {},
   "source": [
    "![image.png](attachment:image.png)"
   ]
  },
  {
   "cell_type": "markdown",
   "id": "4bcb5adb",
   "metadata": {},
   "source": [
    "Renaming categories"
   ]
  },
  {
   "cell_type": "code",
   "execution_count": null,
   "id": "89e0d9f6",
   "metadata": {},
   "outputs": [],
   "source": [
    "# The rename_categories method:\n",
    "Series.cat.rename_categories(new_categories=dict)\n",
    "\n",
    "# Make a dictionary:    \n",
    "my_changes = {\"Unknown Mix\": \"Unknown\"}\n",
    "\n",
    "# Rename the category:  \n",
    "dogs[\"breed\"] = dogs[\"breed\"].cat.rename_categories(my_changes)"
   ]
  },
  {
   "cell_type": "markdown",
   "id": "91c0f39f",
   "metadata": {},
   "source": [
    "The updated breed variable"
   ]
  },
  {
   "cell_type": "code",
   "execution_count": null,
   "id": "0659c827",
   "metadata": {},
   "outputs": [],
   "source": [
    "# Breed value counts:\n",
    "dogs[\"breed\"].value_counts()\n",
    "\n",
    "# Multiple changes at once:\n",
    "my_changes = {old_name1: new_name1,\n",
    "              old_name2: new_name2,...}\n",
    "\n",
    "Series.cat.rename_categories(my_changes)"
   ]
  },
  {
   "attachments": {
    "image.png": {
     "image/png": "[encoded data removed]"
    }
   },
   "cell_type": "markdown",
   "id": "00f83d26",
   "metadata": {},
   "source": [
    "![image.png](attachment:image.png)"
   ]
  },
  {
   "cell_type": "markdown",
   "id": "c5fce242",
   "metadata": {},
   "source": [
    "Renaming categories with a function"
   ]
  },
  {
   "cell_type": "code",
   "execution_count": null,
   "id": "8e422dea",
   "metadata": {},
   "outputs": [],
   "source": [
    "Update multiple categories:\n",
    "dogs['sex'] = dogs['sex'].cat.rename_categories(lambda c: c.title())\n",
    "dogs['sex'].cat.categories\n",
    "Index(['Female','Male'], dtype='object')"
   ]
  },
  {
   "cell_type": "markdown",
   "id": "f016d085",
   "metadata": {},
   "source": [
    "Common replacement issues"
   ]
  },
  {
   "cell_type": "code",
   "execution_count": null,
   "id": "52e89725",
   "metadata": {},
   "outputs": [],
   "source": [
    "Must use new category names\n",
    "# Does not work! \"Unknown\" already exists\n",
    "use_new_categories = {\"Unknown Mix\": \"Unknown\"}\n",
    "\n",
    "\n",
    "# Cannot collapse two categories into one\n",
    "# Does not work! New names must be unique\n",
    "cannot_repeat_categories = {\"Unknown Mix\": \"Unknown\",\"Mixed Breed\": \"Unknown\"}"
   ]
  },
  {
   "cell_type": "markdown",
   "id": "3e130738",
   "metadata": {},
   "source": [
    "Collapsing categories setup"
   ]
  },
  {
   "cell_type": "code",
   "execution_count": null,
   "id": "bf8ee242",
   "metadata": {},
   "outputs": [],
   "source": [
    "# A dogs color:\n",
    "dogs[\"color\"] = dogs[\"color\"].astype(\"category\")\n",
    "print(dogs[\"color\"].cat.categories)"
   ]
  },
  {
   "attachments": {
    "image.png": {
     "image/png": "[encoded data removed]"
    }
   },
   "cell_type": "markdown",
   "id": "b91da997",
   "metadata": {},
   "source": [
    "![image.png](attachment:image.png)"
   ]
  },
  {
   "cell_type": "markdown",
   "id": "611db258",
   "metadata": {},
   "source": [
    "Collapsing categories example"
   ]
  },
  {
   "cell_type": "code",
   "execution_count": null,
   "id": "306ab4f0",
   "metadata": {},
   "outputs": [],
   "source": [
    "# Create a dictionary and use .replace :\n",
    "update_colors = {\"black and brown\": \"black\",\n",
    "                 \"black and tan\": \"black\",\n",
    "                 \"black and white\": \"black\",\n",
    "                }\n",
    "\n",
    "dogs[\"main_color\"] = dogs[\"color\"].replace(update_colors)\n",
    "\n",
    "# Check the Series data type:\n",
    "dogs[\"main_color\"].dtype\n",
    "dtype('O')"
   ]
  },
  {
   "cell_type": "markdown",
   "id": "9adf9392",
   "metadata": {},
   "source": [
    "Convert back to categorical"
   ]
  },
  {
   "cell_type": "code",
   "execution_count": null,
   "id": "c13ecfcd",
   "metadata": {},
   "outputs": [],
   "source": [
    "dogs[\"main_color\"] = dogs[\"main_color\"].astype(\"category\")\n",
    "dogs[\"main_color\"].cat.categories\n",
    "\n",
    "#para colapsar, só usar replace e depois transformar de novo em categoria"
   ]
  },
  {
   "attachments": {
    "image.png": {
     "image/png": "[encoded data removed]"
    }
   },
   "cell_type": "markdown",
   "id": "cdf79caf",
   "metadata": {},
   "source": [
    "![image.png](attachment:image.png)"
   ]
  },
  {
   "cell_type": "code",
   "execution_count": null,
   "id": "43c71a40",
   "metadata": {},
   "outputs": [],
   "source": [
    "#Example\n",
    "# Create the my_changes dictionary\n",
    "my_changes = {\"Maybe?\": \"Maybe\"}\n",
    "\n",
    "# Rename the categories listed in the my_changes dictionary\n",
    "dogs[\"likes_children\"] = dogs[\"likes_children\"].cat.rename_categories(my_changes)\n",
    "\n",
    "# Use a lambda function to convert all categories to uppercase using upper()\n",
    "dogs[\"likes_children\"] =  dogs[\"likes_children\"].cat.rename_categories(lambda c: c.upper())\n",
    "\n",
    "# Print the list of categories\n",
    "print(dogs.likes_children.cat.categories)"
   ]
  },
  {
   "cell_type": "code",
   "execution_count": null,
   "id": "38794f78",
   "metadata": {},
   "outputs": [],
   "source": [
    "#Example\n",
    "# Create the update_coats dictionary\n",
    "update_coats = {\"wirehaired\": \"medium\", \"medium-long\": \"medium\"}\n",
    "\n",
    "# Create a new column, coat_collapsed\n",
    "dogs[\"coat_collapsed\"] = dogs[\"coat\"].replace(update_coats)\n",
    "\n",
    "# Convert the column to categorical\n",
    "dogs[\"coat_collapsed\"] = dogs[\"coat_collapsed\"].astype(\"category\")\n",
    "\n",
    "# Print the frequency table\n",
    "print(dogs[\"coat_collapsed\"].value_counts())"
   ]
  },
  {
   "cell_type": "markdown",
   "id": "744938bd",
   "metadata": {},
   "source": [
    "### Reordering categories "
   ]
  },
  {
   "cell_type": "markdown",
   "id": "de151492",
   "metadata": {},
   "source": [
    "Why would you reorder?\n",
    "1. Creating an ordinal variable\n",
    "2. To set the order that variables are displayed in analysis\n",
    "3. Memory savings"
   ]
  },
  {
   "cell_type": "markdown",
   "id": "bee2d8f4",
   "metadata": {},
   "source": [
    "Reordering example"
   ]
  },
  {
   "cell_type": "code",
   "execution_count": null,
   "id": "0c5a7296",
   "metadata": {},
   "outputs": [],
   "source": [
    "dogs['coat'] = dogs[\"coat\"].cat.reorder_categories(\n",
    "    new_categories = ['short','medium','wirehaired','long'],\n",
    "    ordered=True)\n",
    "\n",
    "# Using inplace:\n",
    "dogs[\"coat\"].cat.reorder_categories(\n",
    "    new_categories = ['short','medium','wirehaired','long'],\n",
    "    ordered=True,\n",
    "    inplace=True\n",
    ")"
   ]
  },
  {
   "cell_type": "markdown",
   "id": "0a3b3a2a",
   "metadata": {},
   "source": [
    "Grouping when ordered=True"
   ]
  },
  {
   "cell_type": "code",
   "execution_count": null,
   "id": "6121d551",
   "metadata": {},
   "outputs": [],
   "source": [
    "dogs['coat'] = dogs[\"coat\"].cat.reorder_categories(\n",
    "    new_categories = ['short','medium','wirehaired','long'],\n",
    "    ordered=True)\n",
    "\n",
    "dogs.groupby(by=['coat'])['age'].mean()"
   ]
  },
  {
   "attachments": {
    "image.png": {
     "image/png": "[encoded data removed]"
    }
   },
   "cell_type": "markdown",
   "id": "2530514e",
   "metadata": {},
   "source": [
    "![image.png](attachment:image.png)"
   ]
  },
  {
   "cell_type": "code",
   "execution_count": null,
   "id": "2d1fda8a",
   "metadata": {},
   "outputs": [],
   "source": [
    "dogs['coat'] = dogs[\"coat\"].cat.reorder_categories(\n",
    "    new_categories = ['short','medium','long','wirehaired'],\n",
    "    ordered=False)\n",
    "\n",
    "dogs.groupby(by=['coat'])['age'].mean()"
   ]
  },
  {
   "cell_type": "markdown",
   "id": "7fadb825",
   "metadata": {},
   "source": [
    "Grouping when ordered=False"
   ]
  },
  {
   "attachments": {
    "image.png": {
     "image/png": "[encoded data removed]"
    }
   },
   "cell_type": "markdown",
   "id": "9fdfb332",
   "metadata": {},
   "source": [
    "![image.png](attachment:image.png)"
   ]
  },
  {
   "cell_type": "code",
   "execution_count": null,
   "id": "5ae46ba1",
   "metadata": {},
   "outputs": [],
   "source": [
    "#Example\n",
    "# Print out the current categories of the size variable\n",
    "print(dogs[\"size\"].cat.categories)\n",
    "\n",
    "# Reorder the categories, specifying the Series is ordinal, and overwriting the original series\n",
    "dogs[\"size\"].cat.reorder_categories(\n",
    "  new_categories=[\"small\", \"medium\", \"large\"],\n",
    "  ordered=True,\n",
    "  inplace = True\n",
    ")"
   ]
  },
  {
   "cell_type": "code",
   "execution_count": null,
   "id": "9d143d61",
   "metadata": {},
   "outputs": [],
   "source": [
    "#Example\n",
    "# Previous code\n",
    "dogs[\"size\"].cat.reorder_categories(\n",
    "  new_categories=[\"small\", \"medium\", \"large\"],\n",
    "  ordered=True,\n",
    "  inplace=True\n",
    ")\n",
    "\n",
    "# How many Male/Female dogs are available of each size?\n",
    "print(dogs.groupby([\"size\"])[\"sex\"].value_counts())\n",
    "\n",
    "# Do larger dogs need more room to roam?\n",
    "print(dogs.groupby(\"size\")[\"keep_in\"].value_counts(normalize=True))"
   ]
  },
  {
   "cell_type": "markdown",
   "id": "f0f525dd",
   "metadata": {},
   "source": [
    "### Cleaning and accessing data "
   ]
  },
  {
   "cell_type": "markdown",
   "id": "4a691dd5",
   "metadata": {},
   "source": [
    "Possible issues with categorical data\n",
    "- 1) Inconsistent values: \"Ham\",\"ham\",\" Ham\"\n",
    "- 2) Misspelled values: \"Ham\",\"Hma\"\n",
    "- 3) Wrong dtype : df['Our Column'].dtype\n",
    "\n",
    "dtype('O')"
   ]
  },
  {
   "cell_type": "markdown",
   "id": "1443db76",
   "metadata": {},
   "source": [
    "Identifying issues\n",
    "\n",
    "Use either:\n",
    "- Series.cat.categories\n",
    "- Series.value_counts()"
   ]
  },
  {
   "cell_type": "code",
   "execution_count": null,
   "id": "3708d606",
   "metadata": {},
   "outputs": [],
   "source": [
    "dogs[\"get_along_cats\"].value_counts()"
   ]
  },
  {
   "attachments": {
    "image.png": {
     "image/png": "[encoded data removed]"
    }
   },
   "cell_type": "markdown",
   "id": "d851b7bb",
   "metadata": {},
   "source": [
    "![image.png](attachment:image.png)"
   ]
  },
  {
   "cell_type": "markdown",
   "id": "edb8760b",
   "metadata": {},
   "source": [
    "Fixing issues: whitespace"
   ]
  },
  {
   "cell_type": "code",
   "execution_count": null,
   "id": "cf3827f1",
   "metadata": {},
   "outputs": [],
   "source": [
    "# Removing whitespace: .strip()\n",
    "dogs[\"get_along_cats\"] = dogs[\"get_along_cats\"].str.strip()\n",
    "\n",
    "# Check the frequency counts:\n",
    "dogs[\"get_along_cats\"].value_counts()"
   ]
  },
  {
   "attachments": {
    "image.png": {
     "image/png": "[encoded data removed]"
    }
   },
   "cell_type": "markdown",
   "id": "38d61c44",
   "metadata": {},
   "source": [
    "![image.png](attachment:image.png)"
   ]
  },
  {
   "cell_type": "markdown",
   "id": "57f56f7f",
   "metadata": {},
   "source": [
    "Fixing issues: capitalization"
   ]
  },
  {
   "cell_type": "code",
   "execution_count": null,
   "id": "d15face7",
   "metadata": {},
   "outputs": [],
   "source": [
    "# Capitalization: .title() , .upper() , .lower()\n",
    "dogs[\"get_along_cats\"] = dogs[\"get_along_cats\"].str.title()\n",
    "\n",
    "# Check the frequency counts:\n",
    "dogs[\"get_along_cats\"].value_counts()"
   ]
  },
  {
   "attachments": {
    "image.png": {
     "image/png": "[encoded data removed]"
    }
   },
   "cell_type": "markdown",
   "id": "eb642d73",
   "metadata": {},
   "source": [
    "![image.png](attachment:image.png)"
   ]
  },
  {
   "cell_type": "markdown",
   "id": "0783a126",
   "metadata": {},
   "source": [
    "Fixing issues: misspelled words"
   ]
  },
  {
   "cell_type": "code",
   "execution_count": null,
   "id": "dae9a259",
   "metadata": {},
   "outputs": [],
   "source": [
    "# Capitalization: .title() , .upper() , .lower()\n",
    "dogs[\"get_along_cats\"] = dogs[\"get_along_cats\"].str.title()\n",
    "\n",
    "# Check the frequency counts:\n",
    "dogs[\"get_along_cats\"].value_counts()"
   ]
  },
  {
   "attachments": {
    "image.png": {
     "image/png": "[encoded data removed]"
    }
   },
   "cell_type": "markdown",
   "id": "4d327a05",
   "metadata": {},
   "source": [
    "![image.png](attachment:image.png)"
   ]
  },
  {
   "cell_type": "markdown",
   "id": "5a6aaa1a",
   "metadata": {},
   "source": [
    "Checking the data type"
   ]
  },
  {
   "cell_type": "code",
   "execution_count": null,
   "id": "f1bbeb53",
   "metadata": {},
   "outputs": [],
   "source": [
    "# Checking the dtype\n",
    "dogs[\"get_along_cats\"].dtype\n",
    "dtype('O')\n",
    "\n",
    "# Converting back to a category\n",
    "dogs[\"get_along_cats\"] = dogs[\"get_along_cats\"].astype(\"category\")"
   ]
  },
  {
   "cell_type": "markdown",
   "id": "11776c3c",
   "metadata": {},
   "source": [
    "Using the str accessor object"
   ]
  },
  {
   "cell_type": "code",
   "execution_count": null,
   "id": "76e1a1f2",
   "metadata": {},
   "outputs": [],
   "source": [
    "# Searching for a string\n",
    "dogs[\"breed\"].str.contains(\"Shepherd\", regex=False)"
   ]
  },
  {
   "attachments": {
    "image.png": {
     "image/png": "[encoded data removed]"
    }
   },
   "cell_type": "markdown",
   "id": "645fd646",
   "metadata": {},
   "source": [
    "![image.png](attachment:image.png)"
   ]
  },
  {
   "cell_type": "markdown",
   "id": "b1833b99",
   "metadata": {},
   "source": [
    "Accessing data with loc"
   ]
  },
  {
   "cell_type": "code",
   "execution_count": null,
   "id": "3726e2fb",
   "metadata": {},
   "outputs": [],
   "source": [
    "# Access Series values based on category\n",
    "dogs.loc[dogs[\"get_along_cats\"] == \"Yes\",\"size\"]\n",
    "\n",
    "# Series value counts:\n",
    "dogs.loc[dogs[\"get_along_cats\"] == \"Yes\",\"size\"].value_counts(sort=False)"
   ]
  },
  {
   "attachments": {
    "image.png": {
     "image/png": "[encoded data removed]"
    }
   },
   "cell_type": "markdown",
   "id": "1a8de05a",
   "metadata": {},
   "source": [
    "![image.png](attachment:image.png)"
   ]
  },
  {
   "cell_type": "code",
   "execution_count": null,
   "id": "5dfe51b7",
   "metadata": {},
   "outputs": [],
   "source": [
    "#Example\n",
    "# Fix the misspelled word\n",
    "replace_map = {\"Malez\": \"male\"}\n",
    "\n",
    "# Update the sex column using the created map\n",
    "dogs[\"sex\"] = dogs[\"sex\"].replace(replace_map)\n",
    "\n",
    "# Strip away leading whitespace\n",
    "dogs[\"sex\"] = dogs[\"sex\"].str.strip()\n",
    "\n",
    "# Make all responses lowercase\n",
    "dogs[\"sex\"] = dogs[\"sex\"].str.lower()\n",
    "\n",
    "# Convert to a categorical Series\n",
    "dogs[\"sex\"] = dogs[\"sex\"].astype(\"category\")\n",
    "\n",
    "print(dogs[\"sex\"].value_counts())"
   ]
  },
  {
   "cell_type": "code",
   "execution_count": null,
   "id": "829489fd",
   "metadata": {},
   "outputs": [],
   "source": [
    "#Example\n",
    "# Print the category of the coat for ID 23807\n",
    "print(dogs.loc[dogs.index == 23807, \"coat\"])\n",
    "\n",
    "# Find the count of male and female dogs who have a \"long\" coat\n",
    "print(dogs.loc[dogs.coat == \"long\", \"sex\"].value_counts())\n",
    "\n",
    "# Print the mean age of dogs with a breed of \"English Cocker Spaniel\"\n",
    "print(dogs.loc[dogs.breed == \"English Cocker Spaniel\", \"age\"].mean())\n",
    "\n",
    "# Count the number of dogs that have \"English\" in their breed name\n",
    "print(dogs[dogs[\"breed\"].str.contains(\"English\", regex=False)].shape[0])"
   ]
  },
  {
   "cell_type": "markdown",
   "id": "4dc47f98",
   "metadata": {},
   "source": [
    "## Visualizing Categorical Data "
   ]
  },
  {
   "cell_type": "markdown",
   "id": "2fe56194",
   "metadata": {},
   "source": [
    "### Introduction to categorical plots using Seaborn"
   ]
  },
  {
   "cell_type": "markdown",
   "id": "1a93c946",
   "metadata": {},
   "source": [
    "Our third dataset\n",
    "- Name: Las Vegas TripAdvisor Reviews - reviews\n",
    "- Rows: 504\n",
    "- Columns: 20"
   ]
  },
  {
   "cell_type": "markdown",
   "id": "bf7ed87d",
   "metadata": {},
   "source": [
    "Las Vegas reviews"
   ]
  },
  {
   "cell_type": "code",
   "execution_count": null,
   "id": "134f384d",
   "metadata": {},
   "outputs": [],
   "source": [
    "reviews.info()"
   ]
  },
  {
   "attachments": {
    "image.png": {
     "image/png": "[encoded data removed]"
    }
   },
   "cell_type": "markdown",
   "id": "272b315c",
   "metadata": {},
   "source": [
    "![image.png](attachment:image.png)\n",
    "\n",
    "https://www.kaggle.com/crawford/las-vegas-tripadvisor-reviews"
   ]
  },
  {
   "cell_type": "markdown",
   "id": "5cb78e4c",
   "metadata": {},
   "source": [
    "Seaborn\n",
    "- Introduction to Data Visualization with Seaborn\n",
    "- Intermediate Data Visualization with Seaborn\n",
    "\n",
    "Categorical plots:"
   ]
  },
  {
   "cell_type": "code",
   "execution_count": null,
   "id": "ed646262",
   "metadata": {},
   "outputs": [],
   "source": [
    "import seaborn as sns\n",
    "import matploblib.pyplot as plt\n",
    "sns.catplot(...)\n",
    "plt.show() #depends on the environment"
   ]
  },
  {
   "cell_type": "markdown",
   "id": "6985412c",
   "metadata": {},
   "source": [
    "The catplot function\n",
    "\n",
    "Parameters:\n",
    "- x : name of variable in data\n",
    "- y : name of variable in data\n",
    "- data : a DataFrame\n",
    "- kind : type of plot to create - one of: \"strip\",\"swarm\",\"box\",\"violin\",\"boxen\",\"point\",\"bar\", or \"count\""
   ]
  },
  {
   "attachments": {
    "image.png": {
     "image/png": "[encoded data removed]"
    }
   },
   "cell_type": "markdown",
   "id": "74d6b3d1",
   "metadata": {},
   "source": [
    "Box plot\n",
    "![image.png](attachment:image.png)\n",
    "\n",
    "https://en.wikipedia.org/wiki/Box_plot"
   ]
  },
  {
   "cell_type": "markdown",
   "id": "5ab5a792",
   "metadata": {},
   "source": [
    "Review score"
   ]
  },
  {
   "cell_type": "code",
   "execution_count": null,
   "id": "4aab4309",
   "metadata": {},
   "outputs": [],
   "source": [
    "reviews[\"Score\"].value_counts()"
   ]
  },
  {
   "attachments": {
    "image.png": {
     "image/png": "[encoded data removed]"
    }
   },
   "cell_type": "markdown",
   "id": "f0ba5964",
   "metadata": {},
   "source": [
    "![image.png](attachment:image.png)"
   ]
  },
  {
   "cell_type": "markdown",
   "id": "1cd776c9",
   "metadata": {},
   "source": [
    "Box plot example"
   ]
  },
  {
   "cell_type": "code",
   "execution_count": null,
   "id": "d63eef32",
   "metadata": {},
   "outputs": [],
   "source": [
    "sns.catplot(x=\"Pool\",\n",
    "            y=\"Score\",\n",
    "            data=reviews,\n",
    "            kind=\"box\")\n",
    "plt.show()"
   ]
  },
  {
   "attachments": {
    "image.png": {
     "image/png": "[encoded data removed]"
    }
   },
   "cell_type": "markdown",
   "id": "04db6efd",
   "metadata": {},
   "source": [
    "![image.png](attachment:image.png)"
   ]
  },
  {
   "cell_type": "markdown",
   "id": "ff0d5879",
   "metadata": {},
   "source": [
    "Two quick options"
   ]
  },
  {
   "cell_type": "code",
   "execution_count": null,
   "id": "ec6455af",
   "metadata": {},
   "outputs": [],
   "source": [
    "# Setting font size and plot background\n",
    "sns.set(font_scale=1.4)\n",
    "sns.set_style(\"whitegrid\")\n",
    "sns.catplot(x=\"Pool\",\n",
    "            y=\"Score\",\n",
    "            data=reviews,\n",
    "            kind=\"box\")\n",
    "plt.show()"
   ]
  },
  {
   "attachments": {
    "image.png": {
     "image/png": "[encoded data removed]"
    }
   },
   "cell_type": "markdown",
   "id": "71de422d",
   "metadata": {},
   "source": [
    "![image.png](attachment:image.png)"
   ]
  },
  {
   "cell_type": "code",
   "execution_count": null,
   "id": "6cfa4754",
   "metadata": {},
   "outputs": [],
   "source": [
    "#Example\n",
    "# Set the font size to 1.25\n",
    "sns.set(font_scale = 1.25)\n",
    "\n",
    "# Set the background to \"darkgrid\"\n",
    "sns.set_style(\"darkgrid\")\n",
    "\n",
    "# Create a boxplot\n",
    "sns.catplot(x = \"Traveler type\", y = \"Helpful votes\", data = reviews, kind = \"box\")\n",
    "\n",
    "plt.show()"
   ]
  },
  {
   "attachments": {
    "image.png": {
     "image/png": "[encoded data removed]"
    }
   },
   "cell_type": "markdown",
   "id": "54e09ca8",
   "metadata": {},
   "source": [
    "![image.png](attachment:image.png)"
   ]
  },
  {
   "cell_type": "markdown",
   "id": "f7d3b44b",
   "metadata": {},
   "source": [
    "### Seaborn bar plots"
   ]
  },
  {
   "cell_type": "markdown",
   "id": "25256c56",
   "metadata": {},
   "source": [
    "Traditional bar chart"
   ]
  },
  {
   "cell_type": "code",
   "execution_count": null,
   "id": "488228b9",
   "metadata": {},
   "outputs": [],
   "source": [
    "# Code provided for clarity\n",
    "reviews[\"Traveler type\"].value_counts().plot.bar()"
   ]
  },
  {
   "attachments": {
    "image.png": {
     "image/png": "[encoded data removed]"
    }
   },
   "cell_type": "markdown",
   "id": "90a87f0a",
   "metadata": {},
   "source": [
    "![image.png](attachment:image.png)"
   ]
  },
  {
   "cell_type": "markdown",
   "id": "48b2fa01",
   "metadata": {},
   "source": [
    "The syntax"
   ]
  },
  {
   "cell_type": "code",
   "execution_count": null,
   "id": "f8b7fa10",
   "metadata": {},
   "outputs": [],
   "source": [
    "sns.set(font_scale=1.3)\n",
    "sns.set_style(\"darkgrid\")\n",
    "sns.catplot(x=\"Traveler type\", \n",
    "            y=\"Score\", \n",
    "            data=reviews, \n",
    "            kind=\"bar\") #instead of box"
   ]
  },
  {
   "attachments": {
    "image.png": {
     "image/png": "[encoded data removed]"
    }
   },
   "cell_type": "markdown",
   "id": "ff1141ed",
   "metadata": {},
   "source": [
    "![image.png](attachment:image.png)"
   ]
  },
  {
   "cell_type": "markdown",
   "id": "99e5fd07",
   "metadata": {},
   "source": [
    "Ordering your categories"
   ]
  },
  {
   "cell_type": "code",
   "execution_count": null,
   "id": "f82befe3",
   "metadata": {},
   "outputs": [],
   "source": [
    "reviews[\"Traveler type\"] = reviews[\"Traveler type\"].astype(\"category\")\n",
    "reviews[\"Traveler type\"].cat.categories\n",
    "# Index(['Business','Couples','Families','Friends','Solo'], dtype='object')"
   ]
  },
  {
   "cell_type": "markdown",
   "id": "1dab4376",
   "metadata": {},
   "source": [
    "Updated visualization"
   ]
  },
  {
   "cell_type": "code",
   "execution_count": null,
   "id": "05429785",
   "metadata": {},
   "outputs": [],
   "source": [
    "sns.catplot(x=\"Traveler type\", \n",
    "            y=\"Score\", \n",
    "            data=reviews, \n",
    "            kind=\"bar\")"
   ]
  },
  {
   "attachments": {
    "image.png": {
     "image/png": "[encoded data removed]"
    }
   },
   "cell_type": "markdown",
   "id": "e46fbf04",
   "metadata": {},
   "source": [
    "![image.png](attachment:image.png)"
   ]
  },
  {
   "cell_type": "markdown",
   "id": "a7cccf6e",
   "metadata": {},
   "source": [
    "Note: catplot() has an order parameter"
   ]
  },
  {
   "cell_type": "markdown",
   "id": "7cb6dd3a",
   "metadata": {},
   "source": [
    "The hue parameter\n",
    "- hue:\n",
    "    - name of a variable in data\n",
    "    - used to split the data by a second category\n",
    "    - also used to color the graphic"
   ]
  },
  {
   "cell_type": "code",
   "execution_count": null,
   "id": "73b6532a",
   "metadata": {},
   "outputs": [],
   "source": [
    "sns.set(font_scale=1.2)\n",
    "sns.set_style(\"darkgrid\")\n",
    "sns.catplot(x=\"Traveler type\", y=\"Score\", data=reviews, kind=\"bar\",\n",
    "            hue=\"Tennis court\") # <--- new parameter (split for a second time)"
   ]
  },
  {
   "attachments": {
    "image.png": {
     "image/png": "[encoded data removed]"
    }
   },
   "cell_type": "markdown",
   "id": "df836ec3",
   "metadata": {},
   "source": [
    "Bar plot across two variables\n",
    "![image.png](attachment:image.png)"
   ]
  },
  {
   "cell_type": "code",
   "execution_count": null,
   "id": "8ff625ba",
   "metadata": {},
   "outputs": [],
   "source": [
    "#Example\n",
    "# Print the frequency counts of \"Period of stay\"\n",
    "print(reviews[\"Period of stay\"].value_counts())\n",
    "\n",
    "sns.set(font_scale=1.4)\n",
    "sns.set_style(\"whitegrid\")\n",
    "\n",
    "# Create a bar plot of \"Helpful votes\" by \"Period of stay\"\n",
    "sns.catplot(x = \"Period of stay\", y = \"Helpful votes\", data = reviews, kind = \"bar\")\n",
    "plt.show()"
   ]
  },
  {
   "attachments": {
    "image.png": {
     "image/png": "[encoded data removed]"
    }
   },
   "cell_type": "markdown",
   "id": "e482761a",
   "metadata": {},
   "source": [
    "![image.png](attachment:image.png)"
   ]
  },
  {
   "cell_type": "code",
   "execution_count": null,
   "id": "c1cd2259",
   "metadata": {},
   "outputs": [],
   "source": [
    "#Example\n",
    "# Create a bar chart\n",
    "sns.set(font_scale=.9)\n",
    "sns.set_style(\"whitegrid\")\n",
    "sns.catplot(x = \"User continent\", y = \"Score\", data=reviews, kind=\"bar\")\n",
    "plt.show()"
   ]
  },
  {
   "attachments": {
    "image.png": {
     "image/png": "[encoded data removed]"
    }
   },
   "cell_type": "markdown",
   "id": "80f24caa",
   "metadata": {},
   "source": [
    "![image.png](attachment:image.png)"
   ]
  },
  {
   "cell_type": "code",
   "execution_count": null,
   "id": "7d55d891",
   "metadata": {},
   "outputs": [],
   "source": [
    "#Example\n",
    "# Create a bar chart\n",
    "sns.set(font_scale=.9)\n",
    "sns.set_style(\"whitegrid\")\n",
    "sns.catplot(x=\"User continent\", y=\"Score\", data=reviews, kind=\"bar\")\n",
    "\n",
    "# Print the frequency counts for \"User continent\"\n",
    "print(reviews[\"User continent\"].value_counts())"
   ]
  },
  {
   "cell_type": "code",
   "execution_count": null,
   "id": "907d212b",
   "metadata": {},
   "outputs": [],
   "source": [
    "#Example\n",
    "# Set style\n",
    "sns.set(font_scale=.9)\n",
    "sns.set_style(\"whitegrid\")\n",
    "\n",
    "# Print the frequency counts for \"User continent\"\n",
    "print(reviews[\"User continent\"].value_counts())\n",
    "\n",
    "# Convert \"User continent\" to a categorical variable\n",
    "reviews[\"User continent\"] = reviews[\"User continent\"].astype(\"category\")\n",
    "sns.catplot(x = \"User continent\", y=\"Score\", data=reviews, kind=\"bar\")\n",
    "plt.show()"
   ]
  },
  {
   "attachments": {
    "image.png": {
     "image/png": "[encoded data removed]"
    }
   },
   "cell_type": "markdown",
   "id": "0339cc72",
   "metadata": {},
   "source": [
    "![image.png](attachment:image.png)"
   ]
  },
  {
   "cell_type": "code",
   "execution_count": null,
   "id": "881e23f0",
   "metadata": {},
   "outputs": [],
   "source": [
    "# Set style\n",
    "sns.set(font_scale=.9)\n",
    "sns.set_style(\"whitegrid\")\n",
    "\n",
    "# Print the frequency counts for \"User continent\"\n",
    "print(reviews[\"User continent\"].value_counts())\n",
    "\n",
    "# Convert \"User continent\" to a categorical variable\n",
    "reviews[\"User continent\"] = reviews[\"User continent\"].astype(\"category\")\n",
    "\n",
    "# Reorder \"User continent\" using continent_categories and rerun the graphic\n",
    "continent_categories = list(reviews[\"User continent\"].value_counts().index)\n",
    "reviews[\"User continent\"] = reviews[\"User continent\"].cat.reorder_categories(new_categories = continent_categories)\n",
    "sns.catplot(x=\"User continent\", y=\"Score\", data=reviews, kind=\"bar\")\n",
    "plt.show()"
   ]
  },
  {
   "attachments": {
    "image.png": {
     "image/png": "[encoded data removed]"
    }
   },
   "cell_type": "markdown",
   "id": "1e52889b",
   "metadata": {},
   "source": [
    "![image.png](attachment:image.png)"
   ]
  },
  {
   "cell_type": "code",
   "execution_count": null,
   "id": "1b97f567",
   "metadata": {},
   "outputs": [],
   "source": [
    "#Example\n",
    "# Add a second category to split the data on: \"Free internet\"\n",
    "sns.set(font_scale=2)\n",
    "sns.set_style(\"darkgrid\")\n",
    "sns.catplot(x = \"Casino\", y=\"Score\", data=reviews, kind=\"bar\", hue = \"Free internet\")\n",
    "plt.show()"
   ]
  },
  {
   "attachments": {
    "image.png": {
     "image/png": "[encoded data removed]"
    }
   },
   "cell_type": "markdown",
   "id": "74f8650e",
   "metadata": {},
   "source": [
    "![image.png](attachment:image.png)"
   ]
  },
  {
   "cell_type": "code",
   "execution_count": null,
   "id": "34f91f79",
   "metadata": {},
   "outputs": [],
   "source": [
    "#Example\n",
    "# Switch the x and hue categories\n",
    "sns.set(font_scale=2)\n",
    "sns.set_style(\"darkgrid\")\n",
    "sns.catplot(x=\"Free internet\", y=\"Score\", data=reviews, kind=\"bar\", hue=\"Casino\")\n",
    "plt.show()"
   ]
  },
  {
   "attachments": {
    "image.png": {
     "image/png": "[encoded data removed]"
    }
   },
   "cell_type": "markdown",
   "id": "1b8a03a4",
   "metadata": {},
   "source": [
    "![image.png](attachment:image.png)"
   ]
  },
  {
   "cell_type": "code",
   "execution_count": null,
   "id": "93896933",
   "metadata": {},
   "outputs": [],
   "source": [
    "#Example\n",
    "# Update x to be \"User continent\"\n",
    "sns.set(font_scale=2)\n",
    "sns.set_style(\"darkgrid\")\n",
    "sns.catplot(x=\"User continent\", y=\"Score\", data=reviews, kind=\"bar\", hue=\"Casino\")\n",
    "plt.show()"
   ]
  },
  {
   "attachments": {
    "image.png": {
     "image/png": "[encoded data removed]"
    }
   },
   "cell_type": "markdown",
   "id": "3ca2e66c",
   "metadata": {},
   "source": [
    "![image.png](attachment:image.png)"
   ]
  },
  {
   "cell_type": "code",
   "execution_count": null,
   "id": "df02fb41",
   "metadata": {},
   "outputs": [],
   "source": [
    "#Example\n",
    "# Lower the font size so that all text fits on the screen.\n",
    "sns.set(font_scale = 1)\n",
    "sns.set_style(\"darkgrid\")\n",
    "sns.catplot(x=\"User continent\", y=\"Score\", data=reviews, kind=\"bar\", hue=\"Casino\")\n",
    "plt.show()"
   ]
  },
  {
   "attachments": {
    "image.png": {
     "image/png": "[encoded data removed]"
    }
   },
   "cell_type": "markdown",
   "id": "c851fdd1",
   "metadata": {},
   "source": [
    "![image.png](attachment:image.png)"
   ]
  },
  {
   "cell_type": "markdown",
   "id": "675c5c67",
   "metadata": {},
   "source": [
    "### Point and count plots"
   ]
  },
  {
   "cell_type": "markdown",
   "id": "3ccf530d",
   "metadata": {},
   "source": [
    "Point plot example"
   ]
  },
  {
   "cell_type": "code",
   "execution_count": null,
   "id": "8a7f8238",
   "metadata": {},
   "outputs": [],
   "source": [
    "sns.catplot(x=\"Pool\", y=\"Score\", data=reviews, \n",
    "            kind=\"point\") # <--- updated"
   ]
  },
  {
   "attachments": {
    "image.png": {
     "image/png": "[encoded data removed]"
    }
   },
   "cell_type": "markdown",
   "id": "befbee3b",
   "metadata": {},
   "source": [
    "![image.png](attachment:image.png)"
   ]
  },
  {
   "attachments": {
    "image.png": {
     "image/png": "[encoded data removed]"
    }
   },
   "cell_type": "markdown",
   "id": "b0998353",
   "metadata": {},
   "source": [
    "Bar plot vs. point plot\n",
    "\n",
    "![image.png](attachment:image.png)"
   ]
  },
  {
   "cell_type": "markdown",
   "id": "5206a3e6",
   "metadata": {},
   "source": [
    "Point plot with hue"
   ]
  },
  {
   "cell_type": "code",
   "execution_count": null,
   "id": "aa340f60",
   "metadata": {},
   "outputs": [],
   "source": [
    "sns.catplot(x=\"Spa\", y=\"Score\", data=reviews, kind=\"point\",hue=\"Tennis court\", \n",
    "            dodge=True # < --- New Parameter! - makes the plots not overlap\n",
    "           )"
   ]
  },
  {
   "attachments": {
    "image.png": {
     "image/png": "[encoded data removed]"
    }
   },
   "cell_type": "markdown",
   "id": "73abbb8c",
   "metadata": {},
   "source": [
    "![image.png](attachment:image.png)"
   ]
  },
  {
   "cell_type": "markdown",
   "id": "def0097a",
   "metadata": {},
   "source": [
    "Using the join parameter"
   ]
  },
  {
   "cell_type": "code",
   "execution_count": null,
   "id": "a992150e",
   "metadata": {},
   "outputs": [],
   "source": [
    "sns.catplot(x=\"Score\",y=\"Review weekday\",data=reviews,kind=\"point\",\n",
    "            join=False # < --- New! - lines no longer connected\n",
    "           ) "
   ]
  },
  {
   "attachments": {
    "image.png": {
     "image/png": "[encoded data removed]"
    }
   },
   "cell_type": "markdown",
   "id": "cdb38c05",
   "metadata": {},
   "source": [
    "![image.png](attachment:image.png)"
   ]
  },
  {
   "cell_type": "code",
   "execution_count": null,
   "id": "b2c29ea0",
   "metadata": {},
   "outputs": [],
   "source": [
    "sns.catplot(x=\"Tennis court\", data=reviews, \n",
    "            kind=\"count\", #<- display frequencies\n",
    "            hue=\"Spa\")"
   ]
  },
  {
   "cell_type": "markdown",
   "id": "b81a6ea0",
   "metadata": {},
   "source": [
    "One last catplot type"
   ]
  },
  {
   "attachments": {
    "image.png": {
     "image/png": "[encoded data removed]"
    }
   },
   "cell_type": "markdown",
   "id": "dd9255ef",
   "metadata": {},
   "source": [
    "![image.png](attachment:image.png)"
   ]
  },
  {
   "cell_type": "code",
   "execution_count": null,
   "id": "e452383f",
   "metadata": {},
   "outputs": [],
   "source": [
    "#Example\n",
    "# Create a point plot with catplot using \"Hotel stars\" and \"Nr. reviews\"\n",
    "sns.catplot(\n",
    "  # Split the data across Hotel stars and summarize Nr. reviews\n",
    "  x = \"Hotel stars\",\n",
    "  y = \"Nr. reviews\",\n",
    "  data=reviews,\n",
    "  # Specify a point plot\n",
    "  kind = \"point\",\n",
    "  hue=\"Pool\",\n",
    "  # Make sure the lines and points don't overlap\n",
    "  dodge = True\n",
    ")\n",
    "plt.show()"
   ]
  },
  {
   "attachments": {
    "image.png": {
     "image/png": "[encoded data removed]"
    }
   },
   "cell_type": "markdown",
   "id": "65b7d021",
   "metadata": {},
   "source": [
    "![image.png](attachment:image.png)"
   ]
  },
  {
   "cell_type": "code",
   "execution_count": null,
   "id": "1656a4ff",
   "metadata": {},
   "outputs": [],
   "source": [
    "#Example\n",
    "sns.set(font_scale=1.4)\n",
    "sns.set_style(\"darkgrid\")\n",
    "\n",
    "# Create a catplot that will count the frequency of \"Score\" across \"Traveler type\"\n",
    "sns.catplot(\n",
    "  data = reviews,\n",
    "  x = \"Score\",\n",
    "  hue = \"Traveler type\",\n",
    "  kind = \"count\"\n",
    ")\n",
    "plt.show()"
   ]
  },
  {
   "attachments": {
    "image.png": {
     "image/png": "[encoded data removed]"
    }
   },
   "cell_type": "markdown",
   "id": "e4e8e4a5",
   "metadata": {},
   "source": [
    "![image.png](attachment:image.png)"
   ]
  },
  {
   "cell_type": "markdown",
   "id": "afb6677f",
   "metadata": {},
   "source": [
    "### Additional catplot() options "
   ]
  },
  {
   "cell_type": "markdown",
   "id": "210b6b8c",
   "metadata": {},
   "source": [
    "Difficulties with categorical plots"
   ]
  },
  {
   "attachments": {
    "image.png": {
     "image/png": "[encoded data removed]"
    }
   },
   "cell_type": "markdown",
   "id": "765928d2",
   "metadata": {},
   "source": [
    "![image.png](attachment:image.png)"
   ]
  },
  {
   "cell_type": "markdown",
   "id": "822b5c68",
   "metadata": {},
   "source": [
    "Using the catplot() facetgrid"
   ]
  },
  {
   "attachments": {
    "image.png": {
     "image/png": "[encoded data removed]"
    }
   },
   "cell_type": "markdown",
   "id": "2dd48362",
   "metadata": {},
   "source": [
    "![image.png](attachment:image.png)"
   ]
  },
  {
   "cell_type": "markdown",
   "id": "741918cb",
   "metadata": {},
   "source": [
    "Using different arguments"
   ]
  },
  {
   "cell_type": "code",
   "execution_count": null,
   "id": "4499721b",
   "metadata": {},
   "outputs": [],
   "source": [
    "sns.catplot(x=\"Traveler type\", kind=\"count\",\n",
    "            col=\"User continent\",\n",
    "            col_wrap=3,\n",
    "            palette=sns.color_palette(\"Set1\"), \n",
    "            data=reviews)"
   ]
  },
  {
   "cell_type": "markdown",
   "id": "195625fb",
   "metadata": {},
   "source": [
    "- x : \"Traveler type\"\n",
    "- kind : \"count\"\n",
    "- col : \"User continent\"\n",
    "- col_wrap : 3\n",
    "- palette : sns.color_palette(\"Set1\")\n",
    "- Common colors: \"Set\",\"Set2\",\"Tab10\",\"Paired\"\n",
    "\n",
    "http://seaborn.pydata.org/tutorial/color_palettes.html"
   ]
  },
  {
   "cell_type": "markdown",
   "id": "82f79b47",
   "metadata": {},
   "source": [
    "One more look"
   ]
  },
  {
   "attachments": {
    "image.png": {
     "image/png": "[encoded data removed]"
    }
   },
   "cell_type": "markdown",
   "id": "80ae9b39",
   "metadata": {},
   "source": [
    "![image.png](attachment:image.png)"
   ]
  },
  {
   "cell_type": "markdown",
   "id": "fb978719",
   "metadata": {},
   "source": [
    "Updating plots\n",
    "- Setup: save your graphic as an object: ax\n",
    "- Plot title: ax.fig.suptitle(\"My title\")\n",
    "- Axis labels: ax.set_axis_labels(\"x-axis-label\",\"y-axis-label\")\n",
    "- Title height: plt.subplots_adjust(top=.9)"
   ]
  },
  {
   "cell_type": "code",
   "execution_count": null,
   "id": "4e312ab2",
   "metadata": {},
   "outputs": [],
   "source": [
    "ax = sns.catplot(x=\"Traveler type\", \n",
    "                 col=\"User continent\", \n",
    "                 col_wrap=3,\n",
    "                 kind=\"count\", palette=sns.color_palette(\"Set1\"), \n",
    "                 data=reviews)\n",
    "\n",
    "#update specific features\n",
    "ax.fig.suptitle(\"Hotel Score by Traveler Type & User Continent\")\n",
    "ax.set_axis_labels(\"Traveler Type\",\"Number of Reviews\")\n",
    "plt.subplots_adjust(top=.9) #90% of the graph\n",
    "plt.show()"
   ]
  },
  {
   "cell_type": "markdown",
   "id": "2e46a18b",
   "metadata": {},
   "source": [
    "Finished product"
   ]
  },
  {
   "attachments": {
    "image.png": {
     "image/png": "[encoded data removed]"
    }
   },
   "cell_type": "markdown",
   "id": "21a89f1f",
   "metadata": {},
   "source": [
    "![image.png](attachment:image.png)"
   ]
  },
  {
   "cell_type": "code",
   "execution_count": null,
   "id": "daff9ae0",
   "metadata": {},
   "outputs": [],
   "source": [
    "#Example\n",
    "# Create a catplot for each \"Period of stay\" broken down by \"Review weekday\"\n",
    "ax = sns.catplot(\n",
    "  # Make sure Review weekday is along the x-axis\n",
    "  x = \"Review weekday\",\n",
    "  # Specify Period of stay as the column to create individual graphics for\n",
    "  col = \"Period of stay\",\n",
    "  # Specify that a count plot should be created\n",
    "  kind = \"count\",\n",
    "  # Wrap the plots after every 2nd graphic.\n",
    "  col_wrap = 2,\n",
    "  data=reviews\n",
    ")\n",
    "plt.show()"
   ]
  },
  {
   "attachments": {
    "image.png": {
     "image/png": "[encoded data removed]"
    }
   },
   "cell_type": "markdown",
   "id": "24eb63c9",
   "metadata": {},
   "source": [
    "![image.png](attachment:image.png)"
   ]
  },
  {
   "cell_type": "code",
   "execution_count": null,
   "id": "dd44c875",
   "metadata": {},
   "outputs": [],
   "source": [
    "#Example\n",
    "# Adjust the color\n",
    "ax = sns.catplot(\n",
    "  x=\"Free internet\", y=\"Score\",\n",
    "  hue=\"Traveler type\", kind=\"bar\",\n",
    "  data=reviews,\n",
    "  palette=sns.color_palette(\"Set2\")\n",
    ")\n",
    "\n",
    "# Add a title\n",
    "ax.fig.suptitle(\"Hotel Score by Traveler Type and Free Internet Access\")\n",
    "# Update the axis labels\n",
    "ax.set_axis_labels(\"Free Internet\", \"Average Review Rating\")\n",
    "\n",
    "# Adjust the starting height of the graphic\n",
    "plt.subplots_adjust(top=0.93)\n",
    "plt.show()"
   ]
  },
  {
   "attachments": {
    "image.png": {
     "image/png": "[encoded data removed]"
    }
   },
   "cell_type": "markdown",
   "id": "6720969b",
   "metadata": {},
   "source": [
    "![image.png](attachment:image.png)"
   ]
  },
  {
   "cell_type": "markdown",
   "id": "d8d8861e",
   "metadata": {},
   "source": [
    "## Pitfalls and Encoding "
   ]
  },
  {
   "cell_type": "markdown",
   "id": "32f6c066",
   "metadata": {},
   "source": [
    "### Categorical pitfalls"
   ]
  },
  {
   "cell_type": "markdown",
   "id": "1cdbb4f0",
   "metadata": {},
   "source": [
    "Used cars: the final dataset"
   ]
  },
  {
   "cell_type": "code",
   "execution_count": null,
   "id": "e687f4ef",
   "metadata": {},
   "outputs": [],
   "source": [
    "import pandas as pd\n",
    "used_cars = pd.read_csv(\"used_cars.csv\")\n",
    "used_cars.info()"
   ]
  },
  {
   "attachments": {
    "image.png": {
     "image/png": "[encoded data removed]"
    }
   },
   "cell_type": "markdown",
   "id": "94429ead",
   "metadata": {},
   "source": [
    "![image.png](attachment:image.png)"
   ]
  },
  {
   "cell_type": "markdown",
   "id": "9f7802d4",
   "metadata": {},
   "source": [
    "Huge memory savings"
   ]
  },
  {
   "cell_type": "code",
   "execution_count": null,
   "id": "10b539dd",
   "metadata": {},
   "outputs": [],
   "source": [
    "used_cars['manufacturer_name'].describe()"
   ]
  },
  {
   "attachments": {
    "image.png": {
     "image/png": "[encoded data removed]"
    }
   },
   "cell_type": "markdown",
   "id": "de26aca6",
   "metadata": {},
   "source": [
    "![image.png](attachment:image.png)"
   ]
  },
  {
   "cell_type": "code",
   "execution_count": null,
   "id": "bbace1ed",
   "metadata": {},
   "outputs": [],
   "source": [
    "print(\"As object: \", used_cars['manufacturer_name'].nbytes)\n",
    "print(\"As category: \", used_cars['manufacturer_name'].astype('category').nbytes)"
   ]
  },
  {
   "attachments": {
    "image.png": {
     "image/png": "[encoded data removed]"
    }
   },
   "cell_type": "markdown",
   "id": "28a9bf96",
   "metadata": {},
   "source": [
    "![image.png](attachment:image.png)"
   ]
  },
  {
   "cell_type": "markdown",
   "id": "61d5cad9",
   "metadata": {},
   "source": [
    "https://pandas.pydata.org/pandas-docs/stable/user_guide/categorical.html"
   ]
  },
  {
   "cell_type": "markdown",
   "id": "03614b1b",
   "metadata": {},
   "source": [
    "Little memory savings"
   ]
  },
  {
   "cell_type": "code",
   "execution_count": null,
   "id": "3cfb0253",
   "metadata": {},
   "outputs": [],
   "source": [
    "used_cars['odometer_value'].astype('object').describe()"
   ]
  },
  {
   "attachments": {
    "image.png": {
     "image/png": "[encoded data removed]"
    }
   },
   "cell_type": "markdown",
   "id": "a074e350",
   "metadata": {},
   "source": [
    "![image.png](attachment:image.png)"
   ]
  },
  {
   "cell_type": "code",
   "execution_count": null,
   "id": "9789b774",
   "metadata": {},
   "outputs": [],
   "source": [
    "print(f\"As float: {used_cars['odometer_value'].nbytes}\")\n",
    "print(f\"As category: {used_cars['odometer_value'].astype('category').nbytes}\")"
   ]
  },
  {
   "attachments": {
    "image.png": {
     "image/png": "[encoded data removed]"
    }
   },
   "cell_type": "markdown",
   "id": "6ffec7ee",
   "metadata": {},
   "source": [
    "![image.png](attachment:image.png)"
   ]
  },
  {
   "cell_type": "markdown",
   "id": "646410f0",
   "metadata": {},
   "source": [
    "Using categories can be frustrating\n",
    "- Using the .str accessor object to manipulate data converts the Series to an object.\n",
    "- The .apply() method outputs a new Series as an object.\n",
    "- The common methods of adding, removing, replacing, or seing categories do not all handle missing categories the same way.\n",
    "- NumPy functions generally do not work with categorical Series."
   ]
  },
  {
   "cell_type": "markdown",
   "id": "859162ae",
   "metadata": {},
   "source": [
    "Check and convert"
   ]
  },
  {
   "cell_type": "code",
   "execution_count": null,
   "id": "8bebafea",
   "metadata": {},
   "outputs": [],
   "source": [
    "# Check\n",
    "used_cars[\"color\"] = used_cars[\"color\"].astype(\"category\")\n",
    "used_cars[\"color\"] = used_cars[\"color\"].str.upper()\n",
    "print(used_cars[\"color\"].dtype)\n",
    "# object\n",
    "\n",
    "Convertused_cars[\"color\"] = used_cars[\"color\"].astype(\"category\")\n",
    "print(used_cars[\"color\"].dtype)\n",
    "# category"
   ]
  },
  {
   "cell_type": "markdown",
   "id": "3172ed00",
   "metadata": {},
   "source": [
    "Look for missing values"
   ]
  },
  {
   "cell_type": "code",
   "execution_count": null,
   "id": "217cb949",
   "metadata": {},
   "outputs": [],
   "source": [
    "# Set categories\n",
    "used_cars[\"color\"] = used_cars[\"color\"].astype(\"category\")\n",
    "used_cars[\"color\"].cat.set_categories([\"black\",\"silver\",\"blue\"], inplace=True)\n",
    "used_cars[\"color\"].value_counts(dropna=False)"
   ]
  },
  {
   "attachments": {
    "image.png": {
     "image/png": "[encoded data removed]"
    }
   },
   "cell_type": "markdown",
   "id": "0daa0016",
   "metadata": {},
   "source": [
    "![image.png](attachment:image.png)"
   ]
  },
  {
   "cell_type": "markdown",
   "id": "afd4ca56",
   "metadata": {},
   "source": [
    "Using numpy arrays"
   ]
  },
  {
   "cell_type": "code",
   "execution_count": null,
   "id": "86b4eae6",
   "metadata": {},
   "outputs": [],
   "source": [
    "used_cars['number_of_photos'] = used_cars['number_of_photos'].astype(\"category\")\n",
    "used_cars['number_of_photos'].sum() # <--- Gives an Error\n",
    "\n",
    "# TypeError: Categorical cannot perform the operation sum\n",
    "\n",
    "used_cars['number_of_photos'].astype(int).sum()\n",
    "\n",
    "# Note:\n",
    "# .str converts the column to an array\n",
    "used_cars[\"color\"].str.contains(\"red\")"
   ]
  },
  {
   "attachments": {
    "image.png": {
     "image/png": "[encoded data removed]"
    }
   },
   "cell_type": "markdown",
   "id": "195d5fd3",
   "metadata": {},
   "source": [
    "![image.png](attachment:image.png)"
   ]
  },
  {
   "cell_type": "code",
   "execution_count": null,
   "id": "62157f15",
   "metadata": {},
   "outputs": [],
   "source": [
    "#Example\n",
    "# Print the frequency table of body_type and include NaN values\n",
    "print(used_cars[\"body_type\"].value_counts(dropna=False))\n",
    "\n",
    "# Update NaN values\n",
    "used_cars.loc[used_cars[\"body_type\"].isna(), \"body_type\"] = \"other\"\n",
    "\n",
    "# Convert body_type to title case\n",
    "used_cars[\"body_type\"] = used_cars[\"body_type\"].str.title()\n",
    "\n",
    "# Check the dtype\n",
    "print(used_cars[\"body_type\"].dtype)"
   ]
  },
  {
   "cell_type": "code",
   "execution_count": null,
   "id": "6cb5b62c",
   "metadata": {},
   "outputs": [],
   "source": [
    "#Example\n",
    "# Print the frequency table of Sale Rating\n",
    "print(used_cars[\"Sale Rating\"].value_counts())\n",
    "\n",
    "# Find the average score\n",
    "average_score = used_cars[\"Sale Rating\"].astype(int).mean()\n",
    "\n",
    "# Print the average\n",
    "print(average_score)"
   ]
  },
  {
   "cell_type": "markdown",
   "id": "c82f1893",
   "metadata": {},
   "source": [
    "### Label encoding "
   ]
  },
  {
   "cell_type": "markdown",
   "id": "d397ddfe",
   "metadata": {},
   "source": [
    "What is label encoding?\n",
    "\n",
    "The basics:\n",
    "- Codes each category as an integer from 0 through n - 1, where n is the number ofcategories\n",
    "- A -1 code is reserved for any missing values\n",
    "- Can save on memory\n",
    "- Often used in surveys\n",
    "\n",
    "The drawback:\n",
    "- Is not the best encoding method for machine learning (see next lesson)"
   ]
  },
  {
   "cell_type": "markdown",
   "id": "419c68c1",
   "metadata": {},
   "source": [
    "Creating codes"
   ]
  },
  {
   "cell_type": "code",
   "execution_count": null,
   "id": "83ea2cac",
   "metadata": {},
   "outputs": [],
   "source": [
    "# Convert to categorical and sort by manufacturer name\n",
    "used_cars['manufacturer_name'] = used_cars['manufacturer_name'].astype(\"category\")\n",
    "\n",
    "# Use .cat.codes\n",
    "used_cars['manufacturer_code'] = used_cars['manufacturer_name'].cat.codes #alphabetical order if no order"
   ]
  },
  {
   "cell_type": "markdown",
   "id": "89327853",
   "metadata": {},
   "source": [
    "Check output"
   ]
  },
  {
   "cell_type": "code",
   "execution_count": null,
   "id": "7bad9549",
   "metadata": {},
   "outputs": [],
   "source": [
    "print(used_cars[['manufacturer_name','manufacturer_code']])"
   ]
  },
  {
   "attachments": {
    "image.png": {
     "image/png": "[encoded data removed]"
    }
   },
   "cell_type": "markdown",
   "id": "e980af60",
   "metadata": {},
   "source": [
    "![image.png](attachment:image.png)"
   ]
  },
  {
   "cell_type": "markdown",
   "id": "e0ef133c",
   "metadata": {},
   "source": [
    "Code books / data dictionaries"
   ]
  },
  {
   "attachments": {
    "image.png": {
     "image/png": "[encoded data removed]"
    }
   },
   "cell_type": "markdown",
   "id": "e9b88d90",
   "metadata": {},
   "source": [
    "![image.png](attachment:image.png)\n",
    "\n",
    "https://www.census.gov/data-tools/demo/codebook/ahs/ahsdict.html\n"
   ]
  },
  {
   "cell_type": "markdown",
   "id": "691ea144",
   "metadata": {},
   "source": [
    "Creating a code book"
   ]
  },
  {
   "cell_type": "code",
   "execution_count": null,
   "id": "9d4ee97d",
   "metadata": {},
   "outputs": [],
   "source": [
    "codes = used_cars['manufacturer_name'].cat.codes\n",
    "categories = used_cars['manufacturer_name']\n",
    "\n",
    "name_map = dict(zip(codes, categories))\n",
    "print(name_map)"
   ]
  },
  {
   "attachments": {
    "image.png": {
     "image/png": "[encoded data removed]"
    }
   },
   "cell_type": "markdown",
   "id": "39cdd137",
   "metadata": {},
   "source": [
    "![image.png](attachment:image.png)"
   ]
  },
  {
   "cell_type": "markdown",
   "id": "300d8665",
   "metadata": {},
   "source": [
    "Using a code book"
   ]
  },
  {
   "cell_type": "code",
   "execution_count": null,
   "id": "35f77ad9",
   "metadata": {},
   "outputs": [],
   "source": [
    "# Creating the codes:\n",
    "used_cars['manufacturer_code'] = used_cars['manufacturer_name'].cat.codes\n",
    "\n",
    "# Reverting to previous values:\n",
    "used_cars['manufacturer_code'].map(name_map) #simiplar to replace. will use the values"
   ]
  },
  {
   "attachments": {
    "image.png": {
     "image/png": "[encoded data removed]"
    }
   },
   "cell_type": "markdown",
   "id": "81343157",
   "metadata": {},
   "source": [
    "![image.png](attachment:image.png)\n",
    "\n",
    "https://pandas.pydata.org/pandas-docs/stable/reference/api/pandas.Series.map.html"
   ]
  },
  {
   "cell_type": "markdown",
   "id": "f5d77d93",
   "metadata": {},
   "source": [
    "Boolean coding"
   ]
  },
  {
   "cell_type": "code",
   "execution_count": null,
   "id": "656452f1",
   "metadata": {},
   "outputs": [],
   "source": [
    "# Find all body types that have \"van\" in them:\n",
    "# Code from previous lesson:\n",
    "used_cars[\"body_type\"].str.contains(\"van\", regex=False)\n",
    "\n",
    "# Create a boolean coding:\n",
    "used_cars[\"van_code\"] = np.where(\n",
    "    used_cars[\"body_type\"].str.contains(\"van\", regex=False), 1, 0)\n",
    "\n",
    "used_cars[\"van_code\"].value_counts()"
   ]
  },
  {
   "attachments": {
    "image.png": {
     "image/png": "[encoded data removed]"
    }
   },
   "cell_type": "markdown",
   "id": "b1b2b17d",
   "metadata": {},
   "source": [
    "![image.png](attachment:image.png)"
   ]
  },
  {
   "cell_type": "code",
   "execution_count": null,
   "id": "d7e20a3a",
   "metadata": {},
   "outputs": [],
   "source": [
    "# Example\n",
    "# Convert to categorical and print the frequency table\n",
    "used_cars[\"color\"] = used_cars[\"color\"].astype(\"category\")\n",
    "print(used_cars[\"color\"].value_counts())\n",
    "\n",
    "# Create a label encoding\n",
    "used_cars[\"color_code\"] = used_cars[\"color\"].cat.codes\n",
    "\n",
    "# Create codes and categories objects\n",
    "codes = used_cars[\"color\"].cat.codes\n",
    "categories = used_cars[\"color\"]\n",
    "color_map = dict(zip(codes, categories))\n",
    "\n",
    "# Print the map\n",
    "print(color_map)"
   ]
  },
  {
   "cell_type": "code",
   "execution_count": null,
   "id": "3b166cc8",
   "metadata": {},
   "outputs": [],
   "source": [
    "#Example\n",
    "# Update the color column using the color_map\n",
    "used_cars_updated[\"color\"] = used_cars_updated[\"color\"].map(color_map)\n",
    "# Update the engine fuel column using the fuel_map\n",
    "used_cars_updated[\"engine_fuel\"] = used_cars_updated[\"engine_fuel\"].map(fuel_map)\n",
    "# Update the transmission column using the transmission_map\n",
    "used_cars_updated[\"transmission\"] = used_cars_updated[\"transmission\"].map(transmission_map)\n",
    "\n",
    "# Print the info statement\n",
    "print(used_cars_updated.info())"
   ]
  },
  {
   "cell_type": "code",
   "execution_count": null,
   "id": "2bb6b94b",
   "metadata": {},
   "outputs": [],
   "source": [
    "#Example\n",
    "# Print the \"manufacturer_name\" frequency table.\n",
    "print(used_cars[\"manufacturer_name\"].value_counts())\n",
    "\n",
    "# Create a Boolean column for the most common manufacturer name\n",
    "used_cars[\"is_volkswagen\"] = np.where(\n",
    "  used_cars[\"manufacturer_name\"].str.contains(\"Volkswagen\", regex=False), 1, 0\n",
    ")\n",
    "  \n",
    "# Check the final frequency table\n",
    "print(used_cars[\"is_volkswagen\"].value_counts())"
   ]
  },
  {
   "cell_type": "markdown",
   "id": "e8207864",
   "metadata": {},
   "source": [
    "### One-hot encoding"
   ]
  },
  {
   "cell_type": "markdown",
   "id": "693fc28b",
   "metadata": {},
   "source": [
    "Why not just label encoding?"
   ]
  },
  {
   "cell_type": "code",
   "execution_count": null,
   "id": "ab19fed1",
   "metadata": {},
   "outputs": [],
   "source": [
    "used_cars[\"engine_fuel\"] = used_cars[\"engine_fuel\"].astype(\"category\")\n",
    "codes = used_cars[\"engine_fuel\"].cat.codes\n",
    "categories = used_cars[\"engine_fuel\"]\n",
    "dict(zip(codes, categories))"
   ]
  },
  {
   "cell_type": "markdown",
   "id": "2dc6e942",
   "metadata": {},
   "source": [
    "One-hot encoding with pandas\n",
    "\n",
    "pd.get_dummies()\n",
    "- data : a pandas DataFrame\n",
    "- columns : a list-like object of column names (we want to encode)\n",
    "- prefix : a string to add to the beginning of each category (we want to name)"
   ]
  },
  {
   "cell_type": "markdown",
   "id": "28548a6a",
   "metadata": {},
   "source": [
    "One-hot encoding on a DataFrame"
   ]
  },
  {
   "cell_type": "code",
   "execution_count": null,
   "id": "a7c1664f",
   "metadata": {},
   "outputs": [],
   "source": [
    "used_cars[[\"odometer_value\",\"color\"]].head()"
   ]
  },
  {
   "attachments": {
    "image.png": {
     "image/png": "[encoded data removed]"
    }
   },
   "cell_type": "markdown",
   "id": "dcc0671a",
   "metadata": {},
   "source": [
    "Example output:\n",
    "\n",
    "![image.png](attachment:image.png)"
   ]
  },
  {
   "cell_type": "markdown",
   "id": "dd3ead99",
   "metadata": {},
   "source": [
    "One-hot encoding on a DataFrame continued"
   ]
  },
  {
   "cell_type": "code",
   "execution_count": null,
   "id": "902ea3bf",
   "metadata": {},
   "outputs": [],
   "source": [
    "used_cars_onehot = pd.get_dummies(used_cars[[\"odometer_value\",\"color\"]])\n",
    "used_cars_onehot.head()"
   ]
  },
  {
   "attachments": {
    "image.png": {
     "image/png": "[encoded data removed]"
    }
   },
   "cell_type": "markdown",
   "id": "e6e281ff",
   "metadata": {},
   "source": [
    "![image.png](attachment:image.png)"
   ]
  },
  {
   "cell_type": "code",
   "execution_count": null,
   "id": "8899177b",
   "metadata": {},
   "outputs": [],
   "source": [
    "print(used_cars_onehot.shape)\n",
    "# (38531, 13)"
   ]
  },
  {
   "cell_type": "markdown",
   "id": "b91e91ac",
   "metadata": {},
   "source": [
    "Specifying columns to use"
   ]
  },
  {
   "cell_type": "code",
   "execution_count": null,
   "id": "bca12bd9",
   "metadata": {},
   "outputs": [],
   "source": [
    "used_cars_onehot = pd.get_dummies(used_cars, columns=[\"color\"], prefix=\"\")\n",
    "used_cars_onehot.head()"
   ]
  },
  {
   "attachments": {
    "image.png": {
     "image/png": "[encoded data removed]"
    }
   },
   "cell_type": "markdown",
   "id": "131b9350",
   "metadata": {},
   "source": [
    "![image.png](attachment:image.png)"
   ]
  },
  {
   "cell_type": "code",
   "execution_count": null,
   "id": "ae4521fe",
   "metadata": {},
   "outputs": [],
   "source": [
    "print(used_cars_onehot.shape)\n",
    "# (38531, 41)"
   ]
  },
  {
   "cell_type": "markdown",
   "id": "c2102f9e",
   "metadata": {},
   "source": [
    "A few quick notes\n",
    "- Might create too many features"
   ]
  },
  {
   "cell_type": "code",
   "execution_count": null,
   "id": "bc877383",
   "metadata": {},
   "outputs": [],
   "source": [
    "used_cars_onehot = pd.get_dummies(used_cars)\n",
    "print(used_cars_onehot.shape)\n",
    "#(38531, 1240)\n",
    "#NaN values do not get their own column"
   ]
  },
  {
   "cell_type": "markdown",
   "id": "9c711100",
   "metadata": {},
   "source": [
    "Obs: does not create for missing values"
   ]
  },
  {
   "cell_type": "code",
   "execution_count": null,
   "id": "bd8d2f42",
   "metadata": {},
   "outputs": [],
   "source": [
    "#Example\n",
    "# Create one-hot encoding for just two columns\n",
    "used_cars_simple = pd.get_dummies(\n",
    "  used_cars,\n",
    "  # Specify the columns from the instructions\n",
    "  columns = [\"manufacturer_name\", \"transmission\"],\n",
    "  # Set the prefix\n",
    "  prefix = \"dummy\"\n",
    ")\n",
    "\n",
    "# Print the shape of the new dataset\n",
    "print(used_cars_simple.shape)"
   ]
  },
  {
   "cell_type": "markdown",
   "id": "0dc5f56c",
   "metadata": {},
   "source": [
    "### Categorical columns "
   ]
  },
  {
   "cell_type": "markdown",
   "id": "3ab9c0f2",
   "metadata": {},
   "source": [
    "Categorical columns\n",
    "- Our Datasets:\n",
    "    - Incomes\n",
    "    - Trip Reviews\n",
    "    - Shelter Dogs\n",
    "    - Used Cars"
   ]
  },
  {
   "cell_type": "markdown",
   "id": "85505b01",
   "metadata": {},
   "source": [
    "Chapter 1\n",
    "- Topics covered:\n",
    "    - Nominal vs ordinal columns\n",
    "    - Creating our rst categorical column\n",
    "    - .value_counts() , as well as .groupby()"
   ]
  },
  {
   "cell_type": "markdown",
   "id": "d9edff46",
   "metadata": {},
   "source": [
    "Chapter 2\n",
    "\n",
    "Methods for categorical columns:\n",
    "- Seing\n",
    "- Adding\n",
    "- Removing\n",
    "- Updating\n",
    "- Reordering"
   ]
  },
  {
   "attachments": {
    "image.png": {
     "image/png": "[encoded data removed]"
    }
   },
   "cell_type": "markdown",
   "id": "1f51d420",
   "metadata": {},
   "source": [
    "Chapter 3\n",
    "![image.png](attachment:image.png)"
   ]
  },
  {
   "cell_type": "markdown",
   "id": "97d71cc9",
   "metadata": {},
   "source": [
    "Chapter 4\n",
    "- Pitfalls\n",
    "- Encoding examples:\n",
    "    - Label encoding\n",
    "    - One-hot encoding"
   ]
  }
 ],
 "metadata": {
  "hide_input": false,
  "kernelspec": {
   "display_name": "Python 3 (ipykernel)",
   "language": "python",
   "name": "python3"
  },
  "language_info": {
   "codemirror_mode": {
    "name": "ipython",
    "version": 3
   },
   "file_extension": ".py",
   "mimetype": "text/x-python",
   "name": "python",
   "nbconvert_exporter": "python",
   "pygments_lexer": "ipython3",
   "version": "3.10.0"
  },
  "toc": {
   "base_numbering": "0",
   "nav_menu": {},
   "number_sections": true,
   "sideBar": true,
   "skip_h1_title": false,
   "title_cell": "Table of Contents",
   "title_sidebar": "Contents",
   "toc_cell": true,
   "toc_position": {
    "height": "calc(100% - 180px)",
    "left": "10px",
    "top": "150px",
    "width": "305.391px"
   },
   "toc_section_display": true,
   "toc_window_display": true
  },
  "varInspector": {
   "cols": {
    "lenName": 16,
    "lenType": 16,
    "lenVar": 40
   },
   "kernels_config": {
    "python": {
     "delete_cmd_postfix": "",
     "delete_cmd_prefix": "del ",
     "library": "var_list.py",
     "varRefreshCmd": "print(var_dic_list())"
    },
    "r": {
     "delete_cmd_postfix": ") ",
     "delete_cmd_prefix": "rm(",
     "library": "var_list.r",
     "varRefreshCmd": "cat(var_dic_list()) "
    }
   },
   "types_to_exclude": [
    "module",
    "function",
    "builtin_function_or_method",
    "instance",
    "_Feature"
   ],
   "window_display": false
  }
 },
 "nbformat": 4,
 "nbformat_minor": 5
}
