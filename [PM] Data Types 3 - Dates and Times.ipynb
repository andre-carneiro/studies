{
 "cells": [
  {
   "cell_type": "markdown",
   "metadata": {
    "toc": true
   },
   "source": [
    "<h1>Table of Contents<span class=\"tocSkip\"></span></h1>\n",
    "<div class=\"toc\"><ul class=\"toc-item\"><li><span><a href=\"#WORKING-WITH-DATES-AND-TIMES-IN-PYTHON\" data-toc-modified-id=\"WORKING-WITH-DATES-AND-TIMES-IN-PYTHON-1\"><span class=\"toc-item-num\">1&nbsp;&nbsp;</span>WORKING WITH DATES AND TIMES IN PYTHON</a></span><ul class=\"toc-item\"><li><span><a href=\"#Dates-and-Calendar\" data-toc-modified-id=\"Dates-and-Calendar-1.1\"><span class=\"toc-item-num\">1.1&nbsp;&nbsp;</span>Dates and Calendar</a></span><ul class=\"toc-item\"><li><span><a href=\"#Dates-in-Python\" data-toc-modified-id=\"Dates-in-Python-1.1.1\"><span class=\"toc-item-num\">1.1.1&nbsp;&nbsp;</span>Dates in Python</a></span></li><li><span><a href=\"#Math-with-dates\" data-toc-modified-id=\"Math-with-dates-1.1.2\"><span class=\"toc-item-num\">1.1.2&nbsp;&nbsp;</span>Math with dates</a></span></li><li><span><a href=\"#Turning-dates-into-strings\" data-toc-modified-id=\"Turning-dates-into-strings-1.1.3\"><span class=\"toc-item-num\">1.1.3&nbsp;&nbsp;</span>Turning dates into strings</a></span></li></ul></li><li><span><a href=\"#Combining-Dates-and-Times\" data-toc-modified-id=\"Combining-Dates-and-Times-1.2\"><span class=\"toc-item-num\">1.2&nbsp;&nbsp;</span>Combining Dates and Times</a></span><ul class=\"toc-item\"><li><span><a href=\"#Dates-and-Times\" data-toc-modified-id=\"Dates-and-Times-1.2.1\"><span class=\"toc-item-num\">1.2.1&nbsp;&nbsp;</span>Dates and Times</a></span></li><li><span><a href=\"#Printing-and-parsing-datetimes\" data-toc-modified-id=\"Printing-and-parsing-datetimes-1.2.2\"><span class=\"toc-item-num\">1.2.2&nbsp;&nbsp;</span>Printing and parsing datetimes</a></span></li><li><span><a href=\"#Working-with-durations\" data-toc-modified-id=\"Working-with-durations-1.2.3\"><span class=\"toc-item-num\">1.2.3&nbsp;&nbsp;</span>Working with durations</a></span></li></ul></li><li><span><a href=\"#Time-Zones-and-Daylight-Saving\" data-toc-modified-id=\"Time-Zones-and-Daylight-Saving-1.3\"><span class=\"toc-item-num\">1.3&nbsp;&nbsp;</span>Time Zones and Daylight Saving</a></span><ul class=\"toc-item\"><li><span><a href=\"#UTC-offsets\" data-toc-modified-id=\"UTC-offsets-1.3.1\"><span class=\"toc-item-num\">1.3.1&nbsp;&nbsp;</span>UTC offsets</a></span></li><li><span><a href=\"#Time-zone-database\" data-toc-modified-id=\"Time-zone-database-1.3.2\"><span class=\"toc-item-num\">1.3.2&nbsp;&nbsp;</span>Time zone database</a></span></li><li><span><a href=\"#Starting-daylight-saving-time\" data-toc-modified-id=\"Starting-daylight-saving-time-1.3.3\"><span class=\"toc-item-num\">1.3.3&nbsp;&nbsp;</span>Starting daylight saving time</a></span></li><li><span><a href=\"#Ending-daylight-saving-time\" data-toc-modified-id=\"Ending-daylight-saving-time-1.3.4\"><span class=\"toc-item-num\">1.3.4&nbsp;&nbsp;</span>Ending daylight saving time</a></span></li></ul></li><li><span><a href=\"#Easy-and-Powerful:-Dates-and-Times-in-Pandas\" data-toc-modified-id=\"Easy-and-Powerful:-Dates-and-Times-in-Pandas-1.4\"><span class=\"toc-item-num\">1.4&nbsp;&nbsp;</span>Easy and Powerful: Dates and Times in Pandas</a></span><ul class=\"toc-item\"><li><span><a href=\"#Reading-date-and-time-data-in-Pandas\" data-toc-modified-id=\"Reading-date-and-time-data-in-Pandas-1.4.1\"><span class=\"toc-item-num\">1.4.1&nbsp;&nbsp;</span>Reading date and time data in Pandas</a></span></li><li><span><a href=\"#Summarizing-datetime-data-in-Pandas\" data-toc-modified-id=\"Summarizing-datetime-data-in-Pandas-1.4.2\"><span class=\"toc-item-num\">1.4.2&nbsp;&nbsp;</span>Summarizing datetime data in Pandas</a></span><ul class=\"toc-item\"><li><span><a href=\"#Resample\" data-toc-modified-id=\"Resample-1.4.2.1\"><span class=\"toc-item-num\">1.4.2.1&nbsp;&nbsp;</span>Resample</a></span></li><li><span><a href=\"#Resample-and-Groupby\" data-toc-modified-id=\"Resample-and-Groupby-1.4.2.2\"><span class=\"toc-item-num\">1.4.2.2&nbsp;&nbsp;</span>Resample and Groupby</a></span></li></ul></li><li><span><a href=\"#Additional-datetime-methods-in-Pandas\" data-toc-modified-id=\"Additional-datetime-methods-in-Pandas-1.4.3\"><span class=\"toc-item-num\">1.4.3&nbsp;&nbsp;</span>Additional datetime methods in Pandas</a></span></li><li><span><a href=\"#Wrap-up\" data-toc-modified-id=\"Wrap-up-1.4.4\"><span class=\"toc-item-num\">1.4.4&nbsp;&nbsp;</span>Wrap-up</a></span></li></ul></li></ul></li></ul></div>"
   ]
  },
  {
   "cell_type": "markdown",
   "metadata": {
    "id": "zMXUNDjiQtAd"
   },
   "source": [
    "# WORKING WITH DATES AND TIMES IN PYTHON\n",
    "Max Shron"
   ]
  },
  {
   "cell_type": "markdown",
   "metadata": {
    "id": "5Qwb5kyKZpJN"
   },
   "source": [
    "## Dates and Calendar"
   ]
  },
  {
   "cell_type": "markdown",
   "metadata": {
    "id": "0lulr5euZpBj"
   },
   "source": [
    "### Dates in Python"
   ]
  },
  {
   "cell_type": "markdown",
   "metadata": {
    "id": "z0Y_LLAetEfy"
   },
   "source": [
    "Experiments, stock options, births etc"
   ]
  },
  {
   "cell_type": "markdown",
   "metadata": {
    "id": "viDhPKkEZo-E"
   },
   "source": [
    "Course overview\n",
    "- Chapter 1: Dates and Calendars\n",
    "- Chapter 2: Combining Dates and Times\n",
    "- Chapter 3: Time zones and Daylight Saving\n",
    "- Chapter 4: Dates and Times in Pandas"
   ]
  },
  {
   "cell_type": "markdown",
   "metadata": {
    "id": "y_ZpLjqftRfY"
   },
   "source": [
    "Why do we need a date class in Python?\n",
    "- Example: two_hurricanes = [\"10/7/2016\",\"6/21/2017\"]\n",
    "- How would you:\n",
    "  - Figure out how many days had elapsed?\n",
    "  - Check that they were in order from earliest to latest?\n",
    "  - Know which day of the week each was?\n",
    "  - Filter out hurricanes which happened between certain dates?"
   ]
  },
  {
   "cell_type": "code",
   "execution_count": 2,
   "metadata": {
    "ExecuteTime": {
     "end_time": "2021-12-25T16:41:57.218009Z",
     "start_time": "2021-12-25T16:41:57.185532Z"
    },
    "id": "FMp49taMtagV"
   },
   "outputs": [
    {
     "data": {
      "text/plain": [
       "[datetime.date(2016, 10, 7), datetime.date(2017, 6, 21)]"
      ]
     },
     "execution_count": 2,
     "metadata": {},
     "output_type": "execute_result"
    }
   ],
   "source": [
    "#Creating date objects\n",
    "\n",
    "# Import date\n",
    "from datetime import date\n",
    "# Create dates\n",
    "two_hurricanes_dates = [date(2016, 10, 7), date(2017, 6, 21)] #year, month and day\n",
    "two_hurricanes_dates"
   ]
  },
  {
   "cell_type": "code",
   "execution_count": 4,
   "metadata": {
    "ExecuteTime": {
     "end_time": "2021-12-25T16:42:05.934679Z",
     "start_time": "2021-12-25T16:42:05.911183Z"
    },
    "id": "Z-msanketRI9"
   },
   "outputs": [
    {
     "name": "stdout",
     "output_type": "stream",
     "text": [
      "2016\n",
      "10\n",
      "7\n"
     ]
    }
   ],
   "source": [
    "#Attributes of a date\n",
    "\n",
    "# Import date\n",
    "from datetime import date\n",
    "# Create dates\n",
    "two_hurricanes_dates\n",
    "dates = [date(2016, 10, 7), date(2017, 6, 21)]\n",
    "print(two_hurricanes_dates[0].year)\n",
    "print(two_hurricanes_dates[0].month)\n",
    "print(two_hurricanes_dates[0].day)"
   ]
  },
  {
   "cell_type": "code",
   "execution_count": 5,
   "metadata": {
    "ExecuteTime": {
     "end_time": "2021-12-25T16:42:13.077343Z",
     "start_time": "2021-12-25T16:42:13.062114Z"
    },
    "id": "M2sIwzHYt6_O"
   },
   "outputs": [
    {
     "name": "stdout",
     "output_type": "stream",
     "text": [
      "4\n"
     ]
    }
   ],
   "source": [
    "#Finding the weekday of a date\n",
    "print(two_hurricanes_dates[0].weekday())"
   ]
  },
  {
   "cell_type": "markdown",
   "metadata": {
    "id": "qLgVptSMt-Jf"
   },
   "source": [
    "Weekdays in Python\n",
    "0 = Monday\n",
    "1 = Tuesday\n",
    "2 = Wednesday\n",
    "...\n",
    "6 = Sunday"
   ]
  },
  {
   "cell_type": "code",
   "execution_count": 6,
   "metadata": {
    "ExecuteTime": {
     "end_time": "2021-12-25T16:42:20.290129Z",
     "start_time": "2021-12-25T16:42:20.270832Z"
    },
    "id": "vv03hxnpu5MF"
   },
   "outputs": [
    {
     "name": "stdout",
     "output_type": "stream",
     "text": [
      "0\n"
     ]
    }
   ],
   "source": [
    "#FULL EXAMPLE\n",
    "\n",
    "# Import date from datetime\n",
    "from datetime import date\n",
    "\n",
    "# Create a date object\n",
    "hurricane_andrew = date(1992, 8, 24)\n",
    "\n",
    "# Which day of the week is the date?\n",
    "print(hurricane_andrew.weekday())"
   ]
  },
  {
   "cell_type": "code",
   "execution_count": 7,
   "metadata": {
    "ExecuteTime": {
     "end_time": "2021-12-25T16:42:32.096543Z",
     "start_time": "2021-12-25T16:42:32.081068Z"
    },
    "id": "d9LkF1CRu8NU"
   },
   "outputs": [
    {
     "name": "stdout",
     "output_type": "stream",
     "text": [
      "0\n"
     ]
    }
   ],
   "source": [
    "#FULL EXAMPLE\n",
    "\n",
    "# Import date from datetime\n",
    "from datetime import date\n",
    "\n",
    "# Create a date object\n",
    "hurricane_andrew = date(1992, 8, 24)\n",
    "\n",
    "# Which day of the week is the date?\n",
    "print(hurricane_andrew.weekday())"
   ]
  },
  {
   "cell_type": "code",
   "execution_count": null,
   "metadata": {
    "id": "qUiAL3mavUzn"
   },
   "outputs": [],
   "source": [
    "#FULL EXAMPLE 2\n",
    "\n",
    "# Counter for how many before June 1\n",
    "early_hurricanes = 0\n",
    "\n",
    "# We loop over the dates\n",
    "for hurricane in florida_hurricane_dates:\n",
    "  # Check if the month is before June (month number 6)\n",
    "  if hurricane.month < 6:\n",
    "    early_hurricanes = early_hurricanes + 1\n",
    "    \n",
    "print(early_hurricanes)"
   ]
  },
  {
   "cell_type": "markdown",
   "metadata": {
    "id": "bTQaaWC9Zo6-"
   },
   "source": [
    "### Math with dates"
   ]
  },
  {
   "cell_type": "code",
   "execution_count": 8,
   "metadata": {
    "ExecuteTime": {
     "end_time": "2021-12-25T16:42:56.557594Z",
     "start_time": "2021-12-25T16:42:56.533997Z"
    },
    "id": "9veB0LNluB0u"
   },
   "outputs": [
    {
     "name": "stdout",
     "output_type": "stream",
     "text": [
      "11\n",
      "3\n",
      "14\n"
     ]
    },
    {
     "data": {
      "text/plain": [
       "14"
      ]
     },
     "execution_count": 8,
     "metadata": {},
     "output_type": "execute_result"
    }
   ],
   "source": [
    "#Math with dates\n",
    "\n",
    "# Example numbers\n",
    "a = 11\n",
    "b = 14\n",
    "l = [a, b]\n",
    "# Find the least least in the list\n",
    "print(min(l))\n",
    "11\n",
    "\n",
    "# Subtract two numbers\n",
    "print(b - a)\n",
    "3\n",
    "# Add 3 to a\n",
    "print(a + 3)\n",
    "14"
   ]
  },
  {
   "cell_type": "code",
   "execution_count": 10,
   "metadata": {
    "ExecuteTime": {
     "end_time": "2021-12-25T16:45:56.600018Z",
     "start_time": "2021-12-25T16:45:56.585376Z"
    },
    "id": "_EL5nZ68v7Jn"
   },
   "outputs": [
    {
     "name": "stdout",
     "output_type": "stream",
     "text": [
      "2017-11-05\n",
      "29\n",
      "2017-12-04\n"
     ]
    }
   ],
   "source": [
    "# Import date\n",
    "from datetime import date\n",
    "\n",
    "# Create our dates\n",
    "d1 = date(2017, 11, 5)\n",
    "d2 = date(2017, 12, 4)\n",
    "l = [d1, d2]\n",
    "print(min(l))\n",
    "# 2017-11-05\n",
    "\n",
    "# Subtract two dates\n",
    "delta = d2 - d1\n",
    "print(delta.days)\n",
    "29\n",
    "\n",
    "# Import timedelta\n",
    "from datetime import timedelta\n",
    "\n",
    "# Create a 29 day timedelta\n",
    "td = timedelta(days=29)\n",
    "print(d1 + td)\n",
    "# 2017-12-04"
   ]
  },
  {
   "cell_type": "markdown",
   "metadata": {
    "id": "psDDMHX4wOjL"
   },
   "source": [
    "Timedelta is useful so we do not have to worry about how many days each month has"
   ]
  },
  {
   "cell_type": "code",
   "execution_count": null,
   "metadata": {
    "id": "V3pCQ1CkvdO-"
   },
   "outputs": [],
   "source": [
    "#Incrementing variables with +=\n",
    "\n",
    "# Initialize x to be zero\n",
    "x = 0\n",
    "# Increment x\n",
    "x = x + 1\n",
    "print(x)\n",
    "1\n",
    "\n",
    "# Initialize x to be zero\n",
    "x = 0\n",
    "# Increment x\n",
    "x += 1\n",
    "print(x)\n",
    "1"
   ]
  },
  {
   "cell_type": "code",
   "execution_count": null,
   "metadata": {
    "id": "LkNB6Sl5xAk1"
   },
   "outputs": [],
   "source": [
    "#FULL EXAMPLE\n",
    "\n",
    "# Import date\n",
    "from datetime import date\n",
    "\n",
    "# Create a date object for May 9th, 2007\n",
    "start = date(2007, 5, 9)\n",
    "\n",
    "# Create a date object for December 13th, 2007\n",
    "end = date(2007, 12, 13)\n",
    "\n",
    "# Subtract the two dates and print the number of days\n",
    "print((end - start).days)\n"
   ]
  },
  {
   "cell_type": "code",
   "execution_count": null,
   "metadata": {
    "id": "ecNbDO88x26q"
   },
   "outputs": [],
   "source": [
    "# A dictionary to count hurricanes per calendar month\n",
    "hurricanes_each_month = {1: 0, 2: 0, 3: 0, 4: 0, 5: 0, 6:0,\n",
    "\t\t  \t\t\t\t 7: 0, 8:0, 9:0, 10:0, 11:0, 12:0}\n",
    "\n",
    "# Loop over all hurricanes\n",
    "for hurricane in florida_hurricane_dates:\n",
    "  # Pull out the month\n",
    "  month = hurricane.month\n",
    "  # Increment the count in your dictionary by one\n",
    "  hurricanes_each_month[month] +=1\n",
    "  \n",
    "print(hurricanes_each_month)"
   ]
  },
  {
   "cell_type": "code",
   "execution_count": null,
   "metadata": {
    "id": "LSX3RZMwyf7s"
   },
   "outputs": [],
   "source": [
    "# Print the first and last scrambled dates\n",
    "print(dates_scrambled[0])\n",
    "print(dates_scrambled[-1])\n",
    "\n",
    "# Put the dates in order\n",
    "dates_ordered = sorted(dates_scrambled)\n",
    "\n",
    "# Print the first and last ordered dates\n",
    "print(dates_ordered[0])\n",
    "print(dates_ordered[-1])"
   ]
  },
  {
   "cell_type": "markdown",
   "metadata": {
    "id": "hJrmHURaZosn"
   },
   "source": [
    "### Turning dates into strings"
   ]
  },
  {
   "cell_type": "code",
   "execution_count": null,
   "metadata": {
    "id": "aUl0GuAVvirs"
   },
   "outputs": [],
   "source": [
    "#ISO 8601 format\n",
    "from datetime import date\n",
    "\n",
    "# Example date\n",
    "d = date(2017, 11, 5)\n",
    "\n",
    "# ISO format: YYYY-MM-DD\n",
    "print(d)\n",
    "#output 2017-11-05"
   ]
  },
  {
   "cell_type": "code",
   "execution_count": null,
   "metadata": {
    "id": "YF38bZYPvkA-"
   },
   "outputs": [],
   "source": [
    "# Express the date in ISO 8601 format and put it in a list\n",
    "print( [d.isoformat()] )\n",
    "#output: ['2017-11-05']"
   ]
  },
  {
   "cell_type": "code",
   "execution_count": null,
   "metadata": {
    "id": "87BchELsvl5_"
   },
   "outputs": [],
   "source": [
    "#ISO 8601 format\n",
    "\n",
    "# A few dates that computers once had trouble with\n",
    "some_dates = ['2000-01-01','1999-12-31']\n",
    "\n",
    "# Print them in order\n",
    "print(sorted(some_dates))"
   ]
  },
  {
   "cell_type": "code",
   "execution_count": null,
   "metadata": {
    "id": "kfGlt7wn9Wf7"
   },
   "outputs": [],
   "source": [
    "#Every other format: strftime\n",
    "\n",
    "# Example date\n",
    "d = date(2017, 1, 5)\n",
    "print(d.strftime(\"%Y\"))\n",
    "\n",
    "#output 2017\n",
    "\n",
    "# Format string with more text in it\n",
    "print(d.strftime(\"Year is %Y\"))\n",
    "\n",
    "#output Year is 2017\n",
    "\n",
    "# Format: YYYY/MM/DD\n",
    "\n",
    "print(d.strftime(\"%Y/%m/%d\"))\n",
    "2017/01/05"
   ]
  },
  {
   "cell_type": "code",
   "execution_count": null,
   "metadata": {
    "id": "B5txAQnS_UrE"
   },
   "outputs": [],
   "source": [
    "#FULL EXAMPLE 1\n",
    "\n",
    "# Assign the earliest date to first_date\n",
    "first_date = min(florida_hurricane_dates)\n",
    "\n",
    "# Convert to ISO and US formats\n",
    "iso = \"Our earliest hurricane date: \" + first_date.isoformat()\n",
    "us = \"Our earliest hurricane date: \" + first_date.strftime(\"%m/%d/%Y\")\n",
    "\n",
    "print(\"ISO: \" + iso)\n",
    "print(\"US: \" + us)\n",
    "\n",
    "#FULL EXAMPLE 2\n",
    "# Import date\n",
    "from datetime import date\n",
    "\n",
    "# Create a date object\n",
    "andrew = date(1992, 8, 26)\n",
    "\n",
    "# Print the date in the format 'YYYY-MM'\n",
    "print(andrew.strftime(\"%Y-%m\"))\n",
    "\n",
    "# Import date\n",
    "from datetime import date\n",
    "\n",
    "# Create a date object\n",
    "andrew = date(1992, 8, 26)\n",
    "\n",
    "# Print the date in the format 'MONTH (YYYY)'\n",
    "print(andrew.strftime(\"%B (%Y)\"))\n",
    "\n",
    "# Import date\n",
    "from datetime import date\n",
    "\n",
    "# Create a date object\n",
    "andrew = date(1992, 8, 26)\n",
    "\n",
    "# Print the date in the format 'YYYY-DDD'\n",
    "print(andrew.strftime(\"%Y-%j\"))\n"
   ]
  },
  {
   "cell_type": "markdown",
   "metadata": {
    "id": "Df2Su_yyZoeY"
   },
   "source": [
    "## Combining Dates and Times"
   ]
  },
  {
   "cell_type": "markdown",
   "metadata": {
    "id": "vGc_UqDAZocM"
   },
   "source": [
    "### Dates and Times"
   ]
  },
  {
   "cell_type": "code",
   "execution_count": null,
   "metadata": {
    "id": "k2l4WYsdCZlI"
   },
   "outputs": [],
   "source": [
    "# Import datetime\n",
    "from datetime import datetime\n",
    "\n",
    "dt = datetime(2017, 10, 1, 15, 23, 25, 500000)\n",
    "\n",
    "# Import datetime\n",
    "from datetime import datetime\n",
    "\n",
    "dt = datetime(year=2017, month=10, day=1,\n",
    "              hour=15, minute=23, second=25,\n",
    "              microsecond=500000)"
   ]
  },
  {
   "cell_type": "markdown",
   "metadata": {
    "id": "L0Knm08uC0xK"
   },
   "source": [
    "Replace part of a date"
   ]
  },
  {
   "cell_type": "code",
   "execution_count": null,
   "metadata": {
    "id": "68AOEKJDCZZS"
   },
   "outputs": [],
   "source": [
    "#Replacing parts of a datetime\n",
    "print(dt)\n",
    "#output: 2017-10-01 15:23:25.500000\n",
    "\n",
    "dt_hr = dt.replace(minute=0, second=0, microsecond=0)\n",
    "print(dt_hr)\n",
    "# output: 2017-10-01 15:00:00"
   ]
  },
  {
   "cell_type": "code",
   "execution_count": null,
   "metadata": {
    "id": "kg1WFZRAFZ1Z"
   },
   "outputs": [],
   "source": [
    "#FULL EXAMPLE\n",
    "\n",
    "# Import datetime\n",
    "from datetime import datetime\n",
    "\n",
    "# Create a datetime object\n",
    "dt = datetime(month = 10, day = 1, year = 2017, hour = 15, second = 26, minute = 26)\n",
    "\n",
    "# Print the results in ISO 8601 format\n",
    "print(dt.isoformat())\n",
    "\n",
    "#FULL EXAMPLE 2\n",
    "# Import datetime\n",
    "from datetime import datetime\n",
    "\n",
    "# Create a datetime object\n",
    "dt = datetime(2017, 12, 31, 15, 19, 13)\n",
    "\n",
    "# Print the results in ISO 8601 format\n",
    "print(dt.isoformat())\n",
    "\n",
    "#FULL EXAMPLE 3\n",
    "# Import datetime\n",
    "from datetime import datetime\n",
    "\n",
    "# Create a datetime object\n",
    "dt = datetime(2017, 12, 31, 15, 19, 13)\n",
    "\n",
    "# Replace the year with 1917\n",
    "dt_old = dt.replace(year = 1917)\n",
    "\n",
    "# Print the results in ISO 8601 format\n",
    "print(dt_old)"
   ]
  },
  {
   "cell_type": "code",
   "execution_count": null,
   "metadata": {
    "id": "NdR0A6CrYX5Q"
   },
   "outputs": [],
   "source": [
    "#FULL EXAMPLE\n",
    "# Create dictionary to hold results\n",
    "trip_counts = {'AM': 0, 'PM': 0}\n",
    "  \n",
    "# Loop over all trips\n",
    "for trip in onebike_datetimes:\n",
    "  # Check to see if the trip starts before noon\n",
    "  if trip['start'].hour < 12:\n",
    "    # Increment the counter for before noon\n",
    "    trip_counts[\"AM\"] += 1\n",
    "  else:\n",
    "    # Increment the counter for after noon\n",
    "    trip_counts[\"PM\"] += 1\n",
    "  \n",
    "print(trip_counts)\n"
   ]
  },
  {
   "cell_type": "markdown",
   "metadata": {
    "id": "XKHAP-wgZoWh"
   },
   "source": [
    "### Printing and parsing datetimes\n",
    "- strings to datetime and vice versa"
   ]
  },
  {
   "cell_type": "code",
   "execution_count": null,
   "metadata": {
    "id": "hU-qf2WcDN7i"
   },
   "outputs": [],
   "source": [
    "#Printing datetimes\n",
    "\n",
    "# Create datetime\n",
    "dt = datetime(2017, 12, 30, 15, 19, 13)\n",
    "\n",
    "print(dt.strftime(\"%Y-%m-%d\"))\n",
    "2017-12-30\n",
    "\n",
    "print(dt.strftime(\"%Y-%m-%d %H:%M:%S\"))\n",
    "2017-12-30 15:19:13\n",
    "\n",
    "print(dt.strftime(\"%H:%M:%S on %d/%m/%Y\"))\n",
    "15:19:13 on 2017/12/30"
   ]
  },
  {
   "cell_type": "code",
   "execution_count": null,
   "metadata": {
    "id": "0ATQDX0aZjLO"
   },
   "outputs": [],
   "source": [
    "# ISO 8601 format\n",
    "print(dt.isoformat())\n",
    "2017-12-30T15:19:13 #T for time?"
   ]
  },
  {
   "cell_type": "code",
   "execution_count": null,
   "metadata": {
    "id": "cGaYF-7_DV5d"
   },
   "outputs": [],
   "source": [
    "# Parsing datetimes with strptime\n",
    "\n",
    "# Import datetime\n",
    "from datetime import datetime\n",
    "dt = datetime.strptime(\"12/30/2017 15:19:13\",\n",
    "                       \"%m/%d/%Y %H:%M:%S\")\n",
    "\n",
    "# What did we make?\n",
    "print(type(dt))\n",
    "<class 'datetime.datetime'> #we obtain a datetime\n",
    "# Print out datetime object\n",
    "print(dt)\n",
    "2017-12-30 15:19:13\n",
    "\n",
    "# Import datetime\n",
    "from datetime import datetime\n",
    "# Incorrect format string\n",
    "dt = datetime.strptime(\"2017-12-30 15:19:13\",\n",
    "                       \"%Y-%m-%d\") #provides error"
   ]
  },
  {
   "cell_type": "code",
   "execution_count": null,
   "metadata": {
    "id": "IWT_OhPCaaJZ"
   },
   "outputs": [],
   "source": [
    "#Parsing datetimes with Pandas\n",
    "\n",
    "# A timestamp\n",
    "ts = 1514665153.0\n",
    "# Convert to datetime and print\n",
    "print(datetime.fromtimestamp(ts)) #return a datetime"
   ]
  },
  {
   "cell_type": "code",
   "execution_count": null,
   "metadata": {
    "id": "kLRR7jOdZ6dW"
   },
   "outputs": [],
   "source": [
    "# What did we make?\n",
    "print(type(dt))\n",
    "<class 'datetime.datetime'>\n",
    "# Print out datetime object\n",
    "print(dt)\n",
    "2017-12-30 15:19:13"
   ]
  },
  {
   "cell_type": "code",
   "execution_count": null,
   "metadata": {
    "id": "kb7dqv7VZ7zF"
   },
   "outputs": [],
   "source": [
    "Parsing datetimes with strptime\n",
    "# Import datetime\n",
    "from datetime import datetime\n",
    "# Incorrect format string\n",
    "dt = datetime.strptime(\"2017-12-30 15:19:13\",\n",
    "                       \"%Y-%m-%d\")"
   ]
  },
  {
   "cell_type": "code",
   "execution_count": null,
   "metadata": {
    "id": "FpZuTok5Y92G"
   },
   "outputs": [],
   "source": [
    "#convert string to datetime\n",
    "\n",
    "#EXAMPLE 1\n",
    "# Import the datetime class\n",
    "from datetime import datetime\n",
    "\n",
    "# Starting string, in YYYY-MM-DD HH:MM:SS format\n",
    "s = '2017-02-03 00:00:01'\n",
    "\n",
    "# Write a format string to parse s\n",
    "fmt = '%Y-%m-%d %H:%M:%S'\n",
    "\n",
    "# Create a datetime object d\n",
    "d = datetime.strptime(s, fmt)\n",
    "\n",
    "# Print d\n",
    "print(d)\n",
    "\n",
    "#EXAMPLE 2\n",
    "# Import the datetime class\n",
    "from datetime import datetime\n",
    "\n",
    "# Starting string, in YYYY-MM-DD format\n",
    "s = '2030-10-15'\n",
    "\n",
    "# Write a format string to parse s\n",
    "fmt = '%Y-%m-%d'\n",
    "\n",
    "# Create a datetime object d\n",
    "d = datetime.strptime(s, fmt)\n",
    "\n",
    "# Print d\n",
    "print(d)\n",
    "\n",
    "#EXAMPLE 3\n",
    "# Import the datetime class\n",
    "from datetime import datetime\n",
    "\n",
    "# Starting string, in MM/DD/YYYY HH:MM:SS format\n",
    "s = '12/15/1986 08:00:00'\n",
    "\n",
    "# Write a format string to parse s\n",
    "fmt = \"%m/%d/%Y %H:%M:%S\"\n",
    "\n",
    "# Create a datetime object d\n",
    "d = datetime.strptime(s, fmt)\n",
    "\n",
    "# Print d\n",
    "print(d)"
   ]
  },
  {
   "cell_type": "code",
   "execution_count": null,
   "metadata": {
    "id": "1nIS4WdJkCDA"
   },
   "outputs": [],
   "source": [
    "#EXAMPLE\n",
    "# Write down the format string\n",
    "fmt = \"%Y-%m-%d %H:%M:%S\"\n",
    "\n",
    "# Initialize a list for holding the pairs of datetime objects\n",
    "onebike_datetimes = []\n",
    "\n",
    "# Loop over all trips\n",
    "for (start, end) in onebike_datetime_strings:\n",
    "  trip = {'start': datetime.strptime(start, fmt),\n",
    "          'end': datetime.strptime(end, fmt)}\n",
    "  \n",
    "  # Append the trip\n",
    "  onebike_datetimes.append(trip)"
   ]
  },
  {
   "cell_type": "code",
   "execution_count": null,
   "metadata": {
    "id": "ae6OsvE_mhQj"
   },
   "outputs": [],
   "source": [
    "# Import datetime\n",
    "from datetime import datetime\n",
    "\n",
    "# Pull out the start of the first trip\n",
    "first_start = onebike_datetimes[0]['start']\n",
    "\n",
    "# Format to feed to strftime()\n",
    "fmt = \"%Y-%m-%dT%H:%M:%S\"\n",
    "\n",
    "# Print out date with .isoformat(), then with .strftime() to compare\n",
    "print(first_start.isoformat())\n",
    "print(first_start.strftime(fmt))"
   ]
  },
  {
   "cell_type": "code",
   "execution_count": null,
   "metadata": {
    "id": "3tPmN_iDnDLU"
   },
   "outputs": [],
   "source": [
    "# Import datetime\n",
    "from datetime import datetime\n",
    "\n",
    "# Starting timestamps\n",
    "timestamps = [1514665153, 1514664543]\n",
    "\n",
    "# Datetime objects\n",
    "dts = []\n",
    "\n",
    "# Loop\n",
    "for ts in timestamps:\n",
    "  dts.append(datetime.fromtimestamp(ts))\n",
    "  \n",
    "# Print results\n",
    "print(dts)"
   ]
  },
  {
   "cell_type": "markdown",
   "metadata": {
    "id": "jtnlm-78rBTw"
   },
   "source": [
    "### Working with durations"
   ]
  },
  {
   "cell_type": "code",
   "execution_count": null,
   "metadata": {
    "id": "J1MxKOBu1pwN"
   },
   "outputs": [],
   "source": [
    "#working with durations\n",
    "\n",
    "# Create example datetimes\n",
    "start = datetime(2017, 10, 8, 23, 46, 47)\n",
    "end = datetime(2017, 10, 9, 0, 10, 57)\n",
    "\n",
    "# Subtract datetimes to create a timedelta\n",
    "duration = end - start #obtain timedelta\n",
    "\n",
    "# Subtract datetimes to create a timedelta\n",
    "print(duration.total_seconds())\n",
    "1450.0"
   ]
  },
  {
   "cell_type": "code",
   "execution_count": null,
   "metadata": {
    "id": "XXCc_dYZ1zsC"
   },
   "outputs": [],
   "source": [
    "#Creating timedeltas\n",
    "\n",
    "# Import timedelta\n",
    "from datetime import timedelta\n",
    "\n",
    "# Create a timedelta\n",
    "delta1 = timedelta(seconds=1)\n",
    "\n",
    "print(start)\n",
    "2017-10-08 23:46:47\n",
    "\n",
    "# One second later\n",
    "print(start + delta1)\n",
    "2017-10-08 23:46:48\n",
    "\n",
    "# Create a one day and one second timedelta\n",
    "delta2 = timedelta(days=1, seconds=1)\n",
    "print(start)\n",
    "2017-10-08 23:46:47\n",
    "\n",
    "# One day and one second later\n",
    "print(start + delta2)\n",
    "2017-10-09 23:46:48"
   ]
  },
  {
   "cell_type": "code",
   "execution_count": null,
   "metadata": {
    "id": "HY6I1rOE3naj"
   },
   "outputs": [],
   "source": [
    "#Negative timedeltas\n",
    "\n",
    "# Create a negative timedelta of one week\n",
    "delta3 = timedelta(weeks=-1)\n",
    "print(start)\n",
    "2017-10-08 23:46:47\n",
    "\n",
    "# One week earlier\n",
    "print(start + delta3)\n",
    "2017-10-01 23:46:47\n",
    "\n",
    "# Same, but we'll subtract this time\n",
    "delta4 = timedelta(weeks=1)\n",
    "print(start)\n",
    "2017-10-08 23:46:47\n",
    "\n",
    "# One week earlier\n",
    "print(start - delta4)\n",
    "2017-10-01 23:46:47 #same answer"
   ]
  },
  {
   "cell_type": "code",
   "execution_count": null,
   "metadata": {},
   "outputs": [],
   "source": [
    "#Example\n",
    "\n",
    "# Initialize a list for all the trip durations\n",
    "onebike_durations = []\n",
    "\n",
    "for trip in onebike_datetimes:\n",
    "  # Create a timedelta object corresponding to the length of the trip\n",
    "  trip_duration = trip[\"end\"] - trip[\"start\"]\n",
    "  \n",
    "  # Get the total elapsed seconds in trip_duration\n",
    "  trip_length_seconds = trip_duration.total_seconds()\n",
    "  \n",
    "  # Append the results to our list\n",
    "  onebike_durations.append(trip_length_seconds)"
   ]
  },
  {
   "cell_type": "code",
   "execution_count": null,
   "metadata": {},
   "outputs": [],
   "source": [
    "#Example\n",
    "\n",
    "# What was the total duration of all trips?\n",
    "total_elapsed_time = sum(onebike_durations)\n",
    "\n",
    "# What was the total number of trips?\n",
    "number_of_trips = len(onebike_durations)\n",
    "  \n",
    "# Divide the total duration by the number of trips\n",
    "print(total_elapsed_time / number_of_trips)"
   ]
  },
  {
   "cell_type": "code",
   "execution_count": null,
   "metadata": {},
   "outputs": [],
   "source": [
    "#Example\n",
    "\n",
    "# Calculate shortest and longest trips\n",
    "shortest_trip = min(onebike_durations)\n",
    "longest_trip = max(onebike_durations)\n",
    "\n",
    "# Print out the results\n",
    "print(\"The shortest trip was \" + str(shortest_trip) + \" seconds\")\n",
    "print(\"The longest trip was \" + str(longest_trip) + \" seconds\")"
   ]
  },
  {
   "cell_type": "markdown",
   "metadata": {
    "id": "39sPUB-KrJBR"
   },
   "source": [
    "## Time Zones and Daylight Saving"
   ]
  },
  {
   "cell_type": "markdown",
   "metadata": {
    "id": "Tvh34Q31rI-X"
   },
   "source": [
    "### UTC offsets"
   ]
  },
  {
   "cell_type": "markdown",
   "metadata": {},
   "source": [
    "Until now, data is naive"
   ]
  },
  {
   "cell_type": "code",
   "execution_count": 11,
   "metadata": {
    "ExecuteTime": {
     "end_time": "2021-12-25T17:39:22.328604Z",
     "start_time": "2021-12-25T17:39:22.316817Z"
    }
   },
   "outputs": [
    {
     "name": "stdout",
     "output_type": "stream",
     "text": [
      "2017-12-30 15:09:03-05:00\n"
     ]
    }
   ],
   "source": [
    "# Import relevant classes\n",
    "from datetime import datetime, timedelta, timezone\n",
    "\n",
    "# US Eastern Standard time zone\n",
    "ET = timezone(timedelta(hours=-5))\n",
    "# Timezone-aware datetime\n",
    "dt = datetime(2017, 12, 30, 15, 9, 3, tzinfo = ET)\n",
    "\n",
    "print(dt)\n",
    "#'2017-12-30 15:09:03-05:00'"
   ]
  },
  {
   "cell_type": "code",
   "execution_count": 12,
   "metadata": {
    "ExecuteTime": {
     "end_time": "2021-12-25T17:39:38.877735Z",
     "start_time": "2021-12-25T17:39:38.856814Z"
    }
   },
   "outputs": [
    {
     "name": "stdout",
     "output_type": "stream",
     "text": [
      "2017-12-31 01:39:03+05:30\n"
     ]
    }
   ],
   "source": [
    "# India Standard time zone\n",
    "IST = timezone(timedelta(hours=5, minutes=30))\n",
    "\n",
    "# Convert to IST\n",
    "print(dt.astimezone(IST))\n",
    "#'2017-12-31 01:39:03+05:30'"
   ]
  },
  {
   "cell_type": "markdown",
   "metadata": {},
   "source": [
    "Adjusting timezone vs changing tzinfo"
   ]
  },
  {
   "cell_type": "code",
   "execution_count": 14,
   "metadata": {
    "ExecuteTime": {
     "end_time": "2021-12-25T18:13:10.839654Z",
     "start_time": "2021-12-25T18:13:10.817342Z"
    }
   },
   "outputs": [
    {
     "name": "stdout",
     "output_type": "stream",
     "text": [
      "2017-12-30 15:09:03-05:00\n"
     ]
    }
   ],
   "source": [
    "print(dt)\n",
    "#2017-12-30 15:09:03-05:00'"
   ]
  },
  {
   "cell_type": "code",
   "execution_count": 13,
   "metadata": {
    "ExecuteTime": {
     "end_time": "2021-12-25T17:41:26.625018Z",
     "start_time": "2021-12-25T17:41:26.618329Z"
    },
    "id": "oiPL9eE_rVCE"
   },
   "outputs": [
    {
     "name": "stdout",
     "output_type": "stream",
     "text": [
      "2017-12-30 15:09:03+00:00\n"
     ]
    }
   ],
   "source": [
    "print(dt.replace(tzinfo=timezone.utc)) #change both timezone and time\n",
    "#'2017-12-30 15:09:03+00:00'"
   ]
  },
  {
   "cell_type": "code",
   "execution_count": null,
   "metadata": {},
   "outputs": [],
   "source": [
    "# Change original to match UTC\n",
    "print(dt.astimezone(timezone.utc))\n",
    "#'2017-12-30 20:09:03+00:00'"
   ]
  },
  {
   "cell_type": "code",
   "execution_count": null,
   "metadata": {},
   "outputs": [],
   "source": [
    "#Example 1\n",
    "# Import datetime, timezone\n",
    "from datetime import datetime, timezone\n",
    "\n",
    "# October 1, 2017 at 15:26:26, UTC\n",
    "dt = datetime(2017, 10, 1, 15, 26, 26, tzinfo=timezone.utc)\n",
    "\n",
    "# Print results\n",
    "print(dt.isoformat())"
   ]
  },
  {
   "cell_type": "code",
   "execution_count": null,
   "metadata": {},
   "outputs": [],
   "source": [
    "#Example 2\n",
    "# Import datetime, timedelta, timezone\n",
    "from datetime import datetime, timedelta, timezone\n",
    "\n",
    "# Create a timezone for Pacific Standard Time, or UTC-8\n",
    "pst = timezone(timedelta(hours=-8))\n",
    "\n",
    "# October 1, 2017 at 15:26:26, UTC-8\n",
    "dt = datetime(2017, 10, 1, 15, 26, 26, tzinfo=pst)\n",
    "\n",
    "# Print results\n",
    "print(dt.isoformat())"
   ]
  },
  {
   "cell_type": "code",
   "execution_count": null,
   "metadata": {},
   "outputs": [],
   "source": [
    "#Example 3\n",
    "\n",
    "# Import datetime, timedelta, timezone\n",
    "from datetime import datetime, timedelta, timezone\n",
    "\n",
    "# Create a timezone for Australian Eastern Daylight Time, or UTC+11\n",
    "aedt = timezone(timedelta(hours = 11))\n",
    "\n",
    "# October 1, 2017 at 15:26:26, UTC+11\n",
    "dt = datetime(2017, 10, 1, 15, 26, 26, tzinfo=aedt)\n",
    "\n",
    "# Print results\n",
    "print(dt.isoformat())"
   ]
  },
  {
   "cell_type": "code",
   "execution_count": null,
   "metadata": {},
   "outputs": [],
   "source": [
    "#Example 4\n",
    "\n",
    "# Create a timezone object corresponding to UTC-4\n",
    "edt = timezone(timedelta(hours = -4))\n",
    "\n",
    "# Loop over trips, updating the start and end datetimes to be in UTC-4\n",
    "for trip in onebike_datetimes[:10]:\n",
    "  # Update trip['start'] and trip['end']\n",
    "  trip['start'] = trip['start'].replace(tzinfo = edt)\n",
    "  trip['end'] = trip['end'].replace(tzinfo = edt)"
   ]
  },
  {
   "cell_type": "code",
   "execution_count": null,
   "metadata": {},
   "outputs": [],
   "source": [
    "#Example 5\n",
    "# Loop over the trips\n",
    "for trip in onebike_datetimes[:10]:\n",
    "  # Pull out the start\n",
    "  dt = trip['start']\n",
    "  # Move dt to be in UTC\n",
    "  dt = dt.astimezone(timezone.utc)\n",
    "  \n",
    "  # Print the start time in UTC\n",
    "  print('Original:', trip['start'], '| UTC:', dt.isoformat())"
   ]
  },
  {
   "cell_type": "markdown",
   "metadata": {
    "id": "LZZFyFZhrU-T"
   },
   "source": [
    "### Time zone database"
   ]
  },
  {
   "cell_type": "markdown",
   "metadata": {},
   "source": [
    "tz database (updated 3 or 4 times per year, as it changes)\n",
    "- Format: 'Continent/City'\n",
    "- Examples:\n",
    "    - 'America/New_York'\n",
    "    - 'America/Mexico_City'\n",
    "    - 'Europe/London'\n",
    "    - 'Africa/Accra'"
   ]
  },
  {
   "cell_type": "code",
   "execution_count": null,
   "metadata": {},
   "outputs": [],
   "source": [
    "#Time zone database\n",
    "# Imports\n",
    "from datetime import datetime\n",
    "from dateutil import tz #package to help obtaining the tz\n",
    "# Eastern time\n",
    "et = tz.gettz('America/New_York')"
   ]
  },
  {
   "cell_type": "code",
   "execution_count": null,
   "metadata": {},
   "outputs": [],
   "source": [
    "# Time zone database\n",
    "# Last ride\n",
    "last = datetime(2017, 12, 30, 15, 9, 3, tzinfo=et)\n",
    "print(last)\n",
    "#'2017-12-30 15:09:03-05:00'"
   ]
  },
  {
   "cell_type": "code",
   "execution_count": null,
   "metadata": {},
   "outputs": [],
   "source": [
    "Time zone database\n",
    "# Last ride\n",
    "last = datetime(2017, 12, 30, 15, 9, 3, tzinfo=et)\n",
    "print(last)\n",
    "#'2017-12-30 15:09:03-05:00'\n",
    "\n",
    "# First ride\n",
    "first = datetime(2017, 10, 1, 15, 23, 25, tzinfo=et)\n",
    "print(first)\n",
    "#'2017-10-01 15:23:25-04:00'"
   ]
  },
  {
   "cell_type": "code",
   "execution_count": null,
   "metadata": {},
   "outputs": [],
   "source": [
    "#Example\n",
    "# Import tz\n",
    "from dateutil import tz\n",
    "\n",
    "# Create a timezone object for Eastern Time\n",
    "et = tz.gettz('America/New_York')\n",
    "\n",
    "# Loop over trips, updating the datetimes to be in Eastern Time\n",
    "for trip in onebike_datetimes[:10]:\n",
    "  # Update trip['start'] and trip['end']\n",
    "  trip['start'] = trip['start'].replace(tzinfo = et)\n",
    "  trip['end'] = trip['end'].replace(tzinfo = et)"
   ]
  },
  {
   "cell_type": "code",
   "execution_count": null,
   "metadata": {},
   "outputs": [],
   "source": [
    "#Example\n",
    "# Create the timezone object\n",
    "uk = tz.gettz(\"Europe/London\")\n",
    "\n",
    "# Pull out the start of the first trip\n",
    "local = onebike_datetimes[0]['start']\n",
    "\n",
    "# What time was it in the UK?\n",
    "notlocal = local.astimezone(uk)\n",
    "\n",
    "# Print them out and see the difference\n",
    "print(local.isoformat())\n",
    "print(notlocal.isoformat())"
   ]
  },
  {
   "cell_type": "code",
   "execution_count": null,
   "metadata": {
    "id": "3Cr6xoJrrI75"
   },
   "outputs": [],
   "source": [
    "#Example 2\n",
    "# Create the timezone object\n",
    "ist = tz.gettz(\"Asia/Kolkata\")\n",
    "\n",
    "# Pull out the start of the first trip\n",
    "local = onebike_datetimes[0]['start']\n",
    "\n",
    "# What time was it in India?\n",
    "notlocal = local.astimezone(ist)\n",
    "\n",
    "# Print them out and see the difference\n",
    "print(local.isoformat())\n",
    "print(notlocal.isoformat())"
   ]
  },
  {
   "cell_type": "code",
   "execution_count": null,
   "metadata": {},
   "outputs": [],
   "source": [
    "# Create the timezone object\n",
    "sm = tz.gettz(\"Pacific/Apia\")\n",
    "\n",
    "# Pull out the start of the first trip\n",
    "local = onebike_datetimes[0]['start']\n",
    "\n",
    "# What time was it in Samoa?\n",
    "notlocal = local.astimezone(sm)\n",
    "\n",
    "# Print them out and see the difference\n",
    "print(local.isoformat())\n",
    "print(notlocal.isoformat())"
   ]
  },
  {
   "cell_type": "markdown",
   "metadata": {
    "id": "bFF0lJHMrctz"
   },
   "source": [
    "### Starting daylight saving time"
   ]
  },
  {
   "cell_type": "code",
   "execution_count": null,
   "metadata": {},
   "outputs": [],
   "source": [
    "# Start of Daylight Saving Time (summer time)\n",
    "spring_ahead_159am = datetime(2017, 3, 12, 1, 59, 59)\n",
    "spring_ahead_159am.isoformat()\n",
    "#2017-03-12T01:59:59'"
   ]
  },
  {
   "cell_type": "code",
   "execution_count": null,
   "metadata": {},
   "outputs": [],
   "source": [
    "spring_ahead_3am = datetime(2017, 3, 12, 3, 0, 0)\n",
    "spring_ahead_3am.isoformat()\n",
    "#'2017-03-12T03:00:00'\n",
    "\n",
    "(spring_ahead_3am - spring_ahead_159am).total_seconds()\n",
    "#3601"
   ]
  },
  {
   "cell_type": "code",
   "execution_count": null,
   "metadata": {},
   "outputs": [],
   "source": [
    "# Start of Daylight Saving Time\n",
    "from datetime import timezone, timedelta\n",
    "EST = timezone(timedelta(hours=-5))\n",
    "EDT = timezone(timedelta(hours=-4))"
   ]
  },
  {
   "cell_type": "code",
   "execution_count": null,
   "metadata": {},
   "outputs": [],
   "source": [
    "# Start of Daylight Saving Time\n",
    "spring_ahead_159am = spring_ahead_159am.replace(tzinfo = EST)\n",
    "spring_ahead_159am.isoformat()\n",
    "# '2017-03-12T01:59:59-05:00'\n",
    "\n",
    "spring_ahead_3am = spring_ahead_159am.replace(tzinfo = EDT)\n",
    "spring_ahead_3am.isoformat()\n",
    "# '2017-03-12T03:00:00-04:00'\n",
    "\n",
    "(spring_ahead_3am - spring_ahead_159am).seconds\n",
    "# 1 (proper comparisons - just 1 second)"
   ]
  },
  {
   "cell_type": "code",
   "execution_count": null,
   "metadata": {
    "id": "9pKQNe_urhX_"
   },
   "outputs": [],
   "source": [
    "# Start of Daylight Saving Time\n",
    "# Using dateutil\n",
    "\n",
    "# Import tz\n",
    "from dateutil import tz\n",
    "# Create eastern timezone\n",
    "eastern = tz.gettz('America/New_York')\n",
    "\n",
    "# 2017-03-12 01:59:59 in Eastern Time (EST)\n",
    "spring_ahead_159am = datetime(2017, 3, 12, 1, 59, 59,\n",
    "                              tzinfo = eastern)\n",
    "\n",
    "# 2017-03-12 03:00:00 in Eastern Time (EDT)\n",
    "spring_ahead_3am = datetime(2017, 3, 12, 3, 0, 0,\n",
    "                            tzinfo = eastern)"
   ]
  },
  {
   "cell_type": "code",
   "execution_count": null,
   "metadata": {},
   "outputs": [],
   "source": [
    "#Example\n",
    "# Import datetime, timedelta, tz, timezone\n",
    "from datetime import datetime, timedelta, timezone\n",
    "from dateutil import tz\n",
    "\n",
    "# Start on March 12, 2017, midnight, then add 6 hours\n",
    "start = datetime(2017, 3, 12, tzinfo = tz.gettz('America/New_York'))\n",
    "end = start + timedelta(hours=6)\n",
    "print(start.isoformat() + \" to \" + end.isoformat())\n",
    "\n",
    "# How many hours have elapsed?\n",
    "print((end - start).total_seconds()/(60*60))\n",
    "\n",
    "# What if we move to UTC?\n",
    "print((end.astimezone(timezone.utc) - start.astimezone(timezone.utc))\\\n",
    "      .total_seconds()/(60*60))"
   ]
  },
  {
   "cell_type": "code",
   "execution_count": 16,
   "metadata": {
    "ExecuteTime": {
     "end_time": "2021-12-25T19:45:52.281178Z",
     "start_time": "2021-12-25T19:45:52.150016Z"
    }
   },
   "outputs": [
    {
     "name": "stdout",
     "output_type": "stream",
     "text": [
      "2000-03-29T00:00:00+01:00\n",
      "2001-03-29T00:00:00+01:00\n",
      "2002-03-29T00:00:00+00:00\n",
      "2003-03-29T00:00:00+00:00\n",
      "2004-03-29T00:00:00+01:00\n",
      "2005-03-29T00:00:00+01:00\n",
      "2006-03-29T00:00:00+01:00\n",
      "2007-03-29T00:00:00+01:00\n",
      "2008-03-29T00:00:00+00:00\n",
      "2009-03-29T00:00:00+00:00\n",
      "2010-03-29T00:00:00+01:00\n"
     ]
    }
   ],
   "source": [
    "#Example\n",
    "# Import datetime and tz\n",
    "from datetime import datetime\n",
    "from dateutil import tz\n",
    "\n",
    "# Create starting date\n",
    "dt = datetime(2000, 3, 29, tzinfo = tz.gettz(\"Europe/London\"))\n",
    "\n",
    "# Loop over the dates, replacing the year, and print the ISO timestamp\n",
    "for y in range(2000, 2011):\n",
    "  print(dt.replace(year=y).isoformat())"
   ]
  },
  {
   "cell_type": "markdown",
   "metadata": {
    "id": "h8kes37GrhVF"
   },
   "source": [
    "### Ending daylight saving time"
   ]
  },
  {
   "cell_type": "code",
   "execution_count": 21,
   "metadata": {
    "ExecuteTime": {
     "end_time": "2021-12-25T19:46:13.088685Z",
     "start_time": "2021-12-25T19:46:13.079816Z"
    },
    "id": "evL-0FNcrcrb"
   },
   "outputs": [],
   "source": [
    "# Ending Daylight Saving Time\n",
    "eastern = tz.gettz('US/Eastern')\n",
    "# 2017-11-05 01:00:00\n",
    "first_1am = datetime(2017, 11, 5, 1, 0, 0,\n",
    "                     tzinfo = eastern)\n",
    "tz.datetime_ambiguous(first_1am) #check if it can occurs into two different hours for the same timezonte\n",
    "# True\n",
    "\n",
    "# 2017-11-05 01:00:00 again\n",
    "second_1am = datetime(2017, 11, 5, 1, 0, 0,\n",
    "                      tzinfo = eastern)\n",
    "second_1am = tz.enfold(second_1am)"
   ]
  },
  {
   "cell_type": "code",
   "execution_count": 18,
   "metadata": {
    "ExecuteTime": {
     "end_time": "2021-12-25T19:45:57.902213Z",
     "start_time": "2021-12-25T19:45:57.891511Z"
    },
    "id": "R0e4PRg2rI5I"
   },
   "outputs": [
    {
     "data": {
      "text/plain": [
       "3600.0"
      ]
     },
     "execution_count": 18,
     "metadata": {},
     "output_type": "execute_result"
    }
   ],
   "source": [
    "# Ending Daylight Saving Time\n",
    "\n",
    "(first_1am - second_1am).total_seconds()\n",
    "# 0.0\n",
    "\n",
    "first_1am = first_1am.astimezone(tz.UTC)\n",
    "second_1am = second_1am.astimezone(tz.UTC)\n",
    "(second_1am - first_1am).total_seconds() #one hour apart\n",
    "# 3600.0"
   ]
  },
  {
   "cell_type": "code",
   "execution_count": null,
   "metadata": {},
   "outputs": [],
   "source": [
    "#Example\n",
    "# Loop over trips\n",
    "for trip in onebike_datetimes:\n",
    "  # Rides with ambiguous start\n",
    "  if tz.datetime_ambiguous(trip[\"start\"]):\n",
    "    print(\"Ambiguous start at \" + str(trip['start']))\n",
    "  # Rides with ambiguous end\n",
    "  if tz.datetime_ambiguous(trip[\"end\"]):\n",
    "    print(\"Ambiguous end at \" + str(trip['end']))"
   ]
  },
  {
   "cell_type": "code",
   "execution_count": null,
   "metadata": {},
   "outputs": [],
   "source": [
    "#Example\n",
    "trip_durations = []\n",
    "for trip in onebike_datetimes:\n",
    "  # When the start is later than the end, set the fold to be 1\n",
    "  if trip[\"start\"] > trip[\"end\"]:\n",
    "    trip['end'] = tz.enfold(trip['end'])\n",
    "  # Convert to UTC\n",
    "  start = trip['start'].astimezone(tz.UTC)\n",
    "  end = trip['end'].astimezone(tz.UTC)\n",
    "\n",
    "  # Subtract the difference\n",
    "  trip_length_seconds = (end-start).total_seconds()\n",
    "  trip_durations.append(trip_length_seconds)\n",
    "\n",
    "# Take the shortest trip duration\n",
    "print(\"Shortest trip: \" + str(min(trip_durations)))"
   ]
  },
  {
   "cell_type": "markdown",
   "metadata": {
    "id": "GLxohLalrIfs"
   },
   "source": [
    "## Easy and Powerful: Dates and Times in Pandas "
   ]
  },
  {
   "cell_type": "markdown",
   "metadata": {
    "id": "JaxUZAQsrBPZ"
   },
   "source": [
    "### Reading date and time data in Pandas"
   ]
  },
  {
   "cell_type": "code",
   "execution_count": null,
   "metadata": {
    "id": "ZkkLUviusroV"
   },
   "outputs": [],
   "source": [
    "A simple Pandas example\n",
    "# Load Pandas\n",
    "import pandas as pd\n",
    "# Import W20529's rides in Q4 2017\n",
    "rides = pd.read_csv('capital-onebike.csv')\n",
    "\n",
    "# See our data\n",
    "print(rides.head(3))"
   ]
  },
  {
   "attachments": {
    "image.png": {
     "image/png": "[encoded data removed]"
    }
   },
   "cell_type": "markdown",
   "metadata": {},
   "source": [
    "![image.png](attachment:image.png)"
   ]
  },
  {
   "cell_type": "code",
   "execution_count": null,
   "metadata": {},
   "outputs": [],
   "source": [
    "rides['Start date']"
   ]
  },
  {
   "attachments": {
    "image.png": {
     "image/png": "[encoded data removed]"
    }
   },
   "cell_type": "markdown",
   "metadata": {},
   "source": [
    "![image.png](attachment:image.png)"
   ]
  },
  {
   "cell_type": "code",
   "execution_count": null,
   "metadata": {},
   "outputs": [],
   "source": [
    "rides.iloc[2] #row number 2"
   ]
  },
  {
   "attachments": {
    "image.png": {
     "image/png": "[encoded data removed]"
    }
   },
   "cell_type": "markdown",
   "metadata": {},
   "source": [
    "![image.png](attachment:image.png)"
   ]
  },
  {
   "cell_type": "markdown",
   "metadata": {},
   "source": [
    "Loading datetimes with parse_dates"
   ]
  },
  {
   "cell_type": "code",
   "execution_count": null,
   "metadata": {},
   "outputs": [],
   "source": [
    "# Import W20529's rides in Q4 2017\n",
    "rides = pd.read_csv('capital-onebike.csv', \n",
    "                    parse_dates = ['Start date','End date']) #convert do datatime, figuring out the format\n",
    "# Or:\n",
    "rides['Start date'] = pd.to_datetime(rides['Start date'], \n",
    "                                     format = \"%Y-%m-%d %H:%M:%S\")"
   ]
  },
  {
   "cell_type": "code",
   "execution_count": null,
   "metadata": {},
   "outputs": [],
   "source": [
    "# Select Start date for row 2\n",
    "rides['Start date'].iloc[2]"
   ]
  },
  {
   "attachments": {
    "image.png": {
     "image/png": "[encoded data removed]"
    }
   },
   "cell_type": "markdown",
   "metadata": {},
   "source": [
    "![image.png](attachment:image.png)"
   ]
  },
  {
   "cell_type": "markdown",
   "metadata": {},
   "source": [
    "Timezone-aware arithmetic"
   ]
  },
  {
   "cell_type": "code",
   "execution_count": null,
   "metadata": {},
   "outputs": [],
   "source": [
    "# Create a duration column\n",
    "rides['Duration'] = rides['End date'] - rides['Start date']\n",
    "# Print the first 5 rows\n",
    "print(rides['Duration'].head(5)) #get a timedelta series"
   ]
  },
  {
   "attachments": {
    "image.png": {
     "image/png": "[encoded data removed]"
    }
   },
   "cell_type": "markdown",
   "metadata": {},
   "source": [
    "![image.png](attachment:image.png)"
   ]
  },
  {
   "cell_type": "markdown",
   "metadata": {},
   "source": [
    "Loading datetimes with parse_dates"
   ]
  },
  {
   "cell_type": "code",
   "execution_count": null,
   "metadata": {},
   "outputs": [],
   "source": [
    "rides['Duration']\\\n",
    "    .dt.total_seconds()\\\n",
    "    .head(5) #transform into seconds instead of timedelta"
   ]
  },
  {
   "attachments": {
    "image.png": {
     "image/png": "[encoded data removed]"
    }
   },
   "cell_type": "markdown",
   "metadata": {},
   "source": [
    "![image.png](attachment:image.png)"
   ]
  },
  {
   "cell_type": "code",
   "execution_count": null,
   "metadata": {},
   "outputs": [],
   "source": [
    "#Example\n",
    "# Import pandas\n",
    "import pandas as pd\n",
    "\n",
    "# Load CSV into the rides variable\n",
    "rides = pd.read_csv('capital-onebike.csv', \n",
    "                    parse_dates = [\"Start date\", \"End date\"])\n",
    "\n",
    "# Print the initial (0th) row\n",
    "print(rides.iloc[0])"
   ]
  },
  {
   "cell_type": "code",
   "execution_count": null,
   "metadata": {},
   "outputs": [],
   "source": [
    "#Example\n",
    "# Subtract the start date from the end date\n",
    "ride_durations = rides[\"End date\"] - rides[\"Start date\"]\n",
    "\n",
    "# Convert the results to seconds\n",
    "rides[\"Duration\"] = ride_durations.dt.total_seconds()\n",
    "\n",
    "print(rides['Duration'].head())"
   ]
  },
  {
   "cell_type": "markdown",
   "metadata": {
    "id": "1tWAA-iDsrj4"
   },
   "source": [
    "### Summarizing datetime data in Pandas"
   ]
  },
  {
   "cell_type": "markdown",
   "metadata": {},
   "source": [
    "Summarizing data in Pandas"
   ]
  },
  {
   "cell_type": "code",
   "execution_count": null,
   "metadata": {},
   "outputs": [],
   "source": [
    "# Average time out of the dock\n",
    "rides['Duration'].mean()\n",
    "#output: Timedelta('0 days 00:19:38.931034')"
   ]
  },
  {
   "cell_type": "code",
   "execution_count": null,
   "metadata": {},
   "outputs": [],
   "source": [
    "# Total time out of the dock\n",
    "rides['Duration'].sum()\n",
    "#output: Timedelta('3 days 22:58:10')"
   ]
  },
  {
   "cell_type": "code",
   "execution_count": null,
   "metadata": {},
   "outputs": [],
   "source": [
    "# Percent of time out of the dock\n",
    "rides['Duration'].sum() / timedelta(days=91)\n",
    "#output: 0.04348417785917786"
   ]
  },
  {
   "cell_type": "code",
   "execution_count": null,
   "metadata": {},
   "outputs": [],
   "source": [
    "# Count how many time the bike started at each station\n",
    "rides['Member type'].value_counts()"
   ]
  },
  {
   "attachments": {
    "image.png": {
     "image/png": "[encoded data removed]"
    }
   },
   "cell_type": "markdown",
   "metadata": {},
   "source": [
    "![image.png](attachment:image.png)"
   ]
  },
  {
   "cell_type": "code",
   "execution_count": null,
   "metadata": {},
   "outputs": [],
   "source": [
    "# Percent of rides by member\n",
    "rides['Member type'].value_counts() / len(rides)"
   ]
  },
  {
   "attachments": {
    "image.png": {
     "image/png": "[encoded data removed]"
    }
   },
   "cell_type": "markdown",
   "metadata": {},
   "source": [
    "![image.png](attachment:image.png)"
   ]
  },
  {
   "cell_type": "markdown",
   "metadata": {},
   "source": [
    "Summarizing datetime in Pandas"
   ]
  },
  {
   "cell_type": "code",
   "execution_count": null,
   "metadata": {},
   "outputs": [],
   "source": [
    "# Add duration (in seconds) column\n",
    "rides['Duration seconds'] = rides['Duration'].dt.total_seconds()\n",
    "# Average duration per member type\n",
    "rides.groupby('Member type')['Duration seconds'].mean()"
   ]
  },
  {
   "attachments": {
    "image.png": {
     "image/png": "[encoded data removed]"
    }
   },
   "cell_type": "markdown",
   "metadata": {},
   "source": [
    "![image.png](attachment:image.png)"
   ]
  },
  {
   "cell_type": "markdown",
   "metadata": {},
   "source": [
    "#### Resample "
   ]
  },
  {
   "cell_type": "code",
   "execution_count": null,
   "metadata": {},
   "outputs": [],
   "source": [
    "# Average duration by month\n",
    "rides.resample('M', on = 'Start date')['Duration seconds'].mean()"
   ]
  },
  {
   "attachments": {
    "image.png": {
     "image/png": "[encoded data removed]"
    }
   },
   "cell_type": "markdown",
   "metadata": {},
   "source": [
    "![image.png](attachment:image.png)"
   ]
  },
  {
   "cell_type": "code",
   "execution_count": null,
   "metadata": {},
   "outputs": [],
   "source": [
    "# Size per group\n",
    "rides.groupby('Member type').size()\n",
    "\n",
    "# First ride per group\n",
    "rides.groupby('Member type').first()"
   ]
  },
  {
   "attachments": {
    "image.png": {
     "image/png": "[encoded data removed]"
    }
   },
   "cell_type": "markdown",
   "metadata": {},
   "source": [
    "![image.png](attachment:image.png)"
   ]
  },
  {
   "cell_type": "code",
   "execution_count": null,
   "metadata": {},
   "outputs": [],
   "source": [
    "rides\\\n",
    "    .resample('M', on = 'Start date')\\\n",
    "    ['Duration seconds']\\\n",
    "    .mean()\\\n",
    "    .plot()"
   ]
  },
  {
   "attachments": {
    "image.png": {
     "image/png": "[encoded data removed]"
    }
   },
   "cell_type": "markdown",
   "metadata": {},
   "source": [
    "![image.png](attachment:image.png)"
   ]
  },
  {
   "cell_type": "code",
   "execution_count": null,
   "metadata": {},
   "outputs": [],
   "source": [
    "rides\\\n",
    "    .resample('D', on = 'Start date')\\\n",
    "    ['Duration seconds']\\\n",
    "    .mean()\\\n",
    "    .plot()"
   ]
  },
  {
   "attachments": {
    "image.png": {
     "image/png": "[encoded data removed]"
    }
   },
   "cell_type": "markdown",
   "metadata": {},
   "source": [
    "![image.png](attachment:image.png)"
   ]
  },
  {
   "cell_type": "code",
   "execution_count": null,
   "metadata": {},
   "outputs": [],
   "source": [
    "#Example\n",
    "# Create joyrides\n",
    "joyrides = (rides[\"Start station\"] == rides[\"End station\"])\n",
    "\n",
    "# Total number of joyrides\n",
    "print(\"{} rides were joyrides\".format(joyrides.sum()))\n",
    "\n",
    "# Median of all rides\n",
    "print(\"The median duration overall was {:.2f} seconds\"\\\n",
    "      .format(rides['Duration'].median()))\n",
    "\n",
    "# Median of joyrides\n",
    "print(\"The median duration for joyrides was {:.2f} seconds\"\\\n",
    "      .format(rides[joyrides]['Duration'].median()))"
   ]
  },
  {
   "cell_type": "code",
   "execution_count": null,
   "metadata": {},
   "outputs": [],
   "source": [
    "#Example\n",
    "# Import matplotlib\n",
    "import matplotlib.pyplot as plt\n",
    "\n",
    "# Resample rides to daily, take the size, plot the results\n",
    "rides.resample(\"D\", on = 'Start date')\\\n",
    "  .size()\\\n",
    "  .plot(ylim = [0, 15])\n",
    "\n",
    "# Show the results\n",
    "plt.show()\n",
    "\n",
    "#Example 2\n",
    "# Import matplotlib\n",
    "import matplotlib.pyplot as plt\n",
    "\n",
    "# Resample rides to monthly, take the size, plot the results\n",
    "rides.resample(\"M\", on = 'Start date')\\\n",
    "  .size()\\\n",
    "  .plot(ylim = [0, 150])\n",
    "\n",
    "# Show the results\n",
    "plt.show()"
   ]
  },
  {
   "attachments": {
    "image-2.png": {
     "image/png": "[encoded data removed]"
    },
    "image.png": {
     "image/png": "[encoded data removed]"
    }
   },
   "cell_type": "markdown",
   "metadata": {},
   "source": [
    "![image-2.png](attachment:image-2.png)\n",
    "![image.png](attachment:image.png)"
   ]
  },
  {
   "cell_type": "code",
   "execution_count": null,
   "metadata": {},
   "outputs": [],
   "source": [
    "# Resample rides to be monthly on the basis of Start date\n",
    "monthly_rides = rides.resample(\"M\", on =\"Start date\")['Member type']\n",
    "\n",
    "# Take the ratio of the .value_counts() over the total number of rides\n",
    "print(monthly_rides.value_counts() / monthly_rides.size())"
   ]
  },
  {
   "cell_type": "markdown",
   "metadata": {},
   "source": [
    "#### Resample and Groupby "
   ]
  },
  {
   "cell_type": "code",
   "execution_count": null,
   "metadata": {
    "id": "io5KTeJ_srgg"
   },
   "outputs": [],
   "source": [
    "# Group rides by member type, and resample to the month\n",
    "grouped = rides.groupby('Member type')\\\n",
    "  .resample(\"M\", on = \"Start date\")\n",
    "\n",
    "# Print the median duration for each group\n",
    "print(grouped[\"Duration\"].median())"
   ]
  },
  {
   "attachments": {
    "image-2.png": {
     "image/png": "[encoded data removed]"
    }
   },
   "cell_type": "markdown",
   "metadata": {},
   "source": [
    "![image-2.png](attachment:image-2.png)"
   ]
  },
  {
   "cell_type": "markdown",
   "metadata": {
    "id": "334iZ0x7sznD"
   },
   "source": [
    "### Additional datetime methods in Pandas"
   ]
  },
  {
   "cell_type": "markdown",
   "metadata": {},
   "source": [
    "Timezones in Pandas"
   ]
  },
  {
   "cell_type": "code",
   "execution_count": null,
   "metadata": {},
   "outputs": [],
   "source": [
    "rides['Duration'].dt.total_seconds().min()\n",
    "#-3346.0"
   ]
  },
  {
   "cell_type": "code",
   "execution_count": null,
   "metadata": {},
   "outputs": [],
   "source": [
    "rides['Start date'].head(3) #daylight saving problems. it's naive"
   ]
  },
  {
   "attachments": {
    "image.png": {
     "image/png": "[encoded data removed]"
    }
   },
   "cell_type": "markdown",
   "metadata": {},
   "source": [
    "![image.png](attachment:image.png)"
   ]
  },
  {
   "cell_type": "markdown",
   "metadata": {},
   "source": [
    "tz_localize()"
   ]
  },
  {
   "cell_type": "code",
   "execution_count": null,
   "metadata": {},
   "outputs": [],
   "source": [
    "rides['Start date'].head(3)\\\n",
    "                .dt.tz_localize('America/New_York')"
   ]
  },
  {
   "attachments": {
    "image.png": {
     "image/png": "[encoded data removed]"
    }
   },
   "cell_type": "markdown",
   "metadata": {},
   "source": [
    "![image.png](attachment:image.png)"
   ]
  },
  {
   "cell_type": "code",
   "execution_count": null,
   "metadata": {},
   "outputs": [],
   "source": [
    "# Try to set a timezone... - time error\n",
    "rides['Start date'] = rides['Start date']\\\n",
    "    .dt.tz_localize('America/New_York')"
   ]
  },
  {
   "attachments": {
    "image.png": {
     "image/png": "[encoded data removed]"
    }
   },
   "cell_type": "markdown",
   "metadata": {},
   "source": [
    "![image.png](attachment:image.png)"
   ]
  },
  {
   "cell_type": "code",
   "execution_count": null,
   "metadata": {},
   "outputs": [],
   "source": [
    "# Handle ambiguous datetimes\n",
    "rides['Start date'] = rides['Start date']\\\n",
    "    .dt.tz_localize('America/New_York', ambiguous='NaT') #if ambiguous, result will be not a time. ignoring the row\n",
    "\n",
    "rides['End date'] = rides['End date']\\\n",
    "    .dt.tz_localize('America/New_York', ambiguous='NaT')"
   ]
  },
  {
   "cell_type": "code",
   "execution_count": null,
   "metadata": {},
   "outputs": [],
   "source": [
    "# Re-calculate duration, ignoring bad row\n",
    "rides['Duration'] = rides['Start date'] - rides['End date']\n",
    "# Find the minimum again\n",
    "rides['Duration'].dt.total_seconds().min()\n",
    "#116"
   ]
  },
  {
   "cell_type": "code",
   "execution_count": null,
   "metadata": {},
   "outputs": [],
   "source": [
    "# Look at problematic row\n",
    "rides.iloc[129]"
   ]
  },
  {
   "attachments": {
    "image.png": {
     "image/png": "[encoded data removed]"
    }
   },
   "cell_type": "markdown",
   "metadata": {},
   "source": [
    "![image.png](attachment:image.png)"
   ]
  },
  {
   "cell_type": "markdown",
   "metadata": {},
   "source": [
    "Other datetime operations in Pandas"
   ]
  },
  {
   "cell_type": "code",
   "execution_count": null,
   "metadata": {},
   "outputs": [],
   "source": [
    "# Year of first three rows\n",
    "rides['Start date']\\\n",
    "    .head(3)\\\n",
    "    .dt.year\n",
    "\n",
    "# See weekdays for first three rides\n",
    "rides['Start date']\\\n",
    "    .head(3)\\\n",
    "    .dt.weekday_name"
   ]
  },
  {
   "attachments": {
    "image.png": {
     "image/png": "[encoded data removed]"
    }
   },
   "cell_type": "markdown",
   "metadata": {},
   "source": [
    "![image.png](attachment:image.png)"
   ]
  },
  {
   "cell_type": "code",
   "execution_count": null,
   "metadata": {},
   "outputs": [],
   "source": [
    "# Shift the indexes forward one, padding with NaT - shift up or down\n",
    "rides['End date'].shift(1).head(3)"
   ]
  },
  {
   "attachments": {
    "image.png": {
     "image/png": "[encoded data removed]"
    }
   },
   "cell_type": "markdown",
   "metadata": {},
   "source": [
    "![image.png](attachment:image.png)"
   ]
  },
  {
   "cell_type": "code",
   "execution_count": null,
   "metadata": {},
   "outputs": [],
   "source": [
    "#Example\n",
    "# Localize the Start date column to America/New_York\n",
    "rides['Start date'] = rides['Start date'].dt.tz_localize('America/New_York', ambiguous = \"NaT\")\n",
    "\n",
    "# Print first value\n",
    "print(rides['Start date'].iloc[0])\n",
    "\n",
    "# Convert the Start date column to Europe/London\n",
    "rides['Start date'] = rides['Start date'].dt.tz_convert('Europe/London')\n",
    "\n",
    "# Print the new value\n",
    "print(rides['Start date'].iloc[0])"
   ]
  },
  {
   "cell_type": "code",
   "execution_count": null,
   "metadata": {},
   "outputs": [],
   "source": [
    "# Add a column for the weekday of the start of the ride\n",
    "rides['Ride start weekday'] = rides['Start date'].dt.weekday_name\n",
    "# Print the median trip time per weekday\n",
    "print(rides.groupby(\"Ride start weekday\")['Duration'].median())"
   ]
  },
  {
   "cell_type": "code",
   "execution_count": null,
   "metadata": {},
   "outputs": [],
   "source": [
    "#Example\n",
    "# Shift the index of the end date up one; now subract it from the start date\n",
    "rides['Time since'] = rides['Start date'] - (rides[\"End date\"].shift(1))\n",
    "\n",
    "# Move from a timedelta to a number of seconds, which is easier to work with\n",
    "rides['Time since'] = rides['Time since'].dt.total_seconds()\n",
    "\n",
    "# Resample to the month\n",
    "monthly = rides.resample(\"M\", on = \"Start date\")\n",
    "\n",
    "# Print the average hours between rides each month\n",
    "print(monthly['Time since'].mean()/(60*60))"
   ]
  },
  {
   "cell_type": "markdown",
   "metadata": {
    "id": "TgL0YfBerBMX"
   },
   "source": [
    "### Wrap-up"
   ]
  },
  {
   "cell_type": "markdown",
   "metadata": {},
   "source": [
    "Recap: Dates and Calendars\n",
    "- The date() class takes a year, month, and day as arguments\n",
    "- A date object has accessors like .year , and also methods like .weekday() \n",
    "- date objects can be compared like numbers, using min() , max() , and sort()\n",
    "- You can subtract one date from another to get a timedelta\n",
    "- To turn date objects into strings, use the .isoformat() or .strftime() methods"
   ]
  },
  {
   "cell_type": "markdown",
   "metadata": {},
   "source": [
    "Recap: Combining Dates and Times\n",
    "- The datetime() class takes all the arguments of date() , plus an hour, minute, second, and microsecond\n",
    "- All of the additional arguments are optional; otherwise, they're set to zero by default\n",
    "- You can replace any value in a datetime with the .replace() method\n",
    "- Convert a timedelta into an integer with its .total_seconds() method\n",
    "- Turn strings into dates with .strptime() and dates into strings with .strftime()"
   ]
  },
  {
   "cell_type": "markdown",
   "metadata": {},
   "source": [
    "Recap: Timezones and Daylight Saving\n",
    "- A datetime is \"timezone aware\" when it has its tzinfo set. Otherwise it is \"timezone naive\"\n",
    "- Seing a timezone tells a datetime how to align itself to UTC, the universal time standard\n",
    "- Use the .replace() method to change the timezone of a datetime , leaving the date and time the same\n",
    "- Use the .astimezone() method to shi the date and time to match the new timezone dateutil.tz provides a comprehensive, updated timezone database"
   ]
  },
  {
   "cell_type": "markdown",
   "metadata": {},
   "source": [
    "Recap: Easy and Powerful Timestamps in Pandas\n",
    "- When reading a csv, set the parse_dates argument to be the list of columns which should be parsed as datetimes\n",
    "- If seing parse_dates doesn't work, use the pd.to_datetime() function\n",
    "- Grouping rows with .groupby() lets you calculate aggregates per group. For example, .first() , .min() or .mean()\n",
    "- .resample() groups rows on the basis of a datetime column, by year, month, day, and so on\n",
    "- Use .tz_localize() to set a timezone, keeping the date and time the same\n",
    "- Use .tz_convert() to change the date and time to match a new timezone"
   ]
  }
 ],
 "metadata": {
  "colab": {
   "name": "[DC] Data Science Career",
   "provenance": [],
   "toc_visible": true
  },
  "hide_input": false,
  "kernelspec": {
   "display_name": "Python 3 (ipykernel)",
   "language": "python",
   "name": "python3"
  },
  "language_info": {
   "codemirror_mode": {
    "name": "ipython",
    "version": 3
   },
   "file_extension": ".py",
   "mimetype": "text/x-python",
   "name": "python",
   "nbconvert_exporter": "python",
   "pygments_lexer": "ipython3",
   "version": "3.10.0"
  },
  "toc": {
   "base_numbering": "1",
   "nav_menu": {},
   "number_sections": true,
   "sideBar": true,
   "skip_h1_title": false,
   "title_cell": "Table of Contents",
   "title_sidebar": "Contents",
   "toc_cell": true,
   "toc_position": {
    "height": "calc(100% - 180px)",
    "left": "10px",
    "top": "150px",
    "width": "328.641px"
   },
   "toc_section_display": true,
   "toc_window_display": true
  },
  "varInspector": {
   "cols": {
    "lenName": 16,
    "lenType": 16,
    "lenVar": 40
   },
   "kernels_config": {
    "python": {
     "delete_cmd_postfix": "",
     "delete_cmd_prefix": "del ",
     "library": "var_list.py",
     "varRefreshCmd": "print(var_dic_list())"
    },
    "r": {
     "delete_cmd_postfix": ") ",
     "delete_cmd_prefix": "rm(",
     "library": "var_list.r",
     "varRefreshCmd": "cat(var_dic_list()) "
    }
   },
   "types_to_exclude": [
    "module",
    "function",
    "builtin_function_or_method",
    "instance",
    "_Feature"
   ],
   "window_display": false
  }
 },
 "nbformat": 4,
 "nbformat_minor": 1
}
