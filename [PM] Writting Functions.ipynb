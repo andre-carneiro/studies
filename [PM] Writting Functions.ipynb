{
 "cells": [
  {
   "cell_type": "markdown",
   "metadata": {},
   "source": [
    "# Python Programmer - Career Track"
   ]
  },
  {
   "cell_type": "markdown",
   "metadata": {
    "id": "J6VyWnRG12Ir"
   },
   "source": [
    "# Writing Functions in Python\n",
    "Shayne Miel"
   ]
  },
  {
   "cell_type": "markdown",
   "metadata": {
    "id": "MvwgAP0o12GM"
   },
   "source": [
    "## Best Practices"
   ]
  },
  {
   "cell_type": "markdown",
   "metadata": {
    "id": "Oo5bSXVW12D9"
   },
   "source": [
    "### Docstrings"
   ]
  },
  {
   "cell_type": "markdown",
   "metadata": {},
   "source": [
    "A complex function"
   ]
  },
  {
   "cell_type": "code",
   "execution_count": null,
   "metadata": {},
   "outputs": [],
   "source": [
    "def split_and_stack(df, new_names):\n",
    "    half = int(len(df.columns) / 2)\n",
    "    left = df.iloc[:, :half]\n",
    "    right = df.iloc[:, half:]\n",
    "    return pd.DataFrame(\n",
    "        data=np.vstack([left.values, right.values]),\n",
    "        columns=new_names\n",
    "    )"
   ]
  },
  {
   "cell_type": "code",
   "execution_count": null,
   "metadata": {},
   "outputs": [],
   "source": [
    "def split_and_stack(df, new_names):\n",
    "    \"\"\"Split a DataFrame's columns into two halves and then stack\n",
    "    them vertically, returning a new DataFrame with `new_names`as thecolumn names.\n",
    "    Args:\n",
    "        df (DataFrame): The DataFrame to split.\n",
    "        new_names (iterable of str): The column names for the new DataFrame.\n",
    "    Returns:\n",
    "        DataFrame\n",
    "    \"\"\"\n",
    "    half = int(len(df.columns) / 2)\n",
    "    left = df.iloc[:, :half]\n",
    "    right = df.iloc[:, half:]\n",
    "    return pd.DataFrame(\n",
    "        data=np.vstack([left.values, right.values]),\n",
    "        columns=new_names\n",
    "    )"
   ]
  },
  {
   "cell_type": "markdown",
   "metadata": {},
   "source": [
    "Anatomy of a docstring"
   ]
  },
  {
   "cell_type": "code",
   "execution_count": null,
   "metadata": {},
   "outputs": [],
   "source": [
    "def function_name(arguments):\n",
    "    \"\"\"\n",
    "    Description of what the function does.\n",
    "    Description of the arguments, if any.\n",
    "    Description of the return value(s), if any.\n",
    "    Description of errors raised, if any.\n",
    "    Optional extra notes or examples of usage.\n",
    "    \"\"\""
   ]
  },
  {
   "cell_type": "markdown",
   "metadata": {},
   "source": [
    "Docstring formats\n",
    "- Google Style\n",
    "- Numpydoc\n",
    "- reStructuredText\n",
    "- EpyText"
   ]
  },
  {
   "cell_type": "markdown",
   "metadata": {},
   "source": [
    "Google Style - description"
   ]
  },
  {
   "cell_type": "code",
   "execution_count": null,
   "metadata": {},
   "outputs": [],
   "source": [
    "def function(arg_1, arg_2=42):\n",
    "    \"\"\"Description of what the function does.\n",
    "    \"\"\""
   ]
  },
  {
   "cell_type": "markdown",
   "metadata": {},
   "source": [
    "Google style - arguments"
   ]
  },
  {
   "cell_type": "code",
   "execution_count": null,
   "metadata": {},
   "outputs": [],
   "source": [
    "def function(arg_1, arg_2=42):\n",
    "    \"\"\"Description of what the function does.\n",
    "    \n",
    "    Args:\n",
    "        arg_1 (str): Description of arg_1 that can break onto the next line\n",
    "        if needed.\n",
    "        arg_2 (int, optional): Write optional when an argument has a default\n",
    "        value.\n",
    "    \"\"\""
   ]
  },
  {
   "cell_type": "markdown",
   "metadata": {},
   "source": [
    "Google style - return value(s)"
   ]
  },
  {
   "cell_type": "code",
   "execution_count": null,
   "metadata": {},
   "outputs": [],
   "source": [
    "def function(arg_1, arg_2=42):\n",
    "    \"\"\"Description of what the function does.\n",
    "    Args:\n",
    "        arg_1 (str): Description of arg_1 that can break onto the next line\n",
    "        if needed.\n",
    "        arg_2 (int, optional): Write optional when an argument has a default\n",
    "        value.\n",
    "    Returns:\n",
    "        bool: Optional description of the return value\n",
    "        Extra lines are not indented.\n",
    "    \"\"\""
   ]
  },
  {
   "cell_type": "code",
   "execution_count": null,
   "metadata": {},
   "outputs": [],
   "source": [
    "def function(arg_1, arg_2=42):\n",
    "    \"\"\"Description of what the function does.\n",
    "    \n",
    "    Args:\n",
    "        arg_1 (str): Description of arg_1 that can break onto the next line\n",
    "        if needed.\n",
    "        arg_2 (int, optional): Write optional when an argument has a default\n",
    "        value.\n",
    "    \n",
    "    Returns:\n",
    "        bool: Optional description of the return value\n",
    "        Extra lines are not indented.\n",
    "    \n",
    "    Raises:\n",
    "        ValueError: Include any error types that the function intentionally\n",
    "        raises.\n",
    "    \n",
    "    Notes:\n",
    "        See https://www.datacamp.com/community/tutorials/docstrings-python\n",
    "        for more info.\n",
    "    \"\"\""
   ]
  },
  {
   "cell_type": "markdown",
   "metadata": {},
   "source": [
    "Numpydoc"
   ]
  },
  {
   "cell_type": "code",
   "execution_count": null,
   "metadata": {},
   "outputs": [],
   "source": [
    "def function(arg_1, arg_2=42):\n",
    "    \"\"\"\n",
    "    Description of what the function does.\n",
    "\n",
    "    Parameters\n",
    "    ----------\n",
    "    arg_1 : expected type of arg_1\n",
    "        Description of arg_1.\n",
    "    arg_2 : int, optional\n",
    "        Write optional when an argument has a default value.\n",
    "        Default=42.\n",
    "    \n",
    "    Returns\n",
    "    -------\n",
    "    The type of the return value\n",
    "        Can include a description of the return value.\n",
    "        Replace \"Returns\" with \"Yields\" if this function is a generator.\n",
    "    \"\"\""
   ]
  },
  {
   "cell_type": "markdown",
   "metadata": {},
   "source": [
    "Retrieving docstrings"
   ]
  },
  {
   "cell_type": "code",
   "execution_count": null,
   "metadata": {},
   "outputs": [],
   "source": [
    "def the_answer():\n",
    "    \"\"\"Return the answer to life,\n",
    "    the universe, and everything.\n",
    "\n",
    "    Returns:\n",
    "    int\n",
    "    \"\"\"\n",
    "    return 42\n",
    "\n",
    "print(the_answer.__doc__)\n",
    "\n",
    "# Return the answer to life,\n",
    "#     the universe, and everything.\n",
    "\n",
    "#     Returns:\n",
    "#     int"
   ]
  },
  {
   "cell_type": "code",
   "execution_count": null,
   "metadata": {},
   "outputs": [],
   "source": [
    "import inspect\n",
    "print(inspect.getdoc(the_answer))\n",
    "\n",
    "# Return the answer to life,\n",
    "# the universe, and everything.\n",
    "\n",
    "# Returns:\n",
    "#     int"
   ]
  },
  {
   "cell_type": "code",
   "execution_count": null,
   "metadata": {},
   "outputs": [],
   "source": [
    "#Example\n",
    "def count_letter(content, letter):\n",
    "  \"\"\"Count the number of times `letter` appears in `content`.\n",
    "\n",
    "  Args:\n",
    "    content (str): The string to search.\n",
    "    letter (str): The letter to search for.\n",
    "\n",
    "  Returns:\n",
    "    int\n",
    "\n",
    "  # Add a section detailing what errors might be raised\n",
    "  Raises:\n",
    "    ValueError: If `letter` is not a one-character string.\n",
    "  \"\"\"\n",
    "  if (not isinstance(letter, str)) or len(letter) != 1:\n",
    "    raise ValueError('`letter` must be a single character string.')\n",
    "  return len([char for char in content if char == letter])"
   ]
  },
  {
   "cell_type": "code",
   "execution_count": null,
   "metadata": {},
   "outputs": [],
   "source": [
    "#Example\n",
    "# Get the \"count_letter\" docstring by using an attribute of the function\n",
    "docstring = count_letter.__doc__\n",
    "\n",
    "border = '#' * 28\n",
    "print('{}\\n{}\\n{}'.format(border, docstring, border))\n",
    "\n",
    "import inspect\n",
    "\n",
    "# Inspect the count_letter() function to get its docstring\n",
    "docstring = inspect.getdoc(count_letter)\n",
    "\n",
    "border = '#' * 28\n",
    "print('{}\\n{}\\n{}'.format(border, docstring, border))"
   ]
  },
  {
   "cell_type": "code",
   "execution_count": null,
   "metadata": {},
   "outputs": [],
   "source": [
    "#Example\n",
    "import inspect\n",
    "\n",
    "def build_tooltip(function):\n",
    "  \"\"\"Create a tooltip for any function that shows the\n",
    "  function's docstring.\n",
    "\n",
    "  Args:\n",
    "    function (callable): The function we want a tooltip for.\n",
    "\n",
    "  Returns:\n",
    "    str\n",
    "  \"\"\"\n",
    "  # Get the docstring for the \"function\" argument by using inspect\n",
    "  docstring = inspect.getdoc(function)\n",
    "  border = '#' * 28\n",
    "  return '{}\\n{}\\n{}'.format(border, docstring, border)\n",
    "\n",
    "print(build_tooltip(count_letter))\n",
    "print(build_tooltip(range))\n",
    "print(build_tooltip(print))"
   ]
  },
  {
   "cell_type": "markdown",
   "metadata": {
    "id": "KAmyWLXM12Bk"
   },
   "source": [
    "### DRY and \"Do One Thing\""
   ]
  },
  {
   "cell_type": "markdown",
   "metadata": {},
   "source": [
    "Don't repeat yourself (DRY)"
   ]
  },
  {
   "cell_type": "code",
   "execution_count": null,
   "metadata": {},
   "outputs": [],
   "source": [
    "#train validate and test PCA of each one\n",
    "\n",
    "train = pd.read_csv('train.csv')\n",
    "train_y = train['labels'].values\n",
    "train_X = train[col for col in train.columns if col != 'labels'].values\n",
    "train_pca = PCA(n_components=2).fit_transform(train_X)\n",
    "plt.scatter(train_pca[:,0], train_pca[:,1])\n",
    "\n",
    "val = pd.read_csv('validation.csv')\n",
    "val_y = val['labels'].values\n",
    "val_X = val[col for col in val.columns if col != 'labels'].values\n",
    "val_pca = PCA(n_components=2).fit_transform(val_X)\n",
    "plt.scatter(val_pca[:,0], val_pca[:,1])\n",
    "\n",
    "test = pd.read_csv('test.csv')\n",
    "test_y = test['labels'].values\n",
    "test_X = test[col for col in test.columns if col != 'labels'].values\n",
    "test_pca = PCA(n_components=2).fit_transform(train_X)\n",
    "plt.scatter(test_pca[:,0], test_pca[:,1])"
   ]
  },
  {
   "cell_type": "markdown",
   "metadata": {},
   "source": [
    "The problem with repeating yourself"
   ]
  },
  {
   "cell_type": "code",
   "execution_count": null,
   "metadata": {},
   "outputs": [],
   "source": [
    "#realy easy to make mistakes, such as do not change one parameter\n",
    "train = pd.read_csv('train.csv')\n",
    "train_y = train['labels'].values\n",
    "train_X = train[col for col in train.columns if col != 'labels'].values\n",
    "train_pca = PCA(n_components=2).fit_transform(train_X)\n",
    "plt.scatter(train_pca[:,0], train_pca[:,1])\n",
    "\n",
    "val = pd.read_csv('validation.csv')\n",
    "val_y = val['labels'].values\n",
    "val_X = val[col for col in val.columns if col != 'labels'].values\n",
    "val_pca = PCA(n_components=2).fit_transform(val_X)\n",
    "plt.scatter(val_pca[:,0], val_pca[:,1])\n",
    "\n",
    "test = pd.read_csv('test.csv')\n",
    "test_y = test['labels'].values\n",
    "test_X = test[col for col in test.columns if col != 'labels'].values\n",
    "test_pca = PCA(n_components=2).fit_transform(train_X) ### yikes! ###\n",
    "plt.scatter(test_pca[:,0], test_pca[:,1])"
   ]
  },
  {
   "cell_type": "markdown",
   "metadata": {},
   "source": [
    "Another problem with repeating yourself"
   ]
  },
  {
   "cell_type": "code",
   "execution_count": null,
   "metadata": {},
   "outputs": [],
   "source": [
    "train = pd.read_csv('train.csv')\n",
    "train_y = train['labels'].values ### <- there and there --v ###\n",
    "train_X = train[col for col in train.columns if col != 'labels'].values\n",
    "train_pca = PCA(n_components=2).fit_transform(train_X)\n",
    "plt.scatter(train_pca[:,0], train_pca[:,1])\n",
    "\n",
    "val = pd.read_csv('validation.csv')\n",
    "val_y = val['labels'].values ### <- there and there --v ###\n",
    "val_X = val[col for col in val.columns if col != 'labels'].values\n",
    "val_pca = PCA(n_components=2).fit_transform(val_X)\n",
    "plt.scatter(val_pca[:,0], val_pca[:,1])\n",
    "\n",
    "test = pd.read_csv('test.csv')\n",
    "test_y = test['labels'].values ### <- there and there --v ###\n",
    "test_X = test[col for col in test.columns if col != 'labels'].values\n",
    "test_pca = PCA(n_components=2).fit_transform(test_X)\n",
    "plt.scatter(test_pca[:,0], test_pca[:,1])"
   ]
  },
  {
   "cell_type": "markdown",
   "metadata": {},
   "source": [
    "Use functions to avoid repetition"
   ]
  },
  {
   "cell_type": "code",
   "execution_count": null,
   "metadata": {},
   "outputs": [],
   "source": [
    "def load_and_plot(path):\n",
    "    \"\"\"Load a data set and plot the first two principal components.\n",
    "    \n",
    "    Args:\n",
    "        path (str): The location of a CSV file.\n",
    "    \n",
    "    Returns:\n",
    "        tuple of ndarray: (features, labels)\n",
    "    \"\"\"\n",
    "    data = pd.read_csv(path)\n",
    "    y = data['label'].values\n",
    "    X = data[col for col in train.columns if col != 'label'].values\n",
    "    pca = PCA(n_components=2).fit_transform(X)\n",
    "    plt.scatter(pca[:,0], pca[:,1])\n",
    "    return X, y\n",
    "\n",
    "train_X, train_y = load_and_plot('train.csv')\n",
    "val_X, val_y = load_and_plot('validation.csv')\n",
    "test_X, test_y = load_and_plot('test.csv')"
   ]
  },
  {
   "cell_type": "code",
   "execution_count": null,
   "metadata": {},
   "outputs": [],
   "source": [
    "def load_and_plot(path):\n",
    "    \"\"\"Load a data set and plot the first two principal components.\n",
    "    \n",
    "    Args:\n",
    "        path (str): The location of a CSV file.\n",
    "    \n",
    "    Returns:\n",
    "        tuple of ndarray: (features, labels)\n",
    "    \"\"\"\n",
    "    \n",
    "    # load the data\n",
    "    data = pd.read_csv(path)\n",
    "    y = data['label'].values\n",
    "    X = data[col for col in train.columns if col != 'label'].values\n",
    "    \n",
    "    # plot the first two principle components\n",
    "    pca = PCA(n_components=2).fit_transform(X)\n",
    "    plt.scatter(pca[:,0], pca[:,1])\n",
    "    \n",
    "    # return loaded data\n",
    "    return X, y\n",
    "\n",
    "#the function do 3 things, and it violates the DO ONE THING principle of software engineering"
   ]
  },
  {
   "cell_type": "markdown",
   "metadata": {},
   "source": [
    "Do One Thing"
   ]
  },
  {
   "cell_type": "code",
   "execution_count": null,
   "metadata": {},
   "outputs": [],
   "source": [
    "def load_data(path):\n",
    "    \"\"\"Load a data set.\n",
    "    \n",
    "    Args:\n",
    "        path (str): The location of a CSV file.\n",
    "        \n",
    "    Returns:\n",
    "        tuple of ndarray: (features, labels)\n",
    "    \"\"\"\n",
    "    data = pd.read_csv(path)\n",
    "    y = data['labels'].values\n",
    "    X = data[col for col in data.columns\n",
    "             if col != 'labels'].values\n",
    "    return X, y"
   ]
  },
  {
   "cell_type": "code",
   "execution_count": null,
   "metadata": {},
   "outputs": [],
   "source": [
    "def plot_data(X):\n",
    "    \"\"\"Plot the first two principal components of a matrix.\n",
    "    \n",
    "    Args:\n",
    "        X (numpy.ndarray): The data to plot.\n",
    "    \"\"\"\n",
    "    pca = PCA(n_components=2).fit_transform(X)\n",
    "    plt.scatter(pca[:,0], pca[:,1])"
   ]
  },
  {
   "cell_type": "markdown",
   "metadata": {},
   "source": [
    "Advantages of doing one thing\n",
    "- The code becomes:\n",
    "- More exible\n",
    "- More easily understood\n",
    "- Simpler to test\n",
    "- Simpler to debug\n",
    "- Easier to change"
   ]
  },
  {
   "attachments": {
    "image.png": {
     "image/png": "[encoded data removed]"
    }
   },
   "cell_type": "markdown",
   "metadata": {},
   "source": [
    "Code smells and refactoring\n",
    "![image.png](attachment:image.png)\n",
    "book for software engineering"
   ]
  },
  {
   "cell_type": "code",
   "execution_count": null,
   "metadata": {},
   "outputs": [],
   "source": [
    "#Example\n",
    "def standardize(column):\n",
    "  \"\"\"Standardize the values in a column.\n",
    "\n",
    "  Args:\n",
    "    column (pandas Series): The data to standardize.\n",
    "\n",
    "  Returns:\n",
    "    pandas Series: the values as z-scores\n",
    "  \"\"\"\n",
    "  # Finish the function so that it returns the z-scores\n",
    "  z_score = (column - column.mean()) / column.std()\n",
    "  return z_score\n",
    "\n",
    "# Use the standardize() function to calculate the z-scores\n",
    "df['y1_z'] = standardize(df[\"y1_gpa\"])\n",
    "df['y2_z'] = standardize(df[\"y2_gpa\"])\n",
    "df['y3_z'] = standardize(df[\"y3_gpa\"])\n",
    "df['y4_z'] = standardize(df[\"y4_gpa\"])"
   ]
  },
  {
   "cell_type": "code",
   "execution_count": null,
   "metadata": {},
   "outputs": [],
   "source": [
    "#Example\n",
    "def mean(values):\n",
    "  \"\"\"Get the mean of a sorted list of values\n",
    "\n",
    "  Args:\n",
    "    values (iterable of float): A list of numbers\n",
    "\n",
    "  Returns:\n",
    "    float\n",
    "  \"\"\"\n",
    "  # Write the mean() function\n",
    "  mean = sum(values) / len(values)\n",
    "  return mean"
   ]
  },
  {
   "cell_type": "code",
   "execution_count": null,
   "metadata": {},
   "outputs": [],
   "source": [
    "def median(values):\n",
    "  \"\"\"Get the median of a sorted list of values\n",
    "\n",
    "  Args:\n",
    "    values (iterable of float): A list of numbers\n",
    "\n",
    "  Returns:\n",
    "    float\n",
    "  \"\"\"\n",
    "  # Write the median() function\n",
    "  midpoint = int(len(values) / 2)\n",
    "  if len(values) % 2 == 0:\n",
    "    median = (values[midpoint - 1] + values[midpoint]) / 2\n",
    "  else:\n",
    "    median = values[midpoint]\n",
    "  return median"
   ]
  },
  {
   "cell_type": "markdown",
   "metadata": {
    "id": "P3mX3O3m11_O"
   },
   "source": [
    "### Pass by assignment"
   ]
  },
  {
   "cell_type": "markdown",
   "metadata": {},
   "source": [
    "A surprising example"
   ]
  },
  {
   "cell_type": "code",
   "execution_count": null,
   "metadata": {},
   "outputs": [],
   "source": [
    "def foo(x):\n",
    "    x[0] = 99\n",
    "    \n",
    "my_list = [1, 2, 3]\n",
    "\n",
    "foo(my_list)\n",
    "\n",
    "print(my_list)\n",
    "# [99, 2, 3] #objects (such as lists) are multable"
   ]
  },
  {
   "cell_type": "code",
   "execution_count": null,
   "metadata": {},
   "outputs": [],
   "source": [
    "def bar(x):\n",
    "    x = x + 90\n",
    "    \n",
    "my_var = 3\n",
    "\n",
    "bar(my_var)\n",
    "\n",
    "print(my_var)\n",
    "# 3 #integers are imutable"
   ]
  },
  {
   "cell_type": "markdown",
   "metadata": {},
   "source": [
    "Digging deeper"
   ]
  },
  {
   "cell_type": "code",
   "execution_count": null,
   "metadata": {},
   "outputs": [],
   "source": [
    "a = [1, 2, 3]\n",
    "b = a\n",
    "a.append(4)\n",
    "print(b)\n",
    "# [1, 2, 3, 4]\n",
    "\n",
    "b.append(5)\n",
    "print(a)\n",
    "# [1, 2, 3, 4, 5]\n",
    "\n",
    "a = 42\n",
    "\n",
    "#initially, a equals to b, and if changes a or b, it will change one another. \n",
    "#but when change a to another value, it will not change b"
   ]
  },
  {
   "attachments": {
    "image.png": {
     "image/png": "[encoded data removed]"
    }
   },
   "cell_type": "markdown",
   "metadata": {},
   "source": [
    "![image.png](attachment:image.png)"
   ]
  },
  {
   "cell_type": "markdown",
   "metadata": {},
   "source": [
    "Pass by assignment"
   ]
  },
  {
   "cell_type": "code",
   "execution_count": null,
   "metadata": {},
   "outputs": [],
   "source": [
    "def foo(x):\n",
    "    x[0] = 99\n",
    "    \n",
    "my_list = [1, 2, 3]\n",
    "\n",
    "foo(my_list)\n",
    "\n",
    "print(my_list)\n",
    "# [99, 2, 3]"
   ]
  },
  {
   "attachments": {
    "image.png": {
     "image/png": "[encoded data removed]"
    }
   },
   "cell_type": "markdown",
   "metadata": {},
   "source": [
    "![image.png](attachment:image.png)"
   ]
  },
  {
   "cell_type": "code",
   "execution_count": null,
   "metadata": {},
   "outputs": [],
   "source": [
    "def bar(x):\n",
    "    x = x + 90\n",
    "\n",
    "my_var = 3\n",
    "\n",
    "bar(my_var)\n",
    "\n",
    "my_var\n",
    "# 3"
   ]
  },
  {
   "attachments": {
    "image.png": {
     "image/png": "[encoded data removed]"
    }
   },
   "cell_type": "markdown",
   "metadata": {},
   "source": [
    "![image.png](attachment:image.png)"
   ]
  },
  {
   "cell_type": "markdown",
   "metadata": {},
   "source": [
    "Immutable or Mutable?\n",
    "- Immutable\n",
    "    - int\n",
    "    - float\n",
    "    - bool\n",
    "    - string\n",
    "    - bytes\n",
    "    - tuple\n",
    "    - frozenset\n",
    "    - None\n",
    "- Mutable\n",
    "    - list\n",
    "    - dict\n",
    "    - set\n",
    "    - bytearray\n",
    "    - objects\n",
    "    - functions\n",
    "    - almost everything else!"
   ]
  },
  {
   "cell_type": "markdown",
   "metadata": {},
   "source": [
    "Mutable default arguments are dangerous!"
   ]
  },
  {
   "cell_type": "code",
   "execution_count": null,
   "metadata": {},
   "outputs": [],
   "source": [
    "def foo(var=[]):\n",
    "    var.append(1)\n",
    "    return var\n",
    "\n",
    "foo()\n",
    "# [1]\n",
    "\n",
    "foo()\n",
    "# [1, 1]"
   ]
  },
  {
   "cell_type": "code",
   "execution_count": null,
   "metadata": {},
   "outputs": [],
   "source": [
    "def foo(var=None):\n",
    "    if var is None:\n",
    "        var = []\n",
    "    var.append(1)\n",
    "    return var\n",
    "\n",
    "foo()\n",
    "# [1]\n",
    "\n",
    "foo()\n",
    "# [1]"
   ]
  },
  {
   "cell_type": "code",
   "execution_count": null,
   "metadata": {},
   "outputs": [],
   "source": [
    "#Example\n",
    "def store_lower(_dict, _string):\n",
    "  \"\"\"Add a mapping between `_string` and a lowercased version of `_string` to `_dict`\n",
    "\n",
    "  Args:\n",
    "    _dict (dict): The dictionary to update.\n",
    "    _string (str): The string to add.\n",
    "  \"\"\"\n",
    "  orig_string = _string\n",
    "  _string = _string.lower()\n",
    "  _dict[orig_string] = _string\n",
    "\n",
    "d = {}\n",
    "s = 'Hello'\n",
    "\n",
    "store_lower(d, s)\n",
    "\n",
    "#d = {'Hello': 'hello'}, s = 'Hello' -- string is immutable"
   ]
  },
  {
   "cell_type": "code",
   "execution_count": null,
   "metadata": {},
   "outputs": [],
   "source": [
    "#Example\n",
    "# Use an immutable variable for the default argument\n",
    "def better_add_column(values, df=None):\n",
    "  \"\"\"Add a column of `values` to a DataFrame `df`.\n",
    "  The column will be named \"col_<n>\" where \"n\" is\n",
    "  the numerical index of the column.\n",
    "\n",
    "  Args:\n",
    "    values (iterable): The values of the new column\n",
    "    df (DataFrame, optional): The DataFrame to update.\n",
    "      If no DataFrame is passed, one is created by default.\n",
    "\n",
    "  Returns:\n",
    "    DataFrame\n",
    "  \"\"\"\n",
    "  # Update the function to create a default DataFrame\n",
    "  if df is None:\n",
    "    df = pandas.DataFrame()\n",
    "  df['col_{}'.format(len(df.columns))] = values\n",
    "  return df\n",
    "\n",
    "#Use the None to avoid mutable problems"
   ]
  },
  {
   "cell_type": "markdown",
   "metadata": {
    "id": "zjUi1H13119C"
   },
   "source": [
    "## Context Managers"
   ]
  },
  {
   "cell_type": "markdown",
   "metadata": {
    "id": "lEgt2Q551163"
   },
   "source": [
    "### Using context managers"
   ]
  },
  {
   "cell_type": "markdown",
   "metadata": {},
   "source": [
    "What is a context manager?\n",
    "A context manager:\n",
    "- Sets up a context\n",
    "- Runs your code\n",
    "- Removes the context"
   ]
  },
  {
   "attachments": {
    "image.png": {
     "image/png": "[encoded data removed]"
    }
   },
   "cell_type": "markdown",
   "metadata": {},
   "source": [
    "A catered party\n",
    "![image.png](attachment:image.png)"
   ]
  },
  {
   "cell_type": "markdown",
   "metadata": {},
   "source": [
    "Context managers:\n",
    "- Set up a context\n",
    "- Run your code\n",
    "- Remove the context\n",
    "\n",
    "Caterers:\n",
    "- Set up the tables with food and drink\n",
    "- Let you and your friends have a party\n",
    "- Cleaned up and removed the tables"
   ]
  },
  {
   "cell_type": "markdown",
   "metadata": {},
   "source": [
    "A real-world example"
   ]
  },
  {
   "cell_type": "code",
   "execution_count": null,
   "metadata": {},
   "outputs": [],
   "source": [
    "with open('my_file.txt') as my_file:\n",
    "    text = my_file.read()\n",
    "    length = len(text)\n",
    "    \n",
    "print('The file is {} characters long'.format(length))"
   ]
  },
  {
   "cell_type": "markdown",
   "metadata": {},
   "source": [
    "open() does three things:\n",
    "- Sets up a context by opening a file\n",
    "- Lets you run any code you want on that file\n",
    "- Removes the context by closing the file"
   ]
  },
  {
   "cell_type": "markdown",
   "metadata": {},
   "source": [
    "Using a context manager"
   ]
  },
  {
   "cell_type": "code",
   "execution_count": null,
   "metadata": {},
   "outputs": [],
   "source": [
    "with <context-manager>(<args>) as <variable-name>:\n",
    "    # Run your code here\n",
    "    # This code is running \"inside the context\"\n",
    "    \n",
    "# This code runs after the context is removed"
   ]
  },
  {
   "cell_type": "code",
   "execution_count": null,
   "metadata": {},
   "outputs": [],
   "source": [
    "with open('my_file.txt') as my_file: #assign the variable to my_file\n",
    "    text = my_file.read()\n",
    "    length = len(text)\n",
    "    \n",
    "print('The file is {} characters long'.format(length))"
   ]
  },
  {
   "cell_type": "code",
   "execution_count": null,
   "metadata": {},
   "outputs": [],
   "source": [
    "#Example\n",
    "# Open \"alice.txt\" and assign the file to \"file\"\n",
    "with open('alice.txt') as file:\n",
    "  text = file.read()\n",
    "\n",
    "n = 0\n",
    "for word in text.split():\n",
    "  if word.lower() in ['cat', 'cats']:\n",
    "    n += 1\n",
    "\n",
    "print('Lewis Carroll uses the word \"cat\" {} times'.format(n))\n",
    "#<script.py> output:\n",
    "#     Lewis Carroll uses the word \"cat\" 24 times"
   ]
  },
  {
   "cell_type": "code",
   "execution_count": null,
   "metadata": {},
   "outputs": [],
   "source": [
    "#Example\n",
    "image = get_image_from_instagram()\n",
    "\n",
    "# Time how long process_with_numpy(image) takes to run\n",
    "with timer(): #does not need an as to create a variabel\n",
    "  print('Numpy version')\n",
    "  process_with_numpy(image)\n",
    "\n",
    "# Time how long process_with_pytorch(image) takes to run\n",
    "with timer():\n",
    "  print('Pytorch version')\n",
    "  process_with_pytorch(image)\n",
    "    \n",
    "# <script.py> output:\n",
    "#     Numpy version\n",
    "#     Processing..........done!\n",
    "#     Elapsed: 1.52 seconds\n",
    "#     Pytorch version\n",
    "#     Processing..........done!\n",
    "#     Elapsed: 0.34 seconds"
   ]
  },
  {
   "cell_type": "markdown",
   "metadata": {
    "id": "aj8D7GFo114V"
   },
   "source": [
    "### Writing context managers"
   ]
  },
  {
   "cell_type": "markdown",
   "metadata": {},
   "source": [
    "Two ways to define a context manager\n",
    "- Class-based\n",
    "- Function-based (focus on this one)"
   ]
  },
  {
   "cell_type": "markdown",
   "metadata": {},
   "source": [
    "How to create a context manager"
   ]
  },
  {
   "cell_type": "code",
   "execution_count": null,
   "metadata": {},
   "outputs": [],
   "source": [
    "def my_context():\n",
    "    # Add any set up code you need - not required\n",
    "    \n",
    "    yield #special kind of function\n",
    "    \n",
    "    # Add any teardown code you need (clean up the context here)"
   ]
  },
  {
   "cell_type": "markdown",
   "metadata": {},
   "source": [
    "1. Dene a function.\n",
    "2. (optional) Add any set up code your context needs.\n",
    "3. Use the \"yield\" keyword.\n",
    "4. (optional) Add any teardown code your context needs."
   ]
  },
  {
   "cell_type": "markdown",
   "metadata": {},
   "source": [
    "How to create a context manager"
   ]
  },
  {
   "cell_type": "code",
   "execution_count": null,
   "metadata": {},
   "outputs": [],
   "source": [
    "@contextlib.contextmanager #contextlib module\n",
    "def my_context():\n",
    "    # Add any set up code you need\n",
    "    yield\n",
    "    # Add any teardown code you need"
   ]
  },
  {
   "cell_type": "markdown",
   "metadata": {},
   "source": [
    "1. Dene a function.\n",
    "2. (optional) Add any set up code your context needs.\n",
    "3. Use the \"yield\" keyword.\n",
    "4. (optional) Add any teardown code your context needs.\n",
    "5. Add the `@contextlib.contextmanager` decorator."
   ]
  },
  {
   "cell_type": "markdown",
   "metadata": {},
   "source": [
    "The \"yield\" keyword"
   ]
  },
  {
   "cell_type": "code",
   "execution_count": null,
   "metadata": {},
   "outputs": [],
   "source": [
    "@contextlib.contextmanager\n",
    "def my_context():\n",
    "    print('hello')\n",
    "    yield 42\n",
    "    print('goodbye')\n",
    "\n",
    "with my_context() as foo:\n",
    "    print('foo is {}'.format(foo))\n",
    "\n",
    "# hello\n",
    "# foo is 42\n",
    "# goodbye"
   ]
  },
  {
   "cell_type": "markdown",
   "metadata": {},
   "source": [
    "Setup and teardown"
   ]
  },
  {
   "cell_type": "code",
   "execution_count": null,
   "metadata": {},
   "outputs": [],
   "source": [
    "@contextlib.contextmanager\n",
    "def database(url):\n",
    "    # set up database connection\n",
    "    db = postgres.connect(url)\n",
    "    \n",
    "    yield db\n",
    "    # tear down database connection\n",
    "    db.disconnect() #disconnect from the database\n",
    "    \n",
    "url = 'http://datacamp.com/data'\n",
    "with database(url) as my_db:\n",
    "    course_list = my_db.execute(\n",
    "        'SELECT * FROM courses'\n",
    "    )"
   ]
  },
  {
   "cell_type": "code",
   "execution_count": null,
   "metadata": {},
   "outputs": [],
   "source": [
    "@contextlib.contextmanager\n",
    "def in_dir(path):\n",
    "    # save current working directory\n",
    "    old_dir = os.getcwd()\n",
    "    \n",
    "    # switch to new working directory\n",
    "    os.chdir(path)\n",
    "    \n",
    "    yield\n",
    "   \n",
    "    # change back to previous\n",
    "    # working directory\n",
    "    os.chdir(old_dir)\n",
    "    \n",
    "    with in_dir('/data/project_1/'):\n",
    "        project_files = os.listdir()"
   ]
  },
  {
   "cell_type": "code",
   "execution_count": null,
   "metadata": {},
   "outputs": [],
   "source": [
    "#Example\n",
    "# Add a decorator that will make timer() a context manager\n",
    "@contextlib.contextmanager\n",
    "def timer():\n",
    "  \"\"\"Time the execution of a context block.\n",
    "\n",
    "  Yields:\n",
    "    None\n",
    "  \"\"\"\n",
    "  start = time.time()\n",
    "  # Send control back to the context block\n",
    "  yield\n",
    "  end = time.time()\n",
    "  print('Elapsed: {:.2f}s'.format(end - start))\n",
    "\n",
    "with timer():\n",
    "  print('This should take approximately 0.25 seconds')\n",
    "  time.sleep(0.25)\n",
    "\n",
    "# <script.py> output:\n",
    "#     This should take approximately 0.25 seconds\n",
    "#     Elapsed: 0.25s"
   ]
  },
  {
   "cell_type": "markdown",
   "metadata": {},
   "source": [
    "Notice that the three elements of a context manager are all here: a function definition, a yield statement, and the @contextlib.contextmanager decorator. It's also worth noticing that timer() is a context manager that does not return an explicit value, so yield is written by itself without specifying anything to return."
   ]
  },
  {
   "cell_type": "markdown",
   "metadata": {},
   "source": [
    "A read-only open() context manager\n",
    "\n",
    "\n",
    "You have a bunch of data files for your next deep learning project that took you months to collect and clean. It would be terrible if you accidentally overwrote one of those files when trying to read it in for training, so you decide to create a read-only version of the open() context manager to use in your project.\n",
    "\n",
    "The regular open() context manager:\n",
    "\n",
    "- takes a filename and a mode ('r' for read, 'w' for write, or 'a' for append)\n",
    "- opens the file for reading, writing, or appending\n",
    "- yields control back to the context, along with a reference to the file\n",
    "- waits for the context to finish\n",
    "- and then closes the file before exiting\n",
    "\n",
    "Your context manager will do the same thing, except it will only take the filename as an argument and it will only open the file for reading."
   ]
  },
  {
   "cell_type": "code",
   "execution_count": null,
   "metadata": {},
   "outputs": [],
   "source": [
    "#Example\n",
    "@contextlib.contextmanager\n",
    "def open_read_only(filename):\n",
    "  \"\"\"Open a file in read-only mode.\n",
    "\n",
    "  Args:\n",
    "    filename (str): The location of the file to read\n",
    "\n",
    "  Yields:\n",
    "    file object\n",
    "  \"\"\"\n",
    "  read_only_file = open(filename, mode='r')\n",
    "  # Yield read_only_file so it can be assigned to my_file\n",
    "  yield read_only_file\n",
    "  # Close read_only_file\n",
    "  read_only_file.close()\n",
    "\n",
    "with open_read_only('my_file.txt') as my_file:\n",
    "  print(my_file.read())\n",
    "\n",
    "# <script.py> output:\n",
    "#     Congratulations! You wrote a context manager that acts like \"open()\" but operates in read-only mode!"
   ]
  },
  {
   "cell_type": "markdown",
   "metadata": {
    "id": "4iZL_FJY112Q"
   },
   "source": [
    "### Advanced topics"
   ]
  },
  {
   "cell_type": "markdown",
   "metadata": {},
   "source": [
    "Nested contexts"
   ]
  },
  {
   "cell_type": "code",
   "execution_count": null,
   "metadata": {},
   "outputs": [],
   "source": [
    "def copy(src, dst):\n",
    "    \"\"\"Copy the contents of one file to another.\n",
    "    \n",
    "    Args:\n",
    "        src (str): File name of the file to be copied.\n",
    "        dst (str): Where to write the new file.\n",
    "    \"\"\"\n",
    "    # Open the source file and read in the contents\n",
    "    with open(src) as f_src:\n",
    "        contents = f_src.read()\n",
    "    # Open the destination file and write out the contents\n",
    "    with open(dst,'w') as f_dst:\n",
    "        f_dst.write(contents)"
   ]
  },
  {
   "cell_type": "code",
   "execution_count": null,
   "metadata": {},
   "outputs": [],
   "source": [
    "with open('my_file.txt') as my_file: #open one line at time\n",
    "    for line in my_file:\n",
    "        # do something"
   ]
  },
  {
   "cell_type": "code",
   "execution_count": null,
   "metadata": {},
   "outputs": [],
   "source": [
    "def copy(src, dst):\n",
    "    \"\"\"Copy the contents of one file to another.\n",
    "    \n",
    "    Args:\n",
    "        src (str): File name of the file to be copied.\n",
    "        dst (str): Where to write the new file.\n",
    "    \"\"\"\n",
    "    # Open both files\n",
    "    with open(src) as f_src:\n",
    "        with open(dst, 'w') as f_dst:\n",
    "            # Read and write each line, one at a time\n",
    "            for line in f_src:\n",
    "                f_dst.write(line)"
   ]
  },
  {
   "cell_type": "markdown",
   "metadata": {},
   "source": [
    "Handling errors"
   ]
  },
  {
   "cell_type": "code",
   "execution_count": null,
   "metadata": {},
   "outputs": [],
   "source": [
    "def get_printer(ip):\n",
    "    p = connect_to_printer(ip)\n",
    "    yield\n",
    "    # This MUST be called or no one else will\n",
    "    # be able to connect to the printer\n",
    "    p.disconnect()\n",
    "    print('disconnected from printer')\n",
    "    \n",
    "doc = {'text': 'This is my text.'}\n",
    "\n",
    "with get_printer('10.0.34.111') as printer:\n",
    "    printer.print_page(doc['txt'])\n",
    "       \n",
    "# Traceback (most recent call last):\n",
    "#     File \"<stdin>\", line 1, in <module>\n",
    "#         printer.print_page(doc['txt'])\n",
    "# KeyError: 'txt"
   ]
  },
  {
   "cell_type": "markdown",
   "metadata": {},
   "source": [
    "Handling errors"
   ]
  },
  {
   "cell_type": "code",
   "execution_count": null,
   "metadata": {},
   "outputs": [],
   "source": [
    "try:\n",
    "    # code that might raise an error\n",
    "except:\n",
    "    # do something about the error\n",
    "finally:\n",
    "    # this code runs no matter what"
   ]
  },
  {
   "cell_type": "code",
   "execution_count": null,
   "metadata": {},
   "outputs": [],
   "source": [
    "def get_printer(ip):\n",
    "p = connect_to_printer(ip)\n",
    "\n",
    "    try:\n",
    "        yield\n",
    "    finally:\n",
    "        p.disconnect()\n",
    "        print('disconnected from printer')\n",
    "\n",
    "doc = {'text': 'This is my text.'}\n",
    "with get_printer('10.0.34.111') as printer:\n",
    "    printer.print_page(doc['txt'])\n",
    "       \n",
    "# disconnected from printer\n",
    "# Traceback (most recent call last):\n",
    "#     File \"<stdin>\", line 1, in <module>\n",
    "#         printer.print_page(doc['txt'])\n",
    "# KeyError: 'txt'"
   ]
  },
  {
   "attachments": {
    "image.png": {
     "image/png": "[encoded data removed]"
    }
   },
   "cell_type": "markdown",
   "metadata": {},
   "source": [
    "Context manager patterns\n",
    "![image.png](attachment:image.png)\n",
    "Adapted from Dave Brondsema's talk at PyCon 2012:\n",
    "- https://youtu.be/cSbD5SKwak0?t=795"
   ]
  },
  {
   "cell_type": "code",
   "execution_count": null,
   "metadata": {},
   "outputs": [],
   "source": [
    "#Example\n",
    "# Use the \"stock('NVDA')\" context manager\n",
    "# and assign the result to the variable \"nvda\"\n",
    "with stock('NVDA') as nvda:\n",
    "  # Open 'NVDA.txt' for writing as f_out\n",
    "  with open('NVDA.txt', 'w') as f_out:\n",
    "    for _ in range(10):\n",
    "      value = nvda.price()\n",
    "      print('Logging ${:.2f} for NVDA'.format(value))\n",
    "      f_out.write('{:.2f}\\n'.format(value))"
   ]
  },
  {
   "cell_type": "code",
   "execution_count": null,
   "metadata": {},
   "outputs": [],
   "source": [
    "#Example\n",
    "def in_dir(directory):\n",
    "  \"\"\"Change current working directory to `directory`,\n",
    "  allow the user to run some code, and change back.\n",
    "\n",
    "  Args:\n",
    "    directory (str): The path to a directory to work in.\n",
    "  \"\"\"\n",
    "  current_dir = os.getcwd()\n",
    "  os.chdir(directory)\n",
    "\n",
    "  # Add code that lets you handle errors\n",
    "  try:\n",
    "    yield\n",
    "  # Ensure the directory is reset,\n",
    "  # whether there was an error or not\n",
    "  finally:\n",
    "    os.chdir(current_dir)"
   ]
  },
  {
   "cell_type": "markdown",
   "metadata": {
    "id": "5iGXVC4C11xN"
   },
   "source": [
    "## Decorators"
   ]
  },
  {
   "cell_type": "markdown",
   "metadata": {
    "id": "LeHCQE9I11uw"
   },
   "source": [
    "### Functions are objects"
   ]
  },
  {
   "cell_type": "markdown",
   "metadata": {},
   "source": [
    "Functions are just another type of object\n",
    "Python objects:"
   ]
  },
  {
   "cell_type": "code",
   "execution_count": null,
   "metadata": {},
   "outputs": [],
   "source": [
    "def x():\n",
    "    pass\n",
    "x = [1, 2, 3]\n",
    "x = {'foo': 42}\n",
    "x = pandas.DataFrame()\n",
    "x = 'This is a sentence.'\n",
    "x = 3\n",
    "x = 71.2\n",
    "import x"
   ]
  },
  {
   "cell_type": "markdown",
   "metadata": {},
   "source": [
    "Functions as variables - this is surprising"
   ]
  },
  {
   "cell_type": "code",
   "execution_count": null,
   "metadata": {},
   "outputs": [],
   "source": [
    "def my_function():\n",
    "    print('Hello')\n",
    "x = my_function\n",
    "type(x)\n",
    "# <type 'function'>\n",
    "\n",
    "x()\n",
    "# Hello\n",
    "\n",
    "PrintyMcPrintface = print\n",
    "PrintyMcPrintface('Python is awesome!')\n",
    "# Python is awesome!"
   ]
  },
  {
   "cell_type": "markdown",
   "metadata": {},
   "source": [
    "Lists and dictionaries of functions"
   ]
  },
  {
   "cell_type": "code",
   "execution_count": null,
   "metadata": {},
   "outputs": [],
   "source": [
    "list_of_functions = [my_function, open, print]\n",
    "list_of_functions[2]('I am printing with an element of a list!')\n",
    "# I am printing with an element of a list!\n",
    "\n",
    "dict_of_functions = {\n",
    "    'func1': my_function,\n",
    "    'func2': open,\n",
    "    'func3': print\n",
    "}\n",
    "dict_of_functions['func3']('I am printing with a value of a dict!')\n",
    "# I am printing with a value of a dict!"
   ]
  },
  {
   "cell_type": "markdown",
   "metadata": {},
   "source": [
    "Referencing a function"
   ]
  },
  {
   "cell_type": "code",
   "execution_count": null,
   "metadata": {},
   "outputs": [],
   "source": [
    "def my_function():\n",
    "    return 42\n",
    "x = my_function\n",
    "my_function()\n",
    "# 42\n",
    "\n",
    "my_function\n",
    "# <function my_function at 0x7f475332a730>"
   ]
  },
  {
   "cell_type": "markdown",
   "metadata": {},
   "source": [
    "Functions as arguments"
   ]
  },
  {
   "cell_type": "code",
   "execution_count": null,
   "metadata": {},
   "outputs": [],
   "source": [
    "def has_docstring(func):\n",
    "    \"\"\"Check to see if the function\n",
    "    `func` has a docstring.\n",
    "\n",
    "    Args:\n",
    "        func (callable): A function.\n",
    "    \n",
    "    Returns:\n",
    "        bool\n",
    "    \"\"\"\n",
    "return func.__doc__is not None"
   ]
  },
  {
   "cell_type": "code",
   "execution_count": null,
   "metadata": {},
   "outputs": [],
   "source": [
    "def no():\n",
    "    return 42\n",
    "\n",
    "def yes():\n",
    "    \"\"\"Return the value 42\n",
    "    \"\"\"\n",
    "    return 42\n",
    "\n",
    "has_docstring(no)\n",
    "# False\n",
    "has_docstring(yes)\n",
    "# True"
   ]
  },
  {
   "cell_type": "markdown",
   "metadata": {},
   "source": [
    "Defining a function inside another function"
   ]
  },
  {
   "cell_type": "code",
   "execution_count": null,
   "metadata": {},
   "outputs": [],
   "source": [
    "def foo():\n",
    "    x = [3, 6, 9]\n",
    "\n",
    "    def bar(y):\n",
    "        print(y)\n",
    "\n",
    "    for value in x:\n",
    "        bar(x)"
   ]
  },
  {
   "cell_type": "code",
   "execution_count": null,
   "metadata": {},
   "outputs": [],
   "source": [
    "def foo(x, y):\n",
    "    if x > 4 and x < 10 and y > 4 and y < 10:\n",
    "        print(x * y)\n",
    "\n",
    "def foo(x, y): #makes the code easier to read\n",
    "    def in_range(v): \n",
    "        return v > 4 and v < 10\n",
    "\n",
    "if in_range(x) and in_range(y):\n",
    "    print(x * y)"
   ]
  },
  {
   "cell_type": "markdown",
   "metadata": {},
   "source": [
    "Functions as return values"
   ]
  },
  {
   "cell_type": "code",
   "execution_count": null,
   "metadata": {},
   "outputs": [],
   "source": [
    "def get_function():\n",
    "    def print_me(s):\n",
    "        print(s)\n",
    "    return print_me\n",
    "new_func = get_function()\n",
    "new_func('This is a sentence.')\n",
    "# This is a sentence."
   ]
  },
  {
   "cell_type": "code",
   "execution_count": null,
   "metadata": {},
   "outputs": [],
   "source": [
    "#Example\n",
    "# Add the missing function references to the function map\n",
    "function_map = {\n",
    "  'mean': mean,\n",
    "  'std': std,\n",
    "  'minimum': minimum,\n",
    "  'maximum': maximum\n",
    "}\n",
    "\n",
    "data = load_data()\n",
    "print(data)\n",
    "\n",
    "func_name = get_user_input()\n",
    "\n",
    "# Call the chosen function and pass \"data\" as an argument\n",
    "function_map[func_name](data)\n",
    "\n",
    "# <script.py> output:\n",
    "#        height  weight\n",
    "#     0    72.1     198\n",
    "#     1    69.8     204\n",
    "#     2    63.2     164\n",
    "#     3    64.7     238\n",
    "#     Type a command: \n",
    "#     > minimum\n",
    "#     height     63.2\n",
    "#     weight    164.0\n",
    "#     dtype: float64"
   ]
  },
  {
   "cell_type": "code",
   "execution_count": null,
   "metadata": {},
   "outputs": [],
   "source": [
    "#Example\n",
    "# Call has_docstring() on the load_and_plot_data() function\n",
    "ok = has_docstring(load_and_plot_data)\n",
    "\n",
    "if not ok:\n",
    "  print(\"load_and_plot_data() doesn't have a docstring!\")\n",
    "else:\n",
    "  print(\"load_and_plot_data() looks ok\")\n",
    "\n",
    "# Call has_docstring() on the as_2D() function\n",
    "ok = has_docstring(as_2D)\n",
    "\n",
    "if not ok:\n",
    "  print(\"as_2D() doesn't have a docstring!\")\n",
    "else:\n",
    "  print(\"as_2D() looks ok\")\n",
    "\n",
    "# Call has_docstring() on the log_product() function\n",
    "ok = has_docstring(log_product)\n",
    "\n",
    "if not ok:\n",
    "  print(\"log_product() doesn't have a docstring!\")\n",
    "else:\n",
    "  print(\"log_product() looks ok\")"
   ]
  },
  {
   "cell_type": "code",
   "execution_count": null,
   "metadata": {},
   "outputs": [],
   "source": [
    "#Example\n",
    "def create_math_function(func_name):\n",
    "  if func_name == 'add':\n",
    "    def add(a, b):\n",
    "      return a + b\n",
    "    return add\n",
    "  elif func_name == 'subtract':\n",
    "    # Define the subtract() function\n",
    "    def subtract (a,b):\n",
    "      return a - b\n",
    "    return subtract\n",
    "  else:\n",
    "    print(\"I don't know that one\")\n",
    "    \n",
    "add = create_math_function('add')\n",
    "print('5 + 2 = {}'.format(add(5, 2)))\n",
    "\n",
    "subtract = create_math_function('subtract')\n",
    "print('5 - 2 = {}'.format(subtract(5, 2)))"
   ]
  },
  {
   "cell_type": "markdown",
   "metadata": {
    "id": "HikRg08v23Yb"
   },
   "source": [
    "### Scope"
   ]
  },
  {
   "attachments": {
    "image-2.png": {
     "image/png": "[encoded data removed]"
    },
    "image.png": {
     "image/png": "[encoded data removed]"
    }
   },
   "cell_type": "markdown",
   "metadata": {},
   "source": [
    "Names\n",
    "![image.png](attachment:image.png)\n",
    "Scope\n",
    "![image-2.png](attachment:image-2.png)"
   ]
  },
  {
   "cell_type": "markdown",
   "metadata": {},
   "source": [
    "Scope"
   ]
  },
  {
   "cell_type": "code",
   "execution_count": null,
   "metadata": {},
   "outputs": [],
   "source": [
    "x = 7\n",
    "y = 200\n",
    "print(x)\n",
    "# 7\n",
    "\n",
    "def foo():\n",
    "    x = 42\n",
    "    print(x)\n",
    "    print(y)\n",
    "\n",
    "foo()\n",
    "# 42 # do not change the value of x outside the function\n",
    "# 200\n",
    "\n",
    "print(x)\n",
    "# 7"
   ]
  },
  {
   "attachments": {
    "image.png": {
     "image/png": "[encoded data removed]"
    }
   },
   "cell_type": "markdown",
   "metadata": {},
   "source": [
    "![image.png](attachment:image.png)"
   ]
  },
  {
   "cell_type": "markdown",
   "metadata": {},
   "source": [
    "The global keyword"
   ]
  },
  {
   "cell_type": "code",
   "execution_count": null,
   "metadata": {},
   "outputs": [],
   "source": [
    "x = 7\n",
    "def foo():\n",
    "    x = 42\n",
    "    print(x)\n",
    "foo()\n",
    "# 42\n",
    "print(x)\n",
    "# 7"
   ]
  },
  {
   "cell_type": "code",
   "execution_count": null,
   "metadata": {},
   "outputs": [],
   "source": [
    "x = 7\n",
    "def foo():\n",
    "    global x\n",
    "    x = 42\n",
    "    print(x)\n",
    "foo()\n",
    "# 42\n",
    "print(x)\n",
    "# 42"
   ]
  },
  {
   "cell_type": "markdown",
   "metadata": {},
   "source": [
    "The nonlocal keyword"
   ]
  },
  {
   "cell_type": "code",
   "execution_count": null,
   "metadata": {},
   "outputs": [],
   "source": [
    "def foo():\n",
    "    x = 10\n",
    "    def bar():\n",
    "        x = 200\n",
    "        print(x)\n",
    "    bar()\n",
    "    print(x)\n",
    "foo()\n",
    "# 200\n",
    "# 10"
   ]
  },
  {
   "cell_type": "code",
   "execution_count": null,
   "metadata": {},
   "outputs": [],
   "source": [
    "def foo():\n",
    "    x = 10\n",
    "    def bar():\n",
    "        nonlocal x\n",
    "        x = 200\n",
    "        print(x)\n",
    "    bar()\n",
    "    print(x)\n",
    "foo()\n",
    "# 200\n",
    "# 200"
   ]
  },
  {
   "cell_type": "code",
   "execution_count": null,
   "metadata": {},
   "outputs": [],
   "source": [
    "#Example\n",
    "x = 50\n",
    "\n",
    "def one():\n",
    "  x = 10\n",
    "\n",
    "def two():\n",
    "  global x\n",
    "  x = 30\n",
    "\n",
    "def three():\n",
    "  x = 100\n",
    "  print(x)\n",
    "\n",
    "for func in [one, two, three]:\n",
    "  func()\n",
    "  print(x)\n",
    "    \n",
    "#50, 30, 100, 30"
   ]
  },
  {
   "cell_type": "markdown",
   "metadata": {},
   "source": [
    "- Good job! one() doesn't change the global x, so the first print() statement prints 50.\n",
    "- two() does change the global x so the second print() statement prints 30.\n",
    "- The print() statement inside the function three() is referencing the x value that is local to three(), so it prints 100.\n",
    "- But three() does not change the global x value so the last print() statement prints 30 again."
   ]
  },
  {
   "cell_type": "code",
   "execution_count": null,
   "metadata": {},
   "outputs": [],
   "source": [
    "#Example\n",
    "call_count = 0\n",
    "\n",
    "def my_function():\n",
    "  # Use a keyword that lets us update call_count \n",
    "  global call_count\n",
    "  call_count += 1\n",
    "  \n",
    "  print(\"You've called my_function() {} times!\".format(\n",
    "    call_count\n",
    "  ))\n",
    "  \n",
    "for _ in range(20):\n",
    "  my_function()\n",
    "\n",
    "def read_files():\n",
    "  file_contents = None\n",
    "  \n",
    "  def save_contents(filename):\n",
    "    # Add a keyword that lets us modify file_contents\n",
    "    nonlocal file_contents\n",
    "    if file_contents is None:\n",
    "      file_contents = []\n",
    "    with open(filename) as fin:\n",
    "      file_contents.append(fin.read())\n",
    "      \n",
    "  for filename in ['1984.txt', 'MobyDick.txt', 'CatsEye.txt']:\n",
    "    save_contents(filename)\n",
    "    \n",
    "  return file_contents\n",
    "\n",
    "print('\\n'.join(read_files()))\n",
    "\n",
    "def wait_until_done():\n",
    "  def check_is_done():\n",
    "    # Add a keyword so that wait_until_done() \n",
    "    # doesn't run forever\n",
    "    global done\n",
    "    if random.random() < 0.1:\n",
    "      done = True\n",
    "      \n",
    "  while not done:\n",
    "    check_is_done()\n",
    "\n",
    "done = False\n",
    "wait_until_done()\n",
    "\n",
    "print('Work done? {}'.format(done))"
   ]
  },
  {
   "cell_type": "markdown",
   "metadata": {
    "id": "IurLVTyk23WL"
   },
   "source": [
    "### Closures"
   ]
  },
  {
   "cell_type": "markdown",
   "metadata": {},
   "source": [
    "Attaching nonlocal variables to nested functions"
   ]
  },
  {
   "cell_type": "code",
   "execution_count": null,
   "metadata": {},
   "outputs": [],
   "source": [
    "def foo():\n",
    "    a = 5\n",
    "    def bar():\n",
    "        print(a)\n",
    "    return bar\n",
    "func = foo()\n",
    "func()\n",
    "# 5"
   ]
  },
  {
   "cell_type": "code",
   "execution_count": null,
   "metadata": {},
   "outputs": [],
   "source": [
    "# Closures!\n",
    "type(func.__closure__)\n",
    "# <class 'tuple'>\n",
    "len(func.__closure__)\n",
    "# 1\n",
    "func.__closure__[0].cell_contents\n",
    "# 5"
   ]
  },
  {
   "cell_type": "markdown",
   "metadata": {},
   "source": [
    "Closures and deletion"
   ]
  },
  {
   "cell_type": "code",
   "execution_count": null,
   "metadata": {},
   "outputs": [],
   "source": [
    "x = 25\n",
    "def foo(value):\n",
    "    def bar():\n",
    "        print(value)\n",
    "    return bar\n",
    "my_func = foo(x)\n",
    "my_func()\n",
    "# 25\n",
    "\n",
    "del(x)\n",
    "my_func()\n",
    "# 25"
   ]
  },
  {
   "cell_type": "code",
   "execution_count": null,
   "metadata": {},
   "outputs": [],
   "source": [
    "len(my_func.__closure__)\n",
    "# 1\n",
    "\n",
    "my_func.__closure__[0].cell_contents\n",
    "# 25"
   ]
  },
  {
   "cell_type": "markdown",
   "metadata": {},
   "source": [
    "Closures and overwriting"
   ]
  },
  {
   "cell_type": "code",
   "execution_count": null,
   "metadata": {},
   "outputs": [],
   "source": [
    "x = 25\n",
    "def foo(value):\n",
    "    def bar():\n",
    "        print(value)\n",
    "    return bar\n",
    "x = foo(x)\n",
    "x()\n",
    "# 25"
   ]
  },
  {
   "cell_type": "code",
   "execution_count": null,
   "metadata": {},
   "outputs": [],
   "source": [
    "len(x.__closure__) #tem um valor no closure, que segue sendo o 25\n",
    "# 1\n",
    "\n",
    "x.__closure__[0].cell_contents\n",
    "# 25"
   ]
  },
  {
   "cell_type": "markdown",
   "metadata": {},
   "source": [
    "Definitions - nested function\n",
    "Nested function: A function defined inside another function."
   ]
  },
  {
   "cell_type": "code",
   "execution_count": null,
   "metadata": {},
   "outputs": [],
   "source": [
    "# outer function\n",
    "def parent():\n",
    "    # nested function\n",
    "    def child():\n",
    "        pass\n",
    "return child"
   ]
  },
  {
   "cell_type": "markdown",
   "metadata": {},
   "source": [
    "Definitions - nonlocal variables\n",
    "\n",
    "Nonlocal variables: Variables defined in the parent function that are used by the child function"
   ]
  },
  {
   "cell_type": "code",
   "execution_count": null,
   "metadata": {},
   "outputs": [],
   "source": [
    "def parent(arg_1, arg_2):\n",
    "    # From child()'s point of view,\n",
    "    # `value` and `my_dict` are nonlocal variables,\n",
    "    # as are`arg_1`and `arg_2`.\n",
    "    value = 22\n",
    "    my_dict = {'chocolate': 'yummy'}\n",
    "\n",
    "    def child():\n",
    "        print(2 * value)\n",
    "        print(my_dict['chocolate'])\n",
    "        print(arg_1 + arg_2)\n",
    "    \n",
    "return child"
   ]
  },
  {
   "cell_type": "markdown",
   "metadata": {},
   "source": [
    "Closure: Nonlocal variables attached to a returned function"
   ]
  },
  {
   "cell_type": "code",
   "execution_count": null,
   "metadata": {},
   "outputs": [],
   "source": [
    "def parent(arg_1, arg_2):\n",
    "    value = 22\n",
    "    my_dict = {'chocolate': 'yummy'}\n",
    "    def child():\n",
    "        print(2 * value)\n",
    "        print(my_dict['chocolate'])\n",
    "        print(arg_1 + arg_2)\n",
    "    return child\n",
    "\n",
    "new_function = parent(3, 4)\n",
    "print([cell.cell_contents for cell in new_function.__closure__])\n",
    "\n",
    "# [3, 4, 22, {'chocolate': 'yummy'}]"
   ]
  },
  {
   "cell_type": "markdown",
   "metadata": {},
   "source": [
    "Why does all of this matter?\n",
    "\n",
    "Decorators use:\n",
    "- Functions as objects\n",
    "- Nested functions\n",
    "- Nonlocal scope\n",
    "- Closures"
   ]
  },
  {
   "cell_type": "code",
   "execution_count": null,
   "metadata": {},
   "outputs": [],
   "source": [
    "#Example\n",
    "def return_a_func(arg1, arg2):\n",
    "  def new_func():\n",
    "    print('arg1 was {}'.format(arg1))\n",
    "    print('arg2 was {}'.format(arg2))\n",
    "  return new_func\n",
    "    \n",
    "my_func = return_a_func(2, 17)\n",
    "\n",
    "# Show that my_func()'s closure is not None\n",
    "print(my_func.__closure__ is not None)\n",
    "\n",
    "# Show that there are two variables in the closure\n",
    "print(len(my_func.__closure__) == 2)\n",
    "\n",
    "# Get the values of the variables in the closure\n",
    "closure_values = [\n",
    "  my_func.__closure__[i].cell_contents for i in range(2)\n",
    "]\n",
    "print(closure_values == [2, 17])"
   ]
  },
  {
   "cell_type": "code",
   "execution_count": null,
   "metadata": {},
   "outputs": [],
   "source": [
    "#Example\n",
    "def my_special_function():\n",
    "  print('You are running my_special_function()')\n",
    "  \n",
    "def get_new_func(func):\n",
    "  def call_func():\n",
    "    func()\n",
    "  return call_func\n",
    "\n",
    "new_func = get_new_func(my_special_function)\n",
    "\n",
    "# Redefine my_special_function() to just print \"hello\"\n",
    "def my_special_function():\n",
    "  print(\"hello\")\n",
    "\n",
    "new_func()\n",
    "\n",
    "#Example part 2\n",
    "def my_special_function():\n",
    "  print('You are running my_special_function()')\n",
    "  \n",
    "def get_new_func(func):\n",
    "  def call_func():\n",
    "    func()\n",
    "  return call_func\n",
    "\n",
    "new_func = get_new_func(my_special_function)\n",
    "\n",
    "# Delete my_special_function()\n",
    "del my_special_function\n",
    "\n",
    "new_func()\n",
    "\n",
    "#Example part 3\n",
    "def my_special_function():\n",
    "  print('You are running my_special_function()')\n",
    "  \n",
    "def get_new_func(func):\n",
    "  def call_func():\n",
    "    func()\n",
    "  return call_func\n",
    "\n",
    "# Overwrite `my_special_function` with the new function\n",
    "my_special_function = get_new_func(my_special_function)\n",
    "\n",
    "my_special_function()"
   ]
  },
  {
   "cell_type": "markdown",
   "metadata": {
    "id": "MQ43bLgU23Tg"
   },
   "source": [
    "### Decorators"
   ]
  },
  {
   "attachments": {
    "image.png": {
     "image/png": "[encoded data removed]"
    }
   },
   "cell_type": "markdown",
   "metadata": {},
   "source": [
    "Functions\n",
    "![image.png](attachment:image.png)"
   ]
  },
  {
   "attachments": {
    "image.png": {
     "image/png": "[encoded data removed]"
    }
   },
   "cell_type": "markdown",
   "metadata": {},
   "source": [
    "Decorators (changes function behavior)\n",
    "![image.png](attachment:image.png)"
   ]
  },
  {
   "attachments": {
    "image.png": {
     "image/png": "[encoded data removed]"
    }
   },
   "cell_type": "markdown",
   "metadata": {},
   "source": [
    "Modify inputs\n",
    "![image.png](attachment:image.png)"
   ]
  },
  {
   "attachments": {
    "image.png": {
     "image/png": "[encoded data removed]"
    }
   },
   "cell_type": "markdown",
   "metadata": {},
   "source": [
    "Modify outputs\n",
    "![image.png](attachment:image.png)"
   ]
  },
  {
   "attachments": {
    "image.png": {
     "image/png": "[encoded data removed]"
    }
   },
   "cell_type": "markdown",
   "metadata": {},
   "source": [
    "Modify function\n",
    "![image.png](attachment:image.png)"
   ]
  },
  {
   "cell_type": "markdown",
   "metadata": {},
   "source": [
    "What does a decorator look like?"
   ]
  },
  {
   "cell_type": "code",
   "execution_count": null,
   "metadata": {},
   "outputs": [],
   "source": [
    "@double_args #decorator name - multiply by two all arguments\n",
    "def multiply(a, b):\n",
    "    return a * b\n",
    "multiply(1, 5)\n",
    "# 20"
   ]
  },
  {
   "cell_type": "markdown",
   "metadata": {},
   "source": [
    "The double_args decorator"
   ]
  },
  {
   "cell_type": "code",
   "execution_count": null,
   "metadata": {},
   "outputs": [],
   "source": [
    "def multiply(a, b):\n",
    "    return a * b\n",
    "def double_args(func):\n",
    "    return func\n",
    "new_multiply = double_args(multiply)\n",
    "new_multiply(1, 5)\n",
    "# 5\n",
    "multiply(1, 5)\n",
    "# 5"
   ]
  },
  {
   "cell_type": "markdown",
   "metadata": {},
   "source": [
    "The double_args decorator"
   ]
  },
  {
   "cell_type": "code",
   "execution_count": null,
   "metadata": {},
   "outputs": [],
   "source": [
    "def multiply(a, b):\n",
    "    return a * b\n",
    "def double_args(func):\n",
    "# Define a new function that we can modify\n",
    "    def wrapper(a, b):\n",
    "    # For now, just call the unmodified function\n",
    "        return func(a, b)\n",
    "    # Return the new function\n",
    "    return wrapper\n",
    "new_multiply = double_args(multiply)\n",
    "new_multiply(1, 5)\n",
    "# 5"
   ]
  },
  {
   "cell_type": "code",
   "execution_count": null,
   "metadata": {},
   "outputs": [],
   "source": [
    "def multiply(a, b):\n",
    "    return a * b\n",
    "def double_args(func):\n",
    "    def wrapper(a, b):\n",
    "    # Call the passed in function, but double each argument\n",
    "        return func(a * 2, b * 2)\n",
    "    return wrapper\n",
    "new_multiply = double_args(multiply)\n",
    "new_multiply(1, 5)\n",
    "# 20"
   ]
  },
  {
   "cell_type": "code",
   "execution_count": null,
   "metadata": {},
   "outputs": [],
   "source": [
    "def multiply(a, b):\n",
    "    return a * b\n",
    "def double_args(func):\n",
    "    def wrapper(a, b):\n",
    "        return func(a * 2, b * 2)\n",
    "    return wrapper\n",
    "multiply = double_args(multiply)\n",
    "multiply(1, 5)\n",
    "# 20\n",
    "\n",
    "multiply.__closure__[0].cell_contents\n",
    "# <function multiply at 0x7f0060c9e620>"
   ]
  },
  {
   "cell_type": "markdown",
   "metadata": {},
   "source": [
    "Decorator syntax (both are equivalent)"
   ]
  },
  {
   "cell_type": "code",
   "execution_count": null,
   "metadata": {},
   "outputs": [],
   "source": [
    "def double_args(func):\n",
    "    def wrapper(a, b):\n",
    "        return func(a * 2, b * 2)\n",
    "    return wrapper\n",
    "\n",
    "def multiply(a, b):\n",
    "    return a * b\n",
    "\n",
    "multiply = double_args(multiply)\n",
    "\n",
    "multiply(1, 5)\n",
    "# 20"
   ]
  },
  {
   "cell_type": "code",
   "execution_count": null,
   "metadata": {},
   "outputs": [],
   "source": [
    "def double_args(func):\n",
    "    def wrapper(a, b):\n",
    "        return func(a * 2, b * 2)\n",
    "    return wrapper\n",
    "\n",
    "@double_args\n",
    "def multiply(a, b):\n",
    "    return a * b\n",
    "\n",
    "multiply(1, 5)\n",
    "# 20"
   ]
  },
  {
   "cell_type": "code",
   "execution_count": null,
   "metadata": {},
   "outputs": [],
   "source": [
    "#Example\n",
    "def my_function(a, b, c):\n",
    "  print(a + b + c)\n",
    "\n",
    "# Decorate my_function() with the print_args() decorator\n",
    "my_function = print_args(my_function)\n",
    "\n",
    "my_function(1, 2, 3)\n",
    "\n",
    "#Example\n",
    "# Decorate my_function() with the print_args() decorator\n",
    "@print_args\n",
    "def my_function(a, b, c):\n",
    "  print(a + b + c)\n",
    "\n",
    "my_function(1, 2, 3)"
   ]
  },
  {
   "cell_type": "code",
   "execution_count": null,
   "metadata": {},
   "outputs": [],
   "source": [
    "#Example\n",
    "def print_before_and_after(func):\n",
    "  def wrapper(*args):\n",
    "    print('Before {}'.format(func.__name__))\n",
    "    # Call the function being decorated with *args\n",
    "    func(*args)\n",
    "    print('After {}'.format(func.__name__))\n",
    "  # Return the nested function\n",
    "  return wrapper\n",
    "\n",
    "@print_before_and_after\n",
    "def multiply(a, b):\n",
    "  print(a * b)\n",
    "\n",
    "multiply(5, 10)"
   ]
  },
  {
   "cell_type": "markdown",
   "metadata": {
    "id": "o9zLY9fA23RZ"
   },
   "source": [
    "## More on Decorators"
   ]
  },
  {
   "cell_type": "markdown",
   "metadata": {
    "id": "RW3_H12123OL"
   },
   "source": [
    "### Real-world examples"
   ]
  },
  {
   "cell_type": "markdown",
   "metadata": {},
   "source": [
    "Time a function"
   ]
  },
  {
   "cell_type": "code",
   "execution_count": null,
   "metadata": {},
   "outputs": [],
   "source": [
    "import time\n",
    "def timer(func):\n",
    "    \"\"\"A decorator that prints how long a function took to run.\n",
    "    \n",
    "    Args:\n",
    "        func (callable): The function being decorated.\n",
    "        \n",
    "    Returns:\n",
    "        callable: The decorated function.\n",
    "    \"\"\""
   ]
  },
  {
   "cell_type": "code",
   "execution_count": null,
   "metadata": {},
   "outputs": [],
   "source": [
    "import time\n",
    "\n",
    "def timer(func):\n",
    "\"\"\"A decorator that prints how long a function took to run.\"\"\"\n",
    "    # Define the wrapper function to return.\n",
    "    def wrapper(*args, **kwargs):\n",
    "        # When wrapper() is called, get the current time.\n",
    "        t_start = time.time()\n",
    "        \n",
    "        # Call the decorated function and store the result.\n",
    "        result = func(*args, **kwargs)\n",
    "        \n",
    "        # Get the total time it took to run, and print it.\n",
    "        t_total = time.time() - t_start\n",
    "        print('{} took {}s'.format(func.__name__, t_total))\n",
    "        \n",
    "        return result\n",
    "\n",
    "    return wrapper"
   ]
  },
  {
   "cell_type": "markdown",
   "metadata": {},
   "source": [
    "Using timer()"
   ]
  },
  {
   "cell_type": "code",
   "execution_count": null,
   "metadata": {},
   "outputs": [],
   "source": [
    "@timer\n",
    "def sleep_n_seconds(n):\n",
    "    time.sleep(n)\n",
    "sleep_n_seconds(5)\n",
    "# sleep_n_seconds took 5.0050950050354s\n",
    "\n",
    "sleep_n_seconds(10)\n",
    "# sleep_n_seconds took 10.010067701339722s"
   ]
  },
  {
   "cell_type": "code",
   "execution_count": null,
   "metadata": {},
   "outputs": [],
   "source": [
    "def memoize(func):\n",
    "    \"\"\"Store the results of the decorated function for fast lookup\n",
    "    \"\"\"\n",
    "    # Store results in a dict that maps arguments to results\n",
    "    cache = {}\n",
    "    \n",
    "    # Define the wrapper function to return.\n",
    "    def wrapper(*args, **kwargs):\n",
    "        # If these arguments haven't been seen before,\n",
    "        if (args, kwargs) not in cache:\n",
    "            # Call func() and store the result.\n",
    "            cache[(args, kwargs)] = func(*args, **kwargs)\n",
    "        return cache[(args, kwargs)]\n",
    "    return wrapper"
   ]
  },
  {
   "cell_type": "code",
   "execution_count": null,
   "metadata": {},
   "outputs": [],
   "source": [
    "@memoize\n",
    "def slow_function(a, b):\n",
    "    print('Sleeping...')\n",
    "    time.sleep(5)\n",
    "    return a + b\n",
    "\n",
    "slow_function(3, 4)\n",
    "# Sleeping...\n",
    "# 7\n",
    "\n",
    "slow_function(3, 4)\n",
    "# 7 #immediately returns, already in the cache"
   ]
  },
  {
   "cell_type": "markdown",
   "metadata": {},
   "source": [
    "When to use decorators\n",
    "- Add common behavior to multiple functions"
   ]
  },
  {
   "cell_type": "code",
   "execution_count": null,
   "metadata": {},
   "outputs": [],
   "source": [
    "@timer\n",
    "def foo():\n",
    "    # do some computation\n",
    "    \n",
    "@timer\n",
    "def bar():\n",
    "    # do some other computation\n",
    "\n",
    "@timer\n",
    "def baz():\n",
    "    # do something else"
   ]
  },
  {
   "cell_type": "code",
   "execution_count": null,
   "metadata": {},
   "outputs": [],
   "source": [
    "#Example\n",
    "def print_return_type(func):\n",
    "  # Define wrapper(), the decorated function\n",
    "  def wrapper(*args, **kwargs):\n",
    "    # Call the function being decorated\n",
    "    result = func(*args, **kwargs)\n",
    "    print('{}() returned type {}'.format(\n",
    "      func.__name__, type(result)\n",
    "    ))\n",
    "    return result\n",
    "  # Return the decorated function\n",
    "  return wrapper\n",
    "  \n",
    "@print_return_type\n",
    "def foo(value):\n",
    "  return value\n",
    "  \n",
    "print(foo(42))\n",
    "print(foo([1, 2, 3]))\n",
    "print(foo({'a': 42}))\n",
    "\n",
    "# <script.py> output:\n",
    "#     foo() returned type <class 'int'>\n",
    "#     42\n",
    "#     foo() returned type <class 'list'>\n",
    "#     [1, 2, 3]\n",
    "#     foo() returned type <class 'dict'>\n",
    "#     {'a': 42}"
   ]
  },
  {
   "cell_type": "code",
   "execution_count": null,
   "metadata": {},
   "outputs": [],
   "source": [
    "#Example\n",
    "def counter(func):\n",
    "  def wrapper(*args, **kwargs):\n",
    "    wrapper.count += 1\n",
    "    # Call the function being decorated and return the result\n",
    "    return func(*args, **kwargs)\n",
    "  wrapper.count = 0\n",
    "  # Return the new decorated function\n",
    "  return wrapper\n",
    "\n",
    "# Decorate foo() with the counter() decorator\n",
    "@counter\n",
    "def foo():\n",
    "  print('calling foo()')\n",
    "  \n",
    "foo()\n",
    "foo()\n",
    "\n",
    "print('foo() was called {} times.'.format(foo.count))\n",
    "\n",
    "# <script.py> output:\n",
    "#     calling foo()\n",
    "#     calling foo()\n",
    "#     foo() was called 2 times."
   ]
  },
  {
   "cell_type": "markdown",
   "metadata": {
    "id": "SNN7cG-111sX"
   },
   "source": [
    "### Decorators and metadata"
   ]
  },
  {
   "cell_type": "code",
   "execution_count": null,
   "metadata": {},
   "outputs": [],
   "source": [
    "def sleep_n_seconds(n=10):\n",
    "    \"\"\"Pause processing for n seconds.\n",
    "    \n",
    "    Args:\n",
    "        n (int): The number of seconds to pause for.\n",
    "    \"\"\"\n",
    "    time.sleep(n)\n",
    "print(sleep_n_seconds.__doc__)\n",
    "\n",
    "# Pause processing for n seconds.\n",
    "#     Args:\n",
    "#         n (int): The number of seconds to pause for."
   ]
  },
  {
   "cell_type": "code",
   "execution_count": null,
   "metadata": {},
   "outputs": [],
   "source": [
    "def sleep_n_seconds(n=10):\n",
    "    \"\"\"Pause processing for n seconds.\n",
    "    \n",
    "    Args:\n",
    "        n (int): The number of seconds to pause for.\n",
    "    \"\"\"\n",
    "time.sleep(n)\n",
    "\n",
    "print(sleep_n_seconds.__name__)\n",
    "# sleep_n_seconds\n",
    "\n",
    "print(sleep_n_seconds.__defaults__)\n",
    "# (10,)"
   ]
  },
  {
   "cell_type": "code",
   "execution_count": null,
   "metadata": {},
   "outputs": [],
   "source": [
    "@timer\n",
    "def sleep_n_seconds(n=10):\n",
    "    \"\"\"Pause processing for n seconds.\n",
    "\n",
    "    Args:\n",
    "        n (int): The number of seconds to pause for.\n",
    "    \"\"\"\n",
    "time.sleep(n)\n",
    "print(sleep_n_seconds.__doc__)\n",
    "#nothing on output\n",
    "\n",
    "print(sleep_n_seconds.__name__)\n",
    "# wrapper"
   ]
  },
  {
   "cell_type": "markdown",
   "metadata": {},
   "source": [
    "The timer decorator"
   ]
  },
  {
   "cell_type": "code",
   "execution_count": null,
   "metadata": {},
   "outputs": [],
   "source": [
    "def timer(func):\n",
    "    \"\"\"A decorator that prints how long a function took to run.\"\"\"\n",
    "    def wrapper(*args, **kwargs):\n",
    "        t_start = time.time()\n",
    "        \n",
    "        result = func(*args, **kwargs)\n",
    "        \n",
    "        t_total = time.time() - t_start\n",
    "\n",
    "    print('{} took {}s'.format(func.__name__, t_total))\n",
    "    \n",
    "    return result\n",
    "\n",
    "return wrapper"
   ]
  },
  {
   "cell_type": "code",
   "execution_count": null,
   "metadata": {},
   "outputs": [],
   "source": [
    "from functools import wraps\n",
    "def timer(func):\n",
    "    \"\"\"A decorator that prints how long a function took to run.\"\"\"\n",
    "\n",
    "    @wraps(func)\n",
    "    def wrapper(*args, **kwargs):\n",
    "        \n",
    "        t_start = time.time()\n",
    "        \n",
    "        result = func(*args, **kwargs)\n",
    "        \n",
    "        t_total = time.time() - t_start\n",
    "        \n",
    "        print('{} took {}s'.format(func.__name__, t_total))\n",
    "        \n",
    "        return result\n",
    "    \n",
    "    return wrapper"
   ]
  },
  {
   "cell_type": "code",
   "execution_count": null,
   "metadata": {},
   "outputs": [],
   "source": [
    "@timer\n",
    "def sleep_n_seconds(n=10):\n",
    "    \"\"\"Pause processing for n seconds.\n",
    "    Args:\n",
    "        n (int): The number of seconds to pause for.\n",
    "    \"\"\"\n",
    "    time.sleep(n)\n",
    "    \n",
    "print(sleep_n_seconds.__doc__)\n",
    "# Pause processing for n seconds.\n",
    "# Args:\n",
    "#     n (int): The number of seconds to pause for."
   ]
  },
  {
   "cell_type": "code",
   "execution_count": null,
   "metadata": {},
   "outputs": [],
   "source": [
    "@timer\n",
    "def sleep_n_seconds(n=10):\n",
    "    \"\"\"Pause processing for n seconds.\n",
    "    Args:\n",
    "        n (int): The number of seconds to pause for.\n",
    "    \"\"\"\n",
    "    time.sleep(n)\n",
    "\n",
    "print(sleep_n_seconds.__name__)\n",
    "# sleep_n_seconds\n",
    "\n",
    "print(sleep_n_seconds.__defaults__)\n",
    "# (10,)"
   ]
  },
  {
   "cell_type": "markdown",
   "metadata": {},
   "source": [
    "Access to the original function"
   ]
  },
  {
   "cell_type": "code",
   "execution_count": null,
   "metadata": {},
   "outputs": [],
   "source": [
    "@timer\n",
    "def sleep_n_seconds(n=10):\n",
    "    \"\"\"Pause processing for n seconds.\n",
    "\n",
    "    Args:\n",
    "        n (int): The number of seconds to pause for.\n",
    "    \"\"\"\n",
    "    time.sleep(n)\n",
    "\n",
    "sleep_n_seconds.__wrapped__\n",
    "# <function sleep_n_seconds at 0x7f52cab44ae8>"
   ]
  },
  {
   "cell_type": "code",
   "execution_count": null,
   "metadata": {},
   "outputs": [],
   "source": [
    "#Example\n",
    "from functools import wraps\n",
    "\n",
    "def add_hello(func):\n",
    "  # Decorate wrapper() so that it keeps func()'s metadata\n",
    "  @wraps(func)\n",
    "  def wrapper(*args, **kwargs):\n",
    "    \"\"\"Print 'hello' and then call the decorated function.\"\"\"\n",
    "    print('Hello')\n",
    "    return func(*args, **kwargs)\n",
    "  return wrapper\n",
    "  \n",
    "@add_hello\n",
    "def print_sum(a, b):\n",
    "  \"\"\"Adds two numbers and prints the sum\"\"\"\n",
    "  print(a + b)\n",
    "  \n",
    "print_sum(10, 20)\n",
    "print_sum_docstring = print_sum.__doc__\n",
    "print(print_sum_docstring)"
   ]
  },
  {
   "cell_type": "code",
   "execution_count": null,
   "metadata": {},
   "outputs": [],
   "source": [
    "#Example\n",
    "@check_everything\n",
    "def duplicate(my_list):\n",
    "  \"\"\"Return a new list that repeats the input twice\"\"\"\n",
    "  return my_list + my_list\n",
    "\n",
    "t_start = time.time()\n",
    "duplicated_list = duplicate(list(range(50)))\n",
    "t_end = time.time()\n",
    "decorated_time = t_end - t_start\n",
    "\n",
    "t_start = time.time()\n",
    "# Call the original function instead of the decorated one\n",
    "duplicated_list = duplicate.__wrapped__(list(range(50)))\n",
    "t_end = time.time()\n",
    "undecorated_time = t_end - t_start\n",
    "\n",
    "print('Decorated time: {:.5f}s'.format(decorated_time))\n",
    "print('Undecorated time: {:.5f}s'.format(undecorated_time))\n",
    "\n",
    "# <script.py> output:\n",
    "#     Finished checking inputs\n",
    "#     Finished checking outputs\n",
    "#     Decorated time: 1.52937s\n",
    "#     Undecorated time: 0.00023s"
   ]
  },
  {
   "cell_type": "markdown",
   "metadata": {
    "id": "gOkyqS1o3Pgw"
   },
   "source": [
    "### Decorators that take arguments"
   ]
  },
  {
   "cell_type": "code",
   "execution_count": null,
   "metadata": {},
   "outputs": [],
   "source": [
    "def run_three_times(func):\n",
    "    def wrapper(*args, **kwargs):\n",
    "        for i in range(3):\n",
    "            func(*args, **kwargs)\n",
    "    return wrapper\n",
    "\n",
    "@run_three_times\n",
    "def print_sum(a, b):\n",
    "    print(a + b)\n",
    "print_sum(3, 5)\n",
    "# 8\n",
    "# 8\n",
    "# 8"
   ]
  },
  {
   "cell_type": "markdown",
   "metadata": {},
   "source": [
    "run_n_times()"
   ]
  },
  {
   "cell_type": "code",
   "execution_count": null,
   "metadata": {},
   "outputs": [],
   "source": [
    "#decorators are only supposed to run one argument (the function that is decorating)\n",
    "def run_n_times(func):\n",
    "    def wrapper(*args, **kwargs):\n",
    "    # How do we pass \"n\" into this function?\n",
    "        for i in range(???):\n",
    "            func(*args, **kwargs)\n",
    "    return wrapper\n",
    "\n",
    "@run_n_times(3)\n",
    "def print_sum(a, b):\n",
    "    print(a + b)\n",
    "\n",
    "@run_n_times(5)\n",
    "def print_hello():\n",
    "    print('Hello!')"
   ]
  },
  {
   "cell_type": "markdown",
   "metadata": {},
   "source": [
    "A decorator factory"
   ]
  },
  {
   "cell_type": "code",
   "execution_count": null,
   "metadata": {},
   "outputs": [],
   "source": [
    "def run_n_times(n):\n",
    "    \"\"\"Define and return a decorator\"\"\"\n",
    "    def decorator(func):\n",
    "        def wrapper(*args, **kwargs):\n",
    "            for i in range(n):\n",
    "                func(*args, **kwargs)\n",
    "        return wrapper\n",
    "    return decorator\n",
    "    \n",
    "@run_n_times(3)\n",
    "def print_sum(a, b):\n",
    "    print(a + b)"
   ]
  },
  {
   "cell_type": "code",
   "execution_count": null,
   "metadata": {},
   "outputs": [],
   "source": [
    "def run_n_times(n):\n",
    "    \"\"\"Define and return a decorator\"\"\"\n",
    "    def decorator(func):\n",
    "        def wrapper(*args, **kwargs):\n",
    "            for i in range(n):\n",
    "                func(*args, **kwargs)\n",
    "        return wrapper\n",
    "    return decorator\n",
    "run_three_times = run_n_times(3)\n",
    "\n",
    "@run_three_times\n",
    "def print_sum(a, b):\n",
    "    print(a + b)\n",
    "\n",
    "@run_n_times(3)\n",
    "def print_sum(a, b):\n",
    "    print(a + b)"
   ]
  },
  {
   "cell_type": "markdown",
   "metadata": {},
   "source": [
    "Using run_n_times()"
   ]
  },
  {
   "cell_type": "code",
   "execution_count": null,
   "metadata": {},
   "outputs": [],
   "source": [
    "@run_n_times(3)\n",
    "def print_sum(a, b):\n",
    "    print(a + b)\n",
    "print_sum(3, 5)\n",
    "# 8\n",
    "# 8\n",
    "# 8"
   ]
  },
  {
   "cell_type": "code",
   "execution_count": null,
   "metadata": {},
   "outputs": [],
   "source": [
    "@run_n_times(5)\n",
    "def print_hello():\n",
    "    print('Hello!')\n",
    "print_hello()\n",
    "# Hello!\n",
    "# Hello!\n",
    "# Hello!\n",
    "# Hello!\n",
    "# Hello!"
   ]
  },
  {
   "cell_type": "code",
   "execution_count": null,
   "metadata": {},
   "outputs": [],
   "source": [
    "#Example\n",
    "\n",
    "# Make print_sum() run 10 times with the run_n_times() decorator\n",
    "@run_n_times(10)\n",
    "def print_sum(a, b):\n",
    "  print(a + b)\n",
    "  \n",
    "print_sum(15, 20)\n",
    "\n",
    "# <script.py> output:\n",
    "#     35\n",
    "#     35\n",
    "#     35\n",
    "#     35\n",
    "#     35\n",
    "#     35\n",
    "#     35\n",
    "#     35\n",
    "#     35\n",
    "#     35\n",
    "\n",
    "# Use run_n_times() to create the run_five_times() decorator\n",
    "run_five_times = run_n_times(5)\n",
    "\n",
    "@run_five_times\n",
    "def print_sum(a, b):\n",
    "  print(a + b)\n",
    "  \n",
    "print_sum(4, 100)\n",
    "# <script.py> output:\n",
    "#     104\n",
    "#     104\n",
    "#     104\n",
    "#     104\n",
    "#     104\n",
    "\n",
    "# Modify the print() function to always run 20 times\n",
    "print = run_n_times(20)(print)\n",
    "\n",
    "# print('What is happening?!?!')\n",
    "# <script.py> output:\n",
    "#     What is happening?!?!\n",
    "#     What is happening?!?!\n",
    "#     What is happening?!?!\n",
    "#     What is happening?!?!\n",
    "#     What is happening?!?!\n",
    "#     What is happening?!?!\n",
    "#     What is happening?!?!\n",
    "#     What is happening?!?!\n",
    "#     What is happening?!?!\n",
    "#     What is happening?!?!\n",
    "#     What is happening?!?!\n",
    "#     What is happening?!?!\n",
    "#     What is happening?!?!\n",
    "#     What is happening?!?!\n",
    "#     What is happening?!?!\n",
    "#     What is happening?!?!\n",
    "#     What is happening?!?!\n",
    "#     What is happening?!?!\n",
    "#     What is happening?!?!\n",
    "#     What is happening?!?!"
   ]
  },
  {
   "cell_type": "code",
   "execution_count": null,
   "metadata": {},
   "outputs": [],
   "source": [
    "#Example\n",
    "def html(open_tag, close_tag):\n",
    "  def decorator(func):\n",
    "    @wraps(func)\n",
    "    def wrapper(*args, **kwargs):\n",
    "      msg = func(*args, **kwargs)\n",
    "      return '{}{}{}'.format(open_tag, msg, close_tag)\n",
    "    # Return the decorated function\n",
    "    return wrapper\n",
    "  # Return the decorator\n",
    "  return decorator\n",
    "\n",
    "# Make hello() return bolded text\n",
    "@html(\"<b>\", \"</b>\")\n",
    "def hello(name):\n",
    "  return 'Hello {}!'.format(name)\n",
    "  \n",
    "print(hello('Alice'))\n",
    "# <script.py> output:\n",
    "#     <b>Hello Alice!</b>\n",
    "\n",
    "\n",
    "# Make goodbye() return italicized text\n",
    "\n",
    "@html(\"<i>\", \"</i>\")\n",
    "def goodbye(name):\n",
    "  return 'Goodbye {}.'.format(name)\n",
    "  \n",
    "print(goodbye('Alice'))\n",
    "# <script.py> output:\n",
    "#     <i>Hello Alice!</i>\n",
    "\n",
    "\n",
    "# Wrap the result of hello_goodbye() in <div> and </div>\n",
    "@html(\"<div>\", \"</div>\")\n",
    "def hello_goodbye(name):\n",
    "  return '\\n{}\\n{}\\n'.format(hello(name), goodbye(name))\n",
    "  \n",
    "print(hello_goodbye('Alice'))\n",
    "\n",
    "# <script.py> output:\n",
    "#     <div>\n",
    "#     <b>Hello Alice!</b>\n",
    "#     <i>Goodbye Alice.</i>\n",
    "#     </div>"
   ]
  },
  {
   "cell_type": "markdown",
   "metadata": {
    "id": "1C5GNzz03Zgy"
   },
   "source": [
    "### Timeout(): a real world example"
   ]
  },
  {
   "cell_type": "markdown",
   "metadata": {},
   "source": [
    "Timeout"
   ]
  },
  {
   "cell_type": "code",
   "execution_count": null,
   "metadata": {},
   "outputs": [],
   "source": [
    "@timeout\n",
    "def function1():\n",
    "# This function sometimes\n",
    "# runs for a loooong time\n",
    "...\n",
    "@timeout\n",
    "def function2():\n",
    "# This function sometimes\n",
    "# hangs and doesn't return\n",
    "..."
   ]
  },
  {
   "cell_type": "markdown",
   "metadata": {},
   "source": [
    "Timeout - background info"
   ]
  },
  {
   "cell_type": "code",
   "execution_count": null,
   "metadata": {},
   "outputs": [],
   "source": [
    "import signal\n",
    "def raise_timeout(*args, **kwargs):\n",
    "    raise TimeoutError()\n",
    "    \n",
    "# When an \"alarm\" signal goes off, call raise_timeout()\n",
    "signal.signal(signalnum=signal.SIGALRM, handler=raise_timeout)\n",
    "\n",
    "# Set off an alarm in 5 seconds\n",
    "signal.alarm(5)\n",
    "\n",
    "# Cancel the alarm\n",
    "signal.alarm(0)"
   ]
  },
  {
   "cell_type": "code",
   "execution_count": null,
   "metadata": {},
   "outputs": [],
   "source": [
    "def timeout_in_5s(func):\n",
    "    @wraps(func)\n",
    "    def wrapper(*args, **kwargs):\n",
    "        # Set an alarm for 5 seconds\n",
    "        signal.alarm(5)\n",
    "        try:\n",
    "            # Call the decorated func\n",
    "            return func(*args, **kwargs)\n",
    "        finally:\n",
    "            # Cancel alarm\n",
    "            signal.alarm(0)\n",
    "    return wrapper"
   ]
  },
  {
   "cell_type": "code",
   "execution_count": null,
   "metadata": {},
   "outputs": [],
   "source": [
    "@timeout_in_5s\n",
    "def foo():\n",
    "    time.sleep(10)\n",
    "    print('foo!')\n",
    "\n",
    "foo()\n",
    "# TimeoutError"
   ]
  },
  {
   "cell_type": "code",
   "execution_count": null,
   "metadata": {},
   "outputs": [],
   "source": [
    "def timeout(n_seconds):\n",
    "    def decorator(func):\n",
    "        @wraps(func)\n",
    "        def wrapper(*args, **kwargs):\n",
    "            # Set an alarm for n seconds\n",
    "            signal.alarm(n_seconds)\n",
    "            try:\n",
    "                # Call the decorated func\n",
    "                return func(*args, **kwargs)\n",
    "            finally:\n",
    "                # Cancel alarm\n",
    "                signal.alarm(0)\n",
    "        return wrapper\n",
    "    return decorator"
   ]
  },
  {
   "cell_type": "code",
   "execution_count": null,
   "metadata": {},
   "outputs": [],
   "source": [
    "@timeout(5)\n",
    "def foo():\n",
    "    time.sleep(10)\n",
    "    print('foo!')\n",
    "    \n",
    "@timeout(20)\n",
    "def bar():\n",
    "    time.sleep(10)\n",
    "    print('bar!')\n",
    "foo()\n",
    "# TimeoutError\n",
    "bar() #alarm gets canceled\n",
    "# bar!"
   ]
  },
  {
   "cell_type": "code",
   "execution_count": null,
   "metadata": {},
   "outputs": [],
   "source": [
    "#Example\n",
    "def tag(*tags):\n",
    "  # Define a new decorator, named \"decorator\", to return\n",
    "  def decorator(func):\n",
    "    # Ensure the decorated function keeps its metadata\n",
    "    @wraps(func)\n",
    "    def wrapper(*args, **kwargs):\n",
    "      # Call the function being decorated and return the result\n",
    "      return func(*args, **kwargs)\n",
    "    wrapper.tags = tags\n",
    "    return wrapper\n",
    "  # Return the new decorator\n",
    "  return decorator\n",
    "\n",
    "@tag('test', 'this is a tag')\n",
    "def foo():\n",
    "  pass\n",
    "\n",
    "print(foo.tags)\n",
    "\n",
    "# <script.py> output:\n",
    "#     ('test', 'this is a tag')"
   ]
  },
  {
   "cell_type": "code",
   "execution_count": null,
   "metadata": {},
   "outputs": [],
   "source": [
    "#Example\n",
    "def returns_dict(func):\n",
    "  # Complete the returns_dict() decorator\n",
    "  def wrapper(result):\n",
    "    result = AssertionError\n",
    "    assert type(result) == dict\n",
    "    return result\n",
    "  return wrapper\n",
    "  \n",
    "@returns_dict\n",
    "def foo(value):\n",
    "  return value\n",
    "\n",
    "try:\n",
    "  print(foo([1,2,3]))\n",
    "except AssertionError:\n",
    "  print('foo() did not return a dict!')\n",
    "  \n",
    "# <script.py> output:\n",
    "#     foo() did not return a dict!\n",
    "\n",
    "def returns(return_type):\n",
    "  # Complete the returns() decorator\n",
    "  def decorator(result):\n",
    "    def wrapper(result):\n",
    "      result = AssertionError\n",
    "      assert type(result) == return_type\n",
    "      return result\n",
    "    return wrapper\n",
    "  return decorator\n",
    "  \n",
    "@returns(dict)\n",
    "def foo(value):\n",
    "  return value\n",
    "\n",
    "try:\n",
    "  print(foo([1,2,3]))\n",
    "except AssertionError:\n",
    "  print('foo() did not return a dict!')\n",
    "# <script.py> output:\n",
    "#     foo() did not return a dict!"
   ]
  },
  {
   "cell_type": "markdown",
   "metadata": {},
   "source": [
    "### Great job! "
   ]
  },
  {
   "cell_type": "markdown",
   "metadata": {},
   "source": [
    "Chapter 1 - Best Practices\n",
    "- Docstrings\n",
    "- DRY and Do One Thing\n",
    "- Pass by assignment (mutable vs immutable)"
   ]
  },
  {
   "cell_type": "markdown",
   "metadata": {},
   "source": [
    "Chapter 2 - Context Managers"
   ]
  },
  {
   "cell_type": "code",
   "execution_count": null,
   "metadata": {},
   "outputs": [],
   "source": [
    "with my_context_manager() as value:\n",
    "# do something\n",
    "\n",
    "@contextlib.contextmanager\n",
    "def my_function():\n",
    "    # this function can be used in a \"with\" statement now"
   ]
  },
  {
   "cell_type": "markdown",
   "metadata": {},
   "source": [
    "Chapter 3 - Decorators"
   ]
  },
  {
   "cell_type": "code",
   "execution_count": null,
   "metadata": {},
   "outputs": [],
   "source": [
    "@my_decorator\n",
    "def my_decorated_function():\n",
    "    # do something\n",
    "\n",
    "def my_decorator(func):\n",
    "    def wrapper(*ars, **kwargs):\n",
    "        return func(*args, **kwargs)\n",
    "    return wrapper"
   ]
  },
  {
   "cell_type": "markdown",
   "metadata": {},
   "source": [
    "Chapter 4 - More on Decorators"
   ]
  },
  {
   "cell_type": "code",
   "execution_count": null,
   "metadata": {},
   "outputs": [],
   "source": [
    "def my_decorator(func):\n",
    "    @functools.wraps(func)\n",
    "    def wrapper(*ars, **kwargs):\n",
    "        return func(*args, **kwargs)\n",
    "    return wrapper"
   ]
  },
  {
   "cell_type": "code",
   "execution_count": null,
   "metadata": {},
   "outputs": [],
   "source": [
    "def decorator_that_takes_args(a, b, c):\n",
    "    def decorator(func):\n",
    "        @functools.wraps(func)\n",
    "        def wrapper(*args, **kwargs):\n",
    "            return func(*args, **kwargs)\n",
    "        return wrapper\n",
    "    return decorator"
   ]
  },
  {
   "cell_type": "code",
   "execution_count": null,
   "metadata": {},
   "outputs": [],
   "source": []
  },
  {
   "cell_type": "code",
   "execution_count": null,
   "metadata": {},
   "outputs": [],
   "source": []
  },
  {
   "cell_type": "code",
   "execution_count": null,
   "metadata": {},
   "outputs": [],
   "source": []
  }
 ],
 "metadata": {
  "colab": {
   "name": "[DC] Python Programming Track",
   "provenance": [],
   "toc_visible": true
  },
  "hide_input": false,
  "kernelspec": {
   "display_name": "Python 3 (ipykernel)",
   "language": "python",
   "name": "python3"
  },
  "language_info": {
   "codemirror_mode": {
    "name": "ipython",
    "version": 3
   },
   "file_extension": ".py",
   "mimetype": "text/x-python",
   "name": "python",
   "nbconvert_exporter": "python",
   "pygments_lexer": "ipython3",
   "version": "3.10.0"
  },
  "toc": {
   "base_numbering": 1,
   "nav_menu": {},
   "number_sections": true,
   "sideBar": true,
   "skip_h1_title": false,
   "title_cell": "Table of Contents",
   "title_sidebar": "Contents",
   "toc_cell": false,
   "toc_position": {
    "height": "calc(100% - 180px)",
    "left": "10px",
    "top": "150px",
    "width": "301.766px"
   },
   "toc_section_display": true,
   "toc_window_display": true
  },
  "varInspector": {
   "cols": {
    "lenName": 16,
    "lenType": 16,
    "lenVar": 40
   },
   "kernels_config": {
    "python": {
     "delete_cmd_postfix": "",
     "delete_cmd_prefix": "del ",
     "library": "var_list.py",
     "varRefreshCmd": "print(var_dic_list())"
    },
    "r": {
     "delete_cmd_postfix": ") ",
     "delete_cmd_prefix": "rm(",
     "library": "var_list.r",
     "varRefreshCmd": "cat(var_dic_list()) "
    }
   },
   "types_to_exclude": [
    "module",
    "function",
    "builtin_function_or_method",
    "instance",
    "_Feature"
   ],
   "window_display": false
  }
 },
 "nbformat": 4,
 "nbformat_minor": 1
}
